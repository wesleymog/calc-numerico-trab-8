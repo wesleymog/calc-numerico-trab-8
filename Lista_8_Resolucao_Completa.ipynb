{
 "cells": [
  {
   "cell_type": "markdown",
   "metadata": {},
   "source": [
    "# Resolução lista 8: Métodos Iterativos para Sistema Lineares e Redução de Dados\n"
   ]
  },
  {
   "cell_type": "markdown",
   "metadata": {},
   "source": [
    "## Exercício 1\n",
    "\n",
    "As 3 funções abaixo foram incluídas na biblioteca de funções do grupo:\n",
    "\n",
    "  `- COMPRESSÃO`  \n",
    "  `- GAUSS-JACOBI`  \n",
    "  `- GAUSS-SEIDEL`\n",
    "\n",
    "Como as mesmas são utilizadas no decorrer da resolução de outras questões da lista, optamos por deixar o código das funções neste notebook também."
   ]
  },
  {
   "cell_type": "code",
   "execution_count": 1,
   "metadata": {},
   "outputs": [],
   "source": [
    "import Pkg; \n",
    "\n",
    "Pkg.add(\"Images\")\n",
    "\n",
    "using LinearAlgebra\n",
    "using Images\n",
    "using Printf\n",
    "using Plots"
   ]
  },
  {
   "cell_type": "markdown",
   "metadata": {},
   "source": [
    "### Função Compressão"
   ]
  },
  {
   "cell_type": "code",
   "execution_count": 2,
   "metadata": {},
   "outputs": [
    {
     "data": {
      "text/plain": [
       "compressao (generic function with 1 method)"
      ]
     },
     "execution_count": 2,
     "metadata": {},
     "output_type": "execute_result"
    }
   ],
   "source": [
    "\"\"\"\n",
    "RESUMO: É um método que dada uma matriz A, diminuirmos o tamanho delas através do cálculo de valores de c\n",
    "        respeitando o modelo A = A-b*c', para conseguir várias matrizes até o posto desejado pelo usuário.\n",
    "ENTRADA: matriz A e o nível de compressão\n",
    "SAIDA: matriz B e matriz C\n",
    "\"\"\"\n",
    "# Retorna a melhor coordenada, tal que norm(A-b*c') é mínima\n",
    "function melhores_coords(A,b) #retorna c tal que norm(A-b*c') é mínima\n",
    "    m,n=size(A)\n",
    "    A=1.0*A\n",
    "    c=zeros(n,1)\n",
    "    c=A'*(b/(b'*b))\n",
    "    return c\n",
    "end\n",
    "\n",
    "# Faz cálculo b, c através das melhores coordenadas\n",
    "function calculo_cb(A; limite = 22)\n",
    "    n,m=size(A)\n",
    "\n",
    "    b=randn(n,1)\n",
    "    c=randn(m,1)\n",
    "    \n",
    "    btemp=randn(m,1)\n",
    "    ctemp=randn(n,1)\n",
    "    \n",
    "    for i=1:limite\n",
    "        c=melhores_coords(A,b)\n",
    "        btemp=c\n",
    "        ctemp=melhores_coords(A',btemp)\n",
    "        b=ctemp\n",
    "    end\n",
    "    \n",
    "    return b,c\n",
    "end\n",
    "\n",
    "# Função compressão\n",
    "function compressao(A,nivel)\n",
    "    m,n=size(A)\n",
    "    B=zeros(m,nivel)\n",
    "    C=zeros(n,nivel)\n",
    "    \n",
    "    for i=1:nivel\n",
    "        B[:,i],C[:,i]=calculo_cb(A)\n",
    "        A=A-B[:,i]*C[:,i]'\n",
    "    end\n",
    "    return B,C\n",
    "end"
   ]
  },
  {
   "cell_type": "code",
   "execution_count": 3,
   "metadata": {},
   "outputs": [
    {
     "name": "stdout",
     "output_type": "stream",
     "text": [
      "O erro é de 1.447596296972935e-14"
     ]
    }
   ],
   "source": [
    "#Exemplo 1\n",
    "A = [1 2 1 11 101 2 10; 1 2 2 12 102 3  20;1 2 3 13 103 4 30]\n",
    "B, C =compressao(A, 2)\n",
    "print(\"O erro é de $(norm(A-B*C'))\")"
   ]
  },
  {
   "cell_type": "code",
   "execution_count": 4,
   "metadata": {},
   "outputs": [
    {
     "name": "stdout",
     "output_type": "stream",
     "text": [
      "O erro é de 2.5680492922932105e-14"
     ]
    }
   ],
   "source": [
    "#Exemplo 2\n",
    "A = [22 17 15 12 100 120;44 18 30 13 120 100;66 19 45 14 150 90]\n",
    "B,C = compressao(A, 3)\n",
    "print(\"O erro é de $(norm(A-B*C'))\")"
   ]
  },
  {
   "cell_type": "code",
   "execution_count": 5,
   "metadata": {},
   "outputs": [
    {
     "name": "stdout",
     "output_type": "stream",
     "text": [
      "O erro é de 2.808666774861361e-15"
     ]
    }
   ],
   "source": [
    "#Exemplo 3\n",
    "A = [3.0 6.0 9.0 12.0 15.0; 6.0 7.0 8.0 9.0 10.0; 10.0 20.0 30.0 40.0 50.0; 12.0 13.0 14.0 15.0 16.0]\n",
    "B,C = compressao(A, 2)\n",
    "print(\"O erro é de $(norm(A-B*C'))\")"
   ]
  },
  {
   "cell_type": "code",
   "execution_count": 6,
   "metadata": {},
   "outputs": [
    {
     "data": {
      "text/plain": [
       "3"
      ]
     },
     "execution_count": 6,
     "metadata": {},
     "output_type": "execute_result"
    }
   ],
   "source": [
    "A = rand(1:100, 5,3)\n",
    "rank(A)"
   ]
  },
  {
   "cell_type": "markdown",
   "metadata": {},
   "source": [
    "### Função Gauss-Jacobi"
   ]
  },
  {
   "cell_type": "code",
   "execution_count": 7,
   "metadata": {},
   "outputs": [
    {
     "data": {
      "text/plain": [
       "gauss_jacobi"
      ]
     },
     "execution_count": 7,
     "metadata": {},
     "output_type": "execute_result"
    }
   ],
   "source": [
    "\"\"\"\n",
    "RESUMO: É um método iterativo para resolução de sistemas de equações lineares de forma Ax = b.\n",
    "        Tem como condição suficiente de convergência que a matriz seja estritamente diagonal dominante.\n",
    "        Converge para matrizes diagonais dominantes.\n",
    "ENTRADA:Uma matriz A e uma matriz b\n",
    "SAIDA: uma matriz x, com o resultado da equação linear\n",
    "\"\"\"\n",
    "function gauss_jacobi(A,b; limite= 400)\n",
    "    n,m=size(A)\n",
    "    M=Diagonal(A) #Pegando a Diagonal de A\n",
    "    K=M-A  #Quebrando a matriz A em M -K, sendo M, a sua diagonal, pois essa é mais barata de se calcular\n",
    "    R=inv(M)*K \n",
    "    c=inv(M)*b\n",
    "    \n",
    "    x=zeros(n,1) #Chute inicial\n",
    "    for i=1:limite\n",
    "        x=R*x+c\n",
    "    end\n",
    "    \n",
    "    return x\n",
    "end"
   ]
  },
  {
   "cell_type": "code",
   "execution_count": 8,
   "metadata": {},
   "outputs": [
    {
     "data": {
      "text/plain": [
       "1.0658141036401503e-14"
      ]
     },
     "execution_count": 8,
     "metadata": {},
     "output_type": "execute_result"
    }
   ],
   "source": [
    "#Exemplo 1\n",
    "A = [10.0 2.0 3.0;4.5 15.0 12.5;10 15 35]\n",
    "x = [15;11;20]\n",
    "b = A*x\n",
    "x_final = gauss_jacobi(A,b)\n",
    "norm(x - x_final)"
   ]
  },
  {
   "cell_type": "code",
   "execution_count": 9,
   "metadata": {},
   "outputs": [
    {
     "name": "stdout",
     "output_type": "stream",
     "text": [
      "O valor de x original era [27, 1, 21] \n",
      "O valor do x encontrado foi [26.999999999999986; 1.0; 20.999999999999993] \n",
      "O erro é próximo de 1.5888218580782548e-14"
     ]
    }
   ],
   "source": [
    "#Exemplo 2\n",
    "A = [27.0 15.0 18.0;21.5 45.45 10.1;11 75 105]\n",
    "x = [27;1;21]\n",
    "b = A*x\n",
    "x_final = gauss_jacobi(A,b)\n",
    "print(\"O valor de x original era $x \\nO valor do x encontrado foi $x_final \\nO erro é próximo de $(norm(x - x_final))\")"
   ]
  },
  {
   "cell_type": "code",
   "execution_count": 10,
   "metadata": {},
   "outputs": [
    {
     "name": "stdout",
     "output_type": "stream",
     "text": [
      "O valor de x original era [27, 11, 1] \n",
      "O valor do x encontrado foi [26.999999999999993; 10.999999999999998; 1.0] \n",
      "O erro é próximo de 7.32410687763558e-15"
     ]
    }
   ],
   "source": [
    "#Exemplo 3\n",
    "A = [44.001 77.12 28.0;2.5 79.002 3.7;11.01 110.10 22.1]\n",
    "x = [27;11;1]\n",
    "b = A*x\n",
    "x_final = gauss_jacobi(A,b)\n",
    "print(\"O valor de x original era $x \\nO valor do x encontrado foi $x_final \\nO erro é próximo de $(norm(x - x_final))\")"
   ]
  },
  {
   "cell_type": "markdown",
   "metadata": {},
   "source": [
    "### Função Gauss-Seidel"
   ]
  },
  {
   "cell_type": "code",
   "execution_count": 11,
   "metadata": {},
   "outputs": [
    {
     "data": {
      "text/plain": [
       "gauss_seidel"
      ]
     },
     "execution_count": 11,
     "metadata": {},
     "output_type": "execute_result"
    }
   ],
   "source": [
    "\"\"\"\n",
    "RESUMO: É um método iterativo para resolução de sistemas de equações lineares. \n",
    "        Tem como condição suficiente de convergência que a matriz seja estritamente diagonal dominante.\n",
    "ENTRADA:Uma matriz A e uma matriz b\n",
    "SAIDA: uma matriz x, com o resultado da equação linear\n",
    "\"\"\"\n",
    "function gauss_seidel(A,b; limite=400)\n",
    "    n,m=size(A)\n",
    "    M=UpperTriangular(A) #Calculando o triangular superior e salvando em M\n",
    "    K=M-A     \n",
    "    #Quebrando a matriz A em M -K, sendo M, a sua triangular superior, pois essa é mais barata de se calcular\n",
    "    R=inv(M)*K\n",
    "    c=inv(M)*b\n",
    "    \n",
    "    x=zeros(n,1) #chute inicial\n",
    "    for i=1:limite\n",
    "        x=R*x+c \n",
    "    end\n",
    "    \n",
    "    return x\n",
    "end"
   ]
  },
  {
   "cell_type": "code",
   "execution_count": 12,
   "metadata": {},
   "outputs": [
    {
     "name": "stdout",
     "output_type": "stream",
     "text": [
      "O valor de x original era [5, 6, 7] \n",
      "O valor do x encontrado foi [5.0; 5.999999999999999; 7.0] \n",
      "O erro é próximo de 8.881784197001252e-16"
     ]
    }
   ],
   "source": [
    "#Exemplo 1\n",
    "A = [15.0 1.8 1.0;1.5 25.15 11.1;0.01 55 75]\n",
    "x = [5;6;7]\n",
    "b = A*x\n",
    "x_final = gauss_seidel(A,b)\n",
    "print(\"O valor de x original era $x \\nO valor do x encontrado foi $x_final \\nO erro é próximo de $(norm(x - x_final))\")"
   ]
  },
  {
   "cell_type": "code",
   "execution_count": 13,
   "metadata": {},
   "outputs": [
    {
     "name": "stdout",
     "output_type": "stream",
     "text": [
      "O valor de x original era [0.2466882737692705; -0.12875819660426502; 0.18301601368525716; -0.8693986533524823] \n",
      "O valor do x encontrado foi [0.24668827376927058; -0.12875819660426502; 0.18301601368525677; -0.869398653352484] \n",
      "O erro é próximo de 1.7120938570526363e-15"
     ]
    }
   ],
   "source": [
    "#Exemplo 2\n",
    "A = [15.58158 -1.622 1.1196 0.613; 1.250 3.420 -0.662 0.1446; 1.5964 0.571137 5.13785854 -0.827872; 1.07690677 0.19946388 1.003 -0.18519343]\n",
    "x = randn(4,1)\n",
    "b = A*x\n",
    "x_final = gauss_seidel(A,b)\n",
    "print(\"O valor de x original era $x \\nO valor do x encontrado foi $x_final \\nO erro é próximo de $(norm(x - x_final))\")"
   ]
  },
  {
   "cell_type": "code",
   "execution_count": 14,
   "metadata": {},
   "outputs": [
    {
     "name": "stdout",
     "output_type": "stream",
     "text": [
      "O valor de x original era [-0.04343778216875846, -1.1871517960515228, 0.9565556126856019, -0.6580960721098263] \n",
      "O valor do x encontrado foi [-0.04343778216875849; -1.1871517960515228; 0.9565556126856025; -0.6580960721098268] \n",
      "O erro é próximo de 8.010741897413915e-16"
     ]
    }
   ],
   "source": [
    "#Exemplo 3\n",
    "A = [0.44232843419610957 0.975168270793521 0.4057316291542512 0.43141972827505626; 0.05176629292410739 0.6326306259870371 0.17408718829624203 0.216193281992759; 0.4930982825005519 0.8217543935748945 0.9028708230733111 0.5851496265616856; 0.4336333792828273 0.03710455313190231 0.5436617314521639 0.8655115805195281]\n",
    "x = [-0.04343778216875846; -1.1871517960515228; 0.9565556126856019; -0.6580960721098263]\n",
    "b = A*x\n",
    "x_final = gauss_seidel(A,b)\n",
    "print(\"O valor de x original era $x \\nO valor do x encontrado foi $x_final \\nO erro é próximo de $(norm(x - x_final))\")"
   ]
  },
  {
   "cell_type": "markdown",
   "metadata": {},
   "source": [
    "## Exercício 2"
   ]
  },
  {
   "cell_type": "code",
   "execution_count": 15,
   "metadata": {},
   "outputs": [],
   "source": [
    "gr(size =(600,400) )\n",
    "plot(rand(1), rand(1))\n",
    "scatter!(rand(1), rand(1))\n",
    "nothing"
   ]
  },
  {
   "cell_type": "code",
   "execution_count": 16,
   "metadata": {},
   "outputs": [
    {
     "data": {
      "text/plain": [
       "gauss_jacobi_com_erro (generic function with 1 method)"
      ]
     },
     "execution_count": 16,
     "metadata": {},
     "output_type": "execute_result"
    }
   ],
   "source": [
    "\"\"\"\n",
    "Sabendo que { 2x₁ + x₂ = 2; −x₁ + 2x₂ = 2}, pode ser escrito como A = [2 1;-1 2] e b = [2;2]\n",
    "\"\"\"\n",
    "function gauss_seidel_com_erro(A,b; max_iter=1000, ϵ = 1e-3)\n",
    "    n,m=size(A)\n",
    "    x1s = []\n",
    "    x2s = []\n",
    "    M=UpperTriangular(A) #Calculando o triangular superior e salvando em M\n",
    "    K=M-A     \n",
    "    #Quebrando a matriz A em M -K, sendo M, a sua triangular superior, pois essa é mais barata de se calcular\n",
    "    R=inv(M)*K\n",
    "    c=inv(M)*b\n",
    "    x=zeros(n,1) #chute inicial\n",
    "    x=R*x+c\n",
    "    x_anterior = x\n",
    "    append!(x1s, x[1])\n",
    "    append!(x2s, x[2])\n",
    "    x=R*x+c \n",
    "    iter =0 \n",
    "    resolvido = (abs(norm(x-x_anterior)) ≤ ϵ)\n",
    "    cansado = (iter ≥ max_iter)\n",
    "    while !(resolvido || cansado) \n",
    "        x_anterior = x\n",
    "        append!(x1s, x[1])\n",
    "        append!(x2s, x[2])\n",
    "        x=R*x+c \n",
    "        iter +=1\n",
    "        #print(x, \"\\n\", x_anterior)\n",
    "        resolvido = (abs(norm(x-x_anterior)) ≤ ϵ)\n",
    "        cansado = (iter ≥ max_iter)\n",
    "        \n",
    "    end\n",
    "    print(\"O erro final ficou em $(abs(norm(x-x_anterior)))\\n\")\n",
    "    print(\"O resultado final ficou em $x\\n\")\n",
    "    return x1s, x2s\n",
    "end\n",
    "\n",
    "function gauss_jacobi_com_erro(A,b; max_iter=1000, ϵ = 1e-3)\n",
    "    n,m=size(A)\n",
    "    x1s = []\n",
    "    x2s = []\n",
    "    M=Diagonal(A) #Calculando o triangular superior e salvando em M\n",
    "    K=M-A     \n",
    "    #Quebrando a matriz A em M -K, sendo M, a sua triangular superior, pois essa é mais barata de se calcular\n",
    "    R=inv(M)*K\n",
    "    c=inv(M)*b\n",
    "    x=zeros(n,1) #chute inicial\n",
    "    x=R*x+c\n",
    "    x_anterior = x\n",
    "    append!(x1s, x[1])\n",
    "    append!(x2s, x[2])\n",
    "    x=R*x+c \n",
    "    iter =0 \n",
    "    resolvido = (abs(norm(x-x_anterior)) ≤ ϵ)\n",
    "    cansado = (iter ≥ max_iter)\n",
    "    while !(resolvido || cansado) \n",
    "        x_anterior = x\n",
    "        append!(x1s, x[1])\n",
    "        append!(x2s, x[2])\n",
    "        x=R*x+c \n",
    "        iter +=1\n",
    "        #print(x, \"\\n\", x_anterior)\n",
    "        resolvido = (abs(norm(x-x_anterior)) ≤ ϵ)\n",
    "        cansado = (iter ≥ max_iter)\n",
    "        \n",
    "    end\n",
    "    print(\"O erro final ficou em $(abs(norm(x-x_anterior)))\\n\")\n",
    "    print(\"O resultado final ficou em $x\\n\")\n",
    "    return x1s, x2s\n",
    "end"
   ]
  },
  {
   "cell_type": "code",
   "execution_count": 17,
   "metadata": {},
   "outputs": [
    {
     "name": "stdout",
     "output_type": "stream",
     "text": [
      "GAUSS_SEIDEL\n",
      "O erro final ficou em 0.0002729575167846423\n",
      "O resultado final ficou em [0.4000244140625; 1.199951171875]\n",
      "\n",
      "GAUSS_JACOBI\n",
      "O erro final ficou em 0.0006905339660024879\n",
      "O resultado final ficou em [0.39990234375; 1.19970703125]\n",
      "\n"
     ]
    }
   ],
   "source": [
    "A = [2 1;-1 2] \n",
    "b = [2;2]\n",
    "print(\"GAUSS_SEIDEL\\n\")\n",
    "X_seidel,Y_seidel = gauss_seidel_com_erro(A,b)\n",
    "X_seidel = X_seidel*1.0\n",
    "Y_seidel = Y_seidel*1.0\n",
    "print(\"\\nGAUSS_JACOBI\\n\")\n",
    "X_jacobi,Y_jacobi = gauss_jacobi_com_erro(A,b)\n",
    "X_jacobi = X_jacobi*1.0\n",
    "Y_jacobi = Y_jacobi*1.0\n",
    "print(\"\\n\")"
   ]
  },
  {
   "cell_type": "code",
   "execution_count": 18,
   "metadata": {},
   "outputs": [
    {
     "data": {
      "image/svg+xml": [
       "<?xml version=\"1.0\" encoding=\"utf-8\"?>\n",
       "<svg xmlns=\"http://www.w3.org/2000/svg\" xmlns:xlink=\"http://www.w3.org/1999/xlink\" width=\"600\" height=\"400\" viewBox=\"0 0 2400 1600\">\n",
       "<defs>\n",
       "  <clipPath id=\"clip150\">\n",
       "    <rect x=\"0\" y=\"0\" width=\"2400\" height=\"1600\"/>\n",
       "  </clipPath>\n",
       "</defs>\n",
       "<path clip-path=\"url(#clip150)\" d=\"\n",
       "M0 1600 L2400 1600 L2400 0 L0 0  Z\n",
       "  \" fill=\"#ffffff\" fill-rule=\"evenodd\" fill-opacity=\"1\"/>\n",
       "<defs>\n",
       "  <clipPath id=\"clip151\">\n",
       "    <rect x=\"480\" y=\"0\" width=\"1681\" height=\"1600\"/>\n",
       "  </clipPath>\n",
       "</defs>\n",
       "<path clip-path=\"url(#clip150)\" d=\"\n",
       "M184.191 1486.45 L2352.76 1486.45 L2352.76 123.472 L184.191 123.472  Z\n",
       "  \" fill=\"#ffffff\" fill-rule=\"evenodd\" fill-opacity=\"1\"/>\n",
       "<defs>\n",
       "  <clipPath id=\"clip152\">\n",
       "    <rect x=\"184\" y=\"123\" width=\"2170\" height=\"1364\"/>\n",
       "  </clipPath>\n",
       "</defs>\n",
       "<polyline clip-path=\"url(#clip152)\" style=\"stroke:#000000; stroke-width:2; stroke-opacity:0.1; fill:none\" points=\"\n",
       "  430.919,1486.45 430.919,123.472 \n",
       "  \"/>\n",
       "<polyline clip-path=\"url(#clip152)\" style=\"stroke:#000000; stroke-width:2; stroke-opacity:0.1; fill:none\" points=\"\n",
       "  722.243,1486.45 722.243,123.472 \n",
       "  \"/>\n",
       "<polyline clip-path=\"url(#clip152)\" style=\"stroke:#000000; stroke-width:2; stroke-opacity:0.1; fill:none\" points=\"\n",
       "  1013.57,1486.45 1013.57,123.472 \n",
       "  \"/>\n",
       "<polyline clip-path=\"url(#clip152)\" style=\"stroke:#000000; stroke-width:2; stroke-opacity:0.1; fill:none\" points=\"\n",
       "  1304.89,1486.45 1304.89,123.472 \n",
       "  \"/>\n",
       "<polyline clip-path=\"url(#clip152)\" style=\"stroke:#000000; stroke-width:2; stroke-opacity:0.1; fill:none\" points=\"\n",
       "  1596.21,1486.45 1596.21,123.472 \n",
       "  \"/>\n",
       "<polyline clip-path=\"url(#clip152)\" style=\"stroke:#000000; stroke-width:2; stroke-opacity:0.1; fill:none\" points=\"\n",
       "  1887.53,1486.45 1887.53,123.472 \n",
       "  \"/>\n",
       "<polyline clip-path=\"url(#clip152)\" style=\"stroke:#000000; stroke-width:2; stroke-opacity:0.1; fill:none\" points=\"\n",
       "  2178.86,1486.45 2178.86,123.472 \n",
       "  \"/>\n",
       "<polyline clip-path=\"url(#clip150)\" style=\"stroke:#000000; stroke-width:4; stroke-opacity:1; fill:none\" points=\"\n",
       "  184.191,1486.45 2352.76,1486.45 \n",
       "  \"/>\n",
       "<polyline clip-path=\"url(#clip150)\" style=\"stroke:#000000; stroke-width:4; stroke-opacity:1; fill:none\" points=\"\n",
       "  430.919,1486.45 430.919,1470.09 \n",
       "  \"/>\n",
       "<polyline clip-path=\"url(#clip150)\" style=\"stroke:#000000; stroke-width:4; stroke-opacity:1; fill:none\" points=\"\n",
       "  722.243,1486.45 722.243,1470.09 \n",
       "  \"/>\n",
       "<polyline clip-path=\"url(#clip150)\" style=\"stroke:#000000; stroke-width:4; stroke-opacity:1; fill:none\" points=\"\n",
       "  1013.57,1486.45 1013.57,1470.09 \n",
       "  \"/>\n",
       "<polyline clip-path=\"url(#clip150)\" style=\"stroke:#000000; stroke-width:4; stroke-opacity:1; fill:none\" points=\"\n",
       "  1304.89,1486.45 1304.89,1470.09 \n",
       "  \"/>\n",
       "<polyline clip-path=\"url(#clip150)\" style=\"stroke:#000000; stroke-width:4; stroke-opacity:1; fill:none\" points=\"\n",
       "  1596.21,1486.45 1596.21,1470.09 \n",
       "  \"/>\n",
       "<polyline clip-path=\"url(#clip150)\" style=\"stroke:#000000; stroke-width:4; stroke-opacity:1; fill:none\" points=\"\n",
       "  1887.53,1486.45 1887.53,1470.09 \n",
       "  \"/>\n",
       "<polyline clip-path=\"url(#clip150)\" style=\"stroke:#000000; stroke-width:4; stroke-opacity:1; fill:none\" points=\"\n",
       "  2178.86,1486.45 2178.86,1470.09 \n",
       "  \"/>\n",
       "<path clip-path=\"url(#clip150)\" d=\"M 0 0 M393.269 1515.64 Q389.658 1515.64 387.829 1519.2 Q386.024 1522.75 386.024 1529.87 Q386.024 1536.98 387.829 1540.55 Q389.658 1544.09 393.269 1544.09 Q396.903 1544.09 398.709 1540.55 Q400.538 1536.98 400.538 1529.87 Q400.538 1522.75 398.709 1519.2 Q396.903 1515.64 393.269 1515.64 M393.269 1511.93 Q399.079 1511.93 402.135 1516.54 Q405.214 1521.12 405.214 1529.87 Q405.214 1538.6 402.135 1543.21 Q399.079 1547.79 393.269 1547.79 Q387.459 1547.79 384.38 1543.21 Q381.325 1538.6 381.325 1529.87 Q381.325 1521.12 384.38 1516.54 Q387.459 1511.93 393.269 1511.93 Z\" fill=\"#000000\" fill-rule=\"evenodd\" fill-opacity=\"1\" /><path clip-path=\"url(#clip150)\" d=\"M 0 0 M413.431 1541.24 L418.315 1541.24 L418.315 1547.12 L413.431 1547.12 L413.431 1541.24 Z\" fill=\"#000000\" fill-rule=\"evenodd\" fill-opacity=\"1\" /><path clip-path=\"url(#clip150)\" d=\"M 0 0 M442.667 1528.49 Q446.024 1529.2 447.899 1531.47 Q449.797 1533.74 449.797 1537.07 Q449.797 1542.19 446.278 1544.99 Q442.76 1547.79 436.278 1547.79 Q434.102 1547.79 431.788 1547.35 Q429.496 1546.93 427.042 1546.08 L427.042 1541.56 Q428.987 1542.7 431.301 1543.28 Q433.616 1543.86 436.139 1543.86 Q440.537 1543.86 442.829 1542.12 Q445.144 1540.38 445.144 1537.07 Q445.144 1534.02 442.991 1532.31 Q440.862 1530.57 437.042 1530.57 L433.014 1530.57 L433.014 1526.73 L437.227 1526.73 Q440.676 1526.73 442.505 1525.36 Q444.334 1523.97 444.334 1521.38 Q444.334 1518.72 442.436 1517.31 Q440.561 1515.87 437.042 1515.87 Q435.121 1515.87 432.922 1516.29 Q430.723 1516.7 428.084 1517.58 L428.084 1513.42 Q430.746 1512.68 433.061 1512.31 Q435.399 1511.93 437.459 1511.93 Q442.783 1511.93 445.885 1514.37 Q448.987 1516.77 448.987 1520.89 Q448.987 1523.76 447.343 1525.75 Q445.699 1527.72 442.667 1528.49 Z\" fill=\"#000000\" fill-rule=\"evenodd\" fill-opacity=\"1\" /><path clip-path=\"url(#clip150)\" d=\"M 0 0 M468.662 1530.71 Q465.329 1530.71 463.408 1532.49 Q461.51 1534.27 461.51 1537.4 Q461.51 1540.52 463.408 1542.31 Q465.329 1544.09 468.662 1544.09 Q471.996 1544.09 473.917 1542.31 Q475.838 1540.5 475.838 1537.4 Q475.838 1534.27 473.917 1532.49 Q472.019 1530.71 468.662 1530.71 M463.986 1528.72 Q460.977 1527.98 459.287 1525.92 Q457.621 1523.86 457.621 1520.89 Q457.621 1516.75 460.561 1514.34 Q463.523 1511.93 468.662 1511.93 Q473.824 1511.93 476.764 1514.34 Q479.704 1516.75 479.704 1520.89 Q479.704 1523.86 478.014 1525.92 Q476.347 1527.98 473.361 1528.72 Q476.741 1529.5 478.616 1531.8 Q480.514 1534.09 480.514 1537.4 Q480.514 1542.42 477.435 1545.11 Q474.38 1547.79 468.662 1547.79 Q462.945 1547.79 459.866 1545.11 Q456.811 1542.42 456.811 1537.4 Q456.811 1534.09 458.709 1531.8 Q460.607 1529.5 463.986 1528.72 M462.273 1521.33 Q462.273 1524.02 463.94 1525.52 Q465.63 1527.03 468.662 1527.03 Q471.672 1527.03 473.361 1525.52 Q475.074 1524.02 475.074 1521.33 Q475.074 1518.65 473.361 1517.14 Q471.672 1515.64 468.662 1515.64 Q465.63 1515.64 463.94 1517.14 Q462.273 1518.65 462.273 1521.33 Z\" fill=\"#000000\" fill-rule=\"evenodd\" fill-opacity=\"1\" /><path clip-path=\"url(#clip150)\" d=\"M 0 0 M684.546 1515.64 Q680.935 1515.64 679.106 1519.2 Q677.301 1522.75 677.301 1529.87 Q677.301 1536.98 679.106 1540.55 Q680.935 1544.09 684.546 1544.09 Q688.18 1544.09 689.986 1540.55 Q691.814 1536.98 691.814 1529.87 Q691.814 1522.75 689.986 1519.2 Q688.18 1515.64 684.546 1515.64 M684.546 1511.93 Q690.356 1511.93 693.412 1516.54 Q696.49 1521.12 696.49 1529.87 Q696.49 1538.6 693.412 1543.21 Q690.356 1547.79 684.546 1547.79 Q678.736 1547.79 675.657 1543.21 Q672.602 1538.6 672.602 1529.87 Q672.602 1521.12 675.657 1516.54 Q678.736 1511.93 684.546 1511.93 Z\" fill=\"#000000\" fill-rule=\"evenodd\" fill-opacity=\"1\" /><path clip-path=\"url(#clip150)\" d=\"M 0 0 M704.708 1541.24 L709.592 1541.24 L709.592 1547.12 L704.708 1547.12 L704.708 1541.24 Z\" fill=\"#000000\" fill-rule=\"evenodd\" fill-opacity=\"1\" /><path clip-path=\"url(#clip150)\" d=\"M 0 0 M732.624 1516.63 L720.819 1535.08 L732.624 1535.08 L732.624 1516.63 M731.398 1512.56 L737.277 1512.56 L737.277 1535.08 L742.208 1535.08 L742.208 1538.97 L737.277 1538.97 L737.277 1547.12 L732.624 1547.12 L732.624 1538.97 L717.023 1538.97 L717.023 1534.46 L731.398 1512.56 Z\" fill=\"#000000\" fill-rule=\"evenodd\" fill-opacity=\"1\" /><path clip-path=\"url(#clip150)\" d=\"M 0 0 M759.939 1515.64 Q756.328 1515.64 754.499 1519.2 Q752.694 1522.75 752.694 1529.87 Q752.694 1536.98 754.499 1540.55 Q756.328 1544.09 759.939 1544.09 Q763.573 1544.09 765.379 1540.55 Q767.208 1536.98 767.208 1529.87 Q767.208 1522.75 765.379 1519.2 Q763.573 1515.64 759.939 1515.64 M759.939 1511.93 Q765.749 1511.93 768.805 1516.54 Q771.883 1521.12 771.883 1529.87 Q771.883 1538.6 768.805 1543.21 Q765.749 1547.79 759.939 1547.79 Q754.129 1547.79 751.05 1543.21 Q747.995 1538.6 747.995 1529.87 Q747.995 1521.12 751.05 1516.54 Q754.129 1511.93 759.939 1511.93 Z\" fill=\"#000000\" fill-rule=\"evenodd\" fill-opacity=\"1\" /><path clip-path=\"url(#clip150)\" d=\"M 0 0 M976.668 1515.64 Q973.057 1515.64 971.228 1519.2 Q969.422 1522.75 969.422 1529.87 Q969.422 1536.98 971.228 1540.55 Q973.057 1544.09 976.668 1544.09 Q980.302 1544.09 982.107 1540.55 Q983.936 1536.98 983.936 1529.87 Q983.936 1522.75 982.107 1519.2 Q980.302 1515.64 976.668 1515.64 M976.668 1511.93 Q982.478 1511.93 985.533 1516.54 Q988.612 1521.12 988.612 1529.87 Q988.612 1538.6 985.533 1543.21 Q982.478 1547.79 976.668 1547.79 Q970.858 1547.79 967.779 1543.21 Q964.723 1538.6 964.723 1529.87 Q964.723 1521.12 967.779 1516.54 Q970.858 1511.93 976.668 1511.93 Z\" fill=\"#000000\" fill-rule=\"evenodd\" fill-opacity=\"1\" /><path clip-path=\"url(#clip150)\" d=\"M 0 0 M996.83 1541.24 L1001.71 1541.24 L1001.71 1547.12 L996.83 1547.12 L996.83 1541.24 Z\" fill=\"#000000\" fill-rule=\"evenodd\" fill-opacity=\"1\" /><path clip-path=\"url(#clip150)\" d=\"M 0 0 M1024.75 1516.63 L1012.94 1535.08 L1024.75 1535.08 L1024.75 1516.63 M1023.52 1512.56 L1029.4 1512.56 L1029.4 1535.08 L1034.33 1535.08 L1034.33 1538.97 L1029.4 1538.97 L1029.4 1547.12 L1024.75 1547.12 L1024.75 1538.97 L1009.14 1538.97 L1009.14 1534.46 L1023.52 1512.56 Z\" fill=\"#000000\" fill-rule=\"evenodd\" fill-opacity=\"1\" /><path clip-path=\"url(#clip150)\" d=\"M 0 0 M1046.09 1543.18 L1062.41 1543.18 L1062.41 1547.12 L1040.46 1547.12 L1040.46 1543.18 Q1043.13 1540.43 1047.71 1535.8 Q1052.32 1531.15 1053.5 1529.81 Q1055.74 1527.28 1056.62 1525.55 Q1057.52 1523.79 1057.52 1522.1 Q1057.52 1519.34 1055.58 1517.61 Q1053.66 1515.87 1050.56 1515.87 Q1048.36 1515.87 1045.9 1516.63 Q1043.47 1517.4 1040.7 1518.95 L1040.7 1514.23 Q1043.52 1513.09 1045.97 1512.51 Q1048.43 1511.93 1050.46 1511.93 Q1055.83 1511.93 1059.03 1514.62 Q1062.22 1517.31 1062.22 1521.8 Q1062.22 1523.93 1061.41 1525.85 Q1060.63 1527.74 1058.52 1530.34 Q1057.94 1531.01 1054.84 1534.23 Q1051.74 1537.42 1046.09 1543.18 Z\" fill=\"#000000\" fill-rule=\"evenodd\" fill-opacity=\"1\" /><path clip-path=\"url(#clip150)\" d=\"M 0 0 M1266.95 1515.64 Q1263.34 1515.64 1261.51 1519.2 Q1259.7 1522.75 1259.7 1529.87 Q1259.7 1536.98 1261.51 1540.55 Q1263.34 1544.09 1266.95 1544.09 Q1270.58 1544.09 1272.39 1540.55 Q1274.22 1536.98 1274.22 1529.87 Q1274.22 1522.75 1272.39 1519.2 Q1270.58 1515.64 1266.95 1515.64 M1266.95 1511.93 Q1272.76 1511.93 1275.81 1516.54 Q1278.89 1521.12 1278.89 1529.87 Q1278.89 1538.6 1275.81 1543.21 Q1272.76 1547.79 1266.95 1547.79 Q1261.14 1547.79 1258.06 1543.21 Q1255 1538.6 1255 1529.87 Q1255 1521.12 1258.06 1516.54 Q1261.14 1511.93 1266.95 1511.93 Z\" fill=\"#000000\" fill-rule=\"evenodd\" fill-opacity=\"1\" /><path clip-path=\"url(#clip150)\" d=\"M 0 0 M1287.11 1541.24 L1292 1541.24 L1292 1547.12 L1287.11 1547.12 L1287.11 1541.24 Z\" fill=\"#000000\" fill-rule=\"evenodd\" fill-opacity=\"1\" /><path clip-path=\"url(#clip150)\" d=\"M 0 0 M1315.03 1516.63 L1303.22 1535.08 L1315.03 1535.08 L1315.03 1516.63 M1313.8 1512.56 L1319.68 1512.56 L1319.68 1535.08 L1324.61 1535.08 L1324.61 1538.97 L1319.68 1538.97 L1319.68 1547.12 L1315.03 1547.12 L1315.03 1538.97 L1299.43 1538.97 L1299.43 1534.46 L1313.8 1512.56 Z\" fill=\"#000000\" fill-rule=\"evenodd\" fill-opacity=\"1\" /><path clip-path=\"url(#clip150)\" d=\"M 0 0 M1345.19 1516.63 L1333.38 1535.08 L1345.19 1535.08 L1345.19 1516.63 M1343.96 1512.56 L1349.84 1512.56 L1349.84 1535.08 L1354.77 1535.08 L1354.77 1538.97 L1349.84 1538.97 L1349.84 1547.12 L1345.19 1547.12 L1345.19 1538.97 L1329.59 1538.97 L1329.59 1534.46 L1343.96 1512.56 Z\" fill=\"#000000\" fill-rule=\"evenodd\" fill-opacity=\"1\" /><path clip-path=\"url(#clip150)\" d=\"M 0 0 M1558.43 1515.64 Q1554.82 1515.64 1552.99 1519.2 Q1551.19 1522.75 1551.19 1529.87 Q1551.19 1536.98 1552.99 1540.55 Q1554.82 1544.09 1558.43 1544.09 Q1562.07 1544.09 1563.87 1540.55 Q1565.7 1536.98 1565.7 1529.87 Q1565.7 1522.75 1563.87 1519.2 Q1562.07 1515.64 1558.43 1515.64 M1558.43 1511.93 Q1564.24 1511.93 1567.3 1516.54 Q1570.38 1521.12 1570.38 1529.87 Q1570.38 1538.6 1567.3 1543.21 Q1564.24 1547.79 1558.43 1547.79 Q1552.62 1547.79 1549.55 1543.21 Q1546.49 1538.6 1546.49 1529.87 Q1546.49 1521.12 1549.55 1516.54 Q1552.62 1511.93 1558.43 1511.93 Z\" fill=\"#000000\" fill-rule=\"evenodd\" fill-opacity=\"1\" /><path clip-path=\"url(#clip150)\" d=\"M 0 0 M1578.6 1541.24 L1583.48 1541.24 L1583.48 1547.12 L1578.6 1547.12 L1578.6 1541.24 Z\" fill=\"#000000\" fill-rule=\"evenodd\" fill-opacity=\"1\" /><path clip-path=\"url(#clip150)\" d=\"M 0 0 M1606.51 1516.63 L1594.71 1535.08 L1606.51 1535.08 L1606.51 1516.63 M1605.29 1512.56 L1611.17 1512.56 L1611.17 1535.08 L1616.1 1535.08 L1616.1 1538.97 L1611.17 1538.97 L1611.17 1547.12 L1606.51 1547.12 L1606.51 1538.97 L1590.91 1538.97 L1590.91 1534.46 L1605.29 1512.56 Z\" fill=\"#000000\" fill-rule=\"evenodd\" fill-opacity=\"1\" /><path clip-path=\"url(#clip150)\" d=\"M 0 0 M1634.41 1527.98 Q1631.26 1527.98 1629.41 1530.13 Q1627.58 1532.28 1627.58 1536.03 Q1627.58 1539.76 1629.41 1541.93 Q1631.26 1544.09 1634.41 1544.09 Q1637.55 1544.09 1639.38 1541.93 Q1641.23 1539.76 1641.23 1536.03 Q1641.23 1532.28 1639.38 1530.13 Q1637.55 1527.98 1634.41 1527.98 M1643.69 1513.32 L1643.69 1517.58 Q1641.93 1516.75 1640.12 1516.31 Q1638.34 1515.87 1636.58 1515.87 Q1631.95 1515.87 1629.5 1519 Q1627.07 1522.12 1626.72 1528.44 Q1628.09 1526.43 1630.15 1525.36 Q1632.21 1524.27 1634.68 1524.27 Q1639.89 1524.27 1642.9 1527.44 Q1645.93 1530.59 1645.93 1536.03 Q1645.93 1541.36 1642.79 1544.57 Q1639.64 1547.79 1634.41 1547.79 Q1628.41 1547.79 1625.24 1543.21 Q1622.07 1538.6 1622.07 1529.87 Q1622.07 1521.68 1625.96 1516.82 Q1629.85 1511.93 1636.4 1511.93 Q1638.16 1511.93 1639.94 1512.28 Q1641.74 1512.63 1643.69 1513.32 Z\" fill=\"#000000\" fill-rule=\"evenodd\" fill-opacity=\"1\" /><path clip-path=\"url(#clip150)\" d=\"M 0 0 M1849.88 1515.64 Q1846.27 1515.64 1844.44 1519.2 Q1842.64 1522.75 1842.64 1529.87 Q1842.64 1536.98 1844.44 1540.55 Q1846.27 1544.09 1849.88 1544.09 Q1853.52 1544.09 1855.32 1540.55 Q1857.15 1536.98 1857.15 1529.87 Q1857.15 1522.75 1855.32 1519.2 Q1853.52 1515.64 1849.88 1515.64 M1849.88 1511.93 Q1855.69 1511.93 1858.75 1516.54 Q1861.83 1521.12 1861.83 1529.87 Q1861.83 1538.6 1858.75 1543.21 Q1855.69 1547.79 1849.88 1547.79 Q1844.07 1547.79 1841 1543.21 Q1837.94 1538.6 1837.94 1529.87 Q1837.94 1521.12 1841 1516.54 Q1844.07 1511.93 1849.88 1511.93 Z\" fill=\"#000000\" fill-rule=\"evenodd\" fill-opacity=\"1\" /><path clip-path=\"url(#clip150)\" d=\"M 0 0 M1870.05 1541.24 L1874.93 1541.24 L1874.93 1547.12 L1870.05 1547.12 L1870.05 1541.24 Z\" fill=\"#000000\" fill-rule=\"evenodd\" fill-opacity=\"1\" /><path clip-path=\"url(#clip150)\" d=\"M 0 0 M1897.96 1516.63 L1886.16 1535.08 L1897.96 1535.08 L1897.96 1516.63 M1896.74 1512.56 L1902.62 1512.56 L1902.62 1535.08 L1907.55 1535.08 L1907.55 1538.97 L1902.62 1538.97 L1902.62 1547.12 L1897.96 1547.12 L1897.96 1538.97 L1882.36 1538.97 L1882.36 1534.46 L1896.74 1512.56 Z\" fill=\"#000000\" fill-rule=\"evenodd\" fill-opacity=\"1\" /><path clip-path=\"url(#clip150)\" d=\"M 0 0 M1925.28 1530.71 Q1921.94 1530.71 1920.02 1532.49 Q1918.12 1534.27 1918.12 1537.4 Q1918.12 1540.52 1920.02 1542.31 Q1921.94 1544.09 1925.28 1544.09 Q1928.61 1544.09 1930.53 1542.31 Q1932.45 1540.5 1932.45 1537.4 Q1932.45 1534.27 1930.53 1532.49 Q1928.63 1530.71 1925.28 1530.71 M1920.6 1528.72 Q1917.59 1527.98 1915.9 1525.92 Q1914.24 1523.86 1914.24 1520.89 Q1914.24 1516.75 1917.18 1514.34 Q1920.14 1511.93 1925.28 1511.93 Q1930.44 1511.93 1933.38 1514.34 Q1936.32 1516.75 1936.32 1520.89 Q1936.32 1523.86 1934.63 1525.92 Q1932.96 1527.98 1929.98 1528.72 Q1933.36 1529.5 1935.23 1531.8 Q1937.13 1534.09 1937.13 1537.4 Q1937.13 1542.42 1934.05 1545.11 Q1931 1547.79 1925.28 1547.79 Q1919.56 1547.79 1916.48 1545.11 Q1913.43 1542.42 1913.43 1537.4 Q1913.43 1534.09 1915.32 1531.8 Q1917.22 1529.5 1920.6 1528.72 M1918.89 1521.33 Q1918.89 1524.02 1920.56 1525.52 Q1922.25 1527.03 1925.28 1527.03 Q1928.29 1527.03 1929.98 1525.52 Q1931.69 1524.02 1931.69 1521.33 Q1931.69 1518.65 1929.98 1517.14 Q1928.29 1515.64 1925.28 1515.64 Q1922.25 1515.64 1920.56 1517.14 Q1918.89 1518.65 1918.89 1521.33 Z\" fill=\"#000000\" fill-rule=\"evenodd\" fill-opacity=\"1\" /><path clip-path=\"url(#clip150)\" d=\"M 0 0 M2141.16 1515.64 Q2137.55 1515.64 2135.72 1519.2 Q2133.92 1522.75 2133.92 1529.87 Q2133.92 1536.98 2135.72 1540.55 Q2137.55 1544.09 2141.16 1544.09 Q2144.8 1544.09 2146.6 1540.55 Q2148.43 1536.98 2148.43 1529.87 Q2148.43 1522.75 2146.6 1519.2 Q2144.8 1515.64 2141.16 1515.64 M2141.16 1511.93 Q2146.97 1511.93 2150.03 1516.54 Q2153.11 1521.12 2153.11 1529.87 Q2153.11 1538.6 2150.03 1543.21 Q2146.97 1547.79 2141.16 1547.79 Q2135.35 1547.79 2132.27 1543.21 Q2129.22 1538.6 2129.22 1529.87 Q2129.22 1521.12 2132.27 1516.54 Q2135.35 1511.93 2141.16 1511.93 Z\" fill=\"#000000\" fill-rule=\"evenodd\" fill-opacity=\"1\" /><path clip-path=\"url(#clip150)\" d=\"M 0 0 M2161.32 1541.24 L2166.21 1541.24 L2166.21 1547.12 L2161.32 1547.12 L2161.32 1541.24 Z\" fill=\"#000000\" fill-rule=\"evenodd\" fill-opacity=\"1\" /><path clip-path=\"url(#clip150)\" d=\"M 0 0 M2176.44 1512.56 L2194.8 1512.56 L2194.8 1516.5 L2180.72 1516.5 L2180.72 1524.97 Q2181.74 1524.62 2182.76 1524.46 Q2183.78 1524.27 2184.8 1524.27 Q2190.58 1524.27 2193.96 1527.44 Q2197.34 1530.62 2197.34 1536.03 Q2197.34 1541.61 2193.87 1544.71 Q2190.4 1547.79 2184.08 1547.79 Q2181.9 1547.79 2179.63 1547.42 Q2177.39 1547.05 2174.98 1546.31 L2174.98 1541.61 Q2177.06 1542.74 2179.29 1543.3 Q2181.51 1543.86 2183.99 1543.86 Q2187.99 1543.86 2190.33 1541.75 Q2192.67 1539.64 2192.67 1536.03 Q2192.67 1532.42 2190.33 1530.31 Q2187.99 1528.21 2183.99 1528.21 Q2182.11 1528.21 2180.24 1528.62 Q2178.38 1529.04 2176.44 1529.92 L2176.44 1512.56 Z\" fill=\"#000000\" fill-rule=\"evenodd\" fill-opacity=\"1\" /><path clip-path=\"url(#clip150)\" d=\"M 0 0 M2216.55 1515.64 Q2212.94 1515.64 2211.11 1519.2 Q2209.31 1522.75 2209.31 1529.87 Q2209.31 1536.98 2211.11 1540.55 Q2212.94 1544.09 2216.55 1544.09 Q2220.19 1544.09 2221.99 1540.55 Q2223.82 1536.98 2223.82 1529.87 Q2223.82 1522.75 2221.99 1519.2 Q2220.19 1515.64 2216.55 1515.64 M2216.55 1511.93 Q2222.36 1511.93 2225.42 1516.54 Q2228.5 1521.12 2228.5 1529.87 Q2228.5 1538.6 2225.42 1543.21 Q2222.36 1547.79 2216.55 1547.79 Q2210.74 1547.79 2207.67 1543.21 Q2204.61 1538.6 2204.61 1529.87 Q2204.61 1521.12 2207.67 1516.54 Q2210.74 1511.93 2216.55 1511.93 Z\" fill=\"#000000\" fill-rule=\"evenodd\" fill-opacity=\"1\" /><polyline clip-path=\"url(#clip152)\" style=\"stroke:#000000; stroke-width:2; stroke-opacity:0.1; fill:none\" points=\"\n",
       "  184.191,1411.48 2352.76,1411.48 \n",
       "  \"/>\n",
       "<polyline clip-path=\"url(#clip152)\" style=\"stroke:#000000; stroke-width:2; stroke-opacity:0.1; fill:none\" points=\"\n",
       "  184.191,1168.87 2352.76,1168.87 \n",
       "  \"/>\n",
       "<polyline clip-path=\"url(#clip152)\" style=\"stroke:#000000; stroke-width:2; stroke-opacity:0.1; fill:none\" points=\"\n",
       "  184.191,926.264 2352.76,926.264 \n",
       "  \"/>\n",
       "<polyline clip-path=\"url(#clip152)\" style=\"stroke:#000000; stroke-width:2; stroke-opacity:0.1; fill:none\" points=\"\n",
       "  184.191,683.656 2352.76,683.656 \n",
       "  \"/>\n",
       "<polyline clip-path=\"url(#clip152)\" style=\"stroke:#000000; stroke-width:2; stroke-opacity:0.1; fill:none\" points=\"\n",
       "  184.191,441.047 2352.76,441.047 \n",
       "  \"/>\n",
       "<polyline clip-path=\"url(#clip152)\" style=\"stroke:#000000; stroke-width:2; stroke-opacity:0.1; fill:none\" points=\"\n",
       "  184.191,198.438 2352.76,198.438 \n",
       "  \"/>\n",
       "<polyline clip-path=\"url(#clip150)\" style=\"stroke:#000000; stroke-width:4; stroke-opacity:1; fill:none\" points=\"\n",
       "  184.191,1486.45 184.191,123.472 \n",
       "  \"/>\n",
       "<polyline clip-path=\"url(#clip150)\" style=\"stroke:#000000; stroke-width:4; stroke-opacity:1; fill:none\" points=\"\n",
       "  184.191,1411.48 210.213,1411.48 \n",
       "  \"/>\n",
       "<polyline clip-path=\"url(#clip150)\" style=\"stroke:#000000; stroke-width:4; stroke-opacity:1; fill:none\" points=\"\n",
       "  184.191,1168.87 210.213,1168.87 \n",
       "  \"/>\n",
       "<polyline clip-path=\"url(#clip150)\" style=\"stroke:#000000; stroke-width:4; stroke-opacity:1; fill:none\" points=\"\n",
       "  184.191,926.264 210.213,926.264 \n",
       "  \"/>\n",
       "<polyline clip-path=\"url(#clip150)\" style=\"stroke:#000000; stroke-width:4; stroke-opacity:1; fill:none\" points=\"\n",
       "  184.191,683.656 210.213,683.656 \n",
       "  \"/>\n",
       "<polyline clip-path=\"url(#clip150)\" style=\"stroke:#000000; stroke-width:4; stroke-opacity:1; fill:none\" points=\"\n",
       "  184.191,441.047 210.213,441.047 \n",
       "  \"/>\n",
       "<polyline clip-path=\"url(#clip150)\" style=\"stroke:#000000; stroke-width:4; stroke-opacity:1; fill:none\" points=\"\n",
       "  184.191,198.438 210.213,198.438 \n",
       "  \"/>\n",
       "<path clip-path=\"url(#clip150)\" d=\"M 0 0 M51.6634 1424.83 L59.3023 1424.83 L59.3023 1398.46 L50.9921 1400.13 L50.9921 1395.87 L59.256 1394.2 L63.9319 1394.2 L63.9319 1424.83 L71.5707 1424.83 L71.5707 1428.76 L51.6634 1428.76 L51.6634 1424.83 Z\" fill=\"#000000\" fill-rule=\"evenodd\" fill-opacity=\"1\" /><path clip-path=\"url(#clip150)\" d=\"M 0 0 M81.0151 1422.88 L85.8993 1422.88 L85.8993 1428.76 L81.0151 1428.76 L81.0151 1422.88 Z\" fill=\"#000000\" fill-rule=\"evenodd\" fill-opacity=\"1\" /><path clip-path=\"url(#clip150)\" d=\"M 0 0 M106.084 1397.28 Q102.473 1397.28 100.645 1400.85 Q98.8391 1404.39 98.8391 1411.52 Q98.8391 1418.62 100.645 1422.19 Q102.473 1425.73 106.084 1425.73 Q109.719 1425.73 111.524 1422.19 Q113.353 1418.62 113.353 1411.52 Q113.353 1404.39 111.524 1400.85 Q109.719 1397.28 106.084 1397.28 M106.084 1393.58 Q111.895 1393.58 114.95 1398.18 Q118.029 1402.77 118.029 1411.52 Q118.029 1420.24 114.95 1424.85 Q111.895 1429.43 106.084 1429.43 Q100.274 1429.43 97.1956 1424.85 Q94.14 1420.24 94.14 1411.52 Q94.14 1402.77 97.1956 1398.18 Q100.274 1393.58 106.084 1393.58 Z\" fill=\"#000000\" fill-rule=\"evenodd\" fill-opacity=\"1\" /><path clip-path=\"url(#clip150)\" d=\"M 0 0 M136.246 1397.28 Q132.635 1397.28 130.807 1400.85 Q129.001 1404.39 129.001 1411.52 Q129.001 1418.62 130.807 1422.19 Q132.635 1425.73 136.246 1425.73 Q139.881 1425.73 141.686 1422.19 Q143.515 1418.62 143.515 1411.52 Q143.515 1404.39 141.686 1400.85 Q139.881 1397.28 136.246 1397.28 M136.246 1393.58 Q142.056 1393.58 145.112 1398.18 Q148.191 1402.77 148.191 1411.52 Q148.191 1420.24 145.112 1424.85 Q142.056 1429.43 136.246 1429.43 Q130.436 1429.43 127.357 1424.85 Q124.302 1420.24 124.302 1411.52 Q124.302 1402.77 127.357 1398.18 Q130.436 1393.58 136.246 1393.58 Z\" fill=\"#000000\" fill-rule=\"evenodd\" fill-opacity=\"1\" /><path clip-path=\"url(#clip150)\" d=\"M 0 0 M52.6588 1182.22 L60.2976 1182.22 L60.2976 1155.85 L51.9875 1157.52 L51.9875 1153.26 L60.2513 1151.59 L64.9272 1151.59 L64.9272 1182.22 L72.5661 1182.22 L72.5661 1186.15 L52.6588 1186.15 L52.6588 1182.22 Z\" fill=\"#000000\" fill-rule=\"evenodd\" fill-opacity=\"1\" /><path clip-path=\"url(#clip150)\" d=\"M 0 0 M82.0105 1180.27 L86.8947 1180.27 L86.8947 1186.15 L82.0105 1186.15 L82.0105 1180.27 Z\" fill=\"#000000\" fill-rule=\"evenodd\" fill-opacity=\"1\" /><path clip-path=\"url(#clip150)\" d=\"M 0 0 M107.08 1154.67 Q103.469 1154.67 101.64 1158.24 Q99.8345 1161.78 99.8345 1168.91 Q99.8345 1176.01 101.64 1179.58 Q103.469 1183.12 107.08 1183.12 Q110.714 1183.12 112.52 1179.58 Q114.348 1176.01 114.348 1168.91 Q114.348 1161.78 112.52 1158.24 Q110.714 1154.67 107.08 1154.67 M107.08 1150.97 Q112.89 1150.97 115.945 1155.57 Q119.024 1160.16 119.024 1168.91 Q119.024 1177.63 115.945 1182.24 Q112.89 1186.82 107.08 1186.82 Q101.27 1186.82 98.1909 1182.24 Q95.1354 1177.63 95.1354 1168.91 Q95.1354 1160.16 98.1909 1155.57 Q101.27 1150.97 107.08 1150.97 Z\" fill=\"#000000\" fill-rule=\"evenodd\" fill-opacity=\"1\" /><path clip-path=\"url(#clip150)\" d=\"M 0 0 M127.288 1151.59 L145.644 1151.59 L145.644 1155.53 L131.57 1155.53 L131.57 1164 Q132.589 1163.65 133.607 1163.49 Q134.626 1163.31 135.644 1163.31 Q141.431 1163.31 144.811 1166.48 Q148.191 1169.65 148.191 1175.07 Q148.191 1180.64 144.718 1183.75 Q141.246 1186.82 134.927 1186.82 Q132.751 1186.82 130.482 1186.45 Q128.237 1186.08 125.83 1185.34 L125.83 1180.64 Q127.913 1181.78 130.135 1182.33 Q132.357 1182.89 134.834 1182.89 Q138.839 1182.89 141.177 1180.78 Q143.515 1178.68 143.515 1175.07 Q143.515 1171.45 141.177 1169.35 Q138.839 1167.24 134.834 1167.24 Q132.959 1167.24 131.084 1167.66 Q129.232 1168.07 127.288 1168.95 L127.288 1151.59 Z\" fill=\"#000000\" fill-rule=\"evenodd\" fill-opacity=\"1\" /><path clip-path=\"url(#clip150)\" d=\"M 0 0 M51.6634 939.609 L59.3023 939.609 L59.3023 913.244 L50.9921 914.91 L50.9921 910.651 L59.256 908.984 L63.9319 908.984 L63.9319 939.609 L71.5707 939.609 L71.5707 943.544 L51.6634 943.544 L51.6634 939.609 Z\" fill=\"#000000\" fill-rule=\"evenodd\" fill-opacity=\"1\" /><path clip-path=\"url(#clip150)\" d=\"M 0 0 M81.0151 937.665 L85.8993 937.665 L85.8993 943.544 L81.0151 943.544 L81.0151 937.665 Z\" fill=\"#000000\" fill-rule=\"evenodd\" fill-opacity=\"1\" /><path clip-path=\"url(#clip150)\" d=\"M 0 0 M96.8947 939.609 L104.534 939.609 L104.534 913.244 L96.2234 914.91 L96.2234 910.651 L104.487 908.984 L109.163 908.984 L109.163 939.609 L116.802 939.609 L116.802 943.544 L96.8947 943.544 L96.8947 939.609 Z\" fill=\"#000000\" fill-rule=\"evenodd\" fill-opacity=\"1\" /><path clip-path=\"url(#clip150)\" d=\"M 0 0 M136.246 912.063 Q132.635 912.063 130.807 915.628 Q129.001 919.169 129.001 926.299 Q129.001 933.406 130.807 936.97 Q132.635 940.512 136.246 940.512 Q139.881 940.512 141.686 936.97 Q143.515 933.406 143.515 926.299 Q143.515 919.169 141.686 915.628 Q139.881 912.063 136.246 912.063 M136.246 908.359 Q142.056 908.359 145.112 912.966 Q148.191 917.549 148.191 926.299 Q148.191 935.026 145.112 939.632 Q142.056 944.216 136.246 944.216 Q130.436 944.216 127.357 939.632 Q124.302 935.026 124.302 926.299 Q124.302 917.549 127.357 912.966 Q130.436 908.359 136.246 908.359 Z\" fill=\"#000000\" fill-rule=\"evenodd\" fill-opacity=\"1\" /><path clip-path=\"url(#clip150)\" d=\"M 0 0 M52.6588 697 L60.2976 697 L60.2976 670.635 L51.9875 672.302 L51.9875 668.042 L60.2513 666.376 L64.9272 666.376 L64.9272 697 L72.5661 697 L72.5661 700.936 L52.6588 700.936 L52.6588 697 Z\" fill=\"#000000\" fill-rule=\"evenodd\" fill-opacity=\"1\" /><path clip-path=\"url(#clip150)\" d=\"M 0 0 M82.0105 695.056 L86.8947 695.056 L86.8947 700.936 L82.0105 700.936 L82.0105 695.056 Z\" fill=\"#000000\" fill-rule=\"evenodd\" fill-opacity=\"1\" /><path clip-path=\"url(#clip150)\" d=\"M 0 0 M97.89 697 L105.529 697 L105.529 670.635 L97.2187 672.302 L97.2187 668.042 L105.483 666.376 L110.158 666.376 L110.158 697 L117.797 697 L117.797 700.936 L97.89 700.936 L97.89 697 Z\" fill=\"#000000\" fill-rule=\"evenodd\" fill-opacity=\"1\" /><path clip-path=\"url(#clip150)\" d=\"M 0 0 M127.288 666.376 L145.644 666.376 L145.644 670.311 L131.57 670.311 L131.57 678.783 Q132.589 678.436 133.607 678.274 Q134.626 678.089 135.644 678.089 Q141.431 678.089 144.811 681.26 Q148.191 684.431 148.191 689.848 Q148.191 695.426 144.718 698.528 Q141.246 701.607 134.927 701.607 Q132.751 701.607 130.482 701.237 Q128.237 700.866 125.83 700.125 L125.83 695.426 Q127.913 696.561 130.135 697.116 Q132.357 697.672 134.834 697.672 Q138.839 697.672 141.177 695.565 Q143.515 693.459 143.515 689.848 Q143.515 686.237 141.177 684.13 Q138.839 682.024 134.834 682.024 Q132.959 682.024 131.084 682.44 Q129.232 682.857 127.288 683.737 L127.288 666.376 Z\" fill=\"#000000\" fill-rule=\"evenodd\" fill-opacity=\"1\" /><path clip-path=\"url(#clip150)\" d=\"M 0 0 M51.6634 454.392 L59.3023 454.392 L59.3023 428.026 L50.9921 429.693 L50.9921 425.434 L59.256 423.767 L63.9319 423.767 L63.9319 454.392 L71.5707 454.392 L71.5707 458.327 L51.6634 458.327 L51.6634 454.392 Z\" fill=\"#000000\" fill-rule=\"evenodd\" fill-opacity=\"1\" /><path clip-path=\"url(#clip150)\" d=\"M 0 0 M81.0151 452.447 L85.8993 452.447 L85.8993 458.327 L81.0151 458.327 L81.0151 452.447 Z\" fill=\"#000000\" fill-rule=\"evenodd\" fill-opacity=\"1\" /><path clip-path=\"url(#clip150)\" d=\"M 0 0 M100.112 454.392 L116.432 454.392 L116.432 458.327 L94.4873 458.327 L94.4873 454.392 Q97.1493 451.637 101.733 447.008 Q106.339 442.355 107.52 441.012 Q109.765 438.489 110.645 436.753 Q111.547 434.994 111.547 433.304 Q111.547 430.549 109.603 428.813 Q107.682 427.077 104.58 427.077 Q102.381 427.077 99.927 427.841 Q97.4965 428.605 94.7187 430.156 L94.7187 425.434 Q97.5428 424.299 99.9965 423.721 Q102.45 423.142 104.487 423.142 Q109.858 423.142 113.052 425.827 Q116.246 428.512 116.246 433.003 Q116.246 435.133 115.436 437.054 Q114.649 438.952 112.543 441.545 Q111.964 442.216 108.862 445.433 Q105.76 448.628 100.112 454.392 Z\" fill=\"#000000\" fill-rule=\"evenodd\" fill-opacity=\"1\" /><path clip-path=\"url(#clip150)\" d=\"M 0 0 M136.246 426.846 Q132.635 426.846 130.807 430.41 Q129.001 433.952 129.001 441.082 Q129.001 448.188 130.807 451.753 Q132.635 455.295 136.246 455.295 Q139.881 455.295 141.686 451.753 Q143.515 448.188 143.515 441.082 Q143.515 433.952 141.686 430.41 Q139.881 426.846 136.246 426.846 M136.246 423.142 Q142.056 423.142 145.112 427.748 Q148.191 432.332 148.191 441.082 Q148.191 449.808 145.112 454.415 Q142.056 458.998 136.246 458.998 Q130.436 458.998 127.357 454.415 Q124.302 449.808 124.302 441.082 Q124.302 432.332 127.357 427.748 Q130.436 423.142 136.246 423.142 Z\" fill=\"#000000\" fill-rule=\"evenodd\" fill-opacity=\"1\" /><path clip-path=\"url(#clip150)\" d=\"M 0 0 M52.6588 211.783 L60.2976 211.783 L60.2976 185.417 L51.9875 187.084 L51.9875 182.825 L60.2513 181.158 L64.9272 181.158 L64.9272 211.783 L72.5661 211.783 L72.5661 215.718 L52.6588 215.718 L52.6588 211.783 Z\" fill=\"#000000\" fill-rule=\"evenodd\" fill-opacity=\"1\" /><path clip-path=\"url(#clip150)\" d=\"M 0 0 M82.0105 209.839 L86.8947 209.839 L86.8947 215.718 L82.0105 215.718 L82.0105 209.839 Z\" fill=\"#000000\" fill-rule=\"evenodd\" fill-opacity=\"1\" /><path clip-path=\"url(#clip150)\" d=\"M 0 0 M101.108 211.783 L117.427 211.783 L117.427 215.718 L95.4826 215.718 L95.4826 211.783 Q98.1447 209.028 102.728 204.399 Q107.334 199.746 108.515 198.403 Q110.76 195.88 111.64 194.144 Q112.543 192.385 112.543 190.695 Q112.543 187.941 110.598 186.204 Q108.677 184.468 105.575 184.468 Q103.376 184.468 100.922 185.232 Q98.4919 185.996 95.7141 187.547 L95.7141 182.825 Q98.5382 181.691 100.992 181.112 Q103.446 180.533 105.483 180.533 Q110.853 180.533 114.047 183.218 Q117.242 185.904 117.242 190.394 Q117.242 192.524 116.432 194.445 Q115.645 196.343 113.538 198.936 Q112.959 199.607 109.858 202.825 Q106.756 206.019 101.108 211.783 Z\" fill=\"#000000\" fill-rule=\"evenodd\" fill-opacity=\"1\" /><path clip-path=\"url(#clip150)\" d=\"M 0 0 M127.288 181.158 L145.644 181.158 L145.644 185.093 L131.57 185.093 L131.57 193.566 Q132.589 193.218 133.607 193.056 Q134.626 192.871 135.644 192.871 Q141.431 192.871 144.811 196.042 Q148.191 199.214 148.191 204.63 Q148.191 210.209 144.718 213.311 Q141.246 216.39 134.927 216.39 Q132.751 216.39 130.482 216.019 Q128.237 215.649 125.83 214.908 L125.83 210.209 Q127.913 211.343 130.135 211.899 Q132.357 212.454 134.834 212.454 Q138.839 212.454 141.177 210.348 Q143.515 208.241 143.515 204.63 Q143.515 201.019 141.177 198.913 Q138.839 196.806 134.834 196.806 Q132.959 196.806 131.084 197.223 Q129.232 197.64 127.288 198.519 L127.288 181.158 Z\" fill=\"#000000\" fill-rule=\"evenodd\" fill-opacity=\"1\" /><path clip-path=\"url(#clip150)\" d=\"M 0 0 M887.567 63.9476 L887.567 47.7034 L874.199 47.7034 L874.199 40.9789 L895.669 40.9789 L895.669 66.9452 Q890.929 70.3075 885.217 72.0494 Q879.505 73.7508 873.024 73.7508 Q858.846 73.7508 850.825 65.4869 Q842.845 57.1826 842.845 42.3968 Q842.845 27.5705 850.825 19.3066 Q858.846 11.0023 873.024 11.0023 Q878.938 11.0023 884.245 12.4606 Q889.592 13.9189 894.089 16.7545 L894.089 25.464 Q889.552 21.6156 884.448 19.6712 Q879.343 17.7268 873.713 17.7268 Q862.613 17.7268 857.023 23.9246 Q851.473 30.1225 851.473 42.3968 Q851.473 54.6305 857.023 60.8284 Q862.613 67.0263 873.713 67.0263 Q878.047 67.0263 881.45 66.2971 Q884.853 65.5274 887.567 63.9476 Z\" fill=\"#000000\" fill-rule=\"evenodd\" fill-opacity=\"1\" /><path clip-path=\"url(#clip150)\" d=\"M 0 0 M930.911 49.7694 Q921.878 49.7694 918.394 51.8354 Q914.91 53.9013 914.91 58.8839 Q914.91 62.8538 917.503 65.2034 Q920.136 67.5124 924.633 67.5124 Q930.83 67.5124 934.557 63.1374 Q938.325 58.7219 938.325 51.4303 L938.325 49.7694 L930.911 49.7694 M945.778 46.6907 L945.778 72.576 L938.325 72.576 L938.325 65.6895 Q935.773 69.8214 931.965 71.8063 Q928.157 73.7508 922.648 73.7508 Q915.68 73.7508 911.548 69.8619 Q907.457 65.9325 907.457 59.3701 Q907.457 51.7138 912.561 47.825 Q917.705 43.9361 927.873 43.9361 L938.325 43.9361 L938.325 43.2069 Q938.325 38.0623 934.922 35.2672 Q931.56 32.4315 925.443 32.4315 Q921.554 32.4315 917.868 33.3632 Q914.181 34.295 910.778 36.1584 L910.778 29.2718 Q914.87 27.692 918.718 26.9223 Q922.567 26.1121 926.212 26.1121 Q936.056 26.1121 940.917 31.2163 Q945.778 36.3204 945.778 46.6907 Z\" fill=\"#000000\" fill-rule=\"evenodd\" fill-opacity=\"1\" /><path clip-path=\"url(#clip150)\" d=\"M 0 0 M960.362 54.671 L960.362 27.2059 L967.815 27.2059 L967.815 54.3874 Q967.815 60.8284 970.327 64.0691 Q972.838 67.2693 977.861 67.2693 Q983.897 67.2693 987.381 63.421 Q990.905 59.5726 990.905 52.9291 L990.905 27.2059 L998.359 27.2059 L998.359 72.576 L990.905 72.576 L990.905 65.6084 Q988.191 69.7404 984.586 71.7658 Q981.021 73.7508 976.282 73.7508 Q968.463 73.7508 964.412 68.8897 Q960.362 64.0286 960.362 54.671 M979.117 26.1121 L979.117 26.1121 Z\" fill=\"#000000\" fill-rule=\"evenodd\" fill-opacity=\"1\" /><path clip-path=\"url(#clip150)\" d=\"M 0 0 M1042.64 28.5427 L1042.64 35.5912 Q1039.48 33.9709 1036.07 33.1607 Q1032.67 32.3505 1029.02 32.3505 Q1023.47 32.3505 1020.68 34.0519 Q1017.92 35.7533 1017.92 39.156 Q1017.92 41.7486 1019.91 43.2475 Q1021.89 44.7058 1027.89 46.0426 L1030.44 46.6097 Q1038.38 48.3111 1041.7 51.4303 Q1045.07 54.509 1045.07 60.0587 Q1045.07 66.3781 1040.04 70.0644 Q1035.06 73.7508 1026.31 73.7508 Q1022.66 73.7508 1018.69 73.0216 Q1014.77 72.3329 1010.39 70.9151 L1010.39 63.2184 Q1014.52 65.3654 1018.53 66.4591 Q1022.54 67.5124 1026.47 67.5124 Q1031.74 67.5124 1034.57 65.73 Q1037.41 63.9071 1037.41 60.6258 Q1037.41 57.5877 1035.34 55.9673 Q1033.32 54.3469 1026.39 52.8481 L1023.8 52.2405 Q1016.87 50.7821 1013.79 47.7845 Q1010.71 44.7463 1010.71 39.4801 Q1010.71 33.0797 1015.25 29.5959 Q1019.79 26.1121 1028.13 26.1121 Q1032.27 26.1121 1035.91 26.7198 Q1039.56 27.3274 1042.64 28.5427 Z\" fill=\"#000000\" fill-rule=\"evenodd\" fill-opacity=\"1\" /><path clip-path=\"url(#clip150)\" d=\"M 0 0 M1085.86 28.5427 L1085.86 35.5912 Q1082.7 33.9709 1079.3 33.1607 Q1075.89 32.3505 1072.25 32.3505 Q1066.7 32.3505 1063.9 34.0519 Q1061.15 35.7533 1061.15 39.156 Q1061.15 41.7486 1063.13 43.2475 Q1065.12 44.7058 1071.11 46.0426 L1073.67 46.6097 Q1081.61 48.3111 1084.93 51.4303 Q1088.29 54.509 1088.29 60.0587 Q1088.29 66.3781 1083.27 70.0644 Q1078.28 73.7508 1069.53 73.7508 Q1065.89 73.7508 1061.92 73.0216 Q1057.99 72.3329 1053.61 70.9151 L1053.61 63.2184 Q1057.75 65.3654 1061.76 66.4591 Q1065.77 67.5124 1069.7 67.5124 Q1074.96 67.5124 1077.8 65.73 Q1080.63 63.9071 1080.63 60.6258 Q1080.63 57.5877 1078.57 55.9673 Q1076.54 54.3469 1069.61 52.8481 L1067.02 52.2405 Q1060.09 50.7821 1057.02 47.7845 Q1053.94 44.7463 1053.94 39.4801 Q1053.94 33.0797 1058.47 29.5959 Q1063.01 26.1121 1071.36 26.1121 Q1075.49 26.1121 1079.13 26.7198 Q1082.78 27.3274 1085.86 28.5427 Z\" fill=\"#000000\" fill-rule=\"evenodd\" fill-opacity=\"1\" /><path clip-path=\"url(#clip150)\" d=\"M 0 0 M1163.11 14.0809 L1163.11 22.0612 Q1158.45 19.8332 1154.32 18.7395 Q1150.19 17.6457 1146.34 17.6457 Q1139.65 17.6457 1136.01 20.2383 Q1132.4 22.8309 1132.4 27.611 Q1132.4 31.6214 1134.79 33.6873 Q1137.22 35.7128 1143.95 36.9686 L1148.89 37.9813 Q1158.05 39.7232 1162.38 44.1387 Q1166.76 48.5136 1166.76 55.8863 Q1166.76 64.6767 1160.84 69.2137 Q1154.97 73.7508 1143.58 73.7508 Q1139.29 73.7508 1134.43 72.7785 Q1129.61 71.8063 1124.42 69.9024 L1124.42 61.4765 Q1129.41 64.2716 1134.19 65.6895 Q1138.97 67.1073 1143.58 67.1073 Q1150.59 67.1073 1154.4 64.3527 Q1158.21 61.598 1158.21 56.4939 Q1158.21 52.0379 1155.45 49.5264 Q1152.74 47.0148 1146.5 45.759 L1141.52 44.7868 Q1132.36 42.9639 1128.27 39.075 Q1124.18 35.1862 1124.18 28.2591 Q1124.18 20.2383 1129.81 15.6203 Q1135.48 11.0023 1145.41 11.0023 Q1149.66 11.0023 1154.08 11.7719 Q1158.49 12.5416 1163.11 14.0809 Z\" fill=\"#000000\" fill-rule=\"evenodd\" fill-opacity=\"1\" /><path clip-path=\"url(#clip150)\" d=\"M 0 0 M1218 48.0275 L1218 51.6733 L1183.73 51.6733 Q1184.21 59.3701 1188.35 63.421 Q1192.52 67.4314 1199.93 67.4314 Q1204.23 67.4314 1208.24 66.3781 Q1212.29 65.3249 1216.26 63.2184 L1216.26 70.267 Q1212.25 71.9684 1208.03 72.8596 Q1203.82 73.7508 1199.49 73.7508 Q1188.63 73.7508 1182.27 67.4314 Q1175.95 61.1119 1175.95 50.3365 Q1175.95 39.1965 1181.95 32.6746 Q1187.98 26.1121 1198.19 26.1121 Q1207.35 26.1121 1212.65 32.0264 Q1218 37.9003 1218 48.0275 M1210.55 45.84 Q1210.46 39.7232 1207.1 36.0774 Q1203.78 32.4315 1198.27 32.4315 Q1192.03 32.4315 1188.27 35.9558 Q1184.54 39.4801 1183.97 45.8805 L1210.55 45.84 Z\" fill=\"#000000\" fill-rule=\"evenodd\" fill-opacity=\"1\" /><path clip-path=\"url(#clip150)\" d=\"M 0 0 M1230.23 27.2059 L1237.69 27.2059 L1237.69 72.576 L1230.23 72.576 L1230.23 27.2059 M1230.23 9.54393 L1237.69 9.54393 L1237.69 18.9825 L1230.23 18.9825 L1230.23 9.54393 Z\" fill=\"#000000\" fill-rule=\"evenodd\" fill-opacity=\"1\" /><path clip-path=\"url(#clip150)\" d=\"M 0 0 M1283.14 34.0924 L1283.14 9.54393 L1290.59 9.54393 L1290.59 72.576 L1283.14 72.576 L1283.14 65.7705 Q1280.79 69.8214 1277.18 71.8063 Q1273.62 73.7508 1268.59 73.7508 Q1260.37 73.7508 1255.19 67.1883 Q1250.04 60.6258 1250.04 49.9314 Q1250.04 39.2371 1255.19 32.6746 Q1260.37 26.1121 1268.59 26.1121 Q1273.62 26.1121 1277.18 28.0971 Q1280.79 30.0415 1283.14 34.0924 M1257.74 49.9314 Q1257.74 58.1548 1261.1 62.8538 Q1264.5 67.5124 1270.42 67.5124 Q1276.33 67.5124 1279.73 62.8538 Q1283.14 58.1548 1283.14 49.9314 Q1283.14 41.7081 1279.73 37.0496 Q1276.33 32.3505 1270.42 32.3505 Q1264.5 32.3505 1261.1 37.0496 Q1257.74 41.7081 1257.74 49.9314 Z\" fill=\"#000000\" fill-rule=\"evenodd\" fill-opacity=\"1\" /><path clip-path=\"url(#clip150)\" d=\"M 0 0 M1344.75 48.0275 L1344.75 51.6733 L1310.48 51.6733 Q1310.97 59.3701 1315.1 63.421 Q1319.27 67.4314 1326.68 67.4314 Q1330.98 67.4314 1334.99 66.3781 Q1339.04 65.3249 1343.01 63.2184 L1343.01 70.267 Q1339 71.9684 1334.79 72.8596 Q1330.57 73.7508 1326.24 73.7508 Q1315.38 73.7508 1309.02 67.4314 Q1302.7 61.1119 1302.7 50.3365 Q1302.7 39.1965 1308.7 32.6746 Q1314.73 26.1121 1324.94 26.1121 Q1334.1 26.1121 1339.4 32.0264 Q1344.75 37.9003 1344.75 48.0275 M1337.3 45.84 Q1337.22 39.7232 1333.85 36.0774 Q1330.53 32.4315 1325.02 32.4315 Q1318.79 32.4315 1315.02 35.9558 Q1311.29 39.4801 1310.72 45.8805 L1337.3 45.84 Z\" fill=\"#000000\" fill-rule=\"evenodd\" fill-opacity=\"1\" /><path clip-path=\"url(#clip150)\" d=\"M 0 0 M1356.99 9.54393 L1364.44 9.54393 L1364.44 72.576 L1356.99 72.576 L1356.99 9.54393 Z\" fill=\"#000000\" fill-rule=\"evenodd\" fill-opacity=\"1\" /><path clip-path=\"url(#clip150)\" d=\"M 0 0 M1435.41 44.2197 Q1438.04 45.1109 1440.52 48.0275 Q1443.03 50.9442 1445.54 56.0483 L1453.84 72.576 L1445.05 72.576 L1437.31 57.061 Q1434.32 50.9847 1431.48 48.9997 Q1428.69 47.0148 1423.83 47.0148 L1414.91 47.0148 L1414.91 72.576 L1406.73 72.576 L1406.73 12.096 L1425.2 12.096 Q1435.57 12.096 1440.68 16.4305 Q1445.78 20.7649 1445.78 29.5149 Q1445.78 35.2267 1443.11 38.994 Q1440.47 42.7613 1435.41 44.2197 M1414.91 18.8205 L1414.91 40.2903 L1425.2 40.2903 Q1431.12 40.2903 1434.11 37.5762 Q1437.15 34.8216 1437.15 29.5149 Q1437.15 24.2082 1434.11 21.5346 Q1431.12 18.8205 1425.2 18.8205 L1414.91 18.8205 Z\" fill=\"#000000\" fill-rule=\"evenodd\" fill-opacity=\"1\" /><path clip-path=\"url(#clip150)\" d=\"M 0 0 M1499.13 48.0275 L1499.13 51.6733 L1464.86 51.6733 Q1465.35 59.3701 1469.48 63.421 Q1473.65 67.4314 1481.06 67.4314 Q1485.36 67.4314 1489.37 66.3781 Q1493.42 65.3249 1497.39 63.2184 L1497.39 70.267 Q1493.38 71.9684 1489.17 72.8596 Q1484.95 73.7508 1480.62 73.7508 Q1469.76 73.7508 1463.4 67.4314 Q1457.08 61.1119 1457.08 50.3365 Q1457.08 39.1965 1463.08 32.6746 Q1469.11 26.1121 1479.32 26.1121 Q1488.48 26.1121 1493.78 32.0264 Q1499.13 37.9003 1499.13 48.0275 M1491.68 45.84 Q1491.6 39.7232 1488.23 36.0774 Q1484.91 32.4315 1479.4 32.4315 Q1473.17 32.4315 1469.4 35.9558 Q1465.67 39.4801 1465.1 45.8805 L1491.68 45.84 Z\" fill=\"#000000\" fill-rule=\"evenodd\" fill-opacity=\"1\" /><path clip-path=\"url(#clip150)\" d=\"M 0 0 M1540.29 28.5427 L1540.29 35.5912 Q1537.13 33.9709 1533.73 33.1607 Q1530.32 32.3505 1526.68 32.3505 Q1521.13 32.3505 1518.33 34.0519 Q1515.58 35.7533 1515.58 39.156 Q1515.58 41.7486 1517.56 43.2475 Q1519.55 44.7058 1525.54 46.0426 L1528.1 46.6097 Q1536.04 48.3111 1539.36 51.4303 Q1542.72 54.509 1542.72 60.0587 Q1542.72 66.3781 1537.7 70.0644 Q1532.71 73.7508 1523.96 73.7508 Q1520.32 73.7508 1516.35 73.0216 Q1512.42 72.3329 1508.04 70.9151 L1508.04 63.2184 Q1512.18 65.3654 1516.19 66.4591 Q1520.2 67.5124 1524.13 67.5124 Q1529.39 67.5124 1532.23 65.73 Q1535.06 63.9071 1535.06 60.6258 Q1535.06 57.5877 1533 55.9673 Q1530.97 54.3469 1524.04 52.8481 L1521.45 52.2405 Q1514.53 50.7821 1511.45 47.7845 Q1508.37 44.7463 1508.37 39.4801 Q1508.37 33.0797 1512.9 29.5959 Q1517.44 26.1121 1525.79 26.1121 Q1529.92 26.1121 1533.56 26.7198 Q1537.21 27.3274 1540.29 28.5427 Z\" fill=\"#000000\" fill-rule=\"evenodd\" fill-opacity=\"1\" /><path clip-path=\"url(#clip150)\" d=\"M 0 0 M1553.82 54.671 L1553.82 27.2059 L1561.27 27.2059 L1561.27 54.3874 Q1561.27 60.8284 1563.78 64.0691 Q1566.3 67.2693 1571.32 67.2693 Q1577.35 67.2693 1580.84 63.421 Q1584.36 59.5726 1584.36 52.9291 L1584.36 27.2059 L1591.82 27.2059 L1591.82 72.576 L1584.36 72.576 L1584.36 65.6084 Q1581.65 69.7404 1578.04 71.7658 Q1574.48 73.7508 1569.74 73.7508 Q1561.92 73.7508 1557.87 68.8897 Q1553.82 64.0286 1553.82 54.671 M1572.57 26.1121 L1572.57 26.1121 Z\" fill=\"#000000\" fill-rule=\"evenodd\" fill-opacity=\"1\" /><path clip-path=\"url(#clip150)\" d=\"M 0 0 M1607.17 9.54393 L1614.62 9.54393 L1614.62 72.576 L1607.17 72.576 L1607.17 9.54393 Z\" fill=\"#000000\" fill-rule=\"evenodd\" fill-opacity=\"1\" /><path clip-path=\"url(#clip150)\" d=\"M 0 0 M1637.59 14.324 L1637.59 27.2059 L1652.94 27.2059 L1652.94 32.9987 L1637.59 32.9987 L1637.59 57.6282 Q1637.59 63.1779 1639.09 64.7578 Q1640.63 66.3376 1645.29 66.3376 L1652.94 66.3376 L1652.94 72.576 L1645.29 72.576 Q1636.66 72.576 1633.38 69.3758 Q1630.1 66.1351 1630.1 57.6282 L1630.1 32.9987 L1624.63 32.9987 L1624.63 27.2059 L1630.1 27.2059 L1630.1 14.324 L1637.59 14.324 Z\" fill=\"#000000\" fill-rule=\"evenodd\" fill-opacity=\"1\" /><path clip-path=\"url(#clip150)\" d=\"M 0 0 M1691.67 28.5427 L1691.67 35.5912 Q1688.51 33.9709 1685.11 33.1607 Q1681.71 32.3505 1678.06 32.3505 Q1672.51 32.3505 1669.72 34.0519 Q1666.96 35.7533 1666.96 39.156 Q1666.96 41.7486 1668.95 43.2475 Q1670.93 44.7058 1676.93 46.0426 L1679.48 46.6097 Q1687.42 48.3111 1690.74 51.4303 Q1694.1 54.509 1694.1 60.0587 Q1694.1 66.3781 1689.08 70.0644 Q1684.1 73.7508 1675.35 73.7508 Q1671.7 73.7508 1667.73 73.0216 Q1663.8 72.3329 1659.43 70.9151 L1659.43 63.2184 Q1663.56 65.3654 1667.57 66.4591 Q1671.58 67.5124 1675.51 67.5124 Q1680.77 67.5124 1683.61 65.73 Q1686.45 63.9071 1686.45 60.6258 Q1686.45 57.5877 1684.38 55.9673 Q1682.35 54.3469 1675.43 52.8481 L1672.83 52.2405 Q1665.91 50.7821 1662.83 47.7845 Q1659.75 44.7463 1659.75 39.4801 Q1659.75 33.0797 1664.29 29.5959 Q1668.82 26.1121 1677.17 26.1121 Q1681.3 26.1121 1684.95 26.7198 Q1688.59 27.3274 1691.67 28.5427 Z\" fill=\"#000000\" fill-rule=\"evenodd\" fill-opacity=\"1\" /><circle clip-path=\"url(#clip152)\" cx=\"2178.86\" cy=\"1411.48\" r=\"18\" fill=\"#00ff00\" fill-rule=\"evenodd\" fill-opacity=\"1\" stroke=\"#000000\" stroke-opacity=\"1\" stroke-width=\"3.2\"/>\n",
       "<circle clip-path=\"url(#clip152)\" cx=\"358.089\" cy=\"198.438\" r=\"18\" fill=\"#00ff00\" fill-rule=\"evenodd\" fill-opacity=\"1\" stroke=\"#000000\" stroke-opacity=\"1\" stroke-width=\"3.2\"/>\n",
       "<circle clip-path=\"url(#clip152)\" cx=\"813.281\" cy=\"501.699\" r=\"18\" fill=\"#00ff00\" fill-rule=\"evenodd\" fill-opacity=\"1\" stroke=\"#000000\" stroke-opacity=\"1\" stroke-width=\"3.2\"/>\n",
       "<circle clip-path=\"url(#clip152)\" cx=\"699.483\" cy=\"425.884\" r=\"18\" fill=\"#00ff00\" fill-rule=\"evenodd\" fill-opacity=\"1\" stroke=\"#000000\" stroke-opacity=\"1\" stroke-width=\"3.2\"/>\n",
       "<circle clip-path=\"url(#clip152)\" cx=\"727.932\" cy=\"444.838\" r=\"18\" fill=\"#00ff00\" fill-rule=\"evenodd\" fill-opacity=\"1\" stroke=\"#000000\" stroke-opacity=\"1\" stroke-width=\"3.2\"/>\n",
       "<circle clip-path=\"url(#clip152)\" cx=\"720.82\" cy=\"440.099\" r=\"18\" fill=\"#00ff00\" fill-rule=\"evenodd\" fill-opacity=\"1\" stroke=\"#000000\" stroke-opacity=\"1\" stroke-width=\"3.2\"/>\n",
       "<polyline clip-path=\"url(#clip152)\" style=\"stroke:#ff0000; stroke-width:8; stroke-opacity:1; fill:none\" points=\"\n",
       "  303.466,162.047 322.314,174.604 496.592,290.713 601.327,360.49 689.878,419.485 786.07,483.57 874.75,542.651 969.825,605.992 1079.98,679.379 1177.87,744.597 \n",
       "  1263.71,801.787 1357.3,864.139 1451.45,926.862 1555.54,996.211 1654.58,1062.19 1757.56,1130.8 1844.24,1188.55 1950.08,1259.06 2049.57,1325.34 2208.95,1431.53 \n",
       "  2233.48,1447.87 \n",
       "  \"/>\n",
       "<polyline clip-path=\"url(#clip152)\" style=\"stroke:#0000ff; stroke-width:8; stroke-opacity:1; fill:none\" points=\"\n",
       "  245.565,520.441 265.544,517.113 450.28,486.344 561.298,467.853 655.162,452.22 757.126,435.237 851.127,419.58 951.906,402.795 1068.67,383.348 1172.43,366.065 \n",
       "  1263.42,350.91 1362.63,334.386 1462.43,317.765 1572.76,299.387 1677.75,281.902 1786.9,263.721 1878.79,248.416 1990.98,229.731 2096.43,212.167 2265.38,184.027 \n",
       "  2291.38,179.697 \n",
       "  \"/>\n",
       "</svg>\n"
      ]
     },
     "execution_count": 18,
     "metadata": {},
     "output_type": "execute_result"
    }
   ],
   "source": [
    "scatter(X_seidel,Y_seidel,leg=false, title=\"Gauss Seidel Results\", markersize = 5, color=\"lime\")\n",
    "plot!(x -> 2 - 2*x, c=:red, lw=2)\n",
    "plot!(x -> (2 + x)/2, c=:blue, lw=2)"
   ]
  },
  {
   "cell_type": "code",
   "execution_count": 19,
   "metadata": {},
   "outputs": [
    {
     "data": {
      "image/svg+xml": [
       "<?xml version=\"1.0\" encoding=\"utf-8\"?>\n",
       "<svg xmlns=\"http://www.w3.org/2000/svg\" xmlns:xlink=\"http://www.w3.org/1999/xlink\" width=\"600\" height=\"400\" viewBox=\"0 0 2400 1600\">\n",
       "<defs>\n",
       "  <clipPath id=\"clip190\">\n",
       "    <rect x=\"0\" y=\"0\" width=\"2400\" height=\"1600\"/>\n",
       "  </clipPath>\n",
       "</defs>\n",
       "<path clip-path=\"url(#clip190)\" d=\"\n",
       "M0 1600 L2400 1600 L2400 0 L0 0  Z\n",
       "  \" fill=\"#ffffff\" fill-rule=\"evenodd\" fill-opacity=\"1\"/>\n",
       "<defs>\n",
       "  <clipPath id=\"clip191\">\n",
       "    <rect x=\"480\" y=\"0\" width=\"1681\" height=\"1600\"/>\n",
       "  </clipPath>\n",
       "</defs>\n",
       "<path clip-path=\"url(#clip190)\" d=\"\n",
       "M156.112 1486.45 L2352.76 1486.45 L2352.76 123.472 L156.112 123.472  Z\n",
       "  \" fill=\"#ffffff\" fill-rule=\"evenodd\" fill-opacity=\"1\"/>\n",
       "<defs>\n",
       "  <clipPath id=\"clip192\">\n",
       "    <rect x=\"156\" y=\"123\" width=\"2198\" height=\"1364\"/>\n",
       "  </clipPath>\n",
       "</defs>\n",
       "<polyline clip-path=\"url(#clip192)\" style=\"stroke:#000000; stroke-width:2; stroke-opacity:0.1; fill:none\" points=\"\n",
       "  209.305,1486.45 209.305,123.472 \n",
       "  \"/>\n",
       "<polyline clip-path=\"url(#clip192)\" style=\"stroke:#000000; stroke-width:2; stroke-opacity:0.1; fill:none\" points=\"\n",
       "  701.131,1486.45 701.131,123.472 \n",
       "  \"/>\n",
       "<polyline clip-path=\"url(#clip192)\" style=\"stroke:#000000; stroke-width:2; stroke-opacity:0.1; fill:none\" points=\"\n",
       "  1192.96,1486.45 1192.96,123.472 \n",
       "  \"/>\n",
       "<polyline clip-path=\"url(#clip192)\" style=\"stroke:#000000; stroke-width:2; stroke-opacity:0.1; fill:none\" points=\"\n",
       "  1684.78,1486.45 1684.78,123.472 \n",
       "  \"/>\n",
       "<polyline clip-path=\"url(#clip192)\" style=\"stroke:#000000; stroke-width:2; stroke-opacity:0.1; fill:none\" points=\"\n",
       "  2176.61,1486.45 2176.61,123.472 \n",
       "  \"/>\n",
       "<polyline clip-path=\"url(#clip190)\" style=\"stroke:#000000; stroke-width:4; stroke-opacity:1; fill:none\" points=\"\n",
       "  156.112,1486.45 2352.76,1486.45 \n",
       "  \"/>\n",
       "<polyline clip-path=\"url(#clip190)\" style=\"stroke:#000000; stroke-width:4; stroke-opacity:1; fill:none\" points=\"\n",
       "  209.305,1486.45 209.305,1470.09 \n",
       "  \"/>\n",
       "<polyline clip-path=\"url(#clip190)\" style=\"stroke:#000000; stroke-width:4; stroke-opacity:1; fill:none\" points=\"\n",
       "  701.131,1486.45 701.131,1470.09 \n",
       "  \"/>\n",
       "<polyline clip-path=\"url(#clip190)\" style=\"stroke:#000000; stroke-width:4; stroke-opacity:1; fill:none\" points=\"\n",
       "  1192.96,1486.45 1192.96,1470.09 \n",
       "  \"/>\n",
       "<polyline clip-path=\"url(#clip190)\" style=\"stroke:#000000; stroke-width:4; stroke-opacity:1; fill:none\" points=\"\n",
       "  1684.78,1486.45 1684.78,1470.09 \n",
       "  \"/>\n",
       "<polyline clip-path=\"url(#clip190)\" style=\"stroke:#000000; stroke-width:4; stroke-opacity:1; fill:none\" points=\"\n",
       "  2176.61,1486.45 2176.61,1470.09 \n",
       "  \"/>\n",
       "<path clip-path=\"url(#clip190)\" d=\"M 0 0 M187.488 1515.64 Q183.877 1515.64 182.049 1519.2 Q180.243 1522.75 180.243 1529.87 Q180.243 1536.98 182.049 1540.55 Q183.877 1544.09 187.488 1544.09 Q191.123 1544.09 192.928 1540.55 Q194.757 1536.98 194.757 1529.87 Q194.757 1522.75 192.928 1519.2 Q191.123 1515.64 187.488 1515.64 M187.488 1511.93 Q193.299 1511.93 196.354 1516.54 Q199.433 1521.12 199.433 1529.87 Q199.433 1538.6 196.354 1543.21 Q193.299 1547.79 187.488 1547.79 Q181.678 1547.79 178.6 1543.21 Q175.544 1538.6 175.544 1529.87 Q175.544 1521.12 178.6 1516.54 Q181.678 1511.93 187.488 1511.93 Z\" fill=\"#000000\" fill-rule=\"evenodd\" fill-opacity=\"1\" /><path clip-path=\"url(#clip190)\" d=\"M 0 0 M207.65 1541.24 L212.535 1541.24 L212.535 1547.12 L207.65 1547.12 L207.65 1541.24 Z\" fill=\"#000000\" fill-rule=\"evenodd\" fill-opacity=\"1\" /><path clip-path=\"url(#clip190)\" d=\"M 0 0 M226.748 1543.18 L243.067 1543.18 L243.067 1547.12 L221.123 1547.12 L221.123 1543.18 Q223.785 1540.43 228.368 1535.8 Q232.974 1531.15 234.155 1529.81 Q236.4 1527.28 237.28 1525.55 Q238.183 1523.79 238.183 1522.1 Q238.183 1519.34 236.238 1517.61 Q234.317 1515.87 231.215 1515.87 Q229.016 1515.87 226.562 1516.63 Q224.132 1517.4 221.354 1518.95 L221.354 1514.23 Q224.178 1513.09 226.632 1512.51 Q229.085 1511.93 231.122 1511.93 Q236.493 1511.93 239.687 1514.62 Q242.882 1517.31 242.882 1521.8 Q242.882 1523.93 242.072 1525.85 Q241.284 1527.74 239.178 1530.34 Q238.599 1531.01 235.497 1534.23 Q232.396 1537.42 226.748 1543.18 Z\" fill=\"#000000\" fill-rule=\"evenodd\" fill-opacity=\"1\" /><path clip-path=\"url(#clip190)\" d=\"M 0 0 M678.272 1515.64 Q674.661 1515.64 672.832 1519.2 Q671.027 1522.75 671.027 1529.87 Q671.027 1536.98 672.832 1540.55 Q674.661 1544.09 678.272 1544.09 Q681.906 1544.09 683.712 1540.55 Q685.54 1536.98 685.54 1529.87 Q685.54 1522.75 683.712 1519.2 Q681.906 1515.64 678.272 1515.64 M678.272 1511.93 Q684.082 1511.93 687.138 1516.54 Q690.216 1521.12 690.216 1529.87 Q690.216 1538.6 687.138 1543.21 Q684.082 1547.79 678.272 1547.79 Q672.462 1547.79 669.383 1543.21 Q666.328 1538.6 666.328 1529.87 Q666.328 1521.12 669.383 1516.54 Q672.462 1511.93 678.272 1511.93 Z\" fill=\"#000000\" fill-rule=\"evenodd\" fill-opacity=\"1\" /><path clip-path=\"url(#clip190)\" d=\"M 0 0 M698.434 1541.24 L703.318 1541.24 L703.318 1547.12 L698.434 1547.12 L698.434 1541.24 Z\" fill=\"#000000\" fill-rule=\"evenodd\" fill-opacity=\"1\" /><path clip-path=\"url(#clip190)\" d=\"M 0 0 M726.35 1516.63 L714.545 1535.08 L726.35 1535.08 L726.35 1516.63 M725.124 1512.56 L731.003 1512.56 L731.003 1535.08 L735.934 1535.08 L735.934 1538.97 L731.003 1538.97 L731.003 1547.12 L726.35 1547.12 L726.35 1538.97 L710.749 1538.97 L710.749 1534.46 L725.124 1512.56 Z\" fill=\"#000000\" fill-rule=\"evenodd\" fill-opacity=\"1\" /><path clip-path=\"url(#clip190)\" d=\"M 0 0 M1170.26 1515.64 Q1166.65 1515.64 1164.82 1519.2 Q1163.01 1522.75 1163.01 1529.87 Q1163.01 1536.98 1164.82 1540.55 Q1166.65 1544.09 1170.26 1544.09 Q1173.89 1544.09 1175.7 1540.55 Q1177.53 1536.98 1177.53 1529.87 Q1177.53 1522.75 1175.7 1519.2 Q1173.89 1515.64 1170.26 1515.64 M1170.26 1511.93 Q1176.07 1511.93 1179.12 1516.54 Q1182.2 1521.12 1182.2 1529.87 Q1182.2 1538.6 1179.12 1543.21 Q1176.07 1547.79 1170.26 1547.79 Q1164.45 1547.79 1161.37 1543.21 Q1158.31 1538.6 1158.31 1529.87 Q1158.31 1521.12 1161.37 1516.54 Q1164.45 1511.93 1170.26 1511.93 Z\" fill=\"#000000\" fill-rule=\"evenodd\" fill-opacity=\"1\" /><path clip-path=\"url(#clip190)\" d=\"M 0 0 M1190.42 1541.24 L1195.31 1541.24 L1195.31 1547.12 L1190.42 1547.12 L1190.42 1541.24 Z\" fill=\"#000000\" fill-rule=\"evenodd\" fill-opacity=\"1\" /><path clip-path=\"url(#clip190)\" d=\"M 0 0 M1216.07 1527.98 Q1212.92 1527.98 1211.07 1530.13 Q1209.24 1532.28 1209.24 1536.03 Q1209.24 1539.76 1211.07 1541.93 Q1212.92 1544.09 1216.07 1544.09 Q1219.22 1544.09 1221.05 1541.93 Q1222.9 1539.76 1222.9 1536.03 Q1222.9 1532.28 1221.05 1530.13 Q1219.22 1527.98 1216.07 1527.98 M1225.35 1513.32 L1225.35 1517.58 Q1223.59 1516.75 1221.79 1516.31 Q1220 1515.87 1218.25 1515.87 Q1213.62 1515.87 1211.16 1519 Q1208.73 1522.12 1208.38 1528.44 Q1209.75 1526.43 1211.81 1525.36 Q1213.87 1524.27 1216.35 1524.27 Q1221.56 1524.27 1224.56 1527.44 Q1227.6 1530.59 1227.6 1536.03 Q1227.6 1541.36 1224.45 1544.57 Q1221.3 1547.79 1216.07 1547.79 Q1210.07 1547.79 1206.9 1543.21 Q1203.73 1538.6 1203.73 1529.87 Q1203.73 1521.68 1207.62 1516.82 Q1211.51 1511.93 1218.06 1511.93 Q1219.82 1511.93 1221.6 1512.28 Q1223.41 1512.63 1225.35 1513.32 Z\" fill=\"#000000\" fill-rule=\"evenodd\" fill-opacity=\"1\" /><path clip-path=\"url(#clip190)\" d=\"M 0 0 M1662.21 1515.64 Q1658.6 1515.64 1656.77 1519.2 Q1654.97 1522.75 1654.97 1529.87 Q1654.97 1536.98 1656.77 1540.55 Q1658.6 1544.09 1662.21 1544.09 Q1665.85 1544.09 1667.65 1540.55 Q1669.48 1536.98 1669.48 1529.87 Q1669.48 1522.75 1667.65 1519.2 Q1665.85 1515.64 1662.21 1515.64 M1662.21 1511.93 Q1668.02 1511.93 1671.08 1516.54 Q1674.16 1521.12 1674.16 1529.87 Q1674.16 1538.6 1671.08 1543.21 Q1668.02 1547.79 1662.21 1547.79 Q1656.4 1547.79 1653.32 1543.21 Q1650.27 1538.6 1650.27 1529.87 Q1650.27 1521.12 1653.32 1516.54 Q1656.4 1511.93 1662.21 1511.93 Z\" fill=\"#000000\" fill-rule=\"evenodd\" fill-opacity=\"1\" /><path clip-path=\"url(#clip190)\" d=\"M 0 0 M1682.37 1541.24 L1687.26 1541.24 L1687.26 1547.12 L1682.37 1547.12 L1682.37 1541.24 Z\" fill=\"#000000\" fill-rule=\"evenodd\" fill-opacity=\"1\" /><path clip-path=\"url(#clip190)\" d=\"M 0 0 M1707.44 1530.71 Q1704.11 1530.71 1702.19 1532.49 Q1700.29 1534.27 1700.29 1537.4 Q1700.29 1540.52 1702.19 1542.31 Q1704.11 1544.09 1707.44 1544.09 Q1710.78 1544.09 1712.7 1542.31 Q1714.62 1540.5 1714.62 1537.4 Q1714.62 1534.27 1712.7 1532.49 Q1710.8 1530.71 1707.44 1530.71 M1702.77 1528.72 Q1699.76 1527.98 1698.07 1525.92 Q1696.4 1523.86 1696.4 1520.89 Q1696.4 1516.75 1699.34 1514.34 Q1702.3 1511.93 1707.44 1511.93 Q1712.6 1511.93 1715.54 1514.34 Q1718.48 1516.75 1718.48 1520.89 Q1718.48 1523.86 1716.79 1525.92 Q1715.13 1527.98 1712.14 1528.72 Q1715.52 1529.5 1717.4 1531.8 Q1719.29 1534.09 1719.29 1537.4 Q1719.29 1542.42 1716.22 1545.11 Q1713.16 1547.79 1707.44 1547.79 Q1701.73 1547.79 1698.65 1545.11 Q1695.59 1542.42 1695.59 1537.4 Q1695.59 1534.09 1697.49 1531.8 Q1699.39 1529.5 1702.77 1528.72 M1701.05 1521.33 Q1701.05 1524.02 1702.72 1525.52 Q1704.41 1527.03 1707.44 1527.03 Q1710.45 1527.03 1712.14 1525.52 Q1713.85 1524.02 1713.85 1521.33 Q1713.85 1518.65 1712.14 1517.14 Q1710.45 1515.64 1707.44 1515.64 Q1704.41 1515.64 1702.72 1517.14 Q1701.05 1518.65 1701.05 1521.33 Z\" fill=\"#000000\" fill-rule=\"evenodd\" fill-opacity=\"1\" /><path clip-path=\"url(#clip190)\" d=\"M 0 0 M2143.76 1543.18 L2151.4 1543.18 L2151.4 1516.82 L2143.09 1518.49 L2143.09 1514.23 L2151.35 1512.56 L2156.03 1512.56 L2156.03 1543.18 L2163.67 1543.18 L2163.67 1547.12 L2143.76 1547.12 L2143.76 1543.18 Z\" fill=\"#000000\" fill-rule=\"evenodd\" fill-opacity=\"1\" /><path clip-path=\"url(#clip190)\" d=\"M 0 0 M2173.11 1541.24 L2178 1541.24 L2178 1547.12 L2173.11 1547.12 L2173.11 1541.24 Z\" fill=\"#000000\" fill-rule=\"evenodd\" fill-opacity=\"1\" /><path clip-path=\"url(#clip190)\" d=\"M 0 0 M2198.18 1515.64 Q2194.57 1515.64 2192.74 1519.2 Q2190.93 1522.75 2190.93 1529.87 Q2190.93 1536.98 2192.74 1540.55 Q2194.57 1544.09 2198.18 1544.09 Q2201.81 1544.09 2203.62 1540.55 Q2205.45 1536.98 2205.45 1529.87 Q2205.45 1522.75 2203.62 1519.2 Q2201.81 1515.64 2198.18 1515.64 M2198.18 1511.93 Q2203.99 1511.93 2207.05 1516.54 Q2210.12 1521.12 2210.12 1529.87 Q2210.12 1538.6 2207.05 1543.21 Q2203.99 1547.79 2198.18 1547.79 Q2192.37 1547.79 2189.29 1543.21 Q2186.24 1538.6 2186.24 1529.87 Q2186.24 1521.12 2189.29 1516.54 Q2192.37 1511.93 2198.18 1511.93 Z\" fill=\"#000000\" fill-rule=\"evenodd\" fill-opacity=\"1\" /><polyline clip-path=\"url(#clip192)\" style=\"stroke:#000000; stroke-width:2; stroke-opacity:0.1; fill:none\" points=\"\n",
       "  156.112,1411.48 2352.76,1411.48 \n",
       "  \"/>\n",
       "<polyline clip-path=\"url(#clip192)\" style=\"stroke:#000000; stroke-width:2; stroke-opacity:0.1; fill:none\" points=\"\n",
       "  156.112,1007.13 2352.76,1007.13 \n",
       "  \"/>\n",
       "<polyline clip-path=\"url(#clip192)\" style=\"stroke:#000000; stroke-width:2; stroke-opacity:0.1; fill:none\" points=\"\n",
       "  156.112,602.786 2352.76,602.786 \n",
       "  \"/>\n",
       "<polyline clip-path=\"url(#clip192)\" style=\"stroke:#000000; stroke-width:2; stroke-opacity:0.1; fill:none\" points=\"\n",
       "  156.112,198.438 2352.76,198.438 \n",
       "  \"/>\n",
       "<polyline clip-path=\"url(#clip190)\" style=\"stroke:#000000; stroke-width:4; stroke-opacity:1; fill:none\" points=\"\n",
       "  156.112,1486.45 156.112,123.472 \n",
       "  \"/>\n",
       "<polyline clip-path=\"url(#clip190)\" style=\"stroke:#000000; stroke-width:4; stroke-opacity:1; fill:none\" points=\"\n",
       "  156.112,1411.48 182.472,1411.48 \n",
       "  \"/>\n",
       "<polyline clip-path=\"url(#clip190)\" style=\"stroke:#000000; stroke-width:4; stroke-opacity:1; fill:none\" points=\"\n",
       "  156.112,1007.13 182.472,1007.13 \n",
       "  \"/>\n",
       "<polyline clip-path=\"url(#clip190)\" style=\"stroke:#000000; stroke-width:4; stroke-opacity:1; fill:none\" points=\"\n",
       "  156.112,602.786 182.472,602.786 \n",
       "  \"/>\n",
       "<polyline clip-path=\"url(#clip190)\" style=\"stroke:#000000; stroke-width:4; stroke-opacity:1; fill:none\" points=\"\n",
       "  156.112,198.438 182.472,198.438 \n",
       "  \"/>\n",
       "<path clip-path=\"url(#clip190)\" d=\"M 0 0 M62.9365 1397.28 Q59.3254 1397.28 57.4967 1400.85 Q55.6912 1404.39 55.6912 1411.52 Q55.6912 1418.62 57.4967 1422.19 Q59.3254 1425.73 62.9365 1425.73 Q66.5707 1425.73 68.3763 1422.19 Q70.205 1418.62 70.205 1411.52 Q70.205 1404.39 68.3763 1400.85 Q66.5707 1397.28 62.9365 1397.28 M62.9365 1393.58 Q68.7467 1393.58 71.8022 1398.18 Q74.8809 1402.77 74.8809 1411.52 Q74.8809 1420.24 71.8022 1424.85 Q68.7467 1429.43 62.9365 1429.43 Q57.1264 1429.43 54.0477 1424.85 Q50.9921 1420.24 50.9921 1411.52 Q50.9921 1402.77 54.0477 1398.18 Q57.1264 1393.58 62.9365 1393.58 Z\" fill=\"#000000\" fill-rule=\"evenodd\" fill-opacity=\"1\" /><path clip-path=\"url(#clip190)\" d=\"M 0 0 M83.0984 1422.88 L87.9827 1422.88 L87.9827 1428.76 L83.0984 1428.76 L83.0984 1422.88 Z\" fill=\"#000000\" fill-rule=\"evenodd\" fill-opacity=\"1\" /><path clip-path=\"url(#clip190)\" d=\"M 0 0 M108.168 1397.28 Q104.557 1397.28 102.728 1400.85 Q100.922 1404.39 100.922 1411.52 Q100.922 1418.62 102.728 1422.19 Q104.557 1425.73 108.168 1425.73 Q111.802 1425.73 113.608 1422.19 Q115.436 1418.62 115.436 1411.52 Q115.436 1404.39 113.608 1400.85 Q111.802 1397.28 108.168 1397.28 M108.168 1393.58 Q113.978 1393.58 117.033 1398.18 Q120.112 1402.77 120.112 1411.52 Q120.112 1420.24 117.033 1424.85 Q113.978 1429.43 108.168 1429.43 Q102.358 1429.43 99.2789 1424.85 Q96.2234 1420.24 96.2234 1411.52 Q96.2234 1402.77 99.2789 1398.18 Q102.358 1393.58 108.168 1393.58 Z\" fill=\"#000000\" fill-rule=\"evenodd\" fill-opacity=\"1\" /><path clip-path=\"url(#clip190)\" d=\"M 0 0 M63.9319 992.933 Q60.3208 992.933 58.4921 996.497 Q56.6865 1000.04 56.6865 1007.17 Q56.6865 1014.28 58.4921 1017.84 Q60.3208 1021.38 63.9319 1021.38 Q67.5661 1021.38 69.3717 1017.84 Q71.2004 1014.28 71.2004 1007.17 Q71.2004 1000.04 69.3717 996.497 Q67.5661 992.933 63.9319 992.933 M63.9319 989.229 Q69.742 989.229 72.7976 993.835 Q75.8763 998.419 75.8763 1007.17 Q75.8763 1015.9 72.7976 1020.5 Q69.742 1025.09 63.9319 1025.09 Q58.1217 1025.09 55.043 1020.5 Q51.9875 1015.9 51.9875 1007.17 Q51.9875 998.419 55.043 993.835 Q58.1217 989.229 63.9319 989.229 Z\" fill=\"#000000\" fill-rule=\"evenodd\" fill-opacity=\"1\" /><path clip-path=\"url(#clip190)\" d=\"M 0 0 M84.0938 1018.53 L88.978 1018.53 L88.978 1024.41 L84.0938 1024.41 L84.0938 1018.53 Z\" fill=\"#000000\" fill-rule=\"evenodd\" fill-opacity=\"1\" /><path clip-path=\"url(#clip190)\" d=\"M 0 0 M99.2095 989.854 L117.566 989.854 L117.566 993.789 L103.492 993.789 L103.492 1002.26 Q104.51 1001.91 105.529 1001.75 Q106.547 1001.57 107.566 1001.57 Q113.353 1001.57 116.733 1004.74 Q120.112 1007.91 120.112 1013.33 Q120.112 1018.9 116.64 1022.01 Q113.168 1025.09 106.848 1025.09 Q104.672 1025.09 102.404 1024.71 Q100.159 1024.34 97.7511 1023.6 L97.7511 1018.9 Q99.8345 1020.04 102.057 1020.59 Q104.279 1021.15 106.756 1021.15 Q110.76 1021.15 113.098 1019.04 Q115.436 1016.94 115.436 1013.33 Q115.436 1009.71 113.098 1007.61 Q110.76 1005.5 106.756 1005.5 Q104.881 1005.5 103.006 1005.92 Q101.154 1006.34 99.2095 1007.21 L99.2095 989.854 Z\" fill=\"#000000\" fill-rule=\"evenodd\" fill-opacity=\"1\" /><path clip-path=\"url(#clip190)\" d=\"M 0 0 M53.7467 616.131 L61.3856 616.131 L61.3856 589.765 L53.0754 591.432 L53.0754 587.173 L61.3393 585.506 L66.0152 585.506 L66.0152 616.131 L73.654 616.131 L73.654 620.066 L53.7467 620.066 L53.7467 616.131 Z\" fill=\"#000000\" fill-rule=\"evenodd\" fill-opacity=\"1\" /><path clip-path=\"url(#clip190)\" d=\"M 0 0 M83.0984 614.186 L87.9827 614.186 L87.9827 620.066 L83.0984 620.066 L83.0984 614.186 Z\" fill=\"#000000\" fill-rule=\"evenodd\" fill-opacity=\"1\" /><path clip-path=\"url(#clip190)\" d=\"M 0 0 M108.168 588.585 Q104.557 588.585 102.728 592.15 Q100.922 595.691 100.922 602.821 Q100.922 609.927 102.728 613.492 Q104.557 617.034 108.168 617.034 Q111.802 617.034 113.608 613.492 Q115.436 609.927 115.436 602.821 Q115.436 595.691 113.608 592.15 Q111.802 588.585 108.168 588.585 M108.168 584.881 Q113.978 584.881 117.033 589.488 Q120.112 594.071 120.112 602.821 Q120.112 611.548 117.033 616.154 Q113.978 620.737 108.168 620.737 Q102.358 620.737 99.2789 616.154 Q96.2234 611.548 96.2234 602.821 Q96.2234 594.071 99.2789 589.488 Q102.358 584.881 108.168 584.881 Z\" fill=\"#000000\" fill-rule=\"evenodd\" fill-opacity=\"1\" /><path clip-path=\"url(#clip190)\" d=\"M 0 0 M54.7421 211.783 L62.381 211.783 L62.381 185.417 L54.0708 187.084 L54.0708 182.825 L62.3347 181.158 L67.0106 181.158 L67.0106 211.783 L74.6494 211.783 L74.6494 215.718 L54.7421 215.718 L54.7421 211.783 Z\" fill=\"#000000\" fill-rule=\"evenodd\" fill-opacity=\"1\" /><path clip-path=\"url(#clip190)\" d=\"M 0 0 M84.0938 209.839 L88.978 209.839 L88.978 215.718 L84.0938 215.718 L84.0938 209.839 Z\" fill=\"#000000\" fill-rule=\"evenodd\" fill-opacity=\"1\" /><path clip-path=\"url(#clip190)\" d=\"M 0 0 M99.2095 181.158 L117.566 181.158 L117.566 185.093 L103.492 185.093 L103.492 193.566 Q104.51 193.218 105.529 193.056 Q106.547 192.871 107.566 192.871 Q113.353 192.871 116.733 196.042 Q120.112 199.214 120.112 204.63 Q120.112 210.209 116.64 213.311 Q113.168 216.39 106.848 216.39 Q104.672 216.39 102.404 216.019 Q100.159 215.649 97.7511 214.908 L97.7511 210.209 Q99.8345 211.343 102.057 211.899 Q104.279 212.454 106.756 212.454 Q110.76 212.454 113.098 210.348 Q115.436 208.241 115.436 204.63 Q115.436 201.019 113.098 198.913 Q110.76 196.806 106.756 196.806 Q104.881 196.806 103.006 197.223 Q101.154 197.64 99.2095 198.519 L99.2095 181.158 Z\" fill=\"#000000\" fill-rule=\"evenodd\" fill-opacity=\"1\" /><path clip-path=\"url(#clip190)\" d=\"M 0 0 M876.586 63.9476 L876.586 47.7034 L863.218 47.7034 L863.218 40.9789 L884.688 40.9789 L884.688 66.9452 Q879.948 70.3075 874.236 72.0494 Q868.525 73.7508 862.043 73.7508 Q847.865 73.7508 839.844 65.4869 Q831.864 57.1826 831.864 42.3968 Q831.864 27.5705 839.844 19.3066 Q847.865 11.0023 862.043 11.0023 Q867.957 11.0023 873.264 12.4606 Q878.611 13.9189 883.108 16.7545 L883.108 25.464 Q878.571 21.6156 873.467 19.6712 Q868.363 17.7268 862.732 17.7268 Q851.632 17.7268 846.042 23.9246 Q840.492 30.1225 840.492 42.3968 Q840.492 54.6305 846.042 60.8284 Q851.632 67.0263 862.732 67.0263 Q867.066 67.0263 870.469 66.2971 Q873.872 65.5274 876.586 63.9476 Z\" fill=\"#000000\" fill-rule=\"evenodd\" fill-opacity=\"1\" /><path clip-path=\"url(#clip190)\" d=\"M 0 0 M919.931 49.7694 Q910.897 49.7694 907.413 51.8354 Q903.93 53.9013 903.93 58.8839 Q903.93 62.8538 906.522 65.2034 Q909.155 67.5124 913.652 67.5124 Q919.85 67.5124 923.576 63.1374 Q927.344 58.7219 927.344 51.4303 L927.344 49.7694 L919.931 49.7694 M934.797 46.6907 L934.797 72.576 L927.344 72.576 L927.344 65.6895 Q924.792 69.8214 920.984 71.8063 Q917.176 73.7508 911.667 73.7508 Q904.699 73.7508 900.567 69.8619 Q896.476 65.9325 896.476 59.3701 Q896.476 51.7138 901.58 47.825 Q906.725 43.9361 916.892 43.9361 L927.344 43.9361 L927.344 43.2069 Q927.344 38.0623 923.941 35.2672 Q920.579 32.4315 914.462 32.4315 Q910.573 32.4315 906.887 33.3632 Q903.2 34.295 899.798 36.1584 L899.798 29.2718 Q903.889 27.692 907.737 26.9223 Q911.586 26.1121 915.232 26.1121 Q925.075 26.1121 929.936 31.2163 Q934.797 36.3204 934.797 46.6907 Z\" fill=\"#000000\" fill-rule=\"evenodd\" fill-opacity=\"1\" /><path clip-path=\"url(#clip190)\" d=\"M 0 0 M949.381 54.671 L949.381 27.2059 L956.834 27.2059 L956.834 54.3874 Q956.834 60.8284 959.346 64.0691 Q961.857 67.2693 966.881 67.2693 Q972.916 67.2693 976.4 63.421 Q979.924 59.5726 979.924 52.9291 L979.924 27.2059 L987.378 27.2059 L987.378 72.576 L979.924 72.576 L979.924 65.6084 Q977.21 69.7404 973.605 71.7658 Q970.04 73.7508 965.301 73.7508 Q957.482 73.7508 953.432 68.8897 Q949.381 64.0286 949.381 54.671 M968.136 26.1121 L968.136 26.1121 Z\" fill=\"#000000\" fill-rule=\"evenodd\" fill-opacity=\"1\" /><path clip-path=\"url(#clip190)\" d=\"M 0 0 M1031.65 28.5427 L1031.65 35.5912 Q1028.49 33.9709 1025.09 33.1607 Q1021.69 32.3505 1018.04 32.3505 Q1012.49 32.3505 1009.7 34.0519 Q1006.94 35.7533 1006.94 39.156 Q1006.94 41.7486 1008.93 43.2475 Q1010.91 44.7058 1016.91 46.0426 L1019.46 46.6097 Q1027.4 48.3111 1030.72 51.4303 Q1034.09 54.509 1034.09 60.0587 Q1034.09 66.3781 1029.06 70.0644 Q1024.08 73.7508 1015.33 73.7508 Q1011.68 73.7508 1007.71 73.0216 Q1003.78 72.3329 999.409 70.9151 L999.409 63.2184 Q1003.54 65.3654 1007.55 66.4591 Q1011.56 67.5124 1015.49 67.5124 Q1020.76 67.5124 1023.59 65.73 Q1026.43 63.9071 1026.43 60.6258 Q1026.43 57.5877 1024.36 55.9673 Q1022.34 54.3469 1015.41 52.8481 L1012.82 52.2405 Q1005.89 50.7821 1002.81 47.7845 Q999.733 44.7463 999.733 39.4801 Q999.733 33.0797 1004.27 29.5959 Q1008.81 26.1121 1017.15 26.1121 Q1021.28 26.1121 1024.93 26.7198 Q1028.58 27.3274 1031.65 28.5427 Z\" fill=\"#000000\" fill-rule=\"evenodd\" fill-opacity=\"1\" /><path clip-path=\"url(#clip190)\" d=\"M 0 0 M1074.88 28.5427 L1074.88 35.5912 Q1071.72 33.9709 1068.32 33.1607 Q1064.91 32.3505 1061.27 32.3505 Q1055.72 32.3505 1052.92 34.0519 Q1050.17 35.7533 1050.17 39.156 Q1050.17 41.7486 1052.15 43.2475 Q1054.14 44.7058 1060.13 46.0426 L1062.68 46.6097 Q1070.62 48.3111 1073.95 51.4303 Q1077.31 54.509 1077.31 60.0587 Q1077.31 66.3781 1072.29 70.0644 Q1067.3 73.7508 1058.55 73.7508 Q1054.91 73.7508 1050.94 73.0216 Q1047.01 72.3329 1042.63 70.9151 L1042.63 63.2184 Q1046.76 65.3654 1050.77 66.4591 Q1054.79 67.5124 1058.71 67.5124 Q1063.98 67.5124 1066.82 65.73 Q1069.65 63.9071 1069.65 60.6258 Q1069.65 57.5877 1067.59 55.9673 Q1065.56 54.3469 1058.63 52.8481 L1056.04 52.2405 Q1049.11 50.7821 1046.04 47.7845 Q1042.96 44.7463 1042.96 39.4801 Q1042.96 33.0797 1047.49 29.5959 Q1052.03 26.1121 1060.38 26.1121 Q1064.51 26.1121 1068.15 26.7198 Q1071.8 27.3274 1074.88 28.5427 Z\" fill=\"#000000\" fill-rule=\"evenodd\" fill-opacity=\"1\" /><path clip-path=\"url(#clip190)\" d=\"M 0 0 M1115.87 12.096 L1124.06 12.096 L1124.06 68.3631 Q1124.06 79.3005 1119.88 84.2426 Q1115.75 89.1847 1106.56 89.1847 L1103.44 89.1847 L1103.44 82.2982 L1105.99 82.2982 Q1111.42 82.2982 1113.64 79.26 Q1115.87 76.2218 1115.87 68.3631 L1115.87 12.096 Z\" fill=\"#000000\" fill-rule=\"evenodd\" fill-opacity=\"1\" /><path clip-path=\"url(#clip190)\" d=\"M 0 0 M1160.64 49.7694 Q1151.6 49.7694 1148.12 51.8354 Q1144.63 53.9013 1144.63 58.8839 Q1144.63 62.8538 1147.23 65.2034 Q1149.86 67.5124 1154.36 67.5124 Q1160.55 67.5124 1164.28 63.1374 Q1168.05 58.7219 1168.05 51.4303 L1168.05 49.7694 L1160.64 49.7694 M1175.5 46.6907 L1175.5 72.576 L1168.05 72.576 L1168.05 65.6895 Q1165.5 69.8214 1161.69 71.8063 Q1157.88 73.7508 1152.37 73.7508 Q1145.4 73.7508 1141.27 69.8619 Q1137.18 65.9325 1137.18 59.3701 Q1137.18 51.7138 1142.28 47.825 Q1147.43 43.9361 1157.6 43.9361 L1168.05 43.9361 L1168.05 43.2069 Q1168.05 38.0623 1164.65 35.2672 Q1161.28 32.4315 1155.17 32.4315 Q1151.28 32.4315 1147.59 33.3632 Q1143.91 34.295 1140.5 36.1584 L1140.5 29.2718 Q1144.59 27.692 1148.44 26.9223 Q1152.29 26.1121 1155.94 26.1121 Q1165.78 26.1121 1170.64 31.2163 Q1175.5 36.3204 1175.5 46.6907 Z\" fill=\"#000000\" fill-rule=\"evenodd\" fill-opacity=\"1\" /><path clip-path=\"url(#clip190)\" d=\"M 0 0 M1223.51 28.9478 L1223.51 35.9153 Q1220.35 34.1734 1217.15 33.3227 Q1213.99 32.4315 1210.75 32.4315 Q1203.49 32.4315 1199.48 37.0496 Q1195.47 41.6271 1195.47 49.9314 Q1195.47 58.2358 1199.48 62.8538 Q1203.49 67.4314 1210.75 67.4314 Q1213.99 67.4314 1217.15 66.5807 Q1220.35 65.6895 1223.51 63.9476 L1223.51 70.8341 Q1220.39 72.2924 1217.02 73.0216 Q1213.7 73.7508 1209.93 73.7508 Q1199.69 73.7508 1193.65 67.3098 Q1187.61 60.8689 1187.61 49.9314 Q1187.61 38.832 1193.69 32.472 Q1199.81 26.1121 1210.42 26.1121 Q1213.86 26.1121 1217.15 26.8413 Q1220.43 27.5299 1223.51 28.9478 Z\" fill=\"#000000\" fill-rule=\"evenodd\" fill-opacity=\"1\" /><path clip-path=\"url(#clip190)\" d=\"M 0 0 M1254.05 32.4315 Q1248.05 32.4315 1244.57 37.1306 Q1241.09 41.7891 1241.09 49.9314 Q1241.09 58.0738 1244.53 62.7728 Q1248.01 67.4314 1254.05 67.4314 Q1260 67.4314 1263.49 62.7323 Q1266.97 58.0333 1266.97 49.9314 Q1266.97 41.8701 1263.49 37.1711 Q1260 32.4315 1254.05 32.4315 M1254.05 26.1121 Q1263.77 26.1121 1269.32 32.4315 Q1274.87 38.7509 1274.87 49.9314 Q1274.87 61.0714 1269.32 67.4314 Q1263.77 73.7508 1254.05 73.7508 Q1244.29 73.7508 1238.74 67.4314 Q1233.23 61.0714 1233.23 49.9314 Q1233.23 38.7509 1238.74 32.4315 Q1244.29 26.1121 1254.05 26.1121 Z\" fill=\"#000000\" fill-rule=\"evenodd\" fill-opacity=\"1\" /><path clip-path=\"url(#clip190)\" d=\"M 0 0 M1319.8 49.9314 Q1319.8 41.7081 1316.39 37.0496 Q1313.03 32.3505 1307.12 32.3505 Q1301.2 32.3505 1297.8 37.0496 Q1294.44 41.7081 1294.44 49.9314 Q1294.44 58.1548 1297.8 62.8538 Q1301.2 67.5124 1307.12 67.5124 Q1313.03 67.5124 1316.39 62.8538 Q1319.8 58.1548 1319.8 49.9314 M1294.44 34.0924 Q1296.79 30.0415 1300.35 28.0971 Q1303.96 26.1121 1308.94 26.1121 Q1317.2 26.1121 1322.35 32.6746 Q1327.53 39.2371 1327.53 49.9314 Q1327.53 60.6258 1322.35 67.1883 Q1317.2 73.7508 1308.94 73.7508 Q1303.96 73.7508 1300.35 71.8063 Q1296.79 69.8214 1294.44 65.7705 L1294.44 72.576 L1286.94 72.576 L1286.94 9.54393 L1294.44 9.54393 L1294.44 34.0924 Z\" fill=\"#000000\" fill-rule=\"evenodd\" fill-opacity=\"1\" /><path clip-path=\"url(#clip190)\" d=\"M 0 0 M1339.89 27.2059 L1347.34 27.2059 L1347.34 72.576 L1339.89 72.576 L1339.89 27.2059 M1339.89 9.54393 L1347.34 9.54393 L1347.34 18.9825 L1339.89 18.9825 L1339.89 9.54393 Z\" fill=\"#000000\" fill-rule=\"evenodd\" fill-opacity=\"1\" /><path clip-path=\"url(#clip190)\" d=\"M 0 0 M1418.31 44.2197 Q1420.95 45.1109 1423.42 48.0275 Q1425.93 50.9442 1428.44 56.0483 L1436.74 72.576 L1427.95 72.576 L1420.22 57.061 Q1417.22 50.9847 1414.38 48.9997 Q1411.59 47.0148 1406.73 47.0148 L1397.82 47.0148 L1397.82 72.576 L1389.63 72.576 L1389.63 12.096 L1408.11 12.096 Q1418.48 12.096 1423.58 16.4305 Q1428.68 20.7649 1428.68 29.5149 Q1428.68 35.2267 1426.01 38.994 Q1423.38 42.7613 1418.31 44.2197 M1397.82 18.8205 L1397.82 40.2903 L1408.11 40.2903 Q1414.02 40.2903 1417.02 37.5762 Q1420.06 34.8216 1420.06 29.5149 Q1420.06 24.2082 1417.02 21.5346 Q1414.02 18.8205 1408.11 18.8205 L1397.82 18.8205 Z\" fill=\"#000000\" fill-rule=\"evenodd\" fill-opacity=\"1\" /><path clip-path=\"url(#clip190)\" d=\"M 0 0 M1482.03 48.0275 L1482.03 51.6733 L1447.76 51.6733 Q1448.25 59.3701 1452.38 63.421 Q1456.55 67.4314 1463.97 67.4314 Q1468.26 67.4314 1472.27 66.3781 Q1476.32 65.3249 1480.29 63.2184 L1480.29 70.267 Q1476.28 71.9684 1472.07 72.8596 Q1467.86 73.7508 1463.52 73.7508 Q1452.67 73.7508 1446.31 67.4314 Q1439.99 61.1119 1439.99 50.3365 Q1439.99 39.1965 1445.98 32.6746 Q1452.02 26.1121 1462.23 26.1121 Q1471.38 26.1121 1476.69 32.0264 Q1482.03 37.9003 1482.03 48.0275 M1474.58 45.84 Q1474.5 39.7232 1471.14 36.0774 Q1467.82 32.4315 1462.31 32.4315 Q1456.07 32.4315 1452.3 35.9558 Q1448.57 39.4801 1448.01 45.8805 L1474.58 45.84 Z\" fill=\"#000000\" fill-rule=\"evenodd\" fill-opacity=\"1\" /><path clip-path=\"url(#clip190)\" d=\"M 0 0 M1523.19 28.5427 L1523.19 35.5912 Q1520.03 33.9709 1516.63 33.1607 Q1513.23 32.3505 1509.58 32.3505 Q1504.03 32.3505 1501.24 34.0519 Q1498.48 35.7533 1498.48 39.156 Q1498.48 41.7486 1500.47 43.2475 Q1502.45 44.7058 1508.45 46.0426 L1511 46.6097 Q1518.94 48.3111 1522.26 51.4303 Q1525.62 54.509 1525.62 60.0587 Q1525.62 66.3781 1520.6 70.0644 Q1515.62 73.7508 1506.87 73.7508 Q1503.22 73.7508 1499.25 73.0216 Q1495.32 72.3329 1490.95 70.9151 L1490.95 63.2184 Q1495.08 65.3654 1499.09 66.4591 Q1503.1 67.5124 1507.03 67.5124 Q1512.29 67.5124 1515.13 65.73 Q1517.97 63.9071 1517.97 60.6258 Q1517.97 57.5877 1515.9 55.9673 Q1513.87 54.3469 1506.95 52.8481 L1504.35 52.2405 Q1497.43 50.7821 1494.35 47.7845 Q1491.27 44.7463 1491.27 39.4801 Q1491.27 33.0797 1495.81 29.5959 Q1500.34 26.1121 1508.69 26.1121 Q1512.82 26.1121 1516.47 26.7198 Q1520.11 27.3274 1523.19 28.5427 Z\" fill=\"#000000\" fill-rule=\"evenodd\" fill-opacity=\"1\" /><path clip-path=\"url(#clip190)\" d=\"M 0 0 M1536.72 54.671 L1536.72 27.2059 L1544.17 27.2059 L1544.17 54.3874 Q1544.17 60.8284 1546.69 64.0691 Q1549.2 67.2693 1554.22 67.2693 Q1560.26 67.2693 1563.74 63.421 Q1567.27 59.5726 1567.27 52.9291 L1567.27 27.2059 L1574.72 27.2059 L1574.72 72.576 L1567.27 72.576 L1567.27 65.6084 Q1564.55 69.7404 1560.95 71.7658 Q1557.38 73.7508 1552.64 73.7508 Q1544.82 73.7508 1540.77 68.8897 Q1536.72 64.0286 1536.72 54.671 M1555.48 26.1121 L1555.48 26.1121 Z\" fill=\"#000000\" fill-rule=\"evenodd\" fill-opacity=\"1\" /><path clip-path=\"url(#clip190)\" d=\"M 0 0 M1590.07 9.54393 L1597.53 9.54393 L1597.53 72.576 L1590.07 72.576 L1590.07 9.54393 Z\" fill=\"#000000\" fill-rule=\"evenodd\" fill-opacity=\"1\" /><path clip-path=\"url(#clip190)\" d=\"M 0 0 M1620.49 14.324 L1620.49 27.2059 L1635.85 27.2059 L1635.85 32.9987 L1620.49 32.9987 L1620.49 57.6282 Q1620.49 63.1779 1621.99 64.7578 Q1623.53 66.3376 1628.19 66.3376 L1635.85 66.3376 L1635.85 72.576 L1628.19 72.576 Q1619.56 72.576 1616.28 69.3758 Q1613 66.1351 1613 57.6282 L1613 32.9987 L1607.53 32.9987 L1607.53 27.2059 L1613 27.2059 L1613 14.324 L1620.49 14.324 Z\" fill=\"#000000\" fill-rule=\"evenodd\" fill-opacity=\"1\" /><path clip-path=\"url(#clip190)\" d=\"M 0 0 M1674.57 28.5427 L1674.57 35.5912 Q1671.41 33.9709 1668.01 33.1607 Q1664.61 32.3505 1660.96 32.3505 Q1655.41 32.3505 1652.62 34.0519 Q1649.86 35.7533 1649.86 39.156 Q1649.86 41.7486 1651.85 43.2475 Q1653.83 44.7058 1659.83 46.0426 L1662.38 46.6097 Q1670.32 48.3111 1673.64 51.4303 Q1677 54.509 1677 60.0587 Q1677 66.3781 1671.98 70.0644 Q1667 73.7508 1658.25 73.7508 Q1654.6 73.7508 1650.63 73.0216 Q1646.7 72.3329 1642.33 70.9151 L1642.33 63.2184 Q1646.46 65.3654 1650.47 66.4591 Q1654.48 67.5124 1658.41 67.5124 Q1663.68 67.5124 1666.51 65.73 Q1669.35 63.9071 1669.35 60.6258 Q1669.35 57.5877 1667.28 55.9673 Q1665.26 54.3469 1658.33 52.8481 L1655.74 52.2405 Q1648.81 50.7821 1645.73 47.7845 Q1642.65 44.7463 1642.65 39.4801 Q1642.65 33.0797 1647.19 29.5959 Q1651.73 26.1121 1660.07 26.1121 Q1664.2 26.1121 1667.85 26.7198 Q1671.49 27.3274 1674.57 28.5427 Z\" fill=\"#000000\" fill-rule=\"evenodd\" fill-opacity=\"1\" /><circle clip-path=\"url(#clip192)\" cx=\"2176.61\" cy=\"602.786\" r=\"18\" fill=\"#ffff00\" fill-rule=\"evenodd\" fill-opacity=\"1\" stroke=\"#000000\" stroke-opacity=\"1\" stroke-width=\"3.2\"/>\n",
       "<circle clip-path=\"url(#clip192)\" cx=\"947.043\" cy=\"198.438\" r=\"18\" fill=\"#ffff00\" fill-rule=\"evenodd\" fill-opacity=\"1\" stroke=\"#000000\" stroke-opacity=\"1\" stroke-width=\"3.2\"/>\n",
       "<circle clip-path=\"url(#clip192)\" cx=\"332.262\" cy=\"400.612\" r=\"18\" fill=\"#ffff00\" fill-rule=\"evenodd\" fill-opacity=\"1\" stroke=\"#000000\" stroke-opacity=\"1\" stroke-width=\"3.2\"/>\n",
       "<circle clip-path=\"url(#clip192)\" cx=\"639.653\" cy=\"501.699\" r=\"18\" fill=\"#ffff00\" fill-rule=\"evenodd\" fill-opacity=\"1\" stroke=\"#000000\" stroke-opacity=\"1\" stroke-width=\"3.2\"/>\n",
       "<circle clip-path=\"url(#clip192)\" cx=\"793.348\" cy=\"451.156\" r=\"18\" fill=\"#ffff00\" fill-rule=\"evenodd\" fill-opacity=\"1\" stroke=\"#000000\" stroke-opacity=\"1\" stroke-width=\"3.2\"/>\n",
       "<circle clip-path=\"url(#clip192)\" cx=\"716.5\" cy=\"425.884\" r=\"18\" fill=\"#ffff00\" fill-rule=\"evenodd\" fill-opacity=\"1\" stroke=\"#000000\" stroke-opacity=\"1\" stroke-width=\"3.2\"/>\n",
       "<circle clip-path=\"url(#clip192)\" cx=\"678.076\" cy=\"438.52\" r=\"18\" fill=\"#ffff00\" fill-rule=\"evenodd\" fill-opacity=\"1\" stroke=\"#000000\" stroke-opacity=\"1\" stroke-width=\"3.2\"/>\n",
       "<circle clip-path=\"url(#clip192)\" cx=\"697.288\" cy=\"444.838\" r=\"18\" fill=\"#ffff00\" fill-rule=\"evenodd\" fill-opacity=\"1\" stroke=\"#000000\" stroke-opacity=\"1\" stroke-width=\"3.2\"/>\n",
       "<circle clip-path=\"url(#clip192)\" cx=\"706.894\" cy=\"441.679\" r=\"18\" fill=\"#ffff00\" fill-rule=\"evenodd\" fill-opacity=\"1\" stroke=\"#000000\" stroke-opacity=\"1\" stroke-width=\"3.2\"/>\n",
       "<circle clip-path=\"url(#clip192)\" cx=\"702.091\" cy=\"440.099\" r=\"18\" fill=\"#ffff00\" fill-rule=\"evenodd\" fill-opacity=\"1\" stroke=\"#000000\" stroke-opacity=\"1\" stroke-width=\"3.2\"/>\n",
       "<circle clip-path=\"url(#clip192)\" cx=\"699.69\" cy=\"440.889\" r=\"18\" fill=\"#ffff00\" fill-rule=\"evenodd\" fill-opacity=\"1\" stroke=\"#000000\" stroke-opacity=\"1\" stroke-width=\"3.2\"/>\n",
       "<polyline clip-path=\"url(#clip192)\" style=\"stroke:#ff0000; stroke-width:8; stroke-opacity:1; fill:none\" points=\"\n",
       "  276.931,162.047 296.024,174.604 472.559,290.713 578.649,360.49 668.347,419.485 765.784,483.57 855.613,542.651 951.918,605.992 1063.5,679.379 1162.66,744.597 \n",
       "  1249.61,801.787 1344.41,864.139 1439.78,926.862 1545.22,996.211 1645.54,1062.19 1749.85,1130.8 1837.66,1188.55 1944.86,1259.06 2045.64,1325.34 2207.09,1431.53 \n",
       "  2231.94,1447.87 \n",
       "  \"/>\n",
       "<polyline clip-path=\"url(#clip192)\" style=\"stroke:#0000ff; stroke-width:8; stroke-opacity:1; fill:none\" points=\"\n",
       "  218.281,520.441 238.519,517.113 425.646,486.344 538.102,467.853 633.182,452.22 736.465,435.237 831.684,419.58 933.767,402.795 1052.04,383.348 1157.15,366.065 \n",
       "  1249.32,350.91 1349.81,334.386 1450.9,317.765 1562.66,299.387 1669.01,281.902 1779.58,263.721 1872.65,248.416 1986.29,229.731 2093.11,212.167 2264.25,184.027 \n",
       "  2290.59,179.697 \n",
       "  \"/>\n",
       "</svg>\n"
      ]
     },
     "execution_count": 19,
     "metadata": {},
     "output_type": "execute_result"
    }
   ],
   "source": [
    "scatter(X_jacobi,Y_jacobi,color=\"yellow\",leg=false, title=\"Gauss Jacobi Results\", markersize = 5)\n",
    "plot!(x -> 2 - 2*x, c=:red, lw=2)\n",
    "plot!(x -> (2 + x)/2, c=:blue, lw=2)"
   ]
  },
  {
   "cell_type": "markdown",
   "metadata": {},
   "source": [
    "## Exercício 3"
   ]
  },
  {
   "cell_type": "markdown",
   "metadata": {},
   "source": [
    "<center>\n",
    "    <figure>\n",
    "    <img src=\"img/Q3a.jpeg\" width=500 align=center>\n",
    "    </figure>\n",
    "</center>"
   ]
  },
  {
   "cell_type": "markdown",
   "metadata": {},
   "source": [
    "### (b)"
   ]
  },
  {
   "cell_type": "markdown",
   "metadata": {},
   "source": [
    "Uma matriz é diagonal dominante se os modulos dos valores na diagonal sao maiores do que a soma dos modulos dos outros elementos nas respectivas linhas.\n",
    "\n",
    "Nessa matriz sempre temos o valor 4 na diagonal. Em todas as linhas, temos sempre o valor 0 e duas vezes o valor -1.\n",
    "\n",
    "Logo, |0| + |-1| + |-1| = 0 + 1 + 1 = 2 < 4.\n",
    "\n",
    "Logo, a matriz é diagonal dominante."
   ]
  },
  {
   "cell_type": "markdown",
   "metadata": {},
   "source": [
    "### (c)"
   ]
  },
  {
   "cell_type": "code",
   "execution_count": 20,
   "metadata": {},
   "outputs": [
    {
     "data": {
      "text/plain": [
       "gauss_seidel_Q3 (generic function with 1 method)"
      ]
     },
     "execution_count": 20,
     "metadata": {},
     "output_type": "execute_result"
    }
   ],
   "source": [
    "function gauss_seidel_Q3(A,b; max_iter=1000, ϵ = 1e-3, output=true, show_time=false)\n",
    "    t0 = time()\n",
    "    n, m = size(A)\n",
    "    \n",
    "    #Calculando o triangular superior e salvando em M\n",
    "    M = UpperTriangular(A) \n",
    "    K = M - A     \n",
    "    \n",
    "    #Quebrando a matriz A em M -K, sendo M, a sua triangular superior\n",
    "    # pois essa é mais barata de se calcular\n",
    "    R = inv(M) * K\n",
    "    c = inv(M) * b\n",
    "    \n",
    "    #chute inicial\n",
    "    x = zeros(n,1)\n",
    "    x_anterior = x\n",
    "    x = R * x + c\n",
    "\n",
    "    # condicoes de parada\n",
    "    iter = 1\n",
    "    resolvido = (abs(norm(x - x_anterior)) ≤ ϵ)\n",
    "    cansado = (iter ≥ max_iter)\n",
    "    \n",
    "    while !(resolvido || cansado) \n",
    "        x_anterior = x\n",
    "        x=R*x+c \n",
    "        iter +=1\n",
    "        resolvido = (abs(norm(x-x_anterior)) ≤ ϵ)\n",
    "        cansado = (iter ≥ max_iter)\n",
    "    end\n",
    "    \n",
    "    # Tempo do algoritmo\n",
    "    Δt = time() - t0\n",
    "    if show_time\n",
    "        println(\"Tempo total: $Δt\")\n",
    "    end\n",
    "    \n",
    "    # Informacao sobre erro e resultado\n",
    "    if output\n",
    "        print(\"A tolerância final ficou em $(abs(norm(x-x_anterior)))\\n\")\n",
    "        print(\"O resultado final ficou em $x\\n\")\n",
    "    end\n",
    "    \n",
    "    # verifica porque o algoritmo parou\n",
    "    if cansado\n",
    "        exitflag = :maximo_iteracoes\n",
    "        return x, exitflag\n",
    "    end\n",
    "    \n",
    "    return x\n",
    "end"
   ]
  },
  {
   "cell_type": "code",
   "execution_count": 21,
   "metadata": {},
   "outputs": [
    {
     "data": {
      "text/plain": [
       "gauss_jacobi_Q3 (generic function with 1 method)"
      ]
     },
     "execution_count": 21,
     "metadata": {},
     "output_type": "execute_result"
    }
   ],
   "source": [
    "function gauss_jacobi_Q3(A,b; max_iter=1000, ϵ = 1e-3, output=true, show_time=false)\n",
    "    t0 = time()\n",
    "    n, m = size(A)\n",
    "    \n",
    "    #Calculando o triangular superior e salvando em M\n",
    "    M = Diagonal(A) \n",
    "    K = M - A     \n",
    "    \n",
    "    #Quebrando a matriz A em M -K, sendo M, a sua triangular superior\n",
    "    # pois essa é mais barata de se calcular\n",
    "    R = inv(M) * K\n",
    "    c = inv(M) * b\n",
    "    \n",
    "    #chute inicial\n",
    "    x = zeros(n,1)\n",
    "    x_anterior = x\n",
    "    x = R * x + c\n",
    "    \n",
    "    # condicoes de parada\n",
    "    iter = 1\n",
    "    resolvido = (abs(norm(x - x_anterior)) ≤ ϵ)\n",
    "    cansado = (iter ≥ max_iter)\n",
    "    \n",
    "    while !(resolvido || cansado) \n",
    "        x_anterior = x\n",
    "        x=R*x+c \n",
    "        iter +=1\n",
    "        resolvido = (abs(norm(x-x_anterior)) ≤ ϵ)\n",
    "        cansado = (iter ≥ max_iter)\n",
    "    end\n",
    "    \n",
    "    # Tempo do algoritmo\n",
    "    Δt = time() - t0\n",
    "    if show_time\n",
    "        println(\"Tempo total: $Δt\")\n",
    "    end\n",
    "    \n",
    "    if output\n",
    "        print(\"A tolerância final ficou em $(abs(norm(x-x_anterior)))\\n\")\n",
    "        print(\"O resultado final ficou em $x\\n\")\n",
    "    end\n",
    "    \n",
    "    # verifica porque o algoritmo parou\n",
    "    if cansado\n",
    "        exitflag = :maximo_iteracoes\n",
    "        return x, exitflag\n",
    "    end\n",
    "    \n",
    "    return x\n",
    "end"
   ]
  },
  {
   "cell_type": "code",
   "execution_count": 22,
   "metadata": {},
   "outputs": [
    {
     "data": {
      "text/plain": [
       "4×4 Matrix{Int64}:\n",
       "  4  -1  -1   0\n",
       " -1   4   0  -1\n",
       " -1   0   4  -1\n",
       "  0  -1  -1   4"
      ]
     },
     "execution_count": 22,
     "metadata": {},
     "output_type": "execute_result"
    }
   ],
   "source": [
    "A = [ 4 -1 -1  0;\n",
    "     -1  4  0 -1;\n",
    "     -1  0  4 -1;\n",
    "      0 -1 -1  4]"
   ]
  },
  {
   "cell_type": "code",
   "execution_count": 23,
   "metadata": {},
   "outputs": [
    {
     "data": {
      "text/plain": [
       "4-element Vector{Int64}:\n",
       " 20\n",
       " 50\n",
       " 15\n",
       " 45"
      ]
     },
     "execution_count": 23,
     "metadata": {},
     "output_type": "execute_result"
    }
   ],
   "source": [
    "b = [20, 50, 15, 45]"
   ]
  },
  {
   "cell_type": "code",
   "execution_count": 24,
   "metadata": {},
   "outputs": [
    {
     "name": "stdout",
     "output_type": "stream",
     "text": [
      "A tolerância final ficou em 0.0006079673767089844\n",
      "O resultado final ficou em [13.124959468841553; 20.624918937683105; 11.874918937683105; 19.37483787536621]\n"
     ]
    },
    {
     "data": {
      "text/plain": [
       "4×1 Matrix{Float64}:\n",
       " 13.124959468841553\n",
       " 20.624918937683105\n",
       " 11.874918937683105\n",
       " 19.37483787536621"
      ]
     },
     "execution_count": 24,
     "metadata": {},
     "output_type": "execute_result"
    }
   ],
   "source": [
    "gauss_seidel_Q3(A,b)"
   ]
  },
  {
   "cell_type": "code",
   "execution_count": 25,
   "metadata": {},
   "outputs": [
    {
     "name": "stdout",
     "output_type": "stream",
     "text": [
      "A tolerância final ficou em 0.0009918212890625\n",
      "O resultado final ficou em [13.124504089355469; 20.62450408935547; 11.874504089355469; 19.37450408935547]\n"
     ]
    },
    {
     "data": {
      "text/plain": [
       "4×1 Matrix{Float64}:\n",
       " 13.124504089355469\n",
       " 20.62450408935547\n",
       " 11.874504089355469\n",
       " 19.37450408935547"
      ]
     },
     "execution_count": 25,
     "metadata": {},
     "output_type": "execute_result"
    }
   ],
   "source": [
    "gauss_jacobi_Q3(A,b)"
   ]
  },
  {
   "cell_type": "markdown",
   "metadata": {},
   "source": [
    "### (d)"
   ]
  },
  {
   "cell_type": "code",
   "execution_count": 26,
   "metadata": {},
   "outputs": [
    {
     "data": {
      "text/plain": [
       "4×4 Matrix{Float64}:\n",
       "  4.0  -1.0  -1.0   0.0\n",
       " -1.0   4.0   0.0  -1.0\n",
       " -1.0   0.0   4.0  -1.0\n",
       "  0.0  -1.0  -1.0   4.0"
      ]
     },
     "execution_count": 26,
     "metadata": {},
     "output_type": "execute_result"
    }
   ],
   "source": [
    "# Construindo a matriz A\n",
    "function create_A(n_lago)\n",
    "    \"\"\" \n",
    "        ENTRADA: numero de linhas na matriz do lago (matriz da figura)\n",
    "        SAIDA: Matriz A que vai representar o calculo das temperaturas\n",
    "        OBS: o numero de linhas da matriz é sempre o numero de linhas no grafico do lago elevado ao quadrado\n",
    "            (mantendo o formato quadrado)\n",
    "    \"\"\"\n",
    "    n = n_lago^2\n",
    "    A = zeros(n,n)\n",
    "\n",
    "    # Preencher diagonal com 4's\n",
    "    for i = 1:n\n",
    "        A[i,i] = 4.0\n",
    "    end\n",
    "\n",
    "    # CANTOS DO LAGO\n",
    "\n",
    "    # Canto superior esquerdo\n",
    "    A[1,2] = -1.0  # vizinho direita\n",
    "    A[1,1+n_lago] = -1.0  # vizinho abaixo\n",
    "\n",
    "    # Canto superior direito\n",
    "    A[n_lago,n_lago-1] = -1.0  # vizinho esquerda\n",
    "    A[n_lago,n_lago+n_lago] = -1.0  # vizinho abaixo\n",
    "\n",
    "    # Canto inferior esquerdo\n",
    "    i = n - n_lago + 1  \n",
    "    A[i,i - n_lago] = -1.0  # vizinho acima\n",
    "    A[i,i+1] = -1.0  # vizinho direita\n",
    "\n",
    "    # Canto inferior direito\n",
    "    A[n,n - n_lago] = -1.0  # vizinho acima\n",
    "    A[n,n-1] = -1.0  # vizinho esquerda\n",
    "\n",
    "    # BORDAS DO LAGO\n",
    "\n",
    "    # Borda superior\n",
    "    for i = 2:n_lago-1\n",
    "        A[i,i-1] = -1.0  # vizinho esquerda\n",
    "        A[i,i+1] = -1.0  # vizinho direita\n",
    "        A[i,i+n_lago] = -1.0  # vizinho abaixo\n",
    "    end\n",
    "\n",
    "    # Borda inferior\n",
    "    x = n - n_lago + 1  # canto inferior esquerdo\n",
    "    for i = x+1:n-1\n",
    "        A[i,i-1] = -1.0  # vizinho esquerda\n",
    "        A[i,i+1] = -1.0  # vizinho direita\n",
    "        A[i,i-n_lago] = -1.0  # vizinho acima\n",
    "    end\n",
    "\n",
    "    # Borda esquerda\n",
    "    x = n - n_lago + 1  # canto inferior esquerdo\n",
    "    for i = n_lago+1:n_lago:x-n_lago\n",
    "        A[i,i-n_lago] = -1.0  # vizinho acima\n",
    "        A[i,i+1] = -1.0  # vizinho direita\n",
    "        A[i,i+n_lago] = -1.0  # vizinho abaixo\n",
    "    end\n",
    "\n",
    "    # Borda direita\n",
    "    for i = 2*n_lago:n_lago:n-n_lago\n",
    "        A[i,i-n_lago] = -1.0  # vizinho acima\n",
    "        A[i,i-1] = -1.0  # vizinho esquerda\n",
    "        A[i,i+n_lago] = -1.0  # vizinho abaixo\n",
    "    end\n",
    "\n",
    "    # Pontos internos\n",
    "    x = n - 2*n_lago + 2  # canto inferior esquerdo \"interno\"\n",
    "    for i = n_lago+2:n_lago:x  # linhas do quadrado interno\n",
    "        for j = 0:(n_lago - 3)  # colunas do quadrado interno\n",
    "            A[i+j,i+j-1] = -1.0  # vizinho esquerda\n",
    "            A[i+j,i+j+1] = -1.0  # vizinho direita\n",
    "            A[i+j,i+j-n_lago] = -1.0  # vizinho acima\n",
    "            A[i+j,i+j+n_lago] = -1.0  # vizinho abaixo\n",
    "        end\n",
    "    end\n",
    "\n",
    "    return A\n",
    "end\n",
    "\n",
    "# Usando a letra c como exemplo\n",
    "A = create_A(2)"
   ]
  },
  {
   "cell_type": "code",
   "execution_count": 27,
   "metadata": {},
   "outputs": [
    {
     "data": {
      "text/plain": [
       "4-element Vector{Float64}:\n",
       " 20.0\n",
       " 50.0\n",
       " 15.0\n",
       " 45.0"
      ]
     },
     "execution_count": 27,
     "metadata": {},
     "output_type": "execute_result"
    }
   ],
   "source": [
    "# Construindo vetor b\n",
    "function create_b(n_lago, T_LEFT, T_TOP, T_RIGHT, T_BOTTOM)\n",
    "    n = n_lago^2\n",
    "    b = zeros(n)\n",
    "    #T_LEFT = 5.0 #25.0\n",
    "    #T_RIGHT = 35.0 #20.0\n",
    "    #T_TOP = 15.0 #20.0\n",
    "    #T_BOTTOM = 10.0 #30.0\n",
    "\n",
    "    # CANTOS DO LAGO\n",
    "\n",
    "    # Canto superior esquerdo\n",
    "    b[1] = T_LEFT + T_TOP\n",
    "\n",
    "    # Canto superior direito\n",
    "    b[n_lago] = T_RIGHT + T_TOP\n",
    "\n",
    "    # Canto inferior esquerdo\n",
    "    i = n - n_lago + 1  \n",
    "    b[i] = T_LEFT + T_BOTTOM\n",
    "\n",
    "    # Canto inferior direito\n",
    "    b[n] = T_RIGHT + T_BOTTOM\n",
    "\n",
    "    # BORDAS DO LAGO\n",
    "\n",
    "    # Borda superior\n",
    "    for i = 2:n_lago-1\n",
    "        b[i] = T_TOP\n",
    "    end\n",
    "\n",
    "    # Borda inferior\n",
    "    x = n - n_lago + 1  # canto inferior esquerdo\n",
    "    for i = x+1:n-1\n",
    "        b[i] = T_BOTTOM\n",
    "    end\n",
    "\n",
    "    # Borda esquerda\n",
    "    x = n - n_lago + 1  # canto inferior esquerdo\n",
    "    for i = n_lago+1:n_lago:x-n_lago\n",
    "        b[i] = T_LEFT\n",
    "    end\n",
    "\n",
    "    # Borda direita\n",
    "    for i = 2*n_lago:n_lago:n-n_lago\n",
    "        b[i] = T_RIGHT\n",
    "    end\n",
    "\n",
    "    # Para os pontos internos vamos manter os zeros\n",
    "\n",
    "    return b\n",
    "end\n",
    "\n",
    "# Usando a letra c como exemplo\n",
    "b = create_b(2, 5.0, 15.0, 35.0, 10.0)"
   ]
  },
  {
   "cell_type": "code",
   "execution_count": 28,
   "metadata": {},
   "outputs": [
    {
     "data": {
      "text/plain": [
       "25×25 Matrix{Float64}:\n",
       "  4.0  -1.0   0.0   0.0   0.0  -1.0  …   0.0   0.0   0.0   0.0   0.0   0.0\n",
       " -1.0   4.0  -1.0   0.0   0.0   0.0      0.0   0.0   0.0   0.0   0.0   0.0\n",
       "  0.0  -1.0   4.0  -1.0   0.0   0.0      0.0   0.0   0.0   0.0   0.0   0.0\n",
       "  0.0   0.0  -1.0   4.0  -1.0   0.0      0.0   0.0   0.0   0.0   0.0   0.0\n",
       "  0.0   0.0   0.0  -1.0   4.0   0.0      0.0   0.0   0.0   0.0   0.0   0.0\n",
       " -1.0   0.0   0.0   0.0   0.0   4.0  …   0.0   0.0   0.0   0.0   0.0   0.0\n",
       "  0.0  -1.0   0.0   0.0   0.0  -1.0      0.0   0.0   0.0   0.0   0.0   0.0\n",
       "  0.0   0.0  -1.0   0.0   0.0   0.0      0.0   0.0   0.0   0.0   0.0   0.0\n",
       "  0.0   0.0   0.0  -1.0   0.0   0.0      0.0   0.0   0.0   0.0   0.0   0.0\n",
       "  0.0   0.0   0.0   0.0  -1.0   0.0      0.0   0.0   0.0   0.0   0.0   0.0\n",
       "  0.0   0.0   0.0   0.0   0.0  -1.0  …   0.0   0.0   0.0   0.0   0.0   0.0\n",
       "  0.0   0.0   0.0   0.0   0.0   0.0      0.0   0.0   0.0   0.0   0.0   0.0\n",
       "  0.0   0.0   0.0   0.0   0.0   0.0      0.0   0.0   0.0   0.0   0.0   0.0\n",
       "  0.0   0.0   0.0   0.0   0.0   0.0      0.0   0.0   0.0   0.0   0.0   0.0\n",
       "  0.0   0.0   0.0   0.0   0.0   0.0     -1.0   0.0   0.0   0.0   0.0   0.0\n",
       "  0.0   0.0   0.0   0.0   0.0   0.0  …   0.0  -1.0   0.0   0.0   0.0   0.0\n",
       "  0.0   0.0   0.0   0.0   0.0   0.0      0.0   0.0  -1.0   0.0   0.0   0.0\n",
       "  0.0   0.0   0.0   0.0   0.0   0.0      0.0   0.0   0.0  -1.0   0.0   0.0\n",
       "  0.0   0.0   0.0   0.0   0.0   0.0     -1.0   0.0   0.0   0.0  -1.0   0.0\n",
       "  0.0   0.0   0.0   0.0   0.0   0.0      4.0   0.0   0.0   0.0   0.0  -1.0\n",
       "  0.0   0.0   0.0   0.0   0.0   0.0  …   0.0   4.0  -1.0   0.0   0.0   0.0\n",
       "  0.0   0.0   0.0   0.0   0.0   0.0      0.0  -1.0   4.0  -1.0   0.0   0.0\n",
       "  0.0   0.0   0.0   0.0   0.0   0.0      0.0   0.0  -1.0   4.0  -1.0   0.0\n",
       "  0.0   0.0   0.0   0.0   0.0   0.0      0.0   0.0   0.0  -1.0   4.0  -1.0\n",
       "  0.0   0.0   0.0   0.0   0.0   0.0     -1.0   0.0   0.0   0.0  -1.0   4.0"
      ]
     },
     "execution_count": 28,
     "metadata": {},
     "output_type": "execute_result"
    }
   ],
   "source": [
    "# Resolvendo o exercicio em si\n",
    "A = create_A(5)"
   ]
  },
  {
   "cell_type": "code",
   "execution_count": 29,
   "metadata": {},
   "outputs": [
    {
     "data": {
      "text/plain": [
       "25-element Vector{Float64}:\n",
       " 45.0\n",
       " 20.0\n",
       " 20.0\n",
       " 20.0\n",
       " 40.0\n",
       " 25.0\n",
       "  0.0\n",
       "  0.0\n",
       "  0.0\n",
       " 20.0\n",
       " 25.0\n",
       "  0.0\n",
       "  0.0\n",
       "  0.0\n",
       " 20.0\n",
       " 25.0\n",
       "  0.0\n",
       "  0.0\n",
       "  0.0\n",
       " 20.0\n",
       " 55.0\n",
       " 30.0\n",
       " 30.0\n",
       " 30.0\n",
       " 50.0"
      ]
     },
     "execution_count": 29,
     "metadata": {},
     "output_type": "execute_result"
    }
   ],
   "source": [
    "b = create_b(5, 25.0, 20.0, 20.0, 30.0)"
   ]
  },
  {
   "cell_type": "code",
   "execution_count": 30,
   "metadata": {},
   "outputs": [
    {
     "name": "stdout",
     "output_type": "stream",
     "text": [
      "A tolerância final ficou em 0.0007705029699802693\n",
      "O resultado final ficou em [22.656462384513908; 21.762079780682893; 21.28624364438183; 20.893324063963515; 20.46951337494066; 23.863769757372733; 23.105647517853896; 22.489639580916958; 21.81763103391216; 20.984821233178273; 24.6930035511412; 24.307238648515238; 23.749265620972455; 22.903014649729073; 21.652385316867647; 25.601074646713023; 25.681267397546524; 25.297536794249528; 24.393205014928945; 22.7220725740642; 27.030119435545565; 27.51949489284962; 27.366837531317387; 26.650685627675927; 24.84310795277659]\n"
     ]
    },
    {
     "data": {
      "text/plain": [
       "5×5 Matrix{Float64}:\n",
       " 22.6565  23.8638  24.693   25.6011  27.0301\n",
       " 21.7621  23.1056  24.3072  25.6813  27.5195\n",
       " 21.2862  22.4896  23.7493  25.2975  27.3668\n",
       " 20.8933  21.8176  22.903   24.3932  26.6507\n",
       " 20.4695  20.9848  21.6524  22.7221  24.8431"
      ]
     },
     "execution_count": 30,
     "metadata": {},
     "output_type": "execute_result"
    }
   ],
   "source": [
    "x = gauss_seidel_Q3(A,b, output=true)\n",
    "reshape(x, (5,5))"
   ]
  },
  {
   "cell_type": "code",
   "execution_count": 31,
   "metadata": {},
   "outputs": [
    {
     "name": "stdout",
     "output_type": "stream",
     "text": [
      "A tolerância final ficou em 0.0009663372147490022\n",
      "O resultado final ficou em [22.65604377482608; 21.761391670377964; 21.285475273046732; 20.89270480169776; 20.469175087964242; 23.86308164706062; 23.104494960837535; 22.48840105637055; 21.81661617297061; 20.98429376828429; 24.692235179786092; 24.306000123949616; 23.747912473027995; 22.901959719922544; 21.65183113939575; 25.600455384421025; 25.680252536571384; 25.296481864424692; 24.392373748704458; 22.721667505644692; 27.029781148549755; 27.518967427930626; 27.366283353827416; 26.650280559250426; 24.842912461687916]\n"
     ]
    },
    {
     "data": {
      "text/plain": [
       "5×5 Matrix{Float64}:\n",
       " 22.656   23.8631  24.6922  25.6005  27.0298\n",
       " 21.7614  23.1045  24.306   25.6803  27.519\n",
       " 21.2855  22.4884  23.7479  25.2965  27.3663\n",
       " 20.8927  21.8166  22.902   24.3924  26.6503\n",
       " 20.4692  20.9843  21.6518  22.7217  24.8429"
      ]
     },
     "execution_count": 31,
     "metadata": {},
     "output_type": "execute_result"
    }
   ],
   "source": [
    "x = gauss_jacobi_Q3(A,b, output=true)\n",
    "reshape(x, (5,5))"
   ]
  },
  {
   "cell_type": "markdown",
   "metadata": {},
   "source": [
    "### (e)"
   ]
  },
  {
   "cell_type": "code",
   "execution_count": 83,
   "metadata": {},
   "outputs": [
    {
     "name": "stdout",
     "output_type": "stream",
     "text": [
      "Tempo total: 111.05066919326782\n"
     ]
    },
    {
     "data": {
      "text/plain": [
       "77×77 Matrix{Float64}:\n",
       " 22.5009  23.49    23.9557  24.211   …  25.7816  26.0388  26.5063  27.4973\n",
       " 21.5135  22.5035  23.1217  23.5197     26.4656  26.8672  27.4891  28.4828\n",
       " 21.0496  21.8888  22.5079  22.9571     27.0207  27.4755  28.1001  28.9449\n",
       " 20.796   21.4943  22.0639  22.514      27.4564  27.9139  28.4909  29.1966\n",
       " 20.64    21.2286  21.7393  22.1678     27.7952  28.2329  28.7528  29.3507\n",
       " 20.5353  21.0408  21.4968  21.8959  …  28.0595  28.4697  28.9369  29.4535\n",
       " 20.4606  20.9023  21.3113  21.6801     28.2677  28.6494  29.0715  29.5263\n",
       " 20.4046  20.7967  21.1661  21.5064     28.4337  28.7889  29.1732  29.5803\n",
       " 20.3613  20.7137  21.0499  21.3646     28.5677  28.8992  29.2523  29.6217\n",
       " 20.3267  20.647   20.9553  21.2473     28.6771  28.9879  29.3151  29.6543\n",
       " 20.2985  20.5923  20.8769  21.149   …  28.7674  29.0602  29.3658  29.6805\n",
       " 20.2752  20.5466  20.8111  21.0656     28.8426  29.1199  29.4073  29.7018\n",
       " 20.2555  20.5081  20.7551  20.9942     28.9056  29.1697  29.4417  29.7194\n",
       "  ⋮                                  ⋱                     ⋮       \n",
       " 20.0317  20.0634  20.0951  20.1268  …  27.9038  28.404   28.924   29.4583\n",
       " 20.0291  20.0582  20.0873  20.1165     27.7349  28.2707  28.8317  29.411\n",
       " 20.0265  20.053   20.0795  20.1061     27.5359  28.1122  28.7211  29.3541\n",
       " 20.0239  20.0478  20.0717  20.0957     27.2987  27.921   28.5864  29.2844\n",
       " 20.0213  20.0425  20.0638  20.0852     27.0124  27.6866  28.4191  29.1969\n",
       " 20.0186  20.0373  20.0559  20.0746  …  26.6622  27.394   28.2064  29.0844\n",
       " 20.016   20.032   20.048   20.064      26.2276  27.0208  27.9281  28.9341\n",
       " 20.0133  20.0267  20.04    20.0534     25.6808  26.5337  27.5509  28.7241\n",
       " 20.0107  20.0214  20.0321  20.0428     24.9852  25.8821  27.0179  28.4113\n",
       " 20.008   20.016   20.0241  20.0321     24.0957  24.9917  26.2273  27.9033\n",
       " 20.0053  20.0107  20.016   20.0214  …  22.9673  23.7616  24.9963  26.9747\n",
       " 20.0027  20.0053  20.008   20.0107     21.5812  22.0911  23.0216  24.9991"
      ]
     },
     "execution_count": 83,
     "metadata": {},
     "output_type": "execute_result"
    }
   ],
   "source": [
    "n_lago = 77\n",
    "A = create_A(n_lago)\n",
    "b = create_b(n_lago, 25.0, 20.0, 20.0, 30.0)\n",
    "x = gauss_seidel_Q3(A,b,output=false,show_time=true,max_iter=10000000000)\n",
    "reshape(x, (n_lago,n_lago))"
   ]
  },
  {
   "cell_type": "markdown",
   "metadata": {},
   "source": [
    "## Exercício 4\n",
    "\n",
    "### (a)"
   ]
  },
  {
   "cell_type": "code",
   "execution_count": 33,
   "metadata": {},
   "outputs": [
    {
     "data": {
      "text/plain": [
       "8×8 Matrix{Float64}:\n",
       "  1.0   0.0   0.0   0.0   0.0   0.0   0.0  0.0\n",
       "  0.0   1.0   0.0   0.0   0.0   0.0   0.0  0.0\n",
       "  0.0   0.0   1.0   0.0   0.0   0.0   0.0  0.0\n",
       " -1.0   0.0   0.0   1.0   0.0   0.0   0.0  0.0\n",
       "  0.0   0.0  -1.0   0.0   1.0   0.0   0.0  0.0\n",
       "  0.0  -1.0   0.0  -1.0   0.0   1.0   0.0  0.0\n",
       "  0.0   0.0   0.0   0.0  -1.0   0.0   1.0  0.0\n",
       "  0.0   0.0   0.0   0.0   0.0  -1.0  -1.0  1.0"
      ]
     },
     "execution_count": 33,
     "metadata": {},
     "output_type": "execute_result"
    }
   ],
   "source": [
    "# Construir matriz A\n",
    "A = zeros(8,8)\n",
    "for i = 1:8\n",
    "    A[i,i] = 1.0\n",
    "end\n",
    "\n",
    "A[4,1] = -1.0\n",
    "A[5,3] = -1.0\n",
    "A[6,4] = -1.0\n",
    "A[6,2] = -1.0\n",
    "A[7,5] = -1.0\n",
    "A[8,6] = -1.0\n",
    "A[8,7] = -1.0\n",
    "\n",
    "A"
   ]
  },
  {
   "cell_type": "code",
   "execution_count": 34,
   "metadata": {},
   "outputs": [
    {
     "data": {
      "text/plain": [
       "8-element Vector{Int64}:\n",
       "  7000\n",
       "  3500\n",
       "  9000\n",
       " 30000\n",
       "  3000\n",
       "     0\n",
       "  3000\n",
       "   500"
      ]
     },
     "execution_count": 34,
     "metadata": {},
     "output_type": "execute_result"
    }
   ],
   "source": [
    "# Cada elemento de b é a soma das demandas com valores explicitos\n",
    "# associados a uma junta A,B,C...\n",
    "b = [7000, 3500, 9000, 30000, 3000, 0, 3000, 500]"
   ]
  },
  {
   "cell_type": "code",
   "execution_count": 35,
   "metadata": {},
   "outputs": [
    {
     "name": "stdout",
     "output_type": "stream",
     "text": [
      "A tolerância final ficou em 0.0\n",
      "O resultado final ficou em [7000.0; 3500.0; 9000.0; 37000.0; 12000.0; 40500.0; 15000.0; 56000.0]\n"
     ]
    },
    {
     "data": {
      "text/plain": [
       "8×1 Matrix{Float64}:\n",
       "  7000.0\n",
       "  3500.0\n",
       "  9000.0\n",
       " 37000.0\n",
       " 12000.0\n",
       " 40500.0\n",
       " 15000.0\n",
       " 56000.0"
      ]
     },
     "execution_count": 35,
     "metadata": {},
     "output_type": "execute_result"
    }
   ],
   "source": [
    "# O método converge, mesmo sem respeitar o critério das linhas\n",
    "gauss_seidel_Q3(A,b)"
   ]
  },
  {
   "cell_type": "code",
   "execution_count": 36,
   "metadata": {},
   "outputs": [
    {
     "name": "stdout",
     "output_type": "stream",
     "text": [
      "A tolerância final ficou em 0.0\n",
      "O resultado final ficou em [7000.0; 3500.0; 9000.0; 37000.0; 12000.0; 40500.0; 15000.0; 56000.0]\n"
     ]
    },
    {
     "data": {
      "text/plain": [
       "8×1 Matrix{Float64}:\n",
       "  7000.0\n",
       "  3500.0\n",
       "  9000.0\n",
       " 37000.0\n",
       " 12000.0\n",
       " 40500.0\n",
       " 15000.0\n",
       " 56000.0"
      ]
     },
     "execution_count": 36,
     "metadata": {},
     "output_type": "execute_result"
    }
   ],
   "source": [
    "# O método converge, mesmo sem respeitar o critério das linhas\n",
    "gauss_jacobi_Q3(A,b)"
   ]
  },
  {
   "cell_type": "markdown",
   "metadata": {},
   "source": [
    "### (b) (Desafio)\n",
    "\n",
    "<center>\n",
    "    <figure>\n",
    "    <img src=\"img/Q4b.jpeg\" width=500 align=center>\n",
    "    </figure>\n",
    "</center>"
   ]
  },
  {
   "cell_type": "code",
   "execution_count": 37,
   "metadata": {},
   "outputs": [
    {
     "data": {
      "text/plain": [
       "9×9 Matrix{Float64}:\n",
       "  1.0   0.0   0.0   0.0   0.0   0.0   0.0  0.0   0.0\n",
       "  0.0   1.0   0.0   0.0   0.0   0.0   0.0  0.0   0.0\n",
       "  0.0   0.0   1.0   0.0   0.0   0.0   0.0  0.0   0.0\n",
       " -1.0   0.0   0.0   1.0   0.0   0.0   0.0  0.0  -1.0\n",
       "  0.0   0.0  -1.0   0.0   1.0   0.0   0.0  0.0   1.0\n",
       "  0.0  -1.0   0.0  -1.0   0.0   1.0   0.0  0.0   0.0\n",
       "  0.0   0.0   0.0   0.0  -1.0   0.0   1.0  0.0   0.0\n",
       "  0.0   0.0   0.0   0.0   0.0  -1.0  -1.0  1.0   0.0\n",
       "  0.0   0.0  -1.0   0.0   1.0   0.0   0.0  0.0   1.0"
      ]
     },
     "execution_count": 37,
     "metadata": {},
     "output_type": "execute_result"
    }
   ],
   "source": [
    "# Construir matriz A\n",
    "A = zeros(9,9)\n",
    "for i = 1:9\n",
    "    A[i,i] = 1.0\n",
    "end\n",
    "\n",
    "A[4,1] = -1.0\n",
    "A[4,9] = -1.0\n",
    "A[5,3] = -1.0\n",
    "A[5,9] = 1.0\n",
    "A[6,4] = -1.0\n",
    "A[6,2] = -1.0\n",
    "A[7,5] = -1.0\n",
    "A[8,6] = -1.0\n",
    "A[8,7] = -1.0\n",
    "A[9,3] = -1.0\n",
    "A[9,5] = 1.0\n",
    "\n",
    "A"
   ]
  },
  {
   "cell_type": "code",
   "execution_count": 38,
   "metadata": {},
   "outputs": [
    {
     "data": {
      "text/plain": [
       "9-element Vector{Int64}:\n",
       "  7000\n",
       "  3500\n",
       "  9000\n",
       " 30000\n",
       "  3000\n",
       "     0\n",
       "  3000\n",
       "   500\n",
       "  3000"
      ]
     },
     "execution_count": 38,
     "metadata": {},
     "output_type": "execute_result"
    }
   ],
   "source": [
    "# Cada elemento de b é a soma das demandas com valores explicitos\n",
    "# associados a uma junta A,B,C...\n",
    "b = [7000, 3500, 9000, 30000, 3000, 0, 3000, 500, 3000]"
   ]
  },
  {
   "cell_type": "code",
   "execution_count": 39,
   "metadata": {},
   "outputs": [
    {
     "name": "stdout",
     "output_type": "stream",
     "text": [
      "A tolerância final ficou em 0.0\n",
      "O resultado final ficou em [7000.0; 3500.0; 9000.0; 49000.0; 0.0; 52500.0; 3000.0; 56000.0; 12000.0]\n"
     ]
    },
    {
     "data": {
      "text/plain": [
       "9×1 Matrix{Float64}:\n",
       "  7000.0\n",
       "  3500.0\n",
       "  9000.0\n",
       " 49000.0\n",
       "     0.0\n",
       " 52500.0\n",
       "  3000.0\n",
       " 56000.0\n",
       " 12000.0"
      ]
     },
     "execution_count": 39,
     "metadata": {},
     "output_type": "execute_result"
    }
   ],
   "source": [
    "# O método converge, mesmo sem respeitar o critério das linhas.\n",
    "# E o cano x5 passou a nao ter fluxo nenhum.\n",
    "gauss_seidel_Q3(A,b)"
   ]
  },
  {
   "cell_type": "code",
   "execution_count": 40,
   "metadata": {},
   "outputs": [
    {
     "name": "stdout",
     "output_type": "stream",
     "text": [
      "A tolerância final ficou em 13416.407864998739\n",
      "O resultado final ficou em [7000.0; 3500.0; 9000.0; 40000.0; 9000.0; 49500.0; 6000.0; 56000.0; 9000.0]\n"
     ]
    },
    {
     "data": {
      "text/plain": [
       "([7000.0; 3500.0; … ; 56000.0; 9000.0], :maximo_iteracoes)"
      ]
     },
     "execution_count": 40,
     "metadata": {},
     "output_type": "execute_result"
    }
   ],
   "source": [
    "# O método diverge, o que reforça o que foi dito em aula, sobre esse método convergir menos que o Gauss-Seidel\n",
    "gauss_jacobi_Q3(A,b)"
   ]
  },
  {
   "cell_type": "markdown",
   "metadata": {},
   "source": [
    "## Exercício 5\n",
    "\n",
    "Abaixo determinaremos uma matriz M de posto 1 (tal que $M = bc^T$) que melhor representa a matriz A e o erro para:\n",
    "\n",
    "### (a) $\n",
    "\\begin{bmatrix}\n",
    "0 & 1 & 3 \\\\\n",
    "3 & 1 & 0 \\\\\n",
    "\\end{bmatrix}\n",
    "$"
   ]
  },
  {
   "cell_type": "code",
   "execution_count": 41,
   "metadata": {},
   "outputs": [
    {
     "data": {
      "text/plain": [
       "2×3 Matrix{Int64}:\n",
       " 0  1  3\n",
       " 3  1  0"
      ]
     },
     "execution_count": 41,
     "metadata": {},
     "output_type": "execute_result"
    }
   ],
   "source": [
    "A = [0 1 3;\n",
    "     3 1 0]"
   ]
  },
  {
   "cell_type": "code",
   "execution_count": 42,
   "metadata": {},
   "outputs": [
    {
     "data": {
      "text/plain": [
       "melhorMatrizM (generic function with 1 method)"
      ]
     },
     "execution_count": 42,
     "metadata": {},
     "output_type": "execute_result"
    }
   ],
   "source": [
    "function melhorMatrizM(A)\n",
    "    n,m = size(A)\n",
    "    erroFinal = 0.0\n",
    "\n",
    "    b1 = randn(n,1)\n",
    "    c1 = randn(m,1)\n",
    "    \n",
    "    b2 = randn(m,1)\n",
    "    c2 = randn(n,1)\n",
    "    \n",
    "    erro1 = norm(A-b1*c1')\n",
    "    print(\"Erro inicial: \", erro1, \"\\n\")\n",
    "    \n",
    "    for i = 1:50\n",
    "        c1 = melhores_coords(A,b1) # Acha melhores coordenadas para A\n",
    "        b2 = c1 # Trocamos de mundo e colocamos base no lugar de coordenada e vice-versa (aqui queremos minimizar o erro ||A'-b'c||)\n",
    "        c2 = melhores_coords(A',b2) # Acha melhpres coordenadas para A'\n",
    "        b1 = c2 # Trocamos de mundo novamente para retornamos ao mundo ininicial (onde queremos minimizar o erro ||A-bc'||)\n",
    "        \n",
    "        erroFinal = norm(A'-b2*c2')\n",
    "        \n",
    "        # Erros de b e c no mundo 2, onde trocamos base por coordenadas e vice-versa\n",
    "        #      A              |           A'\n",
    "        # norm(A-b*c') <- é igual a -> norm(A'-b'*c)\n",
    "        #erro2 = norm(A'-b2*c2')\n",
    "        #print(erro2, \"\\n\")\n",
    "    end\n",
    "    print(\"Erro final: \", erroFinal, \"\\n\")\n",
    "    \n",
    "    return b1,c1\n",
    "end"
   ]
  },
  {
   "cell_type": "code",
   "execution_count": 43,
   "metadata": {},
   "outputs": [
    {
     "name": "stdout",
     "output_type": "stream",
     "text": [
      "Erro inicial: 4.770993428191096\n",
      "Erro final: 3.0000000001633764\n"
     ]
    },
    {
     "data": {
      "text/plain": [
       "([-1.2376690587629589; -1.2376194902189903], [-1.2119502485655507; -0.8079866082046525; -1.2120095760484069])"
      ]
     },
     "execution_count": 43,
     "metadata": {},
     "output_type": "execute_result"
    }
   ],
   "source": [
    "b,c = melhorMatrizM(A)"
   ]
  },
  {
   "cell_type": "code",
   "execution_count": 44,
   "metadata": {},
   "outputs": [
    {
     "data": {
      "text/plain": [
       "2×1 Matrix{Float64}:\n",
       " 1.0\n",
       " 0.9999599500822796"
      ]
     },
     "execution_count": 44,
     "metadata": {},
     "output_type": "execute_result"
    }
   ],
   "source": [
    "# Vetor b dividido pela primeira coordenada\n",
    "b/b[1]"
   ]
  },
  {
   "cell_type": "code",
   "execution_count": 45,
   "metadata": {},
   "outputs": [
    {
     "data": {
      "text/plain": [
       "1×3 Matrix{Float64}:\n",
       " 1.49999  1.00002  1.50007"
      ]
     },
     "execution_count": 45,
     "metadata": {},
     "output_type": "execute_result"
    }
   ],
   "source": [
    "# Vetor c' multiplicado pela primeira coordenada\n",
    "c'*b[1]"
   ]
  },
  {
   "cell_type": "code",
   "execution_count": 46,
   "metadata": {},
   "outputs": [
    {
     "data": {
      "text/plain": [
       "2×3 Matrix{Float64}:\n",
       " 1.49999  1.00002  1.50007\n",
       " 1.49993  0.99998  1.50001"
      ]
     },
     "execution_count": 46,
     "metadata": {},
     "output_type": "execute_result"
    }
   ],
   "source": [
    "# Para reconstruir a matriz A, aproximadamente, temos a matriz M = bc'\n",
    "M = b*c'"
   ]
  },
  {
   "cell_type": "code",
   "execution_count": 47,
   "metadata": {},
   "outputs": [
    {
     "name": "stdout",
     "output_type": "stream",
     "text": [
      "Erro de M: 3.0000000001633764"
     ]
    }
   ],
   "source": [
    "print(\"Erro de M: \", norm(A-b*c'))"
   ]
  },
  {
   "cell_type": "markdown",
   "metadata": {},
   "source": [
    "Abaixo determinaremos uma matriz M de posto 1 (tal que $M = bc^T$) que melhor representa a matriz A e o erro para:\n",
    "\n",
    "### (b) $\n",
    "\\begin{bmatrix}\n",
    "0 & 1 & 3 & 2\\\\\n",
    "2 & 3 & 1 & 0\\\\\n",
    "\\end{bmatrix}\n",
    "$\n"
   ]
  },
  {
   "cell_type": "code",
   "execution_count": 48,
   "metadata": {},
   "outputs": [
    {
     "data": {
      "text/plain": [
       "2×4 Matrix{Int64}:\n",
       " 0  1  3  2\n",
       " 2  3  1  0"
      ]
     },
     "execution_count": 48,
     "metadata": {},
     "output_type": "execute_result"
    }
   ],
   "source": [
    "A = [0 1 3 2;\n",
    "     2 3 1 0]"
   ]
  },
  {
   "cell_type": "code",
   "execution_count": 49,
   "metadata": {},
   "outputs": [
    {
     "name": "stdout",
     "output_type": "stream",
     "text": [
      "Erro inicial: 5.901863742614885\n",
      "Erro final: 2.8284271247461903\n"
     ]
    },
    {
     "data": {
      "text/plain": [
       "([0.3971989609522277; 0.3971989609522276], [2.517629949490913; 5.035259898981826; 5.035259898981826; 2.5176299494909133])"
      ]
     },
     "execution_count": 49,
     "metadata": {},
     "output_type": "execute_result"
    }
   ],
   "source": [
    "b,c = melhorMatrizM(A)"
   ]
  },
  {
   "cell_type": "code",
   "execution_count": 50,
   "metadata": {},
   "outputs": [
    {
     "data": {
      "text/plain": [
       "2×1 Matrix{Float64}:\n",
       " 1.0\n",
       " 0.9999999999999999"
      ]
     },
     "execution_count": 50,
     "metadata": {},
     "output_type": "execute_result"
    }
   ],
   "source": [
    "# Vetor b dividido pela primeira coordenada\n",
    "b/b[1]"
   ]
  },
  {
   "cell_type": "code",
   "execution_count": 51,
   "metadata": {},
   "outputs": [
    {
     "data": {
      "text/plain": [
       "1×4 Matrix{Float64}:\n",
       " 1.0  2.0  2.0  1.0"
      ]
     },
     "execution_count": 51,
     "metadata": {},
     "output_type": "execute_result"
    }
   ],
   "source": [
    "# Vetor c' multiplicado pela primeira coordenada\n",
    "c'*b[1]"
   ]
  },
  {
   "cell_type": "code",
   "execution_count": 52,
   "metadata": {},
   "outputs": [
    {
     "data": {
      "text/plain": [
       "2×4 Matrix{Float64}:\n",
       " 1.0  2.0  2.0  1.0\n",
       " 1.0  2.0  2.0  1.0"
      ]
     },
     "execution_count": 52,
     "metadata": {},
     "output_type": "execute_result"
    }
   ],
   "source": [
    "# Para reconstruir a matriz A, aproximadamente, temos a matriz M = bc'\n",
    "M = b*c'"
   ]
  },
  {
   "cell_type": "code",
   "execution_count": 53,
   "metadata": {},
   "outputs": [
    {
     "name": "stdout",
     "output_type": "stream",
     "text": [
      "Erro de M: 2.8284271247461903"
     ]
    }
   ],
   "source": [
    "print(\"Erro de M: \", norm(A-b*c'))"
   ]
  },
  {
   "cell_type": "markdown",
   "metadata": {},
   "source": [
    "### (c) \n",
    "A representação gráfica das soluções acima nos desenhos citados na lista é uma reta que minimiza a diferença entre todos esses pontos e a reta (projeção ortogonal). Em outras palavras, a solução gráfica é uma única reta que contém N vetores (posto 1) que mais se aproximam dos N pontos passados."
   ]
  },
  {
   "cell_type": "markdown",
   "metadata": {},
   "source": [
    "## Exercício 6\n",
    "\n",
    "Consideraremos a bandeira da grécia como uma imagem preta e branca modelada na matriz A abaixo:\n",
    "\n",
    "Considerando 0 como a cor preto e 1 a cor branco, temos:\n",
    "\n",
    "$\n",
    "\\begin{bmatrix}\n",
    "    0 & 1 & 0 & 0 & 0 & 0 & 0 & 0 & 0 \\\\\n",
    "    0 & 1 & 0 & 1 & 1 & 1 & 1 & 1 & 1 \\\\\n",
    "    1 & 1 & 1 & 0 & 0 & 0 & 0 & 0 & 0 \\\\\n",
    "    0 & 1 & 0 & 1 & 1 & 1 & 1 & 1 & 1 \\\\\n",
    "    0 & 1 & 0 & 0 & 0 & 0 & 0 & 0 & 0 \\\\\n",
    "    1 & 1 & 1 & 1 & 1 & 1 & 1 & 1 & 1 \\\\\n",
    "    0 & 0 & 0 & 0 & 0 & 0 & 0 & 0 & 0 \\\\\n",
    "    1 & 1 & 1 & 1 & 1 & 1 & 1 & 1 & 1 \\\\\n",
    "    0 & 0 & 0 & 0 & 0 & 0 & 0 & 0 & 0 \\\\\n",
    "\\end{bmatrix}\n",
    "$"
   ]
  },
  {
   "cell_type": "code",
   "execution_count": 54,
   "metadata": {},
   "outputs": [
    {
     "data": {
      "image/png": "[encoded data removed]",
      "text/plain": [
       "9×9 Array{Gray{N0f8},2} with eltype Gray{N0f8}:\n",
       " Gray{N0f8}(0.0)  Gray{N0f8}(1.0)  …  Gray{N0f8}(0.0)  Gray{N0f8}(0.0)\n",
       " Gray{N0f8}(0.0)  Gray{N0f8}(1.0)     Gray{N0f8}(1.0)  Gray{N0f8}(1.0)\n",
       " Gray{N0f8}(1.0)  Gray{N0f8}(1.0)     Gray{N0f8}(0.0)  Gray{N0f8}(0.0)\n",
       " Gray{N0f8}(0.0)  Gray{N0f8}(1.0)     Gray{N0f8}(1.0)  Gray{N0f8}(1.0)\n",
       " Gray{N0f8}(0.0)  Gray{N0f8}(1.0)     Gray{N0f8}(0.0)  Gray{N0f8}(0.0)\n",
       " Gray{N0f8}(1.0)  Gray{N0f8}(1.0)  …  Gray{N0f8}(1.0)  Gray{N0f8}(1.0)\n",
       " Gray{N0f8}(0.0)  Gray{N0f8}(0.0)     Gray{N0f8}(0.0)  Gray{N0f8}(0.0)\n",
       " Gray{N0f8}(1.0)  Gray{N0f8}(1.0)     Gray{N0f8}(1.0)  Gray{N0f8}(1.0)\n",
       " Gray{N0f8}(0.0)  Gray{N0f8}(0.0)     Gray{N0f8}(0.0)  Gray{N0f8}(0.0)"
      ]
     },
     "metadata": {},
     "output_type": "display_data"
    },
    {
     "data": {
      "text/plain": [
       "3"
      ]
     },
     "execution_count": 54,
     "metadata": {},
     "output_type": "execute_result"
    }
   ],
   "source": [
    "greece = [0   1   0   0   0   0   0   0   0 ;\n",
    "          0   1   0   1   1   1   1   1   1 ;\n",
    "          1   1   1   0   0   0   0   0   0 ;\n",
    "          0   1   0   1   1   1   1   1   1 ;\n",
    "          0   1   0   0   0   0   0   0   0 ;\n",
    "          1   1   1   1   1   1   1   1   1 ;\n",
    "          0   0   0   0   0   0   0   0   0 ;\n",
    "          1   1   1   1   1   1   1   1   1 ;\n",
    "          0   0   0   0   0   0   0   0   0 ]\n",
    "\n",
    "display(Gray.(greece))\n",
    "rank(greece)"
   ]
  },
  {
   "cell_type": "markdown",
   "metadata": {},
   "source": [
    "### (a)\n",
    "O posto da bandeira da Grécia, tal que $A = BC^T$ é igual a 3, ou seja, com 3 colunas da bandeira, conseguimos reconstruir completamente a bandeira original (sem perdas).\n",
    "\n",
    "No caso da bandeira da Grécia, a matriz B representa pedaços verticais do desenho da bandeira que se repetem de intervalos verticais em intervalos verticais da bandeira. Em outras palavras, com 3 faixas verticais da bandeira, conseguimos fazer algumas repetições até que a bandeira esteja completa."
   ]
  },
  {
   "cell_type": "markdown",
   "metadata": {},
   "source": [
    "### (b)\n",
    "Dois países tais quais sua bandeira tem posto = 1:\n",
    "- Alemanha\n",
    "- Austria"
   ]
  },
  {
   "cell_type": "code",
   "execution_count": 55,
   "metadata": {},
   "outputs": [
    {
     "data": {
      "image/png": "[encoded data removed]",
      "text/plain": [
       "3×5 Array{Gray{Float64},2} with eltype Gray{Float64}:\n",
       " Gray{Float64}(0.0)   Gray{Float64}(0.0)   …  Gray{Float64}(0.0)\n",
       " Gray{Float64}(0.5)   Gray{Float64}(0.5)      Gray{Float64}(0.5)\n",
       " Gray{Float64}(0.75)  Gray{Float64}(0.75)     Gray{Float64}(0.75)"
      ]
     },
     "metadata": {},
     "output_type": "display_data"
    },
    {
     "data": {
      "text/plain": [
       "1"
      ]
     },
     "execution_count": 55,
     "metadata": {},
     "output_type": "execute_result"
    }
   ],
   "source": [
    "germany = [0    0    0    0    0   ; # preto\n",
    "           0.5  0.5  0.5  0.5  0.5 ; # vermelho\n",
    "           0.75 0.75 0.75 0.75 0.75] # amarelo\n",
    "\n",
    "display(Gray.(germany))\n",
    "rank(germany)"
   ]
  },
  {
   "cell_type": "code",
   "execution_count": 56,
   "metadata": {},
   "outputs": [
    {
     "data": {
      "image/png": "[encoded data removed]",
      "text/plain": [
       "3×5 Array{Gray{Float64},2} with eltype Gray{Float64}:\n",
       " Gray{Float64}(0.5)  Gray{Float64}(0.5)  …  Gray{Float64}(0.5)\n",
       " Gray{Float64}(1.0)  Gray{Float64}(1.0)     Gray{Float64}(1.0)\n",
       " Gray{Float64}(0.5)  Gray{Float64}(0.5)     Gray{Float64}(0.5)"
      ]
     },
     "metadata": {},
     "output_type": "display_data"
    },
    {
     "data": {
      "text/plain": [
       "1"
      ]
     },
     "execution_count": 56,
     "metadata": {},
     "output_type": "execute_result"
    }
   ],
   "source": [
    "austria = [0.5 0.5 0.5 0.5 0.5; # vermelho\n",
    "           1   1   1   1   1  ; # branco\n",
    "           0.5 0.5 0.5 0.5 0.5] # vermelho\n",
    "\n",
    "display(Gray.(austria))\n",
    "rank(austria)"
   ]
  },
  {
   "cell_type": "markdown",
   "metadata": {},
   "source": [
    "### (c)\n",
    "Dois países tais quais sua bandeira tem posto = 2:\n",
    "- Chile\n",
    "- Finlândia"
   ]
  },
  {
   "cell_type": "code",
   "execution_count": 57,
   "metadata": {},
   "outputs": [
    {
     "data": {
      "image/png": "[encoded data removed]",
      "text/plain": [
       "2×3 Array{Gray{Float64},2} with eltype Gray{Float64}:\n",
       " Gray{Float64}(0.3)  Gray{Float64}(1.0)  Gray{Float64}(1.0)\n",
       " Gray{Float64}(0.5)  Gray{Float64}(0.5)  Gray{Float64}(0.5)"
      ]
     },
     "metadata": {},
     "output_type": "display_data"
    },
    {
     "data": {
      "text/plain": [
       "2"
      ]
     },
     "execution_count": 57,
     "metadata": {},
     "output_type": "execute_result"
    }
   ],
   "source": [
    "chile = [0.3  1    1   ; # azul / branco\n",
    "         0.5  0.5  0.5 ] # vermelho  \n",
    "\n",
    "display(Gray.(chile))\n",
    "rank(chile)"
   ]
  },
  {
   "cell_type": "code",
   "execution_count": 58,
   "metadata": {},
   "outputs": [
    {
     "data": {
      "image/png": "[encoded data removed]",
      "text/plain": [
       "3×5 Array{Gray{Float64},2} with eltype Gray{Float64}:\n",
       " Gray{Float64}(1.0)  Gray{Float64}(0.3)  …  Gray{Float64}(1.0)\n",
       " Gray{Float64}(0.3)  Gray{Float64}(0.3)     Gray{Float64}(0.3)\n",
       " Gray{Float64}(1.0)  Gray{Float64}(0.3)     Gray{Float64}(1.0)"
      ]
     },
     "metadata": {},
     "output_type": "display_data"
    },
    {
     "data": {
      "text/plain": [
       "2"
      ]
     },
     "execution_count": 58,
     "metadata": {},
     "output_type": "execute_result"
    }
   ],
   "source": [
    "finland = [1    0.3  1    1    1   ; # branco / azul  / branco\n",
    "           0.3  0.3  0.3  0.3  0.3 ; # azul\n",
    "           1    0.3  1    1    1   ] # branco / azul  / branco\n",
    "\n",
    "display(Gray.(finland))\n",
    "rank(finland)"
   ]
  },
  {
   "cell_type": "markdown",
   "metadata": {},
   "source": [
    "### (d)\n",
    "Dois países tais quais sua bandeira tem posto = 3:\n",
    "- Suíça\n",
    "- Noruega"
   ]
  },
  {
   "cell_type": "code",
   "execution_count": 59,
   "metadata": {},
   "outputs": [
    {
     "data": {
      "image/png": "[encoded data removed]",
      "text/plain": [
       "5×5 Array{Gray{Float64},2} with eltype Gray{Float64}:\n",
       " Gray{Float64}(0.5)  Gray{Float64}(0.5)  …  Gray{Float64}(0.5)\n",
       " Gray{Float64}(0.5)  Gray{Float64}(0.5)     Gray{Float64}(0.5)\n",
       " Gray{Float64}(0.5)  Gray{Float64}(1.0)     Gray{Float64}(0.5)\n",
       " Gray{Float64}(0.5)  Gray{Float64}(0.5)     Gray{Float64}(0.5)\n",
       " Gray{Float64}(0.5)  Gray{Float64}(0.5)     Gray{Float64}(0.5)"
      ]
     },
     "metadata": {},
     "output_type": "display_data"
    },
    {
     "data": {
      "text/plain": [
       "3"
      ]
     },
     "execution_count": 59,
     "metadata": {},
     "output_type": "execute_result"
    }
   ],
   "source": [
    "switz = [0.5  0.5  0.5  0.5  0.5 ; # vermelho\n",
    "         0.5  0.5  1    0.5  0.5 ; # vermelho / branco / vermelho\n",
    "         0.5  1    1    1    0.5 ; # vermelho / branco / vermelho\n",
    "         0.5  0.5  1    0.5  0.5 ; # vermelho / branco / vermelho\n",
    "         0.5  0.5  0.5  0.5  0.5 ] # vermelho\n",
    "\n",
    "display(Gray.(switz))\n",
    "rank(switz)"
   ]
  },
  {
   "cell_type": "code",
   "execution_count": 60,
   "metadata": {},
   "outputs": [
    {
     "data": {
      "image/png": "[encoded data removed]",
      "text/plain": [
       "7×11 Array{Gray{Float64},2} with eltype Gray{Float64}:\n",
       " Gray{Float64}(0.5)  Gray{Float64}(0.5)  …  Gray{Float64}(0.5)\n",
       " Gray{Float64}(0.5)  Gray{Float64}(0.5)     Gray{Float64}(0.5)\n",
       " Gray{Float64}(1.0)  Gray{Float64}(1.0)     Gray{Float64}(1.0)\n",
       " Gray{Float64}(0.3)  Gray{Float64}(0.3)     Gray{Float64}(0.3)\n",
       " Gray{Float64}(1.0)  Gray{Float64}(1.0)     Gray{Float64}(1.0)\n",
       " Gray{Float64}(0.5)  Gray{Float64}(0.5)  …  Gray{Float64}(0.5)\n",
       " Gray{Float64}(0.5)  Gray{Float64}(0.5)     Gray{Float64}(0.5)"
      ]
     },
     "metadata": {},
     "output_type": "display_data"
    },
    {
     "data": {
      "text/plain": [
       "3"
      ]
     },
     "execution_count": 60,
     "metadata": {},
     "output_type": "execute_result"
    }
   ],
   "source": [
    "norway = [0.5  0.5  1    0.3  1    0.5  0.5  0.5  0.5  0.5  0.5 ; # vermelho / branco / azul / branco / vermelho\n",
    "          0.5  0.5  1    0.3  1    0.5  0.5  0.5  0.5  0.5  0.5 ; # vermelho / branco / azul / branco / vermelho\n",
    "          1    1    1    0.3  1    1    1    1    1    1    1   ; # branco / azul / branco\n",
    "          0.3  0.3  0.3  0.3  0.3  0.3  0.3  0.3  0.3  0.3  0.3 ; # azul\n",
    "          1    1    1    0.3  1    1    1    1    1    1    1   ; # branco / azul / branco\n",
    "          0.5  0.5  1    0.3  1    0.5  0.5  0.5  0.5  0.5  0.5 ; # vermelho / branco / azul / branco / vermelho\n",
    "          0.5  0.5  1    0.3  1    0.5  0.5  0.5  0.5  0.5  0.5 ] # vermelho / branco / azul / branco / vermelho\n",
    "\n",
    "display(Gray.(norway))\n",
    "rank(norway)"
   ]
  },
  {
   "cell_type": "markdown",
   "metadata": {},
   "source": [
    "## Exercício 7\n",
    "\n",
    "Considere a imagem dada.\n",
    "\n",
    "a) Insira esta imagem em uma matriz 5x5. Na imagem, 0 representa a cor preta, 0.5 a cor cinza e 1 representa a cor branca.\n",
    "\n",
    "b) Qual é o posto da imagem?\n",
    "\n",
    "c) Faça compressão de dados nível 1, 2, 3, 4 e 5 e imprima na tela com os seus erros."
   ]
  },
  {
   "cell_type": "code",
   "execution_count": 61,
   "metadata": {},
   "outputs": [
    {
     "data": {
      "image/png": "[encoded data removed]",
      "text/plain": [
       "5×5 Array{Gray{Float64},2} with eltype Gray{Float64}:\n",
       " Gray{Float64}(1.0)  Gray{Float64}(0.0)  …  Gray{Float64}(1.0)\n",
       " Gray{Float64}(1.0)  Gray{Float64}(0.0)     Gray{Float64}(1.0)\n",
       " Gray{Float64}(1.0)  Gray{Float64}(1.0)     Gray{Float64}(1.0)\n",
       " Gray{Float64}(0.0)  Gray{Float64}(1.0)     Gray{Float64}(0.0)\n",
       " Gray{Float64}(1.0)  Gray{Float64}(0.0)     Gray{Float64}(1.0)"
      ]
     },
     "execution_count": 61,
     "metadata": {},
     "output_type": "execute_result"
    }
   ],
   "source": [
    "# a) Imagem em matriz 5x5\n",
    "\n",
    "img = [\n",
    "    1   0   1   0   1 ;\n",
    "    1   0   1   0   1 ;\n",
    "    1   1  0.5  1   1 ;\n",
    "    0   1   1   1   0 ;\n",
    "    1   0   0   0   1 ;\n",
    "]\n",
    "\n",
    "Gray.(img)"
   ]
  },
  {
   "cell_type": "markdown",
   "metadata": {},
   "source": [
    "b) Posto da imagem\n",
    "\n",
    "A imagem tem posto 3.\n",
    "\n",
    "O posto de uma matriz é o número de linhas (ou colunas) linearmente independentes da matriz. Podemos descobrir o posto fazendo o escalonamento da matriz e verificando o número de linhas não nulas. Um problema que se encontra ao fazer isso neste exemplo, é que nos deparamos com a necessidade de realizar trocas de linhas. Como estamos tratando de um exemplo simples em uma imagem verticalmente simétrica, é trivial reconhecer as colunas linearmente independentes.\n",
    "\n",
    "$\n",
    "\\begin{bmatrix}\n",
    "1 & 0 & 1 & 0 & 1  \\\\\n",
    "1 & 0 & 1 & 0 & 1  \\\\\n",
    "1 & 1 & 0.5 & 1 & 1  \\\\\n",
    "0 & 1 & 1 & 1 & 0  \\\\\n",
    "1 & 0 & 0 & 0 & 1  \\\\\n",
    "\\end{bmatrix}\n",
    "=\n",
    "\\begin{bmatrix}\n",
    "1 & 0 & 1 \\\\\n",
    "1 & 0 & 1 \\\\ \n",
    "1 & 1 & 0.5 \\\\\n",
    "0 & 1 & 1 \\\\\n",
    "1 & 0 & 0 \\\\\n",
    "\\end{bmatrix}\n",
    "\\cdot\n",
    "\\begin{bmatrix}\n",
    "1 & 0 & 0 & 0 & 1 \\\\\n",
    "0 & 1 & 0 & 1 & 0 \\\\\n",
    "0 & 0 & 1 & 0 & 0 \\\\\n",
    "\\end{bmatrix}\n",
    "$"
   ]
  },
  {
   "cell_type": "code",
   "execution_count": 62,
   "metadata": {},
   "outputs": [
    {
     "data": {
      "text/plain": [
       "0.0"
      ]
     },
     "execution_count": 62,
     "metadata": {},
     "output_type": "execute_result"
    }
   ],
   "source": [
    "# Verificamos a igualdade acima\n",
    "\n",
    "A = [\n",
    "    1 0 1   ;\n",
    "    1 0 1   ;\n",
    "    1 1 0.5 ;\n",
    "    0 1 1   ;\n",
    "    1 0 0   ;\n",
    "]\n",
    "\n",
    "B = [\n",
    "    1 0 0 0 1 ;\n",
    "    0 1 0 1 0 ;\n",
    "    0 0 1 0 0 ;\n",
    "]\n",
    "\n",
    "norm(A * B - img)"
   ]
  },
  {
   "cell_type": "code",
   "execution_count": 63,
   "metadata": {},
   "outputs": [
    {
     "data": {
      "text/plain": [
       "3"
      ]
     },
     "execution_count": 63,
     "metadata": {},
     "output_type": "execute_result"
    }
   ],
   "source": [
    "# Julia possui uma função para determinar o posto de uma matriz\n",
    "\n",
    "rank(img)"
   ]
  },
  {
   "cell_type": "code",
   "execution_count": 64,
   "metadata": {},
   "outputs": [
    {
     "data": {
      "image/png": "[encoded data removed]",
      "text/plain": [
       "5×5 Array{Gray{Float64},2} with eltype Gray{Float64}:\n",
       " Gray{Float64}(0.908326)  Gray{Float64}(0.420785)  …  Gray{Float64}(0.908326)\n",
       " Gray{Float64}(0.908326)  Gray{Float64}(0.420785)     Gray{Float64}(0.908326)\n",
       " Gray{Float64}(1.07348)   Gray{Float64}(0.497293)     Gray{Float64}(1.07348)\n",
       " Gray{Float64}(0.563227)  Gray{Float64}(0.260917)     Gray{Float64}(0.563227)\n",
       " Gray{Float64}(0.642945)  Gray{Float64}(0.297846)     Gray{Float64}(0.642945)"
      ]
     },
     "metadata": {},
     "output_type": "display_data"
    },
    {
     "name": "stdout",
     "output_type": "stream",
     "text": [
      "Compressão nível 1\n",
      "Erro: 2.0639038137892203\n"
     ]
    }
   ],
   "source": [
    "println(\"Compressão nível 1\")\n",
    "\n",
    "B, C = compressao(img, 1)\n",
    "compressao_1 = B * C'\n",
    "erro_1 = norm(img - compressao_1)\n",
    "display(Gray.(compressao_1))\n",
    "\n",
    "println(\"Erro: \", erro_1)"
   ]
  },
  {
   "cell_type": "code",
   "execution_count": 65,
   "metadata": {},
   "outputs": [
    {
     "data": {
      "image/png": "[encoded data removed]",
      "text/plain": [
       "5×5 Array{Gray{Float64},2} with eltype Gray{Float64}:\n",
       " Gray{Float64}(1.09263)    …  Gray{Float64}(1.09263)\n",
       " Gray{Float64}(1.09263)       Gray{Float64}(1.09263)\n",
       " Gray{Float64}(0.868419)      Gray{Float64}(0.868419)\n",
       " Gray{Float64}(0.0706856)     Gray{Float64}(0.0706856)\n",
       " Gray{Float64}(0.896033)      Gray{Float64}(0.896033)"
      ]
     },
     "metadata": {},
     "output_type": "display_data"
    },
    {
     "name": "stdout",
     "output_type": "stream",
     "text": [
      "Compressão nível 2\n",
      "Erro: 0.9834897575640651\n"
     ]
    }
   ],
   "source": [
    "println(\"Compressão nível 2\")\n",
    "\n",
    "B, C = compressao(img, 2)\n",
    "compressao_2 = B * C'\n",
    "erro_2 = norm(img - compressao_2)\n",
    "display(Gray.(compressao_2))\n",
    "\n",
    "println(\"Erro: \", erro_2)"
   ]
  },
  {
   "cell_type": "code",
   "execution_count": 66,
   "metadata": {},
   "outputs": [
    {
     "data": {
      "image/png": "[encoded data removed]",
      "text/plain": [
       "5×5 Array{Gray{Float64},2} with eltype Gray{Float64}:\n",
       " Gray{Float64}(1.0)           …  Gray{Float64}(1.0)\n",
       " Gray{Float64}(1.0)              Gray{Float64}(1.0)\n",
       " Gray{Float64}(1.0)              Gray{Float64}(1.0)\n",
       " Gray{Float64}(-2.00061e-17)     Gray{Float64}(-2.00061e-17)\n",
       " Gray{Float64}(1.0)              Gray{Float64}(1.0)"
      ]
     },
     "metadata": {},
     "output_type": "display_data"
    },
    {
     "name": "stdout",
     "output_type": "stream",
     "text": [
      "Compressão nível 3\n",
      "Erro: 4.5029896460357435e-16\n"
     ]
    }
   ],
   "source": [
    "println(\"Compressão nível 3\")\n",
    "\n",
    "B, C = compressao(img, 3)\n",
    "compressao_3 = B * C'\n",
    "erro_3 = norm(img - compressao_3)\n",
    "display(Gray.(compressao_3))\n",
    "\n",
    "println(\"Erro: \", erro_3)"
   ]
  },
  {
   "cell_type": "code",
   "execution_count": 67,
   "metadata": {},
   "outputs": [
    {
     "data": {
      "image/png": "[encoded data removed]",
      "text/plain": [
       "5×5 Array{Gray{Float64},2} with eltype Gray{Float64}:\n",
       " Gray{Float64}(1.0)          …  Gray{Float64}(1.0)\n",
       " Gray{Float64}(1.0)             Gray{Float64}(1.0)\n",
       " Gray{Float64}(1.0)             Gray{Float64}(1.0)\n",
       " Gray{Float64}(1.50752e-17)     Gray{Float64}(1.50752e-17)\n",
       " Gray{Float64}(1.0)             Gray{Float64}(1.0)"
      ]
     },
     "metadata": {},
     "output_type": "display_data"
    },
    {
     "name": "stdout",
     "output_type": "stream",
     "text": [
      "Compressão nível 4\n",
      "Erro: 2.887985667154962e-16\n"
     ]
    }
   ],
   "source": [
    "println(\"Compressão nível 4\")\n",
    "\n",
    "B, C = compressao(img, 4)\n",
    "compressao_4 = B * C'\n",
    "erro_4 = norm(img - compressao_4)\n",
    "display(Gray.(compressao_4))\n",
    "\n",
    "println(\"Erro: \", erro_4)"
   ]
  },
  {
   "cell_type": "code",
   "execution_count": 68,
   "metadata": {},
   "outputs": [
    {
     "data": {
      "image/png": "[encoded data removed]",
      "text/plain": [
       "5×5 Array{Gray{Float64},2} with eltype Gray{Float64}:\n",
       " Gray{Float64}(1.0)           …  Gray{Float64}(1.0)\n",
       " Gray{Float64}(1.0)              Gray{Float64}(1.0)\n",
       " Gray{Float64}(1.0)              Gray{Float64}(1.0)\n",
       " Gray{Float64}(-4.25781e-18)     Gray{Float64}(-4.25781e-18)\n",
       " Gray{Float64}(1.0)              Gray{Float64}(1.0)"
      ]
     },
     "metadata": {},
     "output_type": "display_data"
    },
    {
     "name": "stdout",
     "output_type": "stream",
     "text": [
      "Compressão nível 5\n",
      "Erro: 1.2271008188222755e-16\n"
     ]
    }
   ],
   "source": [
    "println(\"Compressão nível 5\")\n",
    "\n",
    "B, C = compressao(img, 5)\n",
    "compressao_5 = B * C'\n",
    "erro_5 = norm(img - compressao_5)\n",
    "display(Gray.(compressao_5))\n",
    "\n",
    "println(\"Erro: \", erro_5)"
   ]
  },
  {
   "cell_type": "markdown",
   "metadata": {},
   "source": [
    "## Exercício 8\n",
    "\n",
    "Encontre (ou desenhe) uma imagem A, com mais ou menos 200 x 200 pixels (pode ser um pouco maior), que\n",
    "\n",
    "a) Exija um nível de compressão maior que 3 e menor que 6 para recuperar pelo menos 99% de sua norma total.\n",
    "\n",
    "b) Exija um nível de compressão maior que 40 para recuperar pelo menos 99% de sua norma total"
   ]
  },
  {
   "cell_type": "code",
   "execution_count": 69,
   "metadata": {},
   "outputs": [
    {
     "data": {
      "image/png": "[encoded data removed]",
      "text/plain": [
       "200×200 Array{Gray{Float64},2} with eltype Gray{Float64}:\n",
       " Gray{Float64}(0.0)  Gray{Float64}(0.0)  …  Gray{Float64}(0.0)\n",
       " Gray{Float64}(0.0)  Gray{Float64}(0.0)     Gray{Float64}(0.0)\n",
       " Gray{Float64}(0.0)  Gray{Float64}(0.0)     Gray{Float64}(0.0)\n",
       " Gray{Float64}(0.0)  Gray{Float64}(0.0)     Gray{Float64}(0.0)\n",
       " Gray{Float64}(0.0)  Gray{Float64}(0.0)     Gray{Float64}(0.0)\n",
       " Gray{Float64}(0.0)  Gray{Float64}(0.0)  …  Gray{Float64}(0.0)\n",
       " Gray{Float64}(0.0)  Gray{Float64}(0.0)     Gray{Float64}(0.0)\n",
       " Gray{Float64}(0.0)  Gray{Float64}(0.0)     Gray{Float64}(0.0)\n",
       " Gray{Float64}(0.0)  Gray{Float64}(0.0)     Gray{Float64}(0.0)\n",
       " Gray{Float64}(0.0)  Gray{Float64}(0.0)     Gray{Float64}(0.0)\n",
       " Gray{Float64}(0.0)  Gray{Float64}(0.0)  …  Gray{Float64}(0.0)\n",
       " Gray{Float64}(0.0)  Gray{Float64}(0.0)     Gray{Float64}(0.0)\n",
       " Gray{Float64}(0.0)  Gray{Float64}(0.0)     Gray{Float64}(0.0)\n",
       " ⋮                                       ⋱  \n",
       " Gray{Float64}(0.0)  Gray{Float64}(0.0)     Gray{Float64}(0.0)\n",
       " Gray{Float64}(0.0)  Gray{Float64}(0.0)     Gray{Float64}(0.0)\n",
       " Gray{Float64}(0.0)  Gray{Float64}(0.0)  …  Gray{Float64}(0.0)\n",
       " Gray{Float64}(0.0)  Gray{Float64}(0.0)     Gray{Float64}(0.0)\n",
       " Gray{Float64}(0.0)  Gray{Float64}(0.0)     Gray{Float64}(0.0)\n",
       " Gray{Float64}(0.0)  Gray{Float64}(0.0)     Gray{Float64}(0.0)\n",
       " Gray{Float64}(0.0)  Gray{Float64}(0.0)     Gray{Float64}(0.0)\n",
       " Gray{Float64}(0.0)  Gray{Float64}(0.0)  …  Gray{Float64}(0.0)\n",
       " Gray{Float64}(0.0)  Gray{Float64}(0.0)     Gray{Float64}(0.0)\n",
       " Gray{Float64}(0.0)  Gray{Float64}(0.0)     Gray{Float64}(0.0)\n",
       " Gray{Float64}(0.0)  Gray{Float64}(0.0)     Gray{Float64}(0.0)\n",
       " Gray{Float64}(0.0)  Gray{Float64}(0.0)     Gray{Float64}(0.0)"
      ]
     },
     "metadata": {},
     "output_type": "display_data"
    },
    {
     "data": {
      "text/plain": [
       "4"
      ]
     },
     "execution_count": 69,
     "metadata": {},
     "output_type": "execute_result"
    }
   ],
   "source": [
    "# a) Nível de compressão maior que 3 e menor que 6\n",
    "\n",
    "img = zeros(200, 200)\n",
    "img[75:125, :] .= 1\n",
    "img[:, 75:125] .= 1\n",
    "img[75:125, 75:125] .= 0\n",
    "img[85:115, 37:163] .= 0\n",
    "img[37:163, 85:115] .= 0\n",
    "\n",
    "raw = img\n",
    "img = Gray.(img)\n",
    "display(img)\n",
    "\n",
    "rank(raw)"
   ]
  },
  {
   "cell_type": "code",
   "execution_count": 70,
   "metadata": {},
   "outputs": [
    {
     "data": {
      "image/png": "[encoded data removed]",
      "text/plain": [
       "200×200 Array{Gray{Float64},2} with eltype Gray{Float64}:\n",
       " Gray{Float64}(2.35313e-16)  …  Gray{Float64}(2.35313e-16)\n",
       " Gray{Float64}(2.35313e-16)     Gray{Float64}(2.35313e-16)\n",
       " Gray{Float64}(2.35313e-16)     Gray{Float64}(2.35313e-16)\n",
       " Gray{Float64}(2.35313e-16)     Gray{Float64}(2.35313e-16)\n",
       " Gray{Float64}(2.35313e-16)     Gray{Float64}(2.35313e-16)\n",
       " Gray{Float64}(2.35313e-16)  …  Gray{Float64}(2.35313e-16)\n",
       " Gray{Float64}(2.35313e-16)     Gray{Float64}(2.35313e-16)\n",
       " Gray{Float64}(2.35313e-16)     Gray{Float64}(2.35313e-16)\n",
       " Gray{Float64}(2.35313e-16)     Gray{Float64}(2.35313e-16)\n",
       " Gray{Float64}(2.35313e-16)     Gray{Float64}(2.35313e-16)\n",
       " Gray{Float64}(2.35313e-16)  …  Gray{Float64}(2.35313e-16)\n",
       " Gray{Float64}(2.35313e-16)     Gray{Float64}(2.35313e-16)\n",
       " Gray{Float64}(2.35313e-16)     Gray{Float64}(2.35313e-16)\n",
       " ⋮                           ⋱  \n",
       " Gray{Float64}(2.35313e-16)     Gray{Float64}(2.35313e-16)\n",
       " Gray{Float64}(2.35313e-16)     Gray{Float64}(2.35313e-16)\n",
       " Gray{Float64}(2.35313e-16)  …  Gray{Float64}(2.35313e-16)\n",
       " Gray{Float64}(2.35313e-16)     Gray{Float64}(2.35313e-16)\n",
       " Gray{Float64}(2.35313e-16)     Gray{Float64}(2.35313e-16)\n",
       " Gray{Float64}(2.35313e-16)     Gray{Float64}(2.35313e-16)\n",
       " Gray{Float64}(2.35313e-16)     Gray{Float64}(2.35313e-16)\n",
       " Gray{Float64}(2.35313e-16)  …  Gray{Float64}(2.35313e-16)\n",
       " Gray{Float64}(2.35313e-16)     Gray{Float64}(2.35313e-16)\n",
       " Gray{Float64}(2.35313e-16)     Gray{Float64}(2.35313e-16)\n",
       " Gray{Float64}(2.35313e-16)     Gray{Float64}(2.35313e-16)\n",
       " Gray{Float64}(2.35313e-16)     Gray{Float64}(2.35313e-16)"
      ]
     },
     "metadata": {},
     "output_type": "display_data"
    },
    {
     "name": "stdout",
     "output_type": "stream",
     "text": [
      "Compressão de nível 4\n",
      "Erro: 2.4426994844720897e-13\n",
      "Porcentagem da Norma: 100.00%\n"
     ]
    }
   ],
   "source": [
    "nivel_de_compressao = 4\n",
    "\n",
    "println(\"Compressão de nível \", nivel_de_compressao)\n",
    "\n",
    "B, C = compressao(raw, nivel_de_compressao)\n",
    "img_comprimida = B * C'\n",
    "erro = norm(Gray.(img) - img_comprimida)\n",
    "display(Gray.(img_comprimida))\n",
    "\n",
    "println(\"Erro: \", erro)\n",
    "@printf(\"Porcentagem da Norma: %.2f%%\\n\", norm(img_comprimida) * 100 / norm(raw))"
   ]
  },
  {
   "cell_type": "code",
   "execution_count": 71,
   "metadata": {},
   "outputs": [
    {
     "data": {
      "image/png": "[encoded data removed]",
      "text/plain": [
       "200×200 Array{Gray{Float64},2} with eltype Gray{Float64}:\n",
       " Gray{Float64}(0.0)  Gray{Float64}(0.0)  …  Gray{Float64}(0.0)\n",
       " Gray{Float64}(1.0)  Gray{Float64}(0.0)     Gray{Float64}(0.0)\n",
       " Gray{Float64}(1.0)  Gray{Float64}(1.0)     Gray{Float64}(0.0)\n",
       " Gray{Float64}(1.0)  Gray{Float64}(1.0)     Gray{Float64}(0.0)\n",
       " Gray{Float64}(1.0)  Gray{Float64}(1.0)     Gray{Float64}(0.0)\n",
       " Gray{Float64}(1.0)  Gray{Float64}(1.0)  …  Gray{Float64}(0.0)\n",
       " Gray{Float64}(1.0)  Gray{Float64}(1.0)     Gray{Float64}(0.0)\n",
       " Gray{Float64}(1.0)  Gray{Float64}(1.0)     Gray{Float64}(0.0)\n",
       " Gray{Float64}(1.0)  Gray{Float64}(1.0)     Gray{Float64}(0.0)\n",
       " Gray{Float64}(1.0)  Gray{Float64}(1.0)     Gray{Float64}(0.0)\n",
       " Gray{Float64}(1.0)  Gray{Float64}(1.0)  …  Gray{Float64}(0.0)\n",
       " Gray{Float64}(1.0)  Gray{Float64}(1.0)     Gray{Float64}(0.0)\n",
       " Gray{Float64}(1.0)  Gray{Float64}(1.0)     Gray{Float64}(0.0)\n",
       " ⋮                                       ⋱  \n",
       " Gray{Float64}(0.0)  Gray{Float64}(0.0)     Gray{Float64}(0.0)\n",
       " Gray{Float64}(0.0)  Gray{Float64}(0.0)     Gray{Float64}(0.0)\n",
       " Gray{Float64}(0.0)  Gray{Float64}(0.0)  …  Gray{Float64}(0.0)\n",
       " Gray{Float64}(0.0)  Gray{Float64}(0.0)     Gray{Float64}(0.0)\n",
       " Gray{Float64}(0.0)  Gray{Float64}(0.0)     Gray{Float64}(0.0)\n",
       " Gray{Float64}(0.0)  Gray{Float64}(0.0)     Gray{Float64}(0.0)\n",
       " Gray{Float64}(0.0)  Gray{Float64}(0.0)     Gray{Float64}(0.0)\n",
       " Gray{Float64}(0.0)  Gray{Float64}(0.0)  …  Gray{Float64}(0.0)\n",
       " Gray{Float64}(0.0)  Gray{Float64}(0.0)     Gray{Float64}(0.0)\n",
       " Gray{Float64}(0.0)  Gray{Float64}(0.0)     Gray{Float64}(0.0)\n",
       " Gray{Float64}(0.0)  Gray{Float64}(0.0)     Gray{Float64}(0.0)\n",
       " Gray{Float64}(0.0)  Gray{Float64}(0.0)     Gray{Float64}(0.0)"
      ]
     },
     "metadata": {},
     "output_type": "display_data"
    },
    {
     "data": {
      "text/plain": [
       "148"
      ]
     },
     "execution_count": 71,
     "metadata": {},
     "output_type": "execute_result"
    }
   ],
   "source": [
    "# b) Nível de compressão maior que 40\n",
    "\n",
    "img = zeros(200, 200)\n",
    "m, n = size(img)\n",
    "for i=1:m\n",
    "    for j=1:n\n",
    "        img[i, j] = i > n/2 + sin(j/5*100)*n/5 * j/100 ? 0.0 : 1.0;\n",
    "        img[j, i] -= i > n/2 + sin(j/5*100)*n/5 * j/100 ? 0.0 : 1.0;\n",
    "        img[n-j+1, i] *= i > n/2 + sin(j/5*100)*n/5 * j/100 ? 0.0 : 1.0;\n",
    "        img[j, m-i+1] -= i > n/2 + sin(j/5*100)*n/5 * j/100 ? 0.0 : 1.0;\n",
    "    end\n",
    "end\n",
    "        \n",
    "\n",
    "raw = img\n",
    "img = Gray.(img)\n",
    "display(img)\n",
    "\n",
    "rank(raw)"
   ]
  },
  {
   "cell_type": "code",
   "execution_count": 72,
   "metadata": {},
   "outputs": [
    {
     "data": {
      "image/png": "[encoded data removed]",
      "text/plain": [
       "200×200 Array{Gray{Float64},2} with eltype Gray{Float64}:\n",
       " Gray{Float64}(0.0)       Gray{Float64}(0.0)       …  Gray{Float64}(0.0)\n",
       " Gray{Float64}(0.24333)   Gray{Float64}(0.232146)     Gray{Float64}(0.0)\n",
       " Gray{Float64}(0.529683)  Gray{Float64}(0.50758)      Gray{Float64}(0.0)\n",
       " Gray{Float64}(0.780879)  Gray{Float64}(0.745178)     Gray{Float64}(0.0)\n",
       " Gray{Float64}(0.83561)   Gray{Float64}(0.801541)     Gray{Float64}(0.0)\n",
       " Gray{Float64}(0.978089)  Gray{Float64}(0.938713)  …  Gray{Float64}(0.0)\n",
       " Gray{Float64}(1.05173)   Gray{Float64}(1.01772)      Gray{Float64}(0.0)\n",
       " Gray{Float64}(1.0917)    Gray{Float64}(1.06323)      Gray{Float64}(0.0)\n",
       " Gray{Float64}(1.22653)   Gray{Float64}(1.19939)      Gray{Float64}(0.0)\n",
       " Gray{Float64}(1.10899)   Gray{Float64}(1.0936)       Gray{Float64}(0.0)\n",
       " Gray{Float64}(1.06549)   Gray{Float64}(1.05834)   …  Gray{Float64}(0.0)\n",
       " Gray{Float64}(1.0961)    Gray{Float64}(1.0914)       Gray{Float64}(0.0)\n",
       " Gray{Float64}(0.912371)  Gray{Float64}(0.921989)     Gray{Float64}(0.0)\n",
       " ⋮                                                 ⋱  \n",
       " Gray{Float64}(0.0)       Gray{Float64}(0.0)          Gray{Float64}(0.0)\n",
       " Gray{Float64}(0.0)       Gray{Float64}(0.0)          Gray{Float64}(0.0)\n",
       " Gray{Float64}(0.0)       Gray{Float64}(0.0)       …  Gray{Float64}(0.0)\n",
       " Gray{Float64}(0.0)       Gray{Float64}(0.0)          Gray{Float64}(0.0)\n",
       " Gray{Float64}(0.0)       Gray{Float64}(0.0)          Gray{Float64}(0.0)\n",
       " Gray{Float64}(0.0)       Gray{Float64}(0.0)          Gray{Float64}(0.0)\n",
       " Gray{Float64}(0.0)       Gray{Float64}(0.0)          Gray{Float64}(0.0)\n",
       " Gray{Float64}(0.0)       Gray{Float64}(0.0)       …  Gray{Float64}(0.0)\n",
       " Gray{Float64}(0.0)       Gray{Float64}(0.0)          Gray{Float64}(0.0)\n",
       " Gray{Float64}(0.0)       Gray{Float64}(0.0)          Gray{Float64}(0.0)\n",
       " Gray{Float64}(0.0)       Gray{Float64}(0.0)          Gray{Float64}(0.0)\n",
       " Gray{Float64}(0.0)       Gray{Float64}(0.0)          Gray{Float64}(0.0)"
      ]
     },
     "metadata": {},
     "output_type": "display_data"
    },
    {
     "name": "stdout",
     "output_type": "stream",
     "text": [
      "Compressão de nível 43\n",
      "Erro: 11.943940935043626\n",
      "Porcentagem da Norma: 99.03%\n"
     ]
    }
   ],
   "source": [
    "nivel_de_compressao = 43\n",
    "\n",
    "println(\"Compressão de nível \", nivel_de_compressao)\n",
    "\n",
    "B, C = compressao(raw, nivel_de_compressao)\n",
    "img_comprimida = B * C'\n",
    "erro = norm(Gray.(img) - img_comprimida)\n",
    "display(Gray.(img_comprimida))\n",
    "\n",
    "println(\"Erro: \", erro)\n",
    "@printf(\"Porcentagem da Norma: %.2f%%\\n\", norm(img_comprimida) * 100 / norm(raw))"
   ]
  },
  {
   "cell_type": "code",
   "execution_count": 73,
   "metadata": {},
   "outputs": [
    {
     "data": {
      "text/plain": [
       "84.99024811671153"
      ]
     },
     "execution_count": 73,
     "metadata": {},
     "output_type": "execute_result"
    }
   ],
   "source": [
    "norm(img_comprimida)"
   ]
  },
  {
   "cell_type": "code",
   "execution_count": 74,
   "metadata": {},
   "outputs": [
    {
     "data": {
      "text/plain": [
       "85.82540416450132"
      ]
     },
     "execution_count": 74,
     "metadata": {},
     "output_type": "execute_result"
    }
   ],
   "source": [
    "norm(raw)"
   ]
  }
 ],
 "metadata": {
  "kernelspec": {
   "display_name": "Julia 1.6.0",
   "language": "julia",
   "name": "julia-1.6"
  },
  "language_info": {
   "file_extension": ".jl",
   "mimetype": "application/julia",
   "name": "julia",
   "version": "1.6.1"
  }
 },
 "nbformat": 4,
 "nbformat_minor": 4
}
