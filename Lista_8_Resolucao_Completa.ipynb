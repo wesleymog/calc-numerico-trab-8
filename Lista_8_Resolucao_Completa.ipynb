{
 "cells": [
  {
   "cell_type": "markdown",
   "metadata": {},
   "source": [
    "# Resolução lista 8: Métodos Iterativos para Sistema Lineares e Redução de Dados\n"
   ]
  },
  {
   "cell_type": "markdown",
   "metadata": {},
   "source": [
    "## Exercício 1\n",
    "\n",
    "As 3 funções abaixo foram incluídas na biblioteca de funções do grupo:\n",
    "\n",
    "  `- COMPRESSÃO`  \n",
    "  `- GAUSS-JACOBI`  \n",
    "  `- GAUSS-SEIDEL`\n",
    "\n",
    "Como as mesmas são utilizadas no decorrer da resolução de outras questões da lista, optamos por deixar o código das funções neste notebook também."
   ]
  },
  {
   "cell_type": "code",
   "execution_count": 84,
   "metadata": {},
   "outputs": [],
   "source": [
    "import Pkg; \n",
    "\n",
    "Pkg.add(\"Images\")\n",
    "\n",
    "using LinearAlgebra\n",
    "using Images\n",
    "using Printf\n",
    "using Plots"
   ]
  },
  {
   "cell_type": "markdown",
   "metadata": {},
   "source": [
    "### Função Compressão"
   ]
  },
  {
   "cell_type": "code",
   "execution_count": 85,
   "metadata": {},
   "outputs": [
    {
     "data": {
      "text/plain": [
       "compressao (generic function with 1 method)"
      ]
     },
     "execution_count": 85,
     "metadata": {},
     "output_type": "execute_result"
    }
   ],
   "source": [
    "\"\"\"\n",
    "RESUMO: É um método que dada uma matriz A, diminuirmos o tamanho delas através do cálculo de valores de c\n",
    "        respeitando o modelo A = A-b*c', para conseguir várias matrizes até o posto desejado pelo usuário.\n",
    "ENTRADA: matriz A e o nível de compressão\n",
    "SAIDA: matriz B e matriz C\n",
    "\"\"\"\n",
    "# Retorna a melhor coordenada, tal que norm(A-b*c') é mínima\n",
    "function melhores_coords(A,b) #retorna c tal que norm(A-b*c') é mínima\n",
    "    m,n=size(A)\n",
    "    A=1.0*A\n",
    "    c=zeros(n,1)\n",
    "    c=A'*(b/(b'*b))\n",
    "    return c\n",
    "end\n",
    "\n",
    "# Faz cálculo b, c através das melhores coordenadas\n",
    "function calculo_cb(A; limite = 22)\n",
    "    n,m=size(A)\n",
    "\n",
    "    b=randn(n,1)\n",
    "    c=randn(m,1)\n",
    "    \n",
    "    btemp=randn(m,1)\n",
    "    ctemp=randn(n,1)\n",
    "    \n",
    "    for i=1:limite\n",
    "        c=melhores_coords(A,b)\n",
    "        btemp=c\n",
    "        ctemp=melhores_coords(A',btemp)\n",
    "        b=ctemp\n",
    "    end\n",
    "    \n",
    "    return b,c\n",
    "end\n",
    "\n",
    "# Função compressão\n",
    "function compressao(A,nivel)\n",
    "    m,n=size(A)\n",
    "    B=zeros(m,nivel)\n",
    "    C=zeros(n,nivel)\n",
    "    \n",
    "    for i=1:nivel\n",
    "        B[:,i],C[:,i]=calculo_cb(A)\n",
    "        A=A-B[:,i]*C[:,i]'\n",
    "    end\n",
    "    return B,C\n",
    "end"
   ]
  },
  {
   "cell_type": "code",
   "execution_count": 86,
   "metadata": {},
   "outputs": [
    {
     "name": "stdout",
     "output_type": "stream",
     "text": [
      "O erro é de 2.527409974663221e-14"
     ]
    }
   ],
   "source": [
    "#Exemplo 1\n",
    "A = [1 2 1 11 101 2 10; 1 2 2 12 102 3  20;1 2 3 13 103 4 30]\n",
    "B, C =compressao(A, 2)\n",
    "print(\"O erro é de $(norm(A-B*C'))\")"
   ]
  },
  {
   "cell_type": "code",
   "execution_count": 87,
   "metadata": {},
   "outputs": [
    {
     "name": "stdout",
     "output_type": "stream",
     "text": [
      "O erro é de 2.0791723739534308e-14"
     ]
    }
   ],
   "source": [
    "#Exemplo 2\n",
    "A = [22 17 15 12 100 120;44 18 30 13 120 100;66 19 45 14 150 90]\n",
    "B,C = compressao(A, 3)\n",
    "print(\"O erro é de $(norm(A-B*C'))\")"
   ]
  },
  {
   "cell_type": "code",
   "execution_count": 88,
   "metadata": {},
   "outputs": [
    {
     "name": "stdout",
     "output_type": "stream",
     "text": [
      "O erro é de 9.739636741317752e-15"
     ]
    }
   ],
   "source": [
    "#Exemplo 3\n",
    "A = [3.0 6.0 9.0 12.0 15.0; 6.0 7.0 8.0 9.0 10.0; 10.0 20.0 30.0 40.0 50.0; 12.0 13.0 14.0 15.0 16.0]\n",
    "B,C = compressao(A, 2)\n",
    "print(\"O erro é de $(norm(A-B*C'))\")"
   ]
  },
  {
   "cell_type": "code",
   "execution_count": 89,
   "metadata": {},
   "outputs": [
    {
     "data": {
      "text/plain": [
       "3"
      ]
     },
     "execution_count": 89,
     "metadata": {},
     "output_type": "execute_result"
    }
   ],
   "source": [
    "A = rand(1:100, 5,3)\n",
    "rank(A)"
   ]
  },
  {
   "cell_type": "markdown",
   "metadata": {},
   "source": [
    "### Função Gauss-Jacobi"
   ]
  },
  {
   "cell_type": "code",
   "execution_count": 90,
   "metadata": {},
   "outputs": [
    {
     "data": {
      "text/plain": [
       "gauss_jacobi"
      ]
     },
     "execution_count": 90,
     "metadata": {},
     "output_type": "execute_result"
    }
   ],
   "source": [
    "\"\"\"\n",
    "RESUMO: É um método iterativo para resolução de sistemas de equações lineares de forma Ax = b.\n",
    "        Tem como condição suficiente de convergência que a matriz seja estritamente diagonal dominante.\n",
    "        Converge para matrizes diagonais dominantes.\n",
    "ENTRADA:Uma matriz A e uma matriz b\n",
    "SAIDA: uma matriz x, com o resultado da equação linear\n",
    "\"\"\"\n",
    "function gauss_jacobi(A,b; limite= 400)\n",
    "    n,m=size(A)\n",
    "    M=Diagonal(A) #Pegando a Diagonal de A\n",
    "    K=M-A  #Quebrando a matriz A em M -K, sendo M, a sua diagonal, pois essa é mais barata de se calcular\n",
    "    R=inv(M)*K \n",
    "    c=inv(M)*b\n",
    "    \n",
    "    x=zeros(n,1) #Chute inicial\n",
    "    for i=1:limite\n",
    "        x=R*x+c\n",
    "    end\n",
    "    \n",
    "    return x\n",
    "end"
   ]
  },
  {
   "cell_type": "code",
   "execution_count": 91,
   "metadata": {},
   "outputs": [
    {
     "data": {
      "text/plain": [
       "1.0658141036401503e-14"
      ]
     },
     "execution_count": 91,
     "metadata": {},
     "output_type": "execute_result"
    }
   ],
   "source": [
    "#Exemplo 1\n",
    "A = [10.0 2.0 3.0;4.5 15.0 12.5;10 15 35]\n",
    "x = [15;11;20]\n",
    "b = A*x\n",
    "x_final = gauss_jacobi(A,b)\n",
    "norm(x - x_final)"
   ]
  },
  {
   "cell_type": "code",
   "execution_count": 92,
   "metadata": {},
   "outputs": [
    {
     "name": "stdout",
     "output_type": "stream",
     "text": [
      "O valor de x original era [27, 1, 21] \n",
      "O valor do x encontrado foi [26.999999999999986; 1.0; 20.999999999999993] \n",
      "O erro é próximo de 1.5888218580782548e-14"
     ]
    }
   ],
   "source": [
    "#Exemplo 2\n",
    "A = [27.0 15.0 18.0;21.5 45.45 10.1;11 75 105]\n",
    "x = [27;1;21]\n",
    "b = A*x\n",
    "x_final = gauss_jacobi(A,b)\n",
    "print(\"O valor de x original era $x \\nO valor do x encontrado foi $x_final \\nO erro é próximo de $(norm(x - x_final))\")"
   ]
  },
  {
   "cell_type": "code",
   "execution_count": 93,
   "metadata": {},
   "outputs": [
    {
     "name": "stdout",
     "output_type": "stream",
     "text": [
      "O valor de x original era [27, 11, 1] \n",
      "O valor do x encontrado foi [26.999999999999993; 10.999999999999998; 1.0] \n",
      "O erro é próximo de 7.32410687763558e-15"
     ]
    }
   ],
   "source": [
    "#Exemplo 3\n",
    "A = [44.001 77.12 28.0;2.5 79.002 3.7;11.01 110.10 22.1]\n",
    "x = [27;11;1]\n",
    "b = A*x\n",
    "x_final = gauss_jacobi(A,b)\n",
    "print(\"O valor de x original era $x \\nO valor do x encontrado foi $x_final \\nO erro é próximo de $(norm(x - x_final))\")"
   ]
  },
  {
   "cell_type": "markdown",
   "metadata": {},
   "source": [
    "### Função Gauss-Seidel"
   ]
  },
  {
   "cell_type": "code",
   "execution_count": 94,
   "metadata": {},
   "outputs": [
    {
     "data": {
      "text/plain": [
       "gauss_seidel"
      ]
     },
     "execution_count": 94,
     "metadata": {},
     "output_type": "execute_result"
    }
   ],
   "source": [
    "\"\"\"\n",
    "RESUMO: É um método iterativo para resolução de sistemas de equações lineares. \n",
    "        Tem como condição suficiente de convergência que a matriz seja estritamente diagonal dominante.\n",
    "ENTRADA:Uma matriz A e uma matriz b\n",
    "SAIDA: uma matriz x, com o resultado da equação linear\n",
    "\"\"\"\n",
    "function gauss_seidel(A,b; limite=400)\n",
    "    n,m=size(A)\n",
    "    M=UpperTriangular(A) #Calculando o triangular superior e salvando em M\n",
    "    K=M-A     \n",
    "    #Quebrando a matriz A em M -K, sendo M, a sua triangular superior, pois essa é mais barata de se calcular\n",
    "    R=inv(M)*K\n",
    "    c=inv(M)*b\n",
    "    \n",
    "    x=zeros(n,1) #chute inicial\n",
    "    for i=1:limite\n",
    "        x=R*x+c \n",
    "    end\n",
    "    \n",
    "    return x\n",
    "end"
   ]
  },
  {
   "cell_type": "code",
   "execution_count": 95,
   "metadata": {},
   "outputs": [
    {
     "name": "stdout",
     "output_type": "stream",
     "text": [
      "O valor de x original era [5, 6, 7] \n",
      "O valor do x encontrado foi [5.0; 5.999999999999999; 7.0] \n",
      "O erro é próximo de 8.881784197001252e-16"
     ]
    }
   ],
   "source": [
    "#Exemplo 1\n",
    "A = [15.0 1.8 1.0;1.5 25.15 11.1;0.01 55 75]\n",
    "x = [5;6;7]\n",
    "b = A*x\n",
    "x_final = gauss_seidel(A,b)\n",
    "print(\"O valor de x original era $x \\nO valor do x encontrado foi $x_final \\nO erro é próximo de $(norm(x - x_final))\")"
   ]
  },
  {
   "cell_type": "code",
   "execution_count": 96,
   "metadata": {},
   "outputs": [
    {
     "name": "stdout",
     "output_type": "stream",
     "text": [
      "O valor de x original era [-0.15124464031773965; -0.4695346856446381; -0.28035203111146667; 0.2385864578467207] \n",
      "O valor do x encontrado foi [-0.15124464031773974; -0.469534685644638; -0.2803520311114663; 0.23858645784672294] \n",
      "O erro é próximo de 2.2837290315185457e-15"
     ]
    }
   ],
   "source": [
    "#Exemplo 2\n",
    "A = [15.58158 -1.622 1.1196 0.613; 1.250 3.420 -0.662 0.1446; 1.5964 0.571137 5.13785854 -0.827872; 1.07690677 0.19946388 1.003 -0.18519343]\n",
    "x = randn(4,1)\n",
    "b = A*x\n",
    "x_final = gauss_seidel(A,b)\n",
    "print(\"O valor de x original era $x \\nO valor do x encontrado foi $x_final \\nO erro é próximo de $(norm(x - x_final))\")"
   ]
  },
  {
   "cell_type": "code",
   "execution_count": 97,
   "metadata": {},
   "outputs": [
    {
     "name": "stdout",
     "output_type": "stream",
     "text": [
      "O valor de x original era [-0.04343778216875846, -1.1871517960515228, 0.9565556126856019, -0.6580960721098263] \n",
      "O valor do x encontrado foi [-0.04343778216875849; -1.1871517960515228; 0.9565556126856025; -0.6580960721098268] \n",
      "O erro é próximo de 8.010741897413915e-16"
     ]
    }
   ],
   "source": [
    "#Exemplo 3\n",
    "A = [0.44232843419610957 0.975168270793521 0.4057316291542512 0.43141972827505626; 0.05176629292410739 0.6326306259870371 0.17408718829624203 0.216193281992759; 0.4930982825005519 0.8217543935748945 0.9028708230733111 0.5851496265616856; 0.4336333792828273 0.03710455313190231 0.5436617314521639 0.8655115805195281]\n",
    "x = [-0.04343778216875846; -1.1871517960515228; 0.9565556126856019; -0.6580960721098263]\n",
    "b = A*x\n",
    "x_final = gauss_seidel(A,b)\n",
    "print(\"O valor de x original era $x \\nO valor do x encontrado foi $x_final \\nO erro é próximo de $(norm(x - x_final))\")"
   ]
  },
  {
   "cell_type": "markdown",
   "metadata": {},
   "source": [
    "## Exercício 2"
   ]
  },
  {
   "cell_type": "code",
   "execution_count": 98,
   "metadata": {},
   "outputs": [],
   "source": [
    "gr(size =(600,400) )\n",
    "plot(rand(1), rand(1))\n",
    "scatter!(rand(1), rand(1))\n",
    "nothing"
   ]
  },
  {
   "cell_type": "code",
   "execution_count": 99,
   "metadata": {},
   "outputs": [
    {
     "data": {
      "text/plain": [
       "gauss_jacobi_com_erro (generic function with 1 method)"
      ]
     },
     "execution_count": 99,
     "metadata": {},
     "output_type": "execute_result"
    }
   ],
   "source": [
    "\"\"\"\n",
    "Sabendo que { 2x₁ + x₂ = 2; −x₁ + 2x₂ = 2}, pode ser escrito como A = [2 1;-1 2] e b = [2;2]\n",
    "\"\"\"\n",
    "function gauss_seidel_com_erro(A,b; max_iter=1000, ϵ = 1e-3)\n",
    "    n,m=size(A)\n",
    "    x1s = []\n",
    "    x2s = []\n",
    "    M=UpperTriangular(A) #Calculando o triangular superior e salvando em M\n",
    "    K=M-A     \n",
    "    #Quebrando a matriz A em M -K, sendo M, a sua triangular superior, pois essa é mais barata de se calcular\n",
    "    R=inv(M)*K\n",
    "    c=inv(M)*b\n",
    "    x=zeros(n,1) #chute inicial\n",
    "    x=R*x+c\n",
    "    x_anterior = x\n",
    "    append!(x1s, x[1])\n",
    "    append!(x2s, x[2])\n",
    "    x=R*x+c \n",
    "    iter =0 \n",
    "    resolvido = (abs(norm(x-x_anterior)) ≤ ϵ)\n",
    "    cansado = (iter ≥ max_iter)\n",
    "    while !(resolvido || cansado) \n",
    "        x_anterior = x\n",
    "        append!(x1s, x[1])\n",
    "        append!(x2s, x[2])\n",
    "        x=R*x+c \n",
    "        iter +=1\n",
    "        #print(x, \"\\n\", x_anterior)\n",
    "        resolvido = (abs(norm(x-x_anterior)) ≤ ϵ)\n",
    "        cansado = (iter ≥ max_iter)\n",
    "        \n",
    "    end\n",
    "    print(\"O erro final ficou em $(abs(norm(x-x_anterior)))\\n\")\n",
    "    print(\"O resultado final ficou em $x\\n\")\n",
    "    return x1s, x2s\n",
    "end\n",
    "\n",
    "function gauss_jacobi_com_erro(A,b; max_iter=1000, ϵ = 1e-3)\n",
    "    n,m=size(A)\n",
    "    x1s = []\n",
    "    x2s = []\n",
    "    M=Diagonal(A) #Calculando o triangular superior e salvando em M\n",
    "    K=M-A     \n",
    "    #Quebrando a matriz A em M -K, sendo M, a sua triangular superior, pois essa é mais barata de se calcular\n",
    "    R=inv(M)*K\n",
    "    c=inv(M)*b\n",
    "    x=zeros(n,1) #chute inicial\n",
    "    x=R*x+c\n",
    "    x_anterior = x\n",
    "    append!(x1s, x[1])\n",
    "    append!(x2s, x[2])\n",
    "    x=R*x+c \n",
    "    iter =0 \n",
    "    resolvido = (abs(norm(x-x_anterior)) ≤ ϵ)\n",
    "    cansado = (iter ≥ max_iter)\n",
    "    while !(resolvido || cansado) \n",
    "        x_anterior = x\n",
    "        append!(x1s, x[1])\n",
    "        append!(x2s, x[2])\n",
    "        x=R*x+c \n",
    "        iter +=1\n",
    "        #print(x, \"\\n\", x_anterior)\n",
    "        resolvido = (abs(norm(x-x_anterior)) ≤ ϵ)\n",
    "        cansado = (iter ≥ max_iter)\n",
    "        \n",
    "    end\n",
    "    print(\"O erro final ficou em $(abs(norm(x-x_anterior)))\\n\")\n",
    "    print(\"O resultado final ficou em $x\\n\")\n",
    "    return x1s, x2s\n",
    "end"
   ]
  },
  {
   "cell_type": "code",
   "execution_count": 100,
   "metadata": {},
   "outputs": [
    {
     "name": "stdout",
     "output_type": "stream",
     "text": [
      "GAUSS_SEIDEL\n",
      "O erro final ficou em 0.0002729575167846423\n",
      "O resultado final ficou em [0.4000244140625; 1.199951171875]\n",
      "\n",
      "GAUSS_JACOBIO erro final ficou em 0.0006905339660024879\n",
      "O resultado final ficou em [0.39990234375; 1.19970703125]\n",
      "\n"
     ]
    }
   ],
   "source": [
    "A = [2 1;-1 2] \n",
    "b = [2;2]\n",
    "print(\"GAUSS_SEIDEL\\n\")\n",
    "X_seidel,Y_seidel = gauss_seidel_com_erro(A,b)\n",
    "X_seidel = X_seidel*1.0\n",
    "Y_seidel = Y_seidel*1.0\n",
    "print(\"\\nGAUSS_JACOBI\")\n",
    "X_jacobi,Y_jacobi = gauss_jacobi_com_erro(A,b)\n",
    "X_jacobi = X_jacobi*1.0\n",
    "Y_jacobi = Y_jacobi*1.0\n",
    "print(\"\\n\")"
   ]
  },
  {
   "cell_type": "code",
   "execution_count": 101,
   "metadata": {},
   "outputs": [
    {
     "data": {
      "image/svg+xml": [
       "<?xml version=\"1.0\" encoding=\"utf-8\"?>\n",
       "<svg xmlns=\"http://www.w3.org/2000/svg\" xmlns:xlink=\"http://www.w3.org/1999/xlink\" width=\"600\" height=\"400\" viewBox=\"0 0 2400 1600\">\n",
       "<defs>\n",
       "  <clipPath id=\"clip970\">\n",
       "    <rect x=\"0\" y=\"0\" width=\"2400\" height=\"1600\"/>\n",
       "  </clipPath>\n",
       "</defs>\n",
       "<path clip-path=\"url(#clip970)\" d=\"\n",
       "M0 1600 L2400 1600 L2400 0 L0 0  Z\n",
       "  \" fill=\"#ffffff\" fill-rule=\"evenodd\" fill-opacity=\"1\"/>\n",
       "<defs>\n",
       "  <clipPath id=\"clip971\">\n",
       "    <rect x=\"480\" y=\"0\" width=\"1681\" height=\"1600\"/>\n",
       "  </clipPath>\n",
       "</defs>\n",
       "<path clip-path=\"url(#clip970)\" d=\"\n",
       "M184.191 1486.45 L2352.76 1486.45 L2352.76 123.472 L184.191 123.472  Z\n",
       "  \" fill=\"#ffffff\" fill-rule=\"evenodd\" fill-opacity=\"1\"/>\n",
       "<defs>\n",
       "  <clipPath id=\"clip972\">\n",
       "    <rect x=\"184\" y=\"123\" width=\"2170\" height=\"1364\"/>\n",
       "  </clipPath>\n",
       "</defs>\n",
       "<polyline clip-path=\"url(#clip972)\" style=\"stroke:#000000; stroke-width:2; stroke-opacity:0.1; fill:none\" points=\"\n",
       "  491.063,1486.45 491.063,123.472 \n",
       "  \"/>\n",
       "<polyline clip-path=\"url(#clip972)\" style=\"stroke:#000000; stroke-width:2; stroke-opacity:0.1; fill:none\" points=\"\n",
       "  982.059,1486.45 982.059,123.472 \n",
       "  \"/>\n",
       "<polyline clip-path=\"url(#clip972)\" style=\"stroke:#000000; stroke-width:2; stroke-opacity:0.1; fill:none\" points=\"\n",
       "  1473.05,1486.45 1473.05,123.472 \n",
       "  \"/>\n",
       "<polyline clip-path=\"url(#clip972)\" style=\"stroke:#000000; stroke-width:2; stroke-opacity:0.1; fill:none\" points=\"\n",
       "  1964.05,1486.45 1964.05,123.472 \n",
       "  \"/>\n",
       "<polyline clip-path=\"url(#clip970)\" style=\"stroke:#000000; stroke-width:4; stroke-opacity:1; fill:none\" points=\"\n",
       "  184.191,1486.45 2352.76,1486.45 \n",
       "  \"/>\n",
       "<polyline clip-path=\"url(#clip970)\" style=\"stroke:#000000; stroke-width:4; stroke-opacity:1; fill:none\" points=\"\n",
       "  491.063,1486.45 491.063,1470.09 \n",
       "  \"/>\n",
       "<polyline clip-path=\"url(#clip970)\" style=\"stroke:#000000; stroke-width:4; stroke-opacity:1; fill:none\" points=\"\n",
       "  982.059,1486.45 982.059,1470.09 \n",
       "  \"/>\n",
       "<polyline clip-path=\"url(#clip970)\" style=\"stroke:#000000; stroke-width:4; stroke-opacity:1; fill:none\" points=\"\n",
       "  1473.05,1486.45 1473.05,1470.09 \n",
       "  \"/>\n",
       "<polyline clip-path=\"url(#clip970)\" style=\"stroke:#000000; stroke-width:4; stroke-opacity:1; fill:none\" points=\"\n",
       "  1964.05,1486.45 1964.05,1470.09 \n",
       "  \"/>\n",
       "<path clip-path=\"url(#clip970)\" d=\"M 0 0 M453.459 1515.64 Q449.848 1515.64 448.019 1519.2 Q446.214 1522.75 446.214 1529.87 Q446.214 1536.98 448.019 1540.55 Q449.848 1544.09 453.459 1544.09 Q457.093 1544.09 458.899 1540.55 Q460.728 1536.98 460.728 1529.87 Q460.728 1522.75 458.899 1519.2 Q457.093 1515.64 453.459 1515.64 M453.459 1511.93 Q459.269 1511.93 462.325 1516.54 Q465.404 1521.12 465.404 1529.87 Q465.404 1538.6 462.325 1543.21 Q459.269 1547.79 453.459 1547.79 Q447.649 1547.79 444.57 1543.21 Q441.515 1538.6 441.515 1529.87 Q441.515 1521.12 444.57 1516.54 Q447.649 1511.93 453.459 1511.93 Z\" fill=\"#000000\" fill-rule=\"evenodd\" fill-opacity=\"1\" /><path clip-path=\"url(#clip970)\" d=\"M 0 0 M473.621 1541.24 L478.505 1541.24 L478.505 1547.12 L473.621 1547.12 L473.621 1541.24 Z\" fill=\"#000000\" fill-rule=\"evenodd\" fill-opacity=\"1\" /><path clip-path=\"url(#clip970)\" d=\"M 0 0 M502.857 1528.49 Q506.213 1529.2 508.088 1531.47 Q509.987 1533.74 509.987 1537.07 Q509.987 1542.19 506.468 1544.99 Q502.95 1547.79 496.468 1547.79 Q494.292 1547.79 491.977 1547.35 Q489.686 1546.93 487.232 1546.08 L487.232 1541.56 Q489.177 1542.7 491.491 1543.28 Q493.806 1543.86 496.329 1543.86 Q500.727 1543.86 503.019 1542.12 Q505.334 1540.38 505.334 1537.07 Q505.334 1534.02 503.181 1532.31 Q501.051 1530.57 497.232 1530.57 L493.204 1530.57 L493.204 1526.73 L497.417 1526.73 Q500.866 1526.73 502.695 1525.36 Q504.524 1523.97 504.524 1521.38 Q504.524 1518.72 502.626 1517.31 Q500.751 1515.87 497.232 1515.87 Q495.311 1515.87 493.112 1516.29 Q490.913 1516.7 488.274 1517.58 L488.274 1513.42 Q490.936 1512.68 493.251 1512.31 Q495.589 1511.93 497.649 1511.93 Q502.973 1511.93 506.075 1514.37 Q509.176 1516.77 509.176 1520.89 Q509.176 1523.76 507.533 1525.75 Q505.889 1527.72 502.857 1528.49 Z\" fill=\"#000000\" fill-rule=\"evenodd\" fill-opacity=\"1\" /><path clip-path=\"url(#clip970)\" d=\"M 0 0 M518.991 1546.4 L518.991 1542.14 Q520.75 1542.98 522.556 1543.42 Q524.362 1543.86 526.098 1543.86 Q530.727 1543.86 533.158 1540.75 Q535.611 1537.63 535.959 1531.29 Q534.616 1533.28 532.556 1534.34 Q530.496 1535.41 527.996 1535.41 Q522.811 1535.41 519.778 1532.28 Q516.769 1529.13 516.769 1523.69 Q516.769 1518.37 519.917 1515.15 Q523.065 1511.93 528.297 1511.93 Q534.292 1511.93 537.44 1516.54 Q540.611 1521.12 540.611 1529.87 Q540.611 1538.05 536.723 1542.93 Q532.857 1547.79 526.306 1547.79 Q524.547 1547.79 522.741 1547.44 Q520.936 1547.1 518.991 1546.4 M528.297 1531.75 Q531.445 1531.75 533.274 1529.6 Q535.125 1527.44 535.125 1523.69 Q535.125 1519.97 533.274 1517.81 Q531.445 1515.64 528.297 1515.64 Q525.149 1515.64 523.297 1517.81 Q521.468 1519.97 521.468 1523.69 Q521.468 1527.44 523.297 1529.6 Q525.149 1531.75 528.297 1531.75 Z\" fill=\"#000000\" fill-rule=\"evenodd\" fill-opacity=\"1\" /><path clip-path=\"url(#clip970)\" d=\"M 0 0 M945.161 1515.64 Q941.55 1515.64 939.721 1519.2 Q937.916 1522.75 937.916 1529.87 Q937.916 1536.98 939.721 1540.55 Q941.55 1544.09 945.161 1544.09 Q948.795 1544.09 950.601 1540.55 Q952.43 1536.98 952.43 1529.87 Q952.43 1522.75 950.601 1519.2 Q948.795 1515.64 945.161 1515.64 M945.161 1511.93 Q950.971 1511.93 954.027 1516.54 Q957.105 1521.12 957.105 1529.87 Q957.105 1538.6 954.027 1543.21 Q950.971 1547.79 945.161 1547.79 Q939.351 1547.79 936.272 1543.21 Q933.217 1538.6 933.217 1529.87 Q933.217 1521.12 936.272 1516.54 Q939.351 1511.93 945.161 1511.93 Z\" fill=\"#000000\" fill-rule=\"evenodd\" fill-opacity=\"1\" /><path clip-path=\"url(#clip970)\" d=\"M 0 0 M965.323 1541.24 L970.207 1541.24 L970.207 1547.12 L965.323 1547.12 L965.323 1541.24 Z\" fill=\"#000000\" fill-rule=\"evenodd\" fill-opacity=\"1\" /><path clip-path=\"url(#clip970)\" d=\"M 0 0 M993.24 1516.63 L981.434 1535.08 L993.24 1535.08 L993.24 1516.63 M992.013 1512.56 L997.892 1512.56 L997.892 1535.08 L1002.82 1535.08 L1002.82 1538.97 L997.892 1538.97 L997.892 1547.12 L993.24 1547.12 L993.24 1538.97 L977.638 1538.97 L977.638 1534.46 L992.013 1512.56 Z\" fill=\"#000000\" fill-rule=\"evenodd\" fill-opacity=\"1\" /><path clip-path=\"url(#clip970)\" d=\"M 0 0 M1014.58 1543.18 L1030.9 1543.18 L1030.9 1547.12 L1008.96 1547.12 L1008.96 1543.18 Q1011.62 1540.43 1016.2 1535.8 Q1020.81 1531.15 1021.99 1529.81 Q1024.23 1527.28 1025.11 1525.55 Q1026.02 1523.79 1026.02 1522.1 Q1026.02 1519.34 1024.07 1517.61 Q1022.15 1515.87 1019.05 1515.87 Q1016.85 1515.87 1014.4 1516.63 Q1011.97 1517.4 1009.19 1518.95 L1009.19 1514.23 Q1012.01 1513.09 1014.47 1512.51 Q1016.92 1511.93 1018.96 1511.93 Q1024.33 1511.93 1027.52 1514.62 Q1030.72 1517.31 1030.72 1521.8 Q1030.72 1523.93 1029.91 1525.85 Q1029.12 1527.74 1027.01 1530.34 Q1026.43 1531.01 1023.33 1534.23 Q1020.23 1537.42 1014.58 1543.18 Z\" fill=\"#000000\" fill-rule=\"evenodd\" fill-opacity=\"1\" /><path clip-path=\"url(#clip970)\" d=\"M 0 0 M1435.86 1515.64 Q1432.24 1515.64 1430.42 1519.2 Q1428.61 1522.75 1428.61 1529.87 Q1428.61 1536.98 1430.42 1540.55 Q1432.24 1544.09 1435.86 1544.09 Q1439.49 1544.09 1441.3 1540.55 Q1443.12 1536.98 1443.12 1529.87 Q1443.12 1522.75 1441.3 1519.2 Q1439.49 1515.64 1435.86 1515.64 M1435.86 1511.93 Q1441.67 1511.93 1444.72 1516.54 Q1447.8 1521.12 1447.8 1529.87 Q1447.8 1538.6 1444.72 1543.21 Q1441.67 1547.79 1435.86 1547.79 Q1430.05 1547.79 1426.97 1543.21 Q1423.91 1538.6 1423.91 1529.87 Q1423.91 1521.12 1426.97 1516.54 Q1430.05 1511.93 1435.86 1511.93 Z\" fill=\"#000000\" fill-rule=\"evenodd\" fill-opacity=\"1\" /><path clip-path=\"url(#clip970)\" d=\"M 0 0 M1456.02 1541.24 L1460.9 1541.24 L1460.9 1547.12 L1456.02 1547.12 L1456.02 1541.24 Z\" fill=\"#000000\" fill-rule=\"evenodd\" fill-opacity=\"1\" /><path clip-path=\"url(#clip970)\" d=\"M 0 0 M1483.93 1516.63 L1472.13 1535.08 L1483.93 1535.08 L1483.93 1516.63 M1482.71 1512.56 L1488.59 1512.56 L1488.59 1535.08 L1493.52 1535.08 L1493.52 1538.97 L1488.59 1538.97 L1488.59 1547.12 L1483.93 1547.12 L1483.93 1538.97 L1468.33 1538.97 L1468.33 1534.46 L1482.71 1512.56 Z\" fill=\"#000000\" fill-rule=\"evenodd\" fill-opacity=\"1\" /><path clip-path=\"url(#clip970)\" d=\"M 0 0 M1501.3 1512.56 L1519.65 1512.56 L1519.65 1516.5 L1505.58 1516.5 L1505.58 1524.97 Q1506.6 1524.62 1507.61 1524.46 Q1508.63 1524.27 1509.65 1524.27 Q1515.44 1524.27 1518.82 1527.44 Q1522.2 1530.62 1522.2 1536.03 Q1522.2 1541.61 1518.73 1544.71 Q1515.25 1547.79 1508.93 1547.79 Q1506.76 1547.79 1504.49 1547.42 Q1502.24 1547.05 1499.84 1546.31 L1499.84 1541.61 Q1501.92 1542.74 1504.14 1543.3 Q1506.36 1543.86 1508.84 1543.86 Q1512.85 1543.86 1515.18 1541.75 Q1517.52 1539.64 1517.52 1536.03 Q1517.52 1532.42 1515.18 1530.31 Q1512.85 1528.21 1508.84 1528.21 Q1506.97 1528.21 1505.09 1528.62 Q1503.24 1529.04 1501.3 1529.92 L1501.3 1512.56 Z\" fill=\"#000000\" fill-rule=\"evenodd\" fill-opacity=\"1\" /><path clip-path=\"url(#clip970)\" d=\"M 0 0 M1926.4 1515.64 Q1922.79 1515.64 1920.96 1519.2 Q1919.16 1522.75 1919.16 1529.87 Q1919.16 1536.98 1920.96 1540.55 Q1922.79 1544.09 1926.4 1544.09 Q1930.03 1544.09 1931.84 1540.55 Q1933.67 1536.98 1933.67 1529.87 Q1933.67 1522.75 1931.84 1519.2 Q1930.03 1515.64 1926.4 1515.64 M1926.4 1511.93 Q1932.21 1511.93 1935.27 1516.54 Q1938.34 1521.12 1938.34 1529.87 Q1938.34 1538.6 1935.27 1543.21 Q1932.21 1547.79 1926.4 1547.79 Q1920.59 1547.79 1917.51 1543.21 Q1914.46 1538.6 1914.46 1529.87 Q1914.46 1521.12 1917.51 1516.54 Q1920.59 1511.93 1926.4 1511.93 Z\" fill=\"#000000\" fill-rule=\"evenodd\" fill-opacity=\"1\" /><path clip-path=\"url(#clip970)\" d=\"M 0 0 M1946.56 1541.24 L1951.45 1541.24 L1951.45 1547.12 L1946.56 1547.12 L1946.56 1541.24 Z\" fill=\"#000000\" fill-rule=\"evenodd\" fill-opacity=\"1\" /><path clip-path=\"url(#clip970)\" d=\"M 0 0 M1974.48 1516.63 L1962.67 1535.08 L1974.48 1535.08 L1974.48 1516.63 M1973.25 1512.56 L1979.13 1512.56 L1979.13 1535.08 L1984.06 1535.08 L1984.06 1538.97 L1979.13 1538.97 L1979.13 1547.12 L1974.48 1547.12 L1974.48 1538.97 L1958.88 1538.97 L1958.88 1534.46 L1973.25 1512.56 Z\" fill=\"#000000\" fill-rule=\"evenodd\" fill-opacity=\"1\" /><path clip-path=\"url(#clip970)\" d=\"M 0 0 M2001.79 1530.71 Q1998.46 1530.71 1996.54 1532.49 Q1994.64 1534.27 1994.64 1537.4 Q1994.64 1540.52 1996.54 1542.31 Q1998.46 1544.09 2001.79 1544.09 Q2005.13 1544.09 2007.05 1542.31 Q2008.97 1540.5 2008.97 1537.4 Q2008.97 1534.27 2007.05 1532.49 Q2005.15 1530.71 2001.79 1530.71 M1997.12 1528.72 Q1994.11 1527.98 1992.42 1525.92 Q1990.75 1523.86 1990.75 1520.89 Q1990.75 1516.75 1993.69 1514.34 Q1996.65 1511.93 2001.79 1511.93 Q2006.96 1511.93 2009.9 1514.34 Q2012.84 1516.75 2012.84 1520.89 Q2012.84 1523.86 2011.15 1525.92 Q2009.48 1527.98 2006.49 1528.72 Q2009.87 1529.5 2011.75 1531.8 Q2013.65 1534.09 2013.65 1537.4 Q2013.65 1542.42 2010.57 1545.11 Q2007.51 1547.79 2001.79 1547.79 Q1996.08 1547.79 1993 1545.11 Q1989.94 1542.42 1989.94 1537.4 Q1989.94 1534.09 1991.84 1531.8 Q1993.74 1529.5 1997.12 1528.72 M1995.4 1521.33 Q1995.4 1524.02 1997.07 1525.52 Q1998.76 1527.03 2001.79 1527.03 Q2004.8 1527.03 2006.49 1525.52 Q2008.21 1524.02 2008.21 1521.33 Q2008.21 1518.65 2006.49 1517.14 Q2004.8 1515.64 2001.79 1515.64 Q1998.76 1515.64 1997.07 1517.14 Q1995.4 1518.65 1995.4 1521.33 Z\" fill=\"#000000\" fill-rule=\"evenodd\" fill-opacity=\"1\" /><polyline clip-path=\"url(#clip972)\" style=\"stroke:#000000; stroke-width:2; stroke-opacity:0.1; fill:none\" points=\"\n",
       "  184.191,1447.87 2352.76,1447.87 \n",
       "  \"/>\n",
       "<polyline clip-path=\"url(#clip972)\" style=\"stroke:#000000; stroke-width:2; stroke-opacity:0.1; fill:none\" points=\"\n",
       "  184.191,1190.71 2352.76,1190.71 \n",
       "  \"/>\n",
       "<polyline clip-path=\"url(#clip972)\" style=\"stroke:#000000; stroke-width:2; stroke-opacity:0.1; fill:none\" points=\"\n",
       "  184.191,933.543 2352.76,933.543 \n",
       "  \"/>\n",
       "<polyline clip-path=\"url(#clip972)\" style=\"stroke:#000000; stroke-width:2; stroke-opacity:0.1; fill:none\" points=\"\n",
       "  184.191,676.377 2352.76,676.377 \n",
       "  \"/>\n",
       "<polyline clip-path=\"url(#clip972)\" style=\"stroke:#000000; stroke-width:2; stroke-opacity:0.1; fill:none\" points=\"\n",
       "  184.191,419.212 2352.76,419.212 \n",
       "  \"/>\n",
       "<polyline clip-path=\"url(#clip972)\" style=\"stroke:#000000; stroke-width:2; stroke-opacity:0.1; fill:none\" points=\"\n",
       "  184.191,162.047 2352.76,162.047 \n",
       "  \"/>\n",
       "<polyline clip-path=\"url(#clip970)\" style=\"stroke:#000000; stroke-width:4; stroke-opacity:1; fill:none\" points=\"\n",
       "  184.191,1486.45 184.191,123.472 \n",
       "  \"/>\n",
       "<polyline clip-path=\"url(#clip970)\" style=\"stroke:#000000; stroke-width:4; stroke-opacity:1; fill:none\" points=\"\n",
       "  184.191,1447.87 210.213,1447.87 \n",
       "  \"/>\n",
       "<polyline clip-path=\"url(#clip970)\" style=\"stroke:#000000; stroke-width:4; stroke-opacity:1; fill:none\" points=\"\n",
       "  184.191,1190.71 210.213,1190.71 \n",
       "  \"/>\n",
       "<polyline clip-path=\"url(#clip970)\" style=\"stroke:#000000; stroke-width:4; stroke-opacity:1; fill:none\" points=\"\n",
       "  184.191,933.543 210.213,933.543 \n",
       "  \"/>\n",
       "<polyline clip-path=\"url(#clip970)\" style=\"stroke:#000000; stroke-width:4; stroke-opacity:1; fill:none\" points=\"\n",
       "  184.191,676.377 210.213,676.377 \n",
       "  \"/>\n",
       "<polyline clip-path=\"url(#clip970)\" style=\"stroke:#000000; stroke-width:4; stroke-opacity:1; fill:none\" points=\"\n",
       "  184.191,419.212 210.213,419.212 \n",
       "  \"/>\n",
       "<polyline clip-path=\"url(#clip970)\" style=\"stroke:#000000; stroke-width:4; stroke-opacity:1; fill:none\" points=\"\n",
       "  184.191,162.047 210.213,162.047 \n",
       "  \"/>\n",
       "<path clip-path=\"url(#clip970)\" d=\"M 0 0 M51.6634 1461.22 L59.3023 1461.22 L59.3023 1434.85 L50.9921 1436.52 L50.9921 1432.26 L59.256 1430.59 L63.9319 1430.59 L63.9319 1461.22 L71.5707 1461.22 L71.5707 1465.15 L51.6634 1465.15 L51.6634 1461.22 Z\" fill=\"#000000\" fill-rule=\"evenodd\" fill-opacity=\"1\" /><path clip-path=\"url(#clip970)\" d=\"M 0 0 M81.0151 1459.27 L85.8993 1459.27 L85.8993 1465.15 L81.0151 1465.15 L81.0151 1459.27 Z\" fill=\"#000000\" fill-rule=\"evenodd\" fill-opacity=\"1\" /><path clip-path=\"url(#clip970)\" d=\"M 0 0 M106.084 1433.67 Q102.473 1433.67 100.645 1437.24 Q98.8391 1440.78 98.8391 1447.91 Q98.8391 1455.01 100.645 1458.58 Q102.473 1462.12 106.084 1462.12 Q109.719 1462.12 111.524 1458.58 Q113.353 1455.01 113.353 1447.91 Q113.353 1440.78 111.524 1437.24 Q109.719 1433.67 106.084 1433.67 M106.084 1429.97 Q111.895 1429.97 114.95 1434.57 Q118.029 1439.16 118.029 1447.91 Q118.029 1456.63 114.95 1461.24 Q111.895 1465.82 106.084 1465.82 Q100.274 1465.82 97.1956 1461.24 Q94.14 1456.63 94.14 1447.91 Q94.14 1439.16 97.1956 1434.57 Q100.274 1429.97 106.084 1429.97 Z\" fill=\"#000000\" fill-rule=\"evenodd\" fill-opacity=\"1\" /><path clip-path=\"url(#clip970)\" d=\"M 0 0 M136.246 1433.67 Q132.635 1433.67 130.807 1437.24 Q129.001 1440.78 129.001 1447.91 Q129.001 1455.01 130.807 1458.58 Q132.635 1462.12 136.246 1462.12 Q139.881 1462.12 141.686 1458.58 Q143.515 1455.01 143.515 1447.91 Q143.515 1440.78 141.686 1437.24 Q139.881 1433.67 136.246 1433.67 M136.246 1429.97 Q142.056 1429.97 145.112 1434.57 Q148.191 1439.16 148.191 1447.91 Q148.191 1456.63 145.112 1461.24 Q142.056 1465.82 136.246 1465.82 Q130.436 1465.82 127.357 1461.24 Q124.302 1456.63 124.302 1447.91 Q124.302 1439.16 127.357 1434.57 Q130.436 1429.97 136.246 1429.97 Z\" fill=\"#000000\" fill-rule=\"evenodd\" fill-opacity=\"1\" /><path clip-path=\"url(#clip970)\" d=\"M 0 0 M52.6588 1204.05 L60.2976 1204.05 L60.2976 1177.69 L51.9875 1179.35 L51.9875 1175.09 L60.2513 1173.43 L64.9272 1173.43 L64.9272 1204.05 L72.5661 1204.05 L72.5661 1207.99 L52.6588 1207.99 L52.6588 1204.05 Z\" fill=\"#000000\" fill-rule=\"evenodd\" fill-opacity=\"1\" /><path clip-path=\"url(#clip970)\" d=\"M 0 0 M82.0105 1202.11 L86.8947 1202.11 L86.8947 1207.99 L82.0105 1207.99 L82.0105 1202.11 Z\" fill=\"#000000\" fill-rule=\"evenodd\" fill-opacity=\"1\" /><path clip-path=\"url(#clip970)\" d=\"M 0 0 M107.08 1176.51 Q103.469 1176.51 101.64 1180.07 Q99.8345 1183.61 99.8345 1190.74 Q99.8345 1197.85 101.64 1201.41 Q103.469 1204.96 107.08 1204.96 Q110.714 1204.96 112.52 1201.41 Q114.348 1197.85 114.348 1190.74 Q114.348 1183.61 112.52 1180.07 Q110.714 1176.51 107.08 1176.51 M107.08 1172.8 Q112.89 1172.8 115.945 1177.41 Q119.024 1181.99 119.024 1190.74 Q119.024 1199.47 115.945 1204.08 Q112.89 1208.66 107.08 1208.66 Q101.27 1208.66 98.1909 1204.08 Q95.1354 1199.47 95.1354 1190.74 Q95.1354 1181.99 98.1909 1177.41 Q101.27 1172.8 107.08 1172.8 Z\" fill=\"#000000\" fill-rule=\"evenodd\" fill-opacity=\"1\" /><path clip-path=\"url(#clip970)\" d=\"M 0 0 M127.288 1173.43 L145.644 1173.43 L145.644 1177.36 L131.57 1177.36 L131.57 1185.84 Q132.589 1185.49 133.607 1185.33 Q134.626 1185.14 135.644 1185.14 Q141.431 1185.14 144.811 1188.31 Q148.191 1191.48 148.191 1196.9 Q148.191 1202.48 144.718 1205.58 Q141.246 1208.66 134.927 1208.66 Q132.751 1208.66 130.482 1208.29 Q128.237 1207.92 125.83 1207.18 L125.83 1202.48 Q127.913 1203.61 130.135 1204.17 Q132.357 1204.72 134.834 1204.72 Q138.839 1204.72 141.177 1202.62 Q143.515 1200.51 143.515 1196.9 Q143.515 1193.29 141.177 1191.18 Q138.839 1189.08 134.834 1189.08 Q132.959 1189.08 131.084 1189.49 Q129.232 1189.91 127.288 1190.79 L127.288 1173.43 Z\" fill=\"#000000\" fill-rule=\"evenodd\" fill-opacity=\"1\" /><path clip-path=\"url(#clip970)\" d=\"M 0 0 M51.6634 946.887 L59.3023 946.887 L59.3023 920.522 L50.9921 922.189 L50.9921 917.929 L59.256 916.263 L63.9319 916.263 L63.9319 946.887 L71.5707 946.887 L71.5707 950.823 L51.6634 950.823 L51.6634 946.887 Z\" fill=\"#000000\" fill-rule=\"evenodd\" fill-opacity=\"1\" /><path clip-path=\"url(#clip970)\" d=\"M 0 0 M81.0151 944.943 L85.8993 944.943 L85.8993 950.823 L81.0151 950.823 L81.0151 944.943 Z\" fill=\"#000000\" fill-rule=\"evenodd\" fill-opacity=\"1\" /><path clip-path=\"url(#clip970)\" d=\"M 0 0 M96.8947 946.887 L104.534 946.887 L104.534 920.522 L96.2234 922.189 L96.2234 917.929 L104.487 916.263 L109.163 916.263 L109.163 946.887 L116.802 946.887 L116.802 950.823 L96.8947 950.823 L96.8947 946.887 Z\" fill=\"#000000\" fill-rule=\"evenodd\" fill-opacity=\"1\" /><path clip-path=\"url(#clip970)\" d=\"M 0 0 M136.246 919.341 Q132.635 919.341 130.807 922.906 Q129.001 926.448 129.001 933.577 Q129.001 940.684 130.807 944.249 Q132.635 947.79 136.246 947.79 Q139.881 947.79 141.686 944.249 Q143.515 940.684 143.515 933.577 Q143.515 926.448 141.686 922.906 Q139.881 919.341 136.246 919.341 M136.246 915.638 Q142.056 915.638 145.112 920.244 Q148.191 924.827 148.191 933.577 Q148.191 942.304 145.112 946.911 Q142.056 951.494 136.246 951.494 Q130.436 951.494 127.357 946.911 Q124.302 942.304 124.302 933.577 Q124.302 924.827 127.357 920.244 Q130.436 915.638 136.246 915.638 Z\" fill=\"#000000\" fill-rule=\"evenodd\" fill-opacity=\"1\" /><path clip-path=\"url(#clip970)\" d=\"M 0 0 M52.6588 689.722 L60.2976 689.722 L60.2976 663.357 L51.9875 665.023 L51.9875 660.764 L60.2513 659.097 L64.9272 659.097 L64.9272 689.722 L72.5661 689.722 L72.5661 693.657 L52.6588 693.657 L52.6588 689.722 Z\" fill=\"#000000\" fill-rule=\"evenodd\" fill-opacity=\"1\" /><path clip-path=\"url(#clip970)\" d=\"M 0 0 M82.0105 687.778 L86.8947 687.778 L86.8947 693.657 L82.0105 693.657 L82.0105 687.778 Z\" fill=\"#000000\" fill-rule=\"evenodd\" fill-opacity=\"1\" /><path clip-path=\"url(#clip970)\" d=\"M 0 0 M97.89 689.722 L105.529 689.722 L105.529 663.357 L97.2187 665.023 L97.2187 660.764 L105.483 659.097 L110.158 659.097 L110.158 689.722 L117.797 689.722 L117.797 693.657 L97.89 693.657 L97.89 689.722 Z\" fill=\"#000000\" fill-rule=\"evenodd\" fill-opacity=\"1\" /><path clip-path=\"url(#clip970)\" d=\"M 0 0 M127.288 659.097 L145.644 659.097 L145.644 663.033 L131.57 663.033 L131.57 671.505 Q132.589 671.158 133.607 670.995 Q134.626 670.81 135.644 670.81 Q141.431 670.81 144.811 673.982 Q148.191 677.153 148.191 682.569 Q148.191 688.148 144.718 691.25 Q141.246 694.329 134.927 694.329 Q132.751 694.329 130.482 693.958 Q128.237 693.588 125.83 692.847 L125.83 688.148 Q127.913 689.282 130.135 689.838 Q132.357 690.394 134.834 690.394 Q138.839 690.394 141.177 688.287 Q143.515 686.181 143.515 682.569 Q143.515 678.958 141.177 676.852 Q138.839 674.745 134.834 674.745 Q132.959 674.745 131.084 675.162 Q129.232 675.579 127.288 676.458 L127.288 659.097 Z\" fill=\"#000000\" fill-rule=\"evenodd\" fill-opacity=\"1\" /><path clip-path=\"url(#clip970)\" d=\"M 0 0 M51.6634 432.557 L59.3023 432.557 L59.3023 406.191 L50.9921 407.858 L50.9921 403.599 L59.256 401.932 L63.9319 401.932 L63.9319 432.557 L71.5707 432.557 L71.5707 436.492 L51.6634 436.492 L51.6634 432.557 Z\" fill=\"#000000\" fill-rule=\"evenodd\" fill-opacity=\"1\" /><path clip-path=\"url(#clip970)\" d=\"M 0 0 M81.0151 430.613 L85.8993 430.613 L85.8993 436.492 L81.0151 436.492 L81.0151 430.613 Z\" fill=\"#000000\" fill-rule=\"evenodd\" fill-opacity=\"1\" /><path clip-path=\"url(#clip970)\" d=\"M 0 0 M100.112 432.557 L116.432 432.557 L116.432 436.492 L94.4873 436.492 L94.4873 432.557 Q97.1493 429.802 101.733 425.173 Q106.339 420.52 107.52 419.177 Q109.765 416.654 110.645 414.918 Q111.547 413.159 111.547 411.469 Q111.547 408.715 109.603 406.978 Q107.682 405.242 104.58 405.242 Q102.381 405.242 99.927 406.006 Q97.4965 406.77 94.7187 408.321 L94.7187 403.599 Q97.5428 402.465 99.9965 401.886 Q102.45 401.307 104.487 401.307 Q109.858 401.307 113.052 403.992 Q116.246 406.677 116.246 411.168 Q116.246 413.298 115.436 415.219 Q114.649 417.117 112.543 419.71 Q111.964 420.381 108.862 423.599 Q105.76 426.793 100.112 432.557 Z\" fill=\"#000000\" fill-rule=\"evenodd\" fill-opacity=\"1\" /><path clip-path=\"url(#clip970)\" d=\"M 0 0 M136.246 405.011 Q132.635 405.011 130.807 408.576 Q129.001 412.117 129.001 419.247 Q129.001 426.353 130.807 429.918 Q132.635 433.46 136.246 433.46 Q139.881 433.46 141.686 429.918 Q143.515 426.353 143.515 419.247 Q143.515 412.117 141.686 408.576 Q139.881 405.011 136.246 405.011 M136.246 401.307 Q142.056 401.307 145.112 405.914 Q148.191 410.497 148.191 419.247 Q148.191 427.974 145.112 432.58 Q142.056 437.163 136.246 437.163 Q130.436 437.163 127.357 432.58 Q124.302 427.974 124.302 419.247 Q124.302 410.497 127.357 405.914 Q130.436 401.307 136.246 401.307 Z\" fill=\"#000000\" fill-rule=\"evenodd\" fill-opacity=\"1\" /><path clip-path=\"url(#clip970)\" d=\"M 0 0 M52.6588 175.392 L60.2976 175.392 L60.2976 149.026 L51.9875 150.693 L51.9875 146.434 L60.2513 144.767 L64.9272 144.767 L64.9272 175.392 L72.5661 175.392 L72.5661 179.327 L52.6588 179.327 L52.6588 175.392 Z\" fill=\"#000000\" fill-rule=\"evenodd\" fill-opacity=\"1\" /><path clip-path=\"url(#clip970)\" d=\"M 0 0 M82.0105 173.447 L86.8947 173.447 L86.8947 179.327 L82.0105 179.327 L82.0105 173.447 Z\" fill=\"#000000\" fill-rule=\"evenodd\" fill-opacity=\"1\" /><path clip-path=\"url(#clip970)\" d=\"M 0 0 M101.108 175.392 L117.427 175.392 L117.427 179.327 L95.4826 179.327 L95.4826 175.392 Q98.1447 172.637 102.728 168.008 Q107.334 163.355 108.515 162.012 Q110.76 159.489 111.64 157.753 Q112.543 155.994 112.543 154.304 Q112.543 151.549 110.598 149.813 Q108.677 148.077 105.575 148.077 Q103.376 148.077 100.922 148.841 Q98.4919 149.605 95.7141 151.156 L95.7141 146.434 Q98.5382 145.299 100.992 144.721 Q103.446 144.142 105.483 144.142 Q110.853 144.142 114.047 146.827 Q117.242 149.512 117.242 154.003 Q117.242 156.133 116.432 158.054 Q115.645 159.952 113.538 162.545 Q112.959 163.216 109.858 166.433 Q106.756 169.628 101.108 175.392 Z\" fill=\"#000000\" fill-rule=\"evenodd\" fill-opacity=\"1\" /><path clip-path=\"url(#clip970)\" d=\"M 0 0 M127.288 144.767 L145.644 144.767 L145.644 148.702 L131.57 148.702 L131.57 157.174 Q132.589 156.827 133.607 156.665 Q134.626 156.48 135.644 156.48 Q141.431 156.48 144.811 159.651 Q148.191 162.822 148.191 168.239 Q148.191 173.818 144.718 176.92 Q141.246 179.998 134.927 179.998 Q132.751 179.998 130.482 179.628 Q128.237 179.257 125.83 178.517 L125.83 173.818 Q127.913 174.952 130.135 175.507 Q132.357 176.063 134.834 176.063 Q138.839 176.063 141.177 173.957 Q143.515 171.85 143.515 168.239 Q143.515 164.628 141.177 162.521 Q138.839 160.415 134.834 160.415 Q132.959 160.415 131.084 160.832 Q129.232 161.248 127.288 162.128 L127.288 144.767 Z\" fill=\"#000000\" fill-rule=\"evenodd\" fill-opacity=\"1\" /><path clip-path=\"url(#clip970)\" d=\"M 0 0 M887.567 63.9476 L887.567 47.7034 L874.199 47.7034 L874.199 40.9789 L895.669 40.9789 L895.669 66.9452 Q890.929 70.3075 885.217 72.0494 Q879.505 73.7508 873.024 73.7508 Q858.846 73.7508 850.825 65.4869 Q842.845 57.1826 842.845 42.3968 Q842.845 27.5705 850.825 19.3066 Q858.846 11.0023 873.024 11.0023 Q878.938 11.0023 884.245 12.4606 Q889.592 13.9189 894.089 16.7545 L894.089 25.464 Q889.552 21.6156 884.448 19.6712 Q879.343 17.7268 873.713 17.7268 Q862.613 17.7268 857.023 23.9246 Q851.473 30.1225 851.473 42.3968 Q851.473 54.6305 857.023 60.8284 Q862.613 67.0263 873.713 67.0263 Q878.047 67.0263 881.45 66.2971 Q884.853 65.5274 887.567 63.9476 Z\" fill=\"#000000\" fill-rule=\"evenodd\" fill-opacity=\"1\" /><path clip-path=\"url(#clip970)\" d=\"M 0 0 M930.911 49.7694 Q921.878 49.7694 918.394 51.8354 Q914.91 53.9013 914.91 58.8839 Q914.91 62.8538 917.503 65.2034 Q920.136 67.5124 924.633 67.5124 Q930.83 67.5124 934.557 63.1374 Q938.325 58.7219 938.325 51.4303 L938.325 49.7694 L930.911 49.7694 M945.778 46.6907 L945.778 72.576 L938.325 72.576 L938.325 65.6895 Q935.773 69.8214 931.965 71.8063 Q928.157 73.7508 922.648 73.7508 Q915.68 73.7508 911.548 69.8619 Q907.457 65.9325 907.457 59.3701 Q907.457 51.7138 912.561 47.825 Q917.705 43.9361 927.873 43.9361 L938.325 43.9361 L938.325 43.2069 Q938.325 38.0623 934.922 35.2672 Q931.56 32.4315 925.443 32.4315 Q921.554 32.4315 917.868 33.3632 Q914.181 34.295 910.778 36.1584 L910.778 29.2718 Q914.87 27.692 918.718 26.9223 Q922.567 26.1121 926.212 26.1121 Q936.056 26.1121 940.917 31.2163 Q945.778 36.3204 945.778 46.6907 Z\" fill=\"#000000\" fill-rule=\"evenodd\" fill-opacity=\"1\" /><path clip-path=\"url(#clip970)\" d=\"M 0 0 M960.362 54.671 L960.362 27.2059 L967.815 27.2059 L967.815 54.3874 Q967.815 60.8284 970.327 64.0691 Q972.838 67.2693 977.861 67.2693 Q983.897 67.2693 987.381 63.421 Q990.905 59.5726 990.905 52.9291 L990.905 27.2059 L998.359 27.2059 L998.359 72.576 L990.905 72.576 L990.905 65.6084 Q988.191 69.7404 984.586 71.7658 Q981.021 73.7508 976.282 73.7508 Q968.463 73.7508 964.412 68.8897 Q960.362 64.0286 960.362 54.671 M979.117 26.1121 L979.117 26.1121 Z\" fill=\"#000000\" fill-rule=\"evenodd\" fill-opacity=\"1\" /><path clip-path=\"url(#clip970)\" d=\"M 0 0 M1042.64 28.5427 L1042.64 35.5912 Q1039.48 33.9709 1036.07 33.1607 Q1032.67 32.3505 1029.02 32.3505 Q1023.47 32.3505 1020.68 34.0519 Q1017.92 35.7533 1017.92 39.156 Q1017.92 41.7486 1019.91 43.2475 Q1021.89 44.7058 1027.89 46.0426 L1030.44 46.6097 Q1038.38 48.3111 1041.7 51.4303 Q1045.07 54.509 1045.07 60.0587 Q1045.07 66.3781 1040.04 70.0644 Q1035.06 73.7508 1026.31 73.7508 Q1022.66 73.7508 1018.69 73.0216 Q1014.77 72.3329 1010.39 70.9151 L1010.39 63.2184 Q1014.52 65.3654 1018.53 66.4591 Q1022.54 67.5124 1026.47 67.5124 Q1031.74 67.5124 1034.57 65.73 Q1037.41 63.9071 1037.41 60.6258 Q1037.41 57.5877 1035.34 55.9673 Q1033.32 54.3469 1026.39 52.8481 L1023.8 52.2405 Q1016.87 50.7821 1013.79 47.7845 Q1010.71 44.7463 1010.71 39.4801 Q1010.71 33.0797 1015.25 29.5959 Q1019.79 26.1121 1028.13 26.1121 Q1032.27 26.1121 1035.91 26.7198 Q1039.56 27.3274 1042.64 28.5427 Z\" fill=\"#000000\" fill-rule=\"evenodd\" fill-opacity=\"1\" /><path clip-path=\"url(#clip970)\" d=\"M 0 0 M1085.86 28.5427 L1085.86 35.5912 Q1082.7 33.9709 1079.3 33.1607 Q1075.89 32.3505 1072.25 32.3505 Q1066.7 32.3505 1063.9 34.0519 Q1061.15 35.7533 1061.15 39.156 Q1061.15 41.7486 1063.13 43.2475 Q1065.12 44.7058 1071.11 46.0426 L1073.67 46.6097 Q1081.61 48.3111 1084.93 51.4303 Q1088.29 54.509 1088.29 60.0587 Q1088.29 66.3781 1083.27 70.0644 Q1078.28 73.7508 1069.53 73.7508 Q1065.89 73.7508 1061.92 73.0216 Q1057.99 72.3329 1053.61 70.9151 L1053.61 63.2184 Q1057.75 65.3654 1061.76 66.4591 Q1065.77 67.5124 1069.7 67.5124 Q1074.96 67.5124 1077.8 65.73 Q1080.63 63.9071 1080.63 60.6258 Q1080.63 57.5877 1078.57 55.9673 Q1076.54 54.3469 1069.61 52.8481 L1067.02 52.2405 Q1060.09 50.7821 1057.02 47.7845 Q1053.94 44.7463 1053.94 39.4801 Q1053.94 33.0797 1058.47 29.5959 Q1063.01 26.1121 1071.36 26.1121 Q1075.49 26.1121 1079.13 26.7198 Q1082.78 27.3274 1085.86 28.5427 Z\" fill=\"#000000\" fill-rule=\"evenodd\" fill-opacity=\"1\" /><path clip-path=\"url(#clip970)\" d=\"M 0 0 M1163.11 14.0809 L1163.11 22.0612 Q1158.45 19.8332 1154.32 18.7395 Q1150.19 17.6457 1146.34 17.6457 Q1139.65 17.6457 1136.01 20.2383 Q1132.4 22.8309 1132.4 27.611 Q1132.4 31.6214 1134.79 33.6873 Q1137.22 35.7128 1143.95 36.9686 L1148.89 37.9813 Q1158.05 39.7232 1162.38 44.1387 Q1166.76 48.5136 1166.76 55.8863 Q1166.76 64.6767 1160.84 69.2137 Q1154.97 73.7508 1143.58 73.7508 Q1139.29 73.7508 1134.43 72.7785 Q1129.61 71.8063 1124.42 69.9024 L1124.42 61.4765 Q1129.41 64.2716 1134.19 65.6895 Q1138.97 67.1073 1143.58 67.1073 Q1150.59 67.1073 1154.4 64.3527 Q1158.21 61.598 1158.21 56.4939 Q1158.21 52.0379 1155.45 49.5264 Q1152.74 47.0148 1146.5 45.759 L1141.52 44.7868 Q1132.36 42.9639 1128.27 39.075 Q1124.18 35.1862 1124.18 28.2591 Q1124.18 20.2383 1129.81 15.6203 Q1135.48 11.0023 1145.41 11.0023 Q1149.66 11.0023 1154.08 11.7719 Q1158.49 12.5416 1163.11 14.0809 Z\" fill=\"#000000\" fill-rule=\"evenodd\" fill-opacity=\"1\" /><path clip-path=\"url(#clip970)\" d=\"M 0 0 M1218 48.0275 L1218 51.6733 L1183.73 51.6733 Q1184.21 59.3701 1188.35 63.421 Q1192.52 67.4314 1199.93 67.4314 Q1204.23 67.4314 1208.24 66.3781 Q1212.29 65.3249 1216.26 63.2184 L1216.26 70.267 Q1212.25 71.9684 1208.03 72.8596 Q1203.82 73.7508 1199.49 73.7508 Q1188.63 73.7508 1182.27 67.4314 Q1175.95 61.1119 1175.95 50.3365 Q1175.95 39.1965 1181.95 32.6746 Q1187.98 26.1121 1198.19 26.1121 Q1207.35 26.1121 1212.65 32.0264 Q1218 37.9003 1218 48.0275 M1210.55 45.84 Q1210.46 39.7232 1207.1 36.0774 Q1203.78 32.4315 1198.27 32.4315 Q1192.03 32.4315 1188.27 35.9558 Q1184.54 39.4801 1183.97 45.8805 L1210.55 45.84 Z\" fill=\"#000000\" fill-rule=\"evenodd\" fill-opacity=\"1\" /><path clip-path=\"url(#clip970)\" d=\"M 0 0 M1230.23 27.2059 L1237.69 27.2059 L1237.69 72.576 L1230.23 72.576 L1230.23 27.2059 M1230.23 9.54393 L1237.69 9.54393 L1237.69 18.9825 L1230.23 18.9825 L1230.23 9.54393 Z\" fill=\"#000000\" fill-rule=\"evenodd\" fill-opacity=\"1\" /><path clip-path=\"url(#clip970)\" d=\"M 0 0 M1283.14 34.0924 L1283.14 9.54393 L1290.59 9.54393 L1290.59 72.576 L1283.14 72.576 L1283.14 65.7705 Q1280.79 69.8214 1277.18 71.8063 Q1273.62 73.7508 1268.59 73.7508 Q1260.37 73.7508 1255.19 67.1883 Q1250.04 60.6258 1250.04 49.9314 Q1250.04 39.2371 1255.19 32.6746 Q1260.37 26.1121 1268.59 26.1121 Q1273.62 26.1121 1277.18 28.0971 Q1280.79 30.0415 1283.14 34.0924 M1257.74 49.9314 Q1257.74 58.1548 1261.1 62.8538 Q1264.5 67.5124 1270.42 67.5124 Q1276.33 67.5124 1279.73 62.8538 Q1283.14 58.1548 1283.14 49.9314 Q1283.14 41.7081 1279.73 37.0496 Q1276.33 32.3505 1270.42 32.3505 Q1264.5 32.3505 1261.1 37.0496 Q1257.74 41.7081 1257.74 49.9314 Z\" fill=\"#000000\" fill-rule=\"evenodd\" fill-opacity=\"1\" /><path clip-path=\"url(#clip970)\" d=\"M 0 0 M1344.75 48.0275 L1344.75 51.6733 L1310.48 51.6733 Q1310.97 59.3701 1315.1 63.421 Q1319.27 67.4314 1326.68 67.4314 Q1330.98 67.4314 1334.99 66.3781 Q1339.04 65.3249 1343.01 63.2184 L1343.01 70.267 Q1339 71.9684 1334.79 72.8596 Q1330.57 73.7508 1326.24 73.7508 Q1315.38 73.7508 1309.02 67.4314 Q1302.7 61.1119 1302.7 50.3365 Q1302.7 39.1965 1308.7 32.6746 Q1314.73 26.1121 1324.94 26.1121 Q1334.1 26.1121 1339.4 32.0264 Q1344.75 37.9003 1344.75 48.0275 M1337.3 45.84 Q1337.22 39.7232 1333.85 36.0774 Q1330.53 32.4315 1325.02 32.4315 Q1318.79 32.4315 1315.02 35.9558 Q1311.29 39.4801 1310.72 45.8805 L1337.3 45.84 Z\" fill=\"#000000\" fill-rule=\"evenodd\" fill-opacity=\"1\" /><path clip-path=\"url(#clip970)\" d=\"M 0 0 M1356.99 9.54393 L1364.44 9.54393 L1364.44 72.576 L1356.99 72.576 L1356.99 9.54393 Z\" fill=\"#000000\" fill-rule=\"evenodd\" fill-opacity=\"1\" /><path clip-path=\"url(#clip970)\" d=\"M 0 0 M1435.41 44.2197 Q1438.04 45.1109 1440.52 48.0275 Q1443.03 50.9442 1445.54 56.0483 L1453.84 72.576 L1445.05 72.576 L1437.31 57.061 Q1434.32 50.9847 1431.48 48.9997 Q1428.69 47.0148 1423.83 47.0148 L1414.91 47.0148 L1414.91 72.576 L1406.73 72.576 L1406.73 12.096 L1425.2 12.096 Q1435.57 12.096 1440.68 16.4305 Q1445.78 20.7649 1445.78 29.5149 Q1445.78 35.2267 1443.11 38.994 Q1440.47 42.7613 1435.41 44.2197 M1414.91 18.8205 L1414.91 40.2903 L1425.2 40.2903 Q1431.12 40.2903 1434.11 37.5762 Q1437.15 34.8216 1437.15 29.5149 Q1437.15 24.2082 1434.11 21.5346 Q1431.12 18.8205 1425.2 18.8205 L1414.91 18.8205 Z\" fill=\"#000000\" fill-rule=\"evenodd\" fill-opacity=\"1\" /><path clip-path=\"url(#clip970)\" d=\"M 0 0 M1499.13 48.0275 L1499.13 51.6733 L1464.86 51.6733 Q1465.35 59.3701 1469.48 63.421 Q1473.65 67.4314 1481.06 67.4314 Q1485.36 67.4314 1489.37 66.3781 Q1493.42 65.3249 1497.39 63.2184 L1497.39 70.267 Q1493.38 71.9684 1489.17 72.8596 Q1484.95 73.7508 1480.62 73.7508 Q1469.76 73.7508 1463.4 67.4314 Q1457.08 61.1119 1457.08 50.3365 Q1457.08 39.1965 1463.08 32.6746 Q1469.11 26.1121 1479.32 26.1121 Q1488.48 26.1121 1493.78 32.0264 Q1499.13 37.9003 1499.13 48.0275 M1491.68 45.84 Q1491.6 39.7232 1488.23 36.0774 Q1484.91 32.4315 1479.4 32.4315 Q1473.17 32.4315 1469.4 35.9558 Q1465.67 39.4801 1465.1 45.8805 L1491.68 45.84 Z\" fill=\"#000000\" fill-rule=\"evenodd\" fill-opacity=\"1\" /><path clip-path=\"url(#clip970)\" d=\"M 0 0 M1540.29 28.5427 L1540.29 35.5912 Q1537.13 33.9709 1533.73 33.1607 Q1530.32 32.3505 1526.68 32.3505 Q1521.13 32.3505 1518.33 34.0519 Q1515.58 35.7533 1515.58 39.156 Q1515.58 41.7486 1517.56 43.2475 Q1519.55 44.7058 1525.54 46.0426 L1528.1 46.6097 Q1536.04 48.3111 1539.36 51.4303 Q1542.72 54.509 1542.72 60.0587 Q1542.72 66.3781 1537.7 70.0644 Q1532.71 73.7508 1523.96 73.7508 Q1520.32 73.7508 1516.35 73.0216 Q1512.42 72.3329 1508.04 70.9151 L1508.04 63.2184 Q1512.18 65.3654 1516.19 66.4591 Q1520.2 67.5124 1524.13 67.5124 Q1529.39 67.5124 1532.23 65.73 Q1535.06 63.9071 1535.06 60.6258 Q1535.06 57.5877 1533 55.9673 Q1530.97 54.3469 1524.04 52.8481 L1521.45 52.2405 Q1514.53 50.7821 1511.45 47.7845 Q1508.37 44.7463 1508.37 39.4801 Q1508.37 33.0797 1512.9 29.5959 Q1517.44 26.1121 1525.79 26.1121 Q1529.92 26.1121 1533.56 26.7198 Q1537.21 27.3274 1540.29 28.5427 Z\" fill=\"#000000\" fill-rule=\"evenodd\" fill-opacity=\"1\" /><path clip-path=\"url(#clip970)\" d=\"M 0 0 M1553.82 54.671 L1553.82 27.2059 L1561.27 27.2059 L1561.27 54.3874 Q1561.27 60.8284 1563.78 64.0691 Q1566.3 67.2693 1571.32 67.2693 Q1577.35 67.2693 1580.84 63.421 Q1584.36 59.5726 1584.36 52.9291 L1584.36 27.2059 L1591.82 27.2059 L1591.82 72.576 L1584.36 72.576 L1584.36 65.6084 Q1581.65 69.7404 1578.04 71.7658 Q1574.48 73.7508 1569.74 73.7508 Q1561.92 73.7508 1557.87 68.8897 Q1553.82 64.0286 1553.82 54.671 M1572.57 26.1121 L1572.57 26.1121 Z\" fill=\"#000000\" fill-rule=\"evenodd\" fill-opacity=\"1\" /><path clip-path=\"url(#clip970)\" d=\"M 0 0 M1607.17 9.54393 L1614.62 9.54393 L1614.62 72.576 L1607.17 72.576 L1607.17 9.54393 Z\" fill=\"#000000\" fill-rule=\"evenodd\" fill-opacity=\"1\" /><path clip-path=\"url(#clip970)\" d=\"M 0 0 M1637.59 14.324 L1637.59 27.2059 L1652.94 27.2059 L1652.94 32.9987 L1637.59 32.9987 L1637.59 57.6282 Q1637.59 63.1779 1639.09 64.7578 Q1640.63 66.3376 1645.29 66.3376 L1652.94 66.3376 L1652.94 72.576 L1645.29 72.576 Q1636.66 72.576 1633.38 69.3758 Q1630.1 66.1351 1630.1 57.6282 L1630.1 32.9987 L1624.63 32.9987 L1624.63 27.2059 L1630.1 27.2059 L1630.1 14.324 L1637.59 14.324 Z\" fill=\"#000000\" fill-rule=\"evenodd\" fill-opacity=\"1\" /><path clip-path=\"url(#clip970)\" d=\"M 0 0 M1691.67 28.5427 L1691.67 35.5912 Q1688.51 33.9709 1685.11 33.1607 Q1681.71 32.3505 1678.06 32.3505 Q1672.51 32.3505 1669.72 34.0519 Q1666.96 35.7533 1666.96 39.156 Q1666.96 41.7486 1668.95 43.2475 Q1670.93 44.7058 1676.93 46.0426 L1679.48 46.6097 Q1687.42 48.3111 1690.74 51.4303 Q1694.1 54.509 1694.1 60.0587 Q1694.1 66.3781 1689.08 70.0644 Q1684.1 73.7508 1675.35 73.7508 Q1671.7 73.7508 1667.73 73.0216 Q1663.8 72.3329 1659.43 70.9151 L1659.43 63.2184 Q1663.56 65.3654 1667.57 66.4591 Q1671.58 67.5124 1675.51 67.5124 Q1680.77 67.5124 1683.61 65.73 Q1686.45 63.9071 1686.45 60.6258 Q1686.45 57.5877 1684.38 55.9673 Q1682.35 54.3469 1675.43 52.8481 L1672.83 52.2405 Q1665.91 50.7821 1662.83 47.7845 Q1659.75 44.7463 1659.75 39.4801 Q1659.75 33.0797 1664.29 29.5959 Q1668.82 26.1121 1677.17 26.1121 Q1681.3 26.1121 1684.95 26.7198 Q1688.59 27.3274 1691.67 28.5427 Z\" fill=\"#000000\" fill-rule=\"evenodd\" fill-opacity=\"1\" /><circle clip-path=\"url(#clip972)\" cx=\"2291.38\" cy=\"1447.87\" r=\"14\" fill=\"#009af9\" fill-rule=\"evenodd\" fill-opacity=\"1\" stroke=\"#000000\" stroke-opacity=\"1\" stroke-width=\"3.2\"/>\n",
       "<circle clip-path=\"url(#clip972)\" cx=\"245.565\" cy=\"162.047\" r=\"14\" fill=\"#009af9\" fill-rule=\"evenodd\" fill-opacity=\"1\" stroke=\"#000000\" stroke-opacity=\"1\" stroke-width=\"3.2\"/>\n",
       "<circle clip-path=\"url(#clip972)\" cx=\"757.019\" cy=\"483.503\" r=\"14\" fill=\"#009af9\" fill-rule=\"evenodd\" fill-opacity=\"1\" stroke=\"#000000\" stroke-opacity=\"1\" stroke-width=\"3.2\"/>\n",
       "<circle clip-path=\"url(#clip972)\" cx=\"629.156\" cy=\"403.139\" r=\"14\" fill=\"#009af9\" fill-rule=\"evenodd\" fill-opacity=\"1\" stroke=\"#000000\" stroke-opacity=\"1\" stroke-width=\"3.2\"/>\n",
       "<circle clip-path=\"url(#clip972)\" cx=\"661.122\" cy=\"423.23\" r=\"14\" fill=\"#009af9\" fill-rule=\"evenodd\" fill-opacity=\"1\" stroke=\"#000000\" stroke-opacity=\"1\" stroke-width=\"3.2\"/>\n",
       "<circle clip-path=\"url(#clip972)\" cx=\"653.13\" cy=\"418.208\" r=\"14\" fill=\"#009af9\" fill-rule=\"evenodd\" fill-opacity=\"1\" stroke=\"#000000\" stroke-opacity=\"1\" stroke-width=\"3.2\"/>\n",
       "</svg>\n"
      ]
     },
     "execution_count": 101,
     "metadata": {},
     "output_type": "execute_result"
    }
   ],
   "source": [
    "scatter(X_seidel,Y_seidel,leg=false, title=\"Gauss Seidel Results\")"
   ]
  },
  {
   "cell_type": "code",
   "execution_count": 102,
   "metadata": {},
   "outputs": [
    {
     "data": {
      "image/svg+xml": [
       "<?xml version=\"1.0\" encoding=\"utf-8\"?>\n",
       "<svg xmlns=\"http://www.w3.org/2000/svg\" xmlns:xlink=\"http://www.w3.org/1999/xlink\" width=\"600\" height=\"400\" viewBox=\"0 0 2400 1600\">\n",
       "<defs>\n",
       "  <clipPath id=\"clip010\">\n",
       "    <rect x=\"0\" y=\"0\" width=\"2400\" height=\"1600\"/>\n",
       "  </clipPath>\n",
       "</defs>\n",
       "<path clip-path=\"url(#clip010)\" d=\"\n",
       "M0 1600 L2400 1600 L2400 0 L0 0  Z\n",
       "  \" fill=\"#ffffff\" fill-rule=\"evenodd\" fill-opacity=\"1\"/>\n",
       "<defs>\n",
       "  <clipPath id=\"clip011\">\n",
       "    <rect x=\"480\" y=\"0\" width=\"1681\" height=\"1600\"/>\n",
       "  </clipPath>\n",
       "</defs>\n",
       "<path clip-path=\"url(#clip010)\" d=\"\n",
       "M154.515 1486.45 L2352.76 1486.45 L2352.76 123.472 L154.515 123.472  Z\n",
       "  \" fill=\"#ffffff\" fill-rule=\"evenodd\" fill-opacity=\"1\"/>\n",
       "<defs>\n",
       "  <clipPath id=\"clip012\">\n",
       "    <rect x=\"154\" y=\"123\" width=\"2199\" height=\"1364\"/>\n",
       "  </clipPath>\n",
       "</defs>\n",
       "<polyline clip-path=\"url(#clip012)\" style=\"stroke:#000000; stroke-width:2; stroke-opacity:0.1; fill:none\" points=\"\n",
       "  631.492,1486.45 631.492,123.472 \n",
       "  \"/>\n",
       "<polyline clip-path=\"url(#clip012)\" style=\"stroke:#000000; stroke-width:2; stroke-opacity:0.1; fill:none\" points=\"\n",
       "  1184.51,1486.45 1184.51,123.472 \n",
       "  \"/>\n",
       "<polyline clip-path=\"url(#clip012)\" style=\"stroke:#000000; stroke-width:2; stroke-opacity:0.1; fill:none\" points=\"\n",
       "  1737.52,1486.45 1737.52,123.472 \n",
       "  \"/>\n",
       "<polyline clip-path=\"url(#clip012)\" style=\"stroke:#000000; stroke-width:2; stroke-opacity:0.1; fill:none\" points=\"\n",
       "  2290.54,1486.45 2290.54,123.472 \n",
       "  \"/>\n",
       "<polyline clip-path=\"url(#clip010)\" style=\"stroke:#000000; stroke-width:4; stroke-opacity:1; fill:none\" points=\"\n",
       "  154.515,1486.45 2352.76,1486.45 \n",
       "  \"/>\n",
       "<polyline clip-path=\"url(#clip010)\" style=\"stroke:#000000; stroke-width:4; stroke-opacity:1; fill:none\" points=\"\n",
       "  631.492,1486.45 631.492,1470.09 \n",
       "  \"/>\n",
       "<polyline clip-path=\"url(#clip010)\" style=\"stroke:#000000; stroke-width:4; stroke-opacity:1; fill:none\" points=\"\n",
       "  1184.51,1486.45 1184.51,1470.09 \n",
       "  \"/>\n",
       "<polyline clip-path=\"url(#clip010)\" style=\"stroke:#000000; stroke-width:4; stroke-opacity:1; fill:none\" points=\"\n",
       "  1737.52,1486.45 1737.52,1470.09 \n",
       "  \"/>\n",
       "<polyline clip-path=\"url(#clip010)\" style=\"stroke:#000000; stroke-width:4; stroke-opacity:1; fill:none\" points=\"\n",
       "  2290.54,1486.45 2290.54,1470.09 \n",
       "  \"/>\n",
       "<path clip-path=\"url(#clip010)\" d=\"M 0 0 M608.633 1515.64 Q605.022 1515.64 603.193 1519.2 Q601.388 1522.75 601.388 1529.87 Q601.388 1536.98 603.193 1540.55 Q605.022 1544.09 608.633 1544.09 Q612.267 1544.09 614.073 1540.55 Q615.902 1536.98 615.902 1529.87 Q615.902 1522.75 614.073 1519.2 Q612.267 1515.64 608.633 1515.64 M608.633 1511.93 Q614.443 1511.93 617.499 1516.54 Q620.577 1521.12 620.577 1529.87 Q620.577 1538.6 617.499 1543.21 Q614.443 1547.79 608.633 1547.79 Q602.823 1547.79 599.744 1543.21 Q596.689 1538.6 596.689 1529.87 Q596.689 1521.12 599.744 1516.54 Q602.823 1511.93 608.633 1511.93 Z\" fill=\"#000000\" fill-rule=\"evenodd\" fill-opacity=\"1\" /><path clip-path=\"url(#clip010)\" d=\"M 0 0 M628.795 1541.24 L633.679 1541.24 L633.679 1547.12 L628.795 1547.12 L628.795 1541.24 Z\" fill=\"#000000\" fill-rule=\"evenodd\" fill-opacity=\"1\" /><path clip-path=\"url(#clip010)\" d=\"M 0 0 M656.712 1516.63 L644.906 1535.08 L656.712 1535.08 L656.712 1516.63 M655.485 1512.56 L661.364 1512.56 L661.364 1535.08 L666.295 1535.08 L666.295 1538.97 L661.364 1538.97 L661.364 1547.12 L656.712 1547.12 L656.712 1538.97 L641.11 1538.97 L641.11 1534.46 L655.485 1512.56 Z\" fill=\"#000000\" fill-rule=\"evenodd\" fill-opacity=\"1\" /><path clip-path=\"url(#clip010)\" d=\"M 0 0 M1161.81 1515.64 Q1158.2 1515.64 1156.37 1519.2 Q1154.57 1522.75 1154.57 1529.87 Q1154.57 1536.98 1156.37 1540.55 Q1158.2 1544.09 1161.81 1544.09 Q1165.45 1544.09 1167.25 1540.55 Q1169.08 1536.98 1169.08 1529.87 Q1169.08 1522.75 1167.25 1519.2 Q1165.45 1515.64 1161.81 1515.64 M1161.81 1511.93 Q1167.62 1511.93 1170.68 1516.54 Q1173.76 1521.12 1173.76 1529.87 Q1173.76 1538.6 1170.68 1543.21 Q1167.62 1547.79 1161.81 1547.79 Q1156 1547.79 1152.92 1543.21 Q1149.87 1538.6 1149.87 1529.87 Q1149.87 1521.12 1152.92 1516.54 Q1156 1511.93 1161.81 1511.93 Z\" fill=\"#000000\" fill-rule=\"evenodd\" fill-opacity=\"1\" /><path clip-path=\"url(#clip010)\" d=\"M 0 0 M1181.97 1541.24 L1186.86 1541.24 L1186.86 1547.12 L1181.97 1547.12 L1181.97 1541.24 Z\" fill=\"#000000\" fill-rule=\"evenodd\" fill-opacity=\"1\" /><path clip-path=\"url(#clip010)\" d=\"M 0 0 M1207.62 1527.98 Q1204.47 1527.98 1202.62 1530.13 Q1200.79 1532.28 1200.79 1536.03 Q1200.79 1539.76 1202.62 1541.93 Q1204.47 1544.09 1207.62 1544.09 Q1210.77 1544.09 1212.6 1541.93 Q1214.45 1539.76 1214.45 1536.03 Q1214.45 1532.28 1212.6 1530.13 Q1210.77 1527.98 1207.62 1527.98 M1216.9 1513.32 L1216.9 1517.58 Q1215.14 1516.75 1213.34 1516.31 Q1211.56 1515.87 1209.8 1515.87 Q1205.17 1515.87 1202.71 1519 Q1200.28 1522.12 1199.94 1528.44 Q1201.3 1526.43 1203.36 1525.36 Q1205.42 1524.27 1207.9 1524.27 Q1213.11 1524.27 1216.12 1527.44 Q1219.15 1530.59 1219.15 1536.03 Q1219.15 1541.36 1216 1544.57 Q1212.85 1547.79 1207.62 1547.79 Q1201.63 1547.79 1198.46 1543.21 Q1195.28 1538.6 1195.28 1529.87 Q1195.28 1521.68 1199.17 1516.82 Q1203.06 1511.93 1209.61 1511.93 Q1211.37 1511.93 1213.15 1512.28 Q1214.96 1512.63 1216.9 1513.32 Z\" fill=\"#000000\" fill-rule=\"evenodd\" fill-opacity=\"1\" /><path clip-path=\"url(#clip010)\" d=\"M 0 0 M1714.96 1515.64 Q1711.34 1515.64 1709.52 1519.2 Q1707.71 1522.75 1707.71 1529.87 Q1707.71 1536.98 1709.52 1540.55 Q1711.34 1544.09 1714.96 1544.09 Q1718.59 1544.09 1720.4 1540.55 Q1722.22 1536.98 1722.22 1529.87 Q1722.22 1522.75 1720.4 1519.2 Q1718.59 1515.64 1714.96 1515.64 M1714.96 1511.93 Q1720.77 1511.93 1723.82 1516.54 Q1726.9 1521.12 1726.9 1529.87 Q1726.9 1538.6 1723.82 1543.21 Q1720.77 1547.79 1714.96 1547.79 Q1709.15 1547.79 1706.07 1543.21 Q1703.01 1538.6 1703.01 1529.87 Q1703.01 1521.12 1706.07 1516.54 Q1709.15 1511.93 1714.96 1511.93 Z\" fill=\"#000000\" fill-rule=\"evenodd\" fill-opacity=\"1\" /><path clip-path=\"url(#clip010)\" d=\"M 0 0 M1735.12 1541.24 L1740 1541.24 L1740 1547.12 L1735.12 1547.12 L1735.12 1541.24 Z\" fill=\"#000000\" fill-rule=\"evenodd\" fill-opacity=\"1\" /><path clip-path=\"url(#clip010)\" d=\"M 0 0 M1760.19 1530.71 Q1756.85 1530.71 1754.93 1532.49 Q1753.03 1534.27 1753.03 1537.4 Q1753.03 1540.52 1754.93 1542.31 Q1756.85 1544.09 1760.19 1544.09 Q1763.52 1544.09 1765.44 1542.31 Q1767.36 1540.5 1767.36 1537.4 Q1767.36 1534.27 1765.44 1532.49 Q1763.54 1530.71 1760.19 1530.71 M1755.51 1528.72 Q1752.5 1527.98 1750.81 1525.92 Q1749.15 1523.86 1749.15 1520.89 Q1749.15 1516.75 1752.09 1514.34 Q1755.05 1511.93 1760.19 1511.93 Q1765.35 1511.93 1768.29 1514.34 Q1771.23 1516.75 1771.23 1520.89 Q1771.23 1523.86 1769.54 1525.92 Q1767.87 1527.98 1764.89 1528.72 Q1768.27 1529.5 1770.14 1531.8 Q1772.04 1534.09 1772.04 1537.4 Q1772.04 1542.42 1768.96 1545.11 Q1765.9 1547.79 1760.19 1547.79 Q1754.47 1547.79 1751.39 1545.11 Q1748.34 1542.42 1748.34 1537.4 Q1748.34 1534.09 1750.23 1531.8 Q1752.13 1529.5 1755.51 1528.72 M1753.8 1521.33 Q1753.8 1524.02 1755.46 1525.52 Q1757.15 1527.03 1760.19 1527.03 Q1763.2 1527.03 1764.89 1525.52 Q1766.6 1524.02 1766.6 1521.33 Q1766.6 1518.65 1764.89 1517.14 Q1763.2 1515.64 1760.19 1515.64 Q1757.15 1515.64 1755.46 1517.14 Q1753.8 1518.65 1753.8 1521.33 Z\" fill=\"#000000\" fill-rule=\"evenodd\" fill-opacity=\"1\" /><path clip-path=\"url(#clip010)\" d=\"M 0 0 M2257.69 1543.18 L2265.33 1543.18 L2265.33 1516.82 L2257.02 1518.49 L2257.02 1514.23 L2265.29 1512.56 L2269.96 1512.56 L2269.96 1543.18 L2277.6 1543.18 L2277.6 1547.12 L2257.69 1547.12 L2257.69 1543.18 Z\" fill=\"#000000\" fill-rule=\"evenodd\" fill-opacity=\"1\" /><path clip-path=\"url(#clip010)\" d=\"M 0 0 M2287.05 1541.24 L2291.93 1541.24 L2291.93 1547.12 L2287.05 1547.12 L2287.05 1541.24 Z\" fill=\"#000000\" fill-rule=\"evenodd\" fill-opacity=\"1\" /><path clip-path=\"url(#clip010)\" d=\"M 0 0 M2312.12 1515.64 Q2308.5 1515.64 2306.68 1519.2 Q2304.87 1522.75 2304.87 1529.87 Q2304.87 1536.98 2306.68 1540.55 Q2308.5 1544.09 2312.12 1544.09 Q2315.75 1544.09 2317.56 1540.55 Q2319.38 1536.98 2319.38 1529.87 Q2319.38 1522.75 2317.56 1519.2 Q2315.75 1515.64 2312.12 1515.64 M2312.12 1511.93 Q2317.93 1511.93 2320.98 1516.54 Q2324.06 1521.12 2324.06 1529.87 Q2324.06 1538.6 2320.98 1543.21 Q2317.93 1547.79 2312.12 1547.79 Q2306.31 1547.79 2303.23 1543.21 Q2300.17 1538.6 2300.17 1529.87 Q2300.17 1521.12 2303.23 1516.54 Q2306.31 1511.93 2312.12 1511.93 Z\" fill=\"#000000\" fill-rule=\"evenodd\" fill-opacity=\"1\" /><polyline clip-path=\"url(#clip012)\" style=\"stroke:#000000; stroke-width:2; stroke-opacity:0.1; fill:none\" points=\"\n",
       "  154.515,1447.87 2352.76,1447.87 \n",
       "  \"/>\n",
       "<polyline clip-path=\"url(#clip012)\" style=\"stroke:#000000; stroke-width:2; stroke-opacity:0.1; fill:none\" points=\"\n",
       "  154.515,1190.71 2352.76,1190.71 \n",
       "  \"/>\n",
       "<polyline clip-path=\"url(#clip012)\" style=\"stroke:#000000; stroke-width:2; stroke-opacity:0.1; fill:none\" points=\"\n",
       "  154.515,933.543 2352.76,933.543 \n",
       "  \"/>\n",
       "<polyline clip-path=\"url(#clip012)\" style=\"stroke:#000000; stroke-width:2; stroke-opacity:0.1; fill:none\" points=\"\n",
       "  154.515,676.377 2352.76,676.377 \n",
       "  \"/>\n",
       "<polyline clip-path=\"url(#clip012)\" style=\"stroke:#000000; stroke-width:2; stroke-opacity:0.1; fill:none\" points=\"\n",
       "  154.515,419.212 2352.76,419.212 \n",
       "  \"/>\n",
       "<polyline clip-path=\"url(#clip012)\" style=\"stroke:#000000; stroke-width:2; stroke-opacity:0.1; fill:none\" points=\"\n",
       "  154.515,162.047 2352.76,162.047 \n",
       "  \"/>\n",
       "<polyline clip-path=\"url(#clip010)\" style=\"stroke:#000000; stroke-width:4; stroke-opacity:1; fill:none\" points=\"\n",
       "  154.515,1486.45 154.515,123.472 \n",
       "  \"/>\n",
       "<polyline clip-path=\"url(#clip010)\" style=\"stroke:#000000; stroke-width:4; stroke-opacity:1; fill:none\" points=\"\n",
       "  154.515,1447.87 180.894,1447.87 \n",
       "  \"/>\n",
       "<polyline clip-path=\"url(#clip010)\" style=\"stroke:#000000; stroke-width:4; stroke-opacity:1; fill:none\" points=\"\n",
       "  154.515,1190.71 180.894,1190.71 \n",
       "  \"/>\n",
       "<polyline clip-path=\"url(#clip010)\" style=\"stroke:#000000; stroke-width:4; stroke-opacity:1; fill:none\" points=\"\n",
       "  154.515,933.543 180.894,933.543 \n",
       "  \"/>\n",
       "<polyline clip-path=\"url(#clip010)\" style=\"stroke:#000000; stroke-width:4; stroke-opacity:1; fill:none\" points=\"\n",
       "  154.515,676.377 180.894,676.377 \n",
       "  \"/>\n",
       "<polyline clip-path=\"url(#clip010)\" style=\"stroke:#000000; stroke-width:4; stroke-opacity:1; fill:none\" points=\"\n",
       "  154.515,419.212 180.894,419.212 \n",
       "  \"/>\n",
       "<polyline clip-path=\"url(#clip010)\" style=\"stroke:#000000; stroke-width:4; stroke-opacity:1; fill:none\" points=\"\n",
       "  154.515,162.047 180.894,162.047 \n",
       "  \"/>\n",
       "<path clip-path=\"url(#clip010)\" d=\"M 0 0 M52.1495 1461.22 L59.7884 1461.22 L59.7884 1434.85 L51.4782 1436.52 L51.4782 1432.26 L59.7421 1430.59 L64.418 1430.59 L64.418 1461.22 L72.0568 1461.22 L72.0568 1465.15 L52.1495 1465.15 L52.1495 1461.22 Z\" fill=\"#000000\" fill-rule=\"evenodd\" fill-opacity=\"1\" /><path clip-path=\"url(#clip010)\" d=\"M 0 0 M81.5012 1459.27 L86.3855 1459.27 L86.3855 1465.15 L81.5012 1465.15 L81.5012 1459.27 Z\" fill=\"#000000\" fill-rule=\"evenodd\" fill-opacity=\"1\" /><path clip-path=\"url(#clip010)\" d=\"M 0 0 M106.571 1433.67 Q102.959 1433.67 101.131 1437.24 Q99.3252 1440.78 99.3252 1447.91 Q99.3252 1455.01 101.131 1458.58 Q102.959 1462.12 106.571 1462.12 Q110.205 1462.12 112.01 1458.58 Q113.839 1455.01 113.839 1447.91 Q113.839 1440.78 112.01 1437.24 Q110.205 1433.67 106.571 1433.67 M106.571 1429.97 Q112.381 1429.97 115.436 1434.57 Q118.515 1439.16 118.515 1447.91 Q118.515 1456.63 115.436 1461.24 Q112.381 1465.82 106.571 1465.82 Q100.76 1465.82 97.6817 1461.24 Q94.6262 1456.63 94.6262 1447.91 Q94.6262 1439.16 97.6817 1434.57 Q100.76 1429.97 106.571 1429.97 Z\" fill=\"#000000\" fill-rule=\"evenodd\" fill-opacity=\"1\" /><path clip-path=\"url(#clip010)\" d=\"M 0 0 M53.3764 1204.05 L61.0152 1204.05 L61.0152 1177.69 L52.7051 1179.35 L52.7051 1175.09 L60.9689 1173.43 L65.6448 1173.43 L65.6448 1204.05 L73.2837 1204.05 L73.2837 1207.99 L53.3764 1207.99 L53.3764 1204.05 Z\" fill=\"#000000\" fill-rule=\"evenodd\" fill-opacity=\"1\" /><path clip-path=\"url(#clip010)\" d=\"M 0 0 M82.7281 1202.11 L87.6123 1202.11 L87.6123 1207.99 L82.7281 1207.99 L82.7281 1202.11 Z\" fill=\"#000000\" fill-rule=\"evenodd\" fill-opacity=\"1\" /><path clip-path=\"url(#clip010)\" d=\"M 0 0 M98.6076 1204.05 L106.246 1204.05 L106.246 1177.69 L97.9363 1179.35 L97.9363 1175.09 L106.2 1173.43 L110.876 1173.43 L110.876 1204.05 L118.515 1204.05 L118.515 1207.99 L98.6076 1207.99 L98.6076 1204.05 Z\" fill=\"#000000\" fill-rule=\"evenodd\" fill-opacity=\"1\" /><path clip-path=\"url(#clip010)\" d=\"M 0 0 M53.7467 946.887 L61.3856 946.887 L61.3856 920.522 L53.0754 922.189 L53.0754 917.929 L61.3393 916.263 L66.0152 916.263 L66.0152 946.887 L73.654 946.887 L73.654 950.823 L53.7467 950.823 L53.7467 946.887 Z\" fill=\"#000000\" fill-rule=\"evenodd\" fill-opacity=\"1\" /><path clip-path=\"url(#clip010)\" d=\"M 0 0 M83.0984 944.943 L87.9827 944.943 L87.9827 950.823 L83.0984 950.823 L83.0984 944.943 Z\" fill=\"#000000\" fill-rule=\"evenodd\" fill-opacity=\"1\" /><path clip-path=\"url(#clip010)\" d=\"M 0 0 M102.196 946.887 L118.515 946.887 L118.515 950.823 L96.5706 950.823 L96.5706 946.887 Q99.2326 944.133 103.816 939.503 Q108.422 934.85 109.603 933.508 Q111.848 930.985 112.728 929.249 Q113.631 927.489 113.631 925.8 Q113.631 923.045 111.686 921.309 Q109.765 919.573 106.663 919.573 Q104.464 919.573 102.01 920.337 Q99.5798 921.101 96.8021 922.651 L96.8021 917.929 Q99.6261 916.795 102.08 916.216 Q104.534 915.638 106.571 915.638 Q111.941 915.638 115.135 918.323 Q118.33 921.008 118.33 925.499 Q118.33 927.628 117.52 929.55 Q116.733 931.448 114.626 934.04 Q114.047 934.712 110.946 937.929 Q107.844 941.124 102.196 946.887 Z\" fill=\"#000000\" fill-rule=\"evenodd\" fill-opacity=\"1\" /><path clip-path=\"url(#clip010)\" d=\"M 0 0 M52.7977 689.722 L60.4365 689.722 L60.4365 663.357 L52.1264 665.023 L52.1264 660.764 L60.3902 659.097 L65.0661 659.097 L65.0661 689.722 L72.705 689.722 L72.705 693.657 L52.7977 693.657 L52.7977 689.722 Z\" fill=\"#000000\" fill-rule=\"evenodd\" fill-opacity=\"1\" /><path clip-path=\"url(#clip010)\" d=\"M 0 0 M82.1494 687.778 L87.0336 687.778 L87.0336 693.657 L82.1494 693.657 L82.1494 687.778 Z\" fill=\"#000000\" fill-rule=\"evenodd\" fill-opacity=\"1\" /><path clip-path=\"url(#clip010)\" d=\"M 0 0 M111.385 675.023 Q114.742 675.741 116.617 678.009 Q118.515 680.278 118.515 683.611 Q118.515 688.727 114.996 691.528 Q111.478 694.329 104.996 694.329 Q102.821 694.329 100.506 693.889 Q98.2141 693.472 95.7604 692.616 L95.7604 688.102 Q97.7048 689.236 100.02 689.815 Q102.334 690.394 104.858 690.394 Q109.256 690.394 111.547 688.657 Q113.862 686.921 113.862 683.611 Q113.862 680.556 111.709 678.843 Q109.58 677.107 105.76 677.107 L101.733 677.107 L101.733 673.264 L105.946 673.264 Q109.395 673.264 111.223 671.898 Q113.052 670.509 113.052 667.917 Q113.052 665.255 111.154 663.843 Q109.279 662.408 105.76 662.408 Q103.839 662.408 101.64 662.824 Q99.4409 663.241 96.8021 664.121 L96.8021 659.954 Q99.4641 659.213 101.779 658.843 Q104.117 658.472 106.177 658.472 Q111.501 658.472 114.603 660.903 Q117.705 663.31 117.705 667.431 Q117.705 670.301 116.061 672.292 Q114.418 674.259 111.385 675.023 Z\" fill=\"#000000\" fill-rule=\"evenodd\" fill-opacity=\"1\" /><path clip-path=\"url(#clip010)\" d=\"M 0 0 M51.6634 432.557 L59.3023 432.557 L59.3023 406.191 L50.9921 407.858 L50.9921 403.599 L59.256 401.932 L63.9319 401.932 L63.9319 432.557 L71.5707 432.557 L71.5707 436.492 L51.6634 436.492 L51.6634 432.557 Z\" fill=\"#000000\" fill-rule=\"evenodd\" fill-opacity=\"1\" /><path clip-path=\"url(#clip010)\" d=\"M 0 0 M81.0151 430.613 L85.8993 430.613 L85.8993 436.492 L81.0151 436.492 L81.0151 430.613 Z\" fill=\"#000000\" fill-rule=\"evenodd\" fill-opacity=\"1\" /><path clip-path=\"url(#clip010)\" d=\"M 0 0 M108.932 406.006 L97.1261 424.455 L108.932 424.455 L108.932 406.006 M107.705 401.932 L113.584 401.932 L113.584 424.455 L118.515 424.455 L118.515 428.344 L113.584 428.344 L113.584 436.492 L108.932 436.492 L108.932 428.344 L93.3299 428.344 L93.3299 423.83 L107.705 401.932 Z\" fill=\"#000000\" fill-rule=\"evenodd\" fill-opacity=\"1\" /><path clip-path=\"url(#clip010)\" d=\"M 0 0 M53.1449 175.392 L60.7837 175.392 L60.7837 149.026 L52.4736 150.693 L52.4736 146.434 L60.7374 144.767 L65.4133 144.767 L65.4133 175.392 L73.0522 175.392 L73.0522 179.327 L53.1449 179.327 L53.1449 175.392 Z\" fill=\"#000000\" fill-rule=\"evenodd\" fill-opacity=\"1\" /><path clip-path=\"url(#clip010)\" d=\"M 0 0 M82.4966 173.447 L87.3808 173.447 L87.3808 179.327 L82.4966 179.327 L82.4966 173.447 Z\" fill=\"#000000\" fill-rule=\"evenodd\" fill-opacity=\"1\" /><path clip-path=\"url(#clip010)\" d=\"M 0 0 M97.6122 144.767 L115.969 144.767 L115.969 148.702 L101.895 148.702 L101.895 157.174 Q102.913 156.827 103.932 156.665 Q104.95 156.48 105.969 156.48 Q111.756 156.48 115.135 159.651 Q118.515 162.822 118.515 168.239 Q118.515 173.818 115.043 176.92 Q111.571 179.998 105.251 179.998 Q103.075 179.998 100.807 179.628 Q98.5613 179.257 96.1539 178.517 L96.1539 173.818 Q98.2372 174.952 100.459 175.507 Q102.682 176.063 105.159 176.063 Q109.163 176.063 111.501 173.957 Q113.839 171.85 113.839 168.239 Q113.839 164.628 111.501 162.521 Q109.163 160.415 105.159 160.415 Q103.284 160.415 101.409 160.832 Q99.5567 161.248 97.6122 162.128 L97.6122 144.767 Z\" fill=\"#000000\" fill-rule=\"evenodd\" fill-opacity=\"1\" /><path clip-path=\"url(#clip010)\" d=\"M 0 0 M875.787 63.9476 L875.787 47.7034 L862.419 47.7034 L862.419 40.9789 L883.889 40.9789 L883.889 66.9452 Q879.15 70.3075 873.438 72.0494 Q867.726 73.7508 861.245 73.7508 Q847.066 73.7508 839.046 65.4869 Q831.065 57.1826 831.065 42.3968 Q831.065 27.5705 839.046 19.3066 Q847.066 11.0023 861.245 11.0023 Q867.159 11.0023 872.466 12.4606 Q877.813 13.9189 882.309 16.7545 L882.309 25.464 Q877.772 21.6156 872.668 19.6712 Q867.564 17.7268 861.933 17.7268 Q850.834 17.7268 845.244 23.9246 Q839.694 30.1225 839.694 42.3968 Q839.694 54.6305 845.244 60.8284 Q850.834 67.0263 861.933 67.0263 Q866.268 67.0263 869.67 66.2971 Q873.073 65.5274 875.787 63.9476 Z\" fill=\"#000000\" fill-rule=\"evenodd\" fill-opacity=\"1\" /><path clip-path=\"url(#clip010)\" d=\"M 0 0 M919.132 49.7694 Q910.098 49.7694 906.615 51.8354 Q903.131 53.9013 903.131 58.8839 Q903.131 62.8538 905.724 65.2034 Q908.357 67.5124 912.853 67.5124 Q919.051 67.5124 922.778 63.1374 Q926.545 58.7219 926.545 51.4303 L926.545 49.7694 L919.132 49.7694 M933.999 46.6907 L933.999 72.576 L926.545 72.576 L926.545 65.6895 Q923.993 69.8214 920.185 71.8063 Q916.377 73.7508 910.868 73.7508 Q903.901 73.7508 899.769 69.8619 Q895.677 65.9325 895.677 59.3701 Q895.677 51.7138 900.781 47.825 Q905.926 43.9361 916.094 43.9361 L926.545 43.9361 L926.545 43.2069 Q926.545 38.0623 923.142 35.2672 Q919.78 32.4315 913.663 32.4315 Q909.774 32.4315 906.088 33.3632 Q902.402 34.295 898.999 36.1584 L898.999 29.2718 Q903.09 27.692 906.939 26.9223 Q910.787 26.1121 914.433 26.1121 Q924.277 26.1121 929.138 31.2163 Q933.999 36.3204 933.999 46.6907 Z\" fill=\"#000000\" fill-rule=\"evenodd\" fill-opacity=\"1\" /><path clip-path=\"url(#clip010)\" d=\"M 0 0 M948.582 54.671 L948.582 27.2059 L956.036 27.2059 L956.036 54.3874 Q956.036 60.8284 958.547 64.0691 Q961.059 67.2693 966.082 67.2693 Q972.118 67.2693 975.602 63.421 Q979.126 59.5726 979.126 52.9291 L979.126 27.2059 L986.58 27.2059 L986.58 72.576 L979.126 72.576 L979.126 65.6084 Q976.412 69.7404 972.806 71.7658 Q969.242 73.7508 964.502 73.7508 Q956.684 73.7508 952.633 68.8897 Q948.582 64.0286 948.582 54.671 M967.338 26.1121 L967.338 26.1121 Z\" fill=\"#000000\" fill-rule=\"evenodd\" fill-opacity=\"1\" /><path clip-path=\"url(#clip010)\" d=\"M 0 0 M1030.86 28.5427 L1030.86 35.5912 Q1027.7 33.9709 1024.29 33.1607 Q1020.89 32.3505 1017.24 32.3505 Q1011.7 32.3505 1008.9 34.0519 Q1006.15 35.7533 1006.15 39.156 Q1006.15 41.7486 1008.13 43.2475 Q1010.12 44.7058 1016.11 46.0426 L1018.66 46.6097 Q1026.6 48.3111 1029.92 51.4303 Q1033.29 54.509 1033.29 60.0587 Q1033.29 66.3781 1028.26 70.0644 Q1023.28 73.7508 1014.53 73.7508 Q1010.88 73.7508 1006.92 73.0216 Q1002.99 72.3329 998.611 70.9151 L998.611 63.2184 Q1002.74 65.3654 1006.75 66.4591 Q1010.76 67.5124 1014.69 67.5124 Q1019.96 67.5124 1022.79 65.73 Q1025.63 63.9071 1025.63 60.6258 Q1025.63 57.5877 1023.56 55.9673 Q1021.54 54.3469 1014.61 52.8481 L1012.02 52.2405 Q1005.09 50.7821 1002.01 47.7845 Q998.935 44.7463 998.935 39.4801 Q998.935 33.0797 1003.47 29.5959 Q1008.01 26.1121 1016.35 26.1121 Q1020.49 26.1121 1024.13 26.7198 Q1027.78 27.3274 1030.86 28.5427 Z\" fill=\"#000000\" fill-rule=\"evenodd\" fill-opacity=\"1\" /><path clip-path=\"url(#clip010)\" d=\"M 0 0 M1074.08 28.5427 L1074.08 35.5912 Q1070.92 33.9709 1067.52 33.1607 Q1064.11 32.3505 1060.47 32.3505 Q1054.92 32.3505 1052.12 34.0519 Q1049.37 35.7533 1049.37 39.156 Q1049.37 41.7486 1051.35 43.2475 Q1053.34 44.7058 1059.33 46.0426 L1061.89 46.6097 Q1069.83 48.3111 1073.15 51.4303 Q1076.51 54.509 1076.51 60.0587 Q1076.51 66.3781 1071.49 70.0644 Q1066.5 73.7508 1057.75 73.7508 Q1054.11 73.7508 1050.14 73.0216 Q1046.21 72.3329 1041.83 70.9151 L1041.83 63.2184 Q1045.97 65.3654 1049.98 66.4591 Q1053.99 67.5124 1057.92 67.5124 Q1063.18 67.5124 1066.02 65.73 Q1068.85 63.9071 1068.85 60.6258 Q1068.85 57.5877 1066.79 55.9673 Q1064.76 54.3469 1057.83 52.8481 L1055.24 52.2405 Q1048.32 50.7821 1045.24 47.7845 Q1042.16 44.7463 1042.16 39.4801 Q1042.16 33.0797 1046.69 29.5959 Q1051.23 26.1121 1059.58 26.1121 Q1063.71 26.1121 1067.35 26.7198 Q1071 27.3274 1074.08 28.5427 Z\" fill=\"#000000\" fill-rule=\"evenodd\" fill-opacity=\"1\" /><path clip-path=\"url(#clip010)\" d=\"M 0 0 M1115.07 12.096 L1123.26 12.096 L1123.26 68.3631 Q1123.26 79.3005 1119.08 84.2426 Q1114.95 89.1847 1105.76 89.1847 L1102.64 89.1847 L1102.64 82.2982 L1105.19 82.2982 Q1110.62 82.2982 1112.85 79.26 Q1115.07 76.2218 1115.07 68.3631 L1115.07 12.096 Z\" fill=\"#000000\" fill-rule=\"evenodd\" fill-opacity=\"1\" /><path clip-path=\"url(#clip010)\" d=\"M 0 0 M1159.84 49.7694 Q1150.8 49.7694 1147.32 51.8354 Q1143.84 53.9013 1143.84 58.8839 Q1143.84 62.8538 1146.43 65.2034 Q1149.06 67.5124 1153.56 67.5124 Q1159.76 67.5124 1163.48 63.1374 Q1167.25 58.7219 1167.25 51.4303 L1167.25 49.7694 L1159.84 49.7694 M1174.7 46.6907 L1174.7 72.576 L1167.25 72.576 L1167.25 65.6895 Q1164.7 69.8214 1160.89 71.8063 Q1157.08 73.7508 1151.57 73.7508 Q1144.61 73.7508 1140.47 69.8619 Q1136.38 65.9325 1136.38 59.3701 Q1136.38 51.7138 1141.49 47.825 Q1146.63 43.9361 1156.8 43.9361 L1167.25 43.9361 L1167.25 43.2069 Q1167.25 38.0623 1163.85 35.2672 Q1160.48 32.4315 1154.37 32.4315 Q1150.48 32.4315 1146.79 33.3632 Q1143.11 34.295 1139.7 36.1584 L1139.7 29.2718 Q1143.8 27.692 1147.64 26.9223 Q1151.49 26.1121 1155.14 26.1121 Q1164.98 26.1121 1169.84 31.2163 Q1174.7 36.3204 1174.7 46.6907 Z\" fill=\"#000000\" fill-rule=\"evenodd\" fill-opacity=\"1\" /><path clip-path=\"url(#clip010)\" d=\"M 0 0 M1222.71 28.9478 L1222.71 35.9153 Q1219.55 34.1734 1216.35 33.3227 Q1213.19 32.4315 1209.95 32.4315 Q1202.7 32.4315 1198.68 37.0496 Q1194.67 41.6271 1194.67 49.9314 Q1194.67 58.2358 1198.68 62.8538 Q1202.7 67.4314 1209.95 67.4314 Q1213.19 67.4314 1216.35 66.5807 Q1219.55 65.6895 1222.71 63.9476 L1222.71 70.8341 Q1219.59 72.2924 1216.23 73.0216 Q1212.9 73.7508 1209.14 73.7508 Q1198.89 73.7508 1192.85 67.3098 Q1186.82 60.8689 1186.82 49.9314 Q1186.82 38.832 1192.89 32.472 Q1199.01 26.1121 1209.62 26.1121 Q1213.07 26.1121 1216.35 26.8413 Q1219.63 27.5299 1222.71 28.9478 Z\" fill=\"#000000\" fill-rule=\"evenodd\" fill-opacity=\"1\" /><path clip-path=\"url(#clip010)\" d=\"M 0 0 M1253.25 32.4315 Q1247.26 32.4315 1243.77 37.1306 Q1240.29 41.7891 1240.29 49.9314 Q1240.29 58.0738 1243.73 62.7728 Q1247.21 67.4314 1253.25 67.4314 Q1259.21 67.4314 1262.69 62.7323 Q1266.17 58.0333 1266.17 49.9314 Q1266.17 41.8701 1262.69 37.1711 Q1259.21 32.4315 1253.25 32.4315 M1253.25 26.1121 Q1262.97 26.1121 1268.52 32.4315 Q1274.07 38.7509 1274.07 49.9314 Q1274.07 61.0714 1268.52 67.4314 Q1262.97 73.7508 1253.25 73.7508 Q1243.49 73.7508 1237.94 67.4314 Q1232.43 61.0714 1232.43 49.9314 Q1232.43 38.7509 1237.94 32.4315 Q1243.49 26.1121 1253.25 26.1121 Z\" fill=\"#000000\" fill-rule=\"evenodd\" fill-opacity=\"1\" /><path clip-path=\"url(#clip010)\" d=\"M 0 0 M1319 49.9314 Q1319 41.7081 1315.59 37.0496 Q1312.23 32.3505 1306.32 32.3505 Q1300.4 32.3505 1297 37.0496 Q1293.64 41.7081 1293.64 49.9314 Q1293.64 58.1548 1297 62.8538 Q1300.4 67.5124 1306.32 67.5124 Q1312.23 67.5124 1315.59 62.8538 Q1319 58.1548 1319 49.9314 M1293.64 34.0924 Q1295.99 30.0415 1299.55 28.0971 Q1303.16 26.1121 1308.14 26.1121 Q1316.4 26.1121 1321.55 32.6746 Q1326.73 39.2371 1326.73 49.9314 Q1326.73 60.6258 1321.55 67.1883 Q1316.4 73.7508 1308.14 73.7508 Q1303.16 73.7508 1299.55 71.8063 Q1295.99 69.8214 1293.64 65.7705 L1293.64 72.576 L1286.14 72.576 L1286.14 9.54393 L1293.64 9.54393 L1293.64 34.0924 Z\" fill=\"#000000\" fill-rule=\"evenodd\" fill-opacity=\"1\" /><path clip-path=\"url(#clip010)\" d=\"M 0 0 M1339.09 27.2059 L1346.54 27.2059 L1346.54 72.576 L1339.09 72.576 L1339.09 27.2059 M1339.09 9.54393 L1346.54 9.54393 L1346.54 18.9825 L1339.09 18.9825 L1339.09 9.54393 Z\" fill=\"#000000\" fill-rule=\"evenodd\" fill-opacity=\"1\" /><path clip-path=\"url(#clip010)\" d=\"M 0 0 M1417.51 44.2197 Q1420.15 45.1109 1422.62 48.0275 Q1425.13 50.9442 1427.64 56.0483 L1435.95 72.576 L1427.16 72.576 L1419.42 57.061 Q1416.42 50.9847 1413.59 48.9997 Q1410.79 47.0148 1405.93 47.0148 L1397.02 47.0148 L1397.02 72.576 L1388.83 72.576 L1388.83 12.096 L1407.31 12.096 Q1417.68 12.096 1422.78 16.4305 Q1427.89 20.7649 1427.89 29.5149 Q1427.89 35.2267 1425.21 38.994 Q1422.58 42.7613 1417.51 44.2197 M1397.02 18.8205 L1397.02 40.2903 L1407.31 40.2903 Q1413.22 40.2903 1416.22 37.5762 Q1419.26 34.8216 1419.26 29.5149 Q1419.26 24.2082 1416.22 21.5346 Q1413.22 18.8205 1407.31 18.8205 L1397.02 18.8205 Z\" fill=\"#000000\" fill-rule=\"evenodd\" fill-opacity=\"1\" /><path clip-path=\"url(#clip010)\" d=\"M 0 0 M1481.24 48.0275 L1481.24 51.6733 L1446.96 51.6733 Q1447.45 59.3701 1451.58 63.421 Q1455.76 67.4314 1463.17 67.4314 Q1467.46 67.4314 1471.47 66.3781 Q1475.52 65.3249 1479.49 63.2184 L1479.49 70.267 Q1475.48 71.9684 1471.27 72.8596 Q1467.06 73.7508 1462.72 73.7508 Q1451.87 73.7508 1445.51 67.4314 Q1439.19 61.1119 1439.19 50.3365 Q1439.19 39.1965 1445.18 32.6746 Q1451.22 26.1121 1461.43 26.1121 Q1470.58 26.1121 1475.89 32.0264 Q1481.24 37.9003 1481.24 48.0275 M1473.78 45.84 Q1473.7 39.7232 1470.34 36.0774 Q1467.02 32.4315 1461.51 32.4315 Q1455.27 32.4315 1451.5 35.9558 Q1447.77 39.4801 1447.21 45.8805 L1473.78 45.84 Z\" fill=\"#000000\" fill-rule=\"evenodd\" fill-opacity=\"1\" /><path clip-path=\"url(#clip010)\" d=\"M 0 0 M1522.39 28.5427 L1522.39 35.5912 Q1519.23 33.9709 1515.83 33.1607 Q1512.43 32.3505 1508.78 32.3505 Q1503.23 32.3505 1500.44 34.0519 Q1497.68 35.7533 1497.68 39.156 Q1497.68 41.7486 1499.67 43.2475 Q1501.65 44.7058 1507.65 46.0426 L1510.2 46.6097 Q1518.14 48.3111 1521.46 51.4303 Q1524.82 54.509 1524.82 60.0587 Q1524.82 66.3781 1519.8 70.0644 Q1514.82 73.7508 1506.07 73.7508 Q1502.42 73.7508 1498.45 73.0216 Q1494.52 72.3329 1490.15 70.9151 L1490.15 63.2184 Q1494.28 65.3654 1498.29 66.4591 Q1502.3 67.5124 1506.23 67.5124 Q1511.5 67.5124 1514.33 65.73 Q1517.17 63.9071 1517.17 60.6258 Q1517.17 57.5877 1515.1 55.9673 Q1513.08 54.3469 1506.15 52.8481 L1503.56 52.2405 Q1496.63 50.7821 1493.55 47.7845 Q1490.47 44.7463 1490.47 39.4801 Q1490.47 33.0797 1495.01 29.5959 Q1499.55 26.1121 1507.89 26.1121 Q1512.02 26.1121 1515.67 26.7198 Q1519.31 27.3274 1522.39 28.5427 Z\" fill=\"#000000\" fill-rule=\"evenodd\" fill-opacity=\"1\" /><path clip-path=\"url(#clip010)\" d=\"M 0 0 M1535.92 54.671 L1535.92 27.2059 L1543.38 27.2059 L1543.38 54.3874 Q1543.38 60.8284 1545.89 64.0691 Q1548.4 67.2693 1553.42 67.2693 Q1559.46 67.2693 1562.94 63.421 Q1566.47 59.5726 1566.47 52.9291 L1566.47 27.2059 L1573.92 27.2059 L1573.92 72.576 L1566.47 72.576 L1566.47 65.6084 Q1563.75 69.7404 1560.15 71.7658 Q1556.58 73.7508 1551.84 73.7508 Q1544.02 73.7508 1539.97 68.8897 Q1535.92 64.0286 1535.92 54.671 M1554.68 26.1121 L1554.68 26.1121 Z\" fill=\"#000000\" fill-rule=\"evenodd\" fill-opacity=\"1\" /><path clip-path=\"url(#clip010)\" d=\"M 0 0 M1589.27 9.54393 L1596.73 9.54393 L1596.73 72.576 L1589.27 72.576 L1589.27 9.54393 Z\" fill=\"#000000\" fill-rule=\"evenodd\" fill-opacity=\"1\" /><path clip-path=\"url(#clip010)\" d=\"M 0 0 M1619.7 14.324 L1619.7 27.2059 L1635.05 27.2059 L1635.05 32.9987 L1619.7 32.9987 L1619.7 57.6282 Q1619.7 63.1779 1621.19 64.7578 Q1622.73 66.3376 1627.39 66.3376 L1635.05 66.3376 L1635.05 72.576 L1627.39 72.576 Q1618.76 72.576 1615.48 69.3758 Q1612.2 66.1351 1612.2 57.6282 L1612.2 32.9987 L1606.73 32.9987 L1606.73 27.2059 L1612.2 27.2059 L1612.2 14.324 L1619.7 14.324 Z\" fill=\"#000000\" fill-rule=\"evenodd\" fill-opacity=\"1\" /><path clip-path=\"url(#clip010)\" d=\"M 0 0 M1673.77 28.5427 L1673.77 35.5912 Q1670.62 33.9709 1667.21 33.1607 Q1663.81 32.3505 1660.16 32.3505 Q1654.61 32.3505 1651.82 34.0519 Q1649.06 35.7533 1649.06 39.156 Q1649.06 41.7486 1651.05 43.2475 Q1653.03 44.7058 1659.03 46.0426 L1661.58 46.6097 Q1669.52 48.3111 1672.84 51.4303 Q1676.21 54.509 1676.21 60.0587 Q1676.21 66.3781 1671.18 70.0644 Q1666.2 73.7508 1657.45 73.7508 Q1653.8 73.7508 1649.83 73.0216 Q1645.9 72.3329 1641.53 70.9151 L1641.53 63.2184 Q1645.66 65.3654 1649.67 66.4591 Q1653.68 67.5124 1657.61 67.5124 Q1662.88 67.5124 1665.71 65.73 Q1668.55 63.9071 1668.55 60.6258 Q1668.55 57.5877 1666.48 55.9673 Q1664.46 54.3469 1657.53 52.8481 L1654.94 52.2405 Q1648.01 50.7821 1644.93 47.7845 Q1641.85 44.7463 1641.85 39.4801 Q1641.85 33.0797 1646.39 29.5959 Q1650.93 26.1121 1659.27 26.1121 Q1663.4 26.1121 1667.05 26.7198 Q1670.7 27.3274 1673.77 28.5427 Z\" fill=\"#000000\" fill-rule=\"evenodd\" fill-opacity=\"1\" /><circle clip-path=\"url(#clip012)\" cx=\"2290.54\" cy=\"1447.87\" r=\"14\" fill=\"#ff0000\" fill-rule=\"evenodd\" fill-opacity=\"1\" stroke=\"#000000\" stroke-opacity=\"1\" stroke-width=\"3.2\"/>\n",
       "<circle clip-path=\"url(#clip012)\" cx=\"908\" cy=\"162.047\" r=\"14\" fill=\"#ff0000\" fill-rule=\"evenodd\" fill-opacity=\"1\" stroke=\"#000000\" stroke-opacity=\"1\" stroke-width=\"3.2\"/>\n",
       "<circle clip-path=\"url(#clip012)\" cx=\"216.729\" cy=\"804.96\" r=\"14\" fill=\"#ff0000\" fill-rule=\"evenodd\" fill-opacity=\"1\" stroke=\"#000000\" stroke-opacity=\"1\" stroke-width=\"3.2\"/>\n",
       "<circle clip-path=\"url(#clip012)\" cx=\"562.365\" cy=\"1126.42\" r=\"14\" fill=\"#ff0000\" fill-rule=\"evenodd\" fill-opacity=\"1\" stroke=\"#000000\" stroke-opacity=\"1\" stroke-width=\"3.2\"/>\n",
       "<circle clip-path=\"url(#clip012)\" cx=\"735.182\" cy=\"965.688\" r=\"14\" fill=\"#ff0000\" fill-rule=\"evenodd\" fill-opacity=\"1\" stroke=\"#000000\" stroke-opacity=\"1\" stroke-width=\"3.2\"/>\n",
       "<circle clip-path=\"url(#clip012)\" cx=\"648.774\" cy=\"885.324\" r=\"14\" fill=\"#ff0000\" fill-rule=\"evenodd\" fill-opacity=\"1\" stroke=\"#000000\" stroke-opacity=\"1\" stroke-width=\"3.2\"/>\n",
       "<circle clip-path=\"url(#clip012)\" cx=\"605.569\" cy=\"925.506\" r=\"14\" fill=\"#ff0000\" fill-rule=\"evenodd\" fill-opacity=\"1\" stroke=\"#000000\" stroke-opacity=\"1\" stroke-width=\"3.2\"/>\n",
       "<circle clip-path=\"url(#clip012)\" cx=\"627.171\" cy=\"945.597\" r=\"14\" fill=\"#ff0000\" fill-rule=\"evenodd\" fill-opacity=\"1\" stroke=\"#000000\" stroke-opacity=\"1\" stroke-width=\"3.2\"/>\n",
       "<circle clip-path=\"url(#clip012)\" cx=\"637.972\" cy=\"935.552\" r=\"14\" fill=\"#ff0000\" fill-rule=\"evenodd\" fill-opacity=\"1\" stroke=\"#000000\" stroke-opacity=\"1\" stroke-width=\"3.2\"/>\n",
       "<circle clip-path=\"url(#clip012)\" cx=\"632.572\" cy=\"930.529\" r=\"14\" fill=\"#ff0000\" fill-rule=\"evenodd\" fill-opacity=\"1\" stroke=\"#000000\" stroke-opacity=\"1\" stroke-width=\"3.2\"/>\n",
       "<circle clip-path=\"url(#clip012)\" cx=\"629.872\" cy=\"933.04\" r=\"14\" fill=\"#ff0000\" fill-rule=\"evenodd\" fill-opacity=\"1\" stroke=\"#000000\" stroke-opacity=\"1\" stroke-width=\"3.2\"/>\n",
       "</svg>\n"
      ]
     },
     "execution_count": 102,
     "metadata": {},
     "output_type": "execute_result"
    }
   ],
   "source": [
    "scatter(X_jacobi,Y_jacobi,color=\"red\",leg=false, title=\"Gauss Jacobi Results\")"
   ]
  },
  {
   "cell_type": "markdown",
   "metadata": {},
   "source": [
    "## Exercício 3"
   ]
  },
  {
   "cell_type": "markdown",
   "metadata": {},
   "source": [
    "<center>\n",
    "    <figure>\n",
    "    <img src=\"img/Q3a.jpeg\" width=500 align=center>\n",
    "    </figure>\n",
    "</center>"
   ]
  },
  {
   "cell_type": "markdown",
   "metadata": {},
   "source": [
    "### (b)"
   ]
  },
  {
   "cell_type": "markdown",
   "metadata": {},
   "source": [
    "Uma matriz é diagonal dominante se os modulos dos valores na diagonal sao maiores do que a soma dos modulos dos outros elementos nas respectivas linhas.\n",
    "\n",
    "Nessa matriz sempre temos o valor 4 na diagonal. Em todas as linhas, temos sempre o valor 0 e duas vezes o valor -1.\n",
    "\n",
    "Logo, |0| + |-1| + |-1| = 0 + 1 + 1 = 2 < 4.\n",
    "\n",
    "Logo, a matriz é diagonal dominante."
   ]
  },
  {
   "cell_type": "markdown",
   "metadata": {},
   "source": [
    "### (c)"
   ]
  },
  {
   "cell_type": "code",
   "execution_count": 103,
   "metadata": {},
   "outputs": [
    {
     "data": {
      "text/plain": [
       "gauss_seidel_Q3 (generic function with 1 method)"
      ]
     },
     "execution_count": 103,
     "metadata": {},
     "output_type": "execute_result"
    }
   ],
   "source": [
    "function gauss_seidel_Q3(A,b; max_iter=1000, ϵ = 1e-3, output=true, show_time=false)\n",
    "    t0 = time()\n",
    "    n, m = size(A)\n",
    "    \n",
    "    #Calculando o triangular superior e salvando em M\n",
    "    M = UpperTriangular(A) \n",
    "    K = M - A     \n",
    "    \n",
    "    #Quebrando a matriz A em M -K, sendo M, a sua triangular superior\n",
    "    # pois essa é mais barata de se calcular\n",
    "    R = inv(M) * K\n",
    "    c = inv(M) * b\n",
    "    \n",
    "    #chute inicial\n",
    "    x = zeros(n,1)\n",
    "    x_anterior = x\n",
    "    x = R * x + c\n",
    "\n",
    "    # condicoes de parada\n",
    "    iter = 1\n",
    "    resolvido = (abs(norm(x - x_anterior)) ≤ ϵ)\n",
    "    cansado = (iter ≥ max_iter)\n",
    "    \n",
    "    while !(resolvido || cansado) \n",
    "        x_anterior = x\n",
    "        x=R*x+c \n",
    "        iter +=1\n",
    "        resolvido = (abs(norm(x-x_anterior)) ≤ ϵ)\n",
    "        cansado = (iter ≥ max_iter)\n",
    "    end\n",
    "    \n",
    "    # Tempo do algoritmo\n",
    "    Δt = time() - t0\n",
    "    if show_time\n",
    "        println(\"Tempo total: $Δt\")\n",
    "    end\n",
    "    \n",
    "    # Informacao sobre erro e resultado\n",
    "    if output\n",
    "        print(\"A tolerância final ficou em $(abs(norm(x-x_anterior)))\\n\")\n",
    "        print(\"O resultado final ficou em $x\\n\")\n",
    "    end\n",
    "    \n",
    "    return x\n",
    "end"
   ]
  },
  {
   "cell_type": "code",
   "execution_count": 104,
   "metadata": {},
   "outputs": [
    {
     "data": {
      "text/plain": [
       "gauss_jacobi_Q3 (generic function with 1 method)"
      ]
     },
     "execution_count": 104,
     "metadata": {},
     "output_type": "execute_result"
    }
   ],
   "source": [
    "function gauss_jacobi_Q3(A,b; max_iter=1000, ϵ = 1e-3, output=true, show_time=false)\n",
    "    t0 = time()\n",
    "    n, m = size(A)\n",
    "    \n",
    "    #Calculando o triangular superior e salvando em M\n",
    "    M = Diagonal(A) \n",
    "    K = M - A     \n",
    "    \n",
    "    #Quebrando a matriz A em M -K, sendo M, a sua triangular superior\n",
    "    # pois essa é mais barata de se calcular\n",
    "    R = inv(M) * K\n",
    "    c = inv(M) * b\n",
    "    \n",
    "    #chute inicial\n",
    "    x = zeros(n,1)\n",
    "    x_anterior = x\n",
    "    x = R * x + c\n",
    "    \n",
    "    # condicoes de parada\n",
    "    iter = 1\n",
    "    resolvido = (abs(norm(x - x_anterior)) ≤ ϵ)\n",
    "    cansado = (iter ≥ max_iter)\n",
    "    \n",
    "    while !(resolvido || cansado) \n",
    "        x_anterior = x\n",
    "        x=R*x+c \n",
    "        iter +=1\n",
    "        resolvido = (abs(norm(x-x_anterior)) ≤ ϵ)\n",
    "        cansado = (iter ≥ max_iter)\n",
    "    end\n",
    "    \n",
    "    # Tempo do algoritmo\n",
    "    Δt = time() - t0\n",
    "    if show_time\n",
    "        println(\"Tempo total: $Δt\")\n",
    "    end\n",
    "    \n",
    "    if output\n",
    "        print(\"A tolerância final ficou em $(abs(norm(x-x_anterior)))\\n\")\n",
    "        print(\"O resultado final ficou em $x\\n\")\n",
    "    end\n",
    "    \n",
    "    return x\n",
    "end"
   ]
  },
  {
   "cell_type": "code",
   "execution_count": 105,
   "metadata": {},
   "outputs": [
    {
     "data": {
      "text/plain": [
       "4×4 Matrix{Int64}:\n",
       "  4  -1  -1   0\n",
       " -1   4   0  -1\n",
       " -1   0   4  -1\n",
       "  0  -1  -1   4"
      ]
     },
     "execution_count": 105,
     "metadata": {},
     "output_type": "execute_result"
    }
   ],
   "source": [
    "A = [ 4 -1 -1  0;\n",
    "     -1  4  0 -1;\n",
    "     -1  0  4 -1;\n",
    "      0 -1 -1  4]"
   ]
  },
  {
   "cell_type": "code",
   "execution_count": 106,
   "metadata": {},
   "outputs": [
    {
     "data": {
      "text/plain": [
       "4-element Vector{Int64}:\n",
       " 20\n",
       " 50\n",
       " 15\n",
       " 45"
      ]
     },
     "execution_count": 106,
     "metadata": {},
     "output_type": "execute_result"
    }
   ],
   "source": [
    "b = [20, 50, 15, 45]"
   ]
  },
  {
   "cell_type": "code",
   "execution_count": 107,
   "metadata": {},
   "outputs": [
    {
     "name": "stdout",
     "output_type": "stream",
     "text": [
      "A tolerância final ficou em 0.0006079673767089844\n",
      "O resultado final ficou em [13.124959468841553; 20.624918937683105; 11.874918937683105; 19.37483787536621]\n"
     ]
    },
    {
     "data": {
      "text/plain": [
       "4×1 Matrix{Float64}:\n",
       " 13.124959468841553\n",
       " 20.624918937683105\n",
       " 11.874918937683105\n",
       " 19.37483787536621"
      ]
     },
     "execution_count": 107,
     "metadata": {},
     "output_type": "execute_result"
    }
   ],
   "source": [
    "gauss_seidel_Q3(A,b)"
   ]
  },
  {
   "cell_type": "code",
   "execution_count": 108,
   "metadata": {},
   "outputs": [
    {
     "name": "stdout",
     "output_type": "stream",
     "text": [
      "A tolerância final ficou em 0.0009918212890625\n",
      "O resultado final ficou em [13.124504089355469; 20.62450408935547; 11.874504089355469; 19.37450408935547]\n"
     ]
    },
    {
     "data": {
      "text/plain": [
       "4×1 Matrix{Float64}:\n",
       " 13.124504089355469\n",
       " 20.62450408935547\n",
       " 11.874504089355469\n",
       " 19.37450408935547"
      ]
     },
     "execution_count": 108,
     "metadata": {},
     "output_type": "execute_result"
    }
   ],
   "source": [
    "gauss_jacobi_Q3(A,b)"
   ]
  },
  {
   "cell_type": "markdown",
   "metadata": {},
   "source": [
    "### (d)"
   ]
  },
  {
   "cell_type": "code",
   "execution_count": 109,
   "metadata": {},
   "outputs": [
    {
     "data": {
      "text/plain": [
       "4×4 Matrix{Float64}:\n",
       "  4.0  -1.0  -1.0   0.0\n",
       " -1.0   4.0   0.0  -1.0\n",
       " -1.0   0.0   4.0  -1.0\n",
       "  0.0  -1.0  -1.0   4.0"
      ]
     },
     "execution_count": 109,
     "metadata": {},
     "output_type": "execute_result"
    }
   ],
   "source": [
    "# Construindo a matriz A\n",
    "function create_A(n_lago)\n",
    "    \"\"\" \n",
    "        ENTRADA: numero de linhas na matriz do lago (matriz da figura)\n",
    "        SAIDA: Matriz A que vai representar o calculo das temperaturas\n",
    "        OBS: o numero de linhas da matriz é sempre o numero de linhas no grafico do lago elevado ao quadrado\n",
    "            (mantendo o formato quadrado)\n",
    "    \"\"\"\n",
    "    n = n_lago^2\n",
    "    A = zeros(n,n)\n",
    "\n",
    "    # Preencher diagonal com 4's\n",
    "    for i = 1:n\n",
    "        A[i,i] = 4.0\n",
    "    end\n",
    "\n",
    "    # CANTOS DO LAGO\n",
    "\n",
    "    # Canto superior esquerdo\n",
    "    A[1,2] = -1.0  # vizinho direita\n",
    "    A[1,1+n_lago] = -1.0  # vizinho abaixo\n",
    "\n",
    "    # Canto superior direito\n",
    "    A[n_lago,n_lago-1] = -1.0  # vizinho esquerda\n",
    "    A[n_lago,n_lago+n_lago] = -1.0  # vizinho abaixo\n",
    "\n",
    "    # Canto inferior esquerdo\n",
    "    i = n - n_lago + 1  \n",
    "    A[i,i - n_lago] = -1.0  # vizinho acima\n",
    "    A[i,i+1] = -1.0  # vizinho direita\n",
    "\n",
    "    # Canto inferior direito\n",
    "    A[n,n - n_lago] = -1.0  # vizinho acima\n",
    "    A[n,n-1] = -1.0  # vizinho esquerda\n",
    "\n",
    "    # BORDAS DO LAGO\n",
    "\n",
    "    # Borda superior\n",
    "    for i = 2:n_lago-1\n",
    "        A[i,i-1] = -1.0  # vizinho esquerda\n",
    "        A[i,i+1] = -1.0  # vizinho direita\n",
    "        A[i,i+n_lago] = -1.0  # vizinho abaixo\n",
    "    end\n",
    "\n",
    "    # Borda inferior\n",
    "    x = n - n_lago + 1  # canto inferior esquerdo\n",
    "    for i = x+1:n-1\n",
    "        A[i,i-1] = -1.0  # vizinho esquerda\n",
    "        A[i,i+1] = -1.0  # vizinho direita\n",
    "        A[i,i-n_lago] = -1.0  # vizinho acima\n",
    "    end\n",
    "\n",
    "    # Borda esquerda\n",
    "    x = n - n_lago + 1  # canto inferior esquerdo\n",
    "    for i = n_lago+1:n_lago:x-n_lago\n",
    "        A[i,i-n_lago] = -1.0  # vizinho acima\n",
    "        A[i,i+1] = -1.0  # vizinho direita\n",
    "        A[i,i+n_lago] = -1.0  # vizinho abaixo\n",
    "    end\n",
    "\n",
    "    # Borda direita\n",
    "    for i = 2*n_lago:n_lago:n-n_lago\n",
    "        A[i,i-n_lago] = -1.0  # vizinho acima\n",
    "        A[i,i-1] = -1.0  # vizinho esquerda\n",
    "        A[i,i+n_lago] = -1.0  # vizinho abaixo\n",
    "    end\n",
    "\n",
    "    # Pontos internos\n",
    "    x = n - 2*n_lago + 2  # canto inferior esquerdo \"interno\"\n",
    "    for i = n_lago+2:n_lago:x  # linhas do quadrado interno\n",
    "        for j = 0:(n_lago - 3)  # colunas do quadrado interno\n",
    "            A[i+j,i+j-1] = -1.0  # vizinho esquerda\n",
    "            A[i+j,i+j+1] = -1.0  # vizinho direita\n",
    "            A[i+j,i+j-n_lago] = -1.0  # vizinho acima\n",
    "            A[i+j,i+j+n_lago] = -1.0  # vizinho abaixo\n",
    "        end\n",
    "    end\n",
    "\n",
    "    return A\n",
    "end\n",
    "\n",
    "# Usando a letra c como exemplo\n",
    "A = create_A(2)"
   ]
  },
  {
   "cell_type": "code",
   "execution_count": 110,
   "metadata": {},
   "outputs": [
    {
     "data": {
      "text/plain": [
       "4-element Vector{Float64}:\n",
       " 20.0\n",
       " 50.0\n",
       " 15.0\n",
       " 45.0"
      ]
     },
     "execution_count": 110,
     "metadata": {},
     "output_type": "execute_result"
    }
   ],
   "source": [
    "# Construindo vetor b\n",
    "function create_b(n_lago, T_LEFT, T_TOP, T_RIGHT, T_BOTTOM)\n",
    "    n = n_lago^2\n",
    "    b = zeros(n)\n",
    "    #T_LEFT = 5.0 #25.0\n",
    "    #T_RIGHT = 35.0 #20.0\n",
    "    #T_TOP = 15.0 #20.0\n",
    "    #T_BOTTOM = 10.0 #30.0\n",
    "\n",
    "    # CANTOS DO LAGO\n",
    "\n",
    "    # Canto superior esquerdo\n",
    "    b[1] = T_LEFT + T_TOP\n",
    "\n",
    "    # Canto superior direito\n",
    "    b[n_lago] = T_RIGHT + T_TOP\n",
    "\n",
    "    # Canto inferior esquerdo\n",
    "    i = n - n_lago + 1  \n",
    "    b[i] = T_LEFT + T_BOTTOM\n",
    "\n",
    "    # Canto inferior direito\n",
    "    b[n] = T_RIGHT + T_BOTTOM\n",
    "\n",
    "    # BORDAS DO LAGO\n",
    "\n",
    "    # Borda superior\n",
    "    for i = 2:n_lago-1\n",
    "        b[i] = T_TOP\n",
    "    end\n",
    "\n",
    "    # Borda inferior\n",
    "    x = n - n_lago + 1  # canto inferior esquerdo\n",
    "    for i = x+1:n-1\n",
    "        b[i] = T_BOTTOM\n",
    "    end\n",
    "\n",
    "    # Borda esquerda\n",
    "    x = n - n_lago + 1  # canto inferior esquerdo\n",
    "    for i = n_lago+1:n_lago:x-n_lago\n",
    "        b[i] = T_LEFT\n",
    "    end\n",
    "\n",
    "    # Borda direita\n",
    "    for i = 2*n_lago:n_lago:n-n_lago\n",
    "        b[i] = T_RIGHT\n",
    "    end\n",
    "\n",
    "    # Para os pontos internos vamos manter os zeros\n",
    "\n",
    "    return b\n",
    "end\n",
    "\n",
    "# Usando a letra c como exemplo\n",
    "b = create_b(2, 5.0, 15.0, 35.0, 10.0)"
   ]
  },
  {
   "cell_type": "code",
   "execution_count": 111,
   "metadata": {},
   "outputs": [
    {
     "data": {
      "text/plain": [
       "25×25 Matrix{Float64}:\n",
       "  4.0  -1.0   0.0   0.0   0.0  -1.0  …   0.0   0.0   0.0   0.0   0.0   0.0\n",
       " -1.0   4.0  -1.0   0.0   0.0   0.0      0.0   0.0   0.0   0.0   0.0   0.0\n",
       "  0.0  -1.0   4.0  -1.0   0.0   0.0      0.0   0.0   0.0   0.0   0.0   0.0\n",
       "  0.0   0.0  -1.0   4.0  -1.0   0.0      0.0   0.0   0.0   0.0   0.0   0.0\n",
       "  0.0   0.0   0.0  -1.0   4.0   0.0      0.0   0.0   0.0   0.0   0.0   0.0\n",
       " -1.0   0.0   0.0   0.0   0.0   4.0  …   0.0   0.0   0.0   0.0   0.0   0.0\n",
       "  0.0  -1.0   0.0   0.0   0.0  -1.0      0.0   0.0   0.0   0.0   0.0   0.0\n",
       "  0.0   0.0  -1.0   0.0   0.0   0.0      0.0   0.0   0.0   0.0   0.0   0.0\n",
       "  0.0   0.0   0.0  -1.0   0.0   0.0      0.0   0.0   0.0   0.0   0.0   0.0\n",
       "  0.0   0.0   0.0   0.0  -1.0   0.0      0.0   0.0   0.0   0.0   0.0   0.0\n",
       "  0.0   0.0   0.0   0.0   0.0  -1.0  …   0.0   0.0   0.0   0.0   0.0   0.0\n",
       "  0.0   0.0   0.0   0.0   0.0   0.0      0.0   0.0   0.0   0.0   0.0   0.0\n",
       "  0.0   0.0   0.0   0.0   0.0   0.0      0.0   0.0   0.0   0.0   0.0   0.0\n",
       "  0.0   0.0   0.0   0.0   0.0   0.0      0.0   0.0   0.0   0.0   0.0   0.0\n",
       "  0.0   0.0   0.0   0.0   0.0   0.0     -1.0   0.0   0.0   0.0   0.0   0.0\n",
       "  0.0   0.0   0.0   0.0   0.0   0.0  …   0.0  -1.0   0.0   0.0   0.0   0.0\n",
       "  0.0   0.0   0.0   0.0   0.0   0.0      0.0   0.0  -1.0   0.0   0.0   0.0\n",
       "  0.0   0.0   0.0   0.0   0.0   0.0      0.0   0.0   0.0  -1.0   0.0   0.0\n",
       "  0.0   0.0   0.0   0.0   0.0   0.0     -1.0   0.0   0.0   0.0  -1.0   0.0\n",
       "  0.0   0.0   0.0   0.0   0.0   0.0      4.0   0.0   0.0   0.0   0.0  -1.0\n",
       "  0.0   0.0   0.0   0.0   0.0   0.0  …   0.0   4.0  -1.0   0.0   0.0   0.0\n",
       "  0.0   0.0   0.0   0.0   0.0   0.0      0.0  -1.0   4.0  -1.0   0.0   0.0\n",
       "  0.0   0.0   0.0   0.0   0.0   0.0      0.0   0.0  -1.0   4.0  -1.0   0.0\n",
       "  0.0   0.0   0.0   0.0   0.0   0.0      0.0   0.0   0.0  -1.0   4.0  -1.0\n",
       "  0.0   0.0   0.0   0.0   0.0   0.0     -1.0   0.0   0.0   0.0  -1.0   4.0"
      ]
     },
     "execution_count": 111,
     "metadata": {},
     "output_type": "execute_result"
    }
   ],
   "source": [
    "# Resolvendo o exercicio em si\n",
    "A = create_A(5)"
   ]
  },
  {
   "cell_type": "code",
   "execution_count": 112,
   "metadata": {},
   "outputs": [
    {
     "data": {
      "text/plain": [
       "25-element Vector{Float64}:\n",
       " 45.0\n",
       " 20.0\n",
       " 20.0\n",
       " 20.0\n",
       " 40.0\n",
       " 25.0\n",
       "  0.0\n",
       "  0.0\n",
       "  0.0\n",
       " 20.0\n",
       " 25.0\n",
       "  0.0\n",
       "  0.0\n",
       "  0.0\n",
       " 20.0\n",
       " 25.0\n",
       "  0.0\n",
       "  0.0\n",
       "  0.0\n",
       " 20.0\n",
       " 55.0\n",
       " 30.0\n",
       " 30.0\n",
       " 30.0\n",
       " 50.0"
      ]
     },
     "execution_count": 112,
     "metadata": {},
     "output_type": "execute_result"
    }
   ],
   "source": [
    "b = create_b(5, 25.0, 20.0, 20.0, 30.0)"
   ]
  },
  {
   "cell_type": "code",
   "execution_count": 113,
   "metadata": {},
   "outputs": [
    {
     "data": {
      "text/plain": [
       "5×5 Matrix{Float64}:\n",
       " 22.6565  23.8638  24.693   25.6011  27.0301\n",
       " 21.7621  23.1056  24.3072  25.6813  27.5195\n",
       " 21.2862  22.4896  23.7493  25.2975  27.3668\n",
       " 20.8933  21.8176  22.903   24.3932  26.6507\n",
       " 20.4695  20.9848  21.6524  22.7221  24.8431"
      ]
     },
     "execution_count": 113,
     "metadata": {},
     "output_type": "execute_result"
    }
   ],
   "source": [
    "x = gauss_seidel_Q3(A,b, output=false)\n",
    "reshape(x, (5,5))"
   ]
  },
  {
   "cell_type": "code",
   "execution_count": 114,
   "metadata": {},
   "outputs": [
    {
     "data": {
      "text/plain": [
       "5×5 Matrix{Float64}:\n",
       " 22.656   23.8631  24.6922  25.6005  27.0298\n",
       " 21.7614  23.1045  24.306   25.6803  27.519\n",
       " 21.2855  22.4884  23.7479  25.2965  27.3663\n",
       " 20.8927  21.8166  22.902   24.3924  26.6503\n",
       " 20.4692  20.9843  21.6518  22.7217  24.8429"
      ]
     },
     "execution_count": 114,
     "metadata": {},
     "output_type": "execute_result"
    }
   ],
   "source": [
    "x = gauss_jacobi_Q3(A,b, output=false)\n",
    "reshape(x, (5,5))"
   ]
  },
  {
   "cell_type": "markdown",
   "metadata": {},
   "source": [
    "### (e)"
   ]
  },
  {
   "cell_type": "code",
   "execution_count": null,
   "metadata": {},
   "outputs": [],
   "source": [
    "n_lago = 104\n",
    "A = create_A(n_lago)\n",
    "b = create_b(n_lago, 25.0, 20.0, 20.0, 30.0)\n",
    "x = gauss_seidel_Q3(A,b,output=false,show_time=true)\n",
    "reshape(x, (n_lago,n_lago))"
   ]
  },
  {
   "cell_type": "markdown",
   "metadata": {},
   "source": [
    "## Exercício 4"
   ]
  },
  {
   "cell_type": "code",
   "execution_count": 116,
   "metadata": {},
   "outputs": [
    {
     "data": {
      "text/plain": [
       "8×8 Matrix{Float64}:\n",
       "  1.0   0.0   0.0   0.0   0.0   0.0   0.0  0.0\n",
       "  0.0   1.0   0.0   0.0   0.0   0.0   0.0  0.0\n",
       "  0.0   0.0   1.0   0.0   0.0   0.0   0.0  0.0\n",
       " -1.0   0.0   0.0   1.0   0.0   0.0   0.0  0.0\n",
       "  0.0   0.0  -1.0   0.0   1.0   0.0   0.0  0.0\n",
       "  0.0  -1.0   0.0  -1.0   0.0   1.0   0.0  0.0\n",
       "  0.0   0.0   0.0   0.0  -1.0   0.0   1.0  0.0\n",
       "  0.0   0.0   0.0   0.0   0.0  -1.0  -1.0  1.0"
      ]
     },
     "execution_count": 116,
     "metadata": {},
     "output_type": "execute_result"
    }
   ],
   "source": [
    "# Construir matriz A\n",
    "A = zeros(8,8)\n",
    "for i = 1:8\n",
    "    A[i,i] = 1.0\n",
    "end\n",
    "\n",
    "A[4,1] = -1.0\n",
    "A[5,3] = -1.0\n",
    "A[6,4] = -1.0\n",
    "A[6,2] = -1.0\n",
    "A[7,5] = -1.0\n",
    "A[8,6] = -1.0\n",
    "A[8,7] = -1.0\n",
    "\n",
    "A"
   ]
  },
  {
   "cell_type": "code",
   "execution_count": 117,
   "metadata": {},
   "outputs": [
    {
     "data": {
      "text/plain": [
       "8-element Vector{Int64}:\n",
       "  7000\n",
       "  3500\n",
       "  9000\n",
       " 30000\n",
       "  3000\n",
       "     0\n",
       "  3000\n",
       "   500"
      ]
     },
     "execution_count": 117,
     "metadata": {},
     "output_type": "execute_result"
    }
   ],
   "source": [
    "# Cada elemento de b é a soma das demandas com valores explicitos\n",
    "# associados a uma junta A,B,C...\n",
    "b = [7000, 3500, 9000, 30000, 3000, 0, 3000, 500]"
   ]
  },
  {
   "cell_type": "code",
   "execution_count": 118,
   "metadata": {},
   "outputs": [
    {
     "name": "stdout",
     "output_type": "stream",
     "text": [
      "A tolerância final ficou em 0.0\n",
      "O resultado final ficou em [7000.0; 3500.0; 9000.0; 37000.0; 12000.0; 40500.0; 15000.0; 56000.0]\n"
     ]
    },
    {
     "data": {
      "text/plain": [
       "8×1 Matrix{Float64}:\n",
       "  7000.0\n",
       "  3500.0\n",
       "  9000.0\n",
       " 37000.0\n",
       " 12000.0\n",
       " 40500.0\n",
       " 15000.0\n",
       " 56000.0"
      ]
     },
     "execution_count": 118,
     "metadata": {},
     "output_type": "execute_result"
    }
   ],
   "source": [
    "# O método converge, mesmo sem respeitar o critério das linhas\n",
    "gauss_seidel_Q3(A,b)"
   ]
  },
  {
   "cell_type": "code",
   "execution_count": 119,
   "metadata": {},
   "outputs": [
    {
     "name": "stdout",
     "output_type": "stream",
     "text": [
      "A tolerância final ficou em 0.0\n",
      "O resultado final ficou em [7000.0; 3500.0; 9000.0; 37000.0; 12000.0; 40500.0; 15000.0; 56000.0]\n"
     ]
    },
    {
     "data": {
      "text/plain": [
       "8×1 Matrix{Float64}:\n",
       "  7000.0\n",
       "  3500.0\n",
       "  9000.0\n",
       " 37000.0\n",
       " 12000.0\n",
       " 40500.0\n",
       " 15000.0\n",
       " 56000.0"
      ]
     },
     "execution_count": 119,
     "metadata": {},
     "output_type": "execute_result"
    }
   ],
   "source": [
    "# O método converge, mesmo sem respeitar o critério das linhas\n",
    "gauss_jacobi_Q3(A,b)"
   ]
  },
  {
   "cell_type": "markdown",
   "metadata": {},
   "source": [
    "### (b)"
   ]
  },
  {
   "cell_type": "code",
   "execution_count": 120,
   "metadata": {},
   "outputs": [],
   "source": [
    "# codigo julia"
   ]
  },
  {
   "cell_type": "markdown",
   "metadata": {},
   "source": [
    "## Exercício 5\n",
    "\n",
    "Abaixo determinaremos uma matriz M de posto 1 (tal que $M = bc^T$) que melhor representa a matriz A e o erro para:\n",
    "\n",
    "### (a) $\n",
    "\\begin{bmatrix}\n",
    "0 & 1 & 3 \\\\\n",
    "3 & 1 & 0 \\\\\n",
    "\\end{bmatrix}\n",
    "$"
   ]
  },
  {
   "cell_type": "code",
   "execution_count": 121,
   "metadata": {},
   "outputs": [
    {
     "data": {
      "text/plain": [
       "2×3 Matrix{Int64}:\n",
       " 0  1  3\n",
       " 3  1  0"
      ]
     },
     "execution_count": 121,
     "metadata": {},
     "output_type": "execute_result"
    }
   ],
   "source": [
    "A = [0 1 3;\n",
    "     3 1 0]"
   ]
  },
  {
   "cell_type": "code",
   "execution_count": 122,
   "metadata": {},
   "outputs": [
    {
     "data": {
      "text/plain": [
       "melhorMatrizM (generic function with 1 method)"
      ]
     },
     "execution_count": 122,
     "metadata": {},
     "output_type": "execute_result"
    }
   ],
   "source": [
    "function melhorMatrizM(A)\n",
    "    n,m = size(A)\n",
    "    erroFinal = 0.0\n",
    "\n",
    "    b1 = randn(n,1)\n",
    "    c1 = randn(m,1)\n",
    "    \n",
    "    b2 = randn(m,1)\n",
    "    c2 = randn(n,1)\n",
    "    \n",
    "    erro1 = norm(A-b1*c1')\n",
    "    print(\"Erro inicial: \", erro1, \"\\n\")\n",
    "    \n",
    "    for i = 1:50\n",
    "        c1 = melhores_coords(A,b1) # Acha melhores coordenadas para A\n",
    "        b2 = c1 # Trocamos de mundo e colocamos base no lugar de coordenada e vice-versa (aqui queremos minimizar o erro ||A'-b'c||)\n",
    "        c2 = melhores_coords(A',b2) # Acha melhpres coordenadas para A'\n",
    "        b1 = c2 # Trocamos de mundo novamente para retornamos ao mundo ininicial (onde queremos minimizar o erro ||A-bc'||)\n",
    "        \n",
    "        erroFinal = norm(A'-b2*c2')\n",
    "        \n",
    "        # Erros de b e c no mundo 2, onde trocamos base por coordenadas e vice-versa\n",
    "        #      A              |           A'\n",
    "        # norm(A-b*c') <- é igual a -> norm(A'-b'*c)\n",
    "        #erro2 = norm(A'-b2*c2')\n",
    "        #print(erro2, \"\\n\")\n",
    "    end\n",
    "    print(\"Erro final: \", erroFinal, \"\\n\")\n",
    "    \n",
    "    return b1,c1\n",
    "end"
   ]
  },
  {
   "cell_type": "code",
   "execution_count": 123,
   "metadata": {},
   "outputs": [
    {
     "name": "stdout",
     "output_type": "stream",
     "text": [
      "Erro inicial: 3.431308401392301\n",
      "Erro final: 3.0000000229484804\n"
     ]
    },
    {
     "data": {
      "text/plain": [
       "([0.7747605235924782; 0.7751283670938743], [1.936183968567303; 1.290414993182793; 1.9350610109810766])"
      ]
     },
     "execution_count": 123,
     "metadata": {},
     "output_type": "execute_result"
    }
   ],
   "source": [
    "b,c = melhorMatrizM(A)"
   ]
  },
  {
   "cell_type": "code",
   "execution_count": 124,
   "metadata": {},
   "outputs": [
    {
     "data": {
      "text/plain": [
       "2×1 Matrix{Float64}:\n",
       " 1.0\n",
       " 1.0004747834849541"
      ]
     },
     "execution_count": 124,
     "metadata": {},
     "output_type": "execute_result"
    }
   ],
   "source": [
    "# Vetor b dividido pela primeira coordenada\n",
    "b/b[1]"
   ]
  },
  {
   "cell_type": "code",
   "execution_count": 125,
   "metadata": {},
   "outputs": [
    {
     "data": {
      "text/plain": [
       "1×3 Matrix{Float64}:\n",
       " 1.50008  0.999763  1.49921"
      ]
     },
     "execution_count": 125,
     "metadata": {},
     "output_type": "execute_result"
    }
   ],
   "source": [
    "# Vetor c' multiplicado pela primeira coordenada\n",
    "c'*b[1]"
   ]
  },
  {
   "cell_type": "code",
   "execution_count": 126,
   "metadata": {},
   "outputs": [
    {
     "data": {
      "text/plain": [
       "2×3 Matrix{Float64}:\n",
       " 1.50008  0.999763  1.49921\n",
       " 1.50079  1.00024   1.49992"
      ]
     },
     "execution_count": 126,
     "metadata": {},
     "output_type": "execute_result"
    }
   ],
   "source": [
    "# Para reconstruir a matriz A, aproximadamente, temos a matriz M = bc'\n",
    "M = b*c'"
   ]
  },
  {
   "cell_type": "code",
   "execution_count": 127,
   "metadata": {},
   "outputs": [
    {
     "name": "stdout",
     "output_type": "stream",
     "text": [
      "Erro de M: 3.0000000229484804"
     ]
    }
   ],
   "source": [
    "print(\"Erro de M: \", norm(A-b*c'))"
   ]
  },
  {
   "cell_type": "markdown",
   "metadata": {},
   "source": [
    "Abaixo determinaremos uma matriz M de posto 1 (tal que $M = bc^T$) que melhor representa a matriz A e o erro para:\n",
    "\n",
    "### (b) $\n",
    "\\begin{bmatrix}\n",
    "0 & 1 & 3 & 2\\\\\n",
    "2 & 3 & 1 & 0\\\\\n",
    "\\end{bmatrix}\n",
    "$\n"
   ]
  },
  {
   "cell_type": "code",
   "execution_count": 128,
   "metadata": {},
   "outputs": [
    {
     "data": {
      "text/plain": [
       "2×4 Matrix{Int64}:\n",
       " 0  1  3  2\n",
       " 2  3  1  0"
      ]
     },
     "execution_count": 128,
     "metadata": {},
     "output_type": "execute_result"
    }
   ],
   "source": [
    "A = [0 1 3 2;\n",
    "     2 3 1 0]"
   ]
  },
  {
   "cell_type": "code",
   "execution_count": 129,
   "metadata": {},
   "outputs": [
    {
     "name": "stdout",
     "output_type": "stream",
     "text": [
      "Erro inicial: 5.380199659458942\n",
      "Erro final: 2.8284271247461903\n"
     ]
    },
    {
     "data": {
      "text/plain": [
       "([-0.7019748092953249; -0.7019748092953247], [-1.4245525434222444; -2.8491050868444887; -2.849105086844489; -1.4245525434222446])"
      ]
     },
     "execution_count": 129,
     "metadata": {},
     "output_type": "execute_result"
    }
   ],
   "source": [
    "b,c = melhorMatrizM(A)"
   ]
  },
  {
   "cell_type": "code",
   "execution_count": 130,
   "metadata": {},
   "outputs": [
    {
     "data": {
      "text/plain": [
       "2×1 Matrix{Float64}:\n",
       " 1.0\n",
       " 0.9999999999999999"
      ]
     },
     "execution_count": 130,
     "metadata": {},
     "output_type": "execute_result"
    }
   ],
   "source": [
    "# Vetor b dividido pela primeira coordenada\n",
    "b/b[1]"
   ]
  },
  {
   "cell_type": "code",
   "execution_count": 131,
   "metadata": {},
   "outputs": [
    {
     "data": {
      "text/plain": [
       "1×4 Matrix{Float64}:\n",
       " 1.0  2.0  2.0  1.0"
      ]
     },
     "execution_count": 131,
     "metadata": {},
     "output_type": "execute_result"
    }
   ],
   "source": [
    "# Vetor c' multiplicado pela primeira coordenada\n",
    "c'*b[1]"
   ]
  },
  {
   "cell_type": "code",
   "execution_count": 132,
   "metadata": {},
   "outputs": [
    {
     "data": {
      "text/plain": [
       "2×4 Matrix{Float64}:\n",
       " 1.0  2.0  2.0  1.0\n",
       " 1.0  2.0  2.0  1.0"
      ]
     },
     "execution_count": 132,
     "metadata": {},
     "output_type": "execute_result"
    }
   ],
   "source": [
    "# Para reconstruir a matriz A, aproximadamente, temos a matriz M = bc'\n",
    "M = b*c'"
   ]
  },
  {
   "cell_type": "code",
   "execution_count": 133,
   "metadata": {},
   "outputs": [
    {
     "name": "stdout",
     "output_type": "stream",
     "text": [
      "Erro de M: 2.8284271247461903"
     ]
    }
   ],
   "source": [
    "print(\"Erro de M: \", norm(A-b*c'))"
   ]
  },
  {
   "cell_type": "markdown",
   "metadata": {},
   "source": [
    "### (c) \n",
    "A representação gráfica das soluções acima nos desenhos citados na lista é uma reta que minimiza a diferença entre todos esses pontos e a reta (projeção ortogonal). Em outras palavras, a solução gráfica é uma única reta que contém N vetores (posto 1) que mais se aproximam dos N pontos passados."
   ]
  },
  {
   "cell_type": "markdown",
   "metadata": {},
   "source": [
    "## Exercício 6\n",
    "\n",
    "Consideraremos a bandeira da grécia como uma imagem preta e branca modelada na matriz A abaixo:\n",
    "\n",
    "Considerando 0 como a cor preto e 1 a cor branco, temos:\n",
    "\n",
    "$\n",
    "\\begin{bmatrix}\n",
    "    0 & 1 & 0 & 0 & 0 & 0 & 0 & 0 & 0 \\\\\n",
    "    0 & 1 & 0 & 1 & 1 & 1 & 1 & 1 & 1 \\\\\n",
    "    1 & 1 & 1 & 0 & 0 & 0 & 0 & 0 & 0 \\\\\n",
    "    0 & 1 & 0 & 1 & 1 & 1 & 1 & 1 & 1 \\\\\n",
    "    0 & 1 & 0 & 0 & 0 & 0 & 0 & 0 & 0 \\\\\n",
    "    1 & 1 & 1 & 1 & 1 & 1 & 1 & 1 & 1 \\\\\n",
    "    0 & 0 & 0 & 0 & 0 & 0 & 0 & 0 & 0 \\\\\n",
    "    1 & 1 & 1 & 1 & 1 & 1 & 1 & 1 & 1 \\\\\n",
    "    0 & 0 & 0 & 0 & 0 & 0 & 0 & 0 & 0 \\\\\n",
    "\\end{bmatrix}\n",
    "$"
   ]
  },
  {
   "cell_type": "code",
   "execution_count": 134,
   "metadata": {},
   "outputs": [
    {
     "data": {
      "image/png": "[encoded data removed]",
      "text/plain": [
       "9×9 Array{Gray{N0f8},2} with eltype Gray{N0f8}:\n",
       " Gray{N0f8}(0.0)  Gray{N0f8}(1.0)  …  Gray{N0f8}(0.0)  Gray{N0f8}(0.0)\n",
       " Gray{N0f8}(0.0)  Gray{N0f8}(1.0)     Gray{N0f8}(1.0)  Gray{N0f8}(1.0)\n",
       " Gray{N0f8}(1.0)  Gray{N0f8}(1.0)     Gray{N0f8}(0.0)  Gray{N0f8}(0.0)\n",
       " Gray{N0f8}(0.0)  Gray{N0f8}(1.0)     Gray{N0f8}(1.0)  Gray{N0f8}(1.0)\n",
       " Gray{N0f8}(0.0)  Gray{N0f8}(1.0)     Gray{N0f8}(0.0)  Gray{N0f8}(0.0)\n",
       " Gray{N0f8}(1.0)  Gray{N0f8}(1.0)  …  Gray{N0f8}(1.0)  Gray{N0f8}(1.0)\n",
       " Gray{N0f8}(0.0)  Gray{N0f8}(0.0)     Gray{N0f8}(0.0)  Gray{N0f8}(0.0)\n",
       " Gray{N0f8}(1.0)  Gray{N0f8}(1.0)     Gray{N0f8}(1.0)  Gray{N0f8}(1.0)\n",
       " Gray{N0f8}(0.0)  Gray{N0f8}(0.0)     Gray{N0f8}(0.0)  Gray{N0f8}(0.0)"
      ]
     },
     "metadata": {},
     "output_type": "display_data"
    },
    {
     "data": {
      "text/plain": [
       "3"
      ]
     },
     "execution_count": 134,
     "metadata": {},
     "output_type": "execute_result"
    }
   ],
   "source": [
    "greece = [0   1   0   0   0   0   0   0   0 ;\n",
    "          0   1   0   1   1   1   1   1   1 ;\n",
    "          1   1   1   0   0   0   0   0   0 ;\n",
    "          0   1   0   1   1   1   1   1   1 ;\n",
    "          0   1   0   0   0   0   0   0   0 ;\n",
    "          1   1   1   1   1   1   1   1   1 ;\n",
    "          0   0   0   0   0   0   0   0   0 ;\n",
    "          1   1   1   1   1   1   1   1   1 ;\n",
    "          0   0   0   0   0   0   0   0   0 ]\n",
    "\n",
    "display(Gray.(greece))\n",
    "rank(greece)"
   ]
  },
  {
   "cell_type": "markdown",
   "metadata": {},
   "source": [
    "### (a)\n",
    "O posto da bandeira da Grécia, tal que $A = BC^T$ é igual a 3, ou seja, com 3 colunas da bandeira, conseguimos reconstruir completamente a bandeira original (sem perdas).\n",
    "\n",
    "No caso da bandeira da Grécia, a matriz B representa pedaços verticais do desenho da bandeira que se repetem de intervalos verticais em intervalos verticais da bandeira. Em outras palavras, com 3 faixas verticais da bandeira, conseguimos fazer algumas repetições até que a bandeira esteja completa."
   ]
  },
  {
   "cell_type": "markdown",
   "metadata": {},
   "source": [
    "### (b)\n",
    "Dois países tais quais sua bandeira tem posto = 1:\n",
    "- Alemanha\n",
    "- Austria"
   ]
  },
  {
   "cell_type": "code",
   "execution_count": 135,
   "metadata": {},
   "outputs": [
    {
     "data": {
      "image/png": "[encoded data removed]",
      "text/plain": [
       "3×5 Array{Gray{Float64},2} with eltype Gray{Float64}:\n",
       " Gray{Float64}(0.0)   Gray{Float64}(0.0)   …  Gray{Float64}(0.0)\n",
       " Gray{Float64}(0.5)   Gray{Float64}(0.5)      Gray{Float64}(0.5)\n",
       " Gray{Float64}(0.75)  Gray{Float64}(0.75)     Gray{Float64}(0.75)"
      ]
     },
     "metadata": {},
     "output_type": "display_data"
    },
    {
     "data": {
      "text/plain": [
       "1"
      ]
     },
     "execution_count": 135,
     "metadata": {},
     "output_type": "execute_result"
    }
   ],
   "source": [
    "germany = [0    0    0    0    0   ; # preto\n",
    "           0.5  0.5  0.5  0.5  0.5 ; # vermelho\n",
    "           0.75 0.75 0.75 0.75 0.75] # amarelo\n",
    "\n",
    "display(Gray.(germany))\n",
    "rank(germany)"
   ]
  },
  {
   "cell_type": "code",
   "execution_count": 136,
   "metadata": {},
   "outputs": [
    {
     "data": {
      "image/png": "[encoded data removed]",
      "text/plain": [
       "3×5 Array{Gray{Float64},2} with eltype Gray{Float64}:\n",
       " Gray{Float64}(0.5)  Gray{Float64}(0.5)  …  Gray{Float64}(0.5)\n",
       " Gray{Float64}(1.0)  Gray{Float64}(1.0)     Gray{Float64}(1.0)\n",
       " Gray{Float64}(0.5)  Gray{Float64}(0.5)     Gray{Float64}(0.5)"
      ]
     },
     "metadata": {},
     "output_type": "display_data"
    },
    {
     "data": {
      "text/plain": [
       "1"
      ]
     },
     "execution_count": 136,
     "metadata": {},
     "output_type": "execute_result"
    }
   ],
   "source": [
    "austria = [0.5 0.5 0.5 0.5 0.5; # vermelho\n",
    "           1   1   1   1   1  ; # branco\n",
    "           0.5 0.5 0.5 0.5 0.5] # vermelho\n",
    "\n",
    "display(Gray.(austria))\n",
    "rank(austria)"
   ]
  },
  {
   "cell_type": "markdown",
   "metadata": {},
   "source": [
    "### (c)\n",
    "Dois países tais quais sua bandeira tem posto = 2:\n",
    "- Chile\n",
    "- Finlândia"
   ]
  },
  {
   "cell_type": "code",
   "execution_count": 137,
   "metadata": {},
   "outputs": [
    {
     "data": {
      "image/png": "[encoded data removed]",
      "text/plain": [
       "2×3 Array{Gray{Float64},2} with eltype Gray{Float64}:\n",
       " Gray{Float64}(0.3)  Gray{Float64}(1.0)  Gray{Float64}(1.0)\n",
       " Gray{Float64}(0.5)  Gray{Float64}(0.5)  Gray{Float64}(0.5)"
      ]
     },
     "metadata": {},
     "output_type": "display_data"
    },
    {
     "data": {
      "text/plain": [
       "2"
      ]
     },
     "execution_count": 137,
     "metadata": {},
     "output_type": "execute_result"
    }
   ],
   "source": [
    "chile = [0.3  1    1   ; # azul / branco\n",
    "         0.5  0.5  0.5 ] # vermelho  \n",
    "\n",
    "display(Gray.(chile))\n",
    "rank(chile)"
   ]
  },
  {
   "cell_type": "code",
   "execution_count": 138,
   "metadata": {},
   "outputs": [
    {
     "data": {
      "image/png": "[encoded data removed]",
      "text/plain": [
       "3×5 Array{Gray{Float64},2} with eltype Gray{Float64}:\n",
       " Gray{Float64}(1.0)  Gray{Float64}(0.3)  …  Gray{Float64}(1.0)\n",
       " Gray{Float64}(0.3)  Gray{Float64}(0.3)     Gray{Float64}(0.3)\n",
       " Gray{Float64}(1.0)  Gray{Float64}(0.3)     Gray{Float64}(1.0)"
      ]
     },
     "metadata": {},
     "output_type": "display_data"
    },
    {
     "data": {
      "text/plain": [
       "2"
      ]
     },
     "execution_count": 138,
     "metadata": {},
     "output_type": "execute_result"
    }
   ],
   "source": [
    "finland = [1    0.3  1    1    1   ; # branco / azul  / branco\n",
    "           0.3  0.3  0.3  0.3  0.3 ; # azul\n",
    "           1    0.3  1    1    1   ] # branco / azul  / branco\n",
    "\n",
    "display(Gray.(finland))\n",
    "rank(finland)"
   ]
  },
  {
   "cell_type": "markdown",
   "metadata": {},
   "source": [
    "### (d)\n",
    "Dois países tais quais sua bandeira tem posto = 3:\n",
    "- Suíça\n",
    "- Noruega"
   ]
  },
  {
   "cell_type": "code",
   "execution_count": 139,
   "metadata": {},
   "outputs": [
    {
     "data": {
      "image/png": "[encoded data removed]",
      "text/plain": [
       "5×5 Array{Gray{Float64},2} with eltype Gray{Float64}:\n",
       " Gray{Float64}(0.5)  Gray{Float64}(0.5)  …  Gray{Float64}(0.5)\n",
       " Gray{Float64}(0.5)  Gray{Float64}(0.5)     Gray{Float64}(0.5)\n",
       " Gray{Float64}(0.5)  Gray{Float64}(1.0)     Gray{Float64}(0.5)\n",
       " Gray{Float64}(0.5)  Gray{Float64}(0.5)     Gray{Float64}(0.5)\n",
       " Gray{Float64}(0.5)  Gray{Float64}(0.5)     Gray{Float64}(0.5)"
      ]
     },
     "metadata": {},
     "output_type": "display_data"
    },
    {
     "data": {
      "text/plain": [
       "3"
      ]
     },
     "execution_count": 139,
     "metadata": {},
     "output_type": "execute_result"
    }
   ],
   "source": [
    "switz = [0.5  0.5  0.5  0.5  0.5 ; # vermelho\n",
    "         0.5  0.5  1    0.5  0.5 ; # vermelho / branco / vermelho\n",
    "         0.5  1    1    1    0.5 ; # vermelho / branco / vermelho\n",
    "         0.5  0.5  1    0.5  0.5 ; # vermelho / branco / vermelho\n",
    "         0.5  0.5  0.5  0.5  0.5 ] # vermelho\n",
    "\n",
    "display(Gray.(switz))\n",
    "rank(switz)"
   ]
  },
  {
   "cell_type": "code",
   "execution_count": 140,
   "metadata": {},
   "outputs": [
    {
     "data": {
      "image/png": "[encoded data removed]",
      "text/plain": [
       "7×11 Array{Gray{Float64},2} with eltype Gray{Float64}:\n",
       " Gray{Float64}(0.5)  Gray{Float64}(0.5)  …  Gray{Float64}(0.5)\n",
       " Gray{Float64}(0.5)  Gray{Float64}(0.5)     Gray{Float64}(0.5)\n",
       " Gray{Float64}(1.0)  Gray{Float64}(1.0)     Gray{Float64}(1.0)\n",
       " Gray{Float64}(0.3)  Gray{Float64}(0.3)     Gray{Float64}(0.3)\n",
       " Gray{Float64}(1.0)  Gray{Float64}(1.0)     Gray{Float64}(1.0)\n",
       " Gray{Float64}(0.5)  Gray{Float64}(0.5)  …  Gray{Float64}(0.5)\n",
       " Gray{Float64}(0.5)  Gray{Float64}(0.5)     Gray{Float64}(0.5)"
      ]
     },
     "metadata": {},
     "output_type": "display_data"
    },
    {
     "data": {
      "text/plain": [
       "3"
      ]
     },
     "execution_count": 140,
     "metadata": {},
     "output_type": "execute_result"
    }
   ],
   "source": [
    "norway = [0.5  0.5  1    0.3  1    0.5  0.5  0.5  0.5  0.5  0.5 ; # vermelho / branco / azul / branco / vermelho\n",
    "          0.5  0.5  1    0.3  1    0.5  0.5  0.5  0.5  0.5  0.5 ; # vermelho / branco / azul / branco / vermelho\n",
    "          1    1    1    0.3  1    1    1    1    1    1    1   ; # branco / azul / branco\n",
    "          0.3  0.3  0.3  0.3  0.3  0.3  0.3  0.3  0.3  0.3  0.3 ; # azul\n",
    "          1    1    1    0.3  1    1    1    1    1    1    1   ; # branco / azul / branco\n",
    "          0.5  0.5  1    0.3  1    0.5  0.5  0.5  0.5  0.5  0.5 ; # vermelho / branco / azul / branco / vermelho\n",
    "          0.5  0.5  1    0.3  1    0.5  0.5  0.5  0.5  0.5  0.5 ] # vermelho / branco / azul / branco / vermelho\n",
    "\n",
    "display(Gray.(norway))\n",
    "rank(norway)"
   ]
  },
  {
   "cell_type": "markdown",
   "metadata": {},
   "source": [
    "## Exercício 7\n",
    "\n",
    "Considere a imagem dada.\n",
    "\n",
    "a) Insira esta imagem em uma matriz 5x5. Na imagem, 0 representa a cor preta, 0.5 a cor cinza e 1 representa a cor branca.\n",
    "\n",
    "b) Qual é o posto da imagem?\n",
    "\n",
    "c) Faça compressão de dados nível 1, 2, 3, 4 e 5 e imprima na tela com os seus erros."
   ]
  },
  {
   "cell_type": "code",
   "execution_count": 141,
   "metadata": {},
   "outputs": [
    {
     "data": {
      "image/png": "[encoded data removed]",
      "text/plain": [
       "5×5 Array{Gray{Float64},2} with eltype Gray{Float64}:\n",
       " Gray{Float64}(1.0)  Gray{Float64}(0.0)  …  Gray{Float64}(1.0)\n",
       " Gray{Float64}(1.0)  Gray{Float64}(0.0)     Gray{Float64}(1.0)\n",
       " Gray{Float64}(1.0)  Gray{Float64}(1.0)     Gray{Float64}(1.0)\n",
       " Gray{Float64}(0.0)  Gray{Float64}(1.0)     Gray{Float64}(0.0)\n",
       " Gray{Float64}(1.0)  Gray{Float64}(0.0)     Gray{Float64}(1.0)"
      ]
     },
     "execution_count": 141,
     "metadata": {},
     "output_type": "execute_result"
    }
   ],
   "source": [
    "# a) Imagem em matriz 5x5\n",
    "\n",
    "img = [\n",
    "    1   0   1   0   1 ;\n",
    "    1   0   1   0   1 ;\n",
    "    1   1  0.5  1   1 ;\n",
    "    0   1   1   1   0 ;\n",
    "    1   0   0   0   1 ;\n",
    "]\n",
    "\n",
    "Gray.(img)"
   ]
  },
  {
   "cell_type": "markdown",
   "metadata": {},
   "source": [
    "b) Posto da imagem\n",
    "\n",
    "A imagem tem posto 3.\n",
    "\n",
    "O posto de uma matriz é o número de linhas (ou colunas) linearmente independentes da matriz. Podemos descobrir o posto fazendo o escalonamento da matriz e verificando o número de linhas não nulas. Um problema que se encontra ao fazer isso neste exemplo, é que nos deparamos com a necessidade de realizar trocas de linhas. Como estamos tratando de um exemplo simples em uma imagem verticalmente simétrica, é trivial reconhecer as colunas linearmente independentes.\n",
    "\n",
    "$\n",
    "\\begin{bmatrix}\n",
    "1 & 0 & 1 & 0 & 1  \\\\\n",
    "1 & 0 & 1 & 0 & 1  \\\\\n",
    "1 & 1 & 0.5 & 1 & 1  \\\\\n",
    "0 & 1 & 1 & 1 & 0  \\\\\n",
    "1 & 0 & 0 & 0 & 1  \\\\\n",
    "\\end{bmatrix}\n",
    "=\n",
    "\\begin{bmatrix}\n",
    "1 & 0 & 1 \\\\\n",
    "1 & 0 & 1 \\\\ \n",
    "1 & 1 & 0.5 \\\\\n",
    "0 & 1 & 1 \\\\\n",
    "1 & 0 & 0 \\\\\n",
    "\\end{bmatrix}\n",
    "\\cdot\n",
    "\\begin{bmatrix}\n",
    "1 & 0 & 0 & 0 & 1 \\\\\n",
    "0 & 1 & 0 & 1 & 0 \\\\\n",
    "0 & 0 & 1 & 0 & 0 \\\\\n",
    "\\end{bmatrix}\n",
    "$"
   ]
  },
  {
   "cell_type": "code",
   "execution_count": 142,
   "metadata": {},
   "outputs": [
    {
     "data": {
      "text/plain": [
       "0.0"
      ]
     },
     "execution_count": 142,
     "metadata": {},
     "output_type": "execute_result"
    }
   ],
   "source": [
    "# Verificamos a igualdade acima\n",
    "\n",
    "A = [\n",
    "    1 0 1   ;\n",
    "    1 0 1   ;\n",
    "    1 1 0.5 ;\n",
    "    0 1 1   ;\n",
    "    1 0 0   ;\n",
    "]\n",
    "\n",
    "B = [\n",
    "    1 0 0 0 1 ;\n",
    "    0 1 0 1 0 ;\n",
    "    0 0 1 0 0 ;\n",
    "]\n",
    "\n",
    "norm(A * B - img)"
   ]
  },
  {
   "cell_type": "code",
   "execution_count": 143,
   "metadata": {},
   "outputs": [
    {
     "data": {
      "text/plain": [
       "3"
      ]
     },
     "execution_count": 143,
     "metadata": {},
     "output_type": "execute_result"
    }
   ],
   "source": [
    "# Julia possui uma função para determinar o posto de uma matriz\n",
    "\n",
    "rank(img)"
   ]
  },
  {
   "cell_type": "code",
   "execution_count": 144,
   "metadata": {},
   "outputs": [
    {
     "data": {
      "image/png": "[encoded data removed]",
      "text/plain": [
       "5×5 Array{Gray{Float64},2} with eltype Gray{Float64}:\n",
       " Gray{Float64}(0.908326)  Gray{Float64}(0.420785)  …  Gray{Float64}(0.908326)\n",
       " Gray{Float64}(0.908326)  Gray{Float64}(0.420785)     Gray{Float64}(0.908326)\n",
       " Gray{Float64}(1.07348)   Gray{Float64}(0.497293)     Gray{Float64}(1.07348)\n",
       " Gray{Float64}(0.563227)  Gray{Float64}(0.260917)     Gray{Float64}(0.563227)\n",
       " Gray{Float64}(0.642945)  Gray{Float64}(0.297846)     Gray{Float64}(0.642945)"
      ]
     },
     "metadata": {},
     "output_type": "display_data"
    },
    {
     "name": "stdout",
     "output_type": "stream",
     "text": [
      "Compressão nível 1\n",
      "Erro: 2.0639038137892203\n"
     ]
    }
   ],
   "source": [
    "println(\"Compressão nível 1\")\n",
    "\n",
    "B, C = compressao(img, 1)\n",
    "compressao_1 = B * C'\n",
    "erro_1 = norm(img - compressao_1)\n",
    "display(Gray.(compressao_1))\n",
    "\n",
    "println(\"Erro: \", erro_1)"
   ]
  },
  {
   "cell_type": "code",
   "execution_count": 145,
   "metadata": {},
   "outputs": [
    {
     "data": {
      "image/png": "[encoded data removed]",
      "text/plain": [
       "5×5 Array{Gray{Float64},2} with eltype Gray{Float64}:\n",
       " Gray{Float64}(1.09263)    …  Gray{Float64}(1.09263)\n",
       " Gray{Float64}(1.09263)       Gray{Float64}(1.09263)\n",
       " Gray{Float64}(0.868419)      Gray{Float64}(0.868419)\n",
       " Gray{Float64}(0.0706856)     Gray{Float64}(0.0706856)\n",
       " Gray{Float64}(0.896033)      Gray{Float64}(0.896033)"
      ]
     },
     "metadata": {},
     "output_type": "display_data"
    },
    {
     "name": "stdout",
     "output_type": "stream",
     "text": [
      "Compressão nível 2\n",
      "Erro: 0.9834897575640652\n"
     ]
    }
   ],
   "source": [
    "println(\"Compressão nível 2\")\n",
    "\n",
    "B, C = compressao(img, 2)\n",
    "compressao_2 = B * C'\n",
    "erro_2 = norm(img - compressao_2)\n",
    "display(Gray.(compressao_2))\n",
    "\n",
    "println(\"Erro: \", erro_2)"
   ]
  },
  {
   "cell_type": "code",
   "execution_count": 146,
   "metadata": {},
   "outputs": [
    {
     "data": {
      "image/png": "[encoded data removed]",
      "text/plain": [
       "5×5 Array{Gray{Float64},2} with eltype Gray{Float64}:\n",
       " Gray{Float64}(1.0)        …  Gray{Float64}(1.0)\n",
       " Gray{Float64}(1.0)           Gray{Float64}(1.0)\n",
       " Gray{Float64}(1.0)           Gray{Float64}(1.0)\n",
       " Gray{Float64}(3.059e-17)     Gray{Float64}(3.059e-17)\n",
       " Gray{Float64}(1.0)           Gray{Float64}(1.0)"
      ]
     },
     "metadata": {},
     "output_type": "display_data"
    },
    {
     "name": "stdout",
     "output_type": "stream",
     "text": [
      "Compressão nível 3\n",
      "Erro: 3.4689342146492893e-16\n"
     ]
    }
   ],
   "source": [
    "println(\"Compressão nível 3\")\n",
    "\n",
    "B, C = compressao(img, 3)\n",
    "compressao_3 = B * C'\n",
    "erro_3 = norm(img - compressao_3)\n",
    "display(Gray.(compressao_3))\n",
    "\n",
    "println(\"Erro: \", erro_3)"
   ]
  },
  {
   "cell_type": "code",
   "execution_count": 147,
   "metadata": {},
   "outputs": [
    {
     "data": {
      "image/png": "[encoded data removed]",
      "text/plain": [
       "5×5 Array{Gray{Float64},2} with eltype Gray{Float64}:\n",
       " Gray{Float64}(1.0)           …  Gray{Float64}(1.0)\n",
       " Gray{Float64}(1.0)              Gray{Float64}(1.0)\n",
       " Gray{Float64}(1.0)              Gray{Float64}(1.0)\n",
       " Gray{Float64}(-2.34481e-17)     Gray{Float64}(-2.34481e-17)\n",
       " Gray{Float64}(1.0)              Gray{Float64}(1.0)"
      ]
     },
     "metadata": {},
     "output_type": "display_data"
    },
    {
     "name": "stdout",
     "output_type": "stream",
     "text": [
      "Compressão nível 4\n",
      "Erro: 4.940012458148675e-16\n"
     ]
    }
   ],
   "source": [
    "println(\"Compressão nível 4\")\n",
    "\n",
    "B, C = compressao(img, 4)\n",
    "compressao_4 = B * C'\n",
    "erro_4 = norm(img - compressao_4)\n",
    "display(Gray.(compressao_4))\n",
    "\n",
    "println(\"Erro: \", erro_4)"
   ]
  },
  {
   "cell_type": "code",
   "execution_count": 148,
   "metadata": {},
   "outputs": [
    {
     "data": {
      "image/png": "[encoded data removed]",
      "text/plain": [
       "5×5 Array{Gray{Float64},2} with eltype Gray{Float64}:\n",
       " Gray{Float64}(1.0)          …  Gray{Float64}(1.0)\n",
       " Gray{Float64}(1.0)             Gray{Float64}(1.0)\n",
       " Gray{Float64}(1.0)             Gray{Float64}(1.0)\n",
       " Gray{Float64}(2.49488e-17)     Gray{Float64}(2.49488e-17)\n",
       " Gray{Float64}(1.0)             Gray{Float64}(1.0)"
      ]
     },
     "metadata": {},
     "output_type": "display_data"
    },
    {
     "name": "stdout",
     "output_type": "stream",
     "text": [
      "Compressão nível 5\n",
      "Erro: 3.7278516090728626e-16\n"
     ]
    }
   ],
   "source": [
    "println(\"Compressão nível 5\")\n",
    "\n",
    "B, C = compressao(img, 5)\n",
    "compressao_5 = B * C'\n",
    "erro_5 = norm(img - compressao_5)\n",
    "display(Gray.(compressao_5))\n",
    "\n",
    "println(\"Erro: \", erro_5)"
   ]
  },
  {
   "cell_type": "markdown",
   "metadata": {},
   "source": [
    "## Exercício 8\n",
    "\n",
    "Encontre (ou desenhe) uma imagem A, com mais ou menos 200 x 200 pixels (pode ser um pouco maior), que\n",
    "\n",
    "a) Exija um nível de compressão maior que 3 e menor que 6 para recuperar pelo menos 99% de sua norma total.\n",
    "\n",
    "b) Exija um nível de compressão maior que 40 para recuperar pelo menos 99% de sua norma total"
   ]
  },
  {
   "cell_type": "code",
   "execution_count": 149,
   "metadata": {},
   "outputs": [
    {
     "data": {
      "image/png": "[encoded data removed]",
      "text/plain": [
       "200×200 Array{Gray{Float64},2} with eltype Gray{Float64}:\n",
       " Gray{Float64}(0.0)  Gray{Float64}(0.0)  …  Gray{Float64}(0.0)\n",
       " Gray{Float64}(0.0)  Gray{Float64}(0.0)     Gray{Float64}(0.0)\n",
       " Gray{Float64}(0.0)  Gray{Float64}(0.0)     Gray{Float64}(0.0)\n",
       " Gray{Float64}(0.0)  Gray{Float64}(0.0)     Gray{Float64}(0.0)\n",
       " Gray{Float64}(0.0)  Gray{Float64}(0.0)     Gray{Float64}(0.0)\n",
       " Gray{Float64}(0.0)  Gray{Float64}(0.0)  …  Gray{Float64}(0.0)\n",
       " Gray{Float64}(0.0)  Gray{Float64}(0.0)     Gray{Float64}(0.0)\n",
       " Gray{Float64}(0.0)  Gray{Float64}(0.0)     Gray{Float64}(0.0)\n",
       " Gray{Float64}(0.0)  Gray{Float64}(0.0)     Gray{Float64}(0.0)\n",
       " Gray{Float64}(0.0)  Gray{Float64}(0.0)     Gray{Float64}(0.0)\n",
       " Gray{Float64}(0.0)  Gray{Float64}(0.0)  …  Gray{Float64}(0.0)\n",
       " Gray{Float64}(0.0)  Gray{Float64}(0.0)     Gray{Float64}(0.0)\n",
       " Gray{Float64}(0.0)  Gray{Float64}(0.0)     Gray{Float64}(0.0)\n",
       " ⋮                                       ⋱  \n",
       " Gray{Float64}(0.0)  Gray{Float64}(0.0)     Gray{Float64}(0.0)\n",
       " Gray{Float64}(0.0)  Gray{Float64}(0.0)     Gray{Float64}(0.0)\n",
       " Gray{Float64}(0.0)  Gray{Float64}(0.0)  …  Gray{Float64}(0.0)\n",
       " Gray{Float64}(0.0)  Gray{Float64}(0.0)     Gray{Float64}(0.0)\n",
       " Gray{Float64}(0.0)  Gray{Float64}(0.0)     Gray{Float64}(0.0)\n",
       " Gray{Float64}(0.0)  Gray{Float64}(0.0)     Gray{Float64}(0.0)\n",
       " Gray{Float64}(0.0)  Gray{Float64}(0.0)     Gray{Float64}(0.0)\n",
       " Gray{Float64}(0.0)  Gray{Float64}(0.0)  …  Gray{Float64}(0.0)\n",
       " Gray{Float64}(0.0)  Gray{Float64}(0.0)     Gray{Float64}(0.0)\n",
       " Gray{Float64}(0.0)  Gray{Float64}(0.0)     Gray{Float64}(0.0)\n",
       " Gray{Float64}(0.0)  Gray{Float64}(0.0)     Gray{Float64}(0.0)\n",
       " Gray{Float64}(0.0)  Gray{Float64}(0.0)     Gray{Float64}(0.0)"
      ]
     },
     "metadata": {},
     "output_type": "display_data"
    },
    {
     "data": {
      "text/plain": [
       "4"
      ]
     },
     "execution_count": 149,
     "metadata": {},
     "output_type": "execute_result"
    }
   ],
   "source": [
    "# a) Nível de compressão maior que 3 e menor que 6\n",
    "\n",
    "img = zeros(200, 200)\n",
    "img[75:125, :] .= 1\n",
    "img[:, 75:125] .= 1\n",
    "img[75:125, 75:125] .= 0\n",
    "img[85:115, 37:163] .= 0\n",
    "img[37:163, 85:115] .= 0\n",
    "\n",
    "raw = img\n",
    "img = Gray.(img)\n",
    "display(img)\n",
    "\n",
    "rank(raw)"
   ]
  },
  {
   "cell_type": "code",
   "execution_count": 150,
   "metadata": {},
   "outputs": [
    {
     "name": "stdout",
     "output_type": "stream",
     "text": [
      "Compressão de nível 4"
     ]
    },
    {
     "data": {
      "image/png": "[encoded data removed]",
      "text/plain": [
       "200×200 Array{Gray{Float64},2} with eltype Gray{Float64}:\n",
       " Gray{Float64}(-2.43497e-17)  …  Gray{Float64}(-2.43497e-17)\n",
       " Gray{Float64}(-2.43497e-17)     Gray{Float64}(-2.43497e-17)\n",
       " Gray{Float64}(-2.43497e-17)     Gray{Float64}(-2.43497e-17)\n",
       " Gray{Float64}(-2.43497e-17)     Gray{Float64}(-2.43497e-17)\n",
       " Gray{Float64}(-2.43497e-17)     Gray{Float64}(-2.43497e-17)\n",
       " Gray{Float64}(-2.43497e-17)  …  Gray{Float64}(-2.43497e-17)\n",
       " Gray{Float64}(-2.43497e-17)     Gray{Float64}(-2.43497e-17)\n",
       " Gray{Float64}(-2.43497e-17)     Gray{Float64}(-2.43497e-17)\n",
       " Gray{Float64}(-2.43497e-17)     Gray{Float64}(-2.43497e-17)\n",
       " Gray{Float64}(-2.43497e-17)     Gray{Float64}(-2.43497e-17)\n",
       " Gray{Float64}(-2.43497e-17)  …  Gray{Float64}(-2.43497e-17)\n",
       " Gray{Float64}(-2.43497e-17)     Gray{Float64}(-2.43497e-17)\n",
       " Gray{Float64}(-2.43497e-17)     Gray{Float64}(-2.43497e-17)\n",
       " ⋮                            ⋱  \n",
       " Gray{Float64}(-2.43497e-17)     Gray{Float64}(-2.43497e-17)\n",
       " Gray{Float64}(-2.43497e-17)     Gray{Float64}(-2.43497e-17)\n",
       " Gray{Float64}(-2.43497e-17)  …  Gray{Float64}(-2.43497e-17)\n",
       " Gray{Float64}(-2.43497e-17)     Gray{Float64}(-2.43497e-17)\n",
       " Gray{Float64}(-2.43497e-17)     Gray{Float64}(-2.43497e-17)\n",
       " Gray{Float64}(-2.43497e-17)     Gray{Float64}(-2.43497e-17)\n",
       " Gray{Float64}(-2.43497e-17)     Gray{Float64}(-2.43497e-17)\n",
       " Gray{Float64}(-2.43497e-17)  …  Gray{Float64}(-2.43497e-17)\n",
       " Gray{Float64}(-2.43497e-17)     Gray{Float64}(-2.43497e-17)\n",
       " Gray{Float64}(-2.43497e-17)     Gray{Float64}(-2.43497e-17)\n",
       " Gray{Float64}(-2.43497e-17)     Gray{Float64}(-2.43497e-17)\n",
       " Gray{Float64}(-2.43497e-17)     Gray{Float64}(-2.43497e-17)"
      ]
     },
     "metadata": {},
     "output_type": "display_data"
    },
    {
     "name": "stdout",
     "output_type": "stream",
     "text": [
      "\n",
      "Erro: 8.647123287741351e-14\n",
      "Porcentagem da Norma: 100.00%\n"
     ]
    }
   ],
   "source": [
    "nivel_de_compressao = 4\n",
    "\n",
    "println(\"Compressão de nível \", nivel_de_compressao)\n",
    "\n",
    "B, C = compressao(raw, nivel_de_compressao)\n",
    "img_comprimida = B * C'\n",
    "erro = norm(Gray.(img) - img_comprimida)\n",
    "display(Gray.(img_comprimida))\n",
    "\n",
    "println(\"Erro: \", erro)\n",
    "@printf(\"Porcentagem da Norma: %.2f%%\\n\", norm(img_comprimida) * 100 / norm(raw))"
   ]
  },
  {
   "cell_type": "code",
   "execution_count": 151,
   "metadata": {},
   "outputs": [
    {
     "data": {
      "image/png": "[encoded data removed]",
      "text/plain": [
       "200×200 Array{Gray{Float64},2} with eltype Gray{Float64}:\n",
       " Gray{Float64}(0.0)  Gray{Float64}(0.0)  …  Gray{Float64}(0.0)\n",
       " Gray{Float64}(1.0)  Gray{Float64}(0.0)     Gray{Float64}(0.0)\n",
       " Gray{Float64}(1.0)  Gray{Float64}(1.0)     Gray{Float64}(0.0)\n",
       " Gray{Float64}(1.0)  Gray{Float64}(1.0)     Gray{Float64}(0.0)\n",
       " Gray{Float64}(1.0)  Gray{Float64}(1.0)     Gray{Float64}(0.0)\n",
       " Gray{Float64}(1.0)  Gray{Float64}(1.0)  …  Gray{Float64}(0.0)\n",
       " Gray{Float64}(1.0)  Gray{Float64}(1.0)     Gray{Float64}(0.0)\n",
       " Gray{Float64}(1.0)  Gray{Float64}(1.0)     Gray{Float64}(0.0)\n",
       " Gray{Float64}(1.0)  Gray{Float64}(1.0)     Gray{Float64}(0.0)\n",
       " Gray{Float64}(1.0)  Gray{Float64}(1.0)     Gray{Float64}(0.0)\n",
       " Gray{Float64}(1.0)  Gray{Float64}(1.0)  …  Gray{Float64}(0.0)\n",
       " Gray{Float64}(1.0)  Gray{Float64}(1.0)     Gray{Float64}(0.0)\n",
       " Gray{Float64}(1.0)  Gray{Float64}(1.0)     Gray{Float64}(0.0)\n",
       " ⋮                                       ⋱  \n",
       " Gray{Float64}(0.0)  Gray{Float64}(0.0)     Gray{Float64}(0.0)\n",
       " Gray{Float64}(0.0)  Gray{Float64}(0.0)     Gray{Float64}(0.0)\n",
       " Gray{Float64}(0.0)  Gray{Float64}(0.0)  …  Gray{Float64}(0.0)\n",
       " Gray{Float64}(0.0)  Gray{Float64}(0.0)     Gray{Float64}(0.0)\n",
       " Gray{Float64}(0.0)  Gray{Float64}(0.0)     Gray{Float64}(0.0)\n",
       " Gray{Float64}(0.0)  Gray{Float64}(0.0)     Gray{Float64}(0.0)\n",
       " Gray{Float64}(0.0)  Gray{Float64}(0.0)     Gray{Float64}(0.0)\n",
       " Gray{Float64}(0.0)  Gray{Float64}(0.0)  …  Gray{Float64}(0.0)\n",
       " Gray{Float64}(0.0)  Gray{Float64}(0.0)     Gray{Float64}(0.0)\n",
       " Gray{Float64}(0.0)  Gray{Float64}(0.0)     Gray{Float64}(0.0)\n",
       " Gray{Float64}(0.0)  Gray{Float64}(0.0)     Gray{Float64}(0.0)\n",
       " Gray{Float64}(0.0)  Gray{Float64}(0.0)     Gray{Float64}(0.0)"
      ]
     },
     "metadata": {},
     "output_type": "display_data"
    },
    {
     "data": {
      "text/plain": [
       "148"
      ]
     },
     "execution_count": 151,
     "metadata": {},
     "output_type": "execute_result"
    }
   ],
   "source": [
    "# b) Nível de compressão maior que 40\n",
    "\n",
    "img = zeros(200, 200)\n",
    "m, n = size(img)\n",
    "for i=1:m\n",
    "    for j=1:n\n",
    "        img[i, j] = i > n/2 + sin(j/5*100)*n/5 * j/100 ? 0.0 : 1.0;\n",
    "        img[j, i] -= i > n/2 + sin(j/5*100)*n/5 * j/100 ? 0.0 : 1.0;\n",
    "        img[n-j+1, i] *= i > n/2 + sin(j/5*100)*n/5 * j/100 ? 0.0 : 1.0;\n",
    "        img[j, m-i+1] -= i > n/2 + sin(j/5*100)*n/5 * j/100 ? 0.0 : 1.0;\n",
    "    end\n",
    "end\n",
    "        \n",
    "\n",
    "raw = img\n",
    "img = Gray.(img)\n",
    "display(img)\n",
    "\n",
    "rank(raw)"
   ]
  },
  {
   "cell_type": "code",
   "execution_count": 152,
   "metadata": {},
   "outputs": [
    {
     "data": {
      "image/png": "[encoded data removed]",
      "text/plain": [
       "200×200 Array{Gray{Float64},2} with eltype Gray{Float64}:\n",
       " Gray{Float64}(0.0)       Gray{Float64}(0.0)       …  Gray{Float64}(0.0)\n",
       " Gray{Float64}(0.246794)  Gray{Float64}(0.235072)     Gray{Float64}(0.0)\n",
       " Gray{Float64}(0.554701)  Gray{Float64}(0.528505)     Gray{Float64}(0.0)\n",
       " Gray{Float64}(0.76213)   Gray{Float64}(0.729772)     Gray{Float64}(0.0)\n",
       " Gray{Float64}(0.851561)  Gray{Float64}(0.814851)     Gray{Float64}(0.0)\n",
       " Gray{Float64}(0.976063)  Gray{Float64}(0.937057)  …  Gray{Float64}(0.0)\n",
       " Gray{Float64}(1.07494)   Gray{Float64}(1.03696)      Gray{Float64}(0.0)\n",
       " Gray{Float64}(1.10605)   Gray{Float64}(1.07508)      Gray{Float64}(0.0)\n",
       " Gray{Float64}(1.20317)   Gray{Float64}(1.17992)      Gray{Float64}(0.0)\n",
       " Gray{Float64}(1.11451)   Gray{Float64}(1.0981)       Gray{Float64}(0.0)\n",
       " Gray{Float64}(1.06444)   Gray{Float64}(1.0574)    …  Gray{Float64}(0.0)\n",
       " Gray{Float64}(1.07006)   Gray{Float64}(1.06978)      Gray{Float64}(0.0)\n",
       " Gray{Float64}(0.943093)  Gray{Float64}(0.947471)     Gray{Float64}(0.0)\n",
       " ⋮                                                 ⋱  \n",
       " Gray{Float64}(0.0)       Gray{Float64}(0.0)          Gray{Float64}(0.0)\n",
       " Gray{Float64}(0.0)       Gray{Float64}(0.0)          Gray{Float64}(0.0)\n",
       " Gray{Float64}(0.0)       Gray{Float64}(0.0)       …  Gray{Float64}(0.0)\n",
       " Gray{Float64}(0.0)       Gray{Float64}(0.0)          Gray{Float64}(0.0)\n",
       " Gray{Float64}(0.0)       Gray{Float64}(0.0)          Gray{Float64}(0.0)\n",
       " Gray{Float64}(0.0)       Gray{Float64}(0.0)          Gray{Float64}(0.0)\n",
       " Gray{Float64}(0.0)       Gray{Float64}(0.0)          Gray{Float64}(0.0)\n",
       " Gray{Float64}(0.0)       Gray{Float64}(0.0)       …  Gray{Float64}(0.0)\n",
       " Gray{Float64}(0.0)       Gray{Float64}(0.0)          Gray{Float64}(0.0)\n",
       " Gray{Float64}(0.0)       Gray{Float64}(0.0)          Gray{Float64}(0.0)\n",
       " Gray{Float64}(0.0)       Gray{Float64}(0.0)          Gray{Float64}(0.0)\n",
       " Gray{Float64}(0.0)       Gray{Float64}(0.0)          Gray{Float64}(0.0)"
      ]
     },
     "metadata": {},
     "output_type": "display_data"
    },
    {
     "name": "stdout",
     "output_type": "stream",
     "text": [
      "Compressão de nível 43\n",
      "Erro: 11.937654448945663\n",
      "Porcentagem da Norma: 99.03%\n"
     ]
    }
   ],
   "source": [
    "nivel_de_compressao = 43\n",
    "\n",
    "println(\"Compressão de nível \", nivel_de_compressao)\n",
    "\n",
    "B, C = compressao(raw, nivel_de_compressao)\n",
    "img_comprimida = B * C'\n",
    "erro = norm(Gray.(img) - img_comprimida)\n",
    "display(Gray.(img_comprimida))\n",
    "\n",
    "println(\"Erro: \", erro)\n",
    "@printf(\"Porcentagem da Norma: %.2f%%\\n\", norm(img_comprimida) * 100 / norm(raw))"
   ]
  },
  {
   "cell_type": "code",
   "execution_count": 153,
   "metadata": {},
   "outputs": [
    {
     "data": {
      "text/plain": [
       "84.99113133884953"
      ]
     },
     "execution_count": 153,
     "metadata": {},
     "output_type": "execute_result"
    }
   ],
   "source": [
    "norm(img_comprimida)"
   ]
  },
  {
   "cell_type": "code",
   "execution_count": 154,
   "metadata": {},
   "outputs": [
    {
     "data": {
      "text/plain": [
       "85.82540416450132"
      ]
     },
     "execution_count": 154,
     "metadata": {},
     "output_type": "execute_result"
    }
   ],
   "source": [
    "norm(raw)"
   ]
  }
 ],
 "metadata": {
  "kernelspec": {
   "display_name": "Julia 1.6.0",
   "language": "julia",
   "name": "julia-1.6"
  },
  "language_info": {
   "file_extension": ".jl",
   "mimetype": "application/julia",
   "name": "julia",
   "version": "1.6.1"
  }
 },
 "nbformat": 4,
 "nbformat_minor": 4
}
