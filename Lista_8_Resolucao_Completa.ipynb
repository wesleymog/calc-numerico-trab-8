{
 "cells": [
  {
   "cell_type": "markdown",
   "metadata": {},
   "source": [
    "# Resolução lista 8: Métodos Iterativos para Sistema Lineares e Redução de Dados\n"
   ]
  },
  {
   "cell_type": "markdown",
   "metadata": {},
   "source": [
    "## Exercício 1\n",
    "\n",
    "As 3 funções abaixo foram incluídas na biblioteca de funções do grupo:\n",
    "\n",
    "  `- COMPRESSÃO`  \n",
    "  `- GAUSS-JACOBI`  \n",
    "  `- GAUSS-SEIDEL`\n",
    "\n",
    "Como as mesmas são utilizadas no decorrer da resolução de outras questões da lista, optamos por deixar o código das funções neste notebook também."
   ]
  },
  {
   "cell_type": "code",
   "execution_count": 511,
   "metadata": {},
   "outputs": [
    {
     "name": "stderr",
     "output_type": "stream",
     "text": [
      "\u001b[32m\u001b[1m  Resolving\u001b[22m\u001b[39m package versions...\n",
      "\u001b[32m\u001b[1mNo Changes\u001b[22m\u001b[39m to `C:\\Users\\carla\\.julia\\environments\\v1.5\\Project.toml`\n",
      "\u001b[32m\u001b[1mNo Changes\u001b[22m\u001b[39m to `C:\\Users\\carla\\.julia\\environments\\v1.5\\Manifest.toml`\n"
     ]
    }
   ],
   "source": [
    "import Pkg; \n",
    "\n",
    "Pkg.add(\"Images\")\n",
    "\n",
    "using LinearAlgebra\n",
    "using Images\n",
    "using Printf\n",
    "using Plots"
   ]
  },
  {
   "cell_type": "markdown",
   "metadata": {},
   "source": [
    "### Função Compressão"
   ]
  },
  {
   "cell_type": "code",
   "execution_count": 512,
   "metadata": {},
   "outputs": [
    {
     "data": {
      "text/plain": [
       "compressao (generic function with 1 method)"
      ]
     },
     "execution_count": 512,
     "metadata": {},
     "output_type": "execute_result"
    }
   ],
   "source": [
    "\"\"\"\n",
    "RESUMO: É um método que dada uma matriz A, diminuirmos o tamanho delas através do cálculo de valores de c\n",
    "        respeitando o modelo A = A-b*c', para conseguir várias matrizes até o posto desejado pelo usuário.\n",
    "ENTRADA: matriz A e o nível de compressão\n",
    "SAIDA: matriz B e matriz C\n",
    "\"\"\"\n",
    "# Retorna a melhor coordenada, tal que norm(A-b*c') é mínima\n",
    "function melhores_coords(A,b) #retorna c tal que norm(A-b*c') é mínima\n",
    "    m,n=size(A)\n",
    "    A=1.0*A\n",
    "    c=zeros(n,1)\n",
    "    c=A'*(b/(b'*b))\n",
    "    return c\n",
    "end\n",
    "\n",
    "# Faz cálculo b, c através das melhores coordenadas\n",
    "function calculo_cb(A; limite = 22)\n",
    "    n,m=size(A)\n",
    "\n",
    "    b=randn(n,1)\n",
    "    c=randn(m,1)\n",
    "    \n",
    "    btemp=randn(m,1)\n",
    "    ctemp=randn(n,1)\n",
    "    \n",
    "    for i=1:limite\n",
    "        c=melhores_coords(A,b)\n",
    "        btemp=c\n",
    "        ctemp=melhores_coords(A',btemp)\n",
    "        b=ctemp\n",
    "    end\n",
    "    \n",
    "    return b,c\n",
    "end\n",
    "\n",
    "# Função compressão\n",
    "function compressao(A,nivel)\n",
    "    m,n=size(A)\n",
    "    B=zeros(m,nivel)\n",
    "    C=zeros(n,nivel)\n",
    "    \n",
    "    for i=1:nivel\n",
    "        B[:,i],C[:,i]=calculo_cb(A)\n",
    "        A=A-B[:,i]*C[:,i]'\n",
    "    end\n",
    "    return B,C\n",
    "end"
   ]
  },
  {
   "cell_type": "code",
   "execution_count": 513,
   "metadata": {},
   "outputs": [
    {
     "name": "stdout",
     "output_type": "stream",
     "text": [
      "O erro é de 1.542371118540254e-14"
     ]
    }
   ],
   "source": [
    "#Exemplo 1\n",
    "A = [1 2 1 11 101 2 10; 1 2 2 12 102 3  20;1 2 3 13 103 4 30]\n",
    "B, C =compressao(A, 2)\n",
    "print(\"O erro é de $(norm(A-B*C'))\")"
   ]
  },
  {
   "cell_type": "code",
   "execution_count": 514,
   "metadata": {},
   "outputs": [
    {
     "name": "stdout",
     "output_type": "stream",
     "text": [
      "O erro é de 2.5803073537982523e-14"
     ]
    }
   ],
   "source": [
    "#Exemplo 2\n",
    "A = [22 17 15 12 100 120;44 18 30 13 120 100;66 19 45 14 150 90]\n",
    "B,C = compressao(A, 3)\n",
    "print(\"O erro é de $(norm(A-B*C'))\")"
   ]
  },
  {
   "cell_type": "code",
   "execution_count": 515,
   "metadata": {},
   "outputs": [
    {
     "name": "stdout",
     "output_type": "stream",
     "text": [
      "O erro é de 8.343678738167853e-15"
     ]
    }
   ],
   "source": [
    "#Exemplo 3\n",
    "A = [3.0 6.0 9.0 12.0 15.0; 6.0 7.0 8.0 9.0 10.0; 10.0 20.0 30.0 40.0 50.0; 12.0 13.0 14.0 15.0 16.0]\n",
    "B,C = compressao(A, 2)\n",
    "print(\"O erro é de $(norm(A-B*C'))\")"
   ]
  },
  {
   "cell_type": "code",
   "execution_count": 516,
   "metadata": {},
   "outputs": [
    {
     "data": {
      "text/plain": [
       "3"
      ]
     },
     "execution_count": 516,
     "metadata": {},
     "output_type": "execute_result"
    }
   ],
   "source": [
    "A = rand(1:100, 5,3)\n",
    "rank(A)"
   ]
  },
  {
   "cell_type": "markdown",
   "metadata": {},
   "source": [
    "### Função Gauss-Jacobi"
   ]
  },
  {
   "cell_type": "code",
   "execution_count": 517,
   "metadata": {},
   "outputs": [
    {
     "data": {
      "text/plain": [
       "gauss_jacobi"
      ]
     },
     "execution_count": 517,
     "metadata": {},
     "output_type": "execute_result"
    }
   ],
   "source": [
    "\"\"\"\n",
    "RESUMO: É um método iterativo para resolução de sistemas de equações lineares de forma Ax = b.\n",
    "        Tem como condição suficiente de convergência que a matriz seja estritamente diagonal dominante.\n",
    "        Converge para matrizes diagonais dominantes.\n",
    "ENTRADA:Uma matriz A e uma matriz b\n",
    "SAIDA: uma matriz x, com o resultado da equação linear\n",
    "\"\"\"\n",
    "function gauss_jacobi(A,b; limite= 400)\n",
    "    n,m=size(A)\n",
    "    M=Diagonal(A) #Pegando a Diagonal de A\n",
    "    K=M-A  #Quebrando a matriz A em M -K, sendo M, a sua diagonal, pois essa é mais barata de se calcular\n",
    "    R=inv(M)*K \n",
    "    c=inv(M)*b\n",
    "    \n",
    "    x=zeros(n,1) #Chute inicial\n",
    "    for i=1:limite\n",
    "        x=R*x+c\n",
    "    end\n",
    "    \n",
    "    return x\n",
    "end"
   ]
  },
  {
   "cell_type": "code",
   "execution_count": 518,
   "metadata": {},
   "outputs": [
    {
     "data": {
      "text/plain": [
       "1.0658141036401503e-14"
      ]
     },
     "execution_count": 518,
     "metadata": {},
     "output_type": "execute_result"
    }
   ],
   "source": [
    "#Exemplo 1\n",
    "A = [10.0 2.0 3.0;4.5 15.0 12.5;10 15 35]\n",
    "x = [15;11;20]\n",
    "b = A*x\n",
    "x_final = gauss_jacobi(A,b)\n",
    "norm(x - x_final)"
   ]
  },
  {
   "cell_type": "code",
   "execution_count": 519,
   "metadata": {},
   "outputs": [
    {
     "name": "stdout",
     "output_type": "stream",
     "text": [
      "O valor de x original era [27, 1, 21] \n",
      "O valor do x encontrado foi [26.999999999999986; 1.0; 20.999999999999993] \n",
      "O erro é próximo de 1.5888218580782548e-14"
     ]
    }
   ],
   "source": [
    "#Exemplo 2\n",
    "A = [27.0 15.0 18.0;21.5 45.45 10.1;11 75 105]\n",
    "x = [27;1;21]\n",
    "b = A*x\n",
    "x_final = gauss_jacobi(A,b)\n",
    "print(\"O valor de x original era $x \\nO valor do x encontrado foi $x_final \\nO erro é próximo de $(norm(x - x_final))\")"
   ]
  },
  {
   "cell_type": "code",
   "execution_count": 520,
   "metadata": {},
   "outputs": [
    {
     "name": "stdout",
     "output_type": "stream",
     "text": [
      "O valor de x original era [27, 11, 1] \n",
      "O valor do x encontrado foi [26.999999999999993; 10.999999999999998; 1.0] \n",
      "O erro é próximo de 7.32410687763558e-15"
     ]
    }
   ],
   "source": [
    "#Exemplo 3\n",
    "A = [44.001 77.12 28.0;2.5 79.002 3.7;11.01 110.10 22.1]\n",
    "x = [27;11;1]\n",
    "b = A*x\n",
    "x_final = gauss_jacobi(A,b)\n",
    "print(\"O valor de x original era $x \\nO valor do x encontrado foi $x_final \\nO erro é próximo de $(norm(x - x_final))\")"
   ]
  },
  {
   "cell_type": "markdown",
   "metadata": {},
   "source": [
    "### Função Gauss-Seidel"
   ]
  },
  {
   "cell_type": "code",
   "execution_count": 521,
   "metadata": {},
   "outputs": [
    {
     "data": {
      "text/plain": [
       "gauss_seidel"
      ]
     },
     "execution_count": 521,
     "metadata": {},
     "output_type": "execute_result"
    }
   ],
   "source": [
    "\"\"\"\n",
    "RESUMO: É um método iterativo para resolução de sistemas de equações lineares. \n",
    "        Tem como condição suficiente de convergência que a matriz seja estritamente diagonal dominante.\n",
    "ENTRADA:Uma matriz A e uma matriz b\n",
    "SAIDA: uma matriz x, com o resultado da equação linear\n",
    "\"\"\"\n",
    "function gauss_seidel(A,b; limite=400)\n",
    "    n,m=size(A)\n",
    "    M=UpperTriangular(A) #Calculando o triangular superior e salvando em M\n",
    "    K=M-A     \n",
    "    #Quebrando a matriz A em M -K, sendo M, a sua triangular superior, pois essa é mais barata de se calcular\n",
    "    R=inv(M)*K\n",
    "    c=inv(M)*b\n",
    "    \n",
    "    x=zeros(n,1) #chute inicial\n",
    "    for i=1:limite\n",
    "        x=R*x+c \n",
    "    end\n",
    "    \n",
    "    return x\n",
    "end"
   ]
  },
  {
   "cell_type": "code",
   "execution_count": 522,
   "metadata": {},
   "outputs": [
    {
     "name": "stdout",
     "output_type": "stream",
     "text": [
      "O valor de x original era [5, 6, 7] \n",
      "O valor do x encontrado foi [5.0; 5.999999999999999; 7.0] \n",
      "O erro é próximo de 8.881784197001252e-16"
     ]
    }
   ],
   "source": [
    "#Exemplo 1\n",
    "A = [15.0 1.8 1.0;1.5 25.15 11.1;0.01 55 75]\n",
    "x = [5;6;7]\n",
    "b = A*x\n",
    "x_final = gauss_seidel(A,b)\n",
    "print(\"O valor de x original era $x \\nO valor do x encontrado foi $x_final \\nO erro é próximo de $(norm(x - x_final))\")"
   ]
  },
  {
   "cell_type": "code",
   "execution_count": 523,
   "metadata": {},
   "outputs": [
    {
     "name": "stdout",
     "output_type": "stream",
     "text": [
      "O valor de x original era [0.17362952876078885; 1.2019984588431532; 0.31642420125803083; -0.9634470633469489] \n",
      "O valor do x encontrado foi [0.17362952876078885; 1.201998458843153; 0.3164242012580307; -0.9634470633469494] \n",
      "O erro é próximo de 6.080941944488118e-16"
     ]
    }
   ],
   "source": [
    "#Exemplo 2\n",
    "A = [15.58158 -1.622 1.1196 0.613; 1.250 3.420 -0.662 0.1446; 1.5964 0.571137 5.13785854 -0.827872; 1.07690677 0.19946388 1.003 -0.18519343]\n",
    "x = randn(4,1)\n",
    "b = A*x\n",
    "x_final = gauss_seidel(A,b)\n",
    "print(\"O valor de x original era $x \\nO valor do x encontrado foi $x_final \\nO erro é próximo de $(norm(x - x_final))\")"
   ]
  },
  {
   "cell_type": "code",
   "execution_count": 524,
   "metadata": {},
   "outputs": [
    {
     "name": "stdout",
     "output_type": "stream",
     "text": [
      "O valor de x original era [-0.04343778216875846, -1.1871517960515228, 0.9565556126856019, -0.6580960721098263] \n",
      "O valor do x encontrado foi [-0.04343778216875849; -1.1871517960515228; 0.9565556126856025; -0.6580960721098268] \n",
      "O erro é próximo de 8.010741897413915e-16"
     ]
    }
   ],
   "source": [
    "#Exemplo 3\n",
    "A = [0.44232843419610957 0.975168270793521 0.4057316291542512 0.43141972827505626; 0.05176629292410739 0.6326306259870371 0.17408718829624203 0.216193281992759; 0.4930982825005519 0.8217543935748945 0.9028708230733111 0.5851496265616856; 0.4336333792828273 0.03710455313190231 0.5436617314521639 0.8655115805195281]\n",
    "x = [-0.04343778216875846; -1.1871517960515228; 0.9565556126856019; -0.6580960721098263]\n",
    "b = A*x\n",
    "x_final = gauss_seidel(A,b)\n",
    "print(\"O valor de x original era $x \\nO valor do x encontrado foi $x_final \\nO erro é próximo de $(norm(x - x_final))\")"
   ]
  },
  {
   "cell_type": "markdown",
   "metadata": {},
   "source": [
    "## Exercício 2"
   ]
  },
  {
   "cell_type": "code",
   "execution_count": 525,
   "metadata": {},
   "outputs": [],
   "source": [
    "gr(size =(600,400) )\n",
    "plot(rand(1), rand(1))\n",
    "scatter!(rand(1), rand(1))\n",
    "nothing"
   ]
  },
  {
   "cell_type": "code",
   "execution_count": 526,
   "metadata": {},
   "outputs": [
    {
     "data": {
      "text/plain": [
       "gauss_jacobi_com_erro (generic function with 1 method)"
      ]
     },
     "execution_count": 526,
     "metadata": {},
     "output_type": "execute_result"
    }
   ],
   "source": [
    "\"\"\"\n",
    "Sabendo que { 2x₁ + x₂ = 2; −x₁ + 2x₂ = 2}, pode ser escrito como A = [2 1;-1 2] e b = [2;2]\n",
    "\"\"\"\n",
    "function gauss_seidel_com_erro(A,b; max_iter=1000, ϵ = 1e-3)\n",
    "    n,m=size(A)\n",
    "    x1s = []\n",
    "    x2s = []\n",
    "    M=UpperTriangular(A) #Calculando o triangular superior e salvando em M\n",
    "    K=M-A     \n",
    "    #Quebrando a matriz A em M -K, sendo M, a sua triangular superior, pois essa é mais barata de se calcular\n",
    "    R=inv(M)*K\n",
    "    c=inv(M)*b\n",
    "    x=zeros(n,1) #chute inicial\n",
    "    x=R*x+c\n",
    "    x_anterior = x\n",
    "    append!(x1s, x[1])\n",
    "    append!(x2s, x[2])\n",
    "    x=R*x+c \n",
    "    iter =0 \n",
    "    resolvido = (abs(norm(x-x_anterior)) ≤ ϵ)\n",
    "    cansado = (iter ≥ max_iter)\n",
    "    while !(resolvido || cansado) \n",
    "        x_anterior = x\n",
    "        append!(x1s, x[1])\n",
    "        append!(x2s, x[2])\n",
    "        x=R*x+c \n",
    "        iter +=1\n",
    "        #print(x, \"\\n\", x_anterior)\n",
    "        resolvido = (abs(norm(x-x_anterior)) ≤ ϵ)\n",
    "        cansado = (iter ≥ max_iter)\n",
    "        \n",
    "    end\n",
    "    print(\"O erro final ficou em $(abs(norm(x-x_anterior)))\\n\")\n",
    "    print(\"O resultado final ficou em $x\\n\")\n",
    "    return x1s, x2s\n",
    "end\n",
    "\n",
    "function gauss_jacobi_com_erro(A,b; max_iter=1000, ϵ = 1e-3)\n",
    "    n,m=size(A)\n",
    "    x1s = []\n",
    "    x2s = []\n",
    "    M=Diagonal(A) #Calculando o triangular superior e salvando em M\n",
    "    K=M-A     \n",
    "    #Quebrando a matriz A em M -K, sendo M, a sua triangular superior, pois essa é mais barata de se calcular\n",
    "    R=inv(M)*K\n",
    "    c=inv(M)*b\n",
    "    x=zeros(n,1) #chute inicial\n",
    "    x=R*x+c\n",
    "    x_anterior = x\n",
    "    append!(x1s, x[1])\n",
    "    append!(x2s, x[2])\n",
    "    x=R*x+c \n",
    "    iter =0 \n",
    "    resolvido = (abs(norm(x-x_anterior)) ≤ ϵ)\n",
    "    cansado = (iter ≥ max_iter)\n",
    "    while !(resolvido || cansado) \n",
    "        x_anterior = x\n",
    "        append!(x1s, x[1])\n",
    "        append!(x2s, x[2])\n",
    "        x=R*x+c \n",
    "        iter +=1\n",
    "        #print(x, \"\\n\", x_anterior)\n",
    "        resolvido = (abs(norm(x-x_anterior)) ≤ ϵ)\n",
    "        cansado = (iter ≥ max_iter)\n",
    "        \n",
    "    end\n",
    "    print(\"O erro final ficou em $(abs(norm(x-x_anterior)))\\n\")\n",
    "    print(\"O resultado final ficou em $x\\n\")\n",
    "    return x1s, x2s\n",
    "end"
   ]
  },
  {
   "cell_type": "code",
   "execution_count": 527,
   "metadata": {},
   "outputs": [
    {
     "name": "stdout",
     "output_type": "stream",
     "text": [
      "GAUSS_SEIDEL\n",
      "O erro final ficou em 0.0002729575167846423\n",
      "O resultado final ficou em [0.4000244140625; 1.199951171875]\n",
      "\n",
      "GAUSS_JACOBIO erro final ficou em 0.0006905339660024879\n",
      "O resultado final ficou em [0.39990234375; 1.19970703125]\n",
      "\n"
     ]
    }
   ],
   "source": [
    "A = [2 1;-1 2] \n",
    "b = [2;2]\n",
    "print(\"GAUSS_SEIDEL\\n\")\n",
    "X_seidel,Y_seidel = gauss_seidel_com_erro(A,b)\n",
    "X_seidel = X_seidel*1.0\n",
    "Y_seidel = Y_seidel*1.0\n",
    "print(\"\\nGAUSS_JACOBI\")\n",
    "X_jacobi,Y_jacobi = gauss_jacobi_com_erro(A,b)\n",
    "X_jacobi = X_jacobi*1.0\n",
    "Y_jacobi = Y_jacobi*1.0\n",
    "print(\"\\n\")"
   ]
  },
  {
   "cell_type": "code",
   "execution_count": 528,
   "metadata": {},
   "outputs": [
    {
     "data": {
      "image/svg+xml": [
       "<?xml version=\"1.0\" encoding=\"utf-8\"?>\n",
       "<svg xmlns=\"http://www.w3.org/2000/svg\" xmlns:xlink=\"http://www.w3.org/1999/xlink\" width=\"600\" height=\"400\" viewBox=\"0 0 2400 1600\">\n",
       "<defs>\n",
       "  <clipPath id=\"clip610\">\n",
       "    <rect x=\"0\" y=\"0\" width=\"2400\" height=\"1600\"/>\n",
       "  </clipPath>\n",
       "</defs>\n",
       "<path clip-path=\"url(#clip610)\" d=\"\n",
       "M0 1600 L2400 1600 L2400 0 L0 0  Z\n",
       "  \" fill=\"#ffffff\" fill-rule=\"evenodd\" fill-opacity=\"1\"/>\n",
       "<defs>\n",
       "  <clipPath id=\"clip611\">\n",
       "    <rect x=\"480\" y=\"0\" width=\"1681\" height=\"1600\"/>\n",
       "  </clipPath>\n",
       "</defs>\n",
       "<path clip-path=\"url(#clip610)\" d=\"\n",
       "M171.552 1486.45 L2352.76 1486.45 L2352.76 123.472 L171.552 123.472  Z\n",
       "  \" fill=\"#ffffff\" fill-rule=\"evenodd\" fill-opacity=\"1\"/>\n",
       "<defs>\n",
       "  <clipPath id=\"clip612\">\n",
       "    <rect x=\"171\" y=\"123\" width=\"2182\" height=\"1364\"/>\n",
       "  </clipPath>\n",
       "</defs>\n",
       "<polyline clip-path=\"url(#clip612)\" style=\"stroke:#000000; stroke-width:2; stroke-opacity:0.1; fill:none\" points=\"\n",
       "  480.213,1486.45 480.213,123.472 \n",
       "  \"/>\n",
       "<polyline clip-path=\"url(#clip612)\" style=\"stroke:#000000; stroke-width:2; stroke-opacity:0.1; fill:none\" points=\"\n",
       "  974.07,1486.45 974.07,123.472 \n",
       "  \"/>\n",
       "<polyline clip-path=\"url(#clip612)\" style=\"stroke:#000000; stroke-width:2; stroke-opacity:0.1; fill:none\" points=\"\n",
       "  1467.93,1486.45 1467.93,123.472 \n",
       "  \"/>\n",
       "<polyline clip-path=\"url(#clip612)\" style=\"stroke:#000000; stroke-width:2; stroke-opacity:0.1; fill:none\" points=\"\n",
       "  1961.79,1486.45 1961.79,123.472 \n",
       "  \"/>\n",
       "<polyline clip-path=\"url(#clip610)\" style=\"stroke:#000000; stroke-width:4; stroke-opacity:1; fill:none\" points=\"\n",
       "  171.552,1486.45 2352.76,1486.45 \n",
       "  \"/>\n",
       "<polyline clip-path=\"url(#clip610)\" style=\"stroke:#000000; stroke-width:4; stroke-opacity:1; fill:none\" points=\"\n",
       "  480.213,1486.45 480.213,1470.09 \n",
       "  \"/>\n",
       "<polyline clip-path=\"url(#clip610)\" style=\"stroke:#000000; stroke-width:4; stroke-opacity:1; fill:none\" points=\"\n",
       "  974.07,1486.45 974.07,1470.09 \n",
       "  \"/>\n",
       "<polyline clip-path=\"url(#clip610)\" style=\"stroke:#000000; stroke-width:4; stroke-opacity:1; fill:none\" points=\"\n",
       "  1467.93,1486.45 1467.93,1470.09 \n",
       "  \"/>\n",
       "<polyline clip-path=\"url(#clip610)\" style=\"stroke:#000000; stroke-width:4; stroke-opacity:1; fill:none\" points=\"\n",
       "  1961.79,1486.45 1961.79,1470.09 \n",
       "  \"/>\n",
       "<path clip-path=\"url(#clip610)\" d=\"M 0 0 M448.639 1515.64 Q445.028 1515.64 443.199 1519.2 Q441.394 1522.75 441.394 1529.87 Q441.394 1536.98 443.199 1540.55 Q445.028 1544.09 448.639 1544.09 Q452.273 1544.09 454.079 1540.55 Q455.907 1536.98 455.907 1529.87 Q455.907 1522.75 454.079 1519.2 Q452.273 1515.64 448.639 1515.64 M448.639 1511.93 Q454.449 1511.93 457.505 1516.54 Q460.583 1521.12 460.583 1529.87 Q460.583 1538.6 457.505 1543.21 Q454.449 1547.79 448.639 1547.79 Q442.829 1547.79 439.75 1543.21 Q436.695 1538.6 436.695 1529.87 Q436.695 1521.12 439.75 1516.54 Q442.829 1511.93 448.639 1511.93 Z\" fill=\"#000000\" fill-rule=\"evenodd\" fill-opacity=\"1\" /><path clip-path=\"url(#clip610)\" d=\"M 0 0 M465.653 1541.24 L470.537 1541.24 L470.537 1547.12 L465.653 1547.12 L465.653 1541.24 Z\" fill=\"#000000\" fill-rule=\"evenodd\" fill-opacity=\"1\" /><path clip-path=\"url(#clip610)\" d=\"M 0 0 M489.773 1528.49 Q493.129 1529.2 495.004 1531.47 Q496.903 1533.74 496.903 1537.07 Q496.903 1542.19 493.384 1544.99 Q489.866 1547.79 483.384 1547.79 Q481.208 1547.79 478.893 1547.35 Q476.602 1546.93 474.148 1546.08 L474.148 1541.56 Q476.092 1542.7 478.407 1543.28 Q480.722 1543.86 483.245 1543.86 Q487.643 1543.86 489.935 1542.12 Q492.25 1540.38 492.25 1537.07 Q492.25 1534.02 490.097 1532.31 Q487.967 1530.57 484.148 1530.57 L480.12 1530.57 L480.12 1526.73 L484.333 1526.73 Q487.782 1526.73 489.611 1525.36 Q491.44 1523.97 491.44 1521.38 Q491.44 1518.72 489.541 1517.31 Q487.666 1515.87 484.148 1515.87 Q482.227 1515.87 480.028 1516.29 Q477.829 1516.7 475.19 1517.58 L475.19 1513.42 Q477.852 1512.68 480.167 1512.31 Q482.504 1511.93 484.565 1511.93 Q489.889 1511.93 492.991 1514.37 Q496.092 1516.77 496.092 1520.89 Q496.092 1523.76 494.449 1525.75 Q492.805 1527.72 489.773 1528.49 Z\" fill=\"#000000\" fill-rule=\"evenodd\" fill-opacity=\"1\" /><path clip-path=\"url(#clip610)\" d=\"M 0 0 M502.111 1546.4 L502.111 1542.14 Q503.87 1542.98 505.676 1543.42 Q507.481 1543.86 509.217 1543.86 Q513.847 1543.86 516.277 1540.75 Q518.731 1537.63 519.078 1531.29 Q517.736 1533.28 515.676 1534.34 Q513.615 1535.41 511.115 1535.41 Q505.93 1535.41 502.898 1532.28 Q499.889 1529.13 499.889 1523.69 Q499.889 1518.37 503.037 1515.15 Q506.185 1511.93 511.416 1511.93 Q517.412 1511.93 520.56 1516.54 Q523.731 1521.12 523.731 1529.87 Q523.731 1538.05 519.842 1542.93 Q515.977 1547.79 509.426 1547.79 Q507.666 1547.79 505.861 1547.44 Q504.055 1547.1 502.111 1546.4 M511.416 1531.75 Q514.564 1531.75 516.393 1529.6 Q518.245 1527.44 518.245 1523.69 Q518.245 1519.97 516.393 1517.81 Q514.564 1515.64 511.416 1515.64 Q508.268 1515.64 506.416 1517.81 Q504.588 1519.97 504.588 1523.69 Q504.588 1527.44 506.416 1529.6 Q508.268 1531.75 511.416 1531.75 Z\" fill=\"#000000\" fill-rule=\"evenodd\" fill-opacity=\"1\" /><path clip-path=\"url(#clip610)\" d=\"M 0 0 M942.635 1515.64 Q939.024 1515.64 937.196 1519.2 Q935.39 1522.75 935.39 1529.87 Q935.39 1536.98 937.196 1540.55 Q939.024 1544.09 942.635 1544.09 Q946.27 1544.09 948.075 1540.55 Q949.904 1536.98 949.904 1529.87 Q949.904 1522.75 948.075 1519.2 Q946.27 1515.64 942.635 1515.64 M942.635 1511.93 Q948.445 1511.93 951.501 1516.54 Q954.58 1521.12 954.58 1529.87 Q954.58 1538.6 951.501 1543.21 Q948.445 1547.79 942.635 1547.79 Q936.825 1547.79 933.746 1543.21 Q930.691 1538.6 930.691 1529.87 Q930.691 1521.12 933.746 1516.54 Q936.825 1511.93 942.635 1511.93 Z\" fill=\"#000000\" fill-rule=\"evenodd\" fill-opacity=\"1\" /><path clip-path=\"url(#clip610)\" d=\"M 0 0 M959.649 1541.24 L964.533 1541.24 L964.533 1547.12 L959.649 1547.12 L959.649 1541.24 Z\" fill=\"#000000\" fill-rule=\"evenodd\" fill-opacity=\"1\" /><path clip-path=\"url(#clip610)\" d=\"M 0 0 M982.45 1516.63 L970.644 1535.08 L982.45 1535.08 L982.45 1516.63 M981.223 1512.56 L987.103 1512.56 L987.103 1535.08 L992.033 1535.08 L992.033 1538.97 L987.103 1538.97 L987.103 1547.12 L982.45 1547.12 L982.45 1538.97 L966.848 1538.97 L966.848 1534.46 L981.223 1512.56 Z\" fill=\"#000000\" fill-rule=\"evenodd\" fill-opacity=\"1\" /><path clip-path=\"url(#clip610)\" d=\"M 0 0 M1001.13 1543.18 L1017.45 1543.18 L1017.45 1547.12 L995.505 1547.12 L995.505 1543.18 Q998.167 1540.43 1002.75 1535.8 Q1007.36 1531.15 1008.54 1529.81 Q1010.78 1527.28 1011.66 1525.55 Q1012.57 1523.79 1012.57 1522.1 Q1012.57 1519.34 1010.62 1517.61 Q1008.7 1515.87 1005.6 1515.87 Q1003.4 1515.87 1000.95 1516.63 Q998.515 1517.4 995.737 1518.95 L995.737 1514.23 Q998.561 1513.09 1001.01 1512.51 Q1003.47 1511.93 1005.51 1511.93 Q1010.88 1511.93 1014.07 1514.62 Q1017.26 1517.31 1017.26 1521.8 Q1017.26 1523.93 1016.45 1525.85 Q1015.67 1527.74 1013.56 1530.34 Q1012.98 1531.01 1009.88 1534.23 Q1006.78 1537.42 1001.13 1543.18 Z\" fill=\"#000000\" fill-rule=\"evenodd\" fill-opacity=\"1\" /><path clip-path=\"url(#clip610)\" d=\"M 0 0 M1436.19 1515.64 Q1432.58 1515.64 1430.75 1519.2 Q1428.95 1522.75 1428.95 1529.87 Q1428.95 1536.98 1430.75 1540.55 Q1432.58 1544.09 1436.19 1544.09 Q1439.83 1544.09 1441.63 1540.55 Q1443.46 1536.98 1443.46 1529.87 Q1443.46 1522.75 1441.63 1519.2 Q1439.83 1515.64 1436.19 1515.64 M1436.19 1511.93 Q1442 1511.93 1445.06 1516.54 Q1448.14 1521.12 1448.14 1529.87 Q1448.14 1538.6 1445.06 1543.21 Q1442 1547.79 1436.19 1547.79 Q1430.38 1547.79 1427.3 1543.21 Q1424.25 1538.6 1424.25 1529.87 Q1424.25 1521.12 1427.3 1516.54 Q1430.38 1511.93 1436.19 1511.93 Z\" fill=\"#000000\" fill-rule=\"evenodd\" fill-opacity=\"1\" /><path clip-path=\"url(#clip610)\" d=\"M 0 0 M1453.21 1541.24 L1458.09 1541.24 L1458.09 1547.12 L1453.21 1547.12 L1453.21 1541.24 Z\" fill=\"#000000\" fill-rule=\"evenodd\" fill-opacity=\"1\" /><path clip-path=\"url(#clip610)\" d=\"M 0 0 M1476.01 1516.63 L1464.2 1535.08 L1476.01 1535.08 L1476.01 1516.63 M1474.78 1512.56 L1480.66 1512.56 L1480.66 1535.08 L1485.59 1535.08 L1485.59 1538.97 L1480.66 1538.97 L1480.66 1547.12 L1476.01 1547.12 L1476.01 1538.97 L1460.4 1538.97 L1460.4 1534.46 L1474.78 1512.56 Z\" fill=\"#000000\" fill-rule=\"evenodd\" fill-opacity=\"1\" /><path clip-path=\"url(#clip610)\" d=\"M 0 0 M1490.71 1512.56 L1509.06 1512.56 L1509.06 1516.5 L1494.99 1516.5 L1494.99 1524.97 Q1496.01 1524.62 1497.02 1524.46 Q1498.04 1524.27 1499.06 1524.27 Q1504.85 1524.27 1508.23 1527.44 Q1511.61 1530.62 1511.61 1536.03 Q1511.61 1541.61 1508.14 1544.71 Q1504.66 1547.79 1498.34 1547.79 Q1496.17 1547.79 1493.9 1547.42 Q1491.65 1547.05 1489.25 1546.31 L1489.25 1541.61 Q1491.33 1542.74 1493.55 1543.3 Q1495.77 1543.86 1498.25 1543.86 Q1502.26 1543.86 1504.59 1541.75 Q1506.93 1539.64 1506.93 1536.03 Q1506.93 1532.42 1504.59 1530.31 Q1502.26 1528.21 1498.25 1528.21 Q1496.38 1528.21 1494.5 1528.62 Q1492.65 1529.04 1490.71 1529.92 L1490.71 1512.56 Z\" fill=\"#000000\" fill-rule=\"evenodd\" fill-opacity=\"1\" /><path clip-path=\"url(#clip610)\" d=\"M 0 0 M1929.6 1515.64 Q1925.99 1515.64 1924.16 1519.2 Q1922.35 1522.75 1922.35 1529.87 Q1922.35 1536.98 1924.16 1540.55 Q1925.99 1544.09 1929.6 1544.09 Q1933.23 1544.09 1935.04 1540.55 Q1936.87 1536.98 1936.87 1529.87 Q1936.87 1522.75 1935.04 1519.2 Q1933.23 1515.64 1929.6 1515.64 M1929.6 1511.93 Q1935.41 1511.93 1938.46 1516.54 Q1941.54 1521.12 1941.54 1529.87 Q1941.54 1538.6 1938.46 1543.21 Q1935.41 1547.79 1929.6 1547.79 Q1923.79 1547.79 1920.71 1543.21 Q1917.65 1538.6 1917.65 1529.87 Q1917.65 1521.12 1920.71 1516.54 Q1923.79 1511.93 1929.6 1511.93 Z\" fill=\"#000000\" fill-rule=\"evenodd\" fill-opacity=\"1\" /><path clip-path=\"url(#clip610)\" d=\"M 0 0 M1946.61 1541.24 L1951.5 1541.24 L1951.5 1547.12 L1946.61 1547.12 L1946.61 1541.24 Z\" fill=\"#000000\" fill-rule=\"evenodd\" fill-opacity=\"1\" /><path clip-path=\"url(#clip610)\" d=\"M 0 0 M1969.41 1516.63 L1957.61 1535.08 L1969.41 1535.08 L1969.41 1516.63 M1968.19 1512.56 L1974.07 1512.56 L1974.07 1535.08 L1979 1535.08 L1979 1538.97 L1974.07 1538.97 L1974.07 1547.12 L1969.41 1547.12 L1969.41 1538.97 L1953.81 1538.97 L1953.81 1534.46 L1968.19 1512.56 Z\" fill=\"#000000\" fill-rule=\"evenodd\" fill-opacity=\"1\" /><path clip-path=\"url(#clip610)\" d=\"M 0 0 M1994.07 1530.71 Q1990.73 1530.71 1988.81 1532.49 Q1986.91 1534.27 1986.91 1537.4 Q1986.91 1540.52 1988.81 1542.31 Q1990.73 1544.09 1994.07 1544.09 Q1997.4 1544.09 1999.32 1542.31 Q2001.24 1540.5 2001.24 1537.4 Q2001.24 1534.27 1999.32 1532.49 Q1997.42 1530.71 1994.07 1530.71 M1989.39 1528.72 Q1986.38 1527.98 1984.69 1525.92 Q1983.02 1523.86 1983.02 1520.89 Q1983.02 1516.75 1985.96 1514.34 Q1988.93 1511.93 1994.07 1511.93 Q1999.23 1511.93 2002.17 1514.34 Q2005.11 1516.75 2005.11 1520.89 Q2005.11 1523.86 2003.42 1525.92 Q2001.75 1527.98 1998.76 1528.72 Q2002.14 1529.5 2004.02 1531.8 Q2005.92 1534.09 2005.92 1537.4 Q2005.92 1542.42 2002.84 1545.11 Q1999.78 1547.79 1994.07 1547.79 Q1988.35 1547.79 1985.27 1545.11 Q1982.21 1542.42 1982.21 1537.4 Q1982.21 1534.09 1984.11 1531.8 Q1986.01 1529.5 1989.39 1528.72 M1987.68 1521.33 Q1987.68 1524.02 1989.34 1525.52 Q1991.03 1527.03 1994.07 1527.03 Q1997.07 1527.03 1998.76 1525.52 Q2000.48 1524.02 2000.48 1521.33 Q2000.48 1518.65 1998.76 1517.14 Q1997.07 1515.64 1994.07 1515.64 Q1991.03 1515.64 1989.34 1517.14 Q1987.68 1518.65 1987.68 1521.33 Z\" fill=\"#000000\" fill-rule=\"evenodd\" fill-opacity=\"1\" /><polyline clip-path=\"url(#clip612)\" style=\"stroke:#000000; stroke-width:2; stroke-opacity:0.1; fill:none\" points=\"\n",
       "  171.552,1447.87 2352.76,1447.87 \n",
       "  \"/>\n",
       "<polyline clip-path=\"url(#clip612)\" style=\"stroke:#000000; stroke-width:2; stroke-opacity:0.1; fill:none\" points=\"\n",
       "  171.552,1190.71 2352.76,1190.71 \n",
       "  \"/>\n",
       "<polyline clip-path=\"url(#clip612)\" style=\"stroke:#000000; stroke-width:2; stroke-opacity:0.1; fill:none\" points=\"\n",
       "  171.552,933.543 2352.76,933.543 \n",
       "  \"/>\n",
       "<polyline clip-path=\"url(#clip612)\" style=\"stroke:#000000; stroke-width:2; stroke-opacity:0.1; fill:none\" points=\"\n",
       "  171.552,676.377 2352.76,676.377 \n",
       "  \"/>\n",
       "<polyline clip-path=\"url(#clip612)\" style=\"stroke:#000000; stroke-width:2; stroke-opacity:0.1; fill:none\" points=\"\n",
       "  171.552,419.212 2352.76,419.212 \n",
       "  \"/>\n",
       "<polyline clip-path=\"url(#clip612)\" style=\"stroke:#000000; stroke-width:2; stroke-opacity:0.1; fill:none\" points=\"\n",
       "  171.552,162.047 2352.76,162.047 \n",
       "  \"/>\n",
       "<polyline clip-path=\"url(#clip610)\" style=\"stroke:#000000; stroke-width:4; stroke-opacity:1; fill:none\" points=\"\n",
       "  171.552,1486.45 171.552,123.472 \n",
       "  \"/>\n",
       "<polyline clip-path=\"url(#clip610)\" style=\"stroke:#000000; stroke-width:4; stroke-opacity:1; fill:none\" points=\"\n",
       "  171.552,1447.87 197.726,1447.87 \n",
       "  \"/>\n",
       "<polyline clip-path=\"url(#clip610)\" style=\"stroke:#000000; stroke-width:4; stroke-opacity:1; fill:none\" points=\"\n",
       "  171.552,1190.71 197.726,1190.71 \n",
       "  \"/>\n",
       "<polyline clip-path=\"url(#clip610)\" style=\"stroke:#000000; stroke-width:4; stroke-opacity:1; fill:none\" points=\"\n",
       "  171.552,933.543 197.726,933.543 \n",
       "  \"/>\n",
       "<polyline clip-path=\"url(#clip610)\" style=\"stroke:#000000; stroke-width:4; stroke-opacity:1; fill:none\" points=\"\n",
       "  171.552,676.377 197.726,676.377 \n",
       "  \"/>\n",
       "<polyline clip-path=\"url(#clip610)\" style=\"stroke:#000000; stroke-width:4; stroke-opacity:1; fill:none\" points=\"\n",
       "  171.552,419.212 197.726,419.212 \n",
       "  \"/>\n",
       "<polyline clip-path=\"url(#clip610)\" style=\"stroke:#000000; stroke-width:4; stroke-opacity:1; fill:none\" points=\"\n",
       "  171.552,162.047 197.726,162.047 \n",
       "  \"/>\n",
       "<path clip-path=\"url(#clip610)\" d=\"M 0 0 M51.6634 1461.22 L59.3023 1461.22 L59.3023 1434.85 L50.9921 1436.52 L50.9921 1432.26 L59.256 1430.59 L63.9319 1430.59 L63.9319 1461.22 L71.5707 1461.22 L71.5707 1465.15 L51.6634 1465.15 L51.6634 1461.22 Z\" fill=\"#000000\" fill-rule=\"evenodd\" fill-opacity=\"1\" /><path clip-path=\"url(#clip610)\" d=\"M 0 0 M76.6401 1459.27 L81.5244 1459.27 L81.5244 1465.15 L76.6401 1465.15 L76.6401 1459.27 Z\" fill=\"#000000\" fill-rule=\"evenodd\" fill-opacity=\"1\" /><path clip-path=\"url(#clip610)\" d=\"M 0 0 M96.5937 1433.67 Q92.9826 1433.67 91.1539 1437.24 Q89.3484 1440.78 89.3484 1447.91 Q89.3484 1455.01 91.1539 1458.58 Q92.9826 1462.12 96.5937 1462.12 Q100.228 1462.12 102.034 1458.58 Q103.862 1455.01 103.862 1447.91 Q103.862 1440.78 102.034 1437.24 Q100.228 1433.67 96.5937 1433.67 M96.5937 1429.97 Q102.404 1429.97 105.459 1434.57 Q108.538 1439.16 108.538 1447.91 Q108.538 1456.63 105.459 1461.24 Q102.404 1465.82 96.5937 1465.82 Q90.7836 1465.82 87.7049 1461.24 Q84.6494 1456.63 84.6494 1447.91 Q84.6494 1439.16 87.7049 1434.57 Q90.7836 1429.97 96.5937 1429.97 Z\" fill=\"#000000\" fill-rule=\"evenodd\" fill-opacity=\"1\" /><path clip-path=\"url(#clip610)\" d=\"M 0 0 M123.607 1433.67 Q119.996 1433.67 118.168 1437.24 Q116.362 1440.78 116.362 1447.91 Q116.362 1455.01 118.168 1458.58 Q119.996 1462.12 123.607 1462.12 Q127.242 1462.12 129.047 1458.58 Q130.876 1455.01 130.876 1447.91 Q130.876 1440.78 129.047 1437.24 Q127.242 1433.67 123.607 1433.67 M123.607 1429.97 Q129.418 1429.97 132.473 1434.57 Q135.552 1439.16 135.552 1447.91 Q135.552 1456.63 132.473 1461.24 Q129.418 1465.82 123.607 1465.82 Q117.797 1465.82 114.719 1461.24 Q111.663 1456.63 111.663 1447.91 Q111.663 1439.16 114.719 1434.57 Q117.797 1429.97 123.607 1429.97 Z\" fill=\"#000000\" fill-rule=\"evenodd\" fill-opacity=\"1\" /><path clip-path=\"url(#clip610)\" d=\"M 0 0 M52.6588 1204.05 L60.2976 1204.05 L60.2976 1177.69 L51.9875 1179.35 L51.9875 1175.09 L60.2513 1173.43 L64.9272 1173.43 L64.9272 1204.05 L72.5661 1204.05 L72.5661 1207.99 L52.6588 1207.99 L52.6588 1204.05 Z\" fill=\"#000000\" fill-rule=\"evenodd\" fill-opacity=\"1\" /><path clip-path=\"url(#clip610)\" d=\"M 0 0 M77.6355 1202.11 L82.5197 1202.11 L82.5197 1207.99 L77.6355 1207.99 L77.6355 1202.11 Z\" fill=\"#000000\" fill-rule=\"evenodd\" fill-opacity=\"1\" /><path clip-path=\"url(#clip610)\" d=\"M 0 0 M97.5891 1176.51 Q93.978 1176.51 92.1493 1180.07 Q90.3438 1183.61 90.3438 1190.74 Q90.3438 1197.85 92.1493 1201.41 Q93.978 1204.96 97.5891 1204.96 Q101.223 1204.96 103.029 1201.41 Q104.858 1197.85 104.858 1190.74 Q104.858 1183.61 103.029 1180.07 Q101.223 1176.51 97.5891 1176.51 M97.5891 1172.8 Q103.399 1172.8 106.455 1177.41 Q109.533 1181.99 109.533 1190.74 Q109.533 1199.47 106.455 1204.08 Q103.399 1208.66 97.5891 1208.66 Q91.7789 1208.66 88.7003 1204.08 Q85.6447 1199.47 85.6447 1190.74 Q85.6447 1181.99 88.7003 1177.41 Q91.7789 1172.8 97.5891 1172.8 Z\" fill=\"#000000\" fill-rule=\"evenodd\" fill-opacity=\"1\" /><path clip-path=\"url(#clip610)\" d=\"M 0 0 M114.649 1173.43 L133.006 1173.43 L133.006 1177.36 L118.932 1177.36 L118.932 1185.84 Q119.95 1185.49 120.969 1185.33 Q121.987 1185.14 123.006 1185.14 Q128.793 1185.14 132.172 1188.31 Q135.552 1191.48 135.552 1196.9 Q135.552 1202.48 132.08 1205.58 Q128.607 1208.66 122.288 1208.66 Q120.112 1208.66 117.844 1208.29 Q115.598 1207.92 113.191 1207.18 L113.191 1202.48 Q115.274 1203.61 117.496 1204.17 Q119.719 1204.72 122.195 1204.72 Q126.2 1204.72 128.538 1202.62 Q130.876 1200.51 130.876 1196.9 Q130.876 1193.29 128.538 1191.18 Q126.2 1189.08 122.195 1189.08 Q120.32 1189.08 118.445 1189.49 Q116.594 1189.91 114.649 1190.79 L114.649 1173.43 Z\" fill=\"#000000\" fill-rule=\"evenodd\" fill-opacity=\"1\" /><path clip-path=\"url(#clip610)\" d=\"M 0 0 M52.8903 946.887 L60.5291 946.887 L60.5291 920.522 L52.219 922.189 L52.219 917.929 L60.4828 916.263 L65.1587 916.263 L65.1587 946.887 L72.7976 946.887 L72.7976 950.823 L52.8903 950.823 L52.8903 946.887 Z\" fill=\"#000000\" fill-rule=\"evenodd\" fill-opacity=\"1\" /><path clip-path=\"url(#clip610)\" d=\"M 0 0 M77.867 944.943 L82.7512 944.943 L82.7512 950.823 L77.867 950.823 L77.867 944.943 Z\" fill=\"#000000\" fill-rule=\"evenodd\" fill-opacity=\"1\" /><path clip-path=\"url(#clip610)\" d=\"M 0 0 M88.6308 946.887 L96.2697 946.887 L96.2697 920.522 L87.9595 922.189 L87.9595 917.929 L96.2234 916.263 L100.899 916.263 L100.899 946.887 L108.538 946.887 L108.538 950.823 L88.6308 950.823 L88.6308 946.887 Z\" fill=\"#000000\" fill-rule=\"evenodd\" fill-opacity=\"1\" /><path clip-path=\"url(#clip610)\" d=\"M 0 0 M123.607 919.341 Q119.996 919.341 118.168 922.906 Q116.362 926.448 116.362 933.577 Q116.362 940.684 118.168 944.249 Q119.996 947.79 123.607 947.79 Q127.242 947.79 129.047 944.249 Q130.876 940.684 130.876 933.577 Q130.876 926.448 129.047 922.906 Q127.242 919.341 123.607 919.341 M123.607 915.638 Q129.418 915.638 132.473 920.244 Q135.552 924.827 135.552 933.577 Q135.552 942.304 132.473 946.911 Q129.418 951.494 123.607 951.494 Q117.797 951.494 114.719 946.911 Q111.663 942.304 111.663 933.577 Q111.663 924.827 114.719 920.244 Q117.797 915.638 123.607 915.638 Z\" fill=\"#000000\" fill-rule=\"evenodd\" fill-opacity=\"1\" /><path clip-path=\"url(#clip610)\" d=\"M 0 0 M53.8856 689.722 L61.5245 689.722 L61.5245 663.357 L53.2143 665.023 L53.2143 660.764 L61.4782 659.097 L66.1541 659.097 L66.1541 689.722 L73.7929 689.722 L73.7929 693.657 L53.8856 693.657 L53.8856 689.722 Z\" fill=\"#000000\" fill-rule=\"evenodd\" fill-opacity=\"1\" /><path clip-path=\"url(#clip610)\" d=\"M 0 0 M78.8623 687.778 L83.7466 687.778 L83.7466 693.657 L78.8623 693.657 L78.8623 687.778 Z\" fill=\"#000000\" fill-rule=\"evenodd\" fill-opacity=\"1\" /><path clip-path=\"url(#clip610)\" d=\"M 0 0 M89.6262 689.722 L97.265 689.722 L97.265 663.357 L88.9549 665.023 L88.9549 660.764 L97.2187 659.097 L101.895 659.097 L101.895 689.722 L109.533 689.722 L109.533 693.657 L89.6262 693.657 L89.6262 689.722 Z\" fill=\"#000000\" fill-rule=\"evenodd\" fill-opacity=\"1\" /><path clip-path=\"url(#clip610)\" d=\"M 0 0 M114.649 659.097 L133.006 659.097 L133.006 663.033 L118.932 663.033 L118.932 671.505 Q119.95 671.158 120.969 670.995 Q121.987 670.81 123.006 670.81 Q128.793 670.81 132.172 673.982 Q135.552 677.153 135.552 682.569 Q135.552 688.148 132.08 691.25 Q128.607 694.329 122.288 694.329 Q120.112 694.329 117.844 693.958 Q115.598 693.588 113.191 692.847 L113.191 688.148 Q115.274 689.282 117.496 689.838 Q119.719 690.394 122.195 690.394 Q126.2 690.394 128.538 688.287 Q130.876 686.181 130.876 682.569 Q130.876 678.958 128.538 676.852 Q126.2 674.745 122.195 674.745 Q120.32 674.745 118.445 675.162 Q116.594 675.579 114.649 676.458 L114.649 659.097 Z\" fill=\"#000000\" fill-rule=\"evenodd\" fill-opacity=\"1\" /><path clip-path=\"url(#clip610)\" d=\"M 0 0 M53.2606 432.557 L60.8995 432.557 L60.8995 406.191 L52.5893 407.858 L52.5893 403.599 L60.8532 401.932 L65.5291 401.932 L65.5291 432.557 L73.1679 432.557 L73.1679 436.492 L53.2606 436.492 L53.2606 432.557 Z\" fill=\"#000000\" fill-rule=\"evenodd\" fill-opacity=\"1\" /><path clip-path=\"url(#clip610)\" d=\"M 0 0 M78.2374 430.613 L83.1216 430.613 L83.1216 436.492 L78.2374 436.492 L78.2374 430.613 Z\" fill=\"#000000\" fill-rule=\"evenodd\" fill-opacity=\"1\" /><path clip-path=\"url(#clip610)\" d=\"M 0 0 M92.2188 432.557 L108.538 432.557 L108.538 436.492 L86.5938 436.492 L86.5938 432.557 Q89.2558 429.802 93.8391 425.173 Q98.4456 420.52 99.6261 419.177 Q101.871 416.654 102.751 414.918 Q103.654 413.159 103.654 411.469 Q103.654 408.715 101.709 406.978 Q99.7882 405.242 96.6863 405.242 Q94.4873 405.242 92.0336 406.006 Q89.603 406.77 86.8253 408.321 L86.8253 403.599 Q89.6493 402.465 92.103 401.886 Q94.5567 401.307 96.5937 401.307 Q101.964 401.307 105.159 403.992 Q108.353 406.677 108.353 411.168 Q108.353 413.298 107.543 415.219 Q106.756 417.117 104.649 419.71 Q104.071 420.381 100.969 423.599 Q97.8669 426.793 92.2188 432.557 Z\" fill=\"#000000\" fill-rule=\"evenodd\" fill-opacity=\"1\" /><path clip-path=\"url(#clip610)\" d=\"M 0 0 M123.607 405.011 Q119.996 405.011 118.168 408.576 Q116.362 412.117 116.362 419.247 Q116.362 426.353 118.168 429.918 Q119.996 433.46 123.607 433.46 Q127.242 433.46 129.047 429.918 Q130.876 426.353 130.876 419.247 Q130.876 412.117 129.047 408.576 Q127.242 405.011 123.607 405.011 M123.607 401.307 Q129.418 401.307 132.473 405.914 Q135.552 410.497 135.552 419.247 Q135.552 427.974 132.473 432.58 Q129.418 437.163 123.607 437.163 Q117.797 437.163 114.719 432.58 Q111.663 427.974 111.663 419.247 Q111.663 410.497 114.719 405.914 Q117.797 401.307 123.607 401.307 Z\" fill=\"#000000\" fill-rule=\"evenodd\" fill-opacity=\"1\" /><path clip-path=\"url(#clip610)\" d=\"M 0 0 M54.256 175.392 L61.8948 175.392 L61.8948 149.026 L53.5847 150.693 L53.5847 146.434 L61.8485 144.767 L66.5245 144.767 L66.5245 175.392 L74.1633 175.392 L74.1633 179.327 L54.256 179.327 L54.256 175.392 Z\" fill=\"#000000\" fill-rule=\"evenodd\" fill-opacity=\"1\" /><path clip-path=\"url(#clip610)\" d=\"M 0 0 M79.2327 173.447 L84.1169 173.447 L84.1169 179.327 L79.2327 179.327 L79.2327 173.447 Z\" fill=\"#000000\" fill-rule=\"evenodd\" fill-opacity=\"1\" /><path clip-path=\"url(#clip610)\" d=\"M 0 0 M93.2141 175.392 L109.533 175.392 L109.533 179.327 L87.5892 179.327 L87.5892 175.392 Q90.2512 172.637 94.8345 168.008 Q99.4409 163.355 100.621 162.012 Q102.867 159.489 103.746 157.753 Q104.649 155.994 104.649 154.304 Q104.649 151.549 102.705 149.813 Q100.784 148.077 97.6817 148.077 Q95.4826 148.077 93.0289 148.841 Q90.5984 149.605 87.8206 151.156 L87.8206 146.434 Q90.6447 145.299 93.0984 144.721 Q95.5521 144.142 97.5891 144.142 Q102.959 144.142 106.154 146.827 Q109.348 149.512 109.348 154.003 Q109.348 156.133 108.538 158.054 Q107.751 159.952 105.645 162.545 Q105.066 163.216 101.964 166.433 Q98.8622 169.628 93.2141 175.392 Z\" fill=\"#000000\" fill-rule=\"evenodd\" fill-opacity=\"1\" /><path clip-path=\"url(#clip610)\" d=\"M 0 0 M114.649 144.767 L133.006 144.767 L133.006 148.702 L118.932 148.702 L118.932 157.174 Q119.95 156.827 120.969 156.665 Q121.987 156.48 123.006 156.48 Q128.793 156.48 132.172 159.651 Q135.552 162.822 135.552 168.239 Q135.552 173.818 132.08 176.92 Q128.607 179.998 122.288 179.998 Q120.112 179.998 117.844 179.628 Q115.598 179.257 113.191 178.517 L113.191 173.818 Q115.274 174.952 117.496 175.507 Q119.719 176.063 122.195 176.063 Q126.2 176.063 128.538 173.957 Q130.876 171.85 130.876 168.239 Q130.876 164.628 128.538 162.521 Q126.2 160.415 122.195 160.415 Q120.32 160.415 118.445 160.832 Q116.594 161.248 114.649 162.128 L114.649 144.767 Z\" fill=\"#000000\" fill-rule=\"evenodd\" fill-opacity=\"1\" /><path clip-path=\"url(#clip610)\" d=\"M 0 0 M928.582 63.9476 L928.582 47.7034 L915.214 47.7034 L915.214 40.9789 L936.684 40.9789 L936.684 66.9452 Q931.944 70.3075 926.233 72.0494 Q920.521 73.7508 914.039 73.7508 Q899.861 73.7508 891.84 65.4869 Q883.86 57.1826 883.86 42.3968 Q883.86 27.5705 891.84 19.3066 Q899.861 11.0023 914.039 11.0023 Q919.954 11.0023 925.26 12.4606 Q930.608 13.9189 935.104 16.7545 L935.104 25.464 Q930.567 21.6156 925.463 19.6712 Q920.359 17.7268 914.728 17.7268 Q903.629 17.7268 898.038 23.9246 Q892.489 30.1225 892.489 42.3968 Q892.489 54.6305 898.038 60.8284 Q903.629 67.0263 914.728 67.0263 Q919.063 67.0263 922.465 66.2971 Q925.868 65.5274 928.582 63.9476 Z\" fill=\"#000000\" fill-rule=\"evenodd\" fill-opacity=\"1\" /><path clip-path=\"url(#clip610)\" d=\"M 0 0 M965.121 49.7694 Q956.088 49.7694 952.604 51.8354 Q949.12 53.9013 949.12 58.8839 Q949.12 62.8538 951.713 65.2034 Q954.346 67.5124 958.842 67.5124 Q965.04 67.5124 968.767 63.1374 Q972.534 58.7219 972.534 51.4303 L972.534 49.7694 L965.121 49.7694 M979.988 46.6907 L979.988 72.576 L972.534 72.576 L972.534 65.6895 Q969.982 69.8214 966.175 71.8063 Q962.367 73.7508 956.857 73.7508 Q949.89 73.7508 945.758 69.8619 Q941.667 65.9325 941.667 59.3701 Q941.667 51.7138 946.771 47.825 Q951.915 43.9361 962.083 43.9361 L972.534 43.9361 L972.534 43.2069 Q972.534 38.0623 969.132 35.2672 Q965.769 32.4315 959.653 32.4315 Q955.764 32.4315 952.077 33.3632 Q948.391 34.295 944.988 36.1584 L944.988 29.2718 Q949.08 27.692 952.928 26.9223 Q956.776 26.1121 960.422 26.1121 Q970.266 26.1121 975.127 31.2163 Q979.988 36.3204 979.988 46.6907 Z\" fill=\"#000000\" fill-rule=\"evenodd\" fill-opacity=\"1\" /><path clip-path=\"url(#clip610)\" d=\"M 0 0 M987.037 54.671 L987.037 27.2059 L994.49 27.2059 L994.49 54.3874 Q994.49 60.8284 997.002 64.0691 Q999.514 67.2693 1004.54 67.2693 Q1010.57 67.2693 1014.06 63.421 Q1017.58 59.5726 1017.58 52.9291 L1017.58 27.2059 L1025.03 27.2059 L1025.03 72.576 L1017.58 72.576 L1017.58 65.6084 Q1014.87 69.7404 1011.26 71.7658 Q1007.7 73.7508 1002.96 73.7508 Q995.139 73.7508 991.088 68.8897 Q987.037 64.0286 987.037 54.671 M1005.79 26.1121 L1005.79 26.1121 Z\" fill=\"#000000\" fill-rule=\"evenodd\" fill-opacity=\"1\" /><path clip-path=\"url(#clip610)\" d=\"M 0 0 M1061.78 28.5427 L1061.78 35.5912 Q1058.62 33.9709 1055.21 33.1607 Q1051.81 32.3505 1048.16 32.3505 Q1042.62 32.3505 1039.82 34.0519 Q1037.07 35.7533 1037.07 39.156 Q1037.07 41.7486 1039.05 43.2475 Q1041.04 44.7058 1047.03 46.0426 L1049.58 46.6097 Q1057.52 48.3111 1060.84 51.4303 Q1064.21 54.509 1064.21 60.0587 Q1064.21 66.3781 1059.18 70.0644 Q1054.2 73.7508 1045.45 73.7508 Q1041.8 73.7508 1037.84 73.0216 Q1033.91 72.3329 1029.53 70.9151 L1029.53 63.2184 Q1033.66 65.3654 1037.67 66.4591 Q1041.68 67.5124 1045.61 67.5124 Q1050.88 67.5124 1053.71 65.73 Q1056.55 63.9071 1056.55 60.6258 Q1056.55 57.5877 1054.48 55.9673 Q1052.46 54.3469 1045.53 52.8481 L1042.94 52.2405 Q1036.01 50.7821 1032.93 47.7845 Q1029.85 44.7463 1029.85 39.4801 Q1029.85 33.0797 1034.39 29.5959 Q1038.93 26.1121 1047.27 26.1121 Q1051.41 26.1121 1055.05 26.7198 Q1058.7 27.3274 1061.78 28.5427 Z\" fill=\"#000000\" fill-rule=\"evenodd\" fill-opacity=\"1\" /><path clip-path=\"url(#clip610)\" d=\"M 0 0 M1100.95 28.5427 L1100.95 35.5912 Q1097.79 33.9709 1094.39 33.1607 Q1090.98 32.3505 1087.34 32.3505 Q1081.79 32.3505 1078.99 34.0519 Q1076.24 35.7533 1076.24 39.156 Q1076.24 41.7486 1078.22 43.2475 Q1080.21 44.7058 1086.2 46.0426 L1088.75 46.6097 Q1096.69 48.3111 1100.02 51.4303 Q1103.38 54.509 1103.38 60.0587 Q1103.38 66.3781 1098.36 70.0644 Q1093.37 73.7508 1084.62 73.7508 Q1080.98 73.7508 1077.01 73.0216 Q1073.08 72.3329 1068.7 70.9151 L1068.7 63.2184 Q1072.83 65.3654 1076.85 66.4591 Q1080.86 67.5124 1084.79 67.5124 Q1090.05 67.5124 1092.89 65.73 Q1095.72 63.9071 1095.72 60.6258 Q1095.72 57.5877 1093.66 55.9673 Q1091.63 54.3469 1084.7 52.8481 L1082.11 52.2405 Q1075.18 50.7821 1072.11 47.7845 Q1069.03 44.7463 1069.03 39.4801 Q1069.03 33.0797 1073.56 29.5959 Q1078.1 26.1121 1086.45 26.1121 Q1090.58 26.1121 1094.22 26.7198 Q1097.87 27.3274 1100.95 28.5427 Z\" fill=\"#000000\" fill-rule=\"evenodd\" fill-opacity=\"1\" /><path clip-path=\"url(#clip610)\" d=\"M 0 0 M1174.15 14.0809 L1174.15 22.0612 Q1169.49 19.8332 1165.36 18.7395 Q1161.23 17.6457 1157.38 17.6457 Q1150.69 17.6457 1147.05 20.2383 Q1143.44 22.8309 1143.44 27.611 Q1143.44 31.6214 1145.83 33.6873 Q1148.26 35.7128 1154.99 36.9686 L1159.93 37.9813 Q1169.08 39.7232 1173.42 44.1387 Q1177.79 48.5136 1177.79 55.8863 Q1177.79 64.6767 1171.88 69.2137 Q1166.01 73.7508 1154.62 73.7508 Q1150.33 73.7508 1145.47 72.7785 Q1140.65 71.8063 1135.46 69.9024 L1135.46 61.4765 Q1140.44 64.2716 1145.22 65.6895 Q1150 67.1073 1154.62 67.1073 Q1161.63 67.1073 1165.44 64.3527 Q1169.25 61.598 1169.25 56.4939 Q1169.25 52.0379 1166.49 49.5264 Q1163.78 47.0148 1157.54 45.759 L1152.56 44.7868 Q1143.4 42.9639 1139.31 39.075 Q1135.22 35.1862 1135.22 28.2591 Q1135.22 20.2383 1140.85 15.6203 Q1146.52 11.0023 1156.45 11.0023 Q1160.7 11.0023 1165.11 11.7719 Q1169.53 12.5416 1174.15 14.0809 Z\" fill=\"#000000\" fill-rule=\"evenodd\" fill-opacity=\"1\" /><path clip-path=\"url(#clip610)\" d=\"M 0 0 M1224.42 48.0275 L1224.42 51.6733 L1190.15 51.6733 Q1190.64 59.3701 1194.77 63.421 Q1198.94 67.4314 1206.35 67.4314 Q1210.65 67.4314 1214.66 66.3781 Q1218.71 65.3249 1222.68 63.2184 L1222.68 70.267 Q1218.67 71.9684 1214.45 72.8596 Q1210.24 73.7508 1205.91 73.7508 Q1195.05 73.7508 1188.69 67.4314 Q1182.37 61.1119 1182.37 50.3365 Q1182.37 39.1965 1188.37 32.6746 Q1194.4 26.1121 1204.61 26.1121 Q1213.77 26.1121 1219.07 32.0264 Q1224.42 37.9003 1224.42 48.0275 M1216.97 45.84 Q1216.89 39.7232 1213.52 36.0774 Q1210.2 32.4315 1204.69 32.4315 Q1198.45 32.4315 1194.69 35.9558 Q1190.96 39.4801 1190.39 45.8805 L1216.97 45.84 Z\" fill=\"#000000\" fill-rule=\"evenodd\" fill-opacity=\"1\" /><path clip-path=\"url(#clip610)\" d=\"M 0 0 M1232.24 27.2059 L1239.69 27.2059 L1239.69 72.576 L1232.24 72.576 L1232.24 27.2059 M1232.24 9.54393 L1239.69 9.54393 L1239.69 18.9825 L1232.24 18.9825 L1232.24 9.54393 Z\" fill=\"#000000\" fill-rule=\"evenodd\" fill-opacity=\"1\" /><path clip-path=\"url(#clip610)\" d=\"M 0 0 M1277.37 34.0924 L1277.37 9.54393 L1284.82 9.54393 L1284.82 72.576 L1277.37 72.576 L1277.37 65.7705 Q1275.02 69.8214 1271.41 71.8063 Q1267.85 73.7508 1262.82 73.7508 Q1254.6 73.7508 1249.41 67.1883 Q1244.27 60.6258 1244.27 49.9314 Q1244.27 39.2371 1249.41 32.6746 Q1254.6 26.1121 1262.82 26.1121 Q1267.85 26.1121 1271.41 28.0971 Q1275.02 30.0415 1277.37 34.0924 M1251.97 49.9314 Q1251.97 58.1548 1255.33 62.8538 Q1258.73 67.5124 1264.65 67.5124 Q1270.56 67.5124 1273.96 62.8538 Q1277.37 58.1548 1277.37 49.9314 Q1277.37 41.7081 1273.96 37.0496 Q1270.56 32.3505 1264.65 32.3505 Q1258.73 32.3505 1255.33 37.0496 Q1251.97 41.7081 1251.97 49.9314 Z\" fill=\"#000000\" fill-rule=\"evenodd\" fill-opacity=\"1\" /><path clip-path=\"url(#clip610)\" d=\"M 0 0 M1331.44 48.0275 L1331.44 51.6733 L1297.17 51.6733 Q1297.66 59.3701 1301.79 63.421 Q1305.96 67.4314 1313.38 67.4314 Q1317.67 67.4314 1321.68 66.3781 Q1325.73 65.3249 1329.7 63.2184 L1329.7 70.267 Q1325.69 71.9684 1321.48 72.8596 Q1317.27 73.7508 1312.93 73.7508 Q1302.08 73.7508 1295.72 67.4314 Q1289.4 61.1119 1289.4 50.3365 Q1289.4 39.1965 1295.39 32.6746 Q1301.43 26.1121 1311.64 26.1121 Q1320.79 26.1121 1326.1 32.0264 Q1331.44 37.9003 1331.44 48.0275 M1323.99 45.84 Q1323.91 39.7232 1320.55 36.0774 Q1317.23 32.4315 1311.72 32.4315 Q1305.48 32.4315 1301.71 35.9558 Q1297.98 39.4801 1297.42 45.8805 L1323.99 45.84 Z\" fill=\"#000000\" fill-rule=\"evenodd\" fill-opacity=\"1\" /><path clip-path=\"url(#clip610)\" d=\"M 0 0 M1339.26 9.54393 L1346.72 9.54393 L1346.72 72.576 L1339.26 72.576 L1339.26 9.54393 Z\" fill=\"#000000\" fill-rule=\"evenodd\" fill-opacity=\"1\" /><path clip-path=\"url(#clip610)\" d=\"M 0 0 M1409.91 44.2197 Q1412.54 45.1109 1415.01 48.0275 Q1417.53 50.9442 1420.04 56.0483 L1428.34 72.576 L1419.55 72.576 L1411.81 57.061 Q1408.82 50.9847 1405.98 48.9997 Q1403.19 47.0148 1398.33 47.0148 L1389.41 47.0148 L1389.41 72.576 L1381.23 72.576 L1381.23 12.096 L1399.7 12.096 Q1410.07 12.096 1415.18 16.4305 Q1420.28 20.7649 1420.28 29.5149 Q1420.28 35.2267 1417.61 38.994 Q1414.97 42.7613 1409.91 44.2197 M1389.41 18.8205 L1389.41 40.2903 L1399.7 40.2903 Q1405.62 40.2903 1408.61 37.5762 Q1411.65 34.8216 1411.65 29.5149 Q1411.65 24.2082 1408.61 21.5346 Q1405.62 18.8205 1399.7 18.8205 L1389.41 18.8205 Z\" fill=\"#000000\" fill-rule=\"evenodd\" fill-opacity=\"1\" /><path clip-path=\"url(#clip610)\" d=\"M 0 0 M1471.24 48.0275 L1471.24 51.6733 L1436.97 51.6733 Q1437.46 59.3701 1441.59 63.421 Q1445.76 67.4314 1453.17 67.4314 Q1457.47 67.4314 1461.48 66.3781 Q1465.53 65.3249 1469.5 63.2184 L1469.5 70.267 Q1465.49 71.9684 1461.28 72.8596 Q1457.06 73.7508 1452.73 73.7508 Q1441.87 73.7508 1435.51 67.4314 Q1429.19 61.1119 1429.19 50.3365 Q1429.19 39.1965 1435.19 32.6746 Q1441.22 26.1121 1451.43 26.1121 Q1460.59 26.1121 1465.89 32.0264 Q1471.24 37.9003 1471.24 48.0275 M1463.79 45.84 Q1463.71 39.7232 1460.34 36.0774 Q1457.02 32.4315 1451.51 32.4315 Q1445.28 32.4315 1441.51 35.9558 Q1437.78 39.4801 1437.21 45.8805 L1463.79 45.84 Z\" fill=\"#000000\" fill-rule=\"evenodd\" fill-opacity=\"1\" /><path clip-path=\"url(#clip610)\" d=\"M 0 0 M1507.98 28.5427 L1507.98 35.5912 Q1504.82 33.9709 1501.42 33.1607 Q1498.02 32.3505 1494.37 32.3505 Q1488.82 32.3505 1486.03 34.0519 Q1483.27 35.7533 1483.27 39.156 Q1483.27 41.7486 1485.26 43.2475 Q1487.24 44.7058 1493.24 46.0426 L1495.79 46.6097 Q1503.73 48.3111 1507.05 51.4303 Q1510.41 54.509 1510.41 60.0587 Q1510.41 66.3781 1505.39 70.0644 Q1500.41 73.7508 1491.66 73.7508 Q1488.01 73.7508 1484.04 73.0216 Q1480.11 72.3329 1475.74 70.9151 L1475.74 63.2184 Q1479.87 65.3654 1483.88 66.4591 Q1487.89 67.5124 1491.82 67.5124 Q1497.09 67.5124 1499.92 65.73 Q1502.76 63.9071 1502.76 60.6258 Q1502.76 57.5877 1500.69 55.9673 Q1498.67 54.3469 1491.74 52.8481 L1489.15 52.2405 Q1482.22 50.7821 1479.14 47.7845 Q1476.06 44.7463 1476.06 39.4801 Q1476.06 33.0797 1480.6 29.5959 Q1485.14 26.1121 1493.48 26.1121 Q1497.61 26.1121 1501.26 26.7198 Q1504.9 27.3274 1507.98 28.5427 Z\" fill=\"#000000\" fill-rule=\"evenodd\" fill-opacity=\"1\" /><path clip-path=\"url(#clip610)\" d=\"M 0 0 M1517.46 54.671 L1517.46 27.2059 L1524.92 27.2059 L1524.92 54.3874 Q1524.92 60.8284 1527.43 64.0691 Q1529.94 67.2693 1534.96 67.2693 Q1541 67.2693 1544.48 63.421 Q1548.01 59.5726 1548.01 52.9291 L1548.01 27.2059 L1555.46 27.2059 L1555.46 72.576 L1548.01 72.576 L1548.01 65.6084 Q1545.29 69.7404 1541.69 71.7658 Q1538.12 73.7508 1533.38 73.7508 Q1525.56 73.7508 1521.51 68.8897 Q1517.46 64.0286 1517.46 54.671 M1536.22 26.1121 L1536.22 26.1121 Z\" fill=\"#000000\" fill-rule=\"evenodd\" fill-opacity=\"1\" /><path clip-path=\"url(#clip610)\" d=\"M 0 0 M1563.28 9.54393 L1570.73 9.54393 L1570.73 72.576 L1563.28 72.576 L1563.28 9.54393 Z\" fill=\"#000000\" fill-rule=\"evenodd\" fill-opacity=\"1\" /><path clip-path=\"url(#clip610)\" d=\"M 0 0 M1585.92 14.324 L1585.92 27.2059 L1601.28 27.2059 L1601.28 32.9987 L1585.92 32.9987 L1585.92 57.6282 Q1585.92 63.1779 1587.42 64.7578 Q1588.96 66.3376 1593.62 66.3376 L1601.28 66.3376 L1601.28 72.576 L1593.62 72.576 Q1584.99 72.576 1581.71 69.3758 Q1578.43 66.1351 1578.43 57.6282 L1578.43 32.9987 L1572.96 32.9987 L1572.96 27.2059 L1578.43 27.2059 L1578.43 14.324 L1585.92 14.324 Z\" fill=\"#000000\" fill-rule=\"evenodd\" fill-opacity=\"1\" /><path clip-path=\"url(#clip610)\" d=\"M 0 0 M1638.02 28.5427 L1638.02 35.5912 Q1634.86 33.9709 1631.45 33.1607 Q1628.05 32.3505 1624.41 32.3505 Q1618.86 32.3505 1616.06 34.0519 Q1613.31 35.7533 1613.31 39.156 Q1613.31 41.7486 1615.29 43.2475 Q1617.28 44.7058 1623.27 46.0426 L1625.82 46.6097 Q1633.76 48.3111 1637.09 51.4303 Q1640.45 54.509 1640.45 60.0587 Q1640.45 66.3781 1635.42 70.0644 Q1630.44 73.7508 1621.69 73.7508 Q1618.05 73.7508 1614.08 73.0216 Q1610.15 72.3329 1605.77 70.9151 L1605.77 63.2184 Q1609.9 65.3654 1613.91 66.4591 Q1617.92 67.5124 1621.85 67.5124 Q1627.12 67.5124 1629.96 65.73 Q1632.79 63.9071 1632.79 60.6258 Q1632.79 57.5877 1630.73 55.9673 Q1628.7 54.3469 1621.77 52.8481 L1619.18 52.2405 Q1612.25 50.7821 1609.17 47.7845 Q1606.1 44.7463 1606.1 39.4801 Q1606.1 33.0797 1610.63 29.5959 Q1615.17 26.1121 1623.51 26.1121 Q1627.65 26.1121 1631.29 26.7198 Q1634.94 27.3274 1638.02 28.5427 Z\" fill=\"#000000\" fill-rule=\"evenodd\" fill-opacity=\"1\" /><circle clip-path=\"url(#clip612)\" cx=\"2291.02\" cy=\"1447.87\" r=\"14\" fill=\"#009af9\" fill-rule=\"evenodd\" fill-opacity=\"1\" stroke=\"#000000\" stroke-opacity=\"1\" stroke-width=\"3.2\"/>\n",
       "<circle clip-path=\"url(#clip612)\" cx=\"233.284\" cy=\"162.047\" r=\"14\" fill=\"#009af9\" fill-rule=\"evenodd\" fill-opacity=\"1\" stroke=\"#000000\" stroke-opacity=\"1\" stroke-width=\"3.2\"/>\n",
       "<circle clip-path=\"url(#clip612)\" cx=\"747.719\" cy=\"483.503\" r=\"14\" fill=\"#009af9\" fill-rule=\"evenodd\" fill-opacity=\"1\" stroke=\"#000000\" stroke-opacity=\"1\" stroke-width=\"3.2\"/>\n",
       "<circle clip-path=\"url(#clip612)\" cx=\"619.11\" cy=\"403.139\" r=\"14\" fill=\"#009af9\" fill-rule=\"evenodd\" fill-opacity=\"1\" stroke=\"#000000\" stroke-opacity=\"1\" stroke-width=\"3.2\"/>\n",
       "<circle clip-path=\"url(#clip612)\" cx=\"651.262\" cy=\"423.23\" r=\"14\" fill=\"#009af9\" fill-rule=\"evenodd\" fill-opacity=\"1\" stroke=\"#000000\" stroke-opacity=\"1\" stroke-width=\"3.2\"/>\n",
       "<circle clip-path=\"url(#clip612)\" cx=\"643.224\" cy=\"418.208\" r=\"14\" fill=\"#009af9\" fill-rule=\"evenodd\" fill-opacity=\"1\" stroke=\"#000000\" stroke-opacity=\"1\" stroke-width=\"3.2\"/>\n",
       "</svg>\n"
      ]
     },
     "execution_count": 528,
     "metadata": {},
     "output_type": "execute_result"
    }
   ],
   "source": [
    "scatter(X_seidel,Y_seidel,leg=false, title=\"Gauss Seidel Results\")"
   ]
  },
  {
   "cell_type": "code",
   "execution_count": 529,
   "metadata": {},
   "outputs": [
    {
     "data": {
      "image/svg+xml": [
       "<?xml version=\"1.0\" encoding=\"utf-8\"?>\n",
       "<svg xmlns=\"http://www.w3.org/2000/svg\" xmlns:xlink=\"http://www.w3.org/1999/xlink\" width=\"600\" height=\"400\" viewBox=\"0 0 2400 1600\">\n",
       "<defs>\n",
       "  <clipPath id=\"clip650\">\n",
       "    <rect x=\"0\" y=\"0\" width=\"2400\" height=\"1600\"/>\n",
       "  </clipPath>\n",
       "</defs>\n",
       "<path clip-path=\"url(#clip650)\" d=\"\n",
       "M0 1600 L2400 1600 L2400 0 L0 0  Z\n",
       "  \" fill=\"#ffffff\" fill-rule=\"evenodd\" fill-opacity=\"1\"/>\n",
       "<defs>\n",
       "  <clipPath id=\"clip651\">\n",
       "    <rect x=\"480\" y=\"0\" width=\"1681\" height=\"1600\"/>\n",
       "  </clipPath>\n",
       "</defs>\n",
       "<path clip-path=\"url(#clip650)\" d=\"\n",
       "M145.024 1486.45 L2352.76 1486.45 L2352.76 123.472 L145.024 123.472  Z\n",
       "  \" fill=\"#ffffff\" fill-rule=\"evenodd\" fill-opacity=\"1\"/>\n",
       "<defs>\n",
       "  <clipPath id=\"clip652\">\n",
       "    <rect x=\"145\" y=\"123\" width=\"2209\" height=\"1364\"/>\n",
       "  </clipPath>\n",
       "</defs>\n",
       "<polyline clip-path=\"url(#clip652)\" style=\"stroke:#000000; stroke-width:2; stroke-opacity:0.1; fill:none\" points=\"\n",
       "  624.06,1486.45 624.06,123.472 \n",
       "  \"/>\n",
       "<polyline clip-path=\"url(#clip652)\" style=\"stroke:#000000; stroke-width:2; stroke-opacity:0.1; fill:none\" points=\"\n",
       "  1179.46,1486.45 1179.46,123.472 \n",
       "  \"/>\n",
       "<polyline clip-path=\"url(#clip652)\" style=\"stroke:#000000; stroke-width:2; stroke-opacity:0.1; fill:none\" points=\"\n",
       "  1734.87,1486.45 1734.87,123.472 \n",
       "  \"/>\n",
       "<polyline clip-path=\"url(#clip652)\" style=\"stroke:#000000; stroke-width:2; stroke-opacity:0.1; fill:none\" points=\"\n",
       "  2290.27,1486.45 2290.27,123.472 \n",
       "  \"/>\n",
       "<polyline clip-path=\"url(#clip650)\" style=\"stroke:#000000; stroke-width:4; stroke-opacity:1; fill:none\" points=\"\n",
       "  145.024,1486.45 2352.76,1486.45 \n",
       "  \"/>\n",
       "<polyline clip-path=\"url(#clip650)\" style=\"stroke:#000000; stroke-width:4; stroke-opacity:1; fill:none\" points=\"\n",
       "  624.06,1486.45 624.06,1470.09 \n",
       "  \"/>\n",
       "<polyline clip-path=\"url(#clip650)\" style=\"stroke:#000000; stroke-width:4; stroke-opacity:1; fill:none\" points=\"\n",
       "  1179.46,1486.45 1179.46,1470.09 \n",
       "  \"/>\n",
       "<polyline clip-path=\"url(#clip650)\" style=\"stroke:#000000; stroke-width:4; stroke-opacity:1; fill:none\" points=\"\n",
       "  1734.87,1486.45 1734.87,1470.09 \n",
       "  \"/>\n",
       "<polyline clip-path=\"url(#clip650)\" style=\"stroke:#000000; stroke-width:4; stroke-opacity:1; fill:none\" points=\"\n",
       "  2290.27,1486.45 2290.27,1470.09 \n",
       "  \"/>\n",
       "<path clip-path=\"url(#clip650)\" d=\"M 0 0 M605.334 1515.64 Q601.722 1515.64 599.894 1519.2 Q598.088 1522.75 598.088 1529.87 Q598.088 1536.98 599.894 1540.55 Q601.722 1544.09 605.334 1544.09 Q608.968 1544.09 610.773 1540.55 Q612.602 1536.98 612.602 1529.87 Q612.602 1522.75 610.773 1519.2 Q608.968 1515.64 605.334 1515.64 M605.334 1511.93 Q611.144 1511.93 614.199 1516.54 Q617.278 1521.12 617.278 1529.87 Q617.278 1538.6 614.199 1543.21 Q611.144 1547.79 605.334 1547.79 Q599.523 1547.79 596.445 1543.21 Q593.389 1538.6 593.389 1529.87 Q593.389 1521.12 596.445 1516.54 Q599.523 1511.93 605.334 1511.93 Z\" fill=\"#000000\" fill-rule=\"evenodd\" fill-opacity=\"1\" /><path clip-path=\"url(#clip650)\" d=\"M 0 0 M622.347 1541.24 L627.232 1541.24 L627.232 1547.12 L622.347 1547.12 L622.347 1541.24 Z\" fill=\"#000000\" fill-rule=\"evenodd\" fill-opacity=\"1\" /><path clip-path=\"url(#clip650)\" d=\"M 0 0 M645.148 1516.63 L633.343 1535.08 L645.148 1535.08 L645.148 1516.63 M643.921 1512.56 L649.801 1512.56 L649.801 1535.08 L654.731 1535.08 L654.731 1538.97 L649.801 1538.97 L649.801 1547.12 L645.148 1547.12 L645.148 1538.97 L629.546 1538.97 L629.546 1534.46 L643.921 1512.56 Z\" fill=\"#000000\" fill-rule=\"evenodd\" fill-opacity=\"1\" /><path clip-path=\"url(#clip650)\" d=\"M 0 0 M1160.9 1515.64 Q1157.29 1515.64 1155.46 1519.2 Q1153.65 1522.75 1153.65 1529.87 Q1153.65 1536.98 1155.46 1540.55 Q1157.29 1544.09 1160.9 1544.09 Q1164.53 1544.09 1166.34 1540.55 Q1168.17 1536.98 1168.17 1529.87 Q1168.17 1522.75 1166.34 1519.2 Q1164.53 1515.64 1160.9 1515.64 M1160.9 1511.93 Q1166.71 1511.93 1169.77 1516.54 Q1172.84 1521.12 1172.84 1529.87 Q1172.84 1538.6 1169.77 1543.21 Q1166.71 1547.79 1160.9 1547.79 Q1155.09 1547.79 1152.01 1543.21 Q1148.96 1538.6 1148.96 1529.87 Q1148.96 1521.12 1152.01 1516.54 Q1155.09 1511.93 1160.9 1511.93 Z\" fill=\"#000000\" fill-rule=\"evenodd\" fill-opacity=\"1\" /><path clip-path=\"url(#clip650)\" d=\"M 0 0 M1177.91 1541.24 L1182.8 1541.24 L1182.8 1547.12 L1177.91 1547.12 L1177.91 1541.24 Z\" fill=\"#000000\" fill-rule=\"evenodd\" fill-opacity=\"1\" /><path clip-path=\"url(#clip650)\" d=\"M 0 0 M1198.45 1527.98 Q1195.3 1527.98 1193.45 1530.13 Q1191.62 1532.28 1191.62 1536.03 Q1191.62 1539.76 1193.45 1541.93 Q1195.3 1544.09 1198.45 1544.09 Q1201.59 1544.09 1203.42 1541.93 Q1205.27 1539.76 1205.27 1536.03 Q1205.27 1532.28 1203.42 1530.13 Q1201.59 1527.98 1198.45 1527.98 M1207.73 1513.32 L1207.73 1517.58 Q1205.97 1516.75 1204.16 1516.31 Q1202.38 1515.87 1200.62 1515.87 Q1195.99 1515.87 1193.54 1519 Q1191.11 1522.12 1190.76 1528.44 Q1192.13 1526.43 1194.19 1525.36 Q1196.25 1524.27 1198.72 1524.27 Q1203.93 1524.27 1206.94 1527.44 Q1209.97 1530.59 1209.97 1536.03 Q1209.97 1541.36 1206.83 1544.57 Q1203.68 1547.79 1198.45 1547.79 Q1192.45 1547.79 1189.28 1543.21 Q1186.11 1538.6 1186.11 1529.87 Q1186.11 1521.68 1190 1516.82 Q1193.89 1511.93 1200.44 1511.93 Q1202.2 1511.93 1203.98 1512.28 Q1205.78 1512.63 1207.73 1513.32 Z\" fill=\"#000000\" fill-rule=\"evenodd\" fill-opacity=\"1\" /><path clip-path=\"url(#clip650)\" d=\"M 0 0 M1716.43 1515.64 Q1712.82 1515.64 1710.99 1519.2 Q1709.19 1522.75 1709.19 1529.87 Q1709.19 1536.98 1710.99 1540.55 Q1712.82 1544.09 1716.43 1544.09 Q1720.07 1544.09 1721.87 1540.55 Q1723.7 1536.98 1723.7 1529.87 Q1723.7 1522.75 1721.87 1519.2 Q1720.07 1515.64 1716.43 1515.64 M1716.43 1511.93 Q1722.24 1511.93 1725.3 1516.54 Q1728.38 1521.12 1728.38 1529.87 Q1728.38 1538.6 1725.3 1543.21 Q1722.24 1547.79 1716.43 1547.79 Q1710.62 1547.79 1707.54 1543.21 Q1704.49 1538.6 1704.49 1529.87 Q1704.49 1521.12 1707.54 1516.54 Q1710.62 1511.93 1716.43 1511.93 Z\" fill=\"#000000\" fill-rule=\"evenodd\" fill-opacity=\"1\" /><path clip-path=\"url(#clip650)\" d=\"M 0 0 M1733.45 1541.24 L1738.33 1541.24 L1738.33 1547.12 L1733.45 1547.12 L1733.45 1541.24 Z\" fill=\"#000000\" fill-rule=\"evenodd\" fill-opacity=\"1\" /><path clip-path=\"url(#clip650)\" d=\"M 0 0 M1753.4 1530.71 Q1750.07 1530.71 1748.14 1532.49 Q1746.25 1534.27 1746.25 1537.4 Q1746.25 1540.52 1748.14 1542.31 Q1750.07 1544.09 1753.4 1544.09 Q1756.73 1544.09 1758.65 1542.31 Q1760.57 1540.5 1760.57 1537.4 Q1760.57 1534.27 1758.65 1532.49 Q1756.76 1530.71 1753.4 1530.71 M1748.72 1528.72 Q1745.71 1527.98 1744.02 1525.92 Q1742.36 1523.86 1742.36 1520.89 Q1742.36 1516.75 1745.3 1514.34 Q1748.26 1511.93 1753.4 1511.93 Q1758.56 1511.93 1761.5 1514.34 Q1764.44 1516.75 1764.44 1520.89 Q1764.44 1523.86 1762.75 1525.92 Q1761.08 1527.98 1758.1 1528.72 Q1761.48 1529.5 1763.35 1531.8 Q1765.25 1534.09 1765.25 1537.4 Q1765.25 1542.42 1762.17 1545.11 Q1759.12 1547.79 1753.4 1547.79 Q1747.68 1547.79 1744.6 1545.11 Q1741.55 1542.42 1741.55 1537.4 Q1741.55 1534.09 1743.45 1531.8 Q1745.34 1529.5 1748.72 1528.72 M1747.01 1521.33 Q1747.01 1524.02 1748.68 1525.52 Q1750.37 1527.03 1753.4 1527.03 Q1756.41 1527.03 1758.1 1525.52 Q1759.81 1524.02 1759.81 1521.33 Q1759.81 1518.65 1758.1 1517.14 Q1756.41 1515.64 1753.4 1515.64 Q1750.37 1515.64 1748.68 1517.14 Q1747.01 1518.65 1747.01 1521.33 Z\" fill=\"#000000\" fill-rule=\"evenodd\" fill-opacity=\"1\" /><path clip-path=\"url(#clip650)\" d=\"M 0 0 M2262.17 1543.18 L2269.81 1543.18 L2269.81 1516.82 L2261.5 1518.49 L2261.5 1514.23 L2269.76 1512.56 L2274.44 1512.56 L2274.44 1543.18 L2282.08 1543.18 L2282.08 1547.12 L2262.17 1547.12 L2262.17 1543.18 Z\" fill=\"#000000\" fill-rule=\"evenodd\" fill-opacity=\"1\" /><path clip-path=\"url(#clip650)\" d=\"M 0 0 M2287.15 1541.24 L2292.03 1541.24 L2292.03 1547.12 L2287.15 1547.12 L2287.15 1541.24 Z\" fill=\"#000000\" fill-rule=\"evenodd\" fill-opacity=\"1\" /><path clip-path=\"url(#clip650)\" d=\"M 0 0 M2307.1 1515.64 Q2303.49 1515.64 2301.66 1519.2 Q2299.86 1522.75 2299.86 1529.87 Q2299.86 1536.98 2301.66 1540.55 Q2303.49 1544.09 2307.1 1544.09 Q2310.74 1544.09 2312.54 1540.55 Q2314.37 1536.98 2314.37 1529.87 Q2314.37 1522.75 2312.54 1519.2 Q2310.74 1515.64 2307.1 1515.64 M2307.1 1511.93 Q2312.91 1511.93 2315.97 1516.54 Q2319.05 1521.12 2319.05 1529.87 Q2319.05 1538.6 2315.97 1543.21 Q2312.91 1547.79 2307.1 1547.79 Q2301.29 1547.79 2298.21 1543.21 Q2295.16 1538.6 2295.16 1529.87 Q2295.16 1521.12 2298.21 1516.54 Q2301.29 1511.93 2307.1 1511.93 Z\" fill=\"#000000\" fill-rule=\"evenodd\" fill-opacity=\"1\" /><polyline clip-path=\"url(#clip652)\" style=\"stroke:#000000; stroke-width:2; stroke-opacity:0.1; fill:none\" points=\"\n",
       "  145.024,1447.87 2352.76,1447.87 \n",
       "  \"/>\n",
       "<polyline clip-path=\"url(#clip652)\" style=\"stroke:#000000; stroke-width:2; stroke-opacity:0.1; fill:none\" points=\"\n",
       "  145.024,1190.71 2352.76,1190.71 \n",
       "  \"/>\n",
       "<polyline clip-path=\"url(#clip652)\" style=\"stroke:#000000; stroke-width:2; stroke-opacity:0.1; fill:none\" points=\"\n",
       "  145.024,933.543 2352.76,933.543 \n",
       "  \"/>\n",
       "<polyline clip-path=\"url(#clip652)\" style=\"stroke:#000000; stroke-width:2; stroke-opacity:0.1; fill:none\" points=\"\n",
       "  145.024,676.377 2352.76,676.377 \n",
       "  \"/>\n",
       "<polyline clip-path=\"url(#clip652)\" style=\"stroke:#000000; stroke-width:2; stroke-opacity:0.1; fill:none\" points=\"\n",
       "  145.024,419.212 2352.76,419.212 \n",
       "  \"/>\n",
       "<polyline clip-path=\"url(#clip652)\" style=\"stroke:#000000; stroke-width:2; stroke-opacity:0.1; fill:none\" points=\"\n",
       "  145.024,162.047 2352.76,162.047 \n",
       "  \"/>\n",
       "<polyline clip-path=\"url(#clip650)\" style=\"stroke:#000000; stroke-width:4; stroke-opacity:1; fill:none\" points=\"\n",
       "  145.024,1486.45 145.024,123.472 \n",
       "  \"/>\n",
       "<polyline clip-path=\"url(#clip650)\" style=\"stroke:#000000; stroke-width:4; stroke-opacity:1; fill:none\" points=\"\n",
       "  145.024,1447.87 171.517,1447.87 \n",
       "  \"/>\n",
       "<polyline clip-path=\"url(#clip650)\" style=\"stroke:#000000; stroke-width:4; stroke-opacity:1; fill:none\" points=\"\n",
       "  145.024,1190.71 171.517,1190.71 \n",
       "  \"/>\n",
       "<polyline clip-path=\"url(#clip650)\" style=\"stroke:#000000; stroke-width:4; stroke-opacity:1; fill:none\" points=\"\n",
       "  145.024,933.543 171.517,933.543 \n",
       "  \"/>\n",
       "<polyline clip-path=\"url(#clip650)\" style=\"stroke:#000000; stroke-width:4; stroke-opacity:1; fill:none\" points=\"\n",
       "  145.024,676.377 171.517,676.377 \n",
       "  \"/>\n",
       "<polyline clip-path=\"url(#clip650)\" style=\"stroke:#000000; stroke-width:4; stroke-opacity:1; fill:none\" points=\"\n",
       "  145.024,419.212 171.517,419.212 \n",
       "  \"/>\n",
       "<polyline clip-path=\"url(#clip650)\" style=\"stroke:#000000; stroke-width:4; stroke-opacity:1; fill:none\" points=\"\n",
       "  145.024,162.047 171.517,162.047 \n",
       "  \"/>\n",
       "<path clip-path=\"url(#clip650)\" d=\"M 0 0 M52.1495 1461.22 L59.7884 1461.22 L59.7884 1434.85 L51.4782 1436.52 L51.4782 1432.26 L59.7421 1430.59 L64.418 1430.59 L64.418 1461.22 L72.0568 1461.22 L72.0568 1465.15 L52.1495 1465.15 L52.1495 1461.22 Z\" fill=\"#000000\" fill-rule=\"evenodd\" fill-opacity=\"1\" /><path clip-path=\"url(#clip650)\" d=\"M 0 0 M77.1262 1459.27 L82.0105 1459.27 L82.0105 1465.15 L77.1262 1465.15 L77.1262 1459.27 Z\" fill=\"#000000\" fill-rule=\"evenodd\" fill-opacity=\"1\" /><path clip-path=\"url(#clip650)\" d=\"M 0 0 M97.0798 1433.67 Q93.4688 1433.67 91.6401 1437.24 Q89.8345 1440.78 89.8345 1447.91 Q89.8345 1455.01 91.6401 1458.58 Q93.4688 1462.12 97.0798 1462.12 Q100.714 1462.12 102.52 1458.58 Q104.348 1455.01 104.348 1447.91 Q104.348 1440.78 102.52 1437.24 Q100.714 1433.67 97.0798 1433.67 M97.0798 1429.97 Q102.89 1429.97 105.946 1434.57 Q109.024 1439.16 109.024 1447.91 Q109.024 1456.63 105.946 1461.24 Q102.89 1465.82 97.0798 1465.82 Q91.2697 1465.82 88.191 1461.24 Q85.1355 1456.63 85.1355 1447.91 Q85.1355 1439.16 88.191 1434.57 Q91.2697 1429.97 97.0798 1429.97 Z\" fill=\"#000000\" fill-rule=\"evenodd\" fill-opacity=\"1\" /><path clip-path=\"url(#clip650)\" d=\"M 0 0 M53.3764 1204.05 L61.0152 1204.05 L61.0152 1177.69 L52.7051 1179.35 L52.7051 1175.09 L60.9689 1173.43 L65.6448 1173.43 L65.6448 1204.05 L73.2837 1204.05 L73.2837 1207.99 L53.3764 1207.99 L53.3764 1204.05 Z\" fill=\"#000000\" fill-rule=\"evenodd\" fill-opacity=\"1\" /><path clip-path=\"url(#clip650)\" d=\"M 0 0 M78.3531 1202.11 L83.2373 1202.11 L83.2373 1207.99 L78.3531 1207.99 L78.3531 1202.11 Z\" fill=\"#000000\" fill-rule=\"evenodd\" fill-opacity=\"1\" /><path clip-path=\"url(#clip650)\" d=\"M 0 0 M89.1169 1204.05 L96.7558 1204.05 L96.7558 1177.69 L88.4456 1179.35 L88.4456 1175.09 L96.7095 1173.43 L101.385 1173.43 L101.385 1204.05 L109.024 1204.05 L109.024 1207.99 L89.1169 1207.99 L89.1169 1204.05 Z\" fill=\"#000000\" fill-rule=\"evenodd\" fill-opacity=\"1\" /><path clip-path=\"url(#clip650)\" d=\"M 0 0 M53.7467 946.887 L61.3856 946.887 L61.3856 920.522 L53.0754 922.189 L53.0754 917.929 L61.3393 916.263 L66.0152 916.263 L66.0152 946.887 L73.654 946.887 L73.654 950.823 L53.7467 950.823 L53.7467 946.887 Z\" fill=\"#000000\" fill-rule=\"evenodd\" fill-opacity=\"1\" /><path clip-path=\"url(#clip650)\" d=\"M 0 0 M78.7235 944.943 L83.6077 944.943 L83.6077 950.823 L78.7235 950.823 L78.7235 944.943 Z\" fill=\"#000000\" fill-rule=\"evenodd\" fill-opacity=\"1\" /><path clip-path=\"url(#clip650)\" d=\"M 0 0 M92.7049 946.887 L109.024 946.887 L109.024 950.823 L87.0799 950.823 L87.0799 946.887 Q89.7419 944.133 94.3252 939.503 Q98.9317 934.85 100.112 933.508 Q102.358 930.985 103.237 929.249 Q104.14 927.489 104.14 925.8 Q104.14 923.045 102.196 921.309 Q100.274 919.573 97.1724 919.573 Q94.9734 919.573 92.5197 920.337 Q90.0891 921.101 87.3114 922.651 L87.3114 917.929 Q90.1354 916.795 92.5891 916.216 Q95.0428 915.638 97.0798 915.638 Q102.45 915.638 105.645 918.323 Q108.839 921.008 108.839 925.499 Q108.839 927.628 108.029 929.55 Q107.242 931.448 105.135 934.04 Q104.557 934.712 101.455 937.929 Q98.353 941.124 92.7049 946.887 Z\" fill=\"#000000\" fill-rule=\"evenodd\" fill-opacity=\"1\" /><path clip-path=\"url(#clip650)\" d=\"M 0 0 M52.7977 689.722 L60.4365 689.722 L60.4365 663.357 L52.1264 665.023 L52.1264 660.764 L60.3902 659.097 L65.0661 659.097 L65.0661 689.722 L72.705 689.722 L72.705 693.657 L52.7977 693.657 L52.7977 689.722 Z\" fill=\"#000000\" fill-rule=\"evenodd\" fill-opacity=\"1\" /><path clip-path=\"url(#clip650)\" d=\"M 0 0 M77.7744 687.778 L82.6586 687.778 L82.6586 693.657 L77.7744 693.657 L77.7744 687.778 Z\" fill=\"#000000\" fill-rule=\"evenodd\" fill-opacity=\"1\" /><path clip-path=\"url(#clip650)\" d=\"M 0 0 M101.895 675.023 Q105.251 675.741 107.126 678.009 Q109.024 680.278 109.024 683.611 Q109.024 688.727 105.506 691.528 Q101.987 694.329 95.5058 694.329 Q93.3299 694.329 91.0151 693.889 Q88.7234 693.472 86.2697 692.616 L86.2697 688.102 Q88.2141 689.236 90.529 689.815 Q92.8438 690.394 95.3669 690.394 Q99.765 690.394 102.057 688.657 Q104.371 686.921 104.371 683.611 Q104.371 680.556 102.219 678.843 Q100.089 677.107 96.2697 677.107 L92.2419 677.107 L92.2419 673.264 L96.4548 673.264 Q99.9039 673.264 101.733 671.898 Q103.561 670.509 103.561 667.917 Q103.561 665.255 101.663 663.843 Q99.7882 662.408 96.2697 662.408 Q94.3484 662.408 92.1493 662.824 Q89.9503 663.241 87.3114 664.121 L87.3114 659.954 Q89.9734 659.213 92.2882 658.843 Q94.6262 658.472 96.6863 658.472 Q102.01 658.472 105.112 660.903 Q108.214 663.31 108.214 667.431 Q108.214 670.301 106.571 672.292 Q104.927 674.259 101.895 675.023 Z\" fill=\"#000000\" fill-rule=\"evenodd\" fill-opacity=\"1\" /><path clip-path=\"url(#clip650)\" d=\"M 0 0 M51.6634 432.557 L59.3023 432.557 L59.3023 406.191 L50.9921 407.858 L50.9921 403.599 L59.256 401.932 L63.9319 401.932 L63.9319 432.557 L71.5707 432.557 L71.5707 436.492 L51.6634 436.492 L51.6634 432.557 Z\" fill=\"#000000\" fill-rule=\"evenodd\" fill-opacity=\"1\" /><path clip-path=\"url(#clip650)\" d=\"M 0 0 M76.6401 430.613 L81.5244 430.613 L81.5244 436.492 L76.6401 436.492 L76.6401 430.613 Z\" fill=\"#000000\" fill-rule=\"evenodd\" fill-opacity=\"1\" /><path clip-path=\"url(#clip650)\" d=\"M 0 0 M99.4409 406.006 L87.6354 424.455 L99.4409 424.455 L99.4409 406.006 M98.2141 401.932 L104.094 401.932 L104.094 424.455 L109.024 424.455 L109.024 428.344 L104.094 428.344 L104.094 436.492 L99.4409 436.492 L99.4409 428.344 L83.8392 428.344 L83.8392 423.83 L98.2141 401.932 Z\" fill=\"#000000\" fill-rule=\"evenodd\" fill-opacity=\"1\" /><path clip-path=\"url(#clip650)\" d=\"M 0 0 M53.1449 175.392 L60.7837 175.392 L60.7837 149.026 L52.4736 150.693 L52.4736 146.434 L60.7374 144.767 L65.4133 144.767 L65.4133 175.392 L73.0522 175.392 L73.0522 179.327 L53.1449 179.327 L53.1449 175.392 Z\" fill=\"#000000\" fill-rule=\"evenodd\" fill-opacity=\"1\" /><path clip-path=\"url(#clip650)\" d=\"M 0 0 M78.1216 173.447 L83.0058 173.447 L83.0058 179.327 L78.1216 179.327 L78.1216 173.447 Z\" fill=\"#000000\" fill-rule=\"evenodd\" fill-opacity=\"1\" /><path clip-path=\"url(#clip650)\" d=\"M 0 0 M88.1216 144.767 L106.478 144.767 L106.478 148.702 L92.4039 148.702 L92.4039 157.174 Q93.4225 156.827 94.441 156.665 Q95.4595 156.48 96.478 156.48 Q102.265 156.48 105.645 159.651 Q109.024 162.822 109.024 168.239 Q109.024 173.818 105.552 176.92 Q102.08 179.998 95.7604 179.998 Q93.5845 179.998 91.316 179.628 Q89.0706 179.257 86.6632 178.517 L86.6632 173.818 Q88.7466 174.952 90.9688 175.507 Q93.191 176.063 95.6678 176.063 Q99.6724 176.063 102.01 173.957 Q104.348 171.85 104.348 168.239 Q104.348 164.628 102.01 162.521 Q99.6724 160.415 95.6678 160.415 Q93.7928 160.415 91.9178 160.832 Q90.066 161.248 88.1216 162.128 L88.1216 144.767 Z\" fill=\"#000000\" fill-rule=\"evenodd\" fill-opacity=\"1\" /><path clip-path=\"url(#clip650)\" d=\"M 0 0 M918.944 63.9476 L918.944 47.7034 L905.576 47.7034 L905.576 40.9789 L927.046 40.9789 L927.046 66.9452 Q922.306 70.3075 916.594 72.0494 Q910.883 73.7508 904.401 73.7508 Q890.223 73.7508 882.202 65.4869 Q874.222 57.1826 874.222 42.3968 Q874.222 27.5705 882.202 19.3066 Q890.223 11.0023 904.401 11.0023 Q910.315 11.0023 915.622 12.4606 Q920.969 13.9189 925.466 16.7545 L925.466 25.464 Q920.929 21.6156 915.825 19.6712 Q910.721 17.7268 905.09 17.7268 Q893.99 17.7268 888.4 23.9246 Q882.85 30.1225 882.85 42.3968 Q882.85 54.6305 888.4 60.8284 Q893.99 67.0263 905.09 67.0263 Q909.424 67.0263 912.827 66.2971 Q916.23 65.5274 918.944 63.9476 Z\" fill=\"#000000\" fill-rule=\"evenodd\" fill-opacity=\"1\" /><path clip-path=\"url(#clip650)\" d=\"M 0 0 M955.483 49.7694 Q946.45 49.7694 942.966 51.8354 Q939.482 53.9013 939.482 58.8839 Q939.482 62.8538 942.075 65.2034 Q944.708 67.5124 949.204 67.5124 Q955.402 67.5124 959.129 63.1374 Q962.896 58.7219 962.896 51.4303 L962.896 49.7694 L955.483 49.7694 M970.35 46.6907 L970.35 72.576 L962.896 72.576 L962.896 65.6895 Q960.344 69.8214 956.536 71.8063 Q952.728 73.7508 947.219 73.7508 Q940.252 73.7508 936.12 69.8619 Q932.028 65.9325 932.028 59.3701 Q932.028 51.7138 937.132 47.825 Q942.277 43.9361 952.445 43.9361 L962.896 43.9361 L962.896 43.2069 Q962.896 38.0623 959.493 35.2672 Q956.131 32.4315 950.014 32.4315 Q946.125 32.4315 942.439 33.3632 Q938.753 34.295 935.35 36.1584 L935.35 29.2718 Q939.441 27.692 943.29 26.9223 Q947.138 26.1121 950.784 26.1121 Q960.628 26.1121 965.489 31.2163 Q970.35 36.3204 970.35 46.6907 Z\" fill=\"#000000\" fill-rule=\"evenodd\" fill-opacity=\"1\" /><path clip-path=\"url(#clip650)\" d=\"M 0 0 M977.398 54.671 L977.398 27.2059 L984.852 27.2059 L984.852 54.3874 Q984.852 60.8284 987.364 64.0691 Q989.875 67.2693 994.898 67.2693 Q1000.93 67.2693 1004.42 63.421 Q1007.94 59.5726 1007.94 52.9291 L1007.94 27.2059 L1015.4 27.2059 L1015.4 72.576 L1007.94 72.576 L1007.94 65.6084 Q1005.23 69.7404 1001.62 71.7658 Q998.058 73.7508 993.319 73.7508 Q985.5 73.7508 981.449 68.8897 Q977.398 64.0286 977.398 54.671 M996.154 26.1121 L996.154 26.1121 Z\" fill=\"#000000\" fill-rule=\"evenodd\" fill-opacity=\"1\" /><path clip-path=\"url(#clip650)\" d=\"M 0 0 M1052.14 28.5427 L1052.14 35.5912 Q1048.98 33.9709 1045.58 33.1607 Q1042.17 32.3505 1038.53 32.3505 Q1032.98 32.3505 1030.18 34.0519 Q1027.43 35.7533 1027.43 39.156 Q1027.43 41.7486 1029.41 43.2475 Q1031.4 44.7058 1037.39 46.0426 L1039.94 46.6097 Q1047.88 48.3111 1051.21 51.4303 Q1054.57 54.509 1054.57 60.0587 Q1054.57 66.3781 1049.55 70.0644 Q1044.56 73.7508 1035.81 73.7508 Q1032.17 73.7508 1028.2 73.0216 Q1024.27 72.3329 1019.89 70.9151 L1019.89 63.2184 Q1024.02 65.3654 1028.03 66.4591 Q1032.05 67.5124 1035.97 67.5124 Q1041.24 67.5124 1044.08 65.73 Q1046.91 63.9071 1046.91 60.6258 Q1046.91 57.5877 1044.85 55.9673 Q1042.82 54.3469 1035.89 52.8481 L1033.3 52.2405 Q1026.37 50.7821 1023.3 47.7845 Q1020.22 44.7463 1020.22 39.4801 Q1020.22 33.0797 1024.75 29.5959 Q1029.29 26.1121 1037.64 26.1121 Q1041.77 26.1121 1045.41 26.7198 Q1049.06 27.3274 1052.14 28.5427 Z\" fill=\"#000000\" fill-rule=\"evenodd\" fill-opacity=\"1\" /><path clip-path=\"url(#clip650)\" d=\"M 0 0 M1091.31 28.5427 L1091.31 35.5912 Q1088.15 33.9709 1084.75 33.1607 Q1081.34 32.3505 1077.7 32.3505 Q1072.15 32.3505 1069.35 34.0519 Q1066.6 35.7533 1066.6 39.156 Q1066.6 41.7486 1068.58 43.2475 Q1070.57 44.7058 1076.56 46.0426 L1079.12 46.6097 Q1087.06 48.3111 1090.38 51.4303 Q1093.74 54.509 1093.74 60.0587 Q1093.74 66.3781 1088.72 70.0644 Q1083.73 73.7508 1074.98 73.7508 Q1071.34 73.7508 1067.37 73.0216 Q1063.44 72.3329 1059.06 70.9151 L1059.06 63.2184 Q1063.2 65.3654 1067.21 66.4591 Q1071.22 67.5124 1075.15 67.5124 Q1080.41 67.5124 1083.25 65.73 Q1086.08 63.9071 1086.08 60.6258 Q1086.08 57.5877 1084.02 55.9673 Q1081.99 54.3469 1075.07 52.8481 L1072.47 52.2405 Q1065.55 50.7821 1062.47 47.7845 Q1059.39 44.7463 1059.39 39.4801 Q1059.39 33.0797 1063.93 29.5959 Q1068.46 26.1121 1076.81 26.1121 Q1080.94 26.1121 1084.59 26.7198 Q1088.23 27.3274 1091.31 28.5427 Z\" fill=\"#000000\" fill-rule=\"evenodd\" fill-opacity=\"1\" /><path clip-path=\"url(#clip650)\" d=\"M 0 0 M1128.25 12.096 L1136.44 12.096 L1136.44 68.3631 Q1136.44 79.3005 1132.26 84.2426 Q1128.13 89.1847 1118.94 89.1847 L1115.82 89.1847 L1115.82 82.2982 L1118.37 82.2982 Q1123.8 82.2982 1126.03 79.26 Q1128.25 76.2218 1128.25 68.3631 L1128.25 12.096 Z\" fill=\"#000000\" fill-rule=\"evenodd\" fill-opacity=\"1\" /><path clip-path=\"url(#clip650)\" d=\"M 0 0 M1164.87 49.7694 Q1155.84 49.7694 1152.36 51.8354 Q1148.87 53.9013 1148.87 58.8839 Q1148.87 62.8538 1151.47 65.2034 Q1154.1 67.5124 1158.6 67.5124 Q1164.79 67.5124 1168.52 63.1374 Q1172.29 58.7219 1172.29 51.4303 L1172.29 49.7694 L1164.87 49.7694 M1179.74 46.6907 L1179.74 72.576 L1172.29 72.576 L1172.29 65.6895 Q1169.74 69.8214 1165.93 71.8063 Q1162.12 73.7508 1156.61 73.7508 Q1149.64 73.7508 1145.51 69.8619 Q1141.42 65.9325 1141.42 59.3701 Q1141.42 51.7138 1146.52 47.825 Q1151.67 43.9361 1161.84 43.9361 L1172.29 43.9361 L1172.29 43.2069 Q1172.29 38.0623 1168.88 35.2672 Q1165.52 32.4315 1159.41 32.4315 Q1155.52 32.4315 1151.83 33.3632 Q1148.14 34.295 1144.74 36.1584 L1144.74 29.2718 Q1148.83 27.692 1152.68 26.9223 Q1156.53 26.1121 1160.18 26.1121 Q1170.02 26.1121 1174.88 31.2163 Q1179.74 36.3204 1179.74 46.6907 Z\" fill=\"#000000\" fill-rule=\"evenodd\" fill-opacity=\"1\" /><path clip-path=\"url(#clip650)\" d=\"M 0 0 M1220.21 28.9478 L1220.21 35.9153 Q1217.05 34.1734 1213.85 33.3227 Q1210.69 32.4315 1207.45 32.4315 Q1200.2 32.4315 1196.19 37.0496 Q1192.18 41.6271 1192.18 49.9314 Q1192.18 58.2358 1196.19 62.8538 Q1200.2 67.4314 1207.45 67.4314 Q1210.69 67.4314 1213.85 66.5807 Q1217.05 65.6895 1220.21 63.9476 L1220.21 70.8341 Q1217.09 72.2924 1213.73 73.0216 Q1210.41 73.7508 1206.64 73.7508 Q1196.39 73.7508 1190.35 67.3098 Q1184.32 60.8689 1184.32 49.9314 Q1184.32 38.832 1190.4 32.472 Q1196.51 26.1121 1207.13 26.1121 Q1210.57 26.1121 1213.85 26.8413 Q1217.13 27.5299 1220.21 28.9478 Z\" fill=\"#000000\" fill-rule=\"evenodd\" fill-opacity=\"1\" /><path clip-path=\"url(#clip650)\" d=\"M 0 0 M1245.61 32.4315 Q1239.61 32.4315 1236.13 37.1306 Q1232.65 41.7891 1232.65 49.9314 Q1232.65 58.0738 1236.09 62.7728 Q1239.57 67.4314 1245.61 67.4314 Q1251.56 67.4314 1255.05 62.7323 Q1258.53 58.0333 1258.53 49.9314 Q1258.53 41.8701 1255.05 37.1711 Q1251.56 32.4315 1245.61 32.4315 M1245.61 26.1121 Q1255.33 26.1121 1260.88 32.4315 Q1266.43 38.7509 1266.43 49.9314 Q1266.43 61.0714 1260.88 67.4314 Q1255.33 73.7508 1245.61 73.7508 Q1235.85 73.7508 1230.3 67.4314 Q1224.79 61.0714 1224.79 49.9314 Q1224.79 38.7509 1230.3 32.4315 Q1235.85 26.1121 1245.61 26.1121 Z\" fill=\"#000000\" fill-rule=\"evenodd\" fill-opacity=\"1\" /><path clip-path=\"url(#clip650)\" d=\"M 0 0 M1306.82 49.9314 Q1306.82 41.7081 1303.42 37.0496 Q1300.05 32.3505 1294.14 32.3505 Q1288.22 32.3505 1284.82 37.0496 Q1281.46 41.7081 1281.46 49.9314 Q1281.46 58.1548 1284.82 62.8538 Q1288.22 67.5124 1294.14 67.5124 Q1300.05 67.5124 1303.42 62.8538 Q1306.82 58.1548 1306.82 49.9314 M1281.46 34.0924 Q1283.81 30.0415 1287.37 28.0971 Q1290.98 26.1121 1295.96 26.1121 Q1304.23 26.1121 1309.37 32.6746 Q1314.56 39.2371 1314.56 49.9314 Q1314.56 60.6258 1309.37 67.1883 Q1304.23 73.7508 1295.96 73.7508 Q1290.98 73.7508 1287.37 71.8063 Q1283.81 69.8214 1281.46 65.7705 L1281.46 72.576 L1273.97 72.576 L1273.97 9.54393 L1281.46 9.54393 L1281.46 34.0924 Z\" fill=\"#000000\" fill-rule=\"evenodd\" fill-opacity=\"1\" /><path clip-path=\"url(#clip650)\" d=\"M 0 0 M1322.37 27.2059 L1329.83 27.2059 L1329.83 72.576 L1322.37 72.576 L1322.37 27.2059 M1322.37 9.54393 L1329.83 9.54393 L1329.83 18.9825 L1322.37 18.9825 L1322.37 9.54393 Z\" fill=\"#000000\" fill-rule=\"evenodd\" fill-opacity=\"1\" /><path clip-path=\"url(#clip650)\" d=\"M 0 0 M1393.02 44.2197 Q1395.65 45.1109 1398.13 48.0275 Q1400.64 50.9442 1403.15 56.0483 L1411.45 72.576 L1402.66 72.576 L1394.93 57.061 Q1391.93 50.9847 1389.09 48.9997 Q1386.3 47.0148 1381.44 47.0148 L1372.52 47.0148 L1372.52 72.576 L1364.34 72.576 L1364.34 12.096 L1382.81 12.096 Q1393.18 12.096 1398.29 16.4305 Q1403.39 20.7649 1403.39 29.5149 Q1403.39 35.2267 1400.72 38.994 Q1398.08 42.7613 1393.02 44.2197 M1372.52 18.8205 L1372.52 40.2903 L1382.81 40.2903 Q1388.73 40.2903 1391.72 37.5762 Q1394.76 34.8216 1394.76 29.5149 Q1394.76 24.2082 1391.72 21.5346 Q1388.73 18.8205 1382.81 18.8205 L1372.52 18.8205 Z\" fill=\"#000000\" fill-rule=\"evenodd\" fill-opacity=\"1\" /><path clip-path=\"url(#clip650)\" d=\"M 0 0 M1454.35 48.0275 L1454.35 51.6733 L1420.08 51.6733 Q1420.57 59.3701 1424.7 63.421 Q1428.87 67.4314 1436.28 67.4314 Q1440.58 67.4314 1444.59 66.3781 Q1448.64 65.3249 1452.61 63.2184 L1452.61 70.267 Q1448.6 71.9684 1444.39 72.8596 Q1440.17 73.7508 1435.84 73.7508 Q1424.98 73.7508 1418.62 67.4314 Q1412.3 61.1119 1412.3 50.3365 Q1412.3 39.1965 1418.3 32.6746 Q1424.33 26.1121 1434.54 26.1121 Q1443.7 26.1121 1449 32.0264 Q1454.35 37.9003 1454.35 48.0275 M1446.9 45.84 Q1446.82 39.7232 1443.45 36.0774 Q1440.13 32.4315 1434.62 32.4315 Q1428.39 32.4315 1424.62 35.9558 Q1420.89 39.4801 1420.32 45.8805 L1446.9 45.84 Z\" fill=\"#000000\" fill-rule=\"evenodd\" fill-opacity=\"1\" /><path clip-path=\"url(#clip650)\" d=\"M 0 0 M1491.09 28.5427 L1491.09 35.5912 Q1487.93 33.9709 1484.53 33.1607 Q1481.13 32.3505 1477.48 32.3505 Q1471.93 32.3505 1469.14 34.0519 Q1466.38 35.7533 1466.38 39.156 Q1466.38 41.7486 1468.37 43.2475 Q1470.35 44.7058 1476.35 46.0426 L1478.9 46.6097 Q1486.84 48.3111 1490.16 51.4303 Q1493.52 54.509 1493.52 60.0587 Q1493.52 66.3781 1488.5 70.0644 Q1483.52 73.7508 1474.77 73.7508 Q1471.12 73.7508 1467.15 73.0216 Q1463.22 72.3329 1458.85 70.9151 L1458.85 63.2184 Q1462.98 65.3654 1466.99 66.4591 Q1471 67.5124 1474.93 67.5124 Q1480.2 67.5124 1483.03 65.73 Q1485.87 63.9071 1485.87 60.6258 Q1485.87 57.5877 1483.8 55.9673 Q1481.78 54.3469 1474.85 52.8481 L1472.26 52.2405 Q1465.33 50.7821 1462.25 47.7845 Q1459.17 44.7463 1459.17 39.4801 Q1459.17 33.0797 1463.71 29.5959 Q1468.25 26.1121 1476.59 26.1121 Q1480.72 26.1121 1484.37 26.7198 Q1488.01 27.3274 1491.09 28.5427 Z\" fill=\"#000000\" fill-rule=\"evenodd\" fill-opacity=\"1\" /><path clip-path=\"url(#clip650)\" d=\"M 0 0 M1500.57 54.671 L1500.57 27.2059 L1508.03 27.2059 L1508.03 54.3874 Q1508.03 60.8284 1510.54 64.0691 Q1513.05 67.2693 1518.07 67.2693 Q1524.11 67.2693 1527.59 63.421 Q1531.12 59.5726 1531.12 52.9291 L1531.12 27.2059 L1538.57 27.2059 L1538.57 72.576 L1531.12 72.576 L1531.12 65.6084 Q1528.4 69.7404 1524.8 71.7658 Q1521.23 73.7508 1516.49 73.7508 Q1508.67 73.7508 1504.62 68.8897 Q1500.57 64.0286 1500.57 54.671 M1519.33 26.1121 L1519.33 26.1121 Z\" fill=\"#000000\" fill-rule=\"evenodd\" fill-opacity=\"1\" /><path clip-path=\"url(#clip650)\" d=\"M 0 0 M1546.39 9.54393 L1553.84 9.54393 L1553.84 72.576 L1546.39 72.576 L1546.39 9.54393 Z\" fill=\"#000000\" fill-rule=\"evenodd\" fill-opacity=\"1\" /><path clip-path=\"url(#clip650)\" d=\"M 0 0 M1569.03 14.324 L1569.03 27.2059 L1584.39 27.2059 L1584.39 32.9987 L1569.03 32.9987 L1569.03 57.6282 Q1569.03 63.1779 1570.53 64.7578 Q1572.07 66.3376 1576.73 66.3376 L1584.39 66.3376 L1584.39 72.576 L1576.73 72.576 Q1568.1 72.576 1564.82 69.3758 Q1561.54 66.1351 1561.54 57.6282 L1561.54 32.9987 L1556.07 32.9987 L1556.07 27.2059 L1561.54 27.2059 L1561.54 14.324 L1569.03 14.324 Z\" fill=\"#000000\" fill-rule=\"evenodd\" fill-opacity=\"1\" /><path clip-path=\"url(#clip650)\" d=\"M 0 0 M1621.13 28.5427 L1621.13 35.5912 Q1617.97 33.9709 1614.57 33.1607 Q1611.16 32.3505 1607.52 32.3505 Q1601.97 32.3505 1599.17 34.0519 Q1596.42 35.7533 1596.42 39.156 Q1596.42 41.7486 1598.4 43.2475 Q1600.39 44.7058 1606.38 46.0426 L1608.93 46.6097 Q1616.87 48.3111 1620.2 51.4303 Q1623.56 54.509 1623.56 60.0587 Q1623.56 66.3781 1618.54 70.0644 Q1613.55 73.7508 1604.8 73.7508 Q1601.16 73.7508 1597.19 73.0216 Q1593.26 72.3329 1588.88 70.9151 L1588.88 63.2184 Q1593.01 65.3654 1597.02 66.4591 Q1601.04 67.5124 1604.96 67.5124 Q1610.23 67.5124 1613.07 65.73 Q1615.9 63.9071 1615.9 60.6258 Q1615.9 57.5877 1613.84 55.9673 Q1611.81 54.3469 1604.88 52.8481 L1602.29 52.2405 Q1595.36 50.7821 1592.29 47.7845 Q1589.21 44.7463 1589.21 39.4801 Q1589.21 33.0797 1593.74 29.5959 Q1598.28 26.1121 1606.63 26.1121 Q1610.76 26.1121 1614.4 26.7198 Q1618.05 27.3274 1621.13 28.5427 Z\" fill=\"#000000\" fill-rule=\"evenodd\" fill-opacity=\"1\" /><circle clip-path=\"url(#clip652)\" cx=\"2290.27\" cy=\"1447.87\" r=\"14\" fill=\"#ff0000\" fill-rule=\"evenodd\" fill-opacity=\"1\" stroke=\"#000000\" stroke-opacity=\"1\" stroke-width=\"3.2\"/>\n",
       "<circle clip-path=\"url(#clip652)\" cx=\"901.762\" cy=\"162.047\" r=\"14\" fill=\"#ff0000\" fill-rule=\"evenodd\" fill-opacity=\"1\" stroke=\"#000000\" stroke-opacity=\"1\" stroke-width=\"3.2\"/>\n",
       "<circle clip-path=\"url(#clip652)\" cx=\"207.507\" cy=\"804.96\" r=\"14\" fill=\"#ff0000\" fill-rule=\"evenodd\" fill-opacity=\"1\" stroke=\"#000000\" stroke-opacity=\"1\" stroke-width=\"3.2\"/>\n",
       "<circle clip-path=\"url(#clip652)\" cx=\"554.635\" cy=\"1126.42\" r=\"14\" fill=\"#ff0000\" fill-rule=\"evenodd\" fill-opacity=\"1\" stroke=\"#000000\" stroke-opacity=\"1\" stroke-width=\"3.2\"/>\n",
       "<circle clip-path=\"url(#clip652)\" cx=\"728.199\" cy=\"965.688\" r=\"14\" fill=\"#ff0000\" fill-rule=\"evenodd\" fill-opacity=\"1\" stroke=\"#000000\" stroke-opacity=\"1\" stroke-width=\"3.2\"/>\n",
       "<circle clip-path=\"url(#clip652)\" cx=\"641.417\" cy=\"885.324\" r=\"14\" fill=\"#ff0000\" fill-rule=\"evenodd\" fill-opacity=\"1\" stroke=\"#000000\" stroke-opacity=\"1\" stroke-width=\"3.2\"/>\n",
       "<circle clip-path=\"url(#clip652)\" cx=\"598.026\" cy=\"925.506\" r=\"14\" fill=\"#ff0000\" fill-rule=\"evenodd\" fill-opacity=\"1\" stroke=\"#000000\" stroke-opacity=\"1\" stroke-width=\"3.2\"/>\n",
       "<circle clip-path=\"url(#clip652)\" cx=\"619.721\" cy=\"945.597\" r=\"14\" fill=\"#ff0000\" fill-rule=\"evenodd\" fill-opacity=\"1\" stroke=\"#000000\" stroke-opacity=\"1\" stroke-width=\"3.2\"/>\n",
       "<circle clip-path=\"url(#clip652)\" cx=\"630.569\" cy=\"935.552\" r=\"14\" fill=\"#ff0000\" fill-rule=\"evenodd\" fill-opacity=\"1\" stroke=\"#000000\" stroke-opacity=\"1\" stroke-width=\"3.2\"/>\n",
       "<circle clip-path=\"url(#clip652)\" cx=\"625.145\" cy=\"930.529\" r=\"14\" fill=\"#ff0000\" fill-rule=\"evenodd\" fill-opacity=\"1\" stroke=\"#000000\" stroke-opacity=\"1\" stroke-width=\"3.2\"/>\n",
       "<circle clip-path=\"url(#clip652)\" cx=\"622.433\" cy=\"933.04\" r=\"14\" fill=\"#ff0000\" fill-rule=\"evenodd\" fill-opacity=\"1\" stroke=\"#000000\" stroke-opacity=\"1\" stroke-width=\"3.2\"/>\n",
       "</svg>\n"
      ]
     },
     "execution_count": 529,
     "metadata": {},
     "output_type": "execute_result"
    }
   ],
   "source": [
    "scatter(X_jacobi,Y_jacobi,color=\"red\",leg=false, title=\"Gauss Jacobi Results\")"
   ]
  },
  {
   "cell_type": "markdown",
   "metadata": {},
   "source": [
    "## Exercício 3"
   ]
  },
  {
   "cell_type": "markdown",
   "metadata": {},
   "source": [
    "### (a)"
   ]
  },
  {
   "cell_type": "markdown",
   "metadata": {},
   "source": [
    "### (b)\n",
    "Uma matriz é diagonal dominante se os modulos dos valores na diagonal sao maiores do que a soma dos modulos dos outros elementos nas respectivas linhas.\n",
    "\n",
    "Nessa matriz sempre temos o valor 4 na diagonal. Em todas as linhas, temos sempre o valor 0 e duas vezes o valor -1.\n",
    "\n",
    "Logo, |0| + |-1| + |-1| = 0 + 1 + 1 = 2 < 4.\n",
    "\n",
    "Logo, a matriz é diagonal dominante."
   ]
  },
  {
   "cell_type": "markdown",
   "metadata": {},
   "source": [
    "### (c) "
   ]
  },
  {
   "cell_type": "code",
   "execution_count": 530,
   "metadata": {},
   "outputs": [
    {
     "data": {
      "text/plain": [
       "gauss_seidel_Q3 (generic function with 1 method)"
      ]
     },
     "execution_count": 530,
     "metadata": {},
     "output_type": "execute_result"
    }
   ],
   "source": [
    "function gauss_seidel_Q3(A,b; max_iter=1000, ϵ = 1e-3)\n",
    "    n, m = size(A)\n",
    "    \n",
    "    #Calculando o triangular superior e salvando em M\n",
    "    M = UpperTriangular(A) \n",
    "    K = M - A     \n",
    "    \n",
    "    #Quebrando a matriz A em M -K, sendo M, a sua triangular superior\n",
    "    # pois essa é mais barata de se calcular\n",
    "    R = inv(M) * K\n",
    "    c = inv(M) * b\n",
    "    \n",
    "    #chute inicial\n",
    "    x = zeros(n,1)\n",
    "    x_anterior = x\n",
    "    x = R * x + c\n",
    "\n",
    "    # condicoes de parada\n",
    "    iter = 1\n",
    "    resolvido = (abs(norm(x - x_anterior)) ≤ ϵ)\n",
    "    cansado = (iter ≥ max_iter)\n",
    "    \n",
    "    while !(resolvido || cansado) \n",
    "        x_anterior = x\n",
    "        x=R*x+c \n",
    "        iter +=1\n",
    "        resolvido = (abs(norm(x-x_anterior)) ≤ ϵ)\n",
    "        cansado = (iter ≥ max_iter)\n",
    "    end\n",
    "    print(\"A tolerância final ficou em $(abs(norm(x-x_anterior)))\\n\")\n",
    "    print(\"O resultado final ficou em $x\\n\")\n",
    "    return x\n",
    "end"
   ]
  },
  {
   "cell_type": "code",
   "execution_count": 531,
   "metadata": {},
   "outputs": [
    {
     "data": {
      "text/plain": [
       "gauss_jacobi_Q3 (generic function with 1 method)"
      ]
     },
     "execution_count": 531,
     "metadata": {},
     "output_type": "execute_result"
    }
   ],
   "source": [
    "function gauss_jacobi_Q3(A,b; max_iter=1000, ϵ = 1e-3)\n",
    "    n, m = size(A)\n",
    "    \n",
    "    #Calculando o triangular superior e salvando em M\n",
    "    M = Diagonal(A) \n",
    "    K = M - A     \n",
    "    \n",
    "    #Quebrando a matriz A em M -K, sendo M, a sua triangular superior\n",
    "    # pois essa é mais barata de se calcular\n",
    "    R = inv(M) * K\n",
    "    c = inv(M) * b\n",
    "    \n",
    "    #chute inicial\n",
    "    x = zeros(n,1)\n",
    "    x_anterior = x\n",
    "    x = R * x + c\n",
    "    \n",
    "    # condicoes de parada\n",
    "    iter = 1\n",
    "    resolvido = (abs(norm(x - x_anterior)) ≤ ϵ)\n",
    "    cansado = (iter ≥ max_iter)\n",
    "    \n",
    "    while !(resolvido || cansado) \n",
    "        x_anterior = x\n",
    "        x=R*x+c \n",
    "        iter +=1\n",
    "        resolvido = (abs(norm(x-x_anterior)) ≤ ϵ)\n",
    "        cansado = (iter ≥ max_iter)\n",
    "    end\n",
    "    print(\"A tolerância final ficou em $(abs(norm(x-x_anterior)))\\n\")\n",
    "    print(\"O resultado final ficou em $x\\n\")\n",
    "    return x\n",
    "end"
   ]
  },
  {
   "cell_type": "code",
   "execution_count": 532,
   "metadata": {},
   "outputs": [
    {
     "data": {
      "text/plain": [
       "4×4 Array{Int64,2}:\n",
       "  4  -1  -1   0\n",
       " -1   4   0  -1\n",
       " -1   0   4  -1\n",
       "  0  -1  -1   4"
      ]
     },
     "execution_count": 532,
     "metadata": {},
     "output_type": "execute_result"
    }
   ],
   "source": [
    "A = [ 4 -1 -1  0;\n",
    "     -1  4  0 -1;\n",
    "     -1  0  4 -1;\n",
    "      0 -1 -1  4]"
   ]
  },
  {
   "cell_type": "code",
   "execution_count": 533,
   "metadata": {},
   "outputs": [
    {
     "data": {
      "text/plain": [
       "4-element Array{Int64,1}:\n",
       " 20\n",
       " 50\n",
       " 15\n",
       " 45"
      ]
     },
     "execution_count": 533,
     "metadata": {},
     "output_type": "execute_result"
    }
   ],
   "source": [
    "b = [20, 50, 15, 45]"
   ]
  },
  {
   "cell_type": "code",
   "execution_count": 534,
   "metadata": {},
   "outputs": [
    {
     "name": "stdout",
     "output_type": "stream",
     "text": [
      "A tolerância final ficou em 0.0006079673767089844\n",
      "O resultado final ficou em [13.124959468841553; 20.624918937683105; 11.874918937683105; 19.37483787536621]\n"
     ]
    },
    {
     "data": {
      "text/plain": [
       "4×1 Array{Float64,2}:\n",
       " 13.124959468841553\n",
       " 20.624918937683105\n",
       " 11.874918937683105\n",
       " 19.37483787536621"
      ]
     },
     "execution_count": 534,
     "metadata": {},
     "output_type": "execute_result"
    }
   ],
   "source": [
    "gauss_seidel_Q3(A,b)"
   ]
  },
  {
   "cell_type": "code",
   "execution_count": 535,
   "metadata": {},
   "outputs": [
    {
     "name": "stdout",
     "output_type": "stream",
     "text": [
      "A tolerância final ficou em 0.0009918212890625\n",
      "O resultado final ficou em [13.124504089355469; 20.62450408935547; 11.874504089355469; 19.37450408935547]\n"
     ]
    },
    {
     "data": {
      "text/plain": [
       "4×1 Array{Float64,2}:\n",
       " 13.124504089355469\n",
       " 20.62450408935547\n",
       " 11.874504089355469\n",
       " 19.37450408935547"
      ]
     },
     "execution_count": 535,
     "metadata": {},
     "output_type": "execute_result"
    }
   ],
   "source": [
    "gauss_jacobi_Q3(A,b)"
   ]
  },
  {
   "cell_type": "markdown",
   "metadata": {},
   "source": [
    "### (d)"
   ]
  },
  {
   "cell_type": "code",
   "execution_count": 536,
   "metadata": {},
   "outputs": [],
   "source": [
    "# codigo julia"
   ]
  },
  {
   "cell_type": "markdown",
   "metadata": {},
   "source": [
    "### (e)"
   ]
  },
  {
   "cell_type": "code",
   "execution_count": 537,
   "metadata": {},
   "outputs": [],
   "source": [
    "# codigo julia"
   ]
  },
  {
   "cell_type": "markdown",
   "metadata": {},
   "source": [
    "## Exercício 4"
   ]
  },
  {
   "cell_type": "code",
   "execution_count": 538,
   "metadata": {},
   "outputs": [
    {
     "data": {
      "text/plain": [
       "8×8 Array{Float64,2}:\n",
       "  1.0   0.0   0.0   0.0   0.0   0.0   0.0  0.0\n",
       "  0.0   1.0   0.0   0.0   0.0   0.0   0.0  0.0\n",
       "  0.0   0.0   1.0   0.0   0.0   0.0   0.0  0.0\n",
       " -1.0   0.0   0.0   1.0   0.0   0.0   0.0  0.0\n",
       "  0.0   0.0  -1.0   0.0   1.0   0.0   0.0  0.0\n",
       "  0.0  -1.0   0.0  -1.0   0.0   1.0   0.0  0.0\n",
       "  0.0   0.0   0.0   0.0  -1.0   0.0   1.0  0.0\n",
       "  0.0   0.0   0.0   0.0   0.0  -1.0  -1.0  1.0"
      ]
     },
     "execution_count": 538,
     "metadata": {},
     "output_type": "execute_result"
    }
   ],
   "source": [
    "# Construir matriz A\n",
    "A = zeros(8,8)\n",
    "for i = 1:8\n",
    "    A[i,i] = 1.0\n",
    "end\n",
    "\n",
    "A[4,1] = -1.0\n",
    "A[5,3] = -1.0\n",
    "A[6,4] = -1.0\n",
    "A[6,2] = -1.0\n",
    "A[7,5] = -1.0\n",
    "A[8,6] = -1.0\n",
    "A[8,7] = -1.0\n",
    "\n",
    "A"
   ]
  },
  {
   "cell_type": "code",
   "execution_count": 539,
   "metadata": {},
   "outputs": [
    {
     "data": {
      "text/plain": [
       "8-element Array{Int64,1}:\n",
       "  7000\n",
       "  3500\n",
       "  9000\n",
       " 30000\n",
       "  3000\n",
       "     0\n",
       "  3000\n",
       "   500"
      ]
     },
     "execution_count": 539,
     "metadata": {},
     "output_type": "execute_result"
    }
   ],
   "source": [
    "# Cada elemento de b é a soma das demandas com valores explicitos\n",
    "# associados a uma junta A,B,C...\n",
    "b = [7000, 3500, 9000, 30000, 3000, 0, 3000, 500]"
   ]
  },
  {
   "cell_type": "code",
   "execution_count": 540,
   "metadata": {},
   "outputs": [
    {
     "name": "stdout",
     "output_type": "stream",
     "text": [
      "A tolerância final ficou em 0.0\n",
      "O resultado final ficou em [7000.0; 3500.0; 9000.0; 37000.0; 12000.0; 40500.0; 15000.0; 56000.0]\n"
     ]
    },
    {
     "data": {
      "text/plain": [
       "8×1 Array{Float64,2}:\n",
       "  7000.0\n",
       "  3500.0\n",
       "  9000.0\n",
       " 37000.0\n",
       " 12000.0\n",
       " 40500.0\n",
       " 15000.0\n",
       " 56000.0"
      ]
     },
     "execution_count": 540,
     "metadata": {},
     "output_type": "execute_result"
    }
   ],
   "source": [
    "# O método converge, mesmo sem respeitar o critério das linhas\n",
    "gauss_seidel_Q3(A,b)"
   ]
  },
  {
   "cell_type": "code",
   "execution_count": 541,
   "metadata": {},
   "outputs": [
    {
     "name": "stdout",
     "output_type": "stream",
     "text": [
      "A tolerância final ficou em 0.0\n",
      "O resultado final ficou em [7000.0; 3500.0; 9000.0; 37000.0; 12000.0; 40500.0; 15000.0; 56000.0]\n"
     ]
    },
    {
     "data": {
      "text/plain": [
       "8×1 Array{Float64,2}:\n",
       "  7000.0\n",
       "  3500.0\n",
       "  9000.0\n",
       " 37000.0\n",
       " 12000.0\n",
       " 40500.0\n",
       " 15000.0\n",
       " 56000.0"
      ]
     },
     "execution_count": 541,
     "metadata": {},
     "output_type": "execute_result"
    }
   ],
   "source": [
    "# O método converge, mesmo sem respeitar o critério das linhas\n",
    "gauss_jacobi_Q3(A,b)"
   ]
  },
  {
   "cell_type": "markdown",
   "metadata": {},
   "source": [
    "### (b)"
   ]
  },
  {
   "cell_type": "code",
   "execution_count": 542,
   "metadata": {},
   "outputs": [],
   "source": [
    "# codigo julia"
   ]
  },
  {
   "cell_type": "markdown",
   "metadata": {},
   "source": [
    "## Exercício 5\n",
    "\n",
    "Abaixo determinaremos uma matriz M de posto 1 (tal que $M = bc^T$) que melhor representa a matriz A e o erro para:\n",
    "\n",
    "### (a) $\n",
    "\\begin{bmatrix}\n",
    "0 & 1 & 3 \\\\\n",
    "3 & 1 & 0 \\\\\n",
    "\\end{bmatrix}\n",
    "$"
   ]
  },
  {
   "cell_type": "code",
   "execution_count": 543,
   "metadata": {},
   "outputs": [
    {
     "data": {
      "text/plain": [
       "2×3 Array{Int64,2}:\n",
       " 0  1  3\n",
       " 3  1  0"
      ]
     },
     "execution_count": 543,
     "metadata": {},
     "output_type": "execute_result"
    }
   ],
   "source": [
    "A = [0 1 3;\n",
    "     3 1 0]"
   ]
  },
  {
   "cell_type": "code",
   "execution_count": 544,
   "metadata": {},
   "outputs": [
    {
     "data": {
      "text/plain": [
       "melhorMatrizM (generic function with 1 method)"
      ]
     },
     "execution_count": 544,
     "metadata": {},
     "output_type": "execute_result"
    }
   ],
   "source": [
    "function melhorMatrizM(A)\n",
    "    n,m = size(A)\n",
    "    erroFinal = 0.0\n",
    "\n",
    "    b1 = randn(n,1)\n",
    "    c1 = randn(m,1)\n",
    "    \n",
    "    b2 = randn(m,1)\n",
    "    c2 = randn(n,1)\n",
    "    \n",
    "    erro1 = norm(A-b1*c1')\n",
    "    print(\"Erro inicial: \", erro1, \"\\n\")\n",
    "    \n",
    "    for i = 1:50\n",
    "        c1 = melhores_coords(A,b1) # Acha melhores coordenadas para A\n",
    "        b2 = c1 # Trocamos de mundo e colocamos base no lugar de coordenada e vice-versa (aqui queremos minimizar o erro ||A'-b'c||)\n",
    "        c2 = melhores_coords(A',b2) # Acha melhpres coordenadas para A'\n",
    "        b1 = c2 # Trocamos de mundo novamente para retornamos ao mundo ininicial (onde queremos minimizar o erro ||A-bc'||)\n",
    "        \n",
    "        erroFinal = norm(A'-b2*c2')\n",
    "        \n",
    "        # Erros de b e c no mundo 2, onde trocamos base por coordenadas e vice-versa\n",
    "        #      A              |           A'\n",
    "        # norm(A-b*c') <- é igual a -> norm(A'-b'*c)\n",
    "        #erro2 = norm(A'-b2*c2')\n",
    "        #print(erro2, \"\\n\")\n",
    "    end\n",
    "    print(\"Erro final: \", erroFinal, \"\\n\")\n",
    "    \n",
    "    return b1,c1\n",
    "end"
   ]
  },
  {
   "cell_type": "code",
   "execution_count": 545,
   "metadata": {},
   "outputs": [
    {
     "name": "stdout",
     "output_type": "stream",
     "text": [
      "Erro inicial: 4.879800041634493\n",
      "Erro final: 3.000000003757359\n"
     ]
    },
    {
     "data": {
      "text/plain": [
       "([-0.7745346674187515; -0.7746834456729291], [-1.9366879763483376; -1.290973789006744; -1.9362333906718947])"
      ]
     },
     "execution_count": 545,
     "metadata": {},
     "output_type": "execute_result"
    }
   ],
   "source": [
    "b,c = melhorMatrizM(A)"
   ]
  },
  {
   "cell_type": "code",
   "execution_count": 546,
   "metadata": {},
   "outputs": [
    {
     "data": {
      "text/plain": [
       "2×1 Array{Float64,2}:\n",
       " 1.0\n",
       " 1.0001920872756715"
      ]
     },
     "execution_count": 546,
     "metadata": {},
     "output_type": "execute_result"
    }
   ],
   "source": [
    "# Vetor b dividido pela primeira coordenada\n",
    "b/b[1]"
   ]
  },
  {
   "cell_type": "code",
   "execution_count": 547,
   "metadata": {},
   "outputs": [
    {
     "data": {
      "text/plain": [
       "1×3 Array{Float64,2}:\n",
       " 1.50003  0.999904  1.49968"
      ]
     },
     "execution_count": 547,
     "metadata": {},
     "output_type": "execute_result"
    }
   ],
   "source": [
    "# Vetor c' multiplicado pela primeira coordenada\n",
    "c'*b[1]"
   ]
  },
  {
   "cell_type": "code",
   "execution_count": 548,
   "metadata": {},
   "outputs": [
    {
     "data": {
      "text/plain": [
       "2×3 Array{Float64,2}:\n",
       " 1.50003  0.999904  1.49968\n",
       " 1.50032  1.0001    1.49997"
      ]
     },
     "execution_count": 548,
     "metadata": {},
     "output_type": "execute_result"
    }
   ],
   "source": [
    "# Para reconstruir a matriz A, aproximadamente, temos a matriz M = bc'\n",
    "M = b*c'"
   ]
  },
  {
   "cell_type": "code",
   "execution_count": 549,
   "metadata": {},
   "outputs": [
    {
     "name": "stdout",
     "output_type": "stream",
     "text": [
      "Erro de M: 3.000000003757359"
     ]
    }
   ],
   "source": [
    "print(\"Erro de M: \", norm(A-b*c'))"
   ]
  },
  {
   "cell_type": "markdown",
   "metadata": {},
   "source": [
    "Abaixo determinaremos uma matriz M de posto 1 (tal que $M = bc^T$) que melhor representa a matriz A e o erro para:\n",
    "\n",
    "### (b) $\n",
    "\\begin{bmatrix}\n",
    "0 & 1 & 3 & 2\\\\\n",
    "2 & 3 & 1 & 0\\\\\n",
    "\\end{bmatrix}\n",
    "$\n"
   ]
  },
  {
   "cell_type": "code",
   "execution_count": 550,
   "metadata": {},
   "outputs": [
    {
     "data": {
      "text/plain": [
       "2×4 Array{Int64,2}:\n",
       " 0  1  3  2\n",
       " 2  3  1  0"
      ]
     },
     "execution_count": 550,
     "metadata": {},
     "output_type": "execute_result"
    }
   ],
   "source": [
    "A = [0 1 3 2;\n",
    "     2 3 1 0]"
   ]
  },
  {
   "cell_type": "code",
   "execution_count": 551,
   "metadata": {},
   "outputs": [
    {
     "name": "stdout",
     "output_type": "stream",
     "text": [
      "Erro inicial: 6.199893650137219\n",
      "Erro final: 2.8284271247461903\n"
     ]
    },
    {
     "data": {
      "text/plain": [
       "([-1.1600364908441128; -1.160036490844113], [-0.8620418477287206; -1.7240836954574412; -1.7240836954574408; -0.8620418477287204])"
      ]
     },
     "execution_count": 551,
     "metadata": {},
     "output_type": "execute_result"
    }
   ],
   "source": [
    "b,c = melhorMatrizM(A)"
   ]
  },
  {
   "cell_type": "code",
   "execution_count": 552,
   "metadata": {},
   "outputs": [
    {
     "data": {
      "text/plain": [
       "2×1 Array{Float64,2}:\n",
       " 1.0\n",
       " 1.0000000000000002"
      ]
     },
     "execution_count": 552,
     "metadata": {},
     "output_type": "execute_result"
    }
   ],
   "source": [
    "# Vetor b dividido pela primeira coordenada\n",
    "b/b[1]"
   ]
  },
  {
   "cell_type": "code",
   "execution_count": 553,
   "metadata": {},
   "outputs": [
    {
     "data": {
      "text/plain": [
       "1×4 Array{Float64,2}:\n",
       " 1.0  2.0  2.0  1.0"
      ]
     },
     "execution_count": 553,
     "metadata": {},
     "output_type": "execute_result"
    }
   ],
   "source": [
    "# Vetor c' multiplicado pela primeira coordenada\n",
    "c'*b[1]"
   ]
  },
  {
   "cell_type": "code",
   "execution_count": 554,
   "metadata": {},
   "outputs": [
    {
     "data": {
      "text/plain": [
       "2×4 Array{Float64,2}:\n",
       " 1.0  2.0  2.0  1.0\n",
       " 1.0  2.0  2.0  1.0"
      ]
     },
     "execution_count": 554,
     "metadata": {},
     "output_type": "execute_result"
    }
   ],
   "source": [
    "# Para reconstruir a matriz A, aproximadamente, temos a matriz M = bc'\n",
    "M = b*c'"
   ]
  },
  {
   "cell_type": "code",
   "execution_count": 555,
   "metadata": {},
   "outputs": [
    {
     "name": "stdout",
     "output_type": "stream",
     "text": [
      "Erro de M: 2.8284271247461903"
     ]
    }
   ],
   "source": [
    "print(\"Erro de M: \", norm(A-b*c'))"
   ]
  },
  {
   "cell_type": "markdown",
   "metadata": {},
   "source": [
    "### (c) \n",
    "A representação gráfica das soluções acima nos desenhos citados na lista é uma reta que minimiza a diferença entre todos esses pontos e a reta (projeção ortogonal). Em outras palavras, a solução gráfica é uma única reta que contém N vetores (posto 1) que mais se aproximam dos N pontos passados."
   ]
  },
  {
   "cell_type": "markdown",
   "metadata": {},
   "source": [
    "## Exercício 6\n",
    "\n",
    "Consideraremos a bandeira da grécia como uma imagem preta e branca modelada na matriz A abaixo:\n",
    "\n",
    "Considerando 0 como a cor preto e 1 a cor branco, temos:\n",
    "\n",
    "$\n",
    "\\begin{bmatrix}\n",
    "    0 & 1 & 0 & 0 & 0 & 0 & 0 & 0 & 0 \\\\\n",
    "    0 & 1 & 0 & 1 & 1 & 1 & 1 & 1 & 1 \\\\\n",
    "    1 & 1 & 1 & 0 & 0 & 0 & 0 & 0 & 0 \\\\\n",
    "    0 & 1 & 0 & 1 & 1 & 1 & 1 & 1 & 1 \\\\\n",
    "    0 & 1 & 0 & 0 & 0 & 0 & 0 & 0 & 0 \\\\\n",
    "    1 & 1 & 1 & 1 & 1 & 1 & 1 & 1 & 1 \\\\\n",
    "    0 & 0 & 0 & 0 & 0 & 0 & 0 & 0 & 0 \\\\\n",
    "    1 & 1 & 1 & 1 & 1 & 1 & 1 & 1 & 1 \\\\\n",
    "    0 & 0 & 0 & 0 & 0 & 0 & 0 & 0 & 0 \\\\\n",
    "\\end{bmatrix}\n",
    "$"
   ]
  },
  {
   "cell_type": "code",
   "execution_count": 556,
   "metadata": {},
   "outputs": [
    {
     "data": {
      "image/png": "[encoded data removed]",
      "text/plain": [
       "9×9 Array{Gray{N0f8},2} with eltype Gray{Normed{UInt8,8}}:\n",
       " Gray{N0f8}(0.0)  Gray{N0f8}(1.0)  …  Gray{N0f8}(0.0)  Gray{N0f8}(0.0)\n",
       " Gray{N0f8}(0.0)  Gray{N0f8}(1.0)     Gray{N0f8}(1.0)  Gray{N0f8}(1.0)\n",
       " Gray{N0f8}(1.0)  Gray{N0f8}(1.0)     Gray{N0f8}(0.0)  Gray{N0f8}(0.0)\n",
       " Gray{N0f8}(0.0)  Gray{N0f8}(1.0)     Gray{N0f8}(1.0)  Gray{N0f8}(1.0)\n",
       " Gray{N0f8}(0.0)  Gray{N0f8}(1.0)     Gray{N0f8}(0.0)  Gray{N0f8}(0.0)\n",
       " Gray{N0f8}(1.0)  Gray{N0f8}(1.0)  …  Gray{N0f8}(1.0)  Gray{N0f8}(1.0)\n",
       " Gray{N0f8}(0.0)  Gray{N0f8}(0.0)     Gray{N0f8}(0.0)  Gray{N0f8}(0.0)\n",
       " Gray{N0f8}(1.0)  Gray{N0f8}(1.0)     Gray{N0f8}(1.0)  Gray{N0f8}(1.0)\n",
       " Gray{N0f8}(0.0)  Gray{N0f8}(0.0)     Gray{N0f8}(0.0)  Gray{N0f8}(0.0)"
      ]
     },
     "metadata": {},
     "output_type": "display_data"
    },
    {
     "data": {
      "text/plain": [
       "3"
      ]
     },
     "execution_count": 556,
     "metadata": {},
     "output_type": "execute_result"
    }
   ],
   "source": [
    "greece = [0   1   0   0   0   0   0   0   0 ;\n",
    "          0   1   0   1   1   1   1   1   1 ;\n",
    "          1   1   1   0   0   0   0   0   0 ;\n",
    "          0   1   0   1   1   1   1   1   1 ;\n",
    "          0   1   0   0   0   0   0   0   0 ;\n",
    "          1   1   1   1   1   1   1   1   1 ;\n",
    "          0   0   0   0   0   0   0   0   0 ;\n",
    "          1   1   1   1   1   1   1   1   1 ;\n",
    "          0   0   0   0   0   0   0   0   0 ]\n",
    "\n",
    "display(Gray.(greece))\n",
    "rank(greece)"
   ]
  },
  {
   "cell_type": "markdown",
   "metadata": {},
   "source": [
    "### (a)\n",
    "O posto da bandeira da Grécia, tal que $A = BC^T$ é igual a 3, ou seja, com 3 colunas da bandeira, conseguimos reconstruir completamente a bandeira original (sem perdas).\n",
    "\n",
    "No caso da bandeira da Grécia, a matriz B representa pedaços verticais do desenho da bandeira que se repetem de intervalos verticais em intervalos verticais da bandeira. Em outras palavras, com 3 faixas verticais da bandeira, conseguimos fazer algumas repetições até que a bandeira esteja completa."
   ]
  },
  {
   "cell_type": "markdown",
   "metadata": {},
   "source": [
    "### (b)\n",
    "Dois países tais quais sua bandeira tem posto = 1:\n",
    "- Alemanha\n",
    "- Austria"
   ]
  },
  {
   "cell_type": "code",
   "execution_count": 557,
   "metadata": {},
   "outputs": [
    {
     "data": {
      "image/png": "[encoded data removed]",
      "text/plain": [
       "3×5 Array{Gray{Float64},2} with eltype Gray{Float64}:\n",
       " Gray{Float64}(0.0)   Gray{Float64}(0.0)   …  Gray{Float64}(0.0)\n",
       " Gray{Float64}(0.5)   Gray{Float64}(0.5)      Gray{Float64}(0.5)\n",
       " Gray{Float64}(0.75)  Gray{Float64}(0.75)     Gray{Float64}(0.75)"
      ]
     },
     "metadata": {},
     "output_type": "display_data"
    },
    {
     "data": {
      "text/plain": [
       "1"
      ]
     },
     "execution_count": 557,
     "metadata": {},
     "output_type": "execute_result"
    }
   ],
   "source": [
    "germany = [0    0    0    0    0   ; # preto\n",
    "           0.5  0.5  0.5  0.5  0.5 ; # vermelho\n",
    "           0.75 0.75 0.75 0.75 0.75] # amarelo\n",
    "\n",
    "display(Gray.(germany))\n",
    "rank(germany)"
   ]
  },
  {
   "cell_type": "code",
   "execution_count": 558,
   "metadata": {},
   "outputs": [
    {
     "data": {
      "image/png": "[encoded data removed]",
      "text/plain": [
       "3×5 Array{Gray{Float64},2} with eltype Gray{Float64}:\n",
       " Gray{Float64}(0.5)  Gray{Float64}(0.5)  …  Gray{Float64}(0.5)\n",
       " Gray{Float64}(1.0)  Gray{Float64}(1.0)     Gray{Float64}(1.0)\n",
       " Gray{Float64}(0.5)  Gray{Float64}(0.5)     Gray{Float64}(0.5)"
      ]
     },
     "metadata": {},
     "output_type": "display_data"
    },
    {
     "data": {
      "text/plain": [
       "1"
      ]
     },
     "execution_count": 558,
     "metadata": {},
     "output_type": "execute_result"
    }
   ],
   "source": [
    "austria = [0.5 0.5 0.5 0.5 0.5; # vermelho\n",
    "           1   1   1   1   1  ; # branco\n",
    "           0.5 0.5 0.5 0.5 0.5] # vermelho\n",
    "\n",
    "display(Gray.(austria))\n",
    "rank(austria)"
   ]
  },
  {
   "cell_type": "markdown",
   "metadata": {},
   "source": [
    "### (c)\n",
    "Dois países tais quais sua bandeira tem posto = 2:\n",
    "- Nigéria\n",
    "- Finlândia"
   ]
  },
  {
   "cell_type": "code",
   "execution_count": 559,
   "metadata": {},
   "outputs": [
    {
     "data": {
      "image/png": "[encoded data removed]",
      "text/plain": [
       "2×3 Array{Gray{Float64},2} with eltype Gray{Float64}:\n",
       " Gray{Float64}(0.3)  Gray{Float64}(1.0)  Gray{Float64}(1.0)\n",
       " Gray{Float64}(0.5)  Gray{Float64}(0.5)  Gray{Float64}(0.5)"
      ]
     },
     "metadata": {},
     "output_type": "display_data"
    },
    {
     "data": {
      "text/plain": [
       "2"
      ]
     },
     "execution_count": 559,
     "metadata": {},
     "output_type": "execute_result"
    }
   ],
   "source": [
    "chile = [0.3  1    1   ; # azul / branco\n",
    "         0.5  0.5  0.5 ] # vermelho  \n",
    "\n",
    "display(Gray.(chile))\n",
    "rank(chile)"
   ]
  },
  {
   "cell_type": "code",
   "execution_count": 560,
   "metadata": {},
   "outputs": [
    {
     "data": {
      "image/png": "[encoded data removed]",
      "text/plain": [
       "3×5 Array{Gray{Float64},2} with eltype Gray{Float64}:\n",
       " Gray{Float64}(1.0)  Gray{Float64}(0.3)  …  Gray{Float64}(1.0)\n",
       " Gray{Float64}(0.3)  Gray{Float64}(0.3)     Gray{Float64}(0.3)\n",
       " Gray{Float64}(1.0)  Gray{Float64}(0.3)     Gray{Float64}(1.0)"
      ]
     },
     "metadata": {},
     "output_type": "display_data"
    },
    {
     "data": {
      "text/plain": [
       "2"
      ]
     },
     "execution_count": 560,
     "metadata": {},
     "output_type": "execute_result"
    }
   ],
   "source": [
    "finland = [1    0.3  1    1    1   ; # branco / azul  / branco\n",
    "           0.3  0.3  0.3  0.3  0.3 ; # azul\n",
    "           1    0.3  1    1    1   ] # branco / azul  / branco\n",
    "\n",
    "display(Gray.(finland))\n",
    "rank(finland)"
   ]
  },
  {
   "cell_type": "markdown",
   "metadata": {},
   "source": [
    "### (d)\n",
    "Dois países tais quais sua bandeira tem posto = 3:\n",
    "- Suíça\n",
    "- Grécia"
   ]
  },
  {
   "cell_type": "code",
   "execution_count": 561,
   "metadata": {},
   "outputs": [
    {
     "data": {
      "image/png": "[encoded data removed]",
      "text/plain": [
       "5×5 Array{Gray{Float64},2} with eltype Gray{Float64}:\n",
       " Gray{Float64}(0.5)  Gray{Float64}(0.5)  …  Gray{Float64}(0.5)\n",
       " Gray{Float64}(0.5)  Gray{Float64}(0.5)     Gray{Float64}(0.5)\n",
       " Gray{Float64}(0.5)  Gray{Float64}(1.0)     Gray{Float64}(0.5)\n",
       " Gray{Float64}(0.5)  Gray{Float64}(0.5)     Gray{Float64}(0.5)\n",
       " Gray{Float64}(0.5)  Gray{Float64}(0.5)     Gray{Float64}(0.5)"
      ]
     },
     "metadata": {},
     "output_type": "display_data"
    },
    {
     "data": {
      "text/plain": [
       "3"
      ]
     },
     "execution_count": 561,
     "metadata": {},
     "output_type": "execute_result"
    }
   ],
   "source": [
    "switz = [0.5  0.5  0.5  0.5  0.5 ; # vermelho\n",
    "         0.5  0.5  1    0.5  0.5 ; # vermelho / branco / vermelho\n",
    "         0.5  1    1    1    0.5 ; # vermelho / branco / vermelho\n",
    "         0.5  0.5  1    0.5  0.5 ; # vermelho / branco / vermelho\n",
    "         0.5  0.5  0.5  0.5  0.5 ] # vermelho\n",
    "\n",
    "display(Gray.(switz))\n",
    "rank(switz)"
   ]
  },
  {
   "cell_type": "code",
   "execution_count": 562,
   "metadata": {},
   "outputs": [
    {
     "data": {
      "image/png": "[encoded data removed]",
      "text/plain": [
       "9×9 Array{Gray{N0f8},2} with eltype Gray{Normed{UInt8,8}}:\n",
       " Gray{N0f8}(0.0)  Gray{N0f8}(1.0)  …  Gray{N0f8}(0.0)  Gray{N0f8}(0.0)\n",
       " Gray{N0f8}(0.0)  Gray{N0f8}(1.0)     Gray{N0f8}(1.0)  Gray{N0f8}(1.0)\n",
       " Gray{N0f8}(1.0)  Gray{N0f8}(1.0)     Gray{N0f8}(0.0)  Gray{N0f8}(0.0)\n",
       " Gray{N0f8}(0.0)  Gray{N0f8}(1.0)     Gray{N0f8}(1.0)  Gray{N0f8}(1.0)\n",
       " Gray{N0f8}(0.0)  Gray{N0f8}(1.0)     Gray{N0f8}(0.0)  Gray{N0f8}(0.0)\n",
       " Gray{N0f8}(1.0)  Gray{N0f8}(1.0)  …  Gray{N0f8}(1.0)  Gray{N0f8}(1.0)\n",
       " Gray{N0f8}(0.0)  Gray{N0f8}(0.0)     Gray{N0f8}(0.0)  Gray{N0f8}(0.0)\n",
       " Gray{N0f8}(1.0)  Gray{N0f8}(1.0)     Gray{N0f8}(1.0)  Gray{N0f8}(1.0)\n",
       " Gray{N0f8}(0.0)  Gray{N0f8}(0.0)     Gray{N0f8}(0.0)  Gray{N0f8}(0.0)"
      ]
     },
     "execution_count": 562,
     "metadata": {},
     "output_type": "execute_result"
    }
   ],
   "source": [
    "greece = [0   1   0   0   0   0   0   0   0 ;\n",
    "          0   1   0   1   1   1   1   1   1 ;\n",
    "          1   1   1   0   0   0   0   0   0 ;\n",
    "          0   1   0   1   1   1   1   1   1 ;\n",
    "          0   1   0   0   0   0   0   0   0 ;\n",
    "          1   1   1   1   1   1   1   1   1 ;\n",
    "          0   0   0   0   0   0   0   0   0 ;\n",
    "          1   1   1   1   1   1   1   1   1 ;\n",
    "          0   0   0   0   0   0   0   0   0 ]\n",
    "\n",
    "Gray.(greece)"
   ]
  },
  {
   "cell_type": "markdown",
   "metadata": {},
   "source": [
    "## Exercício 7\n",
    "\n",
    "Considere a imagem dada.\n",
    "\n",
    "a) Insira esta imagem em uma matriz 5x5. Na imagem, 0 representa a cor preta, 0.5 a cor cinza e 1 representa a cor branca.\n",
    "\n",
    "b) Qual é o posto da imagem?\n",
    "\n",
    "c) Faça compressão de dados nível 1, 2, 3, 4 e 5 e imprima na tela com os seus erros."
   ]
  },
  {
   "cell_type": "code",
   "execution_count": 563,
   "metadata": {},
   "outputs": [
    {
     "data": {
      "image/png": "[encoded data removed]",
      "text/plain": [
       "5×5 Array{Gray{Float64},2} with eltype Gray{Float64}:\n",
       " Gray{Float64}(1.0)  Gray{Float64}(0.0)  …  Gray{Float64}(1.0)\n",
       " Gray{Float64}(1.0)  Gray{Float64}(0.0)     Gray{Float64}(1.0)\n",
       " Gray{Float64}(1.0)  Gray{Float64}(1.0)     Gray{Float64}(1.0)\n",
       " Gray{Float64}(0.0)  Gray{Float64}(1.0)     Gray{Float64}(0.0)\n",
       " Gray{Float64}(1.0)  Gray{Float64}(0.0)     Gray{Float64}(1.0)"
      ]
     },
     "execution_count": 563,
     "metadata": {},
     "output_type": "execute_result"
    }
   ],
   "source": [
    "# a) Imagem em matriz 5x5\n",
    "\n",
    "img = [\n",
    "    1   0   1   0   1 ;\n",
    "    1   0   1   0   1 ;\n",
    "    1   1  0.5  1   1 ;\n",
    "    0   1   1   1   0 ;\n",
    "    1   0   0   0   1 ;\n",
    "]\n",
    "\n",
    "Gray.(img)"
   ]
  },
  {
   "cell_type": "markdown",
   "metadata": {},
   "source": [
    "b) Posto da imagem\n",
    "\n",
    "A imagem tem posto 3.\n",
    "\n",
    "O posto de uma matriz é o número de linhas (ou colunas) linearmente independentes da matriz. Podemos descobrir o posto fazendo o escalonamento da matriz e verificando o número de linhas não nulas. Um problema que se encontra ao fazer isso neste exemplo, é que nos deparamos com a necessidade de realizar trocas de linhas. Como estamos tratando de um exemplo simples em uma imagem verticalmente simétrica, é trivial reconhecer as colunas linearmente independentes.\n",
    "\n",
    "$\n",
    "\\begin{bmatrix}\n",
    "1 & 0 & 1 & 0 & 1  \\\\\n",
    "1 & 0 & 1 & 0 & 1  \\\\\n",
    "1 & 1 & 0.5 & 1 & 1  \\\\\n",
    "0 & 1 & 1 & 1 & 0  \\\\\n",
    "1 & 0 & 0 & 0 & 1  \\\\\n",
    "\\end{bmatrix}\n",
    "=\n",
    "\\begin{bmatrix}\n",
    "1 & 0 & 1 \\\\\n",
    "1 & 0 & 1 \\\\ \n",
    "1 & 1 & 0.5 \\\\\n",
    "0 & 1 & 1 \\\\\n",
    "1 & 0 & 0 \\\\\n",
    "\\end{bmatrix}\n",
    "\\cdot\n",
    "\\begin{bmatrix}\n",
    "1 & 0 & 0 & 0 & 1 \\\\\n",
    "0 & 1 & 0 & 1 & 0 \\\\\n",
    "0 & 0 & 1 & 0 & 0 \\\\\n",
    "\\end{bmatrix}\n",
    "$"
   ]
  },
  {
   "cell_type": "code",
   "execution_count": 564,
   "metadata": {},
   "outputs": [
    {
     "data": {
      "text/plain": [
       "0.0"
      ]
     },
     "execution_count": 564,
     "metadata": {},
     "output_type": "execute_result"
    }
   ],
   "source": [
    "# Verificamos a igualdade acima\n",
    "\n",
    "A = [\n",
    "    1 0 1   ;\n",
    "    1 0 1   ;\n",
    "    1 1 0.5 ;\n",
    "    0 1 1   ;\n",
    "    1 0 0   ;\n",
    "]\n",
    "\n",
    "B = [\n",
    "    1 0 0 0 1 ;\n",
    "    0 1 0 1 0 ;\n",
    "    0 0 1 0 0 ;\n",
    "]\n",
    "\n",
    "norm(A * B - img)"
   ]
  },
  {
   "cell_type": "code",
   "execution_count": 565,
   "metadata": {},
   "outputs": [
    {
     "data": {
      "text/plain": [
       "3"
      ]
     },
     "execution_count": 565,
     "metadata": {},
     "output_type": "execute_result"
    }
   ],
   "source": [
    "# Julia possui uma função para determinar o posto de uma matriz\n",
    "\n",
    "rank(img)"
   ]
  },
  {
   "cell_type": "code",
   "execution_count": 566,
   "metadata": {},
   "outputs": [
    {
     "data": {
      "image/png": "[encoded data removed]",
      "text/plain": [
       "5×5 Array{Gray{Float64},2} with eltype Gray{Float64}:\n",
       " Gray{Float64}(0.908326)  Gray{Float64}(0.420785)  …  Gray{Float64}(0.908326)\n",
       " Gray{Float64}(0.908326)  Gray{Float64}(0.420785)     Gray{Float64}(0.908326)\n",
       " Gray{Float64}(1.07348)   Gray{Float64}(0.497293)     Gray{Float64}(1.07348)\n",
       " Gray{Float64}(0.563227)  Gray{Float64}(0.260917)     Gray{Float64}(0.563227)\n",
       " Gray{Float64}(0.642945)  Gray{Float64}(0.297846)     Gray{Float64}(0.642945)"
      ]
     },
     "metadata": {},
     "output_type": "display_data"
    },
    {
     "name": "stdout",
     "output_type": "stream",
     "text": [
      "Compressão nível 1\n",
      "Erro: 2.0639038137892203\n"
     ]
    }
   ],
   "source": [
    "println(\"Compressão nível 1\")\n",
    "\n",
    "B, C = compressao(img, 1)\n",
    "compressao_1 = B * C'\n",
    "erro_1 = norm(img - compressao_1)\n",
    "display(Gray.(compressao_1))\n",
    "\n",
    "println(\"Erro: \", erro_1)"
   ]
  },
  {
   "cell_type": "code",
   "execution_count": 567,
   "metadata": {},
   "outputs": [
    {
     "data": {
      "image/png": "[encoded data removed]",
      "text/plain": [
       "5×5 Array{Gray{Float64},2} with eltype Gray{Float64}:\n",
       " Gray{Float64}(1.09263)    …  Gray{Float64}(1.09263)\n",
       " Gray{Float64}(1.09263)       Gray{Float64}(1.09263)\n",
       " Gray{Float64}(0.868419)      Gray{Float64}(0.868419)\n",
       " Gray{Float64}(0.0706856)     Gray{Float64}(0.0706856)\n",
       " Gray{Float64}(0.896033)      Gray{Float64}(0.896033)"
      ]
     },
     "metadata": {},
     "output_type": "display_data"
    },
    {
     "name": "stdout",
     "output_type": "stream",
     "text": [
      "Compressão nível 2\n",
      "Erro: 0.9834897575640651\n"
     ]
    }
   ],
   "source": [
    "println(\"Compressão nível 2\")\n",
    "\n",
    "B, C = compressao(img, 2)\n",
    "compressao_2 = B * C'\n",
    "erro_2 = norm(img - compressao_2)\n",
    "display(Gray.(compressao_2))\n",
    "\n",
    "println(\"Erro: \", erro_2)"
   ]
  },
  {
   "cell_type": "code",
   "execution_count": 568,
   "metadata": {},
   "outputs": [
    {
     "data": {
      "image/png": "[encoded data removed]",
      "text/plain": [
       "5×5 Array{Gray{Float64},2} with eltype Gray{Float64}:\n",
       " Gray{Float64}(1.0)           …  Gray{Float64}(1.0)\n",
       " Gray{Float64}(1.0)              Gray{Float64}(1.0)\n",
       " Gray{Float64}(1.0)              Gray{Float64}(1.0)\n",
       " Gray{Float64}(-5.79569e-17)     Gray{Float64}(-5.79569e-17)\n",
       " Gray{Float64}(1.0)              Gray{Float64}(1.0)"
      ]
     },
     "metadata": {},
     "output_type": "display_data"
    },
    {
     "name": "stdout",
     "output_type": "stream",
     "text": [
      "Compressão nível 3\n",
      "Erro: 5.00617706849582e-16\n"
     ]
    }
   ],
   "source": [
    "println(\"Compressão nível 3\")\n",
    "\n",
    "B, C = compressao(img, 3)\n",
    "compressao_3 = B * C'\n",
    "erro_3 = norm(img - compressao_3)\n",
    "display(Gray.(compressao_3))\n",
    "\n",
    "println(\"Erro: \", erro_3)"
   ]
  },
  {
   "cell_type": "code",
   "execution_count": 569,
   "metadata": {},
   "outputs": [
    {
     "data": {
      "image/png": "[encoded data removed]",
      "text/plain": [
       "5×5 Array{Gray{Float64},2} with eltype Gray{Float64}:\n",
       " Gray{Float64}(1.0)           …  Gray{Float64}(1.0)\n",
       " Gray{Float64}(1.0)              Gray{Float64}(1.0)\n",
       " Gray{Float64}(1.0)              Gray{Float64}(1.0)\n",
       " Gray{Float64}(-8.96682e-17)     Gray{Float64}(-8.96682e-17)\n",
       " Gray{Float64}(1.0)              Gray{Float64}(1.0)"
      ]
     },
     "metadata": {},
     "output_type": "display_data"
    },
    {
     "name": "stdout",
     "output_type": "stream",
     "text": [
      "Compressão nível 4\n",
      "Erro: 2.38880370106495e-16\n"
     ]
    }
   ],
   "source": [
    "println(\"Compressão nível 4\")\n",
    "\n",
    "B, C = compressao(img, 4)\n",
    "compressao_4 = B * C'\n",
    "erro_4 = norm(img - compressao_4)\n",
    "display(Gray.(compressao_4))\n",
    "\n",
    "println(\"Erro: \", erro_4)"
   ]
  },
  {
   "cell_type": "code",
   "execution_count": 570,
   "metadata": {},
   "outputs": [
    {
     "data": {
      "image/png": "[encoded data removed]",
      "text/plain": [
       "5×5 Array{Gray{Float64},2} with eltype Gray{Float64}:\n",
       " Gray{Float64}(1.0)           …  Gray{Float64}(1.0)\n",
       " Gray{Float64}(1.0)              Gray{Float64}(1.0)\n",
       " Gray{Float64}(1.0)              Gray{Float64}(1.0)\n",
       " Gray{Float64}(-1.30436e-17)     Gray{Float64}(-1.30436e-17)\n",
       " Gray{Float64}(1.0)              Gray{Float64}(1.0)"
      ]
     },
     "metadata": {},
     "output_type": "display_data"
    },
    {
     "name": "stdout",
     "output_type": "stream",
     "text": [
      "Compressão nível 5\n",
      "Erro: 2.8922668140437335e-16\n"
     ]
    }
   ],
   "source": [
    "println(\"Compressão nível 5\")\n",
    "\n",
    "B, C = compressao(img, 5)\n",
    "compressao_5 = B * C'\n",
    "erro_5 = norm(img - compressao_5)\n",
    "display(Gray.(compressao_5))\n",
    "\n",
    "println(\"Erro: \", erro_5)"
   ]
  },
  {
   "cell_type": "markdown",
   "metadata": {},
   "source": [
    "## Exercício 8\n",
    "\n",
    "Encontre (ou desenhe) uma imagem A, com mais ou menos 200 x 200 pixels (pode ser um pouco maior), que\n",
    "\n",
    "a) Exija um nível de compressão maior que 3 e menor que 6 para recuperar pelo menos 99% de sua norma total.\n",
    "\n",
    "b) Exija um nível de compressão maior que 40 para recuperar pelo menos 99% de sua norma total"
   ]
  },
  {
   "cell_type": "code",
   "execution_count": 571,
   "metadata": {},
   "outputs": [
    {
     "data": {
      "image/png": "[encoded data removed]",
      "text/plain": [
       "200×200 Array{Gray{Float64},2} with eltype Gray{Float64}:\n",
       " Gray{Float64}(0.0)  Gray{Float64}(0.0)  …  Gray{Float64}(0.0)\n",
       " Gray{Float64}(0.0)  Gray{Float64}(0.0)     Gray{Float64}(0.0)\n",
       " Gray{Float64}(0.0)  Gray{Float64}(0.0)     Gray{Float64}(0.0)\n",
       " Gray{Float64}(0.0)  Gray{Float64}(0.0)     Gray{Float64}(0.0)\n",
       " Gray{Float64}(0.0)  Gray{Float64}(0.0)     Gray{Float64}(0.0)\n",
       " Gray{Float64}(0.0)  Gray{Float64}(0.0)  …  Gray{Float64}(0.0)\n",
       " Gray{Float64}(0.0)  Gray{Float64}(0.0)     Gray{Float64}(0.0)\n",
       " Gray{Float64}(0.0)  Gray{Float64}(0.0)     Gray{Float64}(0.0)\n",
       " Gray{Float64}(0.0)  Gray{Float64}(0.0)     Gray{Float64}(0.0)\n",
       " Gray{Float64}(0.0)  Gray{Float64}(0.0)     Gray{Float64}(0.0)\n",
       " Gray{Float64}(0.0)  Gray{Float64}(0.0)  …  Gray{Float64}(0.0)\n",
       " Gray{Float64}(0.0)  Gray{Float64}(0.0)     Gray{Float64}(0.0)\n",
       " Gray{Float64}(0.0)  Gray{Float64}(0.0)     Gray{Float64}(0.0)\n",
       " ⋮                                       ⋱  \n",
       " Gray{Float64}(0.0)  Gray{Float64}(0.0)     Gray{Float64}(0.0)\n",
       " Gray{Float64}(0.0)  Gray{Float64}(0.0)     Gray{Float64}(0.0)\n",
       " Gray{Float64}(0.0)  Gray{Float64}(0.0)  …  Gray{Float64}(0.0)\n",
       " Gray{Float64}(0.0)  Gray{Float64}(0.0)     Gray{Float64}(0.0)\n",
       " Gray{Float64}(0.0)  Gray{Float64}(0.0)     Gray{Float64}(0.0)\n",
       " Gray{Float64}(0.0)  Gray{Float64}(0.0)     Gray{Float64}(0.0)\n",
       " Gray{Float64}(0.0)  Gray{Float64}(0.0)     Gray{Float64}(0.0)\n",
       " Gray{Float64}(0.0)  Gray{Float64}(0.0)  …  Gray{Float64}(0.0)\n",
       " Gray{Float64}(0.0)  Gray{Float64}(0.0)     Gray{Float64}(0.0)\n",
       " Gray{Float64}(0.0)  Gray{Float64}(0.0)     Gray{Float64}(0.0)\n",
       " Gray{Float64}(0.0)  Gray{Float64}(0.0)     Gray{Float64}(0.0)\n",
       " Gray{Float64}(0.0)  Gray{Float64}(0.0)     Gray{Float64}(0.0)"
      ]
     },
     "metadata": {},
     "output_type": "display_data"
    },
    {
     "data": {
      "text/plain": [
       "4"
      ]
     },
     "execution_count": 571,
     "metadata": {},
     "output_type": "execute_result"
    }
   ],
   "source": [
    "# a) Nível de compressão maior que 3 e menor que 6\n",
    "\n",
    "img = zeros(200, 200)\n",
    "img[75:125, :] .= 1\n",
    "img[:, 75:125] .= 1\n",
    "img[75:125, 75:125] .= 0\n",
    "img[85:115, 37:163] .= 0\n",
    "img[37:163, 85:115] .= 0\n",
    "\n",
    "raw = img\n",
    "img = Gray.(img)\n",
    "display(img)\n",
    "\n",
    "rank(raw)"
   ]
  },
  {
   "cell_type": "code",
   "execution_count": 572,
   "metadata": {},
   "outputs": [
    {
     "data": {
      "image/png": "[encoded data removed]",
      "text/plain": [
       "200×200 Array{Gray{Float64},2} with eltype Gray{Float64}:\n",
       " Gray{Float64}(-1.77713e-16)  …  Gray{Float64}(-1.77713e-16)\n",
       " Gray{Float64}(-1.77713e-16)     Gray{Float64}(-1.77713e-16)\n",
       " Gray{Float64}(-1.77713e-16)     Gray{Float64}(-1.77713e-16)\n",
       " Gray{Float64}(-1.77713e-16)     Gray{Float64}(-1.77713e-16)\n",
       " Gray{Float64}(-1.77713e-16)     Gray{Float64}(-1.77713e-16)\n",
       " Gray{Float64}(-1.77713e-16)  …  Gray{Float64}(-1.77713e-16)\n",
       " Gray{Float64}(-1.77713e-16)     Gray{Float64}(-1.77713e-16)\n",
       " Gray{Float64}(-1.77713e-16)     Gray{Float64}(-1.77713e-16)\n",
       " Gray{Float64}(-1.77713e-16)     Gray{Float64}(-1.77713e-16)\n",
       " Gray{Float64}(-1.77713e-16)     Gray{Float64}(-1.77713e-16)\n",
       " Gray{Float64}(-1.77713e-16)  …  Gray{Float64}(-1.77713e-16)\n",
       " Gray{Float64}(-1.77713e-16)     Gray{Float64}(-1.77713e-16)\n",
       " Gray{Float64}(-1.77713e-16)     Gray{Float64}(-1.77713e-16)\n",
       " ⋮                            ⋱  \n",
       " Gray{Float64}(-1.77713e-16)     Gray{Float64}(-1.77713e-16)\n",
       " Gray{Float64}(-1.77713e-16)     Gray{Float64}(-1.77713e-16)\n",
       " Gray{Float64}(-1.77713e-16)  …  Gray{Float64}(-1.77713e-16)\n",
       " Gray{Float64}(-1.77713e-16)     Gray{Float64}(-1.77713e-16)\n",
       " Gray{Float64}(-1.77713e-16)     Gray{Float64}(-1.77713e-16)\n",
       " Gray{Float64}(-1.77713e-16)     Gray{Float64}(-1.77713e-16)\n",
       " Gray{Float64}(-1.77713e-16)     Gray{Float64}(-1.77713e-16)\n",
       " Gray{Float64}(-1.77713e-16)  …  Gray{Float64}(-1.77713e-16)\n",
       " Gray{Float64}(-1.77713e-16)     Gray{Float64}(-1.77713e-16)\n",
       " Gray{Float64}(-1.77713e-16)     Gray{Float64}(-1.77713e-16)\n",
       " Gray{Float64}(-1.77713e-16)     Gray{Float64}(-1.77713e-16)\n",
       " Gray{Float64}(-1.77713e-16)     Gray{Float64}(-1.77713e-16)"
      ]
     },
     "metadata": {},
     "output_type": "display_data"
    },
    {
     "name": "stdout",
     "output_type": "stream",
     "text": [
      "Compressão de nível 4\n",
      "Erro: 7.52817793633062e-14\n",
      "Porcentagem da Norma: 100.00%\n"
     ]
    }
   ],
   "source": [
    "nivel_de_compressao = 4\n",
    "\n",
    "println(\"Compressão de nível \", nivel_de_compressao)\n",
    "\n",
    "B, C = compressao(raw, nivel_de_compressao)\n",
    "img_comprimida = B * C'\n",
    "erro = norm(Gray.(img) - img_comprimida)\n",
    "display(Gray.(img_comprimida))\n",
    "\n",
    "println(\"Erro: \", erro)\n",
    "@printf(\"Porcentagem da Norma: %.2f%%\\n\", norm(img_comprimida) * 100 / norm(raw))"
   ]
  },
  {
   "cell_type": "code",
   "execution_count": 573,
   "metadata": {},
   "outputs": [
    {
     "data": {
      "image/png": "[encoded data removed]",
      "text/plain": [
       "200×200 Array{Gray{Float64},2} with eltype Gray{Float64}:\n",
       " Gray{Float64}(0.0)  Gray{Float64}(0.0)  …  Gray{Float64}(0.0)\n",
       " Gray{Float64}(1.0)  Gray{Float64}(0.0)     Gray{Float64}(0.0)\n",
       " Gray{Float64}(1.0)  Gray{Float64}(1.0)     Gray{Float64}(0.0)\n",
       " Gray{Float64}(1.0)  Gray{Float64}(1.0)     Gray{Float64}(0.0)\n",
       " Gray{Float64}(1.0)  Gray{Float64}(1.0)     Gray{Float64}(0.0)\n",
       " Gray{Float64}(1.0)  Gray{Float64}(1.0)  …  Gray{Float64}(0.0)\n",
       " Gray{Float64}(1.0)  Gray{Float64}(1.0)     Gray{Float64}(0.0)\n",
       " Gray{Float64}(1.0)  Gray{Float64}(1.0)     Gray{Float64}(0.0)\n",
       " Gray{Float64}(1.0)  Gray{Float64}(1.0)     Gray{Float64}(0.0)\n",
       " Gray{Float64}(1.0)  Gray{Float64}(1.0)     Gray{Float64}(0.0)\n",
       " Gray{Float64}(1.0)  Gray{Float64}(1.0)  …  Gray{Float64}(0.0)\n",
       " Gray{Float64}(1.0)  Gray{Float64}(1.0)     Gray{Float64}(0.0)\n",
       " Gray{Float64}(1.0)  Gray{Float64}(1.0)     Gray{Float64}(0.0)\n",
       " ⋮                                       ⋱  \n",
       " Gray{Float64}(0.0)  Gray{Float64}(0.0)     Gray{Float64}(0.0)\n",
       " Gray{Float64}(0.0)  Gray{Float64}(0.0)     Gray{Float64}(0.0)\n",
       " Gray{Float64}(0.0)  Gray{Float64}(0.0)  …  Gray{Float64}(0.0)\n",
       " Gray{Float64}(0.0)  Gray{Float64}(0.0)     Gray{Float64}(0.0)\n",
       " Gray{Float64}(0.0)  Gray{Float64}(0.0)     Gray{Float64}(0.0)\n",
       " Gray{Float64}(0.0)  Gray{Float64}(0.0)     Gray{Float64}(0.0)\n",
       " Gray{Float64}(0.0)  Gray{Float64}(0.0)     Gray{Float64}(0.0)\n",
       " Gray{Float64}(0.0)  Gray{Float64}(0.0)  …  Gray{Float64}(0.0)\n",
       " Gray{Float64}(0.0)  Gray{Float64}(0.0)     Gray{Float64}(0.0)\n",
       " Gray{Float64}(0.0)  Gray{Float64}(0.0)     Gray{Float64}(0.0)\n",
       " Gray{Float64}(0.0)  Gray{Float64}(0.0)     Gray{Float64}(0.0)\n",
       " Gray{Float64}(0.0)  Gray{Float64}(0.0)     Gray{Float64}(0.0)"
      ]
     },
     "metadata": {},
     "output_type": "display_data"
    },
    {
     "data": {
      "text/plain": [
       "148"
      ]
     },
     "execution_count": 573,
     "metadata": {},
     "output_type": "execute_result"
    }
   ],
   "source": [
    "# b) Nível de compressão maior que 40\n",
    "\n",
    "img = zeros(200, 200)\n",
    "m, n = size(img)\n",
    "for i=1:m\n",
    "    for j=1:n\n",
    "        img[i, j] = i > n/2 + sin(j/5*100)*n/5 * j/100 ? 0.0 : 1.0;\n",
    "        img[j, i] -= i > n/2 + sin(j/5*100)*n/5 * j/100 ? 0.0 : 1.0;\n",
    "        img[n-j+1, i] *= i > n/2 + sin(j/5*100)*n/5 * j/100 ? 0.0 : 1.0;\n",
    "        img[j, m-i+1] -= i > n/2 + sin(j/5*100)*n/5 * j/100 ? 0.0 : 1.0;\n",
    "    end\n",
    "end\n",
    "        \n",
    "\n",
    "raw = img\n",
    "img = Gray.(img)\n",
    "display(img)\n",
    "\n",
    "rank(raw)"
   ]
  },
  {
   "cell_type": "code",
   "execution_count": 574,
   "metadata": {},
   "outputs": [
    {
     "data": {
      "image/png": "[encoded data removed]",
      "text/plain": [
       "200×200 Array{Gray{Float64},2} with eltype Gray{Float64}:\n",
       " Gray{Float64}(0.0)       Gray{Float64}(0.0)       …  Gray{Float64}(0.0)\n",
       " Gray{Float64}(0.261931)  Gray{Float64}(0.247506)     Gray{Float64}(0.0)\n",
       " Gray{Float64}(0.605469)  Gray{Float64}(0.570189)     Gray{Float64}(0.0)\n",
       " Gray{Float64}(0.791689)  Gray{Float64}(0.754066)     Gray{Float64}(0.0)\n",
       " Gray{Float64}(0.882423)  Gray{Float64}(0.840202)     Gray{Float64}(0.0)\n",
       " Gray{Float64}(0.972751)  Gray{Float64}(0.934293)  …  Gray{Float64}(0.0)\n",
       " Gray{Float64}(1.07548)   Gray{Float64}(1.03736)      Gray{Float64}(0.0)\n",
       " Gray{Float64}(1.11003)   Gray{Float64}(1.07837)      Gray{Float64}(0.0)\n",
       " Gray{Float64}(1.17513)   Gray{Float64}(1.15694)      Gray{Float64}(0.0)\n",
       " Gray{Float64}(1.10758)   Gray{Float64}(1.09244)      Gray{Float64}(0.0)\n",
       " Gray{Float64}(1.0531)    Gray{Float64}(1.04812)   …  Gray{Float64}(0.0)\n",
       " Gray{Float64}(1.04824)   Gray{Float64}(1.05186)      Gray{Float64}(0.0)\n",
       " Gray{Float64}(0.964111)  Gray{Float64}(0.964744)     Gray{Float64}(0.0)\n",
       " ⋮                                                 ⋱  \n",
       " Gray{Float64}(0.0)       Gray{Float64}(0.0)          Gray{Float64}(0.0)\n",
       " Gray{Float64}(0.0)       Gray{Float64}(0.0)          Gray{Float64}(0.0)\n",
       " Gray{Float64}(0.0)       Gray{Float64}(0.0)       …  Gray{Float64}(0.0)\n",
       " Gray{Float64}(0.0)       Gray{Float64}(0.0)          Gray{Float64}(0.0)\n",
       " Gray{Float64}(0.0)       Gray{Float64}(0.0)          Gray{Float64}(0.0)\n",
       " Gray{Float64}(0.0)       Gray{Float64}(0.0)          Gray{Float64}(0.0)\n",
       " Gray{Float64}(0.0)       Gray{Float64}(0.0)          Gray{Float64}(0.0)\n",
       " Gray{Float64}(0.0)       Gray{Float64}(0.0)       …  Gray{Float64}(0.0)\n",
       " Gray{Float64}(0.0)       Gray{Float64}(0.0)          Gray{Float64}(0.0)\n",
       " Gray{Float64}(0.0)       Gray{Float64}(0.0)          Gray{Float64}(0.0)\n",
       " Gray{Float64}(0.0)       Gray{Float64}(0.0)          Gray{Float64}(0.0)\n",
       " Gray{Float64}(0.0)       Gray{Float64}(0.0)          Gray{Float64}(0.0)"
      ]
     },
     "metadata": {},
     "output_type": "display_data"
    },
    {
     "name": "stdout",
     "output_type": "stream",
     "text": [
      "Compressão de nível 43\n",
      "Erro: 11.942023353826048\n",
      "Porcentagem da Norma: 99.03%\n"
     ]
    }
   ],
   "source": [
    "nivel_de_compressao = 43\n",
    "\n",
    "println(\"Compressão de nível \", nivel_de_compressao)\n",
    "\n",
    "B, C = compressao(raw, nivel_de_compressao)\n",
    "img_comprimida = B * C'\n",
    "erro = norm(Gray.(img) - img_comprimida)\n",
    "display(Gray.(img_comprimida))\n",
    "\n",
    "println(\"Erro: \", erro)\n",
    "@printf(\"Porcentagem da Norma: %.2f%%\\n\", norm(img_comprimida) * 100 / norm(raw))"
   ]
  },
  {
   "cell_type": "code",
   "execution_count": 575,
   "metadata": {},
   "outputs": [
    {
     "data": {
      "text/plain": [
       "84.99051757823736"
      ]
     },
     "execution_count": 575,
     "metadata": {},
     "output_type": "execute_result"
    }
   ],
   "source": [
    "norm(img_comprimida)"
   ]
  },
  {
   "cell_type": "code",
   "execution_count": 576,
   "metadata": {},
   "outputs": [
    {
     "data": {
      "text/plain": [
       "85.82540416450132"
      ]
     },
     "execution_count": 576,
     "metadata": {},
     "output_type": "execute_result"
    }
   ],
   "source": [
    "norm(raw)"
   ]
  }
 ],
 "metadata": {
  "kernelspec": {
   "display_name": "Julia 1.5.3",
   "language": "julia",
   "name": "julia-1.5"
  },
  "language_info": {
   "file_extension": ".jl",
   "mimetype": "application/julia",
   "name": "julia",
   "version": "1.5.3"
  }
 },
 "nbformat": 4,
 "nbformat_minor": 4
}
