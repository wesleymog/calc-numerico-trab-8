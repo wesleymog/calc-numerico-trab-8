{
 "cells": [
  {
   "cell_type": "markdown",
   "id": "83588871-44b8-4bc0-ae7a-2bb8ab36292b",
   "metadata": {},
   "source": [
    "# Lista 8: Métodos Iterativos para Sistema Lineares e Redução de Dados\n",
    "\n",
    "**Professor:** Joao Antonio Recio Da Paixao  \n",
    "**Aluno:** Eduardo Dias de Melo Catarina "
   ]
  },
  {
   "cell_type": "code",
   "execution_count": 448,
   "id": "caedb8cf-78a5-4fe6-b6f6-629c397e5416",
   "metadata": {},
   "outputs": [],
   "source": [
    "import Pkg; \n",
    "\n",
    "Pkg.add(\"Images\")\n",
    "\n",
    "using LinearAlgebra\n",
    "using Images\n",
    "using Printf"
   ]
  },
  {
   "cell_type": "markdown",
   "id": "54135e4d-cf81-4e23-9c20-30192bd21db9",
   "metadata": {},
   "source": [
    "## Exercício 7.\n",
    "\n",
    "Considere a imagem dada.\n",
    "\n",
    "a) Insira esta imagem em uma matriz 5x5. Na imagem, 0 representa a cor preta, 0.5 a cor cinza e 1 representa a cor branca.\n",
    "\n",
    "b) Qual é o posto da imagem?\n",
    "\n",
    "c) Faça compressão de dados nível 1, 2, 3, 4 e 5 e imprima na tela com os seus erros."
   ]
  },
  {
   "cell_type": "code",
   "execution_count": 449,
   "id": "34356177-3d77-4d9f-a6ad-199350564c6b",
   "metadata": {},
   "outputs": [
    {
     "data": {
      "image/png": "[encoded data removed]",
      "text/plain": [
       "5×5 Array{Gray{Float64},2} with eltype Gray{Float64}:\n",
       " Gray{Float64}(1.0)  Gray{Float64}(0.0)  …  Gray{Float64}(1.0)\n",
       " Gray{Float64}(1.0)  Gray{Float64}(0.0)     Gray{Float64}(1.0)\n",
       " Gray{Float64}(1.0)  Gray{Float64}(1.0)     Gray{Float64}(1.0)\n",
       " Gray{Float64}(0.0)  Gray{Float64}(1.0)     Gray{Float64}(0.0)\n",
       " Gray{Float64}(1.0)  Gray{Float64}(0.0)     Gray{Float64}(1.0)"
      ]
     },
     "execution_count": 449,
     "metadata": {},
     "output_type": "execute_result"
    }
   ],
   "source": [
    "# a) Imagem em matriz 5x5\n",
    "\n",
    "img = [\n",
    "    1   0   1   0   1 ;\n",
    "    1   0   1   0   1 ;\n",
    "    1   1  0.5  1   1 ;\n",
    "    0   1   1   1   0 ;\n",
    "    1   0   0   0   1 ;\n",
    "]\n",
    "\n",
    "Gray.(img)"
   ]
  },
  {
   "cell_type": "markdown",
   "id": "5ffa4760-e0e0-43fc-af7c-ec053881f834",
   "metadata": {},
   "source": [
    "b) Posto da imagem\n",
    "\n",
    "A imagem tem posto 3.\n",
    "\n",
    "O posto de uma matriz é o número de linhas (ou colunas) linearmente independentes da matriz. Podemos descobrir o posto fazendo o escalonamento da matriz e verificando o número de linhas não nulas. Um problema que se encontra ao fazer isso neste exemplo, é que nos deparamos com a necessidade de realizar trocas de linhas. Como estamos tratando de um exemplo simples em uma imagem verticalmente simétrica, é trivial reconhecer as colunas linearmente independentes.\n",
    "\n",
    "$\n",
    "\\begin{bmatrix}\n",
    "1 & 0 & 1 & 0 & 1  \\\\\n",
    "1 & 0 & 1 & 0 & 1  \\\\\n",
    "1 & 1 & 0.5 & 1 & 1  \\\\\n",
    "0 & 1 & 1 & 1 & 0  \\\\\n",
    "1 & 0 & 0 & 0 & 1  \\\\\n",
    "\\end{bmatrix}\n",
    "=\n",
    "\\begin{bmatrix}\n",
    "1 & 0 & 1 \\\\\n",
    "1 & 0 & 1 \\\\ \n",
    "1 & 1 & 0.5 \\\\\n",
    "0 & 1 & 1 \\\\\n",
    "1 & 0 & 0 \\\\\n",
    "\\end{bmatrix}\n",
    "\\cdot\n",
    "\\begin{bmatrix}\n",
    "1 & 0 & 0 & 0 & 1 \\\\\n",
    "0 & 1 & 0 & 1 & 0 \\\\\n",
    "0 & 0 & 1 & 0 & 0 \\\\\n",
    "\\end{bmatrix}\n",
    "$"
   ]
  },
  {
   "cell_type": "code",
   "execution_count": 450,
   "id": "68d119a5-fcb0-4098-a371-f8460d91116b",
   "metadata": {},
   "outputs": [
    {
     "data": {
      "text/plain": [
       "0.0"
      ]
     },
     "execution_count": 450,
     "metadata": {},
     "output_type": "execute_result"
    }
   ],
   "source": [
    "# Verificamos a igualdade acima\n",
    "\n",
    "A = [\n",
    "    1 0 1   ;\n",
    "    1 0 1   ;\n",
    "    1 1 0.5 ;\n",
    "    0 1 1   ;\n",
    "    1 0 0   ;\n",
    "]\n",
    "\n",
    "B = [\n",
    "    1 0 0 0 1 ;\n",
    "    0 1 0 1 0 ;\n",
    "    0 0 1 0 0 ;\n",
    "]\n",
    "\n",
    "norm(A * B - img)"
   ]
  },
  {
   "cell_type": "code",
   "execution_count": 451,
   "id": "e8173054-b18e-460b-9fe4-a7900161238c",
   "metadata": {},
   "outputs": [
    {
     "data": {
      "text/plain": [
       "3"
      ]
     },
     "execution_count": 451,
     "metadata": {},
     "output_type": "execute_result"
    }
   ],
   "source": [
    "# Julia possui uma função para determinar o posto de uma matriz\n",
    "\n",
    "rank(img)"
   ]
  },
  {
   "cell_type": "code",
   "execution_count": 452,
   "id": "7aa9521a-e285-4a62-870b-68241b6bc528",
   "metadata": {},
   "outputs": [
    {
     "data": {
      "text/plain": [
       "compressao (generic function with 1 method)"
      ]
     },
     "execution_count": 452,
     "metadata": {},
     "output_type": "execute_result"
    }
   ],
   "source": [
    "\"\"\"\n",
    "RESUMO: É um método que dada uma matriz A, diminuirmos o tamanho delas através do cálculo de valores de c\n",
    "        respeitando o modelo A = A-b*c', para conseguir várias matrizes até o posto desejado pelo usuário.\n",
    "ENTRADA: matriz A e o nível de compressão\n",
    "SAIDA: matriz B e matriz C\n",
    "\"\"\"\n",
    "#Retorna a melhor coordenada, tal que norm(A-b*c') é mínima\n",
    "function melhores_coords(A,b) #retorna c tal que norm(A-b*c') é mínima\n",
    "    m,n=size(A)\n",
    "    A=1.0*A\n",
    "    c=zeros(n,1)\n",
    "    c=A'*(b/(b'*b))\n",
    "    return c\n",
    "end\n",
    "#Faz cálculo b, c através das melhores coordenadas\n",
    "function calculo_cb(A; limite = 22)\n",
    "    n,m=size(A)\n",
    "\n",
    "    b=randn(n,1)\n",
    "    c=randn(m,1)\n",
    "    \n",
    "    btemp=randn(m,1)\n",
    "    ctemp=randn(n,1)\n",
    "    \n",
    "    for i=1:limite\n",
    "        c=melhores_coords(A,b)\n",
    "        btemp=c\n",
    "        ctemp=melhores_coords(A',btemp)\n",
    "        b=ctemp\n",
    "    end\n",
    "    \n",
    "    return b,c\n",
    "end\n",
    "\n",
    "function compressao(A,nivel)\n",
    "    m,n=size(A)\n",
    "    B=zeros(m,nivel)\n",
    "    C=zeros(n,nivel)\n",
    "    \n",
    "    for i=1:nivel\n",
    "        B[:,i],C[:,i]=calculo_cb(A)\n",
    "        A=A-B[:,i]*C[:,i]'\n",
    "    end\n",
    "    return B,C\n",
    "end"
   ]
  },
  {
   "cell_type": "code",
   "execution_count": 453,
   "id": "71eadcb4-d4d0-4a13-8259-c1cbf0f81c22",
   "metadata": {},
   "outputs": [
    {
     "data": {
      "image/png": "[encoded data removed]",
      "text/plain": [
       "5×5 Array{Gray{Float64},2} with eltype Gray{Float64}:\n",
       " Gray{Float64}(0.908326)  Gray{Float64}(0.420785)  …  Gray{Float64}(0.908326)\n",
       " Gray{Float64}(0.908326)  Gray{Float64}(0.420785)     Gray{Float64}(0.908326)\n",
       " Gray{Float64}(1.07348)   Gray{Float64}(0.497293)     Gray{Float64}(1.07348)\n",
       " Gray{Float64}(0.563227)  Gray{Float64}(0.260917)     Gray{Float64}(0.563227)\n",
       " Gray{Float64}(0.642945)  Gray{Float64}(0.297846)     Gray{Float64}(0.642945)"
      ]
     },
     "metadata": {},
     "output_type": "display_data"
    },
    {
     "name": "stdout",
     "output_type": "stream",
     "text": [
      "Compressão nível 1\n",
      "Erro: 2.0639038137892203\n"
     ]
    }
   ],
   "source": [
    "println(\"Compressão nível 1\")\n",
    "\n",
    "B, C = compressao(img, 1)\n",
    "compressao_1 = B * C'\n",
    "erro_1 = norm(img - compressao_1)\n",
    "display(Gray.(compressao_1))\n",
    "\n",
    "println(\"Erro: \", erro_1)"
   ]
  },
  {
   "cell_type": "code",
   "execution_count": 454,
   "id": "527f6926-851e-4629-80ec-b0ccfcfbc674",
   "metadata": {},
   "outputs": [
    {
     "data": {
      "image/png": "[encoded data removed]",
      "text/plain": [
       "5×5 Array{Gray{Float64},2} with eltype Gray{Float64}:\n",
       " Gray{Float64}(1.09263)    …  Gray{Float64}(1.09263)\n",
       " Gray{Float64}(1.09263)       Gray{Float64}(1.09263)\n",
       " Gray{Float64}(0.868419)      Gray{Float64}(0.868419)\n",
       " Gray{Float64}(0.0706856)     Gray{Float64}(0.0706856)\n",
       " Gray{Float64}(0.896033)      Gray{Float64}(0.896033)"
      ]
     },
     "metadata": {},
     "output_type": "display_data"
    },
    {
     "name": "stdout",
     "output_type": "stream",
     "text": [
      "Compressão nível 2\n",
      "Erro: 0.9834897575640652\n"
     ]
    }
   ],
   "source": [
    "println(\"Compressão nível 2\")\n",
    "\n",
    "B, C = compressao(img, 2)\n",
    "compressao_2 = B * C'\n",
    "erro_2 = norm(img - compressao_2)\n",
    "display(Gray.(compressao_2))\n",
    "\n",
    "println(\"Erro: \", erro_2)"
   ]
  },
  {
   "cell_type": "code",
   "execution_count": 455,
   "id": "a97804b4-dd85-48a8-aace-5edfca8e231c",
   "metadata": {},
   "outputs": [
    {
     "data": {
      "image/png": "[encoded data removed]",
      "text/plain": [
       "5×5 Array{Gray{Float64},2} with eltype Gray{Float64}:\n",
       " Gray{Float64}(1.0)  Gray{Float64}(2.77556e-17)  …  Gray{Float64}(1.0)\n",
       " Gray{Float64}(1.0)  Gray{Float64}(2.77556e-17)     Gray{Float64}(1.0)\n",
       " Gray{Float64}(1.0)  Gray{Float64}(1.0)             Gray{Float64}(1.0)\n",
       " Gray{Float64}(0.0)  Gray{Float64}(1.0)             Gray{Float64}(0.0)\n",
       " Gray{Float64}(1.0)  Gray{Float64}(1.38778e-16)     Gray{Float64}(1.0)"
      ]
     },
     "metadata": {},
     "output_type": "display_data"
    },
    {
     "name": "stdout",
     "output_type": "stream",
     "text": [
      "Compressão nível 3\n",
      "Erro: 3.825842074281555e-16\n"
     ]
    }
   ],
   "source": [
    "println(\"Compressão nível 3\")\n",
    "\n",
    "B, C = compressao(img, 3)\n",
    "compressao_3 = B * C'\n",
    "erro_3 = norm(img - compressao_3)\n",
    "display(Gray.(compressao_3))\n",
    "\n",
    "println(\"Erro: \", erro_3)"
   ]
  },
  {
   "cell_type": "code",
   "execution_count": 456,
   "id": "96bd7912-72b7-4885-b42c-dfd987ac650c",
   "metadata": {},
   "outputs": [
    {
     "data": {
      "image/png": "[encoded data removed]",
      "text/plain": [
       "5×5 Array{Gray{Float64},2} with eltype Gray{Float64}:\n",
       " Gray{Float64}(1.0)           …  Gray{Float64}(1.0)\n",
       " Gray{Float64}(1.0)              Gray{Float64}(1.0)\n",
       " Gray{Float64}(1.0)              Gray{Float64}(1.0)\n",
       " Gray{Float64}(-4.31125e-18)     Gray{Float64}(-4.31125e-18)\n",
       " Gray{Float64}(1.0)              Gray{Float64}(1.0)"
      ]
     },
     "metadata": {},
     "output_type": "display_data"
    },
    {
     "name": "stdout",
     "output_type": "stream",
     "text": [
      "Compressão nível 4\n",
      "Erro: 2.96432759488109e-16\n"
     ]
    }
   ],
   "source": [
    "println(\"Compressão nível 4\")\n",
    "\n",
    "B, C = compressao(img, 4)\n",
    "compressao_4 = B * C'\n",
    "erro_4 = norm(img - compressao_4)\n",
    "display(Gray.(compressao_4))\n",
    "\n",
    "println(\"Erro: \", erro_4)"
   ]
  },
  {
   "cell_type": "code",
   "execution_count": 457,
   "id": "8d7ea9f1-c9aa-43c4-a5f3-2e490a60c33b",
   "metadata": {},
   "outputs": [
    {
     "data": {
      "image/png": "[encoded data removed]",
      "text/plain": [
       "5×5 Array{Gray{Float64},2} with eltype Gray{Float64}:\n",
       " Gray{Float64}(1.0)           …  Gray{Float64}(1.0)\n",
       " Gray{Float64}(1.0)              Gray{Float64}(1.0)\n",
       " Gray{Float64}(1.0)              Gray{Float64}(1.0)\n",
       " Gray{Float64}(-1.03403e-18)     Gray{Float64}(-1.03403e-18)\n",
       " Gray{Float64}(1.0)              Gray{Float64}(1.0)"
      ]
     },
     "metadata": {},
     "output_type": "display_data"
    },
    {
     "name": "stdout",
     "output_type": "stream",
     "text": [
      "Compressão nível 5\n",
      "Erro: 1.5871640720798593e-16\n"
     ]
    }
   ],
   "source": [
    "println(\"Compressão nível 5\")\n",
    "\n",
    "B, C = compressao(img, 5)\n",
    "compressao_5 = B * C'\n",
    "erro_5 = norm(img - compressao_5)\n",
    "display(Gray.(compressao_5))\n",
    "\n",
    "println(\"Erro: \", erro_5)"
   ]
  },
  {
   "cell_type": "markdown",
   "id": "9bedfa1d-9e8d-4901-8753-dbbb889e9277",
   "metadata": {},
   "source": [
    "## Exercício 8.\n",
    "\n",
    "Encontre (ou desenhe) uma imagem A, com mais ou menos 200 x 200 pixels (pode ser um pouco maior), que\n",
    "\n",
    "a) Exija um nível de compressão maior que 3 e menor que 6 para recuperar pelo menos 99% de sua norma total.\n",
    "\n",
    "b) Exija um nível de compressão maior que 40 para recuperar pelo menos 99% de sua norma total"
   ]
  },
  {
   "cell_type": "code",
   "execution_count": 458,
   "id": "081cbb80-5913-4710-a213-f0bf152d5cec",
   "metadata": {},
   "outputs": [
    {
     "data": {
      "image/png": "[encoded data removed]",
      "text/plain": [
       "200×200 Array{Gray{Float64},2} with eltype Gray{Float64}:\n",
       " Gray{Float64}(0.0)  Gray{Float64}(0.0)  …  Gray{Float64}(0.0)\n",
       " Gray{Float64}(0.0)  Gray{Float64}(0.0)     Gray{Float64}(0.0)\n",
       " Gray{Float64}(0.0)  Gray{Float64}(0.0)     Gray{Float64}(0.0)\n",
       " Gray{Float64}(0.0)  Gray{Float64}(0.0)     Gray{Float64}(0.0)\n",
       " Gray{Float64}(0.0)  Gray{Float64}(0.0)     Gray{Float64}(0.0)\n",
       " Gray{Float64}(0.0)  Gray{Float64}(0.0)  …  Gray{Float64}(0.0)\n",
       " Gray{Float64}(0.0)  Gray{Float64}(0.0)     Gray{Float64}(0.0)\n",
       " Gray{Float64}(0.0)  Gray{Float64}(0.0)     Gray{Float64}(0.0)\n",
       " Gray{Float64}(0.0)  Gray{Float64}(0.0)     Gray{Float64}(0.0)\n",
       " Gray{Float64}(0.0)  Gray{Float64}(0.0)     Gray{Float64}(0.0)\n",
       " Gray{Float64}(0.0)  Gray{Float64}(0.0)  …  Gray{Float64}(0.0)\n",
       " Gray{Float64}(0.0)  Gray{Float64}(0.0)     Gray{Float64}(0.0)\n",
       " Gray{Float64}(0.0)  Gray{Float64}(0.0)     Gray{Float64}(0.0)\n",
       " ⋮                                       ⋱  \n",
       " Gray{Float64}(0.0)  Gray{Float64}(0.0)     Gray{Float64}(0.0)\n",
       " Gray{Float64}(0.0)  Gray{Float64}(0.0)     Gray{Float64}(0.0)\n",
       " Gray{Float64}(0.0)  Gray{Float64}(0.0)  …  Gray{Float64}(0.0)\n",
       " Gray{Float64}(0.0)  Gray{Float64}(0.0)     Gray{Float64}(0.0)\n",
       " Gray{Float64}(0.0)  Gray{Float64}(0.0)     Gray{Float64}(0.0)\n",
       " Gray{Float64}(0.0)  Gray{Float64}(0.0)     Gray{Float64}(0.0)\n",
       " Gray{Float64}(0.0)  Gray{Float64}(0.0)     Gray{Float64}(0.0)\n",
       " Gray{Float64}(0.0)  Gray{Float64}(0.0)  …  Gray{Float64}(0.0)\n",
       " Gray{Float64}(0.0)  Gray{Float64}(0.0)     Gray{Float64}(0.0)\n",
       " Gray{Float64}(0.0)  Gray{Float64}(0.0)     Gray{Float64}(0.0)\n",
       " Gray{Float64}(0.0)  Gray{Float64}(0.0)     Gray{Float64}(0.0)\n",
       " Gray{Float64}(0.0)  Gray{Float64}(0.0)     Gray{Float64}(0.0)"
      ]
     },
     "metadata": {},
     "output_type": "display_data"
    },
    {
     "data": {
      "text/plain": [
       "4"
      ]
     },
     "execution_count": 458,
     "metadata": {},
     "output_type": "execute_result"
    }
   ],
   "source": [
    "# a) Nível de compressão maior que 3 e menor que 6\n",
    "\n",
    "img = zeros(200, 200)\n",
    "img[75:125, :] .= 1\n",
    "img[:, 75:125] .= 1\n",
    "img[75:125, 75:125] .= 0\n",
    "img[85:115, 37:163] .= 0\n",
    "img[37:163, 85:115] .= 0\n",
    "\n",
    "raw = img\n",
    "img = Gray.(img)\n",
    "display(img)\n",
    "\n",
    "rank(raw)"
   ]
  },
  {
   "cell_type": "code",
   "execution_count": 459,
   "id": "54c8ed9c-aaa8-4f08-97aa-401b00650262",
   "metadata": {},
   "outputs": [
    {
     "data": {
      "image/png": "[encoded data removed]",
      "text/plain": [
       "200×200 Array{Gray{Float64},2} with eltype Gray{Float64}:\n",
       " Gray{Float64}(-7.38992e-16)  …  Gray{Float64}(-7.38992e-16)\n",
       " Gray{Float64}(-7.38992e-16)     Gray{Float64}(-7.38992e-16)\n",
       " Gray{Float64}(-7.38992e-16)     Gray{Float64}(-7.38992e-16)\n",
       " Gray{Float64}(-7.38992e-16)     Gray{Float64}(-7.38992e-16)\n",
       " Gray{Float64}(-7.38992e-16)     Gray{Float64}(-7.38992e-16)\n",
       " Gray{Float64}(-7.38992e-16)  …  Gray{Float64}(-7.38992e-16)\n",
       " Gray{Float64}(-7.38992e-16)     Gray{Float64}(-7.38992e-16)\n",
       " Gray{Float64}(-7.38992e-16)     Gray{Float64}(-7.38992e-16)\n",
       " Gray{Float64}(-7.38992e-16)     Gray{Float64}(-7.38992e-16)\n",
       " Gray{Float64}(-7.38992e-16)     Gray{Float64}(-7.38992e-16)\n",
       " Gray{Float64}(-7.38992e-16)  …  Gray{Float64}(-7.38992e-16)\n",
       " Gray{Float64}(-7.38992e-16)     Gray{Float64}(-7.38992e-16)\n",
       " Gray{Float64}(-7.38992e-16)     Gray{Float64}(-7.38992e-16)\n",
       " ⋮                            ⋱  \n",
       " Gray{Float64}(-7.38992e-16)     Gray{Float64}(-7.38992e-16)\n",
       " Gray{Float64}(-7.38992e-16)     Gray{Float64}(-7.38992e-16)\n",
       " Gray{Float64}(-7.38992e-16)  …  Gray{Float64}(-7.38992e-16)\n",
       " Gray{Float64}(-7.38992e-16)     Gray{Float64}(-7.38992e-16)\n",
       " Gray{Float64}(-7.38992e-16)     Gray{Float64}(-7.38992e-16)\n",
       " Gray{Float64}(-7.38992e-16)     Gray{Float64}(-7.38992e-16)\n",
       " Gray{Float64}(-7.38992e-16)     Gray{Float64}(-7.38992e-16)\n",
       " Gray{Float64}(-7.38992e-16)  …  Gray{Float64}(-7.38992e-16)\n",
       " Gray{Float64}(-7.38992e-16)     Gray{Float64}(-7.38992e-16)\n",
       " Gray{Float64}(-7.38992e-16)     Gray{Float64}(-7.38992e-16)\n",
       " Gray{Float64}(-7.38992e-16)     Gray{Float64}(-7.38992e-16)\n",
       " Gray{Float64}(-7.38992e-16)     Gray{Float64}(-7.38992e-16)"
      ]
     },
     "metadata": {},
     "output_type": "display_data"
    },
    {
     "name": "stdout",
     "output_type": "stream",
     "text": [
      "Compressão de nível 4\n",
      "Erro: 1.6865334173677618e-13\n",
      "Porcentagem da Norma: 100.00%\n"
     ]
    }
   ],
   "source": [
    "nivel_de_compressao = 4\n",
    "\n",
    "println(\"Compressão de nível \", nivel_de_compressao)\n",
    "\n",
    "B, C = compressao(raw, nivel_de_compressao)\n",
    "img_comprimida = B * C'\n",
    "erro = norm(Gray.(img) - img_comprimida)\n",
    "display(Gray.(img_comprimida))\n",
    "\n",
    "println(\"Erro: \", erro)\n",
    "@printf(\"Porcentagem da Norma: %.2f%%\\n\", norm(img_comprimida) * 100 / norm(raw))"
   ]
  },
  {
   "cell_type": "code",
   "execution_count": 460,
   "id": "dab730cd-876f-49f7-9ab7-01376d11701a",
   "metadata": {},
   "outputs": [
    {
     "data": {
      "image/png": "[encoded data removed]",
      "text/plain": [
       "200×200 Array{Gray{Float64},2} with eltype Gray{Float64}:\n",
       " Gray{Float64}(0.0)  Gray{Float64}(0.0)  …  Gray{Float64}(0.0)\n",
       " Gray{Float64}(1.0)  Gray{Float64}(0.0)     Gray{Float64}(0.0)\n",
       " Gray{Float64}(1.0)  Gray{Float64}(1.0)     Gray{Float64}(0.0)\n",
       " Gray{Float64}(1.0)  Gray{Float64}(1.0)     Gray{Float64}(0.0)\n",
       " Gray{Float64}(1.0)  Gray{Float64}(1.0)     Gray{Float64}(0.0)\n",
       " Gray{Float64}(1.0)  Gray{Float64}(1.0)  …  Gray{Float64}(0.0)\n",
       " Gray{Float64}(1.0)  Gray{Float64}(1.0)     Gray{Float64}(0.0)\n",
       " Gray{Float64}(1.0)  Gray{Float64}(1.0)     Gray{Float64}(0.0)\n",
       " Gray{Float64}(1.0)  Gray{Float64}(1.0)     Gray{Float64}(0.0)\n",
       " Gray{Float64}(1.0)  Gray{Float64}(1.0)     Gray{Float64}(0.0)\n",
       " Gray{Float64}(1.0)  Gray{Float64}(1.0)  …  Gray{Float64}(0.0)\n",
       " Gray{Float64}(1.0)  Gray{Float64}(1.0)     Gray{Float64}(0.0)\n",
       " Gray{Float64}(1.0)  Gray{Float64}(1.0)     Gray{Float64}(0.0)\n",
       " ⋮                                       ⋱  \n",
       " Gray{Float64}(0.0)  Gray{Float64}(0.0)     Gray{Float64}(0.0)\n",
       " Gray{Float64}(0.0)  Gray{Float64}(0.0)     Gray{Float64}(0.0)\n",
       " Gray{Float64}(0.0)  Gray{Float64}(0.0)  …  Gray{Float64}(0.0)\n",
       " Gray{Float64}(0.0)  Gray{Float64}(0.0)     Gray{Float64}(0.0)\n",
       " Gray{Float64}(0.0)  Gray{Float64}(0.0)     Gray{Float64}(0.0)\n",
       " Gray{Float64}(0.0)  Gray{Float64}(0.0)     Gray{Float64}(0.0)\n",
       " Gray{Float64}(0.0)  Gray{Float64}(0.0)     Gray{Float64}(0.0)\n",
       " Gray{Float64}(0.0)  Gray{Float64}(0.0)  …  Gray{Float64}(0.0)\n",
       " Gray{Float64}(0.0)  Gray{Float64}(0.0)     Gray{Float64}(0.0)\n",
       " Gray{Float64}(0.0)  Gray{Float64}(0.0)     Gray{Float64}(0.0)\n",
       " Gray{Float64}(0.0)  Gray{Float64}(0.0)     Gray{Float64}(0.0)\n",
       " Gray{Float64}(0.0)  Gray{Float64}(0.0)     Gray{Float64}(0.0)"
      ]
     },
     "metadata": {},
     "output_type": "display_data"
    },
    {
     "data": {
      "text/plain": [
       "148"
      ]
     },
     "execution_count": 460,
     "metadata": {},
     "output_type": "execute_result"
    }
   ],
   "source": [
    "# b) Nível de compressão maior que 40\n",
    "\n",
    "img = zeros(200, 200)\n",
    "m, n = size(img)\n",
    "for i=1:m\n",
    "    for j=1:n\n",
    "        img[i, j] = i > n/2 + sin(j/5*100)*n/5 * j/100 ? 0.0 : 1.0;\n",
    "        img[j, i] -= i > n/2 + sin(j/5*100)*n/5 * j/100 ? 0.0 : 1.0;\n",
    "        img[n-j+1, i] *= i > n/2 + sin(j/5*100)*n/5 * j/100 ? 0.0 : 1.0;\n",
    "        img[j, m-i+1] -= i > n/2 + sin(j/5*100)*n/5 * j/100 ? 0.0 : 1.0;\n",
    "    end\n",
    "end\n",
    "        \n",
    "\n",
    "raw = img\n",
    "img = Gray.(img)\n",
    "display(img)\n",
    "\n",
    "rank(raw)"
   ]
  },
  {
   "cell_type": "code",
   "execution_count": 461,
   "id": "2b98a16b-6844-4826-ba3b-730196785d7a",
   "metadata": {},
   "outputs": [
    {
     "data": {
      "image/png": "[encoded data removed]",
      "text/plain": [
       "200×200 Array{Gray{Float64},2} with eltype Gray{Float64}:\n",
       " Gray{Float64}(0.0)       Gray{Float64}(0.0)       …  Gray{Float64}(0.0)\n",
       " Gray{Float64}(0.243707)  Gray{Float64}(0.232499)     Gray{Float64}(0.0)\n",
       " Gray{Float64}(0.532344)  Gray{Float64}(0.509926)     Gray{Float64}(0.0)\n",
       " Gray{Float64}(0.774046)  Gray{Float64}(0.739648)     Gray{Float64}(0.0)\n",
       " Gray{Float64}(0.836811)  Gray{Float64}(0.802582)     Gray{Float64}(0.0)\n",
       " Gray{Float64}(0.971772)  Gray{Float64}(0.933454)  …  Gray{Float64}(0.0)\n",
       " Gray{Float64}(1.0545)    Gray{Float64}(1.01998)      Gray{Float64}(0.0)\n",
       " Gray{Float64}(1.09549)   Gray{Float64}(1.06633)      Gray{Float64}(0.0)\n",
       " Gray{Float64}(1.2271)    Gray{Float64}(1.19981)      Gray{Float64}(0.0)\n",
       " Gray{Float64}(1.11364)   Gray{Float64}(1.0974)       Gray{Float64}(0.0)\n",
       " Gray{Float64}(1.0682)    Gray{Float64}(1.06055)   …  Gray{Float64}(0.0)\n",
       " Gray{Float64}(1.09055)   Gray{Float64}(1.08684)      Gray{Float64}(0.0)\n",
       " Gray{Float64}(0.916897)  Gray{Float64}(0.925745)     Gray{Float64}(0.0)\n",
       " ⋮                                                 ⋱  \n",
       " Gray{Float64}(0.0)       Gray{Float64}(0.0)          Gray{Float64}(0.0)\n",
       " Gray{Float64}(0.0)       Gray{Float64}(0.0)          Gray{Float64}(0.0)\n",
       " Gray{Float64}(0.0)       Gray{Float64}(0.0)       …  Gray{Float64}(0.0)\n",
       " Gray{Float64}(0.0)       Gray{Float64}(0.0)          Gray{Float64}(0.0)\n",
       " Gray{Float64}(0.0)       Gray{Float64}(0.0)          Gray{Float64}(0.0)\n",
       " Gray{Float64}(0.0)       Gray{Float64}(0.0)          Gray{Float64}(0.0)\n",
       " Gray{Float64}(0.0)       Gray{Float64}(0.0)          Gray{Float64}(0.0)\n",
       " Gray{Float64}(0.0)       Gray{Float64}(0.0)       …  Gray{Float64}(0.0)\n",
       " Gray{Float64}(0.0)       Gray{Float64}(0.0)          Gray{Float64}(0.0)\n",
       " Gray{Float64}(0.0)       Gray{Float64}(0.0)          Gray{Float64}(0.0)\n",
       " Gray{Float64}(0.0)       Gray{Float64}(0.0)          Gray{Float64}(0.0)\n",
       " Gray{Float64}(0.0)       Gray{Float64}(0.0)          Gray{Float64}(0.0)"
      ]
     },
     "metadata": {},
     "output_type": "display_data"
    },
    {
     "name": "stdout",
     "output_type": "stream",
     "text": [
      "Compressão de nível 43\n",
      "Erro: 11.936134573682942\n",
      "Porcentagem da Norma: 99.03%\n"
     ]
    }
   ],
   "source": [
    "nivel_de_compressao = 43\n",
    "\n",
    "println(\"Compressão de nível \", nivel_de_compressao)\n",
    "\n",
    "B, C = compressao(raw, nivel_de_compressao)\n",
    "img_comprimida = B * C'\n",
    "erro = norm(Gray.(img) - img_comprimida)\n",
    "display(Gray.(img_comprimida))\n",
    "\n",
    "println(\"Erro: \", erro)\n",
    "@printf(\"Porcentagem da Norma: %.2f%%\\n\", norm(img_comprimida) * 100 / norm(raw))"
   ]
  },
  {
   "cell_type": "code",
   "execution_count": 355,
   "id": "1883dc1b-dbb5-4837-a634-0c3a5ae46a4e",
   "metadata": {},
   "outputs": [
    {
     "data": {
      "text/plain": [
       "218.6669423128777"
      ]
     },
     "execution_count": 355,
     "metadata": {},
     "output_type": "execute_result"
    }
   ],
   "source": [
    "norm(img_comprimida)"
   ]
  },
  {
   "cell_type": "code",
   "execution_count": 356,
   "id": "235796ba-3944-453b-9482-c2ab30793572",
   "metadata": {},
   "outputs": [
    {
     "data": {
      "text/plain": [
       "219.6228095235064"
      ]
     },
     "execution_count": 356,
     "metadata": {},
     "output_type": "execute_result"
    }
   ],
   "source": [
    "norm(raw)"
   ]
  }
 ],
 "metadata": {
  "kernelspec": {
   "display_name": "Julia 1.6.0",
   "language": "julia",
   "name": "julia-1.6"
  },
  "language_info": {
   "file_extension": ".jl",
   "mimetype": "application/julia",
   "name": "julia",
   "version": "1.6.1"
  }
 },
 "nbformat": 4,
 "nbformat_minor": 5
}
