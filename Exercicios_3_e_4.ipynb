{
 "cells": [
  {
   "cell_type": "markdown",
   "id": "83588871-44b8-4bc0-ae7a-2bb8ab36292b",
   "metadata": {},
   "source": [
    "# Lista 8: Métodos Iterativos para Sistema Lineares e Redução de Dados"
   ]
  },
  {
   "cell_type": "markdown",
   "id": "867dda6c-703d-46e2-9564-6e451bd185d0",
   "metadata": {},
   "source": [
    "### Exercício 3\n",
    "\n",
    "### (a)"
   ]
  },
  {
   "cell_type": "markdown",
   "id": "fc514802-5be8-4d9b-987d-73c213ae4327",
   "metadata": {},
   "source": [
    "<center>\n",
    "    <figure>\n",
    "    <img src=\"Q1a.jpeg\" width=500 align=center>\n",
    "    </figure>\n",
    "</center>"
   ]
  },
  {
   "cell_type": "markdown",
   "id": "971471a6-13b4-4d83-bd09-7a7f84539199",
   "metadata": {},
   "source": [
    "### (b)"
   ]
  },
  {
   "cell_type": "markdown",
   "id": "2adec314-0ba9-49be-a4ef-9f257b53f577",
   "metadata": {},
   "source": [
    "Uma matriz é diagonal dominante se os modulos dos valores na diagonal sao maiores do que a soma dos modulos dos outros elementos nas respectivas linhas.\n",
    "\n",
    "Nessa matriz sempre temos o valor 4 na diagonal. Em todas as linhas, temos sempre o valor 0 e duas vezes o valor -1.\n",
    "\n",
    "Logo, |0| + |-1| + |-1| = 0 + 1 + 1 = 2 < 4.\n",
    "\n",
    "Logo, a matriz é diagonal dominante."
   ]
  },
  {
   "cell_type": "markdown",
   "id": "1668c08f-5caa-4f39-9327-308057d44614",
   "metadata": {},
   "source": [
    "### (c)"
   ]
  },
  {
   "cell_type": "code",
   "execution_count": 7,
   "id": "42950687-b643-47dd-91e6-8ec183bc3e7c",
   "metadata": {},
   "outputs": [],
   "source": [
    "using LinearAlgebra"
   ]
  },
  {
   "cell_type": "code",
   "execution_count": 32,
   "id": "cb8f1c81-84ff-40f0-95d1-d6de1fac91f5",
   "metadata": {},
   "outputs": [
    {
     "data": {
      "text/plain": [
       "gauss_seidel_Q3 (generic function with 1 method)"
      ]
     },
     "execution_count": 32,
     "metadata": {},
     "output_type": "execute_result"
    }
   ],
   "source": [
    "function gauss_seidel_Q3(A,b; max_iter=1000, ϵ = 1e-3)\n",
    "    n, m = size(A)\n",
    "    \n",
    "    #Calculando o triangular superior e salvando em M\n",
    "    M = UpperTriangular(A) \n",
    "    K = M - A     \n",
    "    \n",
    "    #Quebrando a matriz A em M -K, sendo M, a sua triangular superior\n",
    "    # pois essa é mais barata de se calcular\n",
    "    R = inv(M) * K\n",
    "    c = inv(M) * b\n",
    "    \n",
    "    #chute inicial\n",
    "    x = zeros(n,1)\n",
    "    x_anterior = x\n",
    "    x = R * x + c\n",
    "\n",
    "    # condicoes de parada\n",
    "    iter = 1\n",
    "    resolvido = (abs(norm(x - x_anterior)) ≤ ϵ)\n",
    "    cansado = (iter ≥ max_iter)\n",
    "    \n",
    "    while !(resolvido || cansado) \n",
    "        x_anterior = x\n",
    "        x=R*x+c \n",
    "        iter +=1\n",
    "        resolvido = (abs(norm(x-x_anterior)) ≤ ϵ)\n",
    "        cansado = (iter ≥ max_iter)\n",
    "    end\n",
    "    print(\"A tolerância final ficou em $(abs(norm(x-x_anterior)))\\n\")\n",
    "    print(\"O resultado final ficou em $x\\n\")\n",
    "    return x\n",
    "end"
   ]
  },
  {
   "cell_type": "code",
   "execution_count": 31,
   "id": "4ce6a9d7-efdc-4d54-a125-f90174690328",
   "metadata": {},
   "outputs": [
    {
     "data": {
      "text/plain": [
       "gauss_jacobi_Q3 (generic function with 1 method)"
      ]
     },
     "execution_count": 31,
     "metadata": {},
     "output_type": "execute_result"
    }
   ],
   "source": [
    "function gauss_jacobi_Q3(A,b; max_iter=1000, ϵ = 1e-3)\n",
    "    n, m = size(A)\n",
    "    \n",
    "    #Calculando o triangular superior e salvando em M\n",
    "    M = Diagonal(A) \n",
    "    K = M - A     \n",
    "    \n",
    "    #Quebrando a matriz A em M -K, sendo M, a sua triangular superior\n",
    "    # pois essa é mais barata de se calcular\n",
    "    R = inv(M) * K\n",
    "    c = inv(M) * b\n",
    "    \n",
    "    #chute inicial\n",
    "    x = zeros(n,1)\n",
    "    x_anterior = x\n",
    "    x = R * x + c\n",
    "    \n",
    "    # condicoes de parada\n",
    "    iter = 1\n",
    "    resolvido = (abs(norm(x - x_anterior)) ≤ ϵ)\n",
    "    cansado = (iter ≥ max_iter)\n",
    "    \n",
    "    while !(resolvido || cansado) \n",
    "        x_anterior = x\n",
    "        x=R*x+c \n",
    "        iter +=1\n",
    "        resolvido = (abs(norm(x-x_anterior)) ≤ ϵ)\n",
    "        cansado = (iter ≥ max_iter)\n",
    "    end\n",
    "    print(\"A tolerância final ficou em $(abs(norm(x-x_anterior)))\\n\")\n",
    "    print(\"O resultado final ficou em $x\\n\")\n",
    "    return x\n",
    "end"
   ]
  },
  {
   "cell_type": "code",
   "execution_count": 28,
   "id": "ba88a93b-d1a4-4295-b2b9-34475e2e52a3",
   "metadata": {},
   "outputs": [
    {
     "data": {
      "text/plain": [
       "4×4 Matrix{Int64}:\n",
       "  4  -1  -1   0\n",
       " -1   4   0  -1\n",
       " -1   0   4  -1\n",
       "  0  -1  -1   4"
      ]
     },
     "execution_count": 28,
     "metadata": {},
     "output_type": "execute_result"
    }
   ],
   "source": [
    "A = [ 4 -1 -1  0;\n",
    "     -1  4  0 -1;\n",
    "     -1  0  4 -1;\n",
    "      0 -1 -1  4]"
   ]
  },
  {
   "cell_type": "code",
   "execution_count": 29,
   "id": "f2c4b8bf-96b1-4a1e-8c4c-a72fe8844bc9",
   "metadata": {},
   "outputs": [
    {
     "data": {
      "text/plain": [
       "4-element Vector{Int64}:\n",
       " 20\n",
       " 50\n",
       " 15\n",
       " 45"
      ]
     },
     "execution_count": 29,
     "metadata": {},
     "output_type": "execute_result"
    }
   ],
   "source": [
    "b = [20, 50, 15, 45]"
   ]
  },
  {
   "cell_type": "code",
   "execution_count": 33,
   "id": "42744c05-75e0-4a50-bb50-981de1ac602c",
   "metadata": {},
   "outputs": [
    {
     "name": "stdout",
     "output_type": "stream",
     "text": [
      "A tolerância final ficou em 0.0006079673767089844\n",
      "O resultado final ficou em [13.124959468841553; 20.624918937683105; 11.874918937683105; 19.37483787536621]\n"
     ]
    },
    {
     "data": {
      "text/plain": [
       "4×1 Matrix{Float64}:\n",
       " 13.124959468841553\n",
       " 20.624918937683105\n",
       " 11.874918937683105\n",
       " 19.37483787536621"
      ]
     },
     "execution_count": 33,
     "metadata": {},
     "output_type": "execute_result"
    }
   ],
   "source": [
    "gauss_seidel_Q3(A,b)"
   ]
  },
  {
   "cell_type": "code",
   "execution_count": 34,
   "id": "faca673f-0f88-4268-90be-c4d9dfa8cf8a",
   "metadata": {},
   "outputs": [
    {
     "name": "stdout",
     "output_type": "stream",
     "text": [
      "A tolerância final ficou em 0.0009918212890625\n",
      "O resultado final ficou em [13.124504089355469; 20.62450408935547; 11.874504089355469; 19.37450408935547]\n"
     ]
    },
    {
     "data": {
      "text/plain": [
       "4×1 Matrix{Float64}:\n",
       " 13.124504089355469\n",
       " 20.62450408935547\n",
       " 11.874504089355469\n",
       " 19.37450408935547"
      ]
     },
     "execution_count": 34,
     "metadata": {},
     "output_type": "execute_result"
    }
   ],
   "source": [
    "gauss_jacobi_Q3(A,b)"
   ]
  },
  {
   "cell_type": "markdown",
   "id": "79a62bf4-feef-45c3-97c7-ed8376dd0a84",
   "metadata": {},
   "source": [
    "### (d)"
   ]
  },
  {
   "cell_type": "code",
   "execution_count": null,
   "id": "10dd75f1-6d20-42ca-86d2-b5f1e44a0965",
   "metadata": {},
   "outputs": [],
   "source": [
    "# codigo julia"
   ]
  },
  {
   "cell_type": "markdown",
   "id": "47680883-c7c9-4dce-98b8-e6440b72b9af",
   "metadata": {},
   "source": [
    "### (e)"
   ]
  },
  {
   "cell_type": "code",
   "execution_count": null,
   "id": "d0b65bae-dbce-4642-b829-a5eafafcd872",
   "metadata": {},
   "outputs": [],
   "source": [
    "# codigo julia"
   ]
  },
  {
   "cell_type": "markdown",
   "id": "57c7d90d-3185-4878-ab6e-f37bae4bf046",
   "metadata": {},
   "source": [
    "### Exercício 4\n",
    "\n",
    "### (a)"
   ]
  },
  {
   "cell_type": "code",
   "execution_count": 42,
   "id": "efd6fd58-516c-4151-b74e-0551b12debb6",
   "metadata": {},
   "outputs": [
    {
     "data": {
      "text/plain": [
       "8×8 Matrix{Float64}:\n",
       "  1.0   0.0   0.0   0.0   0.0   0.0   0.0  0.0\n",
       "  0.0   1.0   0.0   0.0   0.0   0.0   0.0  0.0\n",
       "  0.0   0.0   1.0   0.0   0.0   0.0   0.0  0.0\n",
       " -1.0   0.0   0.0   1.0   0.0   0.0   0.0  0.0\n",
       "  0.0   0.0  -1.0   0.0   1.0   0.0   0.0  0.0\n",
       "  0.0  -1.0   0.0  -1.0   0.0   1.0   0.0  0.0\n",
       "  0.0   0.0   0.0   0.0  -1.0   0.0   1.0  0.0\n",
       "  0.0   0.0   0.0   0.0   0.0  -1.0  -1.0  1.0"
      ]
     },
     "execution_count": 42,
     "metadata": {},
     "output_type": "execute_result"
    }
   ],
   "source": [
    "# Construir matriz A\n",
    "A = zeros(8,8)\n",
    "for i = 1:8\n",
    "    A[i,i] = 1.0\n",
    "end\n",
    "\n",
    "A[4,1] = -1.0\n",
    "A[5,3] = -1.0\n",
    "A[6,4] = -1.0\n",
    "A[6,2] = -1.0\n",
    "A[7,5] = -1.0\n",
    "A[8,6] = -1.0\n",
    "A[8,7] = -1.0\n",
    "\n",
    "A"
   ]
  },
  {
   "cell_type": "code",
   "execution_count": 43,
   "id": "c3f7afac-9471-45a8-801a-a908434f0a3d",
   "metadata": {},
   "outputs": [
    {
     "data": {
      "text/plain": [
       "8-element Vector{Int64}:\n",
       "  7000\n",
       "  3500\n",
       "  9000\n",
       " 30000\n",
       "  3000\n",
       "     0\n",
       "  3000\n",
       "   500"
      ]
     },
     "execution_count": 43,
     "metadata": {},
     "output_type": "execute_result"
    }
   ],
   "source": [
    "# Cada elemento de b é a soma das demandas com valores explicitos\n",
    "# associados a uma junta A,B,C...\n",
    "b = [7000, 3500, 9000, 30000, 3000, 0, 3000, 500]"
   ]
  },
  {
   "cell_type": "code",
   "execution_count": 46,
   "id": "95f61087-2da2-4dfd-9d42-83f6ca76d18c",
   "metadata": {},
   "outputs": [
    {
     "name": "stdout",
     "output_type": "stream",
     "text": [
      "A tolerância final ficou em 0.0\n",
      "O resultado final ficou em [7000.0; 3500.0; 9000.0; 37000.0; 12000.0; 40500.0; 15000.0; 56000.0]\n"
     ]
    },
    {
     "data": {
      "text/plain": [
       "8×1 Matrix{Float64}:\n",
       "  7000.0\n",
       "  3500.0\n",
       "  9000.0\n",
       " 37000.0\n",
       " 12000.0\n",
       " 40500.0\n",
       " 15000.0\n",
       " 56000.0"
      ]
     },
     "execution_count": 46,
     "metadata": {},
     "output_type": "execute_result"
    }
   ],
   "source": [
    "# O método converge, mesmo sem respeitar o critério das linhas\n",
    "gauss_seidel_Q3(A,b)"
   ]
  },
  {
   "cell_type": "code",
   "execution_count": 47,
   "id": "203211ff-4d7a-487d-8e01-a5f57254fe63",
   "metadata": {},
   "outputs": [
    {
     "name": "stdout",
     "output_type": "stream",
     "text": [
      "A tolerância final ficou em 0.0\n",
      "O resultado final ficou em [7000.0; 3500.0; 9000.0; 37000.0; 12000.0; 40500.0; 15000.0; 56000.0]\n"
     ]
    },
    {
     "data": {
      "text/plain": [
       "8×1 Matrix{Float64}:\n",
       "  7000.0\n",
       "  3500.0\n",
       "  9000.0\n",
       " 37000.0\n",
       " 12000.0\n",
       " 40500.0\n",
       " 15000.0\n",
       " 56000.0"
      ]
     },
     "execution_count": 47,
     "metadata": {},
     "output_type": "execute_result"
    }
   ],
   "source": [
    "# O método converge, mesmo sem respeitar o critério das linhas\n",
    "gauss_jacobi_Q3(A,b)"
   ]
  },
  {
   "cell_type": "markdown",
   "id": "85e1520f-d4bf-4442-8c46-89f1f28975d2",
   "metadata": {},
   "source": [
    "### (b)"
   ]
  },
  {
   "cell_type": "code",
   "execution_count": null,
   "id": "50fccf7b-1691-4418-8247-baec65c3b949",
   "metadata": {},
   "outputs": [],
   "source": []
  }
 ],
 "metadata": {
  "kernelspec": {
   "display_name": "Julia 1.6.0",
   "language": "julia",
   "name": "julia-1.6"
  },
  "language_info": {
   "file_extension": ".jl",
   "mimetype": "application/julia",
   "name": "julia",
   "version": "1.6.1"
  }
 },
 "nbformat": 4,
 "nbformat_minor": 5
}
