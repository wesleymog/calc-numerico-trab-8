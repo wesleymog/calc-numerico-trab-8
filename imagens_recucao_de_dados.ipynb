{
 "cells": [
  {
   "cell_type": "code",
   "execution_count": 67,
   "metadata": {},
   "outputs": [],
   "source": [
    "using LinearAlgebra"
   ]
  },
  {
   "cell_type": "code",
   "execution_count": 68,
   "metadata": {},
   "outputs": [
    {
     "name": "stderr",
     "output_type": "stream",
     "text": [
      "\u001b[32m\u001b[1m   Resolving\u001b[22m\u001b[39m package versions...\n",
      "\u001b[32m\u001b[1m  No Changes\u001b[22m\u001b[39m to `C:\\Users\\jarpa\\.julia\\environments\\v1.6\\Project.toml`\n",
      "\u001b[32m\u001b[1m  No Changes\u001b[22m\u001b[39m to `C:\\Users\\jarpa\\.julia\\environments\\v1.6\\Manifest.toml`\n"
     ]
    }
   ],
   "source": [
    "import Pkg; Pkg.add(\"Images\")"
   ]
  },
  {
   "cell_type": "code",
   "execution_count": 69,
   "metadata": {},
   "outputs": [
    {
     "name": "stderr",
     "output_type": "stream",
     "text": [
      "\u001b[32m\u001b[1m   Resolving\u001b[22m\u001b[39m package versions...\n",
      "\u001b[32m\u001b[1m  No Changes\u001b[22m\u001b[39m to `C:\\Users\\jarpa\\.julia\\environments\\v1.6\\Project.toml`\n",
      "\u001b[32m\u001b[1m  No Changes\u001b[22m\u001b[39m to `C:\\Users\\jarpa\\.julia\\environments\\v1.6\\Manifest.toml`\n"
     ]
    }
   ],
   "source": [
    "import Pkg; Pkg.add(\"JLD\")"
   ]
  },
  {
   "cell_type": "code",
   "execution_count": 70,
   "metadata": {},
   "outputs": [],
   "source": [
    "using Images # read and show images, more info here: https://github.com/JuliaImages/Images.jl\n",
    "using JLD # used for File I/O, more info here: https://github.com/JuliaIO/JLD.jl"
   ]
  },
  {
   "cell_type": "code",
   "execution_count": null,
   "metadata": {},
   "outputs": [],
   "source": []
  },
  {
   "cell_type": "code",
   "execution_count": 71,
   "metadata": {},
   "outputs": [
    {
     "data": {
      "image/png": "[encoded data removed]",
      "text/plain": [
       "630×630 Array{Gray{N0f8},2} with eltype Gray{N0f8}:\n",
       " Gray{N0f8}(1.0)    Gray{N0f8}(1.0)    …  Gray{N0f8}(1.0)\n",
       " Gray{N0f8}(1.0)    Gray{N0f8}(1.0)       Gray{N0f8}(1.0)\n",
       " Gray{N0f8}(1.0)    Gray{N0f8}(1.0)       Gray{N0f8}(1.0)\n",
       " Gray{N0f8}(1.0)    Gray{N0f8}(1.0)       Gray{N0f8}(1.0)\n",
       " Gray{N0f8}(1.0)    Gray{N0f8}(1.0)       Gray{N0f8}(1.0)\n",
       " Gray{N0f8}(1.0)    Gray{N0f8}(1.0)    …  Gray{N0f8}(1.0)\n",
       " Gray{N0f8}(1.0)    Gray{N0f8}(1.0)       Gray{N0f8}(1.0)\n",
       " Gray{N0f8}(1.0)    Gray{N0f8}(1.0)       Gray{N0f8}(1.0)\n",
       " Gray{N0f8}(1.0)    Gray{N0f8}(1.0)       Gray{N0f8}(1.0)\n",
       " Gray{N0f8}(1.0)    Gray{N0f8}(1.0)       Gray{N0f8}(1.0)\n",
       " Gray{N0f8}(1.0)    Gray{N0f8}(1.0)    …  Gray{N0f8}(1.0)\n",
       " Gray{N0f8}(1.0)    Gray{N0f8}(1.0)       Gray{N0f8}(1.0)\n",
       " Gray{N0f8}(1.0)    Gray{N0f8}(1.0)       Gray{N0f8}(1.0)\n",
       " ⋮                                     ⋱  \n",
       " Gray{N0f8}(0.949)  Gray{N0f8}(0.949)     Gray{N0f8}(0.949)\n",
       " Gray{N0f8}(0.949)  Gray{N0f8}(0.949)     Gray{N0f8}(0.949)\n",
       " Gray{N0f8}(0.949)  Gray{N0f8}(0.949)  …  Gray{N0f8}(0.949)\n",
       " Gray{N0f8}(0.949)  Gray{N0f8}(0.949)     Gray{N0f8}(0.949)\n",
       " Gray{N0f8}(0.949)  Gray{N0f8}(0.949)     Gray{N0f8}(0.949)\n",
       " Gray{N0f8}(0.949)  Gray{N0f8}(0.949)     Gray{N0f8}(0.949)\n",
       " Gray{N0f8}(0.949)  Gray{N0f8}(0.949)     Gray{N0f8}(0.949)\n",
       " Gray{N0f8}(0.949)  Gray{N0f8}(0.949)  …  Gray{N0f8}(0.949)\n",
       " Gray{N0f8}(0.949)  Gray{N0f8}(0.949)     Gray{N0f8}(0.949)\n",
       " Gray{N0f8}(0.949)  Gray{N0f8}(0.949)     Gray{N0f8}(0.949)\n",
       " Gray{N0f8}(0.949)  Gray{N0f8}(0.949)     Gray{N0f8}(0.949)\n",
       " Gray{N0f8}(0.949)  Gray{N0f8}(0.949)     Gray{N0f8}(0.949)"
      ]
     },
     "metadata": {},
     "output_type": "display_data"
    }
   ],
   "source": [
    "img = load(\"simples.jpg\");\n",
    "display(Gray.(img))\n",
    "# Get image as a raw matrix\n",
    "raw = channelview(Gray.(img[:,:]));"
   ]
  },
  {
   "cell_type": "code",
   "execution_count": 72,
   "metadata": {},
   "outputs": [
    {
     "data": {
      "text/plain": [
       "melhores_coords (generic function with 1 method)"
      ]
     },
     "execution_count": 72,
     "metadata": {},
     "output_type": "execute_result"
    }
   ],
   "source": [
    "function melhores_coords(A,b) #retorna c tal que norm(A-b*c') é mínima\n",
    "    m,n=size(A)\n",
    "    A=1.0*A\n",
    "    c=zeros(n,1)\n",
    "    #for i=1:n\n",
    "    #   c[i]=A[:,i]'*b/(b'*b)\n",
    "    #end\n",
    "    \n",
    "    c=A'*(b/(b'*b))\n",
    "    \n",
    "    return c\n",
    "end"
   ]
  },
  {
   "cell_type": "code",
   "execution_count": 73,
   "metadata": {},
   "outputs": [
    {
     "data": {
      "text/plain": [
       "jogo_vw (generic function with 1 method)"
      ]
     },
     "execution_count": 73,
     "metadata": {},
     "output_type": "execute_result"
    }
   ],
   "source": [
    "function jogo_vw(A)\n",
    "    n,m=size(A)\n",
    "\n",
    "    bv=randn(n,1)\n",
    "    cv=randn(m,1)\n",
    "    \n",
    "    bw=randn(m,1)\n",
    "    cw=randn(n,1)\n",
    "    #errov=norm(A-bv*cv')\n",
    "    #print(errov, \"\\n\")\n",
    "    \n",
    "    for i=1:20\n",
    "        cv=melhores_coords(A,bv)\n",
    "        bw=cv\n",
    "        cw=melhores_coords(A',bw)\n",
    "        bv=cw\n",
    "        \n",
    "        #errow=norm(A'-bw*cw')\n",
    "        #print(errow, \"\\n\")\n",
    "    end\n",
    "    \n",
    "    return bv,cv\n",
    "end"
   ]
  },
  {
   "cell_type": "code",
   "execution_count": 74,
   "metadata": {},
   "outputs": [
    {
     "data": {
      "text/plain": [
       "compressão (generic function with 1 method)"
      ]
     },
     "execution_count": 74,
     "metadata": {},
     "output_type": "execute_result"
    }
   ],
   "source": [
    "function compressão(A,nível)\n",
    "    m,n=size(A)\n",
    "    B=zeros(m,nível)\n",
    "    C=zeros(n,nível)\n",
    "    \n",
    "    for i=1:nível\n",
    "        B[:,i],C[:,i]=jogo_vw(A)\n",
    "        A=A-B[:,i]*C[:,i]'\n",
    "    end\n",
    "    return B,C\n",
    "end"
   ]
  },
  {
   "cell_type": "code",
   "execution_count": 75,
   "metadata": {},
   "outputs": [
    {
     "data": {
      "text/plain": [
       "([22.26452573867177 -27.480714612795005 3.429817338078125; 22.26452573867177 -27.480714612795005 3.429817338078125; … ; 21.12947148532772 -26.07973700508385 3.2549639051564996; 21.12947148532772 -26.07973700508385 3.2549639051564996], [0.05173170436404173 0.00589601163014142 0.004538016943908604; 0.05173170436404173 0.00589601163014142 0.004538016943908604; … ; 0.05173170436404175 0.005896011630141421 0.004538016943908604; 0.05173170436404175 0.005896011630141421 0.004538016943908604])"
      ]
     },
     "execution_count": 75,
     "metadata": {},
     "output_type": "execute_result"
    }
   ],
   "source": [
    "B,C=compressão(raw,3)"
   ]
  },
  {
   "cell_type": "code",
   "execution_count": 76,
   "metadata": {},
   "outputs": [
    {
     "data": {
      "text/plain": [
       "630×630 Matrix{Float64}:\n",
       " 1.00532   1.00532   1.00532   1.00532   …  1.00532   1.00532   1.00532\n",
       " 1.00532   1.00532   1.00532   1.00532      1.00532   1.00532   1.00532\n",
       " 1.00532   1.00532   1.00532   1.00532      1.00532   1.00532   1.00532\n",
       " 1.00532   1.00532   1.00532   1.00532      1.00532   1.00532   1.00532\n",
       " 1.00532   1.00532   1.00532   1.00532      1.00532   1.00532   1.00532\n",
       " 1.00532   1.00532   1.00532   1.00532   …  1.00532   1.00532   1.00532\n",
       " 1.00532   1.00532   1.00532   1.00532      1.00532   1.00532   1.00532\n",
       " 1.00532   1.00532   1.00532   1.00532      1.00532   1.00532   1.00532\n",
       " 1.00532   1.00532   1.00532   1.00532      1.00532   1.00532   1.00532\n",
       " 1.00532   1.00532   1.00532   1.00532      1.00532   1.00532   1.00532\n",
       " 1.00532   1.00532   1.00532   1.00532   …  1.00532   1.00532   1.00532\n",
       " 1.00532   1.00532   1.00532   1.00532      1.00532   1.00532   1.00532\n",
       " 1.00532   1.00532   1.00532   1.00532      1.00532   1.00532   1.00532\n",
       " ⋮                                       ⋱                      \n",
       " 0.954068  0.954068  0.954068  0.954068     0.954068  0.954068  0.954068\n",
       " 0.954068  0.954068  0.954068  0.954068     0.954068  0.954068  0.954068\n",
       " 0.954068  0.954068  0.954068  0.954068  …  0.954068  0.954068  0.954068\n",
       " 0.954068  0.954068  0.954068  0.954068     0.954068  0.954068  0.954068\n",
       " 0.954068  0.954068  0.954068  0.954068     0.954068  0.954068  0.954068\n",
       " 0.954068  0.954068  0.954068  0.954068     0.954068  0.954068  0.954068\n",
       " 0.954068  0.954068  0.954068  0.954068     0.954068  0.954068  0.954068\n",
       " 0.954068  0.954068  0.954068  0.954068  …  0.954068  0.954068  0.954068\n",
       " 0.954068  0.954068  0.954068  0.954068     0.954068  0.954068  0.954068\n",
       " 0.954068  0.954068  0.954068  0.954068     0.954068  0.954068  0.954068\n",
       " 0.954068  0.954068  0.954068  0.954068     0.954068  0.954068  0.954068\n",
       " 0.954068  0.954068  0.954068  0.954068     0.954068  0.954068  0.954068"
      ]
     },
     "execution_count": 76,
     "metadata": {},
     "output_type": "execute_result"
    }
   ],
   "source": [
    "teste=B*C'"
   ]
  },
  {
   "cell_type": "code",
   "execution_count": 77,
   "metadata": {},
   "outputs": [
    {
     "data": {
      "text/plain": [
       "3"
      ]
     },
     "execution_count": 77,
     "metadata": {},
     "output_type": "execute_result"
    }
   ],
   "source": [
    "rank(teste)"
   ]
  },
  {
   "cell_type": "code",
   "execution_count": null,
   "metadata": {},
   "outputs": [],
   "source": []
  },
  {
   "cell_type": "code",
   "execution_count": 78,
   "metadata": {},
   "outputs": [
    {
     "data": {
      "image/png": "[encoded data removed]",
      "text/plain": [
       "630×630 Array{Gray{Float64},2} with eltype Gray{Float64}:\n",
       " Gray{Float64}(1.00532)   Gray{Float64}(1.00532)   …  Gray{Float64}(1.00532)\n",
       " Gray{Float64}(1.00532)   Gray{Float64}(1.00532)      Gray{Float64}(1.00532)\n",
       " Gray{Float64}(1.00532)   Gray{Float64}(1.00532)      Gray{Float64}(1.00532)\n",
       " Gray{Float64}(1.00532)   Gray{Float64}(1.00532)      Gray{Float64}(1.00532)\n",
       " Gray{Float64}(1.00532)   Gray{Float64}(1.00532)      Gray{Float64}(1.00532)\n",
       " Gray{Float64}(1.00532)   Gray{Float64}(1.00532)   …  Gray{Float64}(1.00532)\n",
       " Gray{Float64}(1.00532)   Gray{Float64}(1.00532)      Gray{Float64}(1.00532)\n",
       " Gray{Float64}(1.00532)   Gray{Float64}(1.00532)      Gray{Float64}(1.00532)\n",
       " Gray{Float64}(1.00532)   Gray{Float64}(1.00532)      Gray{Float64}(1.00532)\n",
       " Gray{Float64}(1.00532)   Gray{Float64}(1.00532)      Gray{Float64}(1.00532)\n",
       " Gray{Float64}(1.00532)   Gray{Float64}(1.00532)   …  Gray{Float64}(1.00532)\n",
       " Gray{Float64}(1.00532)   Gray{Float64}(1.00532)      Gray{Float64}(1.00532)\n",
       " Gray{Float64}(1.00532)   Gray{Float64}(1.00532)      Gray{Float64}(1.00532)\n",
       " ⋮                                                 ⋱  \n",
       " Gray{Float64}(0.954068)  Gray{Float64}(0.954068)     Gray{Float64}(0.954068)\n",
       " Gray{Float64}(0.954068)  Gray{Float64}(0.954068)     Gray{Float64}(0.954068)\n",
       " Gray{Float64}(0.954068)  Gray{Float64}(0.954068)  …  Gray{Float64}(0.954068)\n",
       " Gray{Float64}(0.954068)  Gray{Float64}(0.954068)     Gray{Float64}(0.954068)\n",
       " Gray{Float64}(0.954068)  Gray{Float64}(0.954068)     Gray{Float64}(0.954068)\n",
       " Gray{Float64}(0.954068)  Gray{Float64}(0.954068)     Gray{Float64}(0.954068)\n",
       " Gray{Float64}(0.954068)  Gray{Float64}(0.954068)     Gray{Float64}(0.954068)\n",
       " Gray{Float64}(0.954068)  Gray{Float64}(0.954068)  …  Gray{Float64}(0.954068)\n",
       " Gray{Float64}(0.954068)  Gray{Float64}(0.954068)     Gray{Float64}(0.954068)\n",
       " Gray{Float64}(0.954068)  Gray{Float64}(0.954068)     Gray{Float64}(0.954068)\n",
       " Gray{Float64}(0.954068)  Gray{Float64}(0.954068)     Gray{Float64}(0.954068)\n",
       " Gray{Float64}(0.954068)  Gray{Float64}(0.954068)     Gray{Float64}(0.954068)"
      ]
     },
     "metadata": {},
     "output_type": "display_data"
    }
   ],
   "source": [
    "display(Gray.(teste))"
   ]
  },
  {
   "cell_type": "raw",
   "metadata": {},
   "source": []
  }
 ],
 "metadata": {
  "kernelspec": {
   "display_name": "Julia 1.6.0",
   "language": "julia",
   "name": "julia-1.6"
  },
  "language_info": {
   "file_extension": ".jl",
   "mimetype": "application/julia",
   "name": "julia",
   "version": "1.6.0"
  }
 },
 "nbformat": 4,
 "nbformat_minor": 4
}
