{
 "cells": [
  {
   "cell_type": "markdown",
   "metadata": {},
   "source": [
    "# Resolução lista 8: Métodos Iterativos para Sistema Lineares e Redução de Dados \n",
    "Exercícios 5 e 6"
   ]
  },
  {
   "cell_type": "code",
   "execution_count": 1,
   "metadata": {},
   "outputs": [
    {
     "name": "stderr",
     "output_type": "stream",
     "text": [
      "\u001b[32m\u001b[1m   Updating\u001b[22m\u001b[39m registry at `C:\\Users\\carla\\.julia\\registries\\General`\n",
      "\u001b[32m\u001b[1m  Resolving\u001b[22m\u001b[39m package versions...\n",
      "\u001b[32m\u001b[1mNo Changes\u001b[22m\u001b[39m to `C:\\Users\\carla\\.julia\\environments\\v1.5\\Project.toml`\n",
      "\u001b[32m\u001b[1mNo Changes\u001b[22m\u001b[39m to `C:\\Users\\carla\\.julia\\environments\\v1.5\\Manifest.toml`\n"
     ]
    }
   ],
   "source": [
    "import Pkg; \n",
    "\n",
    "Pkg.add(\"Images\")\n",
    "\n",
    "using LinearAlgebra\n",
    "using Images\n",
    "using Printf"
   ]
  },
  {
   "cell_type": "markdown",
   "metadata": {},
   "source": [
    "## Exercício 5\n",
    "\n",
    "Abaixo determinaremos uma matriz M de posto 1 (tal que $M = bc^T$) que melhor representa a matriz A e o erro para:\n",
    "\n",
    "### (a) $\n",
    "\\begin{bmatrix}\n",
    "0 & 1 & 3 \\\\\n",
    "3 & 1 & 0 \\\\\n",
    "\\end{bmatrix}\n",
    "$"
   ]
  },
  {
   "cell_type": "code",
   "execution_count": 2,
   "metadata": {},
   "outputs": [
    {
     "data": {
      "text/plain": [
       "2×3 Array{Int64,2}:\n",
       " 0  1  3\n",
       " 3  1  0"
      ]
     },
     "execution_count": 2,
     "metadata": {},
     "output_type": "execute_result"
    }
   ],
   "source": [
    "A = [0 1 3;\n",
    "     3 1 0]"
   ]
  },
  {
   "cell_type": "code",
   "execution_count": 3,
   "metadata": {},
   "outputs": [
    {
     "data": {
      "text/plain": [
       "melhorMatrizM (generic function with 1 method)"
      ]
     },
     "execution_count": 3,
     "metadata": {},
     "output_type": "execute_result"
    }
   ],
   "source": [
    "function melhores_coords(A,b) #retorna c tal que norm(A-b*c') é mínima\n",
    "    m,n=size(A)\n",
    "    A=1.0*A\n",
    "    c=zeros(n,1)\n",
    "    c=A'*(b/(b'*b))\n",
    "    return c\n",
    "end\n",
    "\n",
    "function melhorMatrizM(A)\n",
    "    n,m = size(A)\n",
    "    erroFinal = 0.0\n",
    "\n",
    "    b1 = randn(n,1)\n",
    "    c1 = randn(m,1)\n",
    "    \n",
    "    b2 = randn(m,1)\n",
    "    c2 = randn(n,1)\n",
    "    \n",
    "    erro1 = norm(A-b1*c1')\n",
    "    print(\"Erro inicial: \", erro1, \"\\n\")\n",
    "    \n",
    "    for i = 1:50\n",
    "        c1 = melhores_coords(A,b1) # Acha melhores coordenadas para A\n",
    "        b2 = c1 # Trocamos de mundo e colocamos base no lugar de coordenada e vice-versa (aqui queremos minimizar o erro ||A'-b'c||)\n",
    "        c2 = melhores_coords(A',b2) # Acha melhpres coordenadas para A'\n",
    "        b1 = c2 # Trocamos de mundo novamente para retornamos ao mundo ininicial (onde queremos minimizar o erro ||A-bc'||)\n",
    "        \n",
    "        erroFinal = norm(A'-b2*c2')\n",
    "        \n",
    "        # Erros de b e c no mundo 2, onde trocamos base por coordenadas e vice-versa\n",
    "        #      A              |           A'\n",
    "        # norm(A-b*c') <- é igual a -> norm(A'-b'*c)\n",
    "        #erro2 = norm(A'-b2*c2')\n",
    "        #print(erro2, \"\\n\")\n",
    "    end\n",
    "    print(\"Erro final: \", erroFinal, \"\\n\")\n",
    "    \n",
    "    return b1,c1\n",
    "end"
   ]
  },
  {
   "cell_type": "code",
   "execution_count": 4,
   "metadata": {},
   "outputs": [
    {
     "name": "stdout",
     "output_type": "stream",
     "text": [
      "Erro inicial: 4.382666865621385\n",
      "Erro final: 3.0000000006208922\n"
     ]
    },
    {
     "data": {
      "text/plain": [
       "([-0.47439179576196716; -0.4744288363485945], [-3.1619708027504165; -2.107879960225817; -3.1616690779270344])"
      ]
     },
     "execution_count": 4,
     "metadata": {},
     "output_type": "execute_result"
    }
   ],
   "source": [
    "b,c = melhorMatrizM(A)"
   ]
  },
  {
   "cell_type": "code",
   "execution_count": 5,
   "metadata": {},
   "outputs": [
    {
     "data": {
      "text/plain": [
       "2×1 Array{Float64,2}:\n",
       " 1.0\n",
       " 1.0000780801585487"
      ]
     },
     "execution_count": 5,
     "metadata": {},
     "output_type": "execute_result"
    }
   ],
   "source": [
    "# Vetor b dividido pela primeira coordenada\n",
    "b/b[1]"
   ]
  },
  {
   "cell_type": "code",
   "execution_count": 6,
   "metadata": {},
   "outputs": [
    {
     "data": {
      "text/plain": [
       "1×3 Array{Float64,2}:\n",
       " 1.50001  0.999961  1.49987"
      ]
     },
     "execution_count": 6,
     "metadata": {},
     "output_type": "execute_result"
    }
   ],
   "source": [
    "# Vetor c' multiplicado pela primeira coordenada\n",
    "c'*b[1]"
   ]
  },
  {
   "cell_type": "code",
   "execution_count": 7,
   "metadata": {},
   "outputs": [
    {
     "data": {
      "text/plain": [
       "2×3 Array{Float64,2}:\n",
       " 1.50001  0.999961  1.49987\n",
       " 1.50013  1.00004   1.49999"
      ]
     },
     "execution_count": 7,
     "metadata": {},
     "output_type": "execute_result"
    }
   ],
   "source": [
    "# Para reconstruir a matriz A, aproximadamente, temos a matriz M = bc'\n",
    "M = b*c'"
   ]
  },
  {
   "cell_type": "code",
   "execution_count": 8,
   "metadata": {},
   "outputs": [
    {
     "name": "stdout",
     "output_type": "stream",
     "text": [
      "Erro de M: 3.0000000006208922"
     ]
    }
   ],
   "source": [
    "print(\"Erro de M: \", norm(A-b*c'))"
   ]
  },
  {
   "cell_type": "markdown",
   "metadata": {},
   "source": [
    "Abaixo determinaremos uma matriz M de posto 1 (tal que $M = bc^T$) que melhor representa a matriz A e o erro para:\n",
    "\n",
    "### (b) $\n",
    "\\begin{bmatrix}\n",
    "0 & 1 & 3 & 2\\\\\n",
    "2 & 3 & 1 & 0\\\\\n",
    "\\end{bmatrix}\n",
    "$\n"
   ]
  },
  {
   "cell_type": "code",
   "execution_count": 9,
   "metadata": {},
   "outputs": [
    {
     "data": {
      "text/plain": [
       "2×4 Array{Int64,2}:\n",
       " 0  1  3  2\n",
       " 2  3  1  0"
      ]
     },
     "execution_count": 9,
     "metadata": {},
     "output_type": "execute_result"
    }
   ],
   "source": [
    "A = [0 1 3 2;\n",
    "     2 3 1 0]"
   ]
  },
  {
   "cell_type": "code",
   "execution_count": 10,
   "metadata": {},
   "outputs": [
    {
     "name": "stdout",
     "output_type": "stream",
     "text": [
      "Erro inicial: 5.003523970642553\n",
      "Erro final: 2.8284271247461903\n"
     ]
    },
    {
     "data": {
      "text/plain": [
       "([-0.6845527088930128; -0.6845527088930128], [-1.4608078925245882; -2.9216157850491764; -2.9216157850491764; -1.4608078925245882])"
      ]
     },
     "execution_count": 10,
     "metadata": {},
     "output_type": "execute_result"
    }
   ],
   "source": [
    "b,c = melhorMatrizM(A)"
   ]
  },
  {
   "cell_type": "code",
   "execution_count": 11,
   "metadata": {},
   "outputs": [
    {
     "data": {
      "text/plain": [
       "2×1 Array{Float64,2}:\n",
       " 1.0\n",
       " 1.0"
      ]
     },
     "execution_count": 11,
     "metadata": {},
     "output_type": "execute_result"
    }
   ],
   "source": [
    "# Vetor b dividido pela primeira coordenada\n",
    "b/b[1]"
   ]
  },
  {
   "cell_type": "code",
   "execution_count": 12,
   "metadata": {},
   "outputs": [
    {
     "data": {
      "text/plain": [
       "1×4 Array{Float64,2}:\n",
       " 1.0  2.0  2.0  1.0"
      ]
     },
     "execution_count": 12,
     "metadata": {},
     "output_type": "execute_result"
    }
   ],
   "source": [
    "# Vetor c' multiplicado pela primeira coordenada\n",
    "c'*b[1]"
   ]
  },
  {
   "cell_type": "code",
   "execution_count": 13,
   "metadata": {},
   "outputs": [
    {
     "data": {
      "text/plain": [
       "2×4 Array{Float64,2}:\n",
       " 1.0  2.0  2.0  1.0\n",
       " 1.0  2.0  2.0  1.0"
      ]
     },
     "execution_count": 13,
     "metadata": {},
     "output_type": "execute_result"
    }
   ],
   "source": [
    "# Para reconstruir a matriz A, aproximadamente, temos a matriz M = bc'\n",
    "M = b*c'"
   ]
  },
  {
   "cell_type": "code",
   "execution_count": 14,
   "metadata": {},
   "outputs": [
    {
     "name": "stdout",
     "output_type": "stream",
     "text": [
      "Erro de M: 2.8284271247461903"
     ]
    }
   ],
   "source": [
    "print(\"Erro de M: \", norm(A-b*c'))"
   ]
  },
  {
   "cell_type": "markdown",
   "metadata": {},
   "source": [
    "### (c) \n",
    "A representação gráfica das soluções acima nos desenhos citados na lista é uma reta que minimiza a diferença entre todos esses pontos e a reta (projeção ortogonal). Em outras palavras, a solução gráfica é uma única reta que contém N vetores (posto 1) que mais se aproximam dos N pontos passados."
   ]
  },
  {
   "cell_type": "markdown",
   "metadata": {},
   "source": [
    "## Exercício 6\n",
    "\n",
    "Consideraremos a bandeira da grécia como uma imagem preta e branca modelada na matriz A abaixo:\n",
    "\n",
    "Considerando 0 como a cor preto e 1 a cor branco, temos:\n",
    "\n",
    "$\n",
    "\\begin{bmatrix}\n",
    "    0 & 1 & 0 & 0 & 0 & 0 & 0 & 0 & 0 \\\\\n",
    "    0 & 1 & 0 & 1 & 1 & 1 & 1 & 1 & 1 \\\\\n",
    "    1 & 1 & 1 & 0 & 0 & 0 & 0 & 0 & 0 \\\\\n",
    "    0 & 1 & 0 & 1 & 1 & 1 & 1 & 1 & 1 \\\\\n",
    "    0 & 1 & 0 & 0 & 0 & 0 & 0 & 0 & 0 \\\\\n",
    "    1 & 1 & 1 & 1 & 1 & 1 & 1 & 1 & 1 \\\\\n",
    "    0 & 0 & 0 & 0 & 0 & 0 & 0 & 0 & 0 \\\\\n",
    "    1 & 1 & 1 & 1 & 1 & 1 & 1 & 1 & 1 \\\\\n",
    "    0 & 0 & 0 & 0 & 0 & 0 & 0 & 0 & 0 \\\\\n",
    "\\end{bmatrix}\n",
    "$"
   ]
  },
  {
   "cell_type": "code",
   "execution_count": 15,
   "metadata": {},
   "outputs": [
    {
     "data": {
      "image/png": "[encoded data removed]",
      "text/plain": [
       "9×9 Array{Gray{N0f8},2} with eltype Gray{Normed{UInt8,8}}:\n",
       " Gray{N0f8}(0.0)  Gray{N0f8}(1.0)  …  Gray{N0f8}(0.0)  Gray{N0f8}(0.0)\n",
       " Gray{N0f8}(0.0)  Gray{N0f8}(1.0)     Gray{N0f8}(1.0)  Gray{N0f8}(1.0)\n",
       " Gray{N0f8}(1.0)  Gray{N0f8}(1.0)     Gray{N0f8}(0.0)  Gray{N0f8}(0.0)\n",
       " Gray{N0f8}(0.0)  Gray{N0f8}(1.0)     Gray{N0f8}(1.0)  Gray{N0f8}(1.0)\n",
       " Gray{N0f8}(0.0)  Gray{N0f8}(1.0)     Gray{N0f8}(0.0)  Gray{N0f8}(0.0)\n",
       " Gray{N0f8}(1.0)  Gray{N0f8}(1.0)  …  Gray{N0f8}(1.0)  Gray{N0f8}(1.0)\n",
       " Gray{N0f8}(0.0)  Gray{N0f8}(0.0)     Gray{N0f8}(0.0)  Gray{N0f8}(0.0)\n",
       " Gray{N0f8}(1.0)  Gray{N0f8}(1.0)     Gray{N0f8}(1.0)  Gray{N0f8}(1.0)\n",
       " Gray{N0f8}(0.0)  Gray{N0f8}(0.0)     Gray{N0f8}(0.0)  Gray{N0f8}(0.0)"
      ]
     },
     "metadata": {},
     "output_type": "display_data"
    },
    {
     "data": {
      "text/plain": [
       "3"
      ]
     },
     "execution_count": 15,
     "metadata": {},
     "output_type": "execute_result"
    }
   ],
   "source": [
    "greece = [0   1   0   0   0   0   0   0   0 ;\n",
    "          0   1   0   1   1   1   1   1   1 ;\n",
    "          1   1   1   0   0   0   0   0   0 ;\n",
    "          0   1   0   1   1   1   1   1   1 ;\n",
    "          0   1   0   0   0   0   0   0   0 ;\n",
    "          1   1   1   1   1   1   1   1   1 ;\n",
    "          0   0   0   0   0   0   0   0   0 ;\n",
    "          1   1   1   1   1   1   1   1   1 ;\n",
    "          0   0   0   0   0   0   0   0   0 ]\n",
    "\n",
    "display(Gray.(greece))\n",
    "rank(greece)"
   ]
  },
  {
   "cell_type": "markdown",
   "metadata": {},
   "source": [
    "### (a)\n",
    "O posto da bandeira da Grécia, tal que $A = BC^T$ é igual a 3, ou seja, com 3 colunas da bandeira, conseguimos reconstruir completamente a bandeira original (sem perdas).\n",
    "\n",
    "No caso da bandeira da Grécia, a matriz B representa pedaços verticais do desenho da bandeira que se repetem de intervalos verticais em intervalos verticais da bandeira. Em outras palavras, com 3 faixas verticais da bandeira, conseguimos fazer algumas repetições até que a bandeira esteja completa."
   ]
  },
  {
   "cell_type": "markdown",
   "metadata": {},
   "source": [
    "### (b)\n",
    "Dois países tais quais sua bandeira tem posto = 1:\n",
    "- Alemanha\n",
    "- Austria"
   ]
  },
  {
   "cell_type": "code",
   "execution_count": 16,
   "metadata": {},
   "outputs": [
    {
     "data": {
      "image/png": "[encoded data removed]",
      "text/plain": [
       "3×5 Array{Gray{Float64},2} with eltype Gray{Float64}:\n",
       " Gray{Float64}(0.0)   Gray{Float64}(0.0)   …  Gray{Float64}(0.0)\n",
       " Gray{Float64}(0.5)   Gray{Float64}(0.5)      Gray{Float64}(0.5)\n",
       " Gray{Float64}(0.75)  Gray{Float64}(0.75)     Gray{Float64}(0.75)"
      ]
     },
     "metadata": {},
     "output_type": "display_data"
    },
    {
     "data": {
      "text/plain": [
       "1"
      ]
     },
     "execution_count": 16,
     "metadata": {},
     "output_type": "execute_result"
    }
   ],
   "source": [
    "germany = [0    0    0    0    0   ; # preto\n",
    "           0.5  0.5  0.5  0.5  0.5 ; # vermelho\n",
    "           0.75 0.75 0.75 0.75 0.75] # amarelo\n",
    "\n",
    "display(Gray.(germany))\n",
    "rank(germany)"
   ]
  },
  {
   "cell_type": "code",
   "execution_count": 17,
   "metadata": {},
   "outputs": [
    {
     "data": {
      "image/png": "[encoded data removed]",
      "text/plain": [
       "3×5 Array{Gray{Float64},2} with eltype Gray{Float64}:\n",
       " Gray{Float64}(0.5)  Gray{Float64}(0.5)  …  Gray{Float64}(0.5)\n",
       " Gray{Float64}(1.0)  Gray{Float64}(1.0)     Gray{Float64}(1.0)\n",
       " Gray{Float64}(0.5)  Gray{Float64}(0.5)     Gray{Float64}(0.5)"
      ]
     },
     "metadata": {},
     "output_type": "display_data"
    },
    {
     "data": {
      "text/plain": [
       "1"
      ]
     },
     "execution_count": 17,
     "metadata": {},
     "output_type": "execute_result"
    }
   ],
   "source": [
    "austria = [0.5 0.5 0.5 0.5 0.5; # vermelho\n",
    "           1   1   1   1   1  ; # branco\n",
    "           0.5 0.5 0.5 0.5 0.5] # vermelho\n",
    "\n",
    "display(Gray.(austria))\n",
    "rank(austria)"
   ]
  },
  {
   "cell_type": "markdown",
   "metadata": {},
   "source": [
    "### (c)\n",
    "Dois países tais quais sua bandeira tem posto = 2:\n",
    "- Chile\n",
    "- Finlândia"
   ]
  },
  {
   "cell_type": "code",
   "execution_count": 18,
   "metadata": {},
   "outputs": [
    {
     "data": {
      "image/png": "[encoded data removed]",
      "text/plain": [
       "2×3 Array{Gray{Float64},2} with eltype Gray{Float64}:\n",
       " Gray{Float64}(0.3)  Gray{Float64}(1.0)  Gray{Float64}(1.0)\n",
       " Gray{Float64}(0.5)  Gray{Float64}(0.5)  Gray{Float64}(0.5)"
      ]
     },
     "metadata": {},
     "output_type": "display_data"
    },
    {
     "data": {
      "text/plain": [
       "2"
      ]
     },
     "execution_count": 18,
     "metadata": {},
     "output_type": "execute_result"
    }
   ],
   "source": [
    "chile = [0.3  1    1   ; # azul / branco\n",
    "         0.5  0.5  0.5 ] # vermelho  \n",
    "\n",
    "display(Gray.(chile))\n",
    "rank(chile)"
   ]
  },
  {
   "cell_type": "code",
   "execution_count": 19,
   "metadata": {},
   "outputs": [
    {
     "data": {
      "image/png": "[encoded data removed]",
      "text/plain": [
       "3×5 Array{Gray{Float64},2} with eltype Gray{Float64}:\n",
       " Gray{Float64}(1.0)  Gray{Float64}(0.3)  …  Gray{Float64}(1.0)\n",
       " Gray{Float64}(0.3)  Gray{Float64}(0.3)     Gray{Float64}(0.3)\n",
       " Gray{Float64}(1.0)  Gray{Float64}(0.3)     Gray{Float64}(1.0)"
      ]
     },
     "metadata": {},
     "output_type": "display_data"
    },
    {
     "data": {
      "text/plain": [
       "2"
      ]
     },
     "execution_count": 19,
     "metadata": {},
     "output_type": "execute_result"
    }
   ],
   "source": [
    "finland = [1    0.3  1    1    1   ; # branco / azul  / branco\n",
    "           0.3  0.3  0.3  0.3  0.3 ; # azul\n",
    "           1    0.3  1    1    1   ] # branco / azul  / branco\n",
    "\n",
    "display(Gray.(finland))\n",
    "rank(finland)"
   ]
  },
  {
   "cell_type": "markdown",
   "metadata": {},
   "source": [
    "### (d)\n",
    "Dois países tais quais sua bandeira tem posto = 3:\n",
    "- Suíça\n",
    "- Noruega"
   ]
  },
  {
   "cell_type": "code",
   "execution_count": 20,
   "metadata": {},
   "outputs": [
    {
     "data": {
      "image/png": "[encoded data removed]",
      "text/plain": [
       "5×5 Array{Gray{Float64},2} with eltype Gray{Float64}:\n",
       " Gray{Float64}(0.5)  Gray{Float64}(0.5)  …  Gray{Float64}(0.5)\n",
       " Gray{Float64}(0.5)  Gray{Float64}(0.5)     Gray{Float64}(0.5)\n",
       " Gray{Float64}(0.5)  Gray{Float64}(1.0)     Gray{Float64}(0.5)\n",
       " Gray{Float64}(0.5)  Gray{Float64}(0.5)     Gray{Float64}(0.5)\n",
       " Gray{Float64}(0.5)  Gray{Float64}(0.5)     Gray{Float64}(0.5)"
      ]
     },
     "metadata": {},
     "output_type": "display_data"
    },
    {
     "data": {
      "text/plain": [
       "3"
      ]
     },
     "execution_count": 20,
     "metadata": {},
     "output_type": "execute_result"
    }
   ],
   "source": [
    "switz = [0.5  0.5  0.5  0.5  0.5 ; # vermelho\n",
    "         0.5  0.5  1    0.5  0.5 ; # vermelho / branco / vermelho\n",
    "         0.5  1    1    1    0.5 ; # vermelho / branco / vermelho\n",
    "         0.5  0.5  1    0.5  0.5 ; # vermelho / branco / vermelho\n",
    "         0.5  0.5  0.5  0.5  0.5 ] # vermelho\n",
    "\n",
    "display(Gray.(switz))\n",
    "rank(switz)"
   ]
  },
  {
   "cell_type": "code",
   "execution_count": 21,
   "metadata": {},
   "outputs": [
    {
     "data": {
      "image/png": "[encoded data removed]",
      "text/plain": [
       "7×11 Array{Gray{Float64},2} with eltype Gray{Float64}:\n",
       " Gray{Float64}(0.5)  Gray{Float64}(0.5)  …  Gray{Float64}(0.5)\n",
       " Gray{Float64}(0.5)  Gray{Float64}(0.5)     Gray{Float64}(0.5)\n",
       " Gray{Float64}(1.0)  Gray{Float64}(1.0)     Gray{Float64}(1.0)\n",
       " Gray{Float64}(0.3)  Gray{Float64}(0.3)     Gray{Float64}(0.3)\n",
       " Gray{Float64}(1.0)  Gray{Float64}(1.0)     Gray{Float64}(1.0)\n",
       " Gray{Float64}(0.5)  Gray{Float64}(0.5)  …  Gray{Float64}(0.5)\n",
       " Gray{Float64}(0.5)  Gray{Float64}(0.5)     Gray{Float64}(0.5)"
      ]
     },
     "metadata": {},
     "output_type": "display_data"
    },
    {
     "data": {
      "text/plain": [
       "3"
      ]
     },
     "execution_count": 21,
     "metadata": {},
     "output_type": "execute_result"
    }
   ],
   "source": [
    "norway = [0.5  0.5  1    0.3  1    0.5  0.5  0.5  0.5  0.5  0.5 ; # vermelho / branco / azul / branco / vermelho\n",
    "          0.5  0.5  1    0.3  1    0.5  0.5  0.5  0.5  0.5  0.5 ; # vermelho / branco / azul / branco / vermelho\n",
    "          1    1    1    0.3  1    1    1    1    1    1    1   ; # branco / azul / branco\n",
    "          0.3  0.3  0.3  0.3  0.3  0.3  0.3  0.3  0.3  0.3  0.3 ; # azul\n",
    "          1    1    1    0.3  1    1    1    1    1    1    1   ; # branco / azul / branco\n",
    "          0.5  0.5  1    0.3  1    0.5  0.5  0.5  0.5  0.5  0.5 ; # vermelho / branco / azul / branco / vermelho\n",
    "          0.5  0.5  1    0.3  1    0.5  0.5  0.5  0.5  0.5  0.5 ] # vermelho / branco / azul / branco / vermelho\n",
    "\n",
    "display(Gray.(norway))\n",
    "rank(norway)"
   ]
  }
 ],
 "metadata": {
  "kernelspec": {
   "display_name": "Julia 1.5.3",
   "language": "julia",
   "name": "julia-1.5"
  },
  "language_info": {
   "file_extension": ".jl",
   "mimetype": "application/julia",
   "name": "julia",
   "version": "1.5.3"
  }
 },
 "nbformat": 4,
 "nbformat_minor": 4
}
