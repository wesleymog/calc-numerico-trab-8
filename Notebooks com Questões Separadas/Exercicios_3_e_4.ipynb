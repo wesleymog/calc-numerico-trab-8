{
 "cells": [
  {
   "cell_type": "markdown",
   "id": "83588871-44b8-4bc0-ae7a-2bb8ab36292b",
   "metadata": {},
   "source": [
    "# Lista 8: Métodos Iterativos para Sistema Lineares e Redução de Dados"
   ]
  },
  {
   "cell_type": "markdown",
   "id": "867dda6c-703d-46e2-9564-6e451bd185d0",
   "metadata": {},
   "source": [
    "### Exercício 3\n",
    "\n",
    "### (a)"
   ]
  },
  {
   "cell_type": "markdown",
   "id": "fc514802-5be8-4d9b-987d-73c213ae4327",
   "metadata": {},
   "source": [
    "<center>\n",
    "    <figure>\n",
    "    <img src=\"Q1a.jpeg\" width=500 align=center>\n",
    "    </figure>\n",
    "</center>"
   ]
  },
  {
   "cell_type": "markdown",
   "id": "971471a6-13b4-4d83-bd09-7a7f84539199",
   "metadata": {},
   "source": [
    "### (b)"
   ]
  },
  {
   "cell_type": "markdown",
   "id": "2adec314-0ba9-49be-a4ef-9f257b53f577",
   "metadata": {},
   "source": [
    "Uma matriz é diagonal dominante se os modulos dos valores na diagonal sao maiores do que a soma dos modulos dos outros elementos nas respectivas linhas.\n",
    "\n",
    "Nessa matriz sempre temos o valor 4 na diagonal. Em todas as linhas, temos sempre o valor 0 e duas vezes o valor -1.\n",
    "\n",
    "Logo, |0| + |-1| + |-1| = 0 + 1 + 1 = 2 < 4.\n",
    "\n",
    "Logo, a matriz é diagonal dominante."
   ]
  },
  {
   "cell_type": "markdown",
   "id": "1668c08f-5caa-4f39-9327-308057d44614",
   "metadata": {},
   "source": [
    "### (c)"
   ]
  },
  {
   "cell_type": "code",
   "execution_count": 25,
   "id": "42950687-b643-47dd-91e6-8ec183bc3e7c",
   "metadata": {},
   "outputs": [],
   "source": [
    "using LinearAlgebra"
   ]
  },
  {
   "cell_type": "code",
   "execution_count": 63,
   "id": "cb8f1c81-84ff-40f0-95d1-d6de1fac91f5",
   "metadata": {},
   "outputs": [
    {
     "data": {
      "text/plain": [
       "gauss_seidel_Q3 (generic function with 1 method)"
      ]
     },
     "execution_count": 63,
     "metadata": {},
     "output_type": "execute_result"
    }
   ],
   "source": [
    "function gauss_seidel_Q3(A,b; max_iter=1000, ϵ = 1e-3, output=true, show_time=false)\n",
    "    t0 = time()\n",
    "    n, m = size(A)\n",
    "    \n",
    "    #Calculando o triangular superior e salvando em M\n",
    "    M = UpperTriangular(A) \n",
    "    K = M - A     \n",
    "    \n",
    "    #Quebrando a matriz A em M -K, sendo M, a sua triangular superior\n",
    "    # pois essa é mais barata de se calcular\n",
    "    R = inv(M) * K\n",
    "    c = inv(M) * b\n",
    "    \n",
    "    #chute inicial\n",
    "    x = zeros(n,1)\n",
    "    x_anterior = x\n",
    "    x = R * x + c\n",
    "\n",
    "    # condicoes de parada\n",
    "    iter = 1\n",
    "    resolvido = (abs(norm(x - x_anterior)) ≤ ϵ)\n",
    "    cansado = (iter ≥ max_iter)\n",
    "    \n",
    "    while !(resolvido || cansado) \n",
    "        x_anterior = x\n",
    "        x=R*x+c \n",
    "        iter +=1\n",
    "        resolvido = (abs(norm(x-x_anterior)) ≤ ϵ)\n",
    "        cansado = (iter ≥ max_iter)\n",
    "    end\n",
    "    \n",
    "    # Tempo do algoritmo\n",
    "    Δt = time() - t0\n",
    "    if show_time\n",
    "        println(\"Tempo total: $Δt\")\n",
    "    end\n",
    "    \n",
    "    # Informacao sobre erro e resultado\n",
    "    if output\n",
    "        print(\"A tolerância final ficou em $(abs(norm(x-x_anterior)))\\n\")\n",
    "        print(\"O resultado final ficou em $x\\n\")\n",
    "    end\n",
    "    \n",
    "    return x\n",
    "end"
   ]
  },
  {
   "cell_type": "code",
   "execution_count": 64,
   "id": "4ce6a9d7-efdc-4d54-a125-f90174690328",
   "metadata": {},
   "outputs": [
    {
     "data": {
      "text/plain": [
       "gauss_jacobi_Q3 (generic function with 1 method)"
      ]
     },
     "execution_count": 64,
     "metadata": {},
     "output_type": "execute_result"
    }
   ],
   "source": [
    "function gauss_jacobi_Q3(A,b; max_iter=1000, ϵ = 1e-3, output=true, show_time=false)\n",
    "    t0 = time()\n",
    "    n, m = size(A)\n",
    "    \n",
    "    #Calculando o triangular superior e salvando em M\n",
    "    M = Diagonal(A) \n",
    "    K = M - A     \n",
    "    \n",
    "    #Quebrando a matriz A em M -K, sendo M, a sua triangular superior\n",
    "    # pois essa é mais barata de se calcular\n",
    "    R = inv(M) * K\n",
    "    c = inv(M) * b\n",
    "    \n",
    "    #chute inicial\n",
    "    x = zeros(n,1)\n",
    "    x_anterior = x\n",
    "    x = R * x + c\n",
    "    \n",
    "    # condicoes de parada\n",
    "    iter = 1\n",
    "    resolvido = (abs(norm(x - x_anterior)) ≤ ϵ)\n",
    "    cansado = (iter ≥ max_iter)\n",
    "    \n",
    "    while !(resolvido || cansado) \n",
    "        x_anterior = x\n",
    "        x=R*x+c \n",
    "        iter +=1\n",
    "        resolvido = (abs(norm(x-x_anterior)) ≤ ϵ)\n",
    "        cansado = (iter ≥ max_iter)\n",
    "    end\n",
    "    \n",
    "    # Tempo do algoritmo\n",
    "    Δt = time() - t0\n",
    "    if show_time\n",
    "        println(\"Tempo total: $Δt\")\n",
    "    end\n",
    "    \n",
    "    if output\n",
    "        print(\"A tolerância final ficou em $(abs(norm(x-x_anterior)))\\n\")\n",
    "        print(\"O resultado final ficou em $x\\n\")\n",
    "    end\n",
    "    \n",
    "    return x\n",
    "end"
   ]
  },
  {
   "cell_type": "code",
   "execution_count": 55,
   "id": "ba88a93b-d1a4-4295-b2b9-34475e2e52a3",
   "metadata": {},
   "outputs": [
    {
     "data": {
      "text/plain": [
       "4×4 Matrix{Int64}:\n",
       "  4  -1  -1   0\n",
       " -1   4   0  -1\n",
       " -1   0   4  -1\n",
       "  0  -1  -1   4"
      ]
     },
     "execution_count": 55,
     "metadata": {},
     "output_type": "execute_result"
    }
   ],
   "source": [
    "A = [ 4 -1 -1  0;\n",
    "     -1  4  0 -1;\n",
    "     -1  0  4 -1;\n",
    "      0 -1 -1  4]"
   ]
  },
  {
   "cell_type": "code",
   "execution_count": 56,
   "id": "f2c4b8bf-96b1-4a1e-8c4c-a72fe8844bc9",
   "metadata": {},
   "outputs": [
    {
     "data": {
      "text/plain": [
       "4-element Vector{Int64}:\n",
       " 20\n",
       " 50\n",
       " 15\n",
       " 45"
      ]
     },
     "execution_count": 56,
     "metadata": {},
     "output_type": "execute_result"
    }
   ],
   "source": [
    "b = [20, 50, 15, 45]"
   ]
  },
  {
   "cell_type": "code",
   "execution_count": 57,
   "id": "42744c05-75e0-4a50-bb50-981de1ac602c",
   "metadata": {},
   "outputs": [
    {
     "name": "stdout",
     "output_type": "stream",
     "text": [
      "A tolerância final ficou em 0.0006079673767089844\n",
      "O resultado final ficou em [13.124959468841553; 20.624918937683105; 11.874918937683105; 19.37483787536621]\n"
     ]
    },
    {
     "data": {
      "text/plain": [
       "4×1 Matrix{Float64}:\n",
       " 13.124959468841553\n",
       " 20.624918937683105\n",
       " 11.874918937683105\n",
       " 19.37483787536621"
      ]
     },
     "execution_count": 57,
     "metadata": {},
     "output_type": "execute_result"
    }
   ],
   "source": [
    "gauss_seidel_Q3(A,b)"
   ]
  },
  {
   "cell_type": "code",
   "execution_count": 34,
   "id": "faca673f-0f88-4268-90be-c4d9dfa8cf8a",
   "metadata": {},
   "outputs": [
    {
     "name": "stdout",
     "output_type": "stream",
     "text": [
      "A tolerância final ficou em 0.0009918212890625\n",
      "O resultado final ficou em [13.124504089355469; 20.62450408935547; 11.874504089355469; 19.37450408935547]\n"
     ]
    },
    {
     "data": {
      "text/plain": [
       "4×1 Matrix{Float64}:\n",
       " 13.124504089355469\n",
       " 20.62450408935547\n",
       " 11.874504089355469\n",
       " 19.37450408935547"
      ]
     },
     "execution_count": 34,
     "metadata": {},
     "output_type": "execute_result"
    }
   ],
   "source": [
    "gauss_jacobi_Q3(A,b)"
   ]
  },
  {
   "cell_type": "markdown",
   "id": "79a62bf4-feef-45c3-97c7-ed8376dd0a84",
   "metadata": {},
   "source": [
    "### (d)"
   ]
  },
  {
   "cell_type": "code",
   "execution_count": 40,
   "id": "83656906-f2c9-4f58-a605-aca701f1ca98",
   "metadata": {},
   "outputs": [
    {
     "data": {
      "text/plain": [
       "4×4 Matrix{Float64}:\n",
       "  4.0  -1.0  -1.0   0.0\n",
       " -1.0   4.0   0.0  -1.0\n",
       " -1.0   0.0   4.0  -1.0\n",
       "  0.0  -1.0  -1.0   4.0"
      ]
     },
     "execution_count": 40,
     "metadata": {},
     "output_type": "execute_result"
    }
   ],
   "source": [
    "# Construindo a matriz A\n",
    "function create_A(n_lago)\n",
    "    \"\"\" \n",
    "        ENTRADA: numero de linhas na matriz do lago (matriz da figura)\n",
    "        SAIDA: Matriz A que vai representar o calculo das temperaturas\n",
    "        OBS: o numero de linhas da matriz é sempre o numero de linhas no grafico do lago elevado ao quadrado\n",
    "            (mantendo o formato quadrado)\n",
    "    \"\"\"\n",
    "    n = n_lago^2\n",
    "    A = zeros(n,n)\n",
    "\n",
    "    # Preencher diagonal com 4's\n",
    "    for i = 1:n\n",
    "        A[i,i] = 4.0\n",
    "    end\n",
    "\n",
    "    # CANTOS DO LAGO\n",
    "\n",
    "    # Canto superior esquerdo\n",
    "    A[1,2] = -1.0  # vizinho direita\n",
    "    A[1,1+n_lago] = -1.0  # vizinho abaixo\n",
    "\n",
    "    # Canto superior direito\n",
    "    A[n_lago,n_lago-1] = -1.0  # vizinho esquerda\n",
    "    A[n_lago,n_lago+n_lago] = -1.0  # vizinho abaixo\n",
    "\n",
    "    # Canto inferior esquerdo\n",
    "    i = n - n_lago + 1  \n",
    "    A[i,i - n_lago] = -1.0  # vizinho acima\n",
    "    A[i,i+1] = -1.0  # vizinho direita\n",
    "\n",
    "    # Canto inferior direito\n",
    "    A[n,n - n_lago] = -1.0  # vizinho acima\n",
    "    A[n,n-1] = -1.0  # vizinho esquerda\n",
    "\n",
    "    # BORDAS DO LAGO\n",
    "\n",
    "    # Borda superior\n",
    "    for i = 2:n_lago-1\n",
    "        A[i,i-1] = -1.0  # vizinho esquerda\n",
    "        A[i,i+1] = -1.0  # vizinho direita\n",
    "        A[i,i+n_lago] = -1.0  # vizinho abaixo\n",
    "    end\n",
    "\n",
    "    # Borda inferior\n",
    "    x = n - n_lago + 1  # canto inferior esquerdo\n",
    "    for i = x+1:n-1\n",
    "        A[i,i-1] = -1.0  # vizinho esquerda\n",
    "        A[i,i+1] = -1.0  # vizinho direita\n",
    "        A[i,i-n_lago] = -1.0  # vizinho acima\n",
    "    end\n",
    "\n",
    "    # Borda esquerda\n",
    "    x = n - n_lago + 1  # canto inferior esquerdo\n",
    "    for i = n_lago+1:n_lago:x-n_lago\n",
    "        A[i,i-n_lago] = -1.0  # vizinho acima\n",
    "        A[i,i+1] = -1.0  # vizinho direita\n",
    "        A[i,i+n_lago] = -1.0  # vizinho abaixo\n",
    "    end\n",
    "\n",
    "    # Borda direita\n",
    "    for i = 2*n_lago:n_lago:n-n_lago\n",
    "        A[i,i-n_lago] = -1.0  # vizinho acima\n",
    "        A[i,i-1] = -1.0  # vizinho esquerda\n",
    "        A[i,i+n_lago] = -1.0  # vizinho abaixo\n",
    "    end\n",
    "\n",
    "    # Pontos internos\n",
    "    x = n - 2*n_lago + 2  # canto inferior esquerdo \"interno\"\n",
    "    for i = n_lago+2:n_lago:x  # linhas do quadrado interno\n",
    "        for j = 0:(n_lago - 3)  # colunas do quadrado interno\n",
    "            A[i+j,i+j-1] = -1.0  # vizinho esquerda\n",
    "            A[i+j,i+j+1] = -1.0  # vizinho direita\n",
    "            A[i+j,i+j-n_lago] = -1.0  # vizinho acima\n",
    "            A[i+j,i+j+n_lago] = -1.0  # vizinho abaixo\n",
    "        end\n",
    "    end\n",
    "\n",
    "    return A\n",
    "end\n",
    "\n",
    "# Usando a letra c como exemplo\n",
    "A = create_A(2)"
   ]
  },
  {
   "cell_type": "code",
   "execution_count": 46,
   "id": "d03748ce-44a0-46f0-a4a6-9ae02cc6fd82",
   "metadata": {},
   "outputs": [
    {
     "data": {
      "text/plain": [
       "4-element Vector{Float64}:\n",
       " 20.0\n",
       " 50.0\n",
       " 15.0\n",
       " 45.0"
      ]
     },
     "execution_count": 46,
     "metadata": {},
     "output_type": "execute_result"
    }
   ],
   "source": [
    "# Construindo vetor b\n",
    "function create_b(n_lago, T_LEFT, T_TOP, T_RIGHT, T_BOTTOM)\n",
    "    n = n_lago^2\n",
    "    b = zeros(n)\n",
    "    #T_LEFT = 5.0 #25.0\n",
    "    #T_RIGHT = 35.0 #20.0\n",
    "    #T_TOP = 15.0 #20.0\n",
    "    #T_BOTTOM = 10.0 #30.0\n",
    "\n",
    "    # CANTOS DO LAGO\n",
    "\n",
    "    # Canto superior esquerdo\n",
    "    b[1] = T_LEFT + T_TOP\n",
    "\n",
    "    # Canto superior direito\n",
    "    b[n_lago] = T_RIGHT + T_TOP\n",
    "\n",
    "    # Canto inferior esquerdo\n",
    "    i = n - n_lago + 1  \n",
    "    b[i] = T_LEFT + T_BOTTOM\n",
    "\n",
    "    # Canto inferior direito\n",
    "    b[n] = T_RIGHT + T_BOTTOM\n",
    "\n",
    "    # BORDAS DO LAGO\n",
    "\n",
    "    # Borda superior\n",
    "    for i = 2:n_lago-1\n",
    "        b[i] = T_TOP\n",
    "    end\n",
    "\n",
    "    # Borda inferior\n",
    "    x = n - n_lago + 1  # canto inferior esquerdo\n",
    "    for i = x+1:n-1\n",
    "        b[i] = T_BOTTOM\n",
    "    end\n",
    "\n",
    "    # Borda esquerda\n",
    "    x = n - n_lago + 1  # canto inferior esquerdo\n",
    "    for i = n_lago+1:n_lago:x-n_lago\n",
    "        b[i] = T_LEFT\n",
    "    end\n",
    "\n",
    "    # Borda direita\n",
    "    for i = 2*n_lago:n_lago:n-n_lago\n",
    "        b[i] = T_RIGHT\n",
    "    end\n",
    "\n",
    "    # Para os pontos internos vamos manter os zeros\n",
    "\n",
    "    return b\n",
    "end\n",
    "\n",
    "# Usando a letra c como exemplo\n",
    "b = create_b(2, 5.0, 15.0, 35.0, 10.0)"
   ]
  },
  {
   "cell_type": "code",
   "execution_count": 58,
   "id": "594b3725-c59f-4f50-95a5-2b81d99344a5",
   "metadata": {},
   "outputs": [
    {
     "data": {
      "text/plain": [
       "25×25 Matrix{Float64}:\n",
       "  4.0  -1.0   0.0   0.0   0.0  -1.0  …   0.0   0.0   0.0   0.0   0.0   0.0\n",
       " -1.0   4.0  -1.0   0.0   0.0   0.0      0.0   0.0   0.0   0.0   0.0   0.0\n",
       "  0.0  -1.0   4.0  -1.0   0.0   0.0      0.0   0.0   0.0   0.0   0.0   0.0\n",
       "  0.0   0.0  -1.0   4.0  -1.0   0.0      0.0   0.0   0.0   0.0   0.0   0.0\n",
       "  0.0   0.0   0.0  -1.0   4.0   0.0      0.0   0.0   0.0   0.0   0.0   0.0\n",
       " -1.0   0.0   0.0   0.0   0.0   4.0  …   0.0   0.0   0.0   0.0   0.0   0.0\n",
       "  0.0  -1.0   0.0   0.0   0.0  -1.0      0.0   0.0   0.0   0.0   0.0   0.0\n",
       "  0.0   0.0  -1.0   0.0   0.0   0.0      0.0   0.0   0.0   0.0   0.0   0.0\n",
       "  0.0   0.0   0.0  -1.0   0.0   0.0      0.0   0.0   0.0   0.0   0.0   0.0\n",
       "  0.0   0.0   0.0   0.0  -1.0   0.0      0.0   0.0   0.0   0.0   0.0   0.0\n",
       "  0.0   0.0   0.0   0.0   0.0  -1.0  …   0.0   0.0   0.0   0.0   0.0   0.0\n",
       "  0.0   0.0   0.0   0.0   0.0   0.0      0.0   0.0   0.0   0.0   0.0   0.0\n",
       "  0.0   0.0   0.0   0.0   0.0   0.0      0.0   0.0   0.0   0.0   0.0   0.0\n",
       "  0.0   0.0   0.0   0.0   0.0   0.0      0.0   0.0   0.0   0.0   0.0   0.0\n",
       "  0.0   0.0   0.0   0.0   0.0   0.0     -1.0   0.0   0.0   0.0   0.0   0.0\n",
       "  0.0   0.0   0.0   0.0   0.0   0.0  …   0.0  -1.0   0.0   0.0   0.0   0.0\n",
       "  0.0   0.0   0.0   0.0   0.0   0.0      0.0   0.0  -1.0   0.0   0.0   0.0\n",
       "  0.0   0.0   0.0   0.0   0.0   0.0      0.0   0.0   0.0  -1.0   0.0   0.0\n",
       "  0.0   0.0   0.0   0.0   0.0   0.0     -1.0   0.0   0.0   0.0  -1.0   0.0\n",
       "  0.0   0.0   0.0   0.0   0.0   0.0      4.0   0.0   0.0   0.0   0.0  -1.0\n",
       "  0.0   0.0   0.0   0.0   0.0   0.0  …   0.0   4.0  -1.0   0.0   0.0   0.0\n",
       "  0.0   0.0   0.0   0.0   0.0   0.0      0.0  -1.0   4.0  -1.0   0.0   0.0\n",
       "  0.0   0.0   0.0   0.0   0.0   0.0      0.0   0.0  -1.0   4.0  -1.0   0.0\n",
       "  0.0   0.0   0.0   0.0   0.0   0.0      0.0   0.0   0.0  -1.0   4.0  -1.0\n",
       "  0.0   0.0   0.0   0.0   0.0   0.0     -1.0   0.0   0.0   0.0  -1.0   4.0"
      ]
     },
     "execution_count": 58,
     "metadata": {},
     "output_type": "execute_result"
    }
   ],
   "source": [
    "# Resolvendo o exercicio em si\n",
    "A = create_A(5)"
   ]
  },
  {
   "cell_type": "code",
   "execution_count": 59,
   "id": "1334ec5e-0ad1-423c-b444-5e363eba1a4a",
   "metadata": {},
   "outputs": [
    {
     "data": {
      "text/plain": [
       "25-element Vector{Float64}:\n",
       " 45.0\n",
       " 20.0\n",
       " 20.0\n",
       " 20.0\n",
       " 40.0\n",
       " 25.0\n",
       "  0.0\n",
       "  0.0\n",
       "  0.0\n",
       " 20.0\n",
       " 25.0\n",
       "  0.0\n",
       "  0.0\n",
       "  0.0\n",
       " 20.0\n",
       " 25.0\n",
       "  0.0\n",
       "  0.0\n",
       "  0.0\n",
       " 20.0\n",
       " 55.0\n",
       " 30.0\n",
       " 30.0\n",
       " 30.0\n",
       " 50.0"
      ]
     },
     "execution_count": 59,
     "metadata": {},
     "output_type": "execute_result"
    }
   ],
   "source": [
    "b = create_b(5, 25.0, 20.0, 20.0, 30.0)"
   ]
  },
  {
   "cell_type": "code",
   "execution_count": 77,
   "id": "9d84be3b-d93f-4645-9fe8-10166e17755a",
   "metadata": {},
   "outputs": [
    {
     "data": {
      "text/plain": [
       "5×5 Matrix{Float64}:\n",
       " 22.6565  23.8638  24.693   25.6011  27.0301\n",
       " 21.7621  23.1056  24.3072  25.6813  27.5195\n",
       " 21.2862  22.4896  23.7493  25.2975  27.3668\n",
       " 20.8933  21.8176  22.903   24.3932  26.6507\n",
       " 20.4695  20.9848  21.6524  22.7221  24.8431"
      ]
     },
     "execution_count": 77,
     "metadata": {},
     "output_type": "execute_result"
    }
   ],
   "source": [
    "x = gauss_seidel_Q3(A,b, output=false)\n",
    "reshape(x, (5,5))"
   ]
  },
  {
   "cell_type": "code",
   "execution_count": 78,
   "id": "186819f4-66eb-49cd-9bb3-6d85f4f0dd41",
   "metadata": {},
   "outputs": [
    {
     "data": {
      "text/plain": [
       "5×5 Matrix{Float64}:\n",
       " 22.656   23.8631  24.6922  25.6005  27.0298\n",
       " 21.7614  23.1045  24.306   25.6803  27.519\n",
       " 21.2855  22.4884  23.7479  25.2965  27.3663\n",
       " 20.8927  21.8166  22.902   24.3924  26.6503\n",
       " 20.4692  20.9843  21.6518  22.7217  24.8429"
      ]
     },
     "execution_count": 78,
     "metadata": {},
     "output_type": "execute_result"
    }
   ],
   "source": [
    "x = gauss_jacobi_Q3(A,b, output=false)\n",
    "reshape(x, (5,5))"
   ]
  },
  {
   "cell_type": "markdown",
   "id": "47680883-c7c9-4dce-98b8-e6440b72b9af",
   "metadata": {},
   "source": [
    "### (e)"
   ]
  },
  {
   "cell_type": "code",
   "execution_count": 87,
   "id": "d0b65bae-dbce-4642-b829-a5eafafcd872",
   "metadata": {},
   "outputs": [
    {
     "name": "stdout",
     "output_type": "stream",
     "text": [
      "Tempo total: 128.47898983955383\n"
     ]
    },
    {
     "data": {
      "text/plain": [
       "105×105 Matrix{Float64}:\n",
       " 22.4863  23.4608  23.9119  24.1527  …  25.7236  25.9952  26.4772  27.4827\n",
       " 21.4843  22.4451  23.0341  23.403      26.3496  26.7801  27.4309  28.4537\n",
       " 21.0058  21.8013  22.3766  22.7821     26.8468  27.3448  28.0128  28.9012\n",
       " 20.7376  21.3777  21.8889  22.2809     27.2248  27.7398  28.3746  29.1384\n",
       " 20.5672  21.083   21.5209  21.8767     27.506   28.0156  28.6077  29.2781\n",
       " 20.4481  20.8663  21.2352  21.5473  …  27.713   28.2093  28.763   29.3664\n",
       " 20.359   20.6993  21.0068  21.2742     27.8644  28.3463  28.8691  29.425\n",
       " 20.2889  20.5652  20.8189  21.0437     27.974   28.4434  28.9426  29.4648\n",
       " 20.2314  20.454   20.6605  20.8456     28.0521  28.5117  28.9936  29.4922\n",
       " 20.1829  20.3594  20.524   20.6725     28.1063  28.5589  29.0286  29.5109\n",
       " 20.141   20.2771  20.4042  20.5191  …  28.1419  28.5902  29.0519  29.5233\n",
       " 20.104   20.2042  20.2975  20.3813     28.1632  28.6094  29.0664  29.5311\n",
       " 20.0708  20.1388  20.2013  20.2562     28.1732  28.6193  29.0742  29.5354\n",
       "  ⋮                                  ⋱                             \n",
       " 19.8551  19.7101  19.5654  19.4209     27.202   27.8766  28.5719  29.2821\n",
       " 19.8665  19.733   19.5997  19.4667     27.0888  27.7851  28.5075  29.2487\n",
       " 19.8781  19.7563  19.6346  19.5132  …  26.946   27.6689  28.4251  29.206\n",
       " 19.8899  19.7798  19.6698  19.5601     26.7658  27.5205  28.319   29.1505\n",
       " 19.9018  19.8036  19.7055  19.6076     26.537   27.3294  28.1806  29.0775\n",
       " 19.9138  19.8276  19.7415  19.6555     26.2449  27.0804  27.997   28.9796\n",
       " 19.9259  19.8518  19.7778  19.7039     25.8689  26.7513  27.7481  28.844\n",
       " 19.9381  19.8762  19.8143  19.7526  …  25.3812  26.3085  27.4006  28.6488\n",
       " 19.9504  19.9007  19.8511  19.8017     24.745   25.7016  26.8974  28.351\n",
       " 19.9627  19.9254  19.8882  19.851      23.9152  24.856   26.1367  27.858\n",
       " 19.9751  19.9502  19.9253  19.9005     22.8468  23.671   24.9358  26.9444\n",
       " 19.9875  19.9751  19.9626  19.9502     21.5209  22.0458  22.9914  24.9839"
      ]
     },
     "execution_count": 87,
     "metadata": {},
     "output_type": "execute_result"
    }
   ],
   "source": [
    "n_lago = 105\n",
    "A = create_A(n_lago)\n",
    "b = create_b(n_lago, 25.0, 20.0, 20.0, 30.0)\n",
    "x = gauss_seidel_Q3(A,b,output=false,show_time=true)\n",
    "reshape(x, (n_lago,n_lago))"
   ]
  },
  {
   "cell_type": "markdown",
   "id": "57c7d90d-3185-4878-ab6e-f37bae4bf046",
   "metadata": {},
   "source": [
    "### Exercício 4\n",
    "\n",
    "### (a)"
   ]
  },
  {
   "cell_type": "code",
   "execution_count": 42,
   "id": "efd6fd58-516c-4151-b74e-0551b12debb6",
   "metadata": {},
   "outputs": [
    {
     "data": {
      "text/plain": [
       "8×8 Matrix{Float64}:\n",
       "  1.0   0.0   0.0   0.0   0.0   0.0   0.0  0.0\n",
       "  0.0   1.0   0.0   0.0   0.0   0.0   0.0  0.0\n",
       "  0.0   0.0   1.0   0.0   0.0   0.0   0.0  0.0\n",
       " -1.0   0.0   0.0   1.0   0.0   0.0   0.0  0.0\n",
       "  0.0   0.0  -1.0   0.0   1.0   0.0   0.0  0.0\n",
       "  0.0  -1.0   0.0  -1.0   0.0   1.0   0.0  0.0\n",
       "  0.0   0.0   0.0   0.0  -1.0   0.0   1.0  0.0\n",
       "  0.0   0.0   0.0   0.0   0.0  -1.0  -1.0  1.0"
      ]
     },
     "execution_count": 42,
     "metadata": {},
     "output_type": "execute_result"
    }
   ],
   "source": [
    "# Construir matriz A\n",
    "A = zeros(8,8)\n",
    "for i = 1:8\n",
    "    A[i,i] = 1.0\n",
    "end\n",
    "\n",
    "A[4,1] = -1.0\n",
    "A[5,3] = -1.0\n",
    "A[6,4] = -1.0\n",
    "A[6,2] = -1.0\n",
    "A[7,5] = -1.0\n",
    "A[8,6] = -1.0\n",
    "A[8,7] = -1.0\n",
    "\n",
    "A"
   ]
  },
  {
   "cell_type": "code",
   "execution_count": 43,
   "id": "c3f7afac-9471-45a8-801a-a908434f0a3d",
   "metadata": {},
   "outputs": [
    {
     "data": {
      "text/plain": [
       "8-element Vector{Int64}:\n",
       "  7000\n",
       "  3500\n",
       "  9000\n",
       " 30000\n",
       "  3000\n",
       "     0\n",
       "  3000\n",
       "   500"
      ]
     },
     "execution_count": 43,
     "metadata": {},
     "output_type": "execute_result"
    }
   ],
   "source": [
    "# Cada elemento de b é a soma das demandas com valores explicitos\n",
    "# associados a uma junta A,B,C...\n",
    "b = [7000, 3500, 9000, 30000, 3000, 0, 3000, 500]"
   ]
  },
  {
   "cell_type": "code",
   "execution_count": 46,
   "id": "95f61087-2da2-4dfd-9d42-83f6ca76d18c",
   "metadata": {},
   "outputs": [
    {
     "name": "stdout",
     "output_type": "stream",
     "text": [
      "A tolerância final ficou em 0.0\n",
      "O resultado final ficou em [7000.0; 3500.0; 9000.0; 37000.0; 12000.0; 40500.0; 15000.0; 56000.0]\n"
     ]
    },
    {
     "data": {
      "text/plain": [
       "8×1 Matrix{Float64}:\n",
       "  7000.0\n",
       "  3500.0\n",
       "  9000.0\n",
       " 37000.0\n",
       " 12000.0\n",
       " 40500.0\n",
       " 15000.0\n",
       " 56000.0"
      ]
     },
     "execution_count": 46,
     "metadata": {},
     "output_type": "execute_result"
    }
   ],
   "source": [
    "# O método converge, mesmo sem respeitar o critério das linhas\n",
    "gauss_seidel_Q3(A,b)"
   ]
  },
  {
   "cell_type": "code",
   "execution_count": 47,
   "id": "203211ff-4d7a-487d-8e01-a5f57254fe63",
   "metadata": {},
   "outputs": [
    {
     "name": "stdout",
     "output_type": "stream",
     "text": [
      "A tolerância final ficou em 0.0\n",
      "O resultado final ficou em [7000.0; 3500.0; 9000.0; 37000.0; 12000.0; 40500.0; 15000.0; 56000.0]\n"
     ]
    },
    {
     "data": {
      "text/plain": [
       "8×1 Matrix{Float64}:\n",
       "  7000.0\n",
       "  3500.0\n",
       "  9000.0\n",
       " 37000.0\n",
       " 12000.0\n",
       " 40500.0\n",
       " 15000.0\n",
       " 56000.0"
      ]
     },
     "execution_count": 47,
     "metadata": {},
     "output_type": "execute_result"
    }
   ],
   "source": [
    "# O método converge, mesmo sem respeitar o critério das linhas\n",
    "gauss_jacobi_Q3(A,b)"
   ]
  },
  {
   "cell_type": "markdown",
   "id": "85e1520f-d4bf-4442-8c46-89f1f28975d2",
   "metadata": {},
   "source": [
    "### (b)"
   ]
  },
  {
   "cell_type": "code",
   "execution_count": null,
   "id": "50fccf7b-1691-4418-8247-baec65c3b949",
   "metadata": {},
   "outputs": [],
   "source": []
  }
 ],
 "metadata": {
  "kernelspec": {
   "display_name": "Julia 1.6.0",
   "language": "julia",
   "name": "julia-1.6"
  },
  "language_info": {
   "file_extension": ".jl",
   "mimetype": "application/julia",
   "name": "julia",
   "version": "1.6.1"
  }
 },
 "nbformat": 4,
 "nbformat_minor": 5
}
