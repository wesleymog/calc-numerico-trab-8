{
 "cells": [
  {
   "cell_type": "code",
   "execution_count": 1,
   "metadata": {},
   "outputs": [],
   "source": [
    "using LinearAlgebra"
   ]
  },
  {
   "cell_type": "markdown",
   "metadata": {},
   "source": [
    "### Função de Taylor"
   ]
  },
  {
   "cell_type": "code",
   "execution_count": 2,
   "metadata": {},
   "outputs": [
    {
     "data": {
      "text/plain": [
       "taylor"
      ]
     },
     "execution_count": 2,
     "metadata": {},
     "output_type": "execute_result"
    }
   ],
   "source": [
    "\"\"\"\n",
    "RESUMO: Esse método recebe um ponto a e a imagem de a em uma funcao que nao sabemos calcular diretamente.\n",
    "        A partir dessas informacoes e das derivadas, aproximamos o valor da imagem de x nessa funcao usando o método\n",
    "        de Taylor.\n",
    "ENTRADA: Float Fa (imagem da funcao em a), Vetor 'derivadas', Float a, Float x\n",
    "SAÍDA: Float soma\n",
    "\"\"\"\n",
    "function taylor(Fa, derivadas, a, x)\n",
    "    grau=length(derivadas) #grau do Taylor vai ser implícito\n",
    "    soma = Fa\n",
    "    for k = 1:grau\n",
    "        soma += (derivadas[k] * (x - a)^k) / factorial(k)\n",
    "    end\n",
    "    return soma\n",
    "end"
   ]
  },
  {
   "cell_type": "markdown",
   "metadata": {},
   "source": [
    "#### Exemplos"
   ]
  },
  {
   "cell_type": "code",
   "execution_count": 3,
   "metadata": {},
   "outputs": [
    {
     "data": {
      "text/plain": [
       "0.0112015585585023"
      ]
     },
     "execution_count": 3,
     "metadata": {},
     "output_type": "execute_result"
    }
   ],
   "source": [
    "# Exemplo 1 - log(x), a = 1\n",
    "Fa = 0  # log 1\n",
    "derivadas = [1, -1, 2]\n",
    "a = 1.0\n",
    "x = 1.5\n",
    "y = taylor(Fa,derivadas,a,x)\n",
    "y - log(1.5)"
   ]
  },
  {
   "cell_type": "code",
   "execution_count": 4,
   "metadata": {},
   "outputs": [
    {
     "data": {
      "text/plain": [
       "-2.7478019859472624e-15"
      ]
     },
     "execution_count": 4,
     "metadata": {},
     "output_type": "execute_result"
    }
   ],
   "source": [
    "# Exemplo 2 - sen(x), a = 0\n",
    "Fa = 0  # sen(0)\n",
    "derivadas = [1, 0, -1, 0, 1, 0, -1]\n",
    "a = 0\n",
    "x = 0.1\n",
    "y = taylor(Fa,derivadas,a,x)\n",
    "y - sin(0.1)"
   ]
  },
  {
   "cell_type": "code",
   "execution_count": 5,
   "metadata": {},
   "outputs": [
    {
     "data": {
      "text/plain": [
       "6.631249999977662e-5"
      ]
     },
     "execution_count": 5,
     "metadata": {},
     "output_type": "execute_result"
    }
   ],
   "source": [
    "# Exemplo 3 -> sqrt(x), a = 1\n",
    "Fa = 1\n",
    "derivadas = [0.5, -0.25, 3.0/8.0]\n",
    "a = 1\n",
    "x = 1.21\n",
    "y = taylor(Fa,derivadas,a,x)\n",
    "y - 1.1"
   ]
  },
  {
   "cell_type": "markdown",
   "metadata": {},
   "source": [
    "### Função Bisseção"
   ]
  },
  {
   "cell_type": "code",
   "execution_count": 6,
   "metadata": {},
   "outputs": [
    {
     "data": {
      "text/plain": [
       "bissecao (generic function with 1 method)"
      ]
     },
     "execution_count": 6,
     "metadata": {},
     "output_type": "execute_result"
    }
   ],
   "source": [
    "\"\"\"\n",
    "RESUMO: Este método pode ser usado para encontrar as raízes de uma função contínua, com base \n",
    "        no teorema do valor intermediário, tendo f(a) e f(b) com sinais opostos, tem de se ter\n",
    "        uma raíz entre a e b. O método consiste em dividir o intervalo no seu ponto médio \n",
    "        c=(a+b)/2, e então verificar em qual dos dois subintervalos garante-se a existência de\n",
    "        uma raiz. Para tanto, basta verificar se  f(a)*f(c)<0. Caso afirmativo, existe pelo \n",
    "        menos uma raiz no intervalo (a,c), caso contrário garante-se a existência de uma raiz\n",
    "        no intervalo [c,b). O procedimento é, então, repetido para o subintervalo correspondente\n",
    "        à raiz até que c se aproxime a raiz com a precisão desejada.\n",
    "ENTRADA: função, precisao, a, b\n",
    "SAÍDA: raiz\n",
    "\"\"\"\n",
    "\n",
    "function bissecao(funcao, precisao, a, b ;max_tempo = 10.0, max_iter = 100)\n",
    "    # Limitamos o tempo e o número de iterações, pois estamos usando while e não queremos cair\n",
    "    # em um loop infinito\n",
    "    fa = f(a) # Função aplicada em a\n",
    "    fb = f(b) # Função aplicada em b\n",
    "    ϵ  = precisao *max(abs(fa), abs(fb)) \n",
    "    # Em caso dos valores dos pontos na função serem próximos o suficiente de 0 para não \n",
    "    # executar o código\n",
    "    if abs(fa) ≤ ϵ \n",
    "        print(\"a é próximo de ϵ\")\n",
    "        return a\n",
    "    elseif abs(fb)≤ ϵ \n",
    "        print(\"b é próximo de ϵ\")\n",
    "        return b\n",
    "    elseif fa*fb ≥ 0\n",
    "        return \"ERRO: F(A) E F(B) TEM SINAIS IGUAIS\"\n",
    "    end\n",
    "    ϵba  = precisao * abs(b-a) # Calculando o tamanho do erro que é possível, com base na precisão\n",
    "    \n",
    "    c = (a+b)/2 # Calculando um x que é o meio entre a e b\n",
    "    fc = f(c) # Calculando a função no ponto c\n",
    "    # Inicializando as variáveis de tempo e iteração\n",
    "    iter =0 \n",
    "    t0 = time()\n",
    "    Δt = time() - t0\n",
    "    \n",
    "    # Será resolvido quando o módulo de b-a * precisão for menor do que b-a, ou seja a distância\n",
    "    # seja desse valor ou se o módulo de f(c) seja suficientemente perto de 0, segundo a precisão\n",
    "    resolvido = (abs(fc) ≤ ϵ || abs(b-a) ≤ ϵba) \n",
    "    \n",
    "    cansado = (iter ≥ max_iter || Δt ≥ max_tempo)\n",
    "    # LOOP do método da bisseção\n",
    "    # Vamos fazendo calculando o intervalo entre a e b até encontrar algum f(c) ≈ 0, dentro da\n",
    "    # precisão ou o intervalo entre b-a menor que a precisão\n",
    "    while !(resolvido || cansado)\n",
    "        if fa *fc < 0\n",
    "            b = c\n",
    "            fb = fc\n",
    "        else\n",
    "            a = c\n",
    "            fa = fc\n",
    "        end\n",
    "        \n",
    "        c = (a+b)/2\n",
    "        fc = f(c)\n",
    "        iter +=1\n",
    "        Δt = time()-t0\n",
    "        \n",
    "        resolvido = (abs(fc) ≤ ϵ || abs(b-a) ≤ ϵba)\n",
    "        cansado = (iter ≥ max_iter || Δt ≥ max_tempo)\n",
    "    end\n",
    "    if resolvido\n",
    "        return c\n",
    "    elseif cansado\n",
    "        if iter ≥ max_iter\n",
    "            return \"ERRO: Chegamos ao número máximo de iterações\"\n",
    "        else\n",
    "            return \"ERRO: Chegamos ao máximo de tempo de execução\"\n",
    "        end\n",
    "    end\n",
    "end"
   ]
  },
  {
   "cell_type": "markdown",
   "metadata": {},
   "source": [
    "#### Exemplos"
   ]
  },
  {
   "cell_type": "code",
   "execution_count": 7,
   "metadata": {},
   "outputs": [
    {
     "data": {
      "text/plain": [
       "3.141592651605606"
      ]
     },
     "execution_count": 7,
     "metadata": {},
     "output_type": "execute_result"
    }
   ],
   "source": [
    "# Exemplo 1\n",
    "f(x) = sin(x)\n",
    "b = 1\n",
    "a = 5\n",
    "# Sabemos que sen(π) = 0\n",
    "precisao = 1e-8\n",
    "bissecao(f, precisao, a, b)"
   ]
  },
  {
   "cell_type": "code",
   "execution_count": 8,
   "metadata": {},
   "outputs": [
    {
     "data": {
      "text/plain": [
       "0.9999999999999964"
      ]
     },
     "execution_count": 8,
     "metadata": {},
     "output_type": "execute_result"
    }
   ],
   "source": [
    "# Exemplo 2\n",
    "f(x) = (x^3)-1\n",
    "# Sabemos que a raíz nesse ponto é 1, pois (1^3)-1 = 0\n",
    "b = -5\n",
    "a = 5\n",
    "precisao = 1e-16\n",
    "bissecao(f, precisao, a, b)"
   ]
  },
  {
   "cell_type": "code",
   "execution_count": 9,
   "metadata": {},
   "outputs": [
    {
     "data": {
      "text/plain": [
       "0.0"
      ]
     },
     "execution_count": 9,
     "metadata": {},
     "output_type": "execute_result"
    }
   ],
   "source": [
    "# Exemplo 3\n",
    "f(x) = (ℯ^x)-1\n",
    "b = -10\n",
    "a = 10\n",
    "precisao = 1e-10\n",
    "# Sabemos que e^0-1 = 0\n",
    "bissecao(f, precisao, a, b)"
   ]
  },
  {
   "cell_type": "markdown",
   "metadata": {},
   "source": [
    "### Função Ponto Fixo"
   ]
  },
  {
   "cell_type": "code",
   "execution_count": 10,
   "metadata": {},
   "outputs": [
    {
     "data": {
      "text/plain": [
       "ponto_fixo (generic function with 1 method)"
      ]
     },
     "execution_count": 10,
     "metadata": {},
     "output_type": "execute_result"
    }
   ],
   "source": [
    "\"\"\"\n",
    "RESUMO: É uma função que encontra raíz e consiste em encontrar uma função g : [a, b] → R tal\n",
    "        que g(x) = x e com isso, construir uma sequência xn de pontos da forma xn = g(xn−1),\n",
    "        para um dada ponto inicial. Seja f : [a, b] → R contínua com f(a) ≤ a \n",
    "        e f(b) ≥ b. Existe ao menos um ponto c ∈ [a, b] tal que f(c) = c.\n",
    "ENTRADA: funcao, precisao, chute_inicial\n",
    "SAÍDA: raiz\n",
    "\"\"\"\n",
    "\n",
    "function ponto_fixo(g, precisao, x;\n",
    "                  max_time = 10.0, max_iter = 1000,)\n",
    "    \n",
    "    gx = g(x)\n",
    "    \n",
    "    # tolerância do valor da funcao\n",
    "    ϵ = precisao * abs(gx)\n",
    "    \n",
    "    # define variaveis de tempo e qtd de iteraçoes\n",
    "    iter = 0\n",
    "    t0 = time()\n",
    "    Δt = time() - t0\n",
    "    \n",
    "    # caso o algoritmo nao termine de nenhuma maneira esperada\n",
    "    exitflag = :desconhecido\n",
    "    \n",
    "    # condicao para o algoritmo ter resolvido o problema\n",
    "    resolvido = (abs(gx - x) ≤ ϵ)\n",
    "    \n",
    "    # condicao para o algoritmo pedir arrego\n",
    "    cansado = (iter ≥ max_iter || Δt ≥ max_time)\n",
    "    \n",
    "    while !(resolvido || cansado)\n",
    "        # calcula os novos valores de x e g(x)\n",
    "        x = g(x) \n",
    "        gx = g(x)\n",
    "        \n",
    "        # calcula condicoes para o while\n",
    "        iter = iter + 1\n",
    "        Δt = time() - t0\n",
    "        resolvido = (abs(gx - x) ≤ ϵ)\n",
    "        cansado = (iter ≥ max_iter || Δt ≥ max_time)\n",
    "    end\n",
    "    \n",
    "    \n",
    "    if resolvido\n",
    "        return x\n",
    "    elseif cansado\n",
    "        if iter ≥ max_iter\n",
    "            return \"ERRO: Chegamos ao número máximo de iterações\"\n",
    "        else\n",
    "            return \"ERRO: Chegamos ao máximo de tempo de execução\"\n",
    "        end\n",
    "    end\n",
    "    \n",
    "    return x\n",
    "end"
   ]
  },
  {
   "cell_type": "markdown",
   "metadata": {},
   "source": [
    "#### Exemplos:"
   ]
  },
  {
   "cell_type": "code",
   "execution_count": 11,
   "metadata": {},
   "outputs": [
    {
     "data": {
      "text/plain": [
       "3.1652829335191502e-9"
      ]
     },
     "execution_count": 11,
     "metadata": {},
     "output_type": "execute_result"
    }
   ],
   "source": [
    "# Exemplo 1\n",
    "fg(x) =  sin(x)/π\n",
    "x = 2\n",
    "ponto_fixo(fg, 1e-8, x)"
   ]
  },
  {
   "cell_type": "code",
   "execution_count": 12,
   "metadata": {},
   "outputs": [
    {
     "data": {
      "text/plain": [
       "0"
      ]
     },
     "execution_count": 12,
     "metadata": {},
     "output_type": "execute_result"
    }
   ],
   "source": [
    "# Exemplo 2\n",
    "fg(x) =  x^3+x^2\n",
    "x = 2\n",
    "ponto_fixo(fg, 1e-8, x)"
   ]
  },
  {
   "cell_type": "code",
   "execution_count": 13,
   "metadata": {},
   "outputs": [
    {
     "data": {
      "text/plain": [
       "0"
      ]
     },
     "execution_count": 13,
     "metadata": {},
     "output_type": "execute_result"
    }
   ],
   "source": [
    "# Exemplo 3\n",
    "fg(x) = 3x^5-7x^3\n",
    "x = 10\n",
    "ponto_fixo(fg, 1e-9, x)"
   ]
  },
  {
   "cell_type": "markdown",
   "metadata": {},
   "source": [
    "### Função Newton"
   ]
  },
  {
   "cell_type": "code",
   "execution_count": 14,
   "metadata": {},
   "outputs": [
    {
     "data": {
      "text/plain": [
       "newton (generic function with 1 method)"
      ]
     },
     "execution_count": 14,
     "metadata": {},
     "output_type": "execute_result"
    }
   ],
   "source": [
    "\"\"\"\n",
    "RESUMO: Tem-se o objetivo de encontrar uma raíz para a função para isso, escolhe-se uma \n",
    "        aproximação inicial para esta. Após isso, calcula-se a equação da reta tangente (por\n",
    "        meio da derivada) da função nesse ponto e a interseção dela com o eixo das abcissas, a\n",
    "        fim de encontrar uma melhor aproximação para a raiz. Repetindo-se o processo, cria-se um\n",
    "        método iterativo para encontrarmos a raiz da função. \n",
    "ENTRADA: funcao,derivada, precisao, chute_inicial\n",
    "SAÍDA: raiz\n",
    "\"\"\"\n",
    "\n",
    "function newton(funcao,derivada, precisao, chute_inicial;\n",
    "        max_tempo = 10.0, max_iter = 1000)\n",
    "    x= chute_inicial\n",
    "    fx = funcao(x) \n",
    "    ϵ  = precisao *abs(fx) #Calculando a ϵ com base na precisão dada\n",
    "    #Inicialização de variáveis\n",
    "    iter =0\n",
    "    t0 = time()\n",
    "    Δt = time() - t0\n",
    "    \n",
    "    # Quando tivermos um valor de fx próximo o suficiente de 0, com base no ϵ\n",
    "    resolvido = (abs(fx) ≤ ϵ) \n",
    "    cansado = (iter ≥ max_iter || Δt ≥ max_tempo) \n",
    "    # Aqui é onde temos o cálculo \n",
    "    while !(resolvido || cansado)\n",
    "        fdx = derivada(x) # Calculando a derivada \n",
    "        if abs(fdx) ≤ ϵ\n",
    "            return \"ERRO: DERIVADA NULA\"\n",
    "        end\n",
    "          \n",
    "        x = x-fx/fdx # Calculando a equação do método de newton\n",
    "        fx = f(x)\n",
    "        iter +=1\n",
    "        Δt = time()-t0\n",
    "        \n",
    "        resolvido = (abs(fx) ≤ ϵ)\n",
    "        cansado = (iter ≥ max_iter || Δt ≥ max_tempo)\n",
    "    end\n",
    "    if resolvido\n",
    "        return x\n",
    "    elseif cansado\n",
    "        if iter ≥ max_iter\n",
    "            return \"ERRO: Chegamos ao número máximo de iterações\"\n",
    "        else\n",
    "            return \"ERRO: Chegamos ao máximo de tempo de execução\"\n",
    "        end\n",
    "    end\n",
    "end"
   ]
  },
  {
   "cell_type": "markdown",
   "metadata": {},
   "source": [
    "#### Exemplos"
   ]
  },
  {
   "cell_type": "code",
   "execution_count": 15,
   "metadata": {},
   "outputs": [
    {
     "data": {
      "text/plain": [
       "-1.0002056482183954"
      ]
     },
     "execution_count": 15,
     "metadata": {},
     "output_type": "execute_result"
    }
   ],
   "source": [
    "# Exemplo 1\n",
    "f(x) = x^5+x^2\n",
    "fd(x) = 5x^4+2x\n",
    "x = -15\n",
    "newton(f,fd, 1e-8, x)"
   ]
  },
  {
   "cell_type": "code",
   "execution_count": 16,
   "metadata": {},
   "outputs": [
    {
     "data": {
      "text/plain": [
       "3.1415926536808043"
      ]
     },
     "execution_count": 16,
     "metadata": {},
     "output_type": "execute_result"
    }
   ],
   "source": [
    "# Exemplo 2\n",
    "f(x) = sin(x)\n",
    "fd(x) = cos(x)\n",
    "x = 2\n",
    "newton(f,fd, 1e-8, x)"
   ]
  },
  {
   "cell_type": "code",
   "execution_count": 17,
   "metadata": {},
   "outputs": [
    {
     "data": {
      "text/plain": [
       "1.4549501501230384"
      ]
     },
     "execution_count": 17,
     "metadata": {},
     "output_type": "execute_result"
    }
   ],
   "source": [
    "# Exemplo 3\n",
    "f(x) = 3x^5-7x^3+2\n",
    "fd(x) = 15x^4-21x^2\n",
    "x = 0.2\n",
    "newton(f,fd, 1e-8, x)"
   ]
  },
  {
   "cell_type": "markdown",
   "metadata": {},
   "source": [
    "### Resolver PVI - Método de Euler"
   ]
  },
  {
   "cell_type": "code",
   "execution_count": 18,
   "metadata": {},
   "outputs": [
    {
     "data": {
      "text/plain": [
       "resolver_PVI (generic function with 1 method)"
      ]
     },
     "execution_count": 18,
     "metadata": {},
     "output_type": "execute_result"
    }
   ],
   "source": [
    "\"\"\"\n",
    "RESUMO: O método de Euler consiste em resolver uma equação diferencial ordinária. Á ideia é \n",
    "        encontrar uma solução numérica para a equação diferencial no intervalo entre x_inicial\n",
    "        e x_f. Primeiro, o intervalo é discretizado em n + 1 pontos: \n",
    "            x_0 , x_1 , x_2 , x_3 …, x_n\n",
    "        Que são obtidos assim:\n",
    "            x_i = x + ih\n",
    "        Onde h é a largura ou o tom dos subintervalos:\n",
    "            (x_final-x_inicial)/numero_iterações\n",
    "        Com a condição inicial, também é possível conhecer a derivada no início:\n",
    "            y ‘(x_0) = f (x_0, y_0)\n",
    "        Essa derivada representa a inclinação da reta tangente à curva da função y (x) exatamente\n",
    "        no ponto:\n",
    "            Ao = (x o , y o )\n",
    "        Em seguida, uma previsão aproximada do valor da função y (x) é feita no seguinte ponto:\n",
    "            y (x_1)≈ y_1\n",
    "            y_1 = y_0 + (x_1 – x_0) f (x_0, y_0) = y_0 + hf (x_0, y_0)\n",
    "        O próximo ponto aproximado da solução que corresponderia a:\n",
    "            A_1 = (x_1, y_1)\n",
    "        O procedimento é repetido para obter os pontos sucessivos\n",
    "            A_2 , A_3 …, x_n\n",
    "ENTRADA: derivada, x_inicial, y_inicial, x_final, n\n",
    "SAÍDA: x,y\n",
    "\"\"\"\n",
    "\n",
    "function resolver_PVI(derivada,x_inicial,y_inicial,x_final,n)\n",
    "    h =(x_final-x_inicial)/n\n",
    "    y = y_inicial\n",
    "    x = x_inicial\n",
    "    for i = 1:n\n",
    "        y = y + h * derivada(x, y)\n",
    "        x = x + h\n",
    "    end\n",
    "    return x, y\n",
    "end"
   ]
  },
  {
   "cell_type": "markdown",
   "metadata": {},
   "source": [
    "#### Exemplos:"
   ]
  },
  {
   "cell_type": "code",
   "execution_count": 19,
   "metadata": {},
   "outputs": [
    {
     "data": {
      "text/plain": [
       "(3.000000000000001, 2.155172413793104)"
      ]
     },
     "execution_count": 19,
     "metadata": {},
     "output_type": "execute_result"
    }
   ],
   "source": [
    "# Exemplo 1\n",
    "derivada(x,y) = (x - y)/x\n",
    "x_inicial = 2\n",
    "y_inicial = 2\n",
    "x_final = 3\n",
    "n = 10\n",
    "resolver_PVI(derivada,x_inicial,y_inicial,x_final,n)"
   ]
  },
  {
   "cell_type": "code",
   "execution_count": 20,
   "metadata": {},
   "outputs": [
    {
     "data": {
      "text/plain": [
       "(3.000000000000001, 3.408620689655173)"
      ]
     },
     "execution_count": 20,
     "metadata": {},
     "output_type": "execute_result"
    }
   ],
   "source": [
    "# Exemplo 2\n",
    "derivada(x,y) = (x^2 - y)/x\n",
    "x_inicial = 2\n",
    "y_inicial = 2\n",
    "x_final = 3\n",
    "n = 10\n",
    "resolver_PVI(derivada,x_inicial,y_inicial,x_final,n)"
   ]
  },
  {
   "cell_type": "code",
   "execution_count": 21,
   "metadata": {},
   "outputs": [
    {
     "data": {
      "text/plain": [
       "(3.000000000000001, 0.4018171518643542)"
      ]
     },
     "execution_count": 21,
     "metadata": {},
     "output_type": "execute_result"
    }
   ],
   "source": [
    "# Exemplo 3\n",
    "derivada(x,y) = cos(x)-sin(y)\n",
    "x_inicial = 2\n",
    "y_inicial = 2\n",
    "x_final = 3\n",
    "n = 10\n",
    "resolver_PVI(derivada,x_inicial,y_inicial,x_final,n)"
   ]
  },
  {
   "cell_type": "markdown",
   "metadata": {},
   "source": [
    "### Resolver PVC"
   ]
  },
  {
   "cell_type": "code",
   "execution_count": 22,
   "metadata": {},
   "outputs": [
    {
     "data": {
      "text/plain": [
       "resolver_PVC (generic function with 1 method)"
      ]
     },
     "execution_count": 22,
     "metadata": {},
     "output_type": "execute_result"
    }
   ],
   "source": [
    "# Não dá para ser feita genericamente\n",
    "function resolver_PVC(segunda_derivada, x_inicial, y_inicial, x_final, y_final, n)\n",
    "     A,b = # Usuário monta um sistema linear usando diferenças finitas (segunda_derivada(x,y), x_inicial, y_inicial, x_final, y_final,n)\n",
    "     y = resolver_um_sistema(A,b)\n",
    "return y\n",
    "end"
   ]
  },
  {
   "cell_type": "markdown",
   "metadata": {},
   "source": [
    "### Resolve Diagonal"
   ]
  },
  {
   "cell_type": "code",
   "execution_count": 23,
   "metadata": {},
   "outputs": [
    {
     "data": {
      "text/plain": [
       "resolve_diagonal (generic function with 1 method)"
      ]
     },
     "execution_count": 23,
     "metadata": {},
     "output_type": "execute_result"
    }
   ],
   "source": [
    "# Resolve diagonal\n",
    "\"\"\"\"\n",
    "RESUMO: Resolve um sistema linear Ax=b que tenha uma matriz diagonal\n",
    "ENTRADA: Matriz A, vetor b\n",
    "SAIDA: vetor x (solucao do sistema)\n",
    "\"\"\"\n",
    "\n",
    "function resolve_diagonal(A, b)\n",
    "    rows, cols = size(A)\n",
    "    \n",
    "    # verifica se a matriz é quadrada\n",
    "    if rows != cols\n",
    "        error(\"A matriz deve ser quadrada!\")\n",
    "    end\n",
    "    \n",
    "    # Inicializa o vetor solucao\n",
    "    x = zeros(rows)\n",
    "    \n",
    "    # Calcula cada elemento do vetor x\n",
    "    # Dividindo o valor de cada linha de b pelos valores na diagonal de A\n",
    "    for i = 1:rows\n",
    "        x[i] = b[i] / A[i,i]\n",
    "    end\n",
    "    \n",
    "    return x\n",
    "end"
   ]
  },
  {
   "cell_type": "markdown",
   "metadata": {},
   "source": [
    "#### Exemplo 1 (n = 3)"
   ]
  },
  {
   "cell_type": "code",
   "execution_count": 24,
   "metadata": {},
   "outputs": [
    {
     "data": {
      "text/plain": [
       "0.0"
      ]
     },
     "execution_count": 24,
     "metadata": {},
     "output_type": "execute_result"
    }
   ],
   "source": [
    "A = [2  0   0;\n",
    "     0  7   0;\n",
    "     0  0 -11]\n",
    "\n",
    "b = [-6, 7, 110]\n",
    "\n",
    "x = resolve_diagonal(A, b)\n",
    "\n",
    "norm(A*x - b)"
   ]
  },
  {
   "cell_type": "markdown",
   "metadata": {},
   "source": [
    "#### Exemplo 2 (n = 5)"
   ]
  },
  {
   "cell_type": "code",
   "execution_count": 25,
   "metadata": {},
   "outputs": [
    {
     "data": {
      "text/plain": [
       "0.0"
      ]
     },
     "execution_count": 25,
     "metadata": {},
     "output_type": "execute_result"
    }
   ],
   "source": [
    "n = 5\n",
    "A = Diagonal(rand(5,5))\n",
    "\n",
    "b = rand(5)\n",
    "\n",
    "x = resolve_diagonal(A, b)\n",
    "\n",
    "norm(A * x - b)"
   ]
  },
  {
   "cell_type": "markdown",
   "metadata": {},
   "source": [
    "#### Exemplo 3 (n = 20)"
   ]
  },
  {
   "cell_type": "code",
   "execution_count": 26,
   "metadata": {},
   "outputs": [
    {
     "data": {
      "text/plain": [
       "1.1102230246251565e-16"
      ]
     },
     "execution_count": 26,
     "metadata": {},
     "output_type": "execute_result"
    }
   ],
   "source": [
    "n = 20\n",
    "A = Diagonal(rand(n, n))\n",
    "b = rand(n)\n",
    "x = resolve_diagonal(A, b)\n",
    "norm(A*x - b)"
   ]
  },
  {
   "cell_type": "markdown",
   "metadata": {},
   "source": [
    "### Resolve Triangular Superior"
   ]
  },
  {
   "cell_type": "code",
   "execution_count": 27,
   "metadata": {
    "tags": []
   },
   "outputs": [
    {
     "data": {
      "text/plain": [
       "resolve_triangular_superior (generic function with 1 method)"
      ]
     },
     "execution_count": 27,
     "metadata": {},
     "output_type": "execute_result"
    }
   ],
   "source": [
    "# Resolve triangular superior\n",
    "\"\"\"\"\n",
    "RESUMO: Resolve um sistema linear Ax=b que tenha uma matriz triangular superior.\n",
    "        Ou seja, todos os elementos abaixo da diagonal estao zerados.\n",
    "ENTRADA: Matriz A, vetor b\n",
    "SAIDA: vetor x (solucao do sistema)\n",
    "\"\"\"\n",
    "\n",
    "function resolve_triangular_superior(A, b)\n",
    "    rows, cols = size(A)\n",
    "    \n",
    "    # verifica se a matriz é quadrada\n",
    "    if rows != cols\n",
    "        error(\"A matriz deve ser quadrada!\")\n",
    "    end\n",
    "    \n",
    "    # Inicializa o vetor solucao\n",
    "    x = zeros(rows)\n",
    "    \n",
    "    # Calcula cada elemento do vetor x\n",
    "    # substituindo em cada linha, de baixo para cima\n",
    "    for i = rows:-1:1\n",
    "        x[i] = b[i]  # pegamos o bᵢ\n",
    "        for j = i+1:cols\n",
    "            x[i] -= A[i, j] * x[j]  # subtraimos de bᵢ todos os x's que ja \n",
    "                                    # foram calculados (multiplicados pelos coeficientes)\n",
    "        end\n",
    "        x[i] = x[i] / A[i, i]  # Dividimos o resultado pelo coeficiente de xᵢ\n",
    "    end\n",
    "    \n",
    "    return x\n",
    "end"
   ]
  },
  {
   "cell_type": "markdown",
   "metadata": {},
   "source": [
    "#### Exemplo 1 (n = 3)"
   ]
  },
  {
   "cell_type": "code",
   "execution_count": 28,
   "metadata": {},
   "outputs": [
    {
     "data": {
      "text/plain": [
       "3×3 Array{Float64,2}:\n",
       " -2.0  7.0   19.0\n",
       "  0.0  0.5  -10.0\n",
       "  0.0  0.0    3.0"
      ]
     },
     "execution_count": 28,
     "metadata": {},
     "output_type": "execute_result"
    }
   ],
   "source": [
    "A = [-2    7  19;\n",
    "      0  0.5 -10;\n",
    "      0    0   3]"
   ]
  },
  {
   "cell_type": "code",
   "execution_count": 29,
   "metadata": {},
   "outputs": [
    {
     "data": {
      "text/plain": [
       "3-element Array{Float64,1}:\n",
       "   2.0\n",
       "   8.5\n",
       " -11.0"
      ]
     },
     "execution_count": 29,
     "metadata": {},
     "output_type": "execute_result"
    }
   ],
   "source": [
    "b = [2, 8.5, -11]"
   ]
  },
  {
   "cell_type": "code",
   "execution_count": 30,
   "metadata": {},
   "outputs": [
    {
     "data": {
      "text/plain": [
       "3-element Array{Float64,1}:\n",
       " -233.0\n",
       "  -56.33333333333333\n",
       "   -3.6666666666666665"
      ]
     },
     "execution_count": 30,
     "metadata": {},
     "output_type": "execute_result"
    }
   ],
   "source": [
    "x = resolve_triangular_superior(A, b)"
   ]
  },
  {
   "cell_type": "code",
   "execution_count": 31,
   "metadata": {},
   "outputs": [
    {
     "data": {
      "text/plain": [
       "2.842170943040401e-14"
      ]
     },
     "execution_count": 31,
     "metadata": {},
     "output_type": "execute_result"
    }
   ],
   "source": [
    "norm(A*x - b)"
   ]
  },
  {
   "cell_type": "markdown",
   "metadata": {},
   "source": [
    "#### Exemplo 2 (n = 5)"
   ]
  },
  {
   "cell_type": "code",
   "execution_count": 32,
   "metadata": {},
   "outputs": [
    {
     "data": {
      "text/plain": [
       "2.0014830212433605e-16"
      ]
     },
     "execution_count": 32,
     "metadata": {},
     "output_type": "execute_result"
    }
   ],
   "source": [
    "n = 5\n",
    "A = UpperTriangular(rand(n,n))\n",
    "b = rand(n)\n",
    "x = resolve_triangular_superior(A, b)\n",
    "norm(A*x - b)"
   ]
  },
  {
   "cell_type": "markdown",
   "metadata": {},
   "source": [
    "#### Exemplo 3 (n = 20)"
   ]
  },
  {
   "cell_type": "code",
   "execution_count": 33,
   "metadata": {},
   "outputs": [
    {
     "data": {
      "text/plain": [
       "1.344047435343457e-13"
      ]
     },
     "execution_count": 33,
     "metadata": {},
     "output_type": "execute_result"
    }
   ],
   "source": [
    "n = 20\n",
    "A = UpperTriangular(rand(n,n))\n",
    "b = rand(n)\n",
    "x = resolve_triangular_superior(A, b)\n",
    "norm(A*x - b)"
   ]
  },
  {
   "cell_type": "markdown",
   "metadata": {},
   "source": [
    "### Resolve Triangular Inferior"
   ]
  },
  {
   "cell_type": "code",
   "execution_count": 34,
   "metadata": {
    "tags": []
   },
   "outputs": [
    {
     "data": {
      "text/plain": [
       "resolve_triangular_inferior (generic function with 1 method)"
      ]
     },
     "execution_count": 34,
     "metadata": {},
     "output_type": "execute_result"
    }
   ],
   "source": [
    "# Resolve triangular inferior\n",
    "\"\"\"\"\n",
    "RESUMO: Resolve um sistema linear Ax=b que tenha uma matriz triangular inferior.\n",
    "        Ou seja, todos os elementos acima da diagonal estao zerados.\n",
    "ENTRADA: Matriz A, vetor b\n",
    "SAIDA: vetor x (solucao do sistema)\n",
    "\"\"\"\n",
    "\n",
    "function resolve_triangular_inferior(A, b)\n",
    "    rows, cols = size(A)\n",
    "    \n",
    "    # verifica se a matriz é quadrada\n",
    "    if rows != cols\n",
    "        error(\"A matriz deve ser quadrada!\")\n",
    "    end\n",
    "    \n",
    "    # Inicializa o vetor solucao\n",
    "    x = zeros(rows)\n",
    "    \n",
    "    # Calcula cada elemento do vetor x\n",
    "    # substituindo em cada linha, de cima para baixo\n",
    "    for i = 1:rows\n",
    "        x[i] = b[i]  # pegamos o bᵢ\n",
    "        for j = i-1:-1:1\n",
    "            x[i] -= A[i, j] * x[j]  # subtraimos de bᵢ todos os x's que ja \n",
    "                                    # foram calculados (multiplicados pelos coeficientes)\n",
    "        end\n",
    "        x[i] = x[i] / A[i, i]  # Dividimos o resultado pelo coeficiente de xᵢ\n",
    "    end\n",
    "    \n",
    "    return x\n",
    "end"
   ]
  },
  {
   "cell_type": "markdown",
   "metadata": {},
   "source": [
    "#### Exemplo 1 (n = 3)"
   ]
  },
  {
   "cell_type": "code",
   "execution_count": 35,
   "metadata": {},
   "outputs": [
    {
     "data": {
      "text/plain": [
       "3×3 Array{Float64,2}:\n",
       "  9.0   0.0   0.0\n",
       " -7.0   1.0   0.0\n",
       " 56.3  85.0  -2.0"
      ]
     },
     "execution_count": 35,
     "metadata": {},
     "output_type": "execute_result"
    }
   ],
   "source": [
    "A = [  9    0   0;\n",
    "      -7    1   0;\n",
    "    56.3   85  -2]"
   ]
  },
  {
   "cell_type": "code",
   "execution_count": 36,
   "metadata": {},
   "outputs": [
    {
     "data": {
      "text/plain": [
       "3-element Array{Float64,1}:\n",
       " 30.0\n",
       "  2.75\n",
       " -4.1"
      ]
     },
     "execution_count": 36,
     "metadata": {},
     "output_type": "execute_result"
    }
   ],
   "source": [
    "b = [30, 2.75, -4.1]"
   ]
  },
  {
   "cell_type": "code",
   "execution_count": 37,
   "metadata": {},
   "outputs": [
    {
     "data": {
      "text/plain": [
       "3-element Array{Float64,1}:\n",
       "    3.3333333333333335\n",
       "   26.083333333333336\n",
       " 1204.425"
      ]
     },
     "execution_count": 37,
     "metadata": {},
     "output_type": "execute_result"
    }
   ],
   "source": [
    "x = resolve_triangular_inferior(A, b)"
   ]
  },
  {
   "cell_type": "code",
   "execution_count": 38,
   "metadata": {},
   "outputs": [
    {
     "data": {
      "text/plain": [
       "9.059419880941277e-14"
      ]
     },
     "execution_count": 38,
     "metadata": {},
     "output_type": "execute_result"
    }
   ],
   "source": [
    "norm(A*x - b)"
   ]
  },
  {
   "cell_type": "markdown",
   "metadata": {},
   "source": [
    "#### Exemplo 2 (n = 5)"
   ]
  },
  {
   "cell_type": "code",
   "execution_count": 39,
   "metadata": {},
   "outputs": [
    {
     "data": {
      "text/plain": [
       "2.220446049250313e-16"
      ]
     },
     "execution_count": 39,
     "metadata": {},
     "output_type": "execute_result"
    }
   ],
   "source": [
    "n = 5\n",
    "A = LowerTriangular(rand(n,n))\n",
    "b = rand(n)\n",
    "x = resolve_triangular_inferior(A, b)\n",
    "norm(A*x - b)"
   ]
  },
  {
   "cell_type": "markdown",
   "metadata": {},
   "source": [
    "#### Exemplo 3 (n = 20)"
   ]
  },
  {
   "cell_type": "code",
   "execution_count": 40,
   "metadata": {},
   "outputs": [
    {
     "data": {
      "text/plain": [
       "6.601394530048832e-14"
      ]
     },
     "execution_count": 40,
     "metadata": {},
     "output_type": "execute_result"
    }
   ],
   "source": [
    "n = 20\n",
    "A = LowerTriangular(rand(n,n))\n",
    "b = rand(n)\n",
    "x = resolve_triangular_inferior(A, b)\n",
    "norm(A*x - b)"
   ]
  },
  {
   "cell_type": "markdown",
   "metadata": {},
   "source": [
    "### Eliminação Gaussiana"
   ]
  },
  {
   "cell_type": "code",
   "execution_count": 41,
   "metadata": {},
   "outputs": [
    {
     "data": {
      "text/plain": [
       "eliminacao_gaussiana (generic function with 1 method)"
      ]
     },
     "execution_count": 41,
     "metadata": {},
     "output_type": "execute_result"
    }
   ],
   "source": [
    "\"\"\"\n",
    "RESUMO: Funçao que executa a eliminacao gaussiana em uma matriz A e um vetor b.\n",
    "ENTRADA: Matriz A, vetor b\n",
    "SAIDA: Nada\n",
    "OBS: Modifica as entradas!\n",
    "\"\"\"\n",
    "\n",
    "function eliminacao_gaussiana(A, b)\n",
    "    rows, cols = size(A)\n",
    "    for j = 1:cols\n",
    "        non_zero_cols = j+1:cols\n",
    "        for i = j+1:rows\n",
    "            mᵢⱼ = A[i, j] / A[j, j]  # multiplicador que vai zerar a coluna\n",
    "            A[i, non_zero_cols] -= mᵢⱼ * A[j, non_zero_cols]  # subtracao das linhas de A\n",
    "            A[i, j] = 0  # zera cada elemento abaixo do pivô na coluna j\n",
    "            b[i] -= mᵢⱼ * b[j]  # subtracao das linhas de b\n",
    "        end\n",
    "    end\n",
    "end"
   ]
  },
  {
   "cell_type": "markdown",
   "metadata": {},
   "source": [
    "#### Exemplo 1 (n = 3)"
   ]
  },
  {
   "cell_type": "code",
   "execution_count": 42,
   "metadata": {},
   "outputs": [
    {
     "data": {
      "text/plain": [
       "3×3 Array{Float64,2}:\n",
       " 0.703064   0.133608  0.707469\n",
       " 0.0937712  0.208138  0.222803\n",
       " 0.647296   0.675946  0.808861"
      ]
     },
     "execution_count": 42,
     "metadata": {},
     "output_type": "execute_result"
    }
   ],
   "source": [
    "n = 3\n",
    "A = rand(n,n)\n",
    "Acopy = copy(A)"
   ]
  },
  {
   "cell_type": "code",
   "execution_count": 43,
   "metadata": {},
   "outputs": [
    {
     "data": {
      "text/plain": [
       "3-element Array{Float64,1}:\n",
       " 0.528945169202389\n",
       " 0.557835077470618\n",
       " 0.36002884347070485"
      ]
     },
     "execution_count": 43,
     "metadata": {},
     "output_type": "execute_result"
    }
   ],
   "source": [
    "b = rand(n)\n",
    "bcopy = copy(b)"
   ]
  },
  {
   "cell_type": "code",
   "execution_count": 44,
   "metadata": {},
   "outputs": [
    {
     "data": {
      "text/plain": [
       "3×3 Array{Float64,2}:\n",
       " 0.703064  0.133608   0.707469\n",
       " 0.0       0.190318   0.128444\n",
       " 0.0       0.0       -0.215665"
      ]
     },
     "execution_count": 44,
     "metadata": {},
     "output_type": "execute_result"
    }
   ],
   "source": [
    "eliminacao_gaussiana(A, b)\n",
    "A"
   ]
  },
  {
   "cell_type": "code",
   "execution_count": 45,
   "metadata": {},
   "outputs": [
    {
     "data": {
      "text/plain": [
       "3-element Array{Float64,1}:\n",
       "  0.528945169202389\n",
       "  0.48728701445120354\n",
       " -1.542691784953329"
      ]
     },
     "execution_count": 45,
     "metadata": {},
     "output_type": "execute_result"
    }
   ],
   "source": [
    "b"
   ]
  },
  {
   "cell_type": "code",
   "execution_count": 46,
   "metadata": {},
   "outputs": [
    {
     "data": {
      "text/plain": [
       "1.2947314098277875e-15"
      ]
     },
     "execution_count": 46,
     "metadata": {},
     "output_type": "execute_result"
    }
   ],
   "source": [
    "# Testar (resolvendo o sistema)\n",
    "x = resolve_triangular_superior(A, b)\n",
    "norm(Acopy * x - bcopy)"
   ]
  },
  {
   "cell_type": "markdown",
   "metadata": {},
   "source": [
    "#### Exemplo 2 (n = 5, x random)"
   ]
  },
  {
   "cell_type": "code",
   "execution_count": 47,
   "metadata": {},
   "outputs": [
    {
     "data": {
      "text/plain": [
       "5"
      ]
     },
     "execution_count": 47,
     "metadata": {},
     "output_type": "execute_result"
    }
   ],
   "source": [
    "n = 5"
   ]
  },
  {
   "cell_type": "code",
   "execution_count": 48,
   "metadata": {},
   "outputs": [
    {
     "data": {
      "text/plain": [
       "5×5 Array{Float64,2}:\n",
       " 0.279028   0.395015   0.386645  0.562743  0.557644\n",
       " 0.0880968  0.8894     0.768997  0.466216  0.170772\n",
       " 0.878041   0.848215   0.633783  0.67333   0.920131\n",
       " 0.36233    0.700813   0.386151  0.413187  0.459361\n",
       " 0.31071    0.0341095  0.442445  0.363246  0.787025"
      ]
     },
     "execution_count": 48,
     "metadata": {},
     "output_type": "execute_result"
    }
   ],
   "source": [
    "A = rand(n,n)\n",
    "Acopy = copy(A)"
   ]
  },
  {
   "cell_type": "code",
   "execution_count": 49,
   "metadata": {},
   "outputs": [
    {
     "data": {
      "text/plain": [
       "5-element Array{Float64,1}:\n",
       " 0.3119574382306023\n",
       " 0.05275843755213794\n",
       " 0.32723934297298407\n",
       " 0.30545830157720233\n",
       " 0.8359595900951289"
      ]
     },
     "execution_count": 49,
     "metadata": {},
     "output_type": "execute_result"
    }
   ],
   "source": [
    "b = rand(n)\n",
    "bcopy = copy(b)"
   ]
  },
  {
   "cell_type": "code",
   "execution_count": 50,
   "metadata": {},
   "outputs": [
    {
     "data": {
      "text/plain": [
       "5×5 Array{Float64,2}:\n",
       " 0.279028  0.395015   0.386645   0.562743   0.557644\n",
       " 0.0       0.764683   0.646922   0.288543  -0.00529135\n",
       " 0.0       0.0       -0.248896  -0.948522  -0.837383\n",
       " 0.0       0.0        0.0        0.659028   0.66128\n",
       " 0.0       0.0        0.0        0.0        0.43714"
      ]
     },
     "execution_count": 50,
     "metadata": {},
     "output_type": "execute_result"
    }
   ],
   "source": [
    "eliminacao_gaussiana(A, b)\n",
    "A"
   ]
  },
  {
   "cell_type": "code",
   "execution_count": 51,
   "metadata": {},
   "outputs": [
    {
     "data": {
      "text/plain": [
       "5-element Array{Float64,1}:\n",
       "  0.3119574382306023\n",
       " -0.04573491188800913\n",
       " -0.6780350695347649\n",
       "  0.6603757431195102\n",
       "  0.9635729488360436"
      ]
     },
     "execution_count": 51,
     "metadata": {},
     "output_type": "execute_result"
    }
   ],
   "source": [
    "b"
   ]
  },
  {
   "cell_type": "code",
   "execution_count": 52,
   "metadata": {},
   "outputs": [
    {
     "data": {
      "text/plain": [
       "5.117875266520903e-16"
      ]
     },
     "execution_count": 52,
     "metadata": {},
     "output_type": "execute_result"
    }
   ],
   "source": [
    "# Testar (resolvendo o sistema)\n",
    "x = resolve_triangular_superior(A, b)\n",
    "norm(Acopy * x - bcopy)"
   ]
  },
  {
   "cell_type": "markdown",
   "metadata": {},
   "source": [
    "#### Exemplo 3 (n = 20, x random)"
   ]
  },
  {
   "cell_type": "code",
   "execution_count": 53,
   "metadata": {},
   "outputs": [
    {
     "data": {
      "text/plain": [
       "1.746047295500239e-13"
      ]
     },
     "execution_count": 53,
     "metadata": {},
     "output_type": "execute_result"
    }
   ],
   "source": [
    "n = 20\n",
    "A = rand(n,n)\n",
    "Acopy = copy(A)\n",
    "b = rand(n)\n",
    "bcopy = copy(b)\n",
    "eliminacao_gaussiana(A, b)\n",
    "\n",
    "# Testar (resolvendo o sistema)\n",
    "x = resolve_triangular_superior(A, b)\n",
    "norm(Acopy * x - bcopy)"
   ]
  },
  {
   "cell_type": "markdown",
   "metadata": {},
   "source": [
    "### Resolve Cheia"
   ]
  },
  {
   "cell_type": "code",
   "execution_count": 54,
   "metadata": {},
   "outputs": [
    {
     "data": {
      "text/plain": [
       "resolve_cheia (generic function with 1 method)"
      ]
     },
     "execution_count": 54,
     "metadata": {},
     "output_type": "execute_result"
    }
   ],
   "source": [
    "\"\"\"\n",
    "RESUMO: Resolve um sistema linear com uma matriz quadrada \"cheia\".\n",
    "        Ou seja, que nao é triangular nem diagonal.\n",
    "ENTRADA: Matriz A, vetor b\n",
    "SAIDA: Vetor x, solucao do sistema.\n",
    "OBS: Modifica as entradas!\n",
    "\"\"\"\n",
    "\n",
    "function resolve_cheia(A, b)\n",
    "    eliminacao_gaussiana(A,b)\n",
    "    x = resolve_triangular_superior(A,b)\n",
    "    return x\n",
    "end"
   ]
  },
  {
   "cell_type": "markdown",
   "metadata": {},
   "source": [
    "#### Exemplo 1 (n = 3)"
   ]
  },
  {
   "cell_type": "code",
   "execution_count": 55,
   "metadata": {},
   "outputs": [
    {
     "data": {
      "text/plain": [
       "3×3 Array{Float64,2}:\n",
       " 2.0  -4.0   1.0\n",
       " 9.0  18.0  -7.34\n",
       " 0.0   0.2  45.0"
      ]
     },
     "execution_count": 55,
     "metadata": {},
     "output_type": "execute_result"
    }
   ],
   "source": [
    "A = [2   -4      1;\n",
    "     9   18  -7.34;\n",
    "     0  0.2     45]\n",
    "Acopy = copy(A)"
   ]
  },
  {
   "cell_type": "code",
   "execution_count": 56,
   "metadata": {},
   "outputs": [
    {
     "data": {
      "text/plain": [
       "3-element Array{Float64,1}:\n",
       " -1.0\n",
       " 84.0\n",
       "  4.333"
      ]
     },
     "execution_count": 56,
     "metadata": {},
     "output_type": "execute_result"
    }
   ],
   "source": [
    "b = [-1, 84, 4.333]\n",
    "bcopy = copy(b)"
   ]
  },
  {
   "cell_type": "code",
   "execution_count": 57,
   "metadata": {},
   "outputs": [
    {
     "data": {
      "text/plain": [
       "3-element Array{Float64,1}:\n",
       " 4.43011538689126\n",
       " 2.486367285350796\n",
       " 0.08523836762066314"
      ]
     },
     "execution_count": 57,
     "metadata": {},
     "output_type": "execute_result"
    }
   ],
   "source": [
    "x = resolve_cheia(A, b)"
   ]
  },
  {
   "cell_type": "code",
   "execution_count": 58,
   "metadata": {},
   "outputs": [
    {
     "data": {
      "text/plain": [
       "0.0"
      ]
     },
     "execution_count": 58,
     "metadata": {},
     "output_type": "execute_result"
    }
   ],
   "source": [
    "norm(Acopy * x - bcopy)"
   ]
  },
  {
   "cell_type": "markdown",
   "metadata": {},
   "source": [
    "#### Exemplo 2 (n = 5)"
   ]
  },
  {
   "cell_type": "code",
   "execution_count": 59,
   "metadata": {},
   "outputs": [
    {
     "data": {
      "text/plain": [
       "4.920258062434079e-16"
      ]
     },
     "execution_count": 59,
     "metadata": {},
     "output_type": "execute_result"
    }
   ],
   "source": [
    "n = 5\n",
    "A = rand(n,n)\n",
    "Acopy = copy(A)\n",
    "b = rand(n)\n",
    "bcopy = copy(b)\n",
    "x = resolve_cheia(A, b)\n",
    "norm(Acopy * x - bcopy)"
   ]
  },
  {
   "cell_type": "markdown",
   "metadata": {},
   "source": [
    "#### Exemplo 3 (n = 20)"
   ]
  },
  {
   "cell_type": "code",
   "execution_count": 60,
   "metadata": {},
   "outputs": [
    {
     "data": {
      "text/plain": [
       "9.371452987519498e-14"
      ]
     },
     "execution_count": 60,
     "metadata": {},
     "output_type": "execute_result"
    }
   ],
   "source": [
    "n = 20\n",
    "A = rand(n,n)\n",
    "Acopy = copy(A)\n",
    "b = rand(n)\n",
    "bcopy = copy(b)\n",
    "x = resolve_cheia(A, b)\n",
    "norm(Acopy * x - bcopy)"
   ]
  },
  {
   "cell_type": "markdown",
   "metadata": {},
   "source": [
    "### Decomposição LU "
   ]
  },
  {
   "cell_type": "code",
   "execution_count": 61,
   "metadata": {},
   "outputs": [
    {
     "data": {
      "text/plain": [
       "decomposicao_LU (generic function with 1 method)"
      ]
     },
     "execution_count": 61,
     "metadata": {},
     "output_type": "execute_result"
    }
   ],
   "source": [
    "\"\"\"\n",
    "RESUMO: Aplica a eliminacao gaussiana na matriz e salva os multiplicadores utilizados\n",
    "        para decompor uma matriz A em uma matriz triangular inferior L(Lower) e uma matriz\n",
    "        triangular superior U(Upper). A matriz L pode ser utilizada para aplicar a eliminacao\n",
    "        gaussiana em um vetor com complexidade O(n^2) em vez de O(n^3).\n",
    "ENTRADA: Matriz A\n",
    "SAIDA: Matriz L e matriz U\n",
    "\"\"\"\n",
    "\n",
    "function decomposicao_LU(A)\n",
    "    rows, cols = size(A)\n",
    "    U = copy(A)\n",
    "    # Inicia L como uma matriz identidade\n",
    "    L = Matrix(1.0I, rows, cols)\n",
    "    for j = 1:cols\n",
    "        non_zero_cols = j+1:cols\n",
    "        for i = j+1:rows\n",
    "            L[i, j] = U[i, j] / U[j, j]  # multiplicador que vai zerar a coluna\n",
    "            U[i, non_zero_cols] -= L[i, j] * U[j, non_zero_cols]  # subtracao das linhas de A\n",
    "            U[i, j] = 0  # zera cada elemento abaixo do pivô na coluna j\n",
    "        end\n",
    "    end\n",
    "    return L, U\n",
    "end"
   ]
  },
  {
   "cell_type": "markdown",
   "metadata": {},
   "source": [
    "#### Exemplo 1 (n = 3)"
   ]
  },
  {
   "cell_type": "code",
   "execution_count": 62,
   "metadata": {},
   "outputs": [
    {
     "data": {
      "text/plain": [
       "3×3 Array{Float64,2}:\n",
       " 45.0   6.777  -1.59\n",
       "  3.0   9.0    -0.1\n",
       " 10.0  45.0     1.0"
      ]
     },
     "execution_count": 62,
     "metadata": {},
     "output_type": "execute_result"
    }
   ],
   "source": [
    "A = [45  6.777  -1.59;\n",
    "      3      9   -0.1;\n",
    "     10     45      1]"
   ]
  },
  {
   "cell_type": "code",
   "execution_count": 63,
   "metadata": {},
   "outputs": [
    {
     "data": {
      "text/plain": [
       "3-element Array{Float64,1}:\n",
       "   9.0\n",
       "  18.0\n",
       " -75.1"
      ]
     },
     "execution_count": 63,
     "metadata": {},
     "output_type": "execute_result"
    }
   ],
   "source": [
    "b = [9.0, 18.0, -75.1]"
   ]
  },
  {
   "cell_type": "code",
   "execution_count": 64,
   "metadata": {},
   "outputs": [
    {
     "data": {
      "text/plain": [
       "3×3 Array{Float64,2}:\n",
       " 1.0        0.0      0.0\n",
       " 0.0666667  1.0      0.0\n",
       " 0.222222   5.08809  1.0"
      ]
     },
     "execution_count": 64,
     "metadata": {},
     "output_type": "execute_result"
    }
   ],
   "source": [
    "L, U = decomposicao_LU(A)\n",
    "L"
   ]
  },
  {
   "cell_type": "code",
   "execution_count": 65,
   "metadata": {},
   "outputs": [
    {
     "data": {
      "text/plain": [
       "3×3 Array{Float64,2}:\n",
       " 45.0  6.777   -1.59\n",
       "  0.0  8.5482   0.006\n",
       "  0.0  0.0      1.3228"
      ]
     },
     "execution_count": 65,
     "metadata": {},
     "output_type": "execute_result"
    }
   ],
   "source": [
    "U"
   ]
  },
  {
   "cell_type": "code",
   "execution_count": 66,
   "metadata": {},
   "outputs": [
    {
     "data": {
      "text/plain": [
       "3×3 Array{Float64,2}:\n",
       " 0.0   0.0          0.0\n",
       " 0.0   0.0          0.0\n",
       " 0.0  -7.10543e-15  0.0"
      ]
     },
     "execution_count": 66,
     "metadata": {},
     "output_type": "execute_result"
    }
   ],
   "source": [
    "A - L * U"
   ]
  },
  {
   "cell_type": "markdown",
   "metadata": {},
   "source": [
    "#### Exemplo 2 (n = 5)"
   ]
  },
  {
   "cell_type": "code",
   "execution_count": 67,
   "metadata": {},
   "outputs": [
    {
     "data": {
      "text/plain": [
       "5×5 Array{Float64,2}:\n",
       "  0.0          0.0   0.0           0.0          0.0\n",
       "  0.0          0.0   0.0           0.0          0.0\n",
       " -6.93889e-18  0.0   1.11022e-16  -1.11022e-16  0.0\n",
       "  0.0          0.0  -1.11022e-16   0.0          0.0\n",
       "  0.0          0.0   0.0           0.0          0.0"
      ]
     },
     "execution_count": 67,
     "metadata": {},
     "output_type": "execute_result"
    }
   ],
   "source": [
    "n = 5\n",
    "A = rand(n,n)\n",
    "b = rand(n)\n",
    "L, U = decomposicao_LU(A)\n",
    "A - L*U"
   ]
  },
  {
   "cell_type": "markdown",
   "metadata": {},
   "source": [
    "#### Exemplo 3 (n = 20)"
   ]
  },
  {
   "cell_type": "code",
   "execution_count": 68,
   "metadata": {},
   "outputs": [
    {
     "data": {
      "text/plain": [
       "20×20 Array{Float64,2}:\n",
       "  0.0          0.0           0.0          …   0.0           0.0\n",
       "  0.0          0.0           0.0              0.0           0.0\n",
       "  0.0          1.38778e-17   0.0              0.0           0.0\n",
       "  0.0          0.0           0.0              5.55112e-17   0.0\n",
       "  0.0          0.0           0.0              0.0           4.44089e-16\n",
       "  0.0          0.0           6.93889e-18  …   1.11022e-16   2.22045e-16\n",
       "  0.0          0.0           0.0              0.0          -2.22045e-16\n",
       "  0.0          0.0           0.0              0.0           2.63678e-16\n",
       " -2.77556e-17  0.0           0.0              1.11022e-16   2.22045e-16\n",
       "  0.0          0.0           1.11022e-16      0.0           3.33067e-16\n",
       "  0.0          0.0           0.0          …  -2.22045e-16   1.9984e-15\n",
       "  0.0          0.0           0.0              0.0           0.0\n",
       "  0.0          0.0           0.0             -1.11022e-16  -8.88178e-16\n",
       "  0.0          0.0           0.0              3.33067e-16  -7.77156e-16\n",
       "  0.0          0.0           0.0              0.0           1.11022e-16\n",
       "  0.0          0.0           0.0          …   4.44089e-16   0.0\n",
       "  0.0          0.0           0.0              4.44089e-16  -6.66134e-16\n",
       "  0.0          0.0           0.0              6.66134e-16  -2.22045e-16\n",
       "  0.0          0.0          -5.55112e-17      2.22045e-16  -2.22045e-16\n",
       "  0.0          0.0           1.11022e-16      7.21645e-16  -2.22045e-16"
      ]
     },
     "execution_count": 68,
     "metadata": {},
     "output_type": "execute_result"
    }
   ],
   "source": [
    "n = 20\n",
    "A = rand(n,n)\n",
    "b = rand(n)\n",
    "L, U = decomposicao_LU(A)\n",
    "A - L*U"
   ]
  },
  {
   "cell_type": "markdown",
   "metadata": {},
   "source": [
    "### Resolve Pós-LU "
   ]
  },
  {
   "cell_type": "code",
   "execution_count": 69,
   "metadata": {},
   "outputs": [
    {
     "data": {
      "text/plain": [
       "resolve_pos_LU (generic function with 1 method)"
      ]
     },
     "execution_count": 69,
     "metadata": {},
     "output_type": "execute_result"
    }
   ],
   "source": [
    "\"\"\"\n",
    "RESUMO: Esta funcao deve ser utilizada depois que fizemos uma decomposicao LU.\n",
    "        Quando fazemos essa decomposicao LU em um sistema linear temos o seguinte:\n",
    "\n",
    "        Ax = b\n",
    "        LUx = b; y = Ux\n",
    "        Ly = b\n",
    "        y = L⁻¹b\n",
    "        Ux = L⁻¹b\n",
    "        x = U⁻¹L⁻¹b\n",
    "\n",
    "        Esta funcao primeiro vai resolver o sistema Ly = b para depois resolver \n",
    "        o sistema Ux = y.\n",
    "        A complexidade dessa funcao é apenas O(n²), contra O(n³) de uma eliminacao \n",
    "        gaussiana normal.\n",
    "\n",
    "ENTRADA: Matriz L, Matriz U, Vetor b\n",
    "SAIDA: Vetor x (solucao de LUx = b)\n",
    "\"\"\"\n",
    "\n",
    "function resolve_pos_LU(L, U, b)\n",
    "    y = resolve_triangular_inferior(L, b)\n",
    "    x = resolve_triangular_superior(U, y)\n",
    "    return x\n",
    "end"
   ]
  },
  {
   "cell_type": "markdown",
   "metadata": {},
   "source": [
    "#### Exemplo 1 (n = 3)"
   ]
  },
  {
   "cell_type": "code",
   "execution_count": 70,
   "metadata": {},
   "outputs": [
    {
     "data": {
      "text/plain": [
       "3×3 Array{Float64,2}:\n",
       "   1.0  0.0   0.0\n",
       "  23.0  1.0   0.0\n",
       " -91.0  1.11  1.0"
      ]
     },
     "execution_count": 70,
     "metadata": {},
     "output_type": "execute_result"
    }
   ],
   "source": [
    "L = [  1     0  0;\n",
    "      23     1  0;\n",
    "     -91  1.11  1]"
   ]
  },
  {
   "cell_type": "code",
   "execution_count": 71,
   "metadata": {},
   "outputs": [
    {
     "data": {
      "text/plain": [
       "3×3 Array{Float64,2}:\n",
       " 6.0   70.0  -10.0\n",
       " 0.0  241.0   99.999\n",
       " 0.0    0.0   -1.0"
      ]
     },
     "execution_count": 71,
     "metadata": {},
     "output_type": "execute_result"
    }
   ],
   "source": [
    "U = [6  70     -10\n",
    "     0 241  99.999\n",
    "     0   0      -1]"
   ]
  },
  {
   "cell_type": "code",
   "execution_count": 72,
   "metadata": {},
   "outputs": [
    {
     "data": {
      "text/plain": [
       "3-element Array{Float64,1}:\n",
       " 64.0\n",
       " 13.171\n",
       " -0.4"
      ]
     },
     "execution_count": 72,
     "metadata": {},
     "output_type": "execute_result"
    }
   ],
   "source": [
    "b = [64, 13.171, -0.4]"
   ]
  },
  {
   "cell_type": "code",
   "execution_count": 73,
   "metadata": {},
   "outputs": [
    {
     "data": {
      "text/plain": [
       "3-element Array{Float64,1}:\n",
       " -48353.82279037807\n",
       "   3082.2562120324064\n",
       "  -7442.90019"
      ]
     },
     "execution_count": 73,
     "metadata": {},
     "output_type": "execute_result"
    }
   ],
   "source": [
    "x = resolve_pos_LU(L, U, b)"
   ]
  },
  {
   "cell_type": "code",
   "execution_count": 74,
   "metadata": {},
   "outputs": [
    {
     "data": {
      "text/plain": [
       "3.326949296948146e-9"
      ]
     },
     "execution_count": 74,
     "metadata": {},
     "output_type": "execute_result"
    }
   ],
   "source": [
    "norm(L * U * x - b)"
   ]
  },
  {
   "cell_type": "markdown",
   "metadata": {},
   "source": [
    "#### Exemplo 2 (n = 5)"
   ]
  },
  {
   "cell_type": "code",
   "execution_count": 75,
   "metadata": {},
   "outputs": [
    {
     "data": {
      "text/plain": [
       "2.8413902102441495e-15"
      ]
     },
     "execution_count": 75,
     "metadata": {},
     "output_type": "execute_result"
    }
   ],
   "source": [
    "n = 5\n",
    "L = UnitLowerTriangular(rand(n,n))\n",
    "U = UpperTriangular(rand(n,n))\n",
    "b = rand(n)\n",
    "x = resolve_pos_LU(L, U, b)\n",
    "norm(L*U*x - b)"
   ]
  },
  {
   "cell_type": "markdown",
   "metadata": {},
   "source": [
    "#### Exemplo 3 (n = 20)"
   ]
  },
  {
   "cell_type": "code",
   "execution_count": 76,
   "metadata": {},
   "outputs": [
    {
     "data": {
      "text/plain": [
       "2.3869858014633674e-11"
      ]
     },
     "execution_count": 76,
     "metadata": {},
     "output_type": "execute_result"
    }
   ],
   "source": [
    "n = 20\n",
    "L = UnitLowerTriangular(rand(n,n))\n",
    "U = UpperTriangular(rand(n,n))\n",
    "b = rand(n)\n",
    "x = resolve_pos_LU(L, U, b)\n",
    "norm(L*U*x - b)"
   ]
  },
  {
   "cell_type": "markdown",
   "metadata": {},
   "source": [
    "### Acha inversa "
   ]
  },
  {
   "cell_type": "code",
   "execution_count": 77,
   "metadata": {},
   "outputs": [
    {
     "data": {
      "text/plain": [
       "acha_inversa (generic function with 1 method)"
      ]
     },
     "execution_count": 77,
     "metadata": {},
     "output_type": "execute_result"
    }
   ],
   "source": [
    "\"\"\"\n",
    "RESUMO: Vamos achar a inversa de uma matriz A utilizando a decomposicao LU.\n",
    "        Primeiro, vamos decompor A em L * U.\n",
    "        Depois, vamos usar os vetores canonicos da matriz identidade como\n",
    "        valores de b no sistema linear LUx = b.\n",
    "        Ou seja, vamos descobrir os vetores que fazem parte da matriz inversa de A\n",
    "        calculando um x para cada vetor na matriz identidade com as mesmas dimensoes que A.\n",
    "\n",
    "ENTRADA: Matriz A\n",
    "SAIDA: Matriz A⁻¹ (inversa de A)\n",
    "\"\"\"\n",
    "\n",
    "function acha_inversa(A)\n",
    "    rows, cols = size(A)  # Pega as dimensoes de A\n",
    "    L, U = decomposicao_LU(A)  # Faz a decomposicao LU\n",
    "    A⁻¹ = []\n",
    "    for i = 1:cols\n",
    "        id_vector = zeros(cols)\n",
    "        id_vector[i] = 1.0  # Monta cada coluna da identidade\n",
    "        x = resolve_pos_LU(L, U, id_vector)  # resolve um sistema para cada coluna da identidade\n",
    "        append!(A⁻¹, x)  # Adiciona os elemetos do vetor x numa array\n",
    "    end\n",
    "    A⁻¹ = reshape(A⁻¹, rows, cols)  # Formata a array como uma matriz quadrada\n",
    "    return A⁻¹\n",
    "end"
   ]
  },
  {
   "cell_type": "markdown",
   "metadata": {},
   "source": [
    "#### Exemplo 1 (n = 3)"
   ]
  },
  {
   "cell_type": "code",
   "execution_count": 78,
   "metadata": {},
   "outputs": [
    {
     "data": {
      "text/plain": [
       "3×3 Array{Float64,2}:\n",
       "  2.0  49.0  -12.0\n",
       "  0.5  10.0    1.0\n",
       " -9.0   0.0   54.888"
      ]
     },
     "execution_count": 78,
     "metadata": {},
     "output_type": "execute_result"
    }
   ],
   "source": [
    "A = [  2  49     -12;\n",
    "     0.5  10       1;\n",
    "      -9   0  54.888]"
   ]
  },
  {
   "cell_type": "code",
   "execution_count": 79,
   "metadata": {},
   "outputs": [
    {
     "data": {
      "text/plain": [
       "3×3 Array{Any,2}:\n",
       " -0.310453    1.52122     -0.0955885\n",
       "  0.0206132  -0.00100453   0.0045249\n",
       " -0.0509051   0.249435     0.00254525"
      ]
     },
     "execution_count": 79,
     "metadata": {},
     "output_type": "execute_result"
    }
   ],
   "source": [
    "A⁻¹ = acha_inversa(A)"
   ]
  },
  {
   "cell_type": "code",
   "execution_count": 80,
   "metadata": {},
   "outputs": [
    {
     "data": {
      "text/plain": [
       "3×3 Array{Any,2}:\n",
       "  1.0          0.0          6.93889e-18\n",
       "  2.08167e-17  1.0          8.67362e-18\n",
       " -2.66454e-15  1.06581e-14  1.0"
      ]
     },
     "execution_count": 80,
     "metadata": {},
     "output_type": "execute_result"
    }
   ],
   "source": [
    "A * A⁻¹"
   ]
  },
  {
   "cell_type": "markdown",
   "metadata": {},
   "source": [
    "#### Exemplo 2 (n = 5)"
   ]
  },
  {
   "cell_type": "code",
   "execution_count": 81,
   "metadata": {},
   "outputs": [
    {
     "data": {
      "text/plain": [
       "true"
      ]
     },
     "execution_count": 81,
     "metadata": {},
     "output_type": "execute_result"
    }
   ],
   "source": [
    "n = 5\n",
    "A = rand(n,n)\n",
    "b = rand(n)\n",
    "A⁻¹ = acha_inversa(A)\n",
    "A * A⁻¹ ≈ I"
   ]
  },
  {
   "cell_type": "markdown",
   "metadata": {},
   "source": [
    "#### Exemplo 3 (n = 20)"
   ]
  },
  {
   "cell_type": "code",
   "execution_count": 82,
   "metadata": {},
   "outputs": [
    {
     "data": {
      "text/plain": [
       "true"
      ]
     },
     "execution_count": 82,
     "metadata": {},
     "output_type": "execute_result"
    }
   ],
   "source": [
    "n = 20\n",
    "A = rand(n,n)\n",
    "b = rand(n)\n",
    "A⁻¹ = acha_inversa(A)\n",
    "A * A⁻¹ ≈ I"
   ]
  },
  {
   "cell_type": "markdown",
   "metadata": {},
   "source": [
    "### Interpolação Coeficientes"
   ]
  },
  {
   "cell_type": "code",
   "execution_count": 83,
   "metadata": {},
   "outputs": [
    {
     "data": {
      "text/plain": [
       "interpolação_coeficientes"
      ]
     },
     "execution_count": 83,
     "metadata": {},
     "output_type": "execute_result"
    }
   ],
   "source": [
    "\"\"\"\n",
    "RESUMO: É um método no qual instanciamos um novo conjunto de dados utilizando interpolação polinomial em \n",
    "        vista de construir novos pontos de dados no alcance de pontos já conhecidos.\n",
    "ENTRADA: pontos_x, pontos_y, grau\n",
    "SAIDA: coeficientes\n",
    "\"\"\"\n",
    "function interpolação_coeficientes(pontos_x,pontos_y, grau)\n",
    "    V=matrix_de_vandermonde(pontos_x,grau)\n",
    "    coeficientes=resolve_cheia(V,pontos_y)\n",
    "    return coeficientes\n",
    "end"
   ]
  },
  {
   "cell_type": "markdown",
   "metadata": {},
   "source": [
    "#### Exemplos"
   ]
  },
  {
   "cell_type": "code",
   "execution_count": 84,
   "metadata": {},
   "outputs": [
    {
     "ename": "LoadError",
     "evalue": "\u001b[91mUndefVarError: matrix_de_vandermonde not defined\u001b[39m",
     "output_type": "error",
     "traceback": [
      "\u001b[91mUndefVarError: matrix_de_vandermonde not defined\u001b[39m",
      "",
      "Stacktrace:",
      " [1] interpolação_coeficientes(::Array{Float64,1}, ::Array{Float64,1}, ::Int64) at ./In[83]:8",
      " [2] top-level scope at In[84]:4",
      " [3] include_string(::Function, ::Module, ::String, ::String) at ./loading.jl:1091"
     ]
    }
   ],
   "source": [
    "#Exemplo 1\n",
    "x = [1000.0, 300.0, 6000.0]\n",
    "y = [4.0,6.0, 11.0]\n",
    "cs= interpolação_coeficientes(x,y,3)\n",
    "print(\"c₀ = $(cs[1]), c₁ = $(cs[2]), c₂ = $(cs[3])\")"
   ]
  },
  {
   "cell_type": "code",
   "execution_count": 85,
   "metadata": {},
   "outputs": [
    {
     "ename": "LoadError",
     "evalue": "\u001b[91mUndefVarError: matrix_de_vandermonde not defined\u001b[39m",
     "output_type": "error",
     "traceback": [
      "\u001b[91mUndefVarError: matrix_de_vandermonde not defined\u001b[39m",
      "",
      "Stacktrace:",
      " [1] interpolação_coeficientes(::Array{Float64,1}, ::Array{Float64,1}, ::Int64) at ./In[83]:8",
      " [2] top-level scope at In[85]:4",
      " [3] include_string(::Function, ::Module, ::String, ::String) at ./loading.jl:1091"
     ]
    }
   ],
   "source": [
    "#Exemplo 2\n",
    "x = [50.0, 75.0, 45.0, 60.0, 44.0, 5.0]\n",
    "y = [1.0, 7.0, 8.0, 10.0, 15.0, 20.0]\n",
    "cs= interpolação_coeficientes(x,y,length(x))\n",
    "print(\"c₀ = $(cs[1]), c₁ = $(cs[2]), c₂ = $(cs[3]), c₃ = $(cs[6]), c₄ = $(cs[5]), c₅ = $(cs[6])\")"
   ]
  },
  {
   "cell_type": "code",
   "execution_count": 86,
   "metadata": {},
   "outputs": [
    {
     "ename": "LoadError",
     "evalue": "\u001b[91mUndefVarError: matrix_de_vandermonde not defined\u001b[39m",
     "output_type": "error",
     "traceback": [
      "\u001b[91mUndefVarError: matrix_de_vandermonde not defined\u001b[39m",
      "",
      "Stacktrace:",
      " [1] interpolação_coeficientes(::Array{Float64,1}, ::Array{Float64,1}, ::Int64) at ./In[83]:8",
      " [2] top-level scope at In[86]:4",
      " [3] include_string(::Function, ::Module, ::String, ::String) at ./loading.jl:1091"
     ]
    }
   ],
   "source": [
    "#Exemplo 3\n",
    "x = [11.0, 250.0,145.0]\n",
    "y = [4.0,15.0, 27.0]\n",
    "cs= interpolação_coeficientes(x,y,3)\n",
    "print(\"c₀ = $(cs[1]), c₁ = $(cs[2]), c₂ = $(cs[3])\")"
   ]
  },
  {
   "cell_type": "markdown",
   "metadata": {},
   "source": [
    "### Função Matriz de Vandermonde\n",
    "É uma matriz que tem um formato:\n",
    "\n",
    "$M=\\left(\\begin{array}{llll} 1 & 1 & \\cdots & 1 \\\\ a_1 & a_2 & \\cdots & a_n \\\\ a_1^2 & a_2^2 & \\cdots & a_n^2 \\\\ \\vdots & \\vdots & \\ddots & \\vdots \\\\ a_1^{n-1} & a_2^{n-1} & \\cdots & a_n^{n-1} \\end{array}\\right)$"
   ]
  },
  {
   "cell_type": "code",
   "execution_count": 87,
   "metadata": {},
   "outputs": [
    {
     "data": {
      "text/plain": [
       "matrix_de_vandermonde (generic function with 1 method)"
      ]
     },
     "execution_count": 87,
     "metadata": {},
     "output_type": "execute_result"
    }
   ],
   "source": [
    "\"\"\"\n",
    "Entrada: a função recebe os pontos (x, y) e o grau da função.\n",
    "Saída: matriz de Vandermonde no formato citado acima.\n",
    "\"\"\"\n",
    "\n",
    "function matrix_de_vandermonde(pontos_x,grau)\n",
    "    # Aqui criamos a matriz zerada com as dimensões certas\n",
    "    matrix_de_vandermonde = zeros(length(x), grau)\n",
    "    \n",
    "    # O loop abaixo preenche a matriz de vandermonde\n",
    "    for linha = 1:length(x)\n",
    "        for coluna = 1:grau\n",
    "            matrix_de_vandermonde[linha, coluna] = x[linha]^(coluna - 1)\n",
    "        end\n",
    "    end\n",
    "    return matrix_de_vandermonde\n",
    "end"
   ]
  },
  {
   "cell_type": "markdown",
   "metadata": {},
   "source": [
    "### Função Lagrange"
   ]
  },
  {
   "cell_type": "code",
   "execution_count": 88,
   "metadata": {},
   "outputs": [
    {
     "data": {
      "text/plain": [
       "lagrange (generic function with 1 method)"
      ]
     },
     "execution_count": 88,
     "metadata": {},
     "output_type": "execute_result"
    }
   ],
   "source": [
    "\"\"\"\n",
    "RESUMO: Recebe uma série de pontos (x,y) e um ponto especifico xp.\n",
    "        Descobre uma funcao que interpola os pontos (x,y) e descobre a imagem\n",
    "        de xp nessa funcao. O grau do polinomio vai ser definido pelo numero \n",
    "        de pontos passados.\n",
    "ENTRADA: Vetor pontos_x, Vetor pontos_y, Float xp\n",
    "SAIDA: Float yp (imagem de xp na funcao que interpola os pontos (x,y))\n",
    "\"\"\"\n",
    "\n",
    "function lagrange(x, y, xp)\n",
    "    # pega o numero de pontos\n",
    "    n = length(x)\n",
    "    # resultado da interpolação\n",
    "    yp = 0\n",
    "    # Implementando lagrange\n",
    "    for i in 1:n\n",
    "        p = 1\n",
    "        for j in 1:n\n",
    "            if i != j\n",
    "                p *= (xp - x[j])/(x[i] - x[j])\n",
    "            end\n",
    "        end\n",
    "        yp += p * y[i]\n",
    "    end\n",
    "    return yp\n",
    "end"
   ]
  },
  {
   "cell_type": "markdown",
   "metadata": {},
   "source": [
    "#### Exemplos"
   ]
  },
  {
   "cell_type": "code",
   "execution_count": 89,
   "metadata": {},
   "outputs": [
    {
     "name": "stdout",
     "output_type": "stream",
     "text": [
      "15.0\n",
      "25.0\n",
      "1.0\n",
      "12.0\n",
      "37.050340136054416\n"
     ]
    }
   ],
   "source": [
    "#Exemplo 1\n",
    "x = [1.0, 8.0, 10.0, 15.0]\n",
    "y = [15.0, 25.0, 1.0, 12.0]\n",
    "for xi in x\n",
    "    println(lagrange(x, y, xi))\n",
    "end\n",
    "println(lagrange(x, y, 7.))"
   ]
  },
  {
   "cell_type": "code",
   "execution_count": 90,
   "metadata": {},
   "outputs": [
    {
     "name": "stdout",
     "output_type": "stream",
     "text": [
      "2.0\n",
      "5.0\n",
      "4.0\n",
      "7.8\n"
     ]
    }
   ],
   "source": [
    "#Exemplo 2\n",
    "x = [1., 2., 7.]\n",
    "y = [2., 5., 4.]\n",
    "for xi in x\n",
    "    println(lagrange(x, y, xi))\n",
    "end\n",
    "println(lagrange(x, y, 4.))"
   ]
  },
  {
   "cell_type": "code",
   "execution_count": 91,
   "metadata": {},
   "outputs": [
    {
     "name": "stdout",
     "output_type": "stream",
     "text": [
      "Valor real: 0.8728857699503394 / Valor por lagrange: 0.8728857699503394\n",
      "Valor real: 0.36148959127754976 / Valor por lagrange: 0.36148959127754976\n",
      "Valor real: 0.13494305656015015 / Valor por lagrange: 0.13494305656015015\n",
      "Valor real: 0.499551817251658 / Valor por lagrange: 0.499551817251658\n",
      "Valor real: 0.8578730972097945 / Valor por lagrange: 0.8578730972097945\n",
      "Valor real: 0.3568874454427282 / Valor por lagrange: 0.3568874454427282\n",
      "Valor real: 0.0879514205784877 / Valor por lagrange: 0.0879514205784877\n",
      "Valor real: 0.8115456243341215 / Valor por lagrange: 0.8115456243341215\n",
      "Valor real: 0.21468332905293153 / Valor por lagrange: 0.21468332905293153\n",
      "Valor real: 0.013668792122621287 / Valor por lagrange: 0.013668792122621287\n",
      "-847.0987971469983\n"
     ]
    }
   ],
   "source": [
    "#Exemplo 3\n",
    "n = 10\n",
    "x = rand(10)\n",
    "y = rand(10)\n",
    "for i = 1:n\n",
    "    println(\"Valor real: $(y[i]) / Valor por lagrange: $(lagrange(x, y, x[i]))\")\n",
    "end\n",
    "println(lagrange(x, y, 1.))"
   ]
  },
  {
   "cell_type": "markdown",
   "metadata": {},
   "source": [
    "### Função Aplica"
   ]
  },
  {
   "cell_type": "code",
   "execution_count": 92,
   "metadata": {},
   "outputs": [
    {
     "data": {
      "text/plain": [
       "aplica (generic function with 2 methods)"
      ]
     },
     "execution_count": 92,
     "metadata": {},
     "output_type": "execute_result"
    }
   ],
   "source": [
    "\"\"\"\n",
    "Objetivo da função: A função \"Aplica\" transforma uma lista de coeficientes em uma função. \n",
    "                    Ou seja, a partir de uma lista de coeficientes e um valor para x, a função \n",
    "                    retornar o valor em x para a função que conhecemos apenas os coeficientes.\n",
    "Entrada: coeficientes de uma função e um valor de x.\n",
    "Saída: valor da função desconhecida no ponto x.\n",
    "\"\"\"\n",
    "\n",
    "function aplica(coeficientes, valor_de_x, grau = length(coeficientes)-1)\n",
    "    len = grau + 1\n",
    "    accx = 1\n",
    "    acc = 0\n",
    "    for i = 1:len\n",
    "        acc += coeficientes[i] * accx\n",
    "        accx *= valor_de_x\n",
    "    end\n",
    "    return acc\n",
    "end"
   ]
  },
  {
   "cell_type": "markdown",
   "metadata": {},
   "source": [
    "#### Exemplos:"
   ]
  },
  {
   "cell_type": "code",
   "execution_count": 93,
   "metadata": {},
   "outputs": [
    {
     "name": "stdout",
     "output_type": "stream",
     "text": [
      "0\n",
      "0.0\n",
      "60\n"
     ]
    }
   ],
   "source": [
    "# Exemplo 1\n",
    "# Imagine que desconhecemos a função 2(x^2)+3(x)-5 = 0 ; cujas raízes são [1, -5/2]. Desconfio \n",
    "# que 1 seja raiz e quero verificar\n",
    "\n",
    "print(aplica([-5,3,2],1), \"\\n\")\n",
    "\n",
    "# Desconfio que -5/2 seja raiz e quero verificar\n",
    "print(aplica([-5,3,2],-5/2), \"\\n\")\n",
    "\n",
    "#Quero verificar o valor da função no ponto x = 5\n",
    "print(aplica([-5,3,2],5), \"\\n\")"
   ]
  },
  {
   "cell_type": "code",
   "execution_count": 94,
   "metadata": {},
   "outputs": [
    {
     "data": {
      "text/plain": [
       "426"
      ]
     },
     "execution_count": 94,
     "metadata": {},
     "output_type": "execute_result"
    }
   ],
   "source": [
    "# Exemplo 2\n",
    "# Quero calcular o valor da função (x^3)-574 = 0 ; no ponto x = 10\n",
    "\n",
    "aplica([-574,0,0,1],10)"
   ]
  },
  {
   "cell_type": "code",
   "execution_count": 95,
   "metadata": {},
   "outputs": [
    {
     "data": {
      "text/plain": [
       "2"
      ]
     },
     "execution_count": 95,
     "metadata": {},
     "output_type": "execute_result"
    }
   ],
   "source": [
    "# Exemplo 3\n",
    "# Imagine que quero descobrir uma raiz da função (x^3)+2x-12 = 0 \n",
    "# E sei que existe uma raiz entre x = -1000 e x = 1000\n",
    "\n",
    "raiz = -999\n",
    "for i = -1000:1000\n",
    "    y = aplica([-12,2,0,1],i)\n",
    "    if y == 0\n",
    "        raiz = i\n",
    "        break\n",
    "    end\n",
    "end\n",
    "return(raiz)"
   ]
  },
  {
   "cell_type": "markdown",
   "metadata": {},
   "source": [
    "### Função Regressão Coeficientes Lineares"
   ]
  },
  {
   "cell_type": "code",
   "execution_count": 96,
   "metadata": {},
   "outputs": [
    {
     "data": {
      "text/plain": [
       "regressao_coeficientes_lineares (generic function with 1 method)"
      ]
     },
     "execution_count": 96,
     "metadata": {},
     "output_type": "execute_result"
    }
   ],
   "source": [
    "\"\"\"\n",
    "Objetivo da função: Encontrar o valor dos coeficientes, de uma função aproximada à função \n",
    "                    desejada, que torna mínima a soma dos quadrados das diferenças entre a \n",
    "                    função desejada e sua aproximação.\n",
    "Entrada: pontos (x,y) e o grau da funçã desejada.\n",
    "Saída: coeficientes\n",
    "\"\"\"\n",
    "\n",
    "function regressao_coeficientes_lineares(pontos_x,pontos_y, grau)\n",
    "    V = matrix_de_vandermonde(pontos_x,grau)  # matrix alta (com muitas linhas e poucas colunas) \n",
    "    Vᵀ = transpose(V)  # VᵀVc = Vᵀy\n",
    "    coeficientes = Vᵀ * V \\ Vᵀ * y  # Coeficientes são calculados atráves de mínimos quadrados\n",
    "    return coeficientes\n",
    "end"
   ]
  },
  {
   "cell_type": "markdown",
   "metadata": {},
   "source": [
    "#### Exemplos:"
   ]
  },
  {
   "cell_type": "code",
   "execution_count": 97,
   "metadata": {},
   "outputs": [
    {
     "name": "stdout",
     "output_type": "stream",
     "text": [
      "c₀ = 7.081203007518854 \n",
      "     \n",
      "c₁ = -0.0038280701754386916 \n",
      "     \n",
      "c₂ = 7.468671679198137e-7"
     ]
    }
   ],
   "source": [
    "# Exemplo 1\n",
    "# Temos o mesmo exemplo que fizemos anteriormente utilizando interpolação de coeficientes\n",
    "x = [1000.0, 300.0, 6000.0]\n",
    "y = [4.0,6.0, 11.0]\n",
    "coef= regressao_coeficientes_lineares(x,y,3)\n",
    "print(\"c₀ = $(coef[1]) \n",
    "     \\nc₁ = $(coef[2]) \n",
    "     \\nc₂ = $(coef[3])\")"
   ]
  },
  {
   "cell_type": "code",
   "execution_count": 98,
   "metadata": {},
   "outputs": [
    {
     "name": "stdout",
     "output_type": "stream",
     "text": [
      "c₀ = -2062.77113627787\n",
      "     \n",
      "c₁ = 564.4577108950482\n",
      "     \n",
      "c₂ = -33.47123627642948\n",
      "     \n",
      "c₃ = 3.847525958436212e-5\n",
      "     \n",
      "c₄ = -0.009181830376718415\n",
      "     \n",
      "c₅ = 3.847525958436212e-5"
     ]
    }
   ],
   "source": [
    "# Exemplo 2\n",
    "# Temos o mesmo exemplo que fizemos anteriormente utilizando interpolação de coeficientes\n",
    "x = [50.0, 75.0, 45.0, 60.0, 44.0, 5.0]\n",
    "y = [1.0, 7.0, 8.0, 10.0, 15.0, 20.0]\n",
    "coef= regressao_coeficientes_lineares(x,y,length(x))\n",
    "print(\"c₀ = $(coef[1])\n",
    "     \\nc₁ = $(coef[2])\n",
    "     \\nc₂ = $(coef[3])\n",
    "     \\nc₃ = $(coef[6])\n",
    "     \\nc₄ = $(coef[5])\n",
    "     \\nc₅ = $(coef[6])\")"
   ]
  },
  {
   "cell_type": "code",
   "execution_count": 99,
   "metadata": {},
   "outputs": [
    {
     "name": "stdout",
     "output_type": "stream",
     "text": [
      "c₀ = 0.20376301397977503 \n",
      "     \n",
      "c₁ = 0.3582722966161403 \n",
      "     \n",
      "c₂ = -0.0011963493946882372"
     ]
    }
   ],
   "source": [
    "# Exemplo 3\n",
    "# Temos o mesmo exemplo que fizemos anteriormente utilizando interpolação de coeficientes\n",
    "x = [11.0, 250.0,145.0]\n",
    "y = [4.0,15.0, 27.0]\n",
    "coef = regressao_coeficientes_lineares(x,y,3)\n",
    "print(\"c₀ = $(coef[1]) \n",
    "     \\nc₁ = $(coef[2]) \n",
    "     \\nc₂ = $(coef[3])\")"
   ]
  },
  {
   "cell_type": "markdown",
   "metadata": {},
   "source": [
    "### Função Mínimos Quadrados"
   ]
  },
  {
   "cell_type": "code",
   "execution_count": 100,
   "metadata": {},
   "outputs": [
    {
     "data": {
      "text/plain": [
       "resolver_um_sistema_por_minimos_quadrados (generic function with 1 method)"
      ]
     },
     "execution_count": 100,
     "metadata": {},
     "output_type": "execute_result"
    }
   ],
   "source": [
    "\"\"\"\n",
    "Objetivo da função: Encontrar o valor dos coeficientes, de uma função aproximada à função \n",
    "                    desejada, que torna mínima a soma dos quadrados das diferenças entre a \n",
    "                    função desejada e sua aproximação.\n",
    "Entrada: pontos (x,y) e o grau do polinômio desejado.\n",
    "Saída: coeficientes da função de grau desejado que melhor aproximam a função cujos pontos \n",
    "       foram passados.\n",
    "\"\"\"\n",
    "\n",
    "function resolver_um_sistema_por_minimos_quadrados(x, y, grau)\n",
    "    n_coeficientes = grau + 1\n",
    "    V = zeros(length(x), n_coeficientes)  # Aqui criamos uma matriz zerada com as dimensões certas\n",
    "    \n",
    "    # No loop abaixo, preenchemos a matriz de vandermonde\n",
    "    for linha = 1:length(x)\n",
    "        for coluna = 1:n_coeficientes\n",
    "            V[linha, coluna] = x[linha]^(coluna - 1)\n",
    "        end\n",
    "    end\n",
    "    \n",
    "    Vᵀ = transpose(V)  # VᵀVc = Vᵀy\n",
    "    return Vᵀ * V \\ Vᵀ * y\n",
    "end"
   ]
  },
  {
   "cell_type": "markdown",
   "metadata": {},
   "source": [
    "#### Exemplos:"
   ]
  },
  {
   "cell_type": "code",
   "execution_count": 101,
   "metadata": {},
   "outputs": [
    {
     "name": "stdout",
     "output_type": "stream",
     "text": [
      "Melhor parábola que descreve a distribuição dos pontos citados: 0.01x^2 + 0.67x + 15.89\n"
     ]
    }
   ],
   "source": [
    "# Exemplo 1\n",
    "# Suponha que temos os seguintes pontos que descrevem a trajetória de um objeto com o passar do\n",
    "# tempo. Queremos descobrir qual reta melhor descreve a distribuição dos pontos:\n",
    "# (0,0), (5,10), (15,50), (25,63), (45, 73), (60,90), (156,468)\n",
    "\n",
    "x = [0, 5, 15, 25, 45, 60, 156]\n",
    "y = [0, 10, 50, 63, 73, 90, 468]\n",
    "grau = 2\n",
    "coeficientes = resolver_um_sistema_por_minimos_quadrados(x, y, grau)\n",
    "aproxC₀ = round(coeficientes[1], digits = 2)\n",
    "aproxC₁ = round(coeficientes[2], digits = 2)\n",
    "aproxC₂ = round(coeficientes[3], digits = 2)\n",
    "print(\"Melhor parábola que descreve a distribuição dos pontos citados: \",aproxC₂, \"x^2 + \", aproxC₁, \"x + \", aproxC₀, \"\\n\")"
   ]
  },
  {
   "cell_type": "code",
   "execution_count": 102,
   "metadata": {},
   "outputs": [
    {
     "name": "stdout",
     "output_type": "stream",
     "text": [
      "Aproximação para a temperatura do objeto no minuto 6: 5.27 ºC\n"
     ]
    }
   ],
   "source": [
    "# Exemplo 2\n",
    "# Vamos supor que um objeto foi imerso em gelo e sua temperatura foi medida algumas vezes em\n",
    "# intervalos de 2 em 2 min, conforme a \"tabela\" abaixo. Queremos saber uma boa aproximação para \n",
    "# a temperatura do objeto no minuto 6\n",
    "#       minutos ->  1 | 3 | 5 | 7 | 9\n",
    "#   temperatura -> 18 | 10| 7 | 5 | 4\n",
    "\n",
    "min = [1, 3, 5, 7, 9]\n",
    "temp = [18, 10, 7, 5, 4]\n",
    "grau = 2\n",
    "coeficientes = resolver_um_sistema_por_minimos_quadrados(min, temp, grau)\n",
    "aproximacao = round(coeficientes[3]*36 + coeficientes[2]*6 + coeficientes[1], digits = 2)\n",
    "print(\"Aproximação para a temperatura do objeto no minuto 6: $aproximacao ºC\\n\")"
   ]
  },
  {
   "cell_type": "code",
   "execution_count": 103,
   "metadata": {},
   "outputs": [
    {
     "name": "stdout",
     "output_type": "stream",
     "text": [
      "Melhor função de grau 1 que se adapta aos pontos citados: -1250.0x + 767.86\n"
     ]
    }
   ],
   "source": [
    "# Exemplo 3\n",
    "# Suponha que temos que encontrar a melhor função de grau 1 que se adapta aos pontos\n",
    "# (2, 500), (4, 1500), (8, 5000)\n",
    "x = [2, 4, 8]\n",
    "y = [500, 1500, 5000]\n",
    "grau = 1\n",
    "coeficientes = resolver_um_sistema_por_minimos_quadrados(x, y, grau)\n",
    "aproxC₀ = round(coeficientes[1], digits = 2)\n",
    "aproxC₁ = round(coeficientes[2], digits = 2)\n",
    "print(\"Melhor função de grau 1 que se adapta aos pontos citados: \", aproxC₀,\"x + \", aproxC₁, \"\\n\")"
   ]
  },
  {
   "cell_type": "markdown",
   "metadata": {},
   "source": [
    "### Função Integração"
   ]
  },
  {
   "cell_type": "code",
   "execution_count": 104,
   "metadata": {},
   "outputs": [
    {
     "data": {
      "text/plain": [
       "integracao (generic function with 1 method)"
      ]
     },
     "execution_count": 104,
     "metadata": {},
     "output_type": "execute_result"
    }
   ],
   "source": [
    "\"\"\"\n",
    "Objetivo da função: Encontrar o valor exato para a integral da função desejada.\n",
    "Entrada: primitiva da função desejada, ponto a (ponto inicial -> x0), ponto b (ponto \n",
    "         final -> xn).\n",
    "Saída: valor exato da integral de f entre os pontos [a,b].\n",
    "\"\"\"\n",
    "\n",
    "function integracao(F, a, b) \n",
    "    integralExata = F(b) - F(a)\n",
    "    return integralExata\n",
    "end"
   ]
  },
  {
   "cell_type": "markdown",
   "metadata": {},
   "source": [
    "#### Exemplos:"
   ]
  },
  {
   "cell_type": "code",
   "execution_count": 105,
   "metadata": {},
   "outputs": [
    {
     "name": "stdout",
     "output_type": "stream",
     "text": [
      "Integral exata = 3.141592653589793\n"
     ]
    }
   ],
   "source": [
    "# Exemplo 1\n",
    "# Imagine que queremos determinar a área limitada pelo círculo\n",
    "# (x^2) + (y^2) = 4 no primeiro quadrante\n",
    "\n",
    "f(x) = sqrt(4-x^2)\n",
    "F(x) = 2*asin(1/2*x)+sin(2asin(1/2*x)) # primitiva de f(x)\n",
    "a, b = 0.0, 2.0\n",
    "integral = integracao(F, a, b)\n",
    "print(\"Integral exata = \", integral, \"\\n\")"
   ]
  },
  {
   "cell_type": "code",
   "execution_count": 106,
   "metadata": {},
   "outputs": [
    {
     "name": "stdout",
     "output_type": "stream",
     "text": [
      "Integral exata = 1.718281828459045\n"
     ]
    }
   ],
   "source": [
    "# Exemplo 2\n",
    "# Imagine que queremos determinar a área exata limitada pela função\n",
    "# (e^x) entre os pontos x = 0 e x = 1\n",
    "\n",
    "f(x) = exp(x)\n",
    "F(x) = exp(x) # primitiva de f(x)\n",
    "a, b = 0.0, 1.0\n",
    "integral = integracao(F, a, b)\n",
    "print(\"Integral exata = \", integral, \"\\n\")"
   ]
  },
  {
   "cell_type": "code",
   "execution_count": 107,
   "metadata": {},
   "outputs": [
    {
     "name": "stdout",
     "output_type": "stream",
     "text": [
      "Integral exata = 198.75\n"
     ]
    }
   ],
   "source": [
    "# Exemplo 3\n",
    "# Imagine que queremos determinar a área exata limitada pela função\n",
    "# (x^3+5x-4) entre os pontos x = 0 e x = 5\n",
    "\n",
    "f(x) = (x^3)+5x-4\n",
    "F(x) = ((x^4)/4)+((5x^2)/2)-4x # primitiva de f(x)\n",
    "a, b = 0.0, 5.0\n",
    "integral = integracao(F, a, b)\n",
    "print(\"Integral exata = \", integral, \"\\n\")"
   ]
  },
  {
   "cell_type": "markdown",
   "metadata": {},
   "source": [
    "### Função Regra do Retângulo"
   ]
  },
  {
   "cell_type": "code",
   "execution_count": 108,
   "metadata": {},
   "outputs": [
    {
     "data": {
      "text/plain": [
       "regra_do_retangulo (generic function with 1 method)"
      ]
     },
     "execution_count": 108,
     "metadata": {},
     "output_type": "execute_result"
    }
   ],
   "source": [
    "\"\"\"\n",
    "Objetivo: Encontrar uma aproximação para a integral da função desejada através de retas ligando\n",
    "          os n pontos que temos da função (formando retângulos entre  as retas e o eixo x e\n",
    "          aproximando a integral final com as áreas desses retângulos).\n",
    "Entrada: função, ponto a (ponto inicial -> x0), ponto b (ponto final -> xn), n (número de \n",
    "         pontos que usaremos).\n",
    "Saída: aproximação para o valor da integral de f entre os pontos [a,b].\n",
    "\"\"\"\n",
    "\n",
    "function regra_do_retangulo(f, a, b, n; T=Float64)\n",
    "    h = (b - a) / n\n",
    "    S = zero(T)\n",
    "    for i = 0:n\n",
    "        x = a + i * h\n",
    "        S += f(x)\n",
    "    end\n",
    "    aproxIntegral = S*h   \n",
    "    return aproxIntegral\n",
    "end"
   ]
  },
  {
   "cell_type": "markdown",
   "metadata": {},
   "source": [
    "#### Exemplo 1:"
   ]
  },
  {
   "cell_type": "code",
   "execution_count": 109,
   "metadata": {},
   "outputs": [
    {
     "name": "stdout",
     "output_type": "stream",
     "text": [
      "Aproximação pela Regra do Retângulo = 3.3045\n"
     ]
    }
   ],
   "source": [
    "# Exemplo 1\n",
    "# Imagine que queremos determinar uma aproximação para a área limitada pelo círculo\n",
    "# (x^2) + (y^2) = 4 no primeiro quadrante; usando 10 pontos\n",
    "\n",
    "f(x) = sqrt(4-x^2)\n",
    "a, b = 0.0, 2.0\n",
    "pontos = 10\n",
    "aproximacao = regra_do_retangulo(f, a, b, pontos)\n",
    "print(\"Aproximação pela Regra do Retângulo = \", round(aproximacao, digits=4), \"\\n\")\n",
    "\n",
    "# Valor real = 3.14159 (aproximadamente)"
   ]
  },
  {
   "cell_type": "code",
   "execution_count": 110,
   "metadata": {},
   "outputs": [
    {
     "name": "stdout",
     "output_type": "stream",
     "text": [
      "Aproximação pela Regra do Retângulo = 1.8116\n"
     ]
    }
   ],
   "source": [
    "# Exemplo 2\n",
    "# Imagine que queremos determinar uma aproximação para a área limitada pela função\n",
    "# (e^x) entre os pontos x = 0 e x = 1; usando 20 pontos\n",
    "\n",
    "f(x) = exp(x)\n",
    "a, b = 0.0, 1.0\n",
    "pontos = 20\n",
    "aproximacao = regra_do_retangulo(f, a, b, pontos)\n",
    "print(\"Aproximação pela Regra do Retângulo = \", round(aproximacao, digits=4), \"\\n\")\n",
    "\n",
    "# Valor real = 1.71828 (aproximadamente)"
   ]
  },
  {
   "cell_type": "code",
   "execution_count": 111,
   "metadata": {},
   "outputs": [
    {
     "name": "stdout",
     "output_type": "stream",
     "text": [
      "Aproximação pela Regra do Retângulo = 201.1236\n"
     ]
    }
   ],
   "source": [
    "# Exemplo 3\n",
    "# Imagine que queremos determinar uma aproximação para a área limitada pela função\n",
    "# (x^3+5x-4) entre os pontos x = 0 e x = 5 ; usando 150 pontos\n",
    "\n",
    "f(x) = (x^3)+5x-4\n",
    "a, b = 0.0, 5.0\n",
    "pontos = 150\n",
    "aproximacao = regra_do_retangulo(f, a, b, pontos)\n",
    "print(\"Aproximação pela Regra do Retângulo = \", round(aproximacao, digits=4), \"\\n\")\n",
    "\n",
    "# Valor real = 198.75"
   ]
  },
  {
   "cell_type": "markdown",
   "metadata": {},
   "source": [
    "### Função Regra do Trapézio"
   ]
  },
  {
   "cell_type": "code",
   "execution_count": 112,
   "metadata": {},
   "outputs": [
    {
     "data": {
      "text/plain": [
       "regra_do_trapezio (generic function with 1 method)"
      ]
     },
     "execution_count": 112,
     "metadata": {},
     "output_type": "execute_result"
    }
   ],
   "source": [
    "\"\"\" \n",
    "Objetivo da função: Encontrar uma aproximação para a integral da função desejada através de \n",
    "                    retas ligando os n pontos que temos da função (formando trapézios entre as\n",
    "                    retas e o eixo x e aproximando a integral final com as áreas desses \n",
    "                    trapézios).\n",
    "Entrada: função, ponto a (ponto inicial -> x0), ponto b (ponto final -> xn), n (número de \n",
    "         pontos que usaremos).\n",
    "Saída: aproximação para o valor da integral de f entre os pontos [a,b].\n",
    "\"\"\"\n",
    "\n",
    "function regra_do_trapezio(f, a, b, n; T=Float64)\n",
    "    h = (b - a) / n\n",
    "    S = zero(T)\n",
    "    for i = 1:n-1\n",
    "        x = a + i * h\n",
    "        S += f(x)\n",
    "    end\n",
    "    S = f(a) + 2S + f(b)\n",
    "    return h * S / 2\n",
    "end"
   ]
  },
  {
   "cell_type": "markdown",
   "metadata": {},
   "source": [
    "#### Exemplos:"
   ]
  },
  {
   "cell_type": "code",
   "execution_count": 113,
   "metadata": {},
   "outputs": [
    {
     "name": "stdout",
     "output_type": "stream",
     "text": [
      "Aproximação pela Regra do Trapézio = 3.1045\n"
     ]
    }
   ],
   "source": [
    "# Exemplo 1\n",
    "# Imagine que queremos determinar uma aproximação para a área limitada pelo círculo\n",
    "# (x^2) + (y^2) = 4 no primeiro quadrante; usando 10 pontos\n",
    "\n",
    "f(x) = sqrt(4-x^2)\n",
    "a, b = 0.0, 2.0\n",
    "pontos = 10\n",
    "aproximacao = regra_do_trapezio(f, a, b, pontos)\n",
    "print(\"Aproximação pela Regra do Trapézio = \", round(aproximacao, digits=4), \"\\n\")\n",
    "\n",
    "# Valor real = 3.14159 (aproximadamente)\n",
    "# Aproximação que tínhamos usando a regra do retângulo com a mesma quantidade de pontos (10) = 3.3045"
   ]
  },
  {
   "cell_type": "code",
   "execution_count": 114,
   "metadata": {},
   "outputs": [
    {
     "name": "stdout",
     "output_type": "stream",
     "text": [
      "Aproximação pela Regra do Trapézio = 1.7186\n"
     ]
    }
   ],
   "source": [
    "# Exemplo 2\n",
    "# Imagine que queremos determinar uma aproximação para a área limitada pela função\n",
    "# (e^x) entre os pontos x = 0 e x = 1; usando 20 pontos\n",
    "\n",
    "f(x) = exp(x)\n",
    "a, b = 0.0, 1.0\n",
    "pontos = 20\n",
    "aproximacao = regra_do_trapezio(f, a, b, pontos)\n",
    "print(\"Aproximação pela Regra do Trapézio = \", round(aproximacao, digits=4), \"\\n\")\n",
    "\n",
    "# Valor real = 1.71828 (aproximadamente)\n",
    "# Aproximação que tínhamos usando a regra do retângulo com a mesma quantidade de pontos (20) = 1.8116"
   ]
  },
  {
   "cell_type": "code",
   "execution_count": 115,
   "metadata": {},
   "outputs": [
    {
     "name": "stdout",
     "output_type": "stream",
     "text": [
      "Aproximação pela Regra do Trapézio = 198.7569\n"
     ]
    }
   ],
   "source": [
    "# Exemplo 3\n",
    "# Imagine que queremos determinar uma aproximação para a área limitada pela função\n",
    "# (x^3+5x-4) entre os pontos x = 0 e x = 5; usando 150 pontos\n",
    "\n",
    "f(x) = (x^3)+5x-4\n",
    "a, b = 0.0, 5.0\n",
    "pontos = 150\n",
    "aproximacao = regra_do_trapezio(f, a, b, pontos)\n",
    "print(\"Aproximação pela Regra do Trapézio = \", round(aproximacao, digits=4), \"\\n\")\n",
    "\n",
    "# Valor real = 198.75\n",
    "# Aproximação que tínhamos usando a regra do retângulo com a mesma quantidade de pontos (150) = 201.1236"
   ]
  },
  {
   "cell_type": "markdown",
   "metadata": {},
   "source": [
    "### Função Regra de Simpson"
   ]
  },
  {
   "cell_type": "code",
   "execution_count": 116,
   "metadata": {},
   "outputs": [
    {
     "data": {
      "text/plain": [
       "regra_de_simpson (generic function with 1 method)"
      ]
     },
     "execution_count": 116,
     "metadata": {},
     "output_type": "execute_result"
    }
   ],
   "source": [
    "\"\"\"\n",
    "Objetivo da função: Encontrar uma aproximação para a integral da função desejada através de \n",
    "                    polinômios de grau 2 ligando os n pontos que temos da função (aproximando \n",
    "                    a integral final com as áreas entre esses polinômios quadráticos e o eixo x).\n",
    "Entrada: função, ponto a (ponto inicial -> x0), ponto b (ponto final -> xn), n (número de pontos\n",
    "         que usaremos).\n",
    "Saída: aproximação para o valor da integral de f entre os pontos [a,b].\n",
    "\"\"\"\n",
    "\n",
    "function regra_de_simpson(f, a, b, n; T=Float64)\n",
    "    if n % 2 != 0\n",
    "        error(\"n deve ser par\")\n",
    "    end\n",
    "    h = (b - a) / n\n",
    "    S = zero(T)\n",
    "    for i = 1:2:n-1\n",
    "        x = a + i * h\n",
    "        S += 4 * f(x)\n",
    "    end\n",
    "    for i = 2:2:n-2\n",
    "        x = a + i * h\n",
    "        S += 2* f(x)\n",
    "    end\n",
    "    S += f(a) + f(b)\n",
    "    return S * h / 3\n",
    "end"
   ]
  },
  {
   "cell_type": "markdown",
   "metadata": {},
   "source": [
    "#### Exemplos:"
   ]
  },
  {
   "cell_type": "code",
   "execution_count": 117,
   "metadata": {},
   "outputs": [
    {
     "name": "stdout",
     "output_type": "stream",
     "text": [
      "Aproximação pela Regra de Simpson = 3.127\n"
     ]
    }
   ],
   "source": [
    "# Exemplo 1\n",
    "# Imagine que queremos determinar uma aproximação para a área limitada pelo círculo\n",
    "# (x^2) + (y^2) = 4 no primeiro quadrante; usando 10 pontos\n",
    "\n",
    "f(x) = sqrt(4-x^2)\n",
    "a, b = 0.0, 2.0\n",
    "pontos = 10\n",
    "aproximacao = regra_de_simpson(f, a, b, pontos)\n",
    "print(\"Aproximação pela Regra de Simpson = \", round(aproximacao, digits=4), \"\\n\")\n",
    "\n",
    "# Valor real = 3.14159 (aproximadamente)\n",
    "# Aproximação que tínhamos usando a regra do retângulo com a mesma quantidade de pontos (10) = 3.3045\n",
    "# Aproximação que tínhamos usando a regra do trapézio com a mesma quantidade de pontos (10) = 3.1045"
   ]
  },
  {
   "cell_type": "code",
   "execution_count": 118,
   "metadata": {},
   "outputs": [
    {
     "name": "stdout",
     "output_type": "stream",
     "text": [
      "Aproximação pela Regra de Simpson = 1.7183\n"
     ]
    }
   ],
   "source": [
    "# Exemplo 2\n",
    "# Imagine que queremos determinar uma aproximação para a área limitada pela função\n",
    "# (e^x) entre os pontos x = 0 e x = 1; usando 10 pontos\n",
    "\n",
    "f(x) = exp(x)\n",
    "a, b = 0.0, 1.0\n",
    "pontos = 10\n",
    "aproximacao = regra_de_simpson(f, a, b, pontos)\n",
    "print(\"Aproximação pela Regra de Simpson = \", round(aproximacao, digits=4), \"\\n\")\n",
    "\n",
    "# Valor real = 1.71828 (aproximadamente)\n",
    "# Aproximação que tínhamos usando a regra do retângulo com o dobro de pontos (20) = 1.8116\n",
    "# Aproximação que tínhamos usando a regra do trapézio com o dobro de pontos (20) = 1.7186"
   ]
  },
  {
   "cell_type": "code",
   "execution_count": 119,
   "metadata": {},
   "outputs": [
    {
     "name": "stdout",
     "output_type": "stream",
     "text": [
      "Aproximação pela Regra de Simpson = 198.75\n"
     ]
    }
   ],
   "source": [
    "# Exemplo 3\n",
    "# Imagine que queremos determinar uma aproximação para a área limitada pela função\n",
    "# (x^3+5x-4) entre os pontos x = 0 e x = 5; usando 30 pontos\n",
    "\n",
    "f(x) = (x^3)+5x-4\n",
    "a, b = 0.0, 5.0\n",
    "pontos = 30\n",
    "aproximacao = regra_de_simpson(f, a, b, pontos)\n",
    "print(\"Aproximação pela Regra de Simpson = \", round(aproximacao, digits=4), \"\\n\")\n",
    "\n",
    "# Valor real = 198.75\n",
    "# Aproximação que tínhamos usando a regra do retângulo com muito mais pontos (150) = 201.1236\n",
    "# Aproximação que tínhamos usando a regra do trapézio com muito mais pontos (150) = 198.7569"
   ]
  },
  {
   "cell_type": "markdown",
   "metadata": {},
   "source": [
    "### Função Achar 1 Ponto Crítico de uma Função $F(x)$"
   ]
  },
  {
   "cell_type": "code",
   "execution_count": 120,
   "metadata": {},
   "outputs": [
    {
     "data": {
      "text/plain": [
       "achar_um_ponto_critico_de_uma_função (generic function with 1 method)"
      ]
     },
     "execution_count": 120,
     "metadata": {},
     "output_type": "execute_result"
    }
   ],
   "source": [
    "\"\"\"\n",
    "Objetivo: Encontrar 1 ponto crítico de uma função de 1 variável.\n",
    "Entrada: derivada da função que queremos encontrar o ponto crítico, ponto a (ponto inicial do\n",
    "         intervalo desejado), ponto b (ponto final do intervalo desejado)\n",
    "Saída: um ponto crítico da função cuja derivada foi passada.\n",
    "\"\"\"\n",
    "\n",
    "function achar_um_ponto_critico_de_uma_função(derivada_funcao, precisao, a, b)\n",
    "    ponto_critico = bissecao(derivada_funcao, precisao, a, b)\n",
    "    return ponto_critico\n",
    "end"
   ]
  },
  {
   "cell_type": "markdown",
   "metadata": {},
   "source": [
    "#### Exemplos:"
   ]
  },
  {
   "cell_type": "code",
   "execution_count": 121,
   "metadata": {},
   "outputs": [
    {
     "data": {
      "text/plain": [
       "3.141592650860548"
      ]
     },
     "execution_count": 121,
     "metadata": {},
     "output_type": "execute_result"
    }
   ],
   "source": [
    "# Exemplo 1\n",
    "# Suponha que queremos saber um ponto crítico da função sen(x) no intervalo [0.1, 5]\n",
    "f(x) = sin(x)\n",
    "derivada_f(x) = cos(x)\n",
    "a = 0.1\n",
    "b = 5\n",
    "precisao = 1e-8\n",
    "achar_um_ponto_critico_de_uma_função(derivada_f, precisao, a, b)"
   ]
  },
  {
   "cell_type": "code",
   "execution_count": 122,
   "metadata": {},
   "outputs": [
    {
     "data": {
      "text/plain": [
       "0.0"
      ]
     },
     "execution_count": 122,
     "metadata": {},
     "output_type": "execute_result"
    }
   ],
   "source": [
    "# Exemplo 2\n",
    "# Suponha que queremos saber um ponto crítico da função (x^3)- 4x + 1 no intervalo [-3, 0]\n",
    "f(x) = (x^3) + 2x\n",
    "derivada_f(x) = (3x^2 + 2)\n",
    "a = -2\n",
    "b = 2\n",
    "precisao = 1e-16\n",
    "achar_um_ponto_critico_de_uma_função(derivada_f, precisao, a, b)"
   ]
  },
  {
   "cell_type": "code",
   "execution_count": 123,
   "metadata": {},
   "outputs": [
    {
     "data": {
      "text/plain": [
       "4.440892098500626e-16"
      ]
     },
     "execution_count": 123,
     "metadata": {},
     "output_type": "execute_result"
    }
   ],
   "source": [
    "# Exemplo 3\n",
    "# Suponha que queremos saber um ponto crítico da função (e^x) - 1 no intervalo [0, 4]\n",
    "f(x) = (ℯ^x) - 1\n",
    "derivada_f(x) = (ℯ^x)\n",
    "a = -4\n",
    "b = 2\n",
    "precisao = 1e-16\n",
    "achar_um_ponto_critico_de_uma_função(derivada_f, precisao, a, b)"
   ]
  },
  {
   "cell_type": "markdown",
   "metadata": {},
   "source": [
    "### [FALTA] Função Achar 1 Ponto Crítico de uma Função $F(x,y)$"
   ]
  },
  {
   "cell_type": "code",
   "execution_count": 124,
   "metadata": {},
   "outputs": [
    {
     "data": {
      "text/plain": [
       "achar_um_ponto_critico_de_uma_funcao_de_2_variavies (generic function with 1 method)"
      ]
     },
     "execution_count": 124,
     "metadata": {},
     "output_type": "execute_result"
    }
   ],
   "source": [
    "\"\"\"\n",
    "Objetivo: Encontrar 1 ponto crítico de uma função de 2 variáveis.\n",
    "Entrada: gradiente da função que queremos encontrar o ponto crítico, ponto a (ponto inicial do\n",
    "         intervalo desejado), ponto b (ponto final do intervalo desejado)\n",
    "Saída: um ponto crítico da função cujo gradiente foi passado.\n",
    "\"\"\"\n",
    "\n",
    "function achar_um_ponto_critico_de_uma_funcao_de_2_variavies(gradiente_da_funcao, a, b) #desafio\n",
    "    ponto_critico = gradiente_descendente\n",
    "    return ponto_critico\n",
    "end"
   ]
  },
  {
   "cell_type": "markdown",
   "metadata": {},
   "source": [
    "#### Exemplos:"
   ]
  },
  {
   "cell_type": "code",
   "execution_count": 125,
   "metadata": {},
   "outputs": [],
   "source": [
    "# Exemplo 1"
   ]
  },
  {
   "cell_type": "code",
   "execution_count": 126,
   "metadata": {},
   "outputs": [],
   "source": [
    "# Exemplo 2"
   ]
  },
  {
   "cell_type": "code",
   "execution_count": 127,
   "metadata": {},
   "outputs": [],
   "source": [
    "# Exemplo 3"
   ]
  },
  {
   "cell_type": "markdown",
   "metadata": {},
   "source": [
    "### Função Lagrange 2D"
   ]
  },
  {
   "cell_type": "code",
   "execution_count": 128,
   "metadata": {},
   "outputs": [
    {
     "data": {
      "text/plain": [
       "lagrange_2D (generic function with 1 method)"
      ]
     },
     "execution_count": 128,
     "metadata": {},
     "output_type": "execute_result"
    }
   ],
   "source": [
    "\"\"\"\n",
    "RESUMO: Recebe uma série de pontos (x,y,z) e um ponto especifico (xp, yp). Descobre uma \n",
    "        função que interpola os pontos (x,y,z) e descobre a imagem de (xp, yp) nessa funcao.\n",
    "        O grau do polinomio vai ser definido pelo numero de pontos passados.\n",
    "ENTRADA: Vetor x, Vetor y, Vetor z, Float xp, Float yp\n",
    "SAIDA: Float zp (imagem de (xp,yp) na funcao que interpola os pontos (x,y,z))\n",
    "\"\"\"\n",
    "\n",
    "function lagrange_2D(x, y, z, xp, yp)\n",
    "    # pega o numero de pontos\n",
    "    n = length(x)\n",
    "    # resultado da interpolação\n",
    "    zp = 0\n",
    "   \n",
    "    # Implementando lagrange 2D\n",
    "    for i = 1:n\n",
    "        p = 1.0\n",
    "        \n",
    "        # vetor de valores ja utilizados (para nao repetir no método de Lagrange)\n",
    "        usados = []\n",
    "        \n",
    "        # calcula a parte dos x's\n",
    "        for j = 1:n\n",
    "            if x[i] != x[j] && x[j] ∉ usados\n",
    "                p *= (xp - x[j])/(x[i] - x[j])\n",
    "            end\n",
    "            append!(usados, x[j])\n",
    "        end\n",
    "        \n",
    "        # calcula a parte dos y's\n",
    "        usados = []\n",
    "        for j = 1:n\n",
    "            if y[i] != y[j] && y[j] ∉ usados\n",
    "                p *= (yp - y[j])/(y[i] - y[j])\n",
    "            end\n",
    "            append!(usados, y[j])\n",
    "        end\n",
    "        zp += p * z[i]\n",
    "    end\n",
    "    return zp\n",
    "end"
   ]
  },
  {
   "cell_type": "markdown",
   "metadata": {},
   "source": [
    "#### Exemplos:"
   ]
  },
  {
   "cell_type": "code",
   "execution_count": 129,
   "metadata": {},
   "outputs": [
    {
     "data": {
      "text/plain": [
       "800.0"
      ]
     },
     "execution_count": 129,
     "metadata": {},
     "output_type": "execute_result"
    }
   ],
   "source": [
    "# Exemplo 1\n",
    "x = [1., 1, 3, 3]\n",
    "y = [2., 4, 2, 4]\n",
    "z = [800., 400, 600, 500]\n",
    "lagrange_2D(x, y, z, 1.0, 2.0)"
   ]
  },
  {
   "cell_type": "code",
   "execution_count": 130,
   "metadata": {},
   "outputs": [
    {
     "data": {
      "text/plain": [
       "1203.1166867388652"
      ]
     },
     "execution_count": 130,
     "metadata": {},
     "output_type": "execute_result"
    }
   ],
   "source": [
    "# Exemplo 2\n",
    "n = 5\n",
    "x = rand(n)\n",
    "y = rand(n)\n",
    "z = rand(n)\n",
    "lagrange_2D(x, y, z, 0.5, 1.51)"
   ]
  },
  {
   "cell_type": "code",
   "execution_count": 131,
   "metadata": {},
   "outputs": [
    {
     "data": {
      "text/plain": [
       "7.425253806675609"
      ]
     },
     "execution_count": 131,
     "metadata": {},
     "output_type": "execute_result"
    }
   ],
   "source": [
    "# Exemplo 3\n",
    "x = [1., 18, 37, 93, 112, 193]\n",
    "y = [1., 25, 56, 170, 250, 401]\n",
    "z = [8., 17, 50, 121.1, -10, -300]\n",
    "lagrange_2D(x, y, z, 0.1, 2.4)"
   ]
  },
  {
   "cell_type": "markdown",
   "metadata": {},
   "source": [
    "### Compressão"
   ]
  },
  {
   "cell_type": "code",
   "execution_count": 313,
   "metadata": {},
   "outputs": [
    {
     "data": {
      "text/plain": [
       "compressao (generic function with 2 methods)"
      ]
     },
     "execution_count": 313,
     "metadata": {},
     "output_type": "execute_result"
    }
   ],
   "source": [
    "\"\"\"\n",
    "RESUMO: É um método que dada uma matriz A, diminuirmos o tamanho delas através do cálculo de valores de c\n",
    "        respeitando o modelo A = A-b*c', para conseguir várias matrizes até o posto desejado pelo usuário.\n",
    "ENTRADA: matriz A e o nível de compressão\n",
    "SAIDA: matriz B e matriz C\n",
    "\"\"\"\n",
    "#Retorna a melhor coordenada, tal que norm(A-b*c') é mínima\n",
    "function melhores_coords(A,b) #retorna c tal que norm(A-b*c') é mínima\n",
    "    m,n=size(A)\n",
    "    A=1.0*A\n",
    "    c=zeros(n,1)\n",
    "    c=A'*(b/(b'*b))\n",
    "    return c\n",
    "end\n",
    "#Faz cálculo b, c através das melhores coordenadas\n",
    "function calculo_cb(A; limite = 22)\n",
    "    n,m=size(A)\n",
    "\n",
    "    b=randn(n,1)\n",
    "    c=randn(m,1)\n",
    "    \n",
    "    btemp=randn(m,1)\n",
    "    ctemp=randn(n,1)\n",
    "    \n",
    "    for i=1:limite\n",
    "        c=melhores_coords(A,b)\n",
    "        btemp=c\n",
    "        ctemp=melhores_coords(A',btemp)\n",
    "        b=ctemp\n",
    "    end\n",
    "    \n",
    "    return b,c\n",
    "end\n",
    "\n",
    "function compressao(A,nivel)\n",
    "    m,n=size(A)\n",
    "    B=zeros(m,nivel)\n",
    "    C=zeros(n,nivel)\n",
    "    \n",
    "    for i=1:nivel\n",
    "        B[:,i],C[:,i]=calculo_cb(A)\n",
    "        A=A-B[:,i]*C[:,i]'\n",
    "    end\n",
    "    return B,C\n",
    "end"
   ]
  },
  {
   "cell_type": "code",
   "execution_count": 314,
   "metadata": {},
   "outputs": [
    {
     "name": "stdout",
     "output_type": "stream",
     "text": [
      "O erro é de 2.026088580379407e-14"
     ]
    }
   ],
   "source": [
    "#Exemplo 1\n",
    "A = [1 2 1 11 101 2 10; 1 2 2 12 102 3  20;1 2 3 13 103 4 30]\n",
    "B, C =compressao(A, 2)\n",
    "print(\"O erro é de $(norm(A-B*C'))\")"
   ]
  },
  {
   "cell_type": "code",
   "execution_count": 315,
   "metadata": {},
   "outputs": [
    {
     "name": "stdout",
     "output_type": "stream",
     "text": [
      "O erro é de 2.9830103940303346e-14"
     ]
    }
   ],
   "source": [
    "#Exemplo 2\n",
    "A = [22 17 15 12 100 120;44 18 30 13 120 100;66 19 45 14 150 90]\n",
    "B,C = compressao(A, 3)\n",
    "print(\"O erro é de $(norm(A-B*C'))\")"
   ]
  },
  {
   "cell_type": "code",
   "execution_count": 363,
   "metadata": {},
   "outputs": [
    {
     "name": "stdout",
     "output_type": "stream",
     "text": [
      "O erro é de 1.4210854715202004e-14"
     ]
    }
   ],
   "source": [
    "#Exemplo 3\n",
    "A = [3.0 6.0 9.0 12.0 15.0; 6.0 7.0 8.0 9.0 10.0; 10.0 20.0 30.0 40.0 50.0; 12.0 13.0 14.0 15.0 16.0]\n",
    "B,C = compressao(A, 2)\n",
    "print(\"O erro é de $(norm(A-B*C'))\")\n"
   ]
  },
  {
   "cell_type": "code",
   "execution_count": 359,
   "metadata": {},
   "outputs": [
    {
     "data": {
      "text/plain": [
       "3"
      ]
     },
     "execution_count": 359,
     "metadata": {},
     "output_type": "execute_result"
    }
   ],
   "source": [
    "A = rand(1:100, 5,3)\n",
    "rank(A)"
   ]
  },
  {
   "cell_type": "markdown",
   "metadata": {},
   "source": [
    "### Gauss Jacobi"
   ]
  },
  {
   "cell_type": "code",
   "execution_count": 248,
   "metadata": {},
   "outputs": [
    {
     "data": {
      "text/plain": [
       "gauss_jacobi"
      ]
     },
     "execution_count": 248,
     "metadata": {},
     "output_type": "execute_result"
    }
   ],
   "source": [
    "\"\"\"\n",
    "RESUMO: É um método iterativo para resolução de sistemas de equações lineares de forma Ax = b.\n",
    "        Tem como condição suficiente de convergência que a matriz seja estritamente diagonal dominante.\n",
    "        Converge para matrizes diagonais dominantes.\n",
    "ENTRADA:Uma matriz A e uma matriz b\n",
    "SAIDA: uma matriz x, com o resultado da equação linear\n",
    "\"\"\"\n",
    "function gauss_jacobi(A,b; limite= 400)\n",
    "    n,m=size(A)\n",
    "    M=Diagonal(A) #Pegando a Diagonal de A\n",
    "    K=M-A  #Quebrando a matriz A em M -K, sendo M, a sua diagonal, pois essa é mais barata de se calcular\n",
    "    R=inv(M)*K \n",
    "    c=inv(M)*b\n",
    "    \n",
    "    x=zeros(n,1) #Chute inicial\n",
    "    for i=1:limite\n",
    "        x=R*x+c\n",
    "    end\n",
    "    \n",
    "    return x\n",
    "end"
   ]
  },
  {
   "cell_type": "code",
   "execution_count": 250,
   "metadata": {},
   "outputs": [
    {
     "data": {
      "text/plain": [
       "1.0658141036401503e-14"
      ]
     },
     "execution_count": 250,
     "metadata": {},
     "output_type": "execute_result"
    }
   ],
   "source": [
    "#Exemplo 1\n",
    "A = [10.0 2.0 3.0;4.5 15.0 12.5;10 15 35]\n",
    "x = [15;11;20]\n",
    "b = A*x\n",
    "x_final = gauss_jacobi(A,b)\n",
    "norm(x - x_final)"
   ]
  },
  {
   "cell_type": "code",
   "execution_count": 254,
   "metadata": {},
   "outputs": [
    {
     "name": "stdout",
     "output_type": "stream",
     "text": [
      "O valor de x original era [27, 1, 21] \n",
      "O valor do x encontrado foi [26.999999999999986; 1.0; 20.999999999999993] \n",
      "O erro é próximo de 1.5888218580782548e-14"
     ]
    }
   ],
   "source": [
    "#Exemplo 2\n",
    "A = [27.0 15.0 18.0;21.5 45.45 10.1;11 75 105]\n",
    "x = [27;1;21]\n",
    "b = A*x\n",
    "x_final = gauss_jacobi(A,b)\n",
    "print(\"O valor de x original era $x \\nO valor do x encontrado foi $x_final \\nO erro é próximo de $(norm(x - x_final))\")"
   ]
  },
  {
   "cell_type": "code",
   "execution_count": 256,
   "metadata": {},
   "outputs": [
    {
     "name": "stdout",
     "output_type": "stream",
     "text": [
      "O valor de x original era [27, 11, 1] \n",
      "O valor do x encontrado foi [26.999999999999993; 10.999999999999998; 1.0] \n",
      "O erro é próximo de 7.32410687763558e-15"
     ]
    }
   ],
   "source": [
    "#Exemplo 3\n",
    "A = [44.001 77.12 28.0;2.5 79.002 3.7;11.01 110.10 22.1]\n",
    "x = [27;11;1]\n",
    "b = A*x\n",
    "x_final = gauss_jacobi(A,b)\n",
    "print(\"O valor de x original era $x \\nO valor do x encontrado foi $x_final \\nO erro é próximo de $(norm(x - x_final))\")"
   ]
  },
  {
   "cell_type": "markdown",
   "metadata": {},
   "source": [
    "### Gauss Seidel"
   ]
  },
  {
   "cell_type": "code",
   "execution_count": 259,
   "metadata": {},
   "outputs": [
    {
     "data": {
      "text/plain": [
       "gauss_seidel"
      ]
     },
     "execution_count": 259,
     "metadata": {},
     "output_type": "execute_result"
    }
   ],
   "source": [
    "\"\"\"\n",
    "RESUMO: É um método iterativo para resolução de sistemas de equações lineares. \n",
    "        Tem como condição suficiente de convergência que a matriz seja estritamente diagonal dominante.\n",
    "ENTRADA:Uma matriz A e uma matriz b\n",
    "SAIDA: uma matriz x, com o resultado da equação linear\n",
    "\"\"\"\n",
    "function gauss_seidel(A,b; limite=400)\n",
    "    n,m=size(A)\n",
    "    M=UpperTriangular(A) #Calculando o triangular superior e salvando em M\n",
    "    K=M-A     \n",
    "    #Quebrando a matriz A em M -K, sendo M, a sua triangular superior, pois essa é mais barata de se calcular\n",
    "    R=inv(M)*K\n",
    "    c=inv(M)*b\n",
    "    \n",
    "    x=zeros(n,1) #chute inicial\n",
    "    for i=1:limite\n",
    "        x=R*x+c \n",
    "    end\n",
    "    \n",
    "    return x\n",
    "end"
   ]
  },
  {
   "cell_type": "code",
   "execution_count": 260,
   "metadata": {},
   "outputs": [
    {
     "name": "stdout",
     "output_type": "stream",
     "text": [
      "O valor de x original era [5, 6, 7] \n",
      "O valor do x encontrado foi [5.0; 5.999999999999999; 7.0] \n",
      "O erro é próximo de 8.881784197001252e-16"
     ]
    }
   ],
   "source": [
    "#Exemplo 1\n",
    "A = [15.0 1.8 1.0;1.5 25.15 11.1;0.01 55 75]\n",
    "x = [5;6;7]\n",
    "b = A*x\n",
    "x_final = gauss_seidel(A,b)\n",
    "print(\"O valor de x original era $x \\nO valor do x encontrado foi $x_final \\nO erro é próximo de $(norm(x - x_final))\")"
   ]
  },
  {
   "cell_type": "code",
   "execution_count": 270,
   "metadata": {},
   "outputs": [
    {
     "name": "stdout",
     "output_type": "stream",
     "text": [
      "O valor de x original era [1.6197482109220835; 0.8147113218358173; -0.0014762260053000455; 2.161900018546326] \n",
      "O valor do x encontrado foi [1.6197482109220838; 0.8147113218358175; -0.0014762260053011733; 2.1619000185463193] \n",
      "O erro é próximo de 6.763426444809882e-15"
     ]
    }
   ],
   "source": [
    "#Exemplo 2\n",
    "A = [15.58158 -1.622 1.1196 0.613; 1.250 3.420 -0.662 0.1446; 1.5964 0.571137 5.13785854 -0.827872; 1.07690677 0.19946388 1.003 -0.18519343]\n",
    "x = randn(4,1)\n",
    "b = A*x\n",
    "x_final = gauss_seidel(A,b)\n",
    "print(\"O valor de x original era $x \\nO valor do x encontrado foi $x_final \\nO erro é próximo de $(norm(x - x_final))\")"
   ]
  },
  {
   "cell_type": "code",
   "execution_count": 273,
   "metadata": {},
   "outputs": [
    {
     "name": "stdout",
     "output_type": "stream",
     "text": [
      "O valor de x original era [-0.04343778216875846, -1.1871517960515228, 0.9565556126856019, -0.6580960721098263] \n",
      "O valor do x encontrado foi [-0.04343778216875849; -1.1871517960515228; 0.9565556126856025; -0.6580960721098268] \n",
      "O erro é próximo de 8.010741897413915e-16"
     ]
    }
   ],
   "source": [
    "#Exemplo 3\n",
    "A = [0.44232843419610957 0.975168270793521 0.4057316291542512 0.43141972827505626; 0.05176629292410739 0.6326306259870371 0.17408718829624203 0.216193281992759; 0.4930982825005519 0.8217543935748945 0.9028708230733111 0.5851496265616856; 0.4336333792828273 0.03710455313190231 0.5436617314521639 0.8655115805195281]\n",
    "x = [-0.04343778216875846; -1.1871517960515228; 0.9565556126856019; -0.6580960721098263]\n",
    "b = A*x\n",
    "x_final = gauss_seidel(A,b)\n",
    "print(\"O valor de x original era $x \\nO valor do x encontrado foi $x_final \\nO erro é próximo de $(norm(x - x_final))\")"
   ]
  },
  {
   "cell_type": "markdown",
   "metadata": {},
   "source": [
    "### Questão 2"
   ]
  },
  {
   "cell_type": "code",
   "execution_count": 395,
   "metadata": {},
   "outputs": [],
   "source": [
    "using Plots\n",
    "gr(size =(600,400) )\n",
    "plot(rand(1), rand(1))\n",
    "scatter!(rand(1), rand(1))\n",
    "nothing"
   ]
  },
  {
   "cell_type": "code",
   "execution_count": 405,
   "metadata": {},
   "outputs": [
    {
     "data": {
      "text/plain": [
       "gauss_jacobi_com_erro (generic function with 1 method)"
      ]
     },
     "execution_count": 405,
     "metadata": {},
     "output_type": "execute_result"
    }
   ],
   "source": [
    "\"\"\"\n",
    "Sabendo que { 2x₁ + x₂ = 2; −x₁ + 2x₂ = 2}, pode ser escrito como A = [2 1;-1 2] e b = [2;2]\n",
    "\"\"\"\n",
    "function gauss_seidel_com_erro(A,b; max_iter=1000, ϵ = 1e-3)\n",
    "    n,m=size(A)\n",
    "    x1s = []\n",
    "    x2s = []\n",
    "    M=UpperTriangular(A) #Calculando o triangular superior e salvando em M\n",
    "    K=M-A     \n",
    "    #Quebrando a matriz A em M -K, sendo M, a sua triangular superior, pois essa é mais barata de se calcular\n",
    "    R=inv(M)*K\n",
    "    c=inv(M)*b\n",
    "    x=zeros(n,1) #chute inicial\n",
    "    x=R*x+c\n",
    "    x_anterior = x\n",
    "    append!(x1s, x[1])\n",
    "    append!(x2s, x[2])\n",
    "    x=R*x+c \n",
    "    iter =0 \n",
    "    resolvido = (abs(norm(x-x_anterior)) ≤ ϵ)\n",
    "    cansado = (iter ≥ max_iter)\n",
    "    while !(resolvido || cansado) \n",
    "        x_anterior = x\n",
    "        append!(x1s, x[1])\n",
    "        append!(x2s, x[2])\n",
    "        x=R*x+c \n",
    "        iter +=1\n",
    "        #print(x, \"\\n\", x_anterior)\n",
    "        resolvido = (abs(norm(x-x_anterior)) ≤ ϵ)\n",
    "        cansado = (iter ≥ max_iter)\n",
    "        \n",
    "    end\n",
    "    print(\"O erro final ficou em $(abs(norm(x-x_anterior)))\\n\")\n",
    "    print(\"O resultado final ficou em $x\\n\")\n",
    "    return x1s, x2s\n",
    "end\n",
    "\n",
    "function gauss_jacobi_com_erro(A,b; max_iter=1000, ϵ = 1e-3)\n",
    "    n,m=size(A)\n",
    "    x1s = []\n",
    "    x2s = []\n",
    "    M=Diagonal(A) #Calculando o triangular superior e salvando em M\n",
    "    K=M-A     \n",
    "    #Quebrando a matriz A em M -K, sendo M, a sua triangular superior, pois essa é mais barata de se calcular\n",
    "    R=inv(M)*K\n",
    "    c=inv(M)*b\n",
    "    x=zeros(n,1) #chute inicial\n",
    "    x=R*x+c\n",
    "    x_anterior = x\n",
    "    append!(x1s, x[1])\n",
    "    append!(x2s, x[2])\n",
    "    x=R*x+c \n",
    "    iter =0 \n",
    "    resolvido = (abs(norm(x-x_anterior)) ≤ ϵ)\n",
    "    cansado = (iter ≥ max_iter)\n",
    "    while !(resolvido || cansado) \n",
    "        x_anterior = x\n",
    "        append!(x1s, x[1])\n",
    "        append!(x2s, x[2])\n",
    "        x=R*x+c \n",
    "        iter +=1\n",
    "        #print(x, \"\\n\", x_anterior)\n",
    "        resolvido = (abs(norm(x-x_anterior)) ≤ ϵ)\n",
    "        cansado = (iter ≥ max_iter)\n",
    "        \n",
    "    end\n",
    "    print(\"O erro final ficou em $(abs(norm(x-x_anterior)))\\n\")\n",
    "    print(\"O resultado final ficou em $x\\n\")\n",
    "    return x1s, x2s\n",
    "end"
   ]
  },
  {
   "cell_type": "code",
   "execution_count": 409,
   "metadata": {},
   "outputs": [
    {
     "name": "stdout",
     "output_type": "stream",
     "text": [
      "GAUSS_SEIDEL\n",
      "O erro final ficou em 0.0002729575167846423\n",
      "O resultado final ficou em [0.4000244140625; 1.199951171875]\n",
      "\n",
      "GAUSS_JACOBIO erro final ficou em 0.0006905339660024879\n",
      "O resultado final ficou em [0.39990234375; 1.19970703125]\n",
      "\n"
     ]
    }
   ],
   "source": [
    "A = [2 1;-1 2] \n",
    "b = [2;2]\n",
    "print(\"GAUSS_SEIDEL\\n\")\n",
    "X_seidel,Y_seidel = gauss_seidel_com_erro(A,b)\n",
    "X_seidel = X_seidel*1.0\n",
    "Y_seidel = Y_seidel*1.0\n",
    "print(\"\\nGAUSS_JACOBI\")\n",
    "X_jacobi,Y_jacobi = gauss_jacobi_com_erro(A,b)\n",
    "X_jacobi = X_jacobi*1.0\n",
    "Y_jacobi = Y_jacobi*1.0\n",
    "print(\"\\n\")"
   ]
  },
  {
   "cell_type": "code",
   "execution_count": 425,
   "metadata": {},
   "outputs": [
    {
     "data": {
      "image/png": "[encoded data removed]",
      "image/svg+xml": [
       "<?xml version=\"1.0\" encoding=\"utf-8\"?>\n",
       "<svg xmlns=\"http://www.w3.org/2000/svg\" xmlns:xlink=\"http://www.w3.org/1999/xlink\" width=\"600\" height=\"400\" viewBox=\"0 0 2400 1600\">\n",
       "<defs>\n",
       "  <clipPath id=\"clip260\">\n",
       "    <rect x=\"0\" y=\"0\" width=\"2400\" height=\"1600\"/>\n",
       "  </clipPath>\n",
       "</defs>\n",
       "<path clip-path=\"url(#clip260)\" d=\"\n",
       "M0 1600 L2400 1600 L2400 0 L0 0  Z\n",
       "  \" fill=\"#ffffff\" fill-rule=\"evenodd\" fill-opacity=\"1\"/>\n",
       "<defs>\n",
       "  <clipPath id=\"clip261\">\n",
       "    <rect x=\"480\" y=\"0\" width=\"1681\" height=\"1600\"/>\n",
       "  </clipPath>\n",
       "</defs>\n",
       "<path clip-path=\"url(#clip260)\" d=\"\n",
       "M184.191 1486.45 L2352.76 1486.45 L2352.76 123.472 L184.191 123.472  Z\n",
       "  \" fill=\"#ffffff\" fill-rule=\"evenodd\" fill-opacity=\"1\"/>\n",
       "<defs>\n",
       "  <clipPath id=\"clip262\">\n",
       "    <rect x=\"184\" y=\"123\" width=\"2170\" height=\"1364\"/>\n",
       "  </clipPath>\n",
       "</defs>\n",
       "<polyline clip-path=\"url(#clip262)\" style=\"stroke:#000000; stroke-width:2; stroke-opacity:0.1; fill:none\" points=\"\n",
       "  491.063,1486.45 491.063,123.472 \n",
       "  \"/>\n",
       "<polyline clip-path=\"url(#clip262)\" style=\"stroke:#000000; stroke-width:2; stroke-opacity:0.1; fill:none\" points=\"\n",
       "  982.059,1486.45 982.059,123.472 \n",
       "  \"/>\n",
       "<polyline clip-path=\"url(#clip262)\" style=\"stroke:#000000; stroke-width:2; stroke-opacity:0.1; fill:none\" points=\"\n",
       "  1473.05,1486.45 1473.05,123.472 \n",
       "  \"/>\n",
       "<polyline clip-path=\"url(#clip262)\" style=\"stroke:#000000; stroke-width:2; stroke-opacity:0.1; fill:none\" points=\"\n",
       "  1964.05,1486.45 1964.05,123.472 \n",
       "  \"/>\n",
       "<polyline clip-path=\"url(#clip260)\" style=\"stroke:#000000; stroke-width:4; stroke-opacity:1; fill:none\" points=\"\n",
       "  184.191,1486.45 2352.76,1486.45 \n",
       "  \"/>\n",
       "<polyline clip-path=\"url(#clip260)\" style=\"stroke:#000000; stroke-width:4; stroke-opacity:1; fill:none\" points=\"\n",
       "  491.063,1486.45 491.063,1470.09 \n",
       "  \"/>\n",
       "<polyline clip-path=\"url(#clip260)\" style=\"stroke:#000000; stroke-width:4; stroke-opacity:1; fill:none\" points=\"\n",
       "  982.059,1486.45 982.059,1470.09 \n",
       "  \"/>\n",
       "<polyline clip-path=\"url(#clip260)\" style=\"stroke:#000000; stroke-width:4; stroke-opacity:1; fill:none\" points=\"\n",
       "  1473.05,1486.45 1473.05,1470.09 \n",
       "  \"/>\n",
       "<polyline clip-path=\"url(#clip260)\" style=\"stroke:#000000; stroke-width:4; stroke-opacity:1; fill:none\" points=\"\n",
       "  1964.05,1486.45 1964.05,1470.09 \n",
       "  \"/>\n",
       "<path clip-path=\"url(#clip260)\" d=\"M 0 0 M453.459 1515.64 Q449.848 1515.64 448.019 1519.2 Q446.214 1522.75 446.214 1529.87 Q446.214 1536.98 448.019 1540.55 Q449.848 1544.09 453.459 1544.09 Q457.093 1544.09 458.899 1540.55 Q460.728 1536.98 460.728 1529.87 Q460.728 1522.75 458.899 1519.2 Q457.093 1515.64 453.459 1515.64 M453.459 1511.93 Q459.269 1511.93 462.325 1516.54 Q465.404 1521.12 465.404 1529.87 Q465.404 1538.6 462.325 1543.21 Q459.269 1547.79 453.459 1547.79 Q447.649 1547.79 444.57 1543.21 Q441.515 1538.6 441.515 1529.87 Q441.515 1521.12 444.57 1516.54 Q447.649 1511.93 453.459 1511.93 Z\" fill=\"#000000\" fill-rule=\"evenodd\" fill-opacity=\"1\" /><path clip-path=\"url(#clip260)\" d=\"M 0 0 M473.621 1541.24 L478.505 1541.24 L478.505 1547.12 L473.621 1547.12 L473.621 1541.24 Z\" fill=\"#000000\" fill-rule=\"evenodd\" fill-opacity=\"1\" /><path clip-path=\"url(#clip260)\" d=\"M 0 0 M502.857 1528.49 Q506.213 1529.2 508.088 1531.47 Q509.987 1533.74 509.987 1537.07 Q509.987 1542.19 506.468 1544.99 Q502.95 1547.79 496.468 1547.79 Q494.292 1547.79 491.977 1547.35 Q489.686 1546.93 487.232 1546.08 L487.232 1541.56 Q489.177 1542.7 491.491 1543.28 Q493.806 1543.86 496.329 1543.86 Q500.727 1543.86 503.019 1542.12 Q505.334 1540.38 505.334 1537.07 Q505.334 1534.02 503.181 1532.31 Q501.051 1530.57 497.232 1530.57 L493.204 1530.57 L493.204 1526.73 L497.417 1526.73 Q500.866 1526.73 502.695 1525.36 Q504.524 1523.97 504.524 1521.38 Q504.524 1518.72 502.626 1517.31 Q500.751 1515.87 497.232 1515.87 Q495.311 1515.87 493.112 1516.29 Q490.913 1516.7 488.274 1517.58 L488.274 1513.42 Q490.936 1512.68 493.251 1512.31 Q495.589 1511.93 497.649 1511.93 Q502.973 1511.93 506.075 1514.37 Q509.176 1516.77 509.176 1520.89 Q509.176 1523.76 507.533 1525.75 Q505.889 1527.72 502.857 1528.49 Z\" fill=\"#000000\" fill-rule=\"evenodd\" fill-opacity=\"1\" /><path clip-path=\"url(#clip260)\" d=\"M 0 0 M518.991 1546.4 L518.991 1542.14 Q520.75 1542.98 522.556 1543.42 Q524.362 1543.86 526.098 1543.86 Q530.727 1543.86 533.158 1540.75 Q535.611 1537.63 535.959 1531.29 Q534.616 1533.28 532.556 1534.34 Q530.496 1535.41 527.996 1535.41 Q522.811 1535.41 519.778 1532.28 Q516.769 1529.13 516.769 1523.69 Q516.769 1518.37 519.917 1515.15 Q523.065 1511.93 528.297 1511.93 Q534.292 1511.93 537.44 1516.54 Q540.611 1521.12 540.611 1529.87 Q540.611 1538.05 536.723 1542.93 Q532.857 1547.79 526.306 1547.79 Q524.547 1547.79 522.741 1547.44 Q520.936 1547.1 518.991 1546.4 M528.297 1531.75 Q531.445 1531.75 533.274 1529.6 Q535.125 1527.44 535.125 1523.69 Q535.125 1519.97 533.274 1517.81 Q531.445 1515.64 528.297 1515.64 Q525.149 1515.64 523.297 1517.81 Q521.468 1519.97 521.468 1523.69 Q521.468 1527.44 523.297 1529.6 Q525.149 1531.75 528.297 1531.75 Z\" fill=\"#000000\" fill-rule=\"evenodd\" fill-opacity=\"1\" /><path clip-path=\"url(#clip260)\" d=\"M 0 0 M945.161 1515.64 Q941.55 1515.64 939.721 1519.2 Q937.916 1522.75 937.916 1529.87 Q937.916 1536.98 939.721 1540.55 Q941.55 1544.09 945.161 1544.09 Q948.795 1544.09 950.601 1540.55 Q952.43 1536.98 952.43 1529.87 Q952.43 1522.75 950.601 1519.2 Q948.795 1515.64 945.161 1515.64 M945.161 1511.93 Q950.971 1511.93 954.027 1516.54 Q957.105 1521.12 957.105 1529.87 Q957.105 1538.6 954.027 1543.21 Q950.971 1547.79 945.161 1547.79 Q939.351 1547.79 936.272 1543.21 Q933.217 1538.6 933.217 1529.87 Q933.217 1521.12 936.272 1516.54 Q939.351 1511.93 945.161 1511.93 Z\" fill=\"#000000\" fill-rule=\"evenodd\" fill-opacity=\"1\" /><path clip-path=\"url(#clip260)\" d=\"M 0 0 M965.323 1541.24 L970.207 1541.24 L970.207 1547.12 L965.323 1547.12 L965.323 1541.24 Z\" fill=\"#000000\" fill-rule=\"evenodd\" fill-opacity=\"1\" /><path clip-path=\"url(#clip260)\" d=\"M 0 0 M993.24 1516.63 L981.434 1535.08 L993.24 1535.08 L993.24 1516.63 M992.013 1512.56 L997.892 1512.56 L997.892 1535.08 L1002.82 1535.08 L1002.82 1538.97 L997.892 1538.97 L997.892 1547.12 L993.24 1547.12 L993.24 1538.97 L977.638 1538.97 L977.638 1534.46 L992.013 1512.56 Z\" fill=\"#000000\" fill-rule=\"evenodd\" fill-opacity=\"1\" /><path clip-path=\"url(#clip260)\" d=\"M 0 0 M1014.58 1543.18 L1030.9 1543.18 L1030.9 1547.12 L1008.96 1547.12 L1008.96 1543.18 Q1011.62 1540.43 1016.2 1535.8 Q1020.81 1531.15 1021.99 1529.81 Q1024.23 1527.28 1025.11 1525.55 Q1026.02 1523.79 1026.02 1522.1 Q1026.02 1519.34 1024.07 1517.61 Q1022.15 1515.87 1019.05 1515.87 Q1016.85 1515.87 1014.4 1516.63 Q1011.97 1517.4 1009.19 1518.95 L1009.19 1514.23 Q1012.01 1513.09 1014.47 1512.51 Q1016.92 1511.93 1018.96 1511.93 Q1024.33 1511.93 1027.52 1514.62 Q1030.72 1517.31 1030.72 1521.8 Q1030.72 1523.93 1029.91 1525.85 Q1029.12 1527.74 1027.01 1530.34 Q1026.43 1531.01 1023.33 1534.23 Q1020.23 1537.42 1014.58 1543.18 Z\" fill=\"#000000\" fill-rule=\"evenodd\" fill-opacity=\"1\" /><path clip-path=\"url(#clip260)\" d=\"M 0 0 M1435.86 1515.64 Q1432.24 1515.64 1430.42 1519.2 Q1428.61 1522.75 1428.61 1529.87 Q1428.61 1536.98 1430.42 1540.55 Q1432.24 1544.09 1435.86 1544.09 Q1439.49 1544.09 1441.3 1540.55 Q1443.12 1536.98 1443.12 1529.87 Q1443.12 1522.75 1441.3 1519.2 Q1439.49 1515.64 1435.86 1515.64 M1435.86 1511.93 Q1441.67 1511.93 1444.72 1516.54 Q1447.8 1521.12 1447.8 1529.87 Q1447.8 1538.6 1444.72 1543.21 Q1441.67 1547.79 1435.86 1547.79 Q1430.05 1547.79 1426.97 1543.21 Q1423.91 1538.6 1423.91 1529.87 Q1423.91 1521.12 1426.97 1516.54 Q1430.05 1511.93 1435.86 1511.93 Z\" fill=\"#000000\" fill-rule=\"evenodd\" fill-opacity=\"1\" /><path clip-path=\"url(#clip260)\" d=\"M 0 0 M1456.02 1541.24 L1460.9 1541.24 L1460.9 1547.12 L1456.02 1547.12 L1456.02 1541.24 Z\" fill=\"#000000\" fill-rule=\"evenodd\" fill-opacity=\"1\" /><path clip-path=\"url(#clip260)\" d=\"M 0 0 M1483.93 1516.63 L1472.13 1535.08 L1483.93 1535.08 L1483.93 1516.63 M1482.71 1512.56 L1488.59 1512.56 L1488.59 1535.08 L1493.52 1535.08 L1493.52 1538.97 L1488.59 1538.97 L1488.59 1547.12 L1483.93 1547.12 L1483.93 1538.97 L1468.33 1538.97 L1468.33 1534.46 L1482.71 1512.56 Z\" fill=\"#000000\" fill-rule=\"evenodd\" fill-opacity=\"1\" /><path clip-path=\"url(#clip260)\" d=\"M 0 0 M1501.3 1512.56 L1519.65 1512.56 L1519.65 1516.5 L1505.58 1516.5 L1505.58 1524.97 Q1506.6 1524.62 1507.61 1524.46 Q1508.63 1524.27 1509.65 1524.27 Q1515.44 1524.27 1518.82 1527.44 Q1522.2 1530.62 1522.2 1536.03 Q1522.2 1541.61 1518.73 1544.71 Q1515.25 1547.79 1508.93 1547.79 Q1506.76 1547.79 1504.49 1547.42 Q1502.24 1547.05 1499.84 1546.31 L1499.84 1541.61 Q1501.92 1542.74 1504.14 1543.3 Q1506.36 1543.86 1508.84 1543.86 Q1512.85 1543.86 1515.18 1541.75 Q1517.52 1539.64 1517.52 1536.03 Q1517.52 1532.42 1515.18 1530.31 Q1512.85 1528.21 1508.84 1528.21 Q1506.97 1528.21 1505.09 1528.62 Q1503.24 1529.04 1501.3 1529.92 L1501.3 1512.56 Z\" fill=\"#000000\" fill-rule=\"evenodd\" fill-opacity=\"1\" /><path clip-path=\"url(#clip260)\" d=\"M 0 0 M1926.4 1515.64 Q1922.79 1515.64 1920.96 1519.2 Q1919.16 1522.75 1919.16 1529.87 Q1919.16 1536.98 1920.96 1540.55 Q1922.79 1544.09 1926.4 1544.09 Q1930.03 1544.09 1931.84 1540.55 Q1933.67 1536.98 1933.67 1529.87 Q1933.67 1522.75 1931.84 1519.2 Q1930.03 1515.64 1926.4 1515.64 M1926.4 1511.93 Q1932.21 1511.93 1935.27 1516.54 Q1938.34 1521.12 1938.34 1529.87 Q1938.34 1538.6 1935.27 1543.21 Q1932.21 1547.79 1926.4 1547.79 Q1920.59 1547.79 1917.51 1543.21 Q1914.46 1538.6 1914.46 1529.87 Q1914.46 1521.12 1917.51 1516.54 Q1920.59 1511.93 1926.4 1511.93 Z\" fill=\"#000000\" fill-rule=\"evenodd\" fill-opacity=\"1\" /><path clip-path=\"url(#clip260)\" d=\"M 0 0 M1946.56 1541.24 L1951.45 1541.24 L1951.45 1547.12 L1946.56 1547.12 L1946.56 1541.24 Z\" fill=\"#000000\" fill-rule=\"evenodd\" fill-opacity=\"1\" /><path clip-path=\"url(#clip260)\" d=\"M 0 0 M1974.48 1516.63 L1962.67 1535.08 L1974.48 1535.08 L1974.48 1516.63 M1973.25 1512.56 L1979.13 1512.56 L1979.13 1535.08 L1984.06 1535.08 L1984.06 1538.97 L1979.13 1538.97 L1979.13 1547.12 L1974.48 1547.12 L1974.48 1538.97 L1958.88 1538.97 L1958.88 1534.46 L1973.25 1512.56 Z\" fill=\"#000000\" fill-rule=\"evenodd\" fill-opacity=\"1\" /><path clip-path=\"url(#clip260)\" d=\"M 0 0 M2001.79 1530.71 Q1998.46 1530.71 1996.54 1532.49 Q1994.64 1534.27 1994.64 1537.4 Q1994.64 1540.52 1996.54 1542.31 Q1998.46 1544.09 2001.79 1544.09 Q2005.13 1544.09 2007.05 1542.31 Q2008.97 1540.5 2008.97 1537.4 Q2008.97 1534.27 2007.05 1532.49 Q2005.15 1530.71 2001.79 1530.71 M1997.12 1528.72 Q1994.11 1527.98 1992.42 1525.92 Q1990.75 1523.86 1990.75 1520.89 Q1990.75 1516.75 1993.69 1514.34 Q1996.65 1511.93 2001.79 1511.93 Q2006.96 1511.93 2009.9 1514.34 Q2012.84 1516.75 2012.84 1520.89 Q2012.84 1523.86 2011.15 1525.92 Q2009.48 1527.98 2006.49 1528.72 Q2009.87 1529.5 2011.75 1531.8 Q2013.65 1534.09 2013.65 1537.4 Q2013.65 1542.42 2010.57 1545.11 Q2007.51 1547.79 2001.79 1547.79 Q1996.08 1547.79 1993 1545.11 Q1989.94 1542.42 1989.94 1537.4 Q1989.94 1534.09 1991.84 1531.8 Q1993.74 1529.5 1997.12 1528.72 M1995.4 1521.33 Q1995.4 1524.02 1997.07 1525.52 Q1998.76 1527.03 2001.79 1527.03 Q2004.8 1527.03 2006.49 1525.52 Q2008.21 1524.02 2008.21 1521.33 Q2008.21 1518.65 2006.49 1517.14 Q2004.8 1515.64 2001.79 1515.64 Q1998.76 1515.64 1997.07 1517.14 Q1995.4 1518.65 1995.4 1521.33 Z\" fill=\"#000000\" fill-rule=\"evenodd\" fill-opacity=\"1\" /><polyline clip-path=\"url(#clip262)\" style=\"stroke:#000000; stroke-width:2; stroke-opacity:0.1; fill:none\" points=\"\n",
       "  184.191,1447.87 2352.76,1447.87 \n",
       "  \"/>\n",
       "<polyline clip-path=\"url(#clip262)\" style=\"stroke:#000000; stroke-width:2; stroke-opacity:0.1; fill:none\" points=\"\n",
       "  184.191,1190.71 2352.76,1190.71 \n",
       "  \"/>\n",
       "<polyline clip-path=\"url(#clip262)\" style=\"stroke:#000000; stroke-width:2; stroke-opacity:0.1; fill:none\" points=\"\n",
       "  184.191,933.543 2352.76,933.543 \n",
       "  \"/>\n",
       "<polyline clip-path=\"url(#clip262)\" style=\"stroke:#000000; stroke-width:2; stroke-opacity:0.1; fill:none\" points=\"\n",
       "  184.191,676.377 2352.76,676.377 \n",
       "  \"/>\n",
       "<polyline clip-path=\"url(#clip262)\" style=\"stroke:#000000; stroke-width:2; stroke-opacity:0.1; fill:none\" points=\"\n",
       "  184.191,419.212 2352.76,419.212 \n",
       "  \"/>\n",
       "<polyline clip-path=\"url(#clip262)\" style=\"stroke:#000000; stroke-width:2; stroke-opacity:0.1; fill:none\" points=\"\n",
       "  184.191,162.047 2352.76,162.047 \n",
       "  \"/>\n",
       "<polyline clip-path=\"url(#clip260)\" style=\"stroke:#000000; stroke-width:4; stroke-opacity:1; fill:none\" points=\"\n",
       "  184.191,1486.45 184.191,123.472 \n",
       "  \"/>\n",
       "<polyline clip-path=\"url(#clip260)\" style=\"stroke:#000000; stroke-width:4; stroke-opacity:1; fill:none\" points=\"\n",
       "  184.191,1447.87 210.213,1447.87 \n",
       "  \"/>\n",
       "<polyline clip-path=\"url(#clip260)\" style=\"stroke:#000000; stroke-width:4; stroke-opacity:1; fill:none\" points=\"\n",
       "  184.191,1190.71 210.213,1190.71 \n",
       "  \"/>\n",
       "<polyline clip-path=\"url(#clip260)\" style=\"stroke:#000000; stroke-width:4; stroke-opacity:1; fill:none\" points=\"\n",
       "  184.191,933.543 210.213,933.543 \n",
       "  \"/>\n",
       "<polyline clip-path=\"url(#clip260)\" style=\"stroke:#000000; stroke-width:4; stroke-opacity:1; fill:none\" points=\"\n",
       "  184.191,676.377 210.213,676.377 \n",
       "  \"/>\n",
       "<polyline clip-path=\"url(#clip260)\" style=\"stroke:#000000; stroke-width:4; stroke-opacity:1; fill:none\" points=\"\n",
       "  184.191,419.212 210.213,419.212 \n",
       "  \"/>\n",
       "<polyline clip-path=\"url(#clip260)\" style=\"stroke:#000000; stroke-width:4; stroke-opacity:1; fill:none\" points=\"\n",
       "  184.191,162.047 210.213,162.047 \n",
       "  \"/>\n",
       "<path clip-path=\"url(#clip260)\" d=\"M 0 0 M51.6634 1461.22 L59.3023 1461.22 L59.3023 1434.85 L50.9921 1436.52 L50.9921 1432.26 L59.256 1430.59 L63.9319 1430.59 L63.9319 1461.22 L71.5707 1461.22 L71.5707 1465.15 L51.6634 1465.15 L51.6634 1461.22 Z\" fill=\"#000000\" fill-rule=\"evenodd\" fill-opacity=\"1\" /><path clip-path=\"url(#clip260)\" d=\"M 0 0 M81.0151 1459.27 L85.8993 1459.27 L85.8993 1465.15 L81.0151 1465.15 L81.0151 1459.27 Z\" fill=\"#000000\" fill-rule=\"evenodd\" fill-opacity=\"1\" /><path clip-path=\"url(#clip260)\" d=\"M 0 0 M106.084 1433.67 Q102.473 1433.67 100.645 1437.24 Q98.8391 1440.78 98.8391 1447.91 Q98.8391 1455.01 100.645 1458.58 Q102.473 1462.12 106.084 1462.12 Q109.719 1462.12 111.524 1458.58 Q113.353 1455.01 113.353 1447.91 Q113.353 1440.78 111.524 1437.24 Q109.719 1433.67 106.084 1433.67 M106.084 1429.97 Q111.895 1429.97 114.95 1434.57 Q118.029 1439.16 118.029 1447.91 Q118.029 1456.63 114.95 1461.24 Q111.895 1465.82 106.084 1465.82 Q100.274 1465.82 97.1956 1461.24 Q94.14 1456.63 94.14 1447.91 Q94.14 1439.16 97.1956 1434.57 Q100.274 1429.97 106.084 1429.97 Z\" fill=\"#000000\" fill-rule=\"evenodd\" fill-opacity=\"1\" /><path clip-path=\"url(#clip260)\" d=\"M 0 0 M136.246 1433.67 Q132.635 1433.67 130.807 1437.24 Q129.001 1440.78 129.001 1447.91 Q129.001 1455.01 130.807 1458.58 Q132.635 1462.12 136.246 1462.12 Q139.881 1462.12 141.686 1458.58 Q143.515 1455.01 143.515 1447.91 Q143.515 1440.78 141.686 1437.24 Q139.881 1433.67 136.246 1433.67 M136.246 1429.97 Q142.056 1429.97 145.112 1434.57 Q148.191 1439.16 148.191 1447.91 Q148.191 1456.63 145.112 1461.24 Q142.056 1465.82 136.246 1465.82 Q130.436 1465.82 127.357 1461.24 Q124.302 1456.63 124.302 1447.91 Q124.302 1439.16 127.357 1434.57 Q130.436 1429.97 136.246 1429.97 Z\" fill=\"#000000\" fill-rule=\"evenodd\" fill-opacity=\"1\" /><path clip-path=\"url(#clip260)\" d=\"M 0 0 M52.6588 1204.05 L60.2976 1204.05 L60.2976 1177.69 L51.9875 1179.35 L51.9875 1175.09 L60.2513 1173.43 L64.9272 1173.43 L64.9272 1204.05 L72.5661 1204.05 L72.5661 1207.99 L52.6588 1207.99 L52.6588 1204.05 Z\" fill=\"#000000\" fill-rule=\"evenodd\" fill-opacity=\"1\" /><path clip-path=\"url(#clip260)\" d=\"M 0 0 M82.0105 1202.11 L86.8947 1202.11 L86.8947 1207.99 L82.0105 1207.99 L82.0105 1202.11 Z\" fill=\"#000000\" fill-rule=\"evenodd\" fill-opacity=\"1\" /><path clip-path=\"url(#clip260)\" d=\"M 0 0 M107.08 1176.51 Q103.469 1176.51 101.64 1180.07 Q99.8345 1183.61 99.8345 1190.74 Q99.8345 1197.85 101.64 1201.41 Q103.469 1204.96 107.08 1204.96 Q110.714 1204.96 112.52 1201.41 Q114.348 1197.85 114.348 1190.74 Q114.348 1183.61 112.52 1180.07 Q110.714 1176.51 107.08 1176.51 M107.08 1172.8 Q112.89 1172.8 115.945 1177.41 Q119.024 1181.99 119.024 1190.74 Q119.024 1199.47 115.945 1204.08 Q112.89 1208.66 107.08 1208.66 Q101.27 1208.66 98.1909 1204.08 Q95.1354 1199.47 95.1354 1190.74 Q95.1354 1181.99 98.1909 1177.41 Q101.27 1172.8 107.08 1172.8 Z\" fill=\"#000000\" fill-rule=\"evenodd\" fill-opacity=\"1\" /><path clip-path=\"url(#clip260)\" d=\"M 0 0 M127.288 1173.43 L145.644 1173.43 L145.644 1177.36 L131.57 1177.36 L131.57 1185.84 Q132.589 1185.49 133.607 1185.33 Q134.626 1185.14 135.644 1185.14 Q141.431 1185.14 144.811 1188.31 Q148.191 1191.48 148.191 1196.9 Q148.191 1202.48 144.718 1205.58 Q141.246 1208.66 134.927 1208.66 Q132.751 1208.66 130.482 1208.29 Q128.237 1207.92 125.83 1207.18 L125.83 1202.48 Q127.913 1203.61 130.135 1204.17 Q132.357 1204.72 134.834 1204.72 Q138.839 1204.72 141.177 1202.62 Q143.515 1200.51 143.515 1196.9 Q143.515 1193.29 141.177 1191.18 Q138.839 1189.08 134.834 1189.08 Q132.959 1189.08 131.084 1189.49 Q129.232 1189.91 127.288 1190.79 L127.288 1173.43 Z\" fill=\"#000000\" fill-rule=\"evenodd\" fill-opacity=\"1\" /><path clip-path=\"url(#clip260)\" d=\"M 0 0 M51.6634 946.887 L59.3023 946.887 L59.3023 920.522 L50.9921 922.189 L50.9921 917.929 L59.256 916.263 L63.9319 916.263 L63.9319 946.887 L71.5707 946.887 L71.5707 950.823 L51.6634 950.823 L51.6634 946.887 Z\" fill=\"#000000\" fill-rule=\"evenodd\" fill-opacity=\"1\" /><path clip-path=\"url(#clip260)\" d=\"M 0 0 M81.0151 944.943 L85.8993 944.943 L85.8993 950.823 L81.0151 950.823 L81.0151 944.943 Z\" fill=\"#000000\" fill-rule=\"evenodd\" fill-opacity=\"1\" /><path clip-path=\"url(#clip260)\" d=\"M 0 0 M96.8947 946.887 L104.534 946.887 L104.534 920.522 L96.2234 922.189 L96.2234 917.929 L104.487 916.263 L109.163 916.263 L109.163 946.887 L116.802 946.887 L116.802 950.823 L96.8947 950.823 L96.8947 946.887 Z\" fill=\"#000000\" fill-rule=\"evenodd\" fill-opacity=\"1\" /><path clip-path=\"url(#clip260)\" d=\"M 0 0 M136.246 919.341 Q132.635 919.341 130.807 922.906 Q129.001 926.448 129.001 933.577 Q129.001 940.684 130.807 944.249 Q132.635 947.79 136.246 947.79 Q139.881 947.79 141.686 944.249 Q143.515 940.684 143.515 933.577 Q143.515 926.448 141.686 922.906 Q139.881 919.341 136.246 919.341 M136.246 915.638 Q142.056 915.638 145.112 920.244 Q148.191 924.827 148.191 933.577 Q148.191 942.304 145.112 946.911 Q142.056 951.494 136.246 951.494 Q130.436 951.494 127.357 946.911 Q124.302 942.304 124.302 933.577 Q124.302 924.827 127.357 920.244 Q130.436 915.638 136.246 915.638 Z\" fill=\"#000000\" fill-rule=\"evenodd\" fill-opacity=\"1\" /><path clip-path=\"url(#clip260)\" d=\"M 0 0 M52.6588 689.722 L60.2976 689.722 L60.2976 663.357 L51.9875 665.023 L51.9875 660.764 L60.2513 659.097 L64.9272 659.097 L64.9272 689.722 L72.5661 689.722 L72.5661 693.657 L52.6588 693.657 L52.6588 689.722 Z\" fill=\"#000000\" fill-rule=\"evenodd\" fill-opacity=\"1\" /><path clip-path=\"url(#clip260)\" d=\"M 0 0 M82.0105 687.778 L86.8947 687.778 L86.8947 693.657 L82.0105 693.657 L82.0105 687.778 Z\" fill=\"#000000\" fill-rule=\"evenodd\" fill-opacity=\"1\" /><path clip-path=\"url(#clip260)\" d=\"M 0 0 M97.89 689.722 L105.529 689.722 L105.529 663.357 L97.2187 665.023 L97.2187 660.764 L105.483 659.097 L110.158 659.097 L110.158 689.722 L117.797 689.722 L117.797 693.657 L97.89 693.657 L97.89 689.722 Z\" fill=\"#000000\" fill-rule=\"evenodd\" fill-opacity=\"1\" /><path clip-path=\"url(#clip260)\" d=\"M 0 0 M127.288 659.097 L145.644 659.097 L145.644 663.033 L131.57 663.033 L131.57 671.505 Q132.589 671.158 133.607 670.995 Q134.626 670.81 135.644 670.81 Q141.431 670.81 144.811 673.982 Q148.191 677.153 148.191 682.569 Q148.191 688.148 144.718 691.25 Q141.246 694.329 134.927 694.329 Q132.751 694.329 130.482 693.958 Q128.237 693.588 125.83 692.847 L125.83 688.148 Q127.913 689.282 130.135 689.838 Q132.357 690.394 134.834 690.394 Q138.839 690.394 141.177 688.287 Q143.515 686.181 143.515 682.569 Q143.515 678.958 141.177 676.852 Q138.839 674.745 134.834 674.745 Q132.959 674.745 131.084 675.162 Q129.232 675.579 127.288 676.458 L127.288 659.097 Z\" fill=\"#000000\" fill-rule=\"evenodd\" fill-opacity=\"1\" /><path clip-path=\"url(#clip260)\" d=\"M 0 0 M51.6634 432.557 L59.3023 432.557 L59.3023 406.191 L50.9921 407.858 L50.9921 403.599 L59.256 401.932 L63.9319 401.932 L63.9319 432.557 L71.5707 432.557 L71.5707 436.492 L51.6634 436.492 L51.6634 432.557 Z\" fill=\"#000000\" fill-rule=\"evenodd\" fill-opacity=\"1\" /><path clip-path=\"url(#clip260)\" d=\"M 0 0 M81.0151 430.613 L85.8993 430.613 L85.8993 436.492 L81.0151 436.492 L81.0151 430.613 Z\" fill=\"#000000\" fill-rule=\"evenodd\" fill-opacity=\"1\" /><path clip-path=\"url(#clip260)\" d=\"M 0 0 M100.112 432.557 L116.432 432.557 L116.432 436.492 L94.4873 436.492 L94.4873 432.557 Q97.1493 429.802 101.733 425.173 Q106.339 420.52 107.52 419.177 Q109.765 416.654 110.645 414.918 Q111.547 413.159 111.547 411.469 Q111.547 408.715 109.603 406.978 Q107.682 405.242 104.58 405.242 Q102.381 405.242 99.927 406.006 Q97.4965 406.77 94.7187 408.321 L94.7187 403.599 Q97.5428 402.465 99.9965 401.886 Q102.45 401.307 104.487 401.307 Q109.858 401.307 113.052 403.992 Q116.246 406.677 116.246 411.168 Q116.246 413.298 115.436 415.219 Q114.649 417.117 112.543 419.71 Q111.964 420.381 108.862 423.599 Q105.76 426.793 100.112 432.557 Z\" fill=\"#000000\" fill-rule=\"evenodd\" fill-opacity=\"1\" /><path clip-path=\"url(#clip260)\" d=\"M 0 0 M136.246 405.011 Q132.635 405.011 130.807 408.576 Q129.001 412.117 129.001 419.247 Q129.001 426.353 130.807 429.918 Q132.635 433.46 136.246 433.46 Q139.881 433.46 141.686 429.918 Q143.515 426.353 143.515 419.247 Q143.515 412.117 141.686 408.576 Q139.881 405.011 136.246 405.011 M136.246 401.307 Q142.056 401.307 145.112 405.914 Q148.191 410.497 148.191 419.247 Q148.191 427.974 145.112 432.58 Q142.056 437.163 136.246 437.163 Q130.436 437.163 127.357 432.58 Q124.302 427.974 124.302 419.247 Q124.302 410.497 127.357 405.914 Q130.436 401.307 136.246 401.307 Z\" fill=\"#000000\" fill-rule=\"evenodd\" fill-opacity=\"1\" /><path clip-path=\"url(#clip260)\" d=\"M 0 0 M52.6588 175.392 L60.2976 175.392 L60.2976 149.026 L51.9875 150.693 L51.9875 146.434 L60.2513 144.767 L64.9272 144.767 L64.9272 175.392 L72.5661 175.392 L72.5661 179.327 L52.6588 179.327 L52.6588 175.392 Z\" fill=\"#000000\" fill-rule=\"evenodd\" fill-opacity=\"1\" /><path clip-path=\"url(#clip260)\" d=\"M 0 0 M82.0105 173.447 L86.8947 173.447 L86.8947 179.327 L82.0105 179.327 L82.0105 173.447 Z\" fill=\"#000000\" fill-rule=\"evenodd\" fill-opacity=\"1\" /><path clip-path=\"url(#clip260)\" d=\"M 0 0 M101.108 175.392 L117.427 175.392 L117.427 179.327 L95.4826 179.327 L95.4826 175.392 Q98.1447 172.637 102.728 168.008 Q107.334 163.355 108.515 162.012 Q110.76 159.489 111.64 157.753 Q112.543 155.994 112.543 154.304 Q112.543 151.549 110.598 149.813 Q108.677 148.077 105.575 148.077 Q103.376 148.077 100.922 148.841 Q98.4919 149.605 95.7141 151.156 L95.7141 146.434 Q98.5382 145.299 100.992 144.721 Q103.446 144.142 105.483 144.142 Q110.853 144.142 114.047 146.827 Q117.242 149.512 117.242 154.003 Q117.242 156.133 116.432 158.054 Q115.645 159.952 113.538 162.545 Q112.959 163.216 109.858 166.433 Q106.756 169.628 101.108 175.392 Z\" fill=\"#000000\" fill-rule=\"evenodd\" fill-opacity=\"1\" /><path clip-path=\"url(#clip260)\" d=\"M 0 0 M127.288 144.767 L145.644 144.767 L145.644 148.702 L131.57 148.702 L131.57 157.174 Q132.589 156.827 133.607 156.665 Q134.626 156.48 135.644 156.48 Q141.431 156.48 144.811 159.651 Q148.191 162.822 148.191 168.239 Q148.191 173.818 144.718 176.92 Q141.246 179.998 134.927 179.998 Q132.751 179.998 130.482 179.628 Q128.237 179.257 125.83 178.517 L125.83 173.818 Q127.913 174.952 130.135 175.507 Q132.357 176.063 134.834 176.063 Q138.839 176.063 141.177 173.957 Q143.515 171.85 143.515 168.239 Q143.515 164.628 141.177 162.521 Q138.839 160.415 134.834 160.415 Q132.959 160.415 131.084 160.832 Q129.232 161.248 127.288 162.128 L127.288 144.767 Z\" fill=\"#000000\" fill-rule=\"evenodd\" fill-opacity=\"1\" /><path clip-path=\"url(#clip260)\" d=\"M 0 0 M887.567 63.9476 L887.567 47.7034 L874.199 47.7034 L874.199 40.9789 L895.669 40.9789 L895.669 66.9452 Q890.929 70.3075 885.217 72.0494 Q879.505 73.7508 873.024 73.7508 Q858.846 73.7508 850.825 65.4869 Q842.845 57.1826 842.845 42.3968 Q842.845 27.5705 850.825 19.3066 Q858.846 11.0023 873.024 11.0023 Q878.938 11.0023 884.245 12.4606 Q889.592 13.9189 894.089 16.7545 L894.089 25.464 Q889.552 21.6156 884.448 19.6712 Q879.343 17.7268 873.713 17.7268 Q862.613 17.7268 857.023 23.9246 Q851.473 30.1225 851.473 42.3968 Q851.473 54.6305 857.023 60.8284 Q862.613 67.0263 873.713 67.0263 Q878.047 67.0263 881.45 66.2971 Q884.853 65.5274 887.567 63.9476 Z\" fill=\"#000000\" fill-rule=\"evenodd\" fill-opacity=\"1\" /><path clip-path=\"url(#clip260)\" d=\"M 0 0 M930.911 49.7694 Q921.878 49.7694 918.394 51.8354 Q914.91 53.9013 914.91 58.8839 Q914.91 62.8538 917.503 65.2034 Q920.136 67.5124 924.633 67.5124 Q930.83 67.5124 934.557 63.1374 Q938.325 58.7219 938.325 51.4303 L938.325 49.7694 L930.911 49.7694 M945.778 46.6907 L945.778 72.576 L938.325 72.576 L938.325 65.6895 Q935.773 69.8214 931.965 71.8063 Q928.157 73.7508 922.648 73.7508 Q915.68 73.7508 911.548 69.8619 Q907.457 65.9325 907.457 59.3701 Q907.457 51.7138 912.561 47.825 Q917.705 43.9361 927.873 43.9361 L938.325 43.9361 L938.325 43.2069 Q938.325 38.0623 934.922 35.2672 Q931.56 32.4315 925.443 32.4315 Q921.554 32.4315 917.868 33.3632 Q914.181 34.295 910.778 36.1584 L910.778 29.2718 Q914.87 27.692 918.718 26.9223 Q922.567 26.1121 926.212 26.1121 Q936.056 26.1121 940.917 31.2163 Q945.778 36.3204 945.778 46.6907 Z\" fill=\"#000000\" fill-rule=\"evenodd\" fill-opacity=\"1\" /><path clip-path=\"url(#clip260)\" d=\"M 0 0 M960.362 54.671 L960.362 27.2059 L967.815 27.2059 L967.815 54.3874 Q967.815 60.8284 970.327 64.0691 Q972.838 67.2693 977.861 67.2693 Q983.897 67.2693 987.381 63.421 Q990.905 59.5726 990.905 52.9291 L990.905 27.2059 L998.359 27.2059 L998.359 72.576 L990.905 72.576 L990.905 65.6084 Q988.191 69.7404 984.586 71.7658 Q981.021 73.7508 976.282 73.7508 Q968.463 73.7508 964.412 68.8897 Q960.362 64.0286 960.362 54.671 M979.117 26.1121 L979.117 26.1121 Z\" fill=\"#000000\" fill-rule=\"evenodd\" fill-opacity=\"1\" /><path clip-path=\"url(#clip260)\" d=\"M 0 0 M1042.64 28.5427 L1042.64 35.5912 Q1039.48 33.9709 1036.07 33.1607 Q1032.67 32.3505 1029.02 32.3505 Q1023.47 32.3505 1020.68 34.0519 Q1017.92 35.7533 1017.92 39.156 Q1017.92 41.7486 1019.91 43.2475 Q1021.89 44.7058 1027.89 46.0426 L1030.44 46.6097 Q1038.38 48.3111 1041.7 51.4303 Q1045.07 54.509 1045.07 60.0587 Q1045.07 66.3781 1040.04 70.0644 Q1035.06 73.7508 1026.31 73.7508 Q1022.66 73.7508 1018.69 73.0216 Q1014.77 72.3329 1010.39 70.9151 L1010.39 63.2184 Q1014.52 65.3654 1018.53 66.4591 Q1022.54 67.5124 1026.47 67.5124 Q1031.74 67.5124 1034.57 65.73 Q1037.41 63.9071 1037.41 60.6258 Q1037.41 57.5877 1035.34 55.9673 Q1033.32 54.3469 1026.39 52.8481 L1023.8 52.2405 Q1016.87 50.7821 1013.79 47.7845 Q1010.71 44.7463 1010.71 39.4801 Q1010.71 33.0797 1015.25 29.5959 Q1019.79 26.1121 1028.13 26.1121 Q1032.27 26.1121 1035.91 26.7198 Q1039.56 27.3274 1042.64 28.5427 Z\" fill=\"#000000\" fill-rule=\"evenodd\" fill-opacity=\"1\" /><path clip-path=\"url(#clip260)\" d=\"M 0 0 M1085.86 28.5427 L1085.86 35.5912 Q1082.7 33.9709 1079.3 33.1607 Q1075.89 32.3505 1072.25 32.3505 Q1066.7 32.3505 1063.9 34.0519 Q1061.15 35.7533 1061.15 39.156 Q1061.15 41.7486 1063.13 43.2475 Q1065.12 44.7058 1071.11 46.0426 L1073.67 46.6097 Q1081.61 48.3111 1084.93 51.4303 Q1088.29 54.509 1088.29 60.0587 Q1088.29 66.3781 1083.27 70.0644 Q1078.28 73.7508 1069.53 73.7508 Q1065.89 73.7508 1061.92 73.0216 Q1057.99 72.3329 1053.61 70.9151 L1053.61 63.2184 Q1057.75 65.3654 1061.76 66.4591 Q1065.77 67.5124 1069.7 67.5124 Q1074.96 67.5124 1077.8 65.73 Q1080.63 63.9071 1080.63 60.6258 Q1080.63 57.5877 1078.57 55.9673 Q1076.54 54.3469 1069.61 52.8481 L1067.02 52.2405 Q1060.09 50.7821 1057.02 47.7845 Q1053.94 44.7463 1053.94 39.4801 Q1053.94 33.0797 1058.47 29.5959 Q1063.01 26.1121 1071.36 26.1121 Q1075.49 26.1121 1079.13 26.7198 Q1082.78 27.3274 1085.86 28.5427 Z\" fill=\"#000000\" fill-rule=\"evenodd\" fill-opacity=\"1\" /><path clip-path=\"url(#clip260)\" d=\"M 0 0 M1163.11 14.0809 L1163.11 22.0612 Q1158.45 19.8332 1154.32 18.7395 Q1150.19 17.6457 1146.34 17.6457 Q1139.65 17.6457 1136.01 20.2383 Q1132.4 22.8309 1132.4 27.611 Q1132.4 31.6214 1134.79 33.6873 Q1137.22 35.7128 1143.95 36.9686 L1148.89 37.9813 Q1158.05 39.7232 1162.38 44.1387 Q1166.76 48.5136 1166.76 55.8863 Q1166.76 64.6767 1160.84 69.2137 Q1154.97 73.7508 1143.58 73.7508 Q1139.29 73.7508 1134.43 72.7785 Q1129.61 71.8063 1124.42 69.9024 L1124.42 61.4765 Q1129.41 64.2716 1134.19 65.6895 Q1138.97 67.1073 1143.58 67.1073 Q1150.59 67.1073 1154.4 64.3527 Q1158.21 61.598 1158.21 56.4939 Q1158.21 52.0379 1155.45 49.5264 Q1152.74 47.0148 1146.5 45.759 L1141.52 44.7868 Q1132.36 42.9639 1128.27 39.075 Q1124.18 35.1862 1124.18 28.2591 Q1124.18 20.2383 1129.81 15.6203 Q1135.48 11.0023 1145.41 11.0023 Q1149.66 11.0023 1154.08 11.7719 Q1158.49 12.5416 1163.11 14.0809 Z\" fill=\"#000000\" fill-rule=\"evenodd\" fill-opacity=\"1\" /><path clip-path=\"url(#clip260)\" d=\"M 0 0 M1218 48.0275 L1218 51.6733 L1183.73 51.6733 Q1184.21 59.3701 1188.35 63.421 Q1192.52 67.4314 1199.93 67.4314 Q1204.23 67.4314 1208.24 66.3781 Q1212.29 65.3249 1216.26 63.2184 L1216.26 70.267 Q1212.25 71.9684 1208.03 72.8596 Q1203.82 73.7508 1199.49 73.7508 Q1188.63 73.7508 1182.27 67.4314 Q1175.95 61.1119 1175.95 50.3365 Q1175.95 39.1965 1181.95 32.6746 Q1187.98 26.1121 1198.19 26.1121 Q1207.35 26.1121 1212.65 32.0264 Q1218 37.9003 1218 48.0275 M1210.55 45.84 Q1210.46 39.7232 1207.1 36.0774 Q1203.78 32.4315 1198.27 32.4315 Q1192.03 32.4315 1188.27 35.9558 Q1184.54 39.4801 1183.97 45.8805 L1210.55 45.84 Z\" fill=\"#000000\" fill-rule=\"evenodd\" fill-opacity=\"1\" /><path clip-path=\"url(#clip260)\" d=\"M 0 0 M1230.23 27.2059 L1237.69 27.2059 L1237.69 72.576 L1230.23 72.576 L1230.23 27.2059 M1230.23 9.54393 L1237.69 9.54393 L1237.69 18.9825 L1230.23 18.9825 L1230.23 9.54393 Z\" fill=\"#000000\" fill-rule=\"evenodd\" fill-opacity=\"1\" /><path clip-path=\"url(#clip260)\" d=\"M 0 0 M1283.14 34.0924 L1283.14 9.54393 L1290.59 9.54393 L1290.59 72.576 L1283.14 72.576 L1283.14 65.7705 Q1280.79 69.8214 1277.18 71.8063 Q1273.62 73.7508 1268.59 73.7508 Q1260.37 73.7508 1255.19 67.1883 Q1250.04 60.6258 1250.04 49.9314 Q1250.04 39.2371 1255.19 32.6746 Q1260.37 26.1121 1268.59 26.1121 Q1273.62 26.1121 1277.18 28.0971 Q1280.79 30.0415 1283.14 34.0924 M1257.74 49.9314 Q1257.74 58.1548 1261.1 62.8538 Q1264.5 67.5124 1270.42 67.5124 Q1276.33 67.5124 1279.73 62.8538 Q1283.14 58.1548 1283.14 49.9314 Q1283.14 41.7081 1279.73 37.0496 Q1276.33 32.3505 1270.42 32.3505 Q1264.5 32.3505 1261.1 37.0496 Q1257.74 41.7081 1257.74 49.9314 Z\" fill=\"#000000\" fill-rule=\"evenodd\" fill-opacity=\"1\" /><path clip-path=\"url(#clip260)\" d=\"M 0 0 M1344.75 48.0275 L1344.75 51.6733 L1310.48 51.6733 Q1310.97 59.3701 1315.1 63.421 Q1319.27 67.4314 1326.68 67.4314 Q1330.98 67.4314 1334.99 66.3781 Q1339.04 65.3249 1343.01 63.2184 L1343.01 70.267 Q1339 71.9684 1334.79 72.8596 Q1330.57 73.7508 1326.24 73.7508 Q1315.38 73.7508 1309.02 67.4314 Q1302.7 61.1119 1302.7 50.3365 Q1302.7 39.1965 1308.7 32.6746 Q1314.73 26.1121 1324.94 26.1121 Q1334.1 26.1121 1339.4 32.0264 Q1344.75 37.9003 1344.75 48.0275 M1337.3 45.84 Q1337.22 39.7232 1333.85 36.0774 Q1330.53 32.4315 1325.02 32.4315 Q1318.79 32.4315 1315.02 35.9558 Q1311.29 39.4801 1310.72 45.8805 L1337.3 45.84 Z\" fill=\"#000000\" fill-rule=\"evenodd\" fill-opacity=\"1\" /><path clip-path=\"url(#clip260)\" d=\"M 0 0 M1356.99 9.54393 L1364.44 9.54393 L1364.44 72.576 L1356.99 72.576 L1356.99 9.54393 Z\" fill=\"#000000\" fill-rule=\"evenodd\" fill-opacity=\"1\" /><path clip-path=\"url(#clip260)\" d=\"M 0 0 M1435.41 44.2197 Q1438.04 45.1109 1440.52 48.0275 Q1443.03 50.9442 1445.54 56.0483 L1453.84 72.576 L1445.05 72.576 L1437.31 57.061 Q1434.32 50.9847 1431.48 48.9997 Q1428.69 47.0148 1423.83 47.0148 L1414.91 47.0148 L1414.91 72.576 L1406.73 72.576 L1406.73 12.096 L1425.2 12.096 Q1435.57 12.096 1440.68 16.4305 Q1445.78 20.7649 1445.78 29.5149 Q1445.78 35.2267 1443.11 38.994 Q1440.47 42.7613 1435.41 44.2197 M1414.91 18.8205 L1414.91 40.2903 L1425.2 40.2903 Q1431.12 40.2903 1434.11 37.5762 Q1437.15 34.8216 1437.15 29.5149 Q1437.15 24.2082 1434.11 21.5346 Q1431.12 18.8205 1425.2 18.8205 L1414.91 18.8205 Z\" fill=\"#000000\" fill-rule=\"evenodd\" fill-opacity=\"1\" /><path clip-path=\"url(#clip260)\" d=\"M 0 0 M1499.13 48.0275 L1499.13 51.6733 L1464.86 51.6733 Q1465.35 59.3701 1469.48 63.421 Q1473.65 67.4314 1481.06 67.4314 Q1485.36 67.4314 1489.37 66.3781 Q1493.42 65.3249 1497.39 63.2184 L1497.39 70.267 Q1493.38 71.9684 1489.17 72.8596 Q1484.95 73.7508 1480.62 73.7508 Q1469.76 73.7508 1463.4 67.4314 Q1457.08 61.1119 1457.08 50.3365 Q1457.08 39.1965 1463.08 32.6746 Q1469.11 26.1121 1479.32 26.1121 Q1488.48 26.1121 1493.78 32.0264 Q1499.13 37.9003 1499.13 48.0275 M1491.68 45.84 Q1491.6 39.7232 1488.23 36.0774 Q1484.91 32.4315 1479.4 32.4315 Q1473.17 32.4315 1469.4 35.9558 Q1465.67 39.4801 1465.1 45.8805 L1491.68 45.84 Z\" fill=\"#000000\" fill-rule=\"evenodd\" fill-opacity=\"1\" /><path clip-path=\"url(#clip260)\" d=\"M 0 0 M1540.29 28.5427 L1540.29 35.5912 Q1537.13 33.9709 1533.73 33.1607 Q1530.32 32.3505 1526.68 32.3505 Q1521.13 32.3505 1518.33 34.0519 Q1515.58 35.7533 1515.58 39.156 Q1515.58 41.7486 1517.56 43.2475 Q1519.55 44.7058 1525.54 46.0426 L1528.1 46.6097 Q1536.04 48.3111 1539.36 51.4303 Q1542.72 54.509 1542.72 60.0587 Q1542.72 66.3781 1537.7 70.0644 Q1532.71 73.7508 1523.96 73.7508 Q1520.32 73.7508 1516.35 73.0216 Q1512.42 72.3329 1508.04 70.9151 L1508.04 63.2184 Q1512.18 65.3654 1516.19 66.4591 Q1520.2 67.5124 1524.13 67.5124 Q1529.39 67.5124 1532.23 65.73 Q1535.06 63.9071 1535.06 60.6258 Q1535.06 57.5877 1533 55.9673 Q1530.97 54.3469 1524.04 52.8481 L1521.45 52.2405 Q1514.53 50.7821 1511.45 47.7845 Q1508.37 44.7463 1508.37 39.4801 Q1508.37 33.0797 1512.9 29.5959 Q1517.44 26.1121 1525.79 26.1121 Q1529.92 26.1121 1533.56 26.7198 Q1537.21 27.3274 1540.29 28.5427 Z\" fill=\"#000000\" fill-rule=\"evenodd\" fill-opacity=\"1\" /><path clip-path=\"url(#clip260)\" d=\"M 0 0 M1553.82 54.671 L1553.82 27.2059 L1561.27 27.2059 L1561.27 54.3874 Q1561.27 60.8284 1563.78 64.0691 Q1566.3 67.2693 1571.32 67.2693 Q1577.35 67.2693 1580.84 63.421 Q1584.36 59.5726 1584.36 52.9291 L1584.36 27.2059 L1591.82 27.2059 L1591.82 72.576 L1584.36 72.576 L1584.36 65.6084 Q1581.65 69.7404 1578.04 71.7658 Q1574.48 73.7508 1569.74 73.7508 Q1561.92 73.7508 1557.87 68.8897 Q1553.82 64.0286 1553.82 54.671 M1572.57 26.1121 L1572.57 26.1121 Z\" fill=\"#000000\" fill-rule=\"evenodd\" fill-opacity=\"1\" /><path clip-path=\"url(#clip260)\" d=\"M 0 0 M1607.17 9.54393 L1614.62 9.54393 L1614.62 72.576 L1607.17 72.576 L1607.17 9.54393 Z\" fill=\"#000000\" fill-rule=\"evenodd\" fill-opacity=\"1\" /><path clip-path=\"url(#clip260)\" d=\"M 0 0 M1637.59 14.324 L1637.59 27.2059 L1652.94 27.2059 L1652.94 32.9987 L1637.59 32.9987 L1637.59 57.6282 Q1637.59 63.1779 1639.09 64.7578 Q1640.63 66.3376 1645.29 66.3376 L1652.94 66.3376 L1652.94 72.576 L1645.29 72.576 Q1636.66 72.576 1633.38 69.3758 Q1630.1 66.1351 1630.1 57.6282 L1630.1 32.9987 L1624.63 32.9987 L1624.63 27.2059 L1630.1 27.2059 L1630.1 14.324 L1637.59 14.324 Z\" fill=\"#000000\" fill-rule=\"evenodd\" fill-opacity=\"1\" /><path clip-path=\"url(#clip260)\" d=\"M 0 0 M1691.67 28.5427 L1691.67 35.5912 Q1688.51 33.9709 1685.11 33.1607 Q1681.71 32.3505 1678.06 32.3505 Q1672.51 32.3505 1669.72 34.0519 Q1666.96 35.7533 1666.96 39.156 Q1666.96 41.7486 1668.95 43.2475 Q1670.93 44.7058 1676.93 46.0426 L1679.48 46.6097 Q1687.42 48.3111 1690.74 51.4303 Q1694.1 54.509 1694.1 60.0587 Q1694.1 66.3781 1689.08 70.0644 Q1684.1 73.7508 1675.35 73.7508 Q1671.7 73.7508 1667.73 73.0216 Q1663.8 72.3329 1659.43 70.9151 L1659.43 63.2184 Q1663.56 65.3654 1667.57 66.4591 Q1671.58 67.5124 1675.51 67.5124 Q1680.77 67.5124 1683.61 65.73 Q1686.45 63.9071 1686.45 60.6258 Q1686.45 57.5877 1684.38 55.9673 Q1682.35 54.3469 1675.43 52.8481 L1672.83 52.2405 Q1665.91 50.7821 1662.83 47.7845 Q1659.75 44.7463 1659.75 39.4801 Q1659.75 33.0797 1664.29 29.5959 Q1668.82 26.1121 1677.17 26.1121 Q1681.3 26.1121 1684.95 26.7198 Q1688.59 27.3274 1691.67 28.5427 Z\" fill=\"#000000\" fill-rule=\"evenodd\" fill-opacity=\"1\" /><circle clip-path=\"url(#clip262)\" cx=\"2291.38\" cy=\"1447.87\" r=\"14\" fill=\"#009af9\" fill-rule=\"evenodd\" fill-opacity=\"1\" stroke=\"#000000\" stroke-opacity=\"1\" stroke-width=\"3.2\"/>\n",
       "<circle clip-path=\"url(#clip262)\" cx=\"245.565\" cy=\"162.047\" r=\"14\" fill=\"#009af9\" fill-rule=\"evenodd\" fill-opacity=\"1\" stroke=\"#000000\" stroke-opacity=\"1\" stroke-width=\"3.2\"/>\n",
       "<circle clip-path=\"url(#clip262)\" cx=\"757.019\" cy=\"483.503\" r=\"14\" fill=\"#009af9\" fill-rule=\"evenodd\" fill-opacity=\"1\" stroke=\"#000000\" stroke-opacity=\"1\" stroke-width=\"3.2\"/>\n",
       "<circle clip-path=\"url(#clip262)\" cx=\"629.156\" cy=\"403.139\" r=\"14\" fill=\"#009af9\" fill-rule=\"evenodd\" fill-opacity=\"1\" stroke=\"#000000\" stroke-opacity=\"1\" stroke-width=\"3.2\"/>\n",
       "<circle clip-path=\"url(#clip262)\" cx=\"661.122\" cy=\"423.23\" r=\"14\" fill=\"#009af9\" fill-rule=\"evenodd\" fill-opacity=\"1\" stroke=\"#000000\" stroke-opacity=\"1\" stroke-width=\"3.2\"/>\n",
       "<circle clip-path=\"url(#clip262)\" cx=\"653.13\" cy=\"418.208\" r=\"14\" fill=\"#009af9\" fill-rule=\"evenodd\" fill-opacity=\"1\" stroke=\"#000000\" stroke-opacity=\"1\" stroke-width=\"3.2\"/>\n",
       "</svg>\n"
      ],
      "text/html": [
       "<?xml version=\"1.0\" encoding=\"utf-8\"?>\n",
       "<svg xmlns=\"http://www.w3.org/2000/svg\" xmlns:xlink=\"http://www.w3.org/1999/xlink\" width=\"600\" height=\"400\" viewBox=\"0 0 2400 1600\">\n",
       "<defs>\n",
       "  <clipPath id=\"clip310\">\n",
       "    <rect x=\"0\" y=\"0\" width=\"2400\" height=\"1600\"/>\n",
       "  </clipPath>\n",
       "</defs>\n",
       "<path clip-path=\"url(#clip310)\" d=\"\n",
       "M0 1600 L2400 1600 L2400 0 L0 0  Z\n",
       "  \" fill=\"#ffffff\" fill-rule=\"evenodd\" fill-opacity=\"1\"/>\n",
       "<defs>\n",
       "  <clipPath id=\"clip311\">\n",
       "    <rect x=\"480\" y=\"0\" width=\"1681\" height=\"1600\"/>\n",
       "  </clipPath>\n",
       "</defs>\n",
       "<path clip-path=\"url(#clip310)\" d=\"\n",
       "M184.191 1486.45 L2352.76 1486.45 L2352.76 123.472 L184.191 123.472  Z\n",
       "  \" fill=\"#ffffff\" fill-rule=\"evenodd\" fill-opacity=\"1\"/>\n",
       "<defs>\n",
       "  <clipPath id=\"clip312\">\n",
       "    <rect x=\"184\" y=\"123\" width=\"2170\" height=\"1364\"/>\n",
       "  </clipPath>\n",
       "</defs>\n",
       "<polyline clip-path=\"url(#clip312)\" style=\"stroke:#000000; stroke-width:2; stroke-opacity:0.1; fill:none\" points=\"\n",
       "  491.063,1486.45 491.063,123.472 \n",
       "  \"/>\n",
       "<polyline clip-path=\"url(#clip312)\" style=\"stroke:#000000; stroke-width:2; stroke-opacity:0.1; fill:none\" points=\"\n",
       "  982.059,1486.45 982.059,123.472 \n",
       "  \"/>\n",
       "<polyline clip-path=\"url(#clip312)\" style=\"stroke:#000000; stroke-width:2; stroke-opacity:0.1; fill:none\" points=\"\n",
       "  1473.05,1486.45 1473.05,123.472 \n",
       "  \"/>\n",
       "<polyline clip-path=\"url(#clip312)\" style=\"stroke:#000000; stroke-width:2; stroke-opacity:0.1; fill:none\" points=\"\n",
       "  1964.05,1486.45 1964.05,123.472 \n",
       "  \"/>\n",
       "<polyline clip-path=\"url(#clip310)\" style=\"stroke:#000000; stroke-width:4; stroke-opacity:1; fill:none\" points=\"\n",
       "  184.191,1486.45 2352.76,1486.45 \n",
       "  \"/>\n",
       "<polyline clip-path=\"url(#clip310)\" style=\"stroke:#000000; stroke-width:4; stroke-opacity:1; fill:none\" points=\"\n",
       "  491.063,1486.45 491.063,1470.09 \n",
       "  \"/>\n",
       "<polyline clip-path=\"url(#clip310)\" style=\"stroke:#000000; stroke-width:4; stroke-opacity:1; fill:none\" points=\"\n",
       "  982.059,1486.45 982.059,1470.09 \n",
       "  \"/>\n",
       "<polyline clip-path=\"url(#clip310)\" style=\"stroke:#000000; stroke-width:4; stroke-opacity:1; fill:none\" points=\"\n",
       "  1473.05,1486.45 1473.05,1470.09 \n",
       "  \"/>\n",
       "<polyline clip-path=\"url(#clip310)\" style=\"stroke:#000000; stroke-width:4; stroke-opacity:1; fill:none\" points=\"\n",
       "  1964.05,1486.45 1964.05,1470.09 \n",
       "  \"/>\n",
       "<path clip-path=\"url(#clip310)\" d=\"M 0 0 M453.459 1515.64 Q449.848 1515.64 448.019 1519.2 Q446.214 1522.75 446.214 1529.87 Q446.214 1536.98 448.019 1540.55 Q449.848 1544.09 453.459 1544.09 Q457.093 1544.09 458.899 1540.55 Q460.728 1536.98 460.728 1529.87 Q460.728 1522.75 458.899 1519.2 Q457.093 1515.64 453.459 1515.64 M453.459 1511.93 Q459.269 1511.93 462.325 1516.54 Q465.404 1521.12 465.404 1529.87 Q465.404 1538.6 462.325 1543.21 Q459.269 1547.79 453.459 1547.79 Q447.649 1547.79 444.57 1543.21 Q441.515 1538.6 441.515 1529.87 Q441.515 1521.12 444.57 1516.54 Q447.649 1511.93 453.459 1511.93 Z\" fill=\"#000000\" fill-rule=\"evenodd\" fill-opacity=\"1\" /><path clip-path=\"url(#clip310)\" d=\"M 0 0 M473.621 1541.24 L478.505 1541.24 L478.505 1547.12 L473.621 1547.12 L473.621 1541.24 Z\" fill=\"#000000\" fill-rule=\"evenodd\" fill-opacity=\"1\" /><path clip-path=\"url(#clip310)\" d=\"M 0 0 M502.857 1528.49 Q506.213 1529.2 508.088 1531.47 Q509.987 1533.74 509.987 1537.07 Q509.987 1542.19 506.468 1544.99 Q502.95 1547.79 496.468 1547.79 Q494.292 1547.79 491.977 1547.35 Q489.686 1546.93 487.232 1546.08 L487.232 1541.56 Q489.177 1542.7 491.491 1543.28 Q493.806 1543.86 496.329 1543.86 Q500.727 1543.86 503.019 1542.12 Q505.334 1540.38 505.334 1537.07 Q505.334 1534.02 503.181 1532.31 Q501.051 1530.57 497.232 1530.57 L493.204 1530.57 L493.204 1526.73 L497.417 1526.73 Q500.866 1526.73 502.695 1525.36 Q504.524 1523.97 504.524 1521.38 Q504.524 1518.72 502.626 1517.31 Q500.751 1515.87 497.232 1515.87 Q495.311 1515.87 493.112 1516.29 Q490.913 1516.7 488.274 1517.58 L488.274 1513.42 Q490.936 1512.68 493.251 1512.31 Q495.589 1511.93 497.649 1511.93 Q502.973 1511.93 506.075 1514.37 Q509.176 1516.77 509.176 1520.89 Q509.176 1523.76 507.533 1525.75 Q505.889 1527.72 502.857 1528.49 Z\" fill=\"#000000\" fill-rule=\"evenodd\" fill-opacity=\"1\" /><path clip-path=\"url(#clip310)\" d=\"M 0 0 M518.991 1546.4 L518.991 1542.14 Q520.75 1542.98 522.556 1543.42 Q524.362 1543.86 526.098 1543.86 Q530.727 1543.86 533.158 1540.75 Q535.611 1537.63 535.959 1531.29 Q534.616 1533.28 532.556 1534.34 Q530.496 1535.41 527.996 1535.41 Q522.811 1535.41 519.778 1532.28 Q516.769 1529.13 516.769 1523.69 Q516.769 1518.37 519.917 1515.15 Q523.065 1511.93 528.297 1511.93 Q534.292 1511.93 537.44 1516.54 Q540.611 1521.12 540.611 1529.87 Q540.611 1538.05 536.723 1542.93 Q532.857 1547.79 526.306 1547.79 Q524.547 1547.79 522.741 1547.44 Q520.936 1547.1 518.991 1546.4 M528.297 1531.75 Q531.445 1531.75 533.274 1529.6 Q535.125 1527.44 535.125 1523.69 Q535.125 1519.97 533.274 1517.81 Q531.445 1515.64 528.297 1515.64 Q525.149 1515.64 523.297 1517.81 Q521.468 1519.97 521.468 1523.69 Q521.468 1527.44 523.297 1529.6 Q525.149 1531.75 528.297 1531.75 Z\" fill=\"#000000\" fill-rule=\"evenodd\" fill-opacity=\"1\" /><path clip-path=\"url(#clip310)\" d=\"M 0 0 M945.161 1515.64 Q941.55 1515.64 939.721 1519.2 Q937.916 1522.75 937.916 1529.87 Q937.916 1536.98 939.721 1540.55 Q941.55 1544.09 945.161 1544.09 Q948.795 1544.09 950.601 1540.55 Q952.43 1536.98 952.43 1529.87 Q952.43 1522.75 950.601 1519.2 Q948.795 1515.64 945.161 1515.64 M945.161 1511.93 Q950.971 1511.93 954.027 1516.54 Q957.105 1521.12 957.105 1529.87 Q957.105 1538.6 954.027 1543.21 Q950.971 1547.79 945.161 1547.79 Q939.351 1547.79 936.272 1543.21 Q933.217 1538.6 933.217 1529.87 Q933.217 1521.12 936.272 1516.54 Q939.351 1511.93 945.161 1511.93 Z\" fill=\"#000000\" fill-rule=\"evenodd\" fill-opacity=\"1\" /><path clip-path=\"url(#clip310)\" d=\"M 0 0 M965.323 1541.24 L970.207 1541.24 L970.207 1547.12 L965.323 1547.12 L965.323 1541.24 Z\" fill=\"#000000\" fill-rule=\"evenodd\" fill-opacity=\"1\" /><path clip-path=\"url(#clip310)\" d=\"M 0 0 M993.24 1516.63 L981.434 1535.08 L993.24 1535.08 L993.24 1516.63 M992.013 1512.56 L997.892 1512.56 L997.892 1535.08 L1002.82 1535.08 L1002.82 1538.97 L997.892 1538.97 L997.892 1547.12 L993.24 1547.12 L993.24 1538.97 L977.638 1538.97 L977.638 1534.46 L992.013 1512.56 Z\" fill=\"#000000\" fill-rule=\"evenodd\" fill-opacity=\"1\" /><path clip-path=\"url(#clip310)\" d=\"M 0 0 M1014.58 1543.18 L1030.9 1543.18 L1030.9 1547.12 L1008.96 1547.12 L1008.96 1543.18 Q1011.62 1540.43 1016.2 1535.8 Q1020.81 1531.15 1021.99 1529.81 Q1024.23 1527.28 1025.11 1525.55 Q1026.02 1523.79 1026.02 1522.1 Q1026.02 1519.34 1024.07 1517.61 Q1022.15 1515.87 1019.05 1515.87 Q1016.85 1515.87 1014.4 1516.63 Q1011.97 1517.4 1009.19 1518.95 L1009.19 1514.23 Q1012.01 1513.09 1014.47 1512.51 Q1016.92 1511.93 1018.96 1511.93 Q1024.33 1511.93 1027.52 1514.62 Q1030.72 1517.31 1030.72 1521.8 Q1030.72 1523.93 1029.91 1525.85 Q1029.12 1527.74 1027.01 1530.34 Q1026.43 1531.01 1023.33 1534.23 Q1020.23 1537.42 1014.58 1543.18 Z\" fill=\"#000000\" fill-rule=\"evenodd\" fill-opacity=\"1\" /><path clip-path=\"url(#clip310)\" d=\"M 0 0 M1435.86 1515.64 Q1432.24 1515.64 1430.42 1519.2 Q1428.61 1522.75 1428.61 1529.87 Q1428.61 1536.98 1430.42 1540.55 Q1432.24 1544.09 1435.86 1544.09 Q1439.49 1544.09 1441.3 1540.55 Q1443.12 1536.98 1443.12 1529.87 Q1443.12 1522.75 1441.3 1519.2 Q1439.49 1515.64 1435.86 1515.64 M1435.86 1511.93 Q1441.67 1511.93 1444.72 1516.54 Q1447.8 1521.12 1447.8 1529.87 Q1447.8 1538.6 1444.72 1543.21 Q1441.67 1547.79 1435.86 1547.79 Q1430.05 1547.79 1426.97 1543.21 Q1423.91 1538.6 1423.91 1529.87 Q1423.91 1521.12 1426.97 1516.54 Q1430.05 1511.93 1435.86 1511.93 Z\" fill=\"#000000\" fill-rule=\"evenodd\" fill-opacity=\"1\" /><path clip-path=\"url(#clip310)\" d=\"M 0 0 M1456.02 1541.24 L1460.9 1541.24 L1460.9 1547.12 L1456.02 1547.12 L1456.02 1541.24 Z\" fill=\"#000000\" fill-rule=\"evenodd\" fill-opacity=\"1\" /><path clip-path=\"url(#clip310)\" d=\"M 0 0 M1483.93 1516.63 L1472.13 1535.08 L1483.93 1535.08 L1483.93 1516.63 M1482.71 1512.56 L1488.59 1512.56 L1488.59 1535.08 L1493.52 1535.08 L1493.52 1538.97 L1488.59 1538.97 L1488.59 1547.12 L1483.93 1547.12 L1483.93 1538.97 L1468.33 1538.97 L1468.33 1534.46 L1482.71 1512.56 Z\" fill=\"#000000\" fill-rule=\"evenodd\" fill-opacity=\"1\" /><path clip-path=\"url(#clip310)\" d=\"M 0 0 M1501.3 1512.56 L1519.65 1512.56 L1519.65 1516.5 L1505.58 1516.5 L1505.58 1524.97 Q1506.6 1524.62 1507.61 1524.46 Q1508.63 1524.27 1509.65 1524.27 Q1515.44 1524.27 1518.82 1527.44 Q1522.2 1530.62 1522.2 1536.03 Q1522.2 1541.61 1518.73 1544.71 Q1515.25 1547.79 1508.93 1547.79 Q1506.76 1547.79 1504.49 1547.42 Q1502.24 1547.05 1499.84 1546.31 L1499.84 1541.61 Q1501.92 1542.74 1504.14 1543.3 Q1506.36 1543.86 1508.84 1543.86 Q1512.85 1543.86 1515.18 1541.75 Q1517.52 1539.64 1517.52 1536.03 Q1517.52 1532.42 1515.18 1530.31 Q1512.85 1528.21 1508.84 1528.21 Q1506.97 1528.21 1505.09 1528.62 Q1503.24 1529.04 1501.3 1529.92 L1501.3 1512.56 Z\" fill=\"#000000\" fill-rule=\"evenodd\" fill-opacity=\"1\" /><path clip-path=\"url(#clip310)\" d=\"M 0 0 M1926.4 1515.64 Q1922.79 1515.64 1920.96 1519.2 Q1919.16 1522.75 1919.16 1529.87 Q1919.16 1536.98 1920.96 1540.55 Q1922.79 1544.09 1926.4 1544.09 Q1930.03 1544.09 1931.84 1540.55 Q1933.67 1536.98 1933.67 1529.87 Q1933.67 1522.75 1931.84 1519.2 Q1930.03 1515.64 1926.4 1515.64 M1926.4 1511.93 Q1932.21 1511.93 1935.27 1516.54 Q1938.34 1521.12 1938.34 1529.87 Q1938.34 1538.6 1935.27 1543.21 Q1932.21 1547.79 1926.4 1547.79 Q1920.59 1547.79 1917.51 1543.21 Q1914.46 1538.6 1914.46 1529.87 Q1914.46 1521.12 1917.51 1516.54 Q1920.59 1511.93 1926.4 1511.93 Z\" fill=\"#000000\" fill-rule=\"evenodd\" fill-opacity=\"1\" /><path clip-path=\"url(#clip310)\" d=\"M 0 0 M1946.56 1541.24 L1951.45 1541.24 L1951.45 1547.12 L1946.56 1547.12 L1946.56 1541.24 Z\" fill=\"#000000\" fill-rule=\"evenodd\" fill-opacity=\"1\" /><path clip-path=\"url(#clip310)\" d=\"M 0 0 M1974.48 1516.63 L1962.67 1535.08 L1974.48 1535.08 L1974.48 1516.63 M1973.25 1512.56 L1979.13 1512.56 L1979.13 1535.08 L1984.06 1535.08 L1984.06 1538.97 L1979.13 1538.97 L1979.13 1547.12 L1974.48 1547.12 L1974.48 1538.97 L1958.88 1538.97 L1958.88 1534.46 L1973.25 1512.56 Z\" fill=\"#000000\" fill-rule=\"evenodd\" fill-opacity=\"1\" /><path clip-path=\"url(#clip310)\" d=\"M 0 0 M2001.79 1530.71 Q1998.46 1530.71 1996.54 1532.49 Q1994.64 1534.27 1994.64 1537.4 Q1994.64 1540.52 1996.54 1542.31 Q1998.46 1544.09 2001.79 1544.09 Q2005.13 1544.09 2007.05 1542.31 Q2008.97 1540.5 2008.97 1537.4 Q2008.97 1534.27 2007.05 1532.49 Q2005.15 1530.71 2001.79 1530.71 M1997.12 1528.72 Q1994.11 1527.98 1992.42 1525.92 Q1990.75 1523.86 1990.75 1520.89 Q1990.75 1516.75 1993.69 1514.34 Q1996.65 1511.93 2001.79 1511.93 Q2006.96 1511.93 2009.9 1514.34 Q2012.84 1516.75 2012.84 1520.89 Q2012.84 1523.86 2011.15 1525.92 Q2009.48 1527.98 2006.49 1528.72 Q2009.87 1529.5 2011.75 1531.8 Q2013.65 1534.09 2013.65 1537.4 Q2013.65 1542.42 2010.57 1545.11 Q2007.51 1547.79 2001.79 1547.79 Q1996.08 1547.79 1993 1545.11 Q1989.94 1542.42 1989.94 1537.4 Q1989.94 1534.09 1991.84 1531.8 Q1993.74 1529.5 1997.12 1528.72 M1995.4 1521.33 Q1995.4 1524.02 1997.07 1525.52 Q1998.76 1527.03 2001.79 1527.03 Q2004.8 1527.03 2006.49 1525.52 Q2008.21 1524.02 2008.21 1521.33 Q2008.21 1518.65 2006.49 1517.14 Q2004.8 1515.64 2001.79 1515.64 Q1998.76 1515.64 1997.07 1517.14 Q1995.4 1518.65 1995.4 1521.33 Z\" fill=\"#000000\" fill-rule=\"evenodd\" fill-opacity=\"1\" /><polyline clip-path=\"url(#clip312)\" style=\"stroke:#000000; stroke-width:2; stroke-opacity:0.1; fill:none\" points=\"\n",
       "  184.191,1447.87 2352.76,1447.87 \n",
       "  \"/>\n",
       "<polyline clip-path=\"url(#clip312)\" style=\"stroke:#000000; stroke-width:2; stroke-opacity:0.1; fill:none\" points=\"\n",
       "  184.191,1190.71 2352.76,1190.71 \n",
       "  \"/>\n",
       "<polyline clip-path=\"url(#clip312)\" style=\"stroke:#000000; stroke-width:2; stroke-opacity:0.1; fill:none\" points=\"\n",
       "  184.191,933.543 2352.76,933.543 \n",
       "  \"/>\n",
       "<polyline clip-path=\"url(#clip312)\" style=\"stroke:#000000; stroke-width:2; stroke-opacity:0.1; fill:none\" points=\"\n",
       "  184.191,676.377 2352.76,676.377 \n",
       "  \"/>\n",
       "<polyline clip-path=\"url(#clip312)\" style=\"stroke:#000000; stroke-width:2; stroke-opacity:0.1; fill:none\" points=\"\n",
       "  184.191,419.212 2352.76,419.212 \n",
       "  \"/>\n",
       "<polyline clip-path=\"url(#clip312)\" style=\"stroke:#000000; stroke-width:2; stroke-opacity:0.1; fill:none\" points=\"\n",
       "  184.191,162.047 2352.76,162.047 \n",
       "  \"/>\n",
       "<polyline clip-path=\"url(#clip310)\" style=\"stroke:#000000; stroke-width:4; stroke-opacity:1; fill:none\" points=\"\n",
       "  184.191,1486.45 184.191,123.472 \n",
       "  \"/>\n",
       "<polyline clip-path=\"url(#clip310)\" style=\"stroke:#000000; stroke-width:4; stroke-opacity:1; fill:none\" points=\"\n",
       "  184.191,1447.87 210.213,1447.87 \n",
       "  \"/>\n",
       "<polyline clip-path=\"url(#clip310)\" style=\"stroke:#000000; stroke-width:4; stroke-opacity:1; fill:none\" points=\"\n",
       "  184.191,1190.71 210.213,1190.71 \n",
       "  \"/>\n",
       "<polyline clip-path=\"url(#clip310)\" style=\"stroke:#000000; stroke-width:4; stroke-opacity:1; fill:none\" points=\"\n",
       "  184.191,933.543 210.213,933.543 \n",
       "  \"/>\n",
       "<polyline clip-path=\"url(#clip310)\" style=\"stroke:#000000; stroke-width:4; stroke-opacity:1; fill:none\" points=\"\n",
       "  184.191,676.377 210.213,676.377 \n",
       "  \"/>\n",
       "<polyline clip-path=\"url(#clip310)\" style=\"stroke:#000000; stroke-width:4; stroke-opacity:1; fill:none\" points=\"\n",
       "  184.191,419.212 210.213,419.212 \n",
       "  \"/>\n",
       "<polyline clip-path=\"url(#clip310)\" style=\"stroke:#000000; stroke-width:4; stroke-opacity:1; fill:none\" points=\"\n",
       "  184.191,162.047 210.213,162.047 \n",
       "  \"/>\n",
       "<path clip-path=\"url(#clip310)\" d=\"M 0 0 M51.6634 1461.22 L59.3023 1461.22 L59.3023 1434.85 L50.9921 1436.52 L50.9921 1432.26 L59.256 1430.59 L63.9319 1430.59 L63.9319 1461.22 L71.5707 1461.22 L71.5707 1465.15 L51.6634 1465.15 L51.6634 1461.22 Z\" fill=\"#000000\" fill-rule=\"evenodd\" fill-opacity=\"1\" /><path clip-path=\"url(#clip310)\" d=\"M 0 0 M81.0151 1459.27 L85.8993 1459.27 L85.8993 1465.15 L81.0151 1465.15 L81.0151 1459.27 Z\" fill=\"#000000\" fill-rule=\"evenodd\" fill-opacity=\"1\" /><path clip-path=\"url(#clip310)\" d=\"M 0 0 M106.084 1433.67 Q102.473 1433.67 100.645 1437.24 Q98.8391 1440.78 98.8391 1447.91 Q98.8391 1455.01 100.645 1458.58 Q102.473 1462.12 106.084 1462.12 Q109.719 1462.12 111.524 1458.58 Q113.353 1455.01 113.353 1447.91 Q113.353 1440.78 111.524 1437.24 Q109.719 1433.67 106.084 1433.67 M106.084 1429.97 Q111.895 1429.97 114.95 1434.57 Q118.029 1439.16 118.029 1447.91 Q118.029 1456.63 114.95 1461.24 Q111.895 1465.82 106.084 1465.82 Q100.274 1465.82 97.1956 1461.24 Q94.14 1456.63 94.14 1447.91 Q94.14 1439.16 97.1956 1434.57 Q100.274 1429.97 106.084 1429.97 Z\" fill=\"#000000\" fill-rule=\"evenodd\" fill-opacity=\"1\" /><path clip-path=\"url(#clip310)\" d=\"M 0 0 M136.246 1433.67 Q132.635 1433.67 130.807 1437.24 Q129.001 1440.78 129.001 1447.91 Q129.001 1455.01 130.807 1458.58 Q132.635 1462.12 136.246 1462.12 Q139.881 1462.12 141.686 1458.58 Q143.515 1455.01 143.515 1447.91 Q143.515 1440.78 141.686 1437.24 Q139.881 1433.67 136.246 1433.67 M136.246 1429.97 Q142.056 1429.97 145.112 1434.57 Q148.191 1439.16 148.191 1447.91 Q148.191 1456.63 145.112 1461.24 Q142.056 1465.82 136.246 1465.82 Q130.436 1465.82 127.357 1461.24 Q124.302 1456.63 124.302 1447.91 Q124.302 1439.16 127.357 1434.57 Q130.436 1429.97 136.246 1429.97 Z\" fill=\"#000000\" fill-rule=\"evenodd\" fill-opacity=\"1\" /><path clip-path=\"url(#clip310)\" d=\"M 0 0 M52.6588 1204.05 L60.2976 1204.05 L60.2976 1177.69 L51.9875 1179.35 L51.9875 1175.09 L60.2513 1173.43 L64.9272 1173.43 L64.9272 1204.05 L72.5661 1204.05 L72.5661 1207.99 L52.6588 1207.99 L52.6588 1204.05 Z\" fill=\"#000000\" fill-rule=\"evenodd\" fill-opacity=\"1\" /><path clip-path=\"url(#clip310)\" d=\"M 0 0 M82.0105 1202.11 L86.8947 1202.11 L86.8947 1207.99 L82.0105 1207.99 L82.0105 1202.11 Z\" fill=\"#000000\" fill-rule=\"evenodd\" fill-opacity=\"1\" /><path clip-path=\"url(#clip310)\" d=\"M 0 0 M107.08 1176.51 Q103.469 1176.51 101.64 1180.07 Q99.8345 1183.61 99.8345 1190.74 Q99.8345 1197.85 101.64 1201.41 Q103.469 1204.96 107.08 1204.96 Q110.714 1204.96 112.52 1201.41 Q114.348 1197.85 114.348 1190.74 Q114.348 1183.61 112.52 1180.07 Q110.714 1176.51 107.08 1176.51 M107.08 1172.8 Q112.89 1172.8 115.945 1177.41 Q119.024 1181.99 119.024 1190.74 Q119.024 1199.47 115.945 1204.08 Q112.89 1208.66 107.08 1208.66 Q101.27 1208.66 98.1909 1204.08 Q95.1354 1199.47 95.1354 1190.74 Q95.1354 1181.99 98.1909 1177.41 Q101.27 1172.8 107.08 1172.8 Z\" fill=\"#000000\" fill-rule=\"evenodd\" fill-opacity=\"1\" /><path clip-path=\"url(#clip310)\" d=\"M 0 0 M127.288 1173.43 L145.644 1173.43 L145.644 1177.36 L131.57 1177.36 L131.57 1185.84 Q132.589 1185.49 133.607 1185.33 Q134.626 1185.14 135.644 1185.14 Q141.431 1185.14 144.811 1188.31 Q148.191 1191.48 148.191 1196.9 Q148.191 1202.48 144.718 1205.58 Q141.246 1208.66 134.927 1208.66 Q132.751 1208.66 130.482 1208.29 Q128.237 1207.92 125.83 1207.18 L125.83 1202.48 Q127.913 1203.61 130.135 1204.17 Q132.357 1204.72 134.834 1204.72 Q138.839 1204.72 141.177 1202.62 Q143.515 1200.51 143.515 1196.9 Q143.515 1193.29 141.177 1191.18 Q138.839 1189.08 134.834 1189.08 Q132.959 1189.08 131.084 1189.49 Q129.232 1189.91 127.288 1190.79 L127.288 1173.43 Z\" fill=\"#000000\" fill-rule=\"evenodd\" fill-opacity=\"1\" /><path clip-path=\"url(#clip310)\" d=\"M 0 0 M51.6634 946.887 L59.3023 946.887 L59.3023 920.522 L50.9921 922.189 L50.9921 917.929 L59.256 916.263 L63.9319 916.263 L63.9319 946.887 L71.5707 946.887 L71.5707 950.823 L51.6634 950.823 L51.6634 946.887 Z\" fill=\"#000000\" fill-rule=\"evenodd\" fill-opacity=\"1\" /><path clip-path=\"url(#clip310)\" d=\"M 0 0 M81.0151 944.943 L85.8993 944.943 L85.8993 950.823 L81.0151 950.823 L81.0151 944.943 Z\" fill=\"#000000\" fill-rule=\"evenodd\" fill-opacity=\"1\" /><path clip-path=\"url(#clip310)\" d=\"M 0 0 M96.8947 946.887 L104.534 946.887 L104.534 920.522 L96.2234 922.189 L96.2234 917.929 L104.487 916.263 L109.163 916.263 L109.163 946.887 L116.802 946.887 L116.802 950.823 L96.8947 950.823 L96.8947 946.887 Z\" fill=\"#000000\" fill-rule=\"evenodd\" fill-opacity=\"1\" /><path clip-path=\"url(#clip310)\" d=\"M 0 0 M136.246 919.341 Q132.635 919.341 130.807 922.906 Q129.001 926.448 129.001 933.577 Q129.001 940.684 130.807 944.249 Q132.635 947.79 136.246 947.79 Q139.881 947.79 141.686 944.249 Q143.515 940.684 143.515 933.577 Q143.515 926.448 141.686 922.906 Q139.881 919.341 136.246 919.341 M136.246 915.638 Q142.056 915.638 145.112 920.244 Q148.191 924.827 148.191 933.577 Q148.191 942.304 145.112 946.911 Q142.056 951.494 136.246 951.494 Q130.436 951.494 127.357 946.911 Q124.302 942.304 124.302 933.577 Q124.302 924.827 127.357 920.244 Q130.436 915.638 136.246 915.638 Z\" fill=\"#000000\" fill-rule=\"evenodd\" fill-opacity=\"1\" /><path clip-path=\"url(#clip310)\" d=\"M 0 0 M52.6588 689.722 L60.2976 689.722 L60.2976 663.357 L51.9875 665.023 L51.9875 660.764 L60.2513 659.097 L64.9272 659.097 L64.9272 689.722 L72.5661 689.722 L72.5661 693.657 L52.6588 693.657 L52.6588 689.722 Z\" fill=\"#000000\" fill-rule=\"evenodd\" fill-opacity=\"1\" /><path clip-path=\"url(#clip310)\" d=\"M 0 0 M82.0105 687.778 L86.8947 687.778 L86.8947 693.657 L82.0105 693.657 L82.0105 687.778 Z\" fill=\"#000000\" fill-rule=\"evenodd\" fill-opacity=\"1\" /><path clip-path=\"url(#clip310)\" d=\"M 0 0 M97.89 689.722 L105.529 689.722 L105.529 663.357 L97.2187 665.023 L97.2187 660.764 L105.483 659.097 L110.158 659.097 L110.158 689.722 L117.797 689.722 L117.797 693.657 L97.89 693.657 L97.89 689.722 Z\" fill=\"#000000\" fill-rule=\"evenodd\" fill-opacity=\"1\" /><path clip-path=\"url(#clip310)\" d=\"M 0 0 M127.288 659.097 L145.644 659.097 L145.644 663.033 L131.57 663.033 L131.57 671.505 Q132.589 671.158 133.607 670.995 Q134.626 670.81 135.644 670.81 Q141.431 670.81 144.811 673.982 Q148.191 677.153 148.191 682.569 Q148.191 688.148 144.718 691.25 Q141.246 694.329 134.927 694.329 Q132.751 694.329 130.482 693.958 Q128.237 693.588 125.83 692.847 L125.83 688.148 Q127.913 689.282 130.135 689.838 Q132.357 690.394 134.834 690.394 Q138.839 690.394 141.177 688.287 Q143.515 686.181 143.515 682.569 Q143.515 678.958 141.177 676.852 Q138.839 674.745 134.834 674.745 Q132.959 674.745 131.084 675.162 Q129.232 675.579 127.288 676.458 L127.288 659.097 Z\" fill=\"#000000\" fill-rule=\"evenodd\" fill-opacity=\"1\" /><path clip-path=\"url(#clip310)\" d=\"M 0 0 M51.6634 432.557 L59.3023 432.557 L59.3023 406.191 L50.9921 407.858 L50.9921 403.599 L59.256 401.932 L63.9319 401.932 L63.9319 432.557 L71.5707 432.557 L71.5707 436.492 L51.6634 436.492 L51.6634 432.557 Z\" fill=\"#000000\" fill-rule=\"evenodd\" fill-opacity=\"1\" /><path clip-path=\"url(#clip310)\" d=\"M 0 0 M81.0151 430.613 L85.8993 430.613 L85.8993 436.492 L81.0151 436.492 L81.0151 430.613 Z\" fill=\"#000000\" fill-rule=\"evenodd\" fill-opacity=\"1\" /><path clip-path=\"url(#clip310)\" d=\"M 0 0 M100.112 432.557 L116.432 432.557 L116.432 436.492 L94.4873 436.492 L94.4873 432.557 Q97.1493 429.802 101.733 425.173 Q106.339 420.52 107.52 419.177 Q109.765 416.654 110.645 414.918 Q111.547 413.159 111.547 411.469 Q111.547 408.715 109.603 406.978 Q107.682 405.242 104.58 405.242 Q102.381 405.242 99.927 406.006 Q97.4965 406.77 94.7187 408.321 L94.7187 403.599 Q97.5428 402.465 99.9965 401.886 Q102.45 401.307 104.487 401.307 Q109.858 401.307 113.052 403.992 Q116.246 406.677 116.246 411.168 Q116.246 413.298 115.436 415.219 Q114.649 417.117 112.543 419.71 Q111.964 420.381 108.862 423.599 Q105.76 426.793 100.112 432.557 Z\" fill=\"#000000\" fill-rule=\"evenodd\" fill-opacity=\"1\" /><path clip-path=\"url(#clip310)\" d=\"M 0 0 M136.246 405.011 Q132.635 405.011 130.807 408.576 Q129.001 412.117 129.001 419.247 Q129.001 426.353 130.807 429.918 Q132.635 433.46 136.246 433.46 Q139.881 433.46 141.686 429.918 Q143.515 426.353 143.515 419.247 Q143.515 412.117 141.686 408.576 Q139.881 405.011 136.246 405.011 M136.246 401.307 Q142.056 401.307 145.112 405.914 Q148.191 410.497 148.191 419.247 Q148.191 427.974 145.112 432.58 Q142.056 437.163 136.246 437.163 Q130.436 437.163 127.357 432.58 Q124.302 427.974 124.302 419.247 Q124.302 410.497 127.357 405.914 Q130.436 401.307 136.246 401.307 Z\" fill=\"#000000\" fill-rule=\"evenodd\" fill-opacity=\"1\" /><path clip-path=\"url(#clip310)\" d=\"M 0 0 M52.6588 175.392 L60.2976 175.392 L60.2976 149.026 L51.9875 150.693 L51.9875 146.434 L60.2513 144.767 L64.9272 144.767 L64.9272 175.392 L72.5661 175.392 L72.5661 179.327 L52.6588 179.327 L52.6588 175.392 Z\" fill=\"#000000\" fill-rule=\"evenodd\" fill-opacity=\"1\" /><path clip-path=\"url(#clip310)\" d=\"M 0 0 M82.0105 173.447 L86.8947 173.447 L86.8947 179.327 L82.0105 179.327 L82.0105 173.447 Z\" fill=\"#000000\" fill-rule=\"evenodd\" fill-opacity=\"1\" /><path clip-path=\"url(#clip310)\" d=\"M 0 0 M101.108 175.392 L117.427 175.392 L117.427 179.327 L95.4826 179.327 L95.4826 175.392 Q98.1447 172.637 102.728 168.008 Q107.334 163.355 108.515 162.012 Q110.76 159.489 111.64 157.753 Q112.543 155.994 112.543 154.304 Q112.543 151.549 110.598 149.813 Q108.677 148.077 105.575 148.077 Q103.376 148.077 100.922 148.841 Q98.4919 149.605 95.7141 151.156 L95.7141 146.434 Q98.5382 145.299 100.992 144.721 Q103.446 144.142 105.483 144.142 Q110.853 144.142 114.047 146.827 Q117.242 149.512 117.242 154.003 Q117.242 156.133 116.432 158.054 Q115.645 159.952 113.538 162.545 Q112.959 163.216 109.858 166.433 Q106.756 169.628 101.108 175.392 Z\" fill=\"#000000\" fill-rule=\"evenodd\" fill-opacity=\"1\" /><path clip-path=\"url(#clip310)\" d=\"M 0 0 M127.288 144.767 L145.644 144.767 L145.644 148.702 L131.57 148.702 L131.57 157.174 Q132.589 156.827 133.607 156.665 Q134.626 156.48 135.644 156.48 Q141.431 156.48 144.811 159.651 Q148.191 162.822 148.191 168.239 Q148.191 173.818 144.718 176.92 Q141.246 179.998 134.927 179.998 Q132.751 179.998 130.482 179.628 Q128.237 179.257 125.83 178.517 L125.83 173.818 Q127.913 174.952 130.135 175.507 Q132.357 176.063 134.834 176.063 Q138.839 176.063 141.177 173.957 Q143.515 171.85 143.515 168.239 Q143.515 164.628 141.177 162.521 Q138.839 160.415 134.834 160.415 Q132.959 160.415 131.084 160.832 Q129.232 161.248 127.288 162.128 L127.288 144.767 Z\" fill=\"#000000\" fill-rule=\"evenodd\" fill-opacity=\"1\" /><path clip-path=\"url(#clip310)\" d=\"M 0 0 M887.567 63.9476 L887.567 47.7034 L874.199 47.7034 L874.199 40.9789 L895.669 40.9789 L895.669 66.9452 Q890.929 70.3075 885.217 72.0494 Q879.505 73.7508 873.024 73.7508 Q858.846 73.7508 850.825 65.4869 Q842.845 57.1826 842.845 42.3968 Q842.845 27.5705 850.825 19.3066 Q858.846 11.0023 873.024 11.0023 Q878.938 11.0023 884.245 12.4606 Q889.592 13.9189 894.089 16.7545 L894.089 25.464 Q889.552 21.6156 884.448 19.6712 Q879.343 17.7268 873.713 17.7268 Q862.613 17.7268 857.023 23.9246 Q851.473 30.1225 851.473 42.3968 Q851.473 54.6305 857.023 60.8284 Q862.613 67.0263 873.713 67.0263 Q878.047 67.0263 881.45 66.2971 Q884.853 65.5274 887.567 63.9476 Z\" fill=\"#000000\" fill-rule=\"evenodd\" fill-opacity=\"1\" /><path clip-path=\"url(#clip310)\" d=\"M 0 0 M930.911 49.7694 Q921.878 49.7694 918.394 51.8354 Q914.91 53.9013 914.91 58.8839 Q914.91 62.8538 917.503 65.2034 Q920.136 67.5124 924.633 67.5124 Q930.83 67.5124 934.557 63.1374 Q938.325 58.7219 938.325 51.4303 L938.325 49.7694 L930.911 49.7694 M945.778 46.6907 L945.778 72.576 L938.325 72.576 L938.325 65.6895 Q935.773 69.8214 931.965 71.8063 Q928.157 73.7508 922.648 73.7508 Q915.68 73.7508 911.548 69.8619 Q907.457 65.9325 907.457 59.3701 Q907.457 51.7138 912.561 47.825 Q917.705 43.9361 927.873 43.9361 L938.325 43.9361 L938.325 43.2069 Q938.325 38.0623 934.922 35.2672 Q931.56 32.4315 925.443 32.4315 Q921.554 32.4315 917.868 33.3632 Q914.181 34.295 910.778 36.1584 L910.778 29.2718 Q914.87 27.692 918.718 26.9223 Q922.567 26.1121 926.212 26.1121 Q936.056 26.1121 940.917 31.2163 Q945.778 36.3204 945.778 46.6907 Z\" fill=\"#000000\" fill-rule=\"evenodd\" fill-opacity=\"1\" /><path clip-path=\"url(#clip310)\" d=\"M 0 0 M960.362 54.671 L960.362 27.2059 L967.815 27.2059 L967.815 54.3874 Q967.815 60.8284 970.327 64.0691 Q972.838 67.2693 977.861 67.2693 Q983.897 67.2693 987.381 63.421 Q990.905 59.5726 990.905 52.9291 L990.905 27.2059 L998.359 27.2059 L998.359 72.576 L990.905 72.576 L990.905 65.6084 Q988.191 69.7404 984.586 71.7658 Q981.021 73.7508 976.282 73.7508 Q968.463 73.7508 964.412 68.8897 Q960.362 64.0286 960.362 54.671 M979.117 26.1121 L979.117 26.1121 Z\" fill=\"#000000\" fill-rule=\"evenodd\" fill-opacity=\"1\" /><path clip-path=\"url(#clip310)\" d=\"M 0 0 M1042.64 28.5427 L1042.64 35.5912 Q1039.48 33.9709 1036.07 33.1607 Q1032.67 32.3505 1029.02 32.3505 Q1023.47 32.3505 1020.68 34.0519 Q1017.92 35.7533 1017.92 39.156 Q1017.92 41.7486 1019.91 43.2475 Q1021.89 44.7058 1027.89 46.0426 L1030.44 46.6097 Q1038.38 48.3111 1041.7 51.4303 Q1045.07 54.509 1045.07 60.0587 Q1045.07 66.3781 1040.04 70.0644 Q1035.06 73.7508 1026.31 73.7508 Q1022.66 73.7508 1018.69 73.0216 Q1014.77 72.3329 1010.39 70.9151 L1010.39 63.2184 Q1014.52 65.3654 1018.53 66.4591 Q1022.54 67.5124 1026.47 67.5124 Q1031.74 67.5124 1034.57 65.73 Q1037.41 63.9071 1037.41 60.6258 Q1037.41 57.5877 1035.34 55.9673 Q1033.32 54.3469 1026.39 52.8481 L1023.8 52.2405 Q1016.87 50.7821 1013.79 47.7845 Q1010.71 44.7463 1010.71 39.4801 Q1010.71 33.0797 1015.25 29.5959 Q1019.79 26.1121 1028.13 26.1121 Q1032.27 26.1121 1035.91 26.7198 Q1039.56 27.3274 1042.64 28.5427 Z\" fill=\"#000000\" fill-rule=\"evenodd\" fill-opacity=\"1\" /><path clip-path=\"url(#clip310)\" d=\"M 0 0 M1085.86 28.5427 L1085.86 35.5912 Q1082.7 33.9709 1079.3 33.1607 Q1075.89 32.3505 1072.25 32.3505 Q1066.7 32.3505 1063.9 34.0519 Q1061.15 35.7533 1061.15 39.156 Q1061.15 41.7486 1063.13 43.2475 Q1065.12 44.7058 1071.11 46.0426 L1073.67 46.6097 Q1081.61 48.3111 1084.93 51.4303 Q1088.29 54.509 1088.29 60.0587 Q1088.29 66.3781 1083.27 70.0644 Q1078.28 73.7508 1069.53 73.7508 Q1065.89 73.7508 1061.92 73.0216 Q1057.99 72.3329 1053.61 70.9151 L1053.61 63.2184 Q1057.75 65.3654 1061.76 66.4591 Q1065.77 67.5124 1069.7 67.5124 Q1074.96 67.5124 1077.8 65.73 Q1080.63 63.9071 1080.63 60.6258 Q1080.63 57.5877 1078.57 55.9673 Q1076.54 54.3469 1069.61 52.8481 L1067.02 52.2405 Q1060.09 50.7821 1057.02 47.7845 Q1053.94 44.7463 1053.94 39.4801 Q1053.94 33.0797 1058.47 29.5959 Q1063.01 26.1121 1071.36 26.1121 Q1075.49 26.1121 1079.13 26.7198 Q1082.78 27.3274 1085.86 28.5427 Z\" fill=\"#000000\" fill-rule=\"evenodd\" fill-opacity=\"1\" /><path clip-path=\"url(#clip310)\" d=\"M 0 0 M1163.11 14.0809 L1163.11 22.0612 Q1158.45 19.8332 1154.32 18.7395 Q1150.19 17.6457 1146.34 17.6457 Q1139.65 17.6457 1136.01 20.2383 Q1132.4 22.8309 1132.4 27.611 Q1132.4 31.6214 1134.79 33.6873 Q1137.22 35.7128 1143.95 36.9686 L1148.89 37.9813 Q1158.05 39.7232 1162.38 44.1387 Q1166.76 48.5136 1166.76 55.8863 Q1166.76 64.6767 1160.84 69.2137 Q1154.97 73.7508 1143.58 73.7508 Q1139.29 73.7508 1134.43 72.7785 Q1129.61 71.8063 1124.42 69.9024 L1124.42 61.4765 Q1129.41 64.2716 1134.19 65.6895 Q1138.97 67.1073 1143.58 67.1073 Q1150.59 67.1073 1154.4 64.3527 Q1158.21 61.598 1158.21 56.4939 Q1158.21 52.0379 1155.45 49.5264 Q1152.74 47.0148 1146.5 45.759 L1141.52 44.7868 Q1132.36 42.9639 1128.27 39.075 Q1124.18 35.1862 1124.18 28.2591 Q1124.18 20.2383 1129.81 15.6203 Q1135.48 11.0023 1145.41 11.0023 Q1149.66 11.0023 1154.08 11.7719 Q1158.49 12.5416 1163.11 14.0809 Z\" fill=\"#000000\" fill-rule=\"evenodd\" fill-opacity=\"1\" /><path clip-path=\"url(#clip310)\" d=\"M 0 0 M1218 48.0275 L1218 51.6733 L1183.73 51.6733 Q1184.21 59.3701 1188.35 63.421 Q1192.52 67.4314 1199.93 67.4314 Q1204.23 67.4314 1208.24 66.3781 Q1212.29 65.3249 1216.26 63.2184 L1216.26 70.267 Q1212.25 71.9684 1208.03 72.8596 Q1203.82 73.7508 1199.49 73.7508 Q1188.63 73.7508 1182.27 67.4314 Q1175.95 61.1119 1175.95 50.3365 Q1175.95 39.1965 1181.95 32.6746 Q1187.98 26.1121 1198.19 26.1121 Q1207.35 26.1121 1212.65 32.0264 Q1218 37.9003 1218 48.0275 M1210.55 45.84 Q1210.46 39.7232 1207.1 36.0774 Q1203.78 32.4315 1198.27 32.4315 Q1192.03 32.4315 1188.27 35.9558 Q1184.54 39.4801 1183.97 45.8805 L1210.55 45.84 Z\" fill=\"#000000\" fill-rule=\"evenodd\" fill-opacity=\"1\" /><path clip-path=\"url(#clip310)\" d=\"M 0 0 M1230.23 27.2059 L1237.69 27.2059 L1237.69 72.576 L1230.23 72.576 L1230.23 27.2059 M1230.23 9.54393 L1237.69 9.54393 L1237.69 18.9825 L1230.23 18.9825 L1230.23 9.54393 Z\" fill=\"#000000\" fill-rule=\"evenodd\" fill-opacity=\"1\" /><path clip-path=\"url(#clip310)\" d=\"M 0 0 M1283.14 34.0924 L1283.14 9.54393 L1290.59 9.54393 L1290.59 72.576 L1283.14 72.576 L1283.14 65.7705 Q1280.79 69.8214 1277.18 71.8063 Q1273.62 73.7508 1268.59 73.7508 Q1260.37 73.7508 1255.19 67.1883 Q1250.04 60.6258 1250.04 49.9314 Q1250.04 39.2371 1255.19 32.6746 Q1260.37 26.1121 1268.59 26.1121 Q1273.62 26.1121 1277.18 28.0971 Q1280.79 30.0415 1283.14 34.0924 M1257.74 49.9314 Q1257.74 58.1548 1261.1 62.8538 Q1264.5 67.5124 1270.42 67.5124 Q1276.33 67.5124 1279.73 62.8538 Q1283.14 58.1548 1283.14 49.9314 Q1283.14 41.7081 1279.73 37.0496 Q1276.33 32.3505 1270.42 32.3505 Q1264.5 32.3505 1261.1 37.0496 Q1257.74 41.7081 1257.74 49.9314 Z\" fill=\"#000000\" fill-rule=\"evenodd\" fill-opacity=\"1\" /><path clip-path=\"url(#clip310)\" d=\"M 0 0 M1344.75 48.0275 L1344.75 51.6733 L1310.48 51.6733 Q1310.97 59.3701 1315.1 63.421 Q1319.27 67.4314 1326.68 67.4314 Q1330.98 67.4314 1334.99 66.3781 Q1339.04 65.3249 1343.01 63.2184 L1343.01 70.267 Q1339 71.9684 1334.79 72.8596 Q1330.57 73.7508 1326.24 73.7508 Q1315.38 73.7508 1309.02 67.4314 Q1302.7 61.1119 1302.7 50.3365 Q1302.7 39.1965 1308.7 32.6746 Q1314.73 26.1121 1324.94 26.1121 Q1334.1 26.1121 1339.4 32.0264 Q1344.75 37.9003 1344.75 48.0275 M1337.3 45.84 Q1337.22 39.7232 1333.85 36.0774 Q1330.53 32.4315 1325.02 32.4315 Q1318.79 32.4315 1315.02 35.9558 Q1311.29 39.4801 1310.72 45.8805 L1337.3 45.84 Z\" fill=\"#000000\" fill-rule=\"evenodd\" fill-opacity=\"1\" /><path clip-path=\"url(#clip310)\" d=\"M 0 0 M1356.99 9.54393 L1364.44 9.54393 L1364.44 72.576 L1356.99 72.576 L1356.99 9.54393 Z\" fill=\"#000000\" fill-rule=\"evenodd\" fill-opacity=\"1\" /><path clip-path=\"url(#clip310)\" d=\"M 0 0 M1435.41 44.2197 Q1438.04 45.1109 1440.52 48.0275 Q1443.03 50.9442 1445.54 56.0483 L1453.84 72.576 L1445.05 72.576 L1437.31 57.061 Q1434.32 50.9847 1431.48 48.9997 Q1428.69 47.0148 1423.83 47.0148 L1414.91 47.0148 L1414.91 72.576 L1406.73 72.576 L1406.73 12.096 L1425.2 12.096 Q1435.57 12.096 1440.68 16.4305 Q1445.78 20.7649 1445.78 29.5149 Q1445.78 35.2267 1443.11 38.994 Q1440.47 42.7613 1435.41 44.2197 M1414.91 18.8205 L1414.91 40.2903 L1425.2 40.2903 Q1431.12 40.2903 1434.11 37.5762 Q1437.15 34.8216 1437.15 29.5149 Q1437.15 24.2082 1434.11 21.5346 Q1431.12 18.8205 1425.2 18.8205 L1414.91 18.8205 Z\" fill=\"#000000\" fill-rule=\"evenodd\" fill-opacity=\"1\" /><path clip-path=\"url(#clip310)\" d=\"M 0 0 M1499.13 48.0275 L1499.13 51.6733 L1464.86 51.6733 Q1465.35 59.3701 1469.48 63.421 Q1473.65 67.4314 1481.06 67.4314 Q1485.36 67.4314 1489.37 66.3781 Q1493.42 65.3249 1497.39 63.2184 L1497.39 70.267 Q1493.38 71.9684 1489.17 72.8596 Q1484.95 73.7508 1480.62 73.7508 Q1469.76 73.7508 1463.4 67.4314 Q1457.08 61.1119 1457.08 50.3365 Q1457.08 39.1965 1463.08 32.6746 Q1469.11 26.1121 1479.32 26.1121 Q1488.48 26.1121 1493.78 32.0264 Q1499.13 37.9003 1499.13 48.0275 M1491.68 45.84 Q1491.6 39.7232 1488.23 36.0774 Q1484.91 32.4315 1479.4 32.4315 Q1473.17 32.4315 1469.4 35.9558 Q1465.67 39.4801 1465.1 45.8805 L1491.68 45.84 Z\" fill=\"#000000\" fill-rule=\"evenodd\" fill-opacity=\"1\" /><path clip-path=\"url(#clip310)\" d=\"M 0 0 M1540.29 28.5427 L1540.29 35.5912 Q1537.13 33.9709 1533.73 33.1607 Q1530.32 32.3505 1526.68 32.3505 Q1521.13 32.3505 1518.33 34.0519 Q1515.58 35.7533 1515.58 39.156 Q1515.58 41.7486 1517.56 43.2475 Q1519.55 44.7058 1525.54 46.0426 L1528.1 46.6097 Q1536.04 48.3111 1539.36 51.4303 Q1542.72 54.509 1542.72 60.0587 Q1542.72 66.3781 1537.7 70.0644 Q1532.71 73.7508 1523.96 73.7508 Q1520.32 73.7508 1516.35 73.0216 Q1512.42 72.3329 1508.04 70.9151 L1508.04 63.2184 Q1512.18 65.3654 1516.19 66.4591 Q1520.2 67.5124 1524.13 67.5124 Q1529.39 67.5124 1532.23 65.73 Q1535.06 63.9071 1535.06 60.6258 Q1535.06 57.5877 1533 55.9673 Q1530.97 54.3469 1524.04 52.8481 L1521.45 52.2405 Q1514.53 50.7821 1511.45 47.7845 Q1508.37 44.7463 1508.37 39.4801 Q1508.37 33.0797 1512.9 29.5959 Q1517.44 26.1121 1525.79 26.1121 Q1529.92 26.1121 1533.56 26.7198 Q1537.21 27.3274 1540.29 28.5427 Z\" fill=\"#000000\" fill-rule=\"evenodd\" fill-opacity=\"1\" /><path clip-path=\"url(#clip310)\" d=\"M 0 0 M1553.82 54.671 L1553.82 27.2059 L1561.27 27.2059 L1561.27 54.3874 Q1561.27 60.8284 1563.78 64.0691 Q1566.3 67.2693 1571.32 67.2693 Q1577.35 67.2693 1580.84 63.421 Q1584.36 59.5726 1584.36 52.9291 L1584.36 27.2059 L1591.82 27.2059 L1591.82 72.576 L1584.36 72.576 L1584.36 65.6084 Q1581.65 69.7404 1578.04 71.7658 Q1574.48 73.7508 1569.74 73.7508 Q1561.92 73.7508 1557.87 68.8897 Q1553.82 64.0286 1553.82 54.671 M1572.57 26.1121 L1572.57 26.1121 Z\" fill=\"#000000\" fill-rule=\"evenodd\" fill-opacity=\"1\" /><path clip-path=\"url(#clip310)\" d=\"M 0 0 M1607.17 9.54393 L1614.62 9.54393 L1614.62 72.576 L1607.17 72.576 L1607.17 9.54393 Z\" fill=\"#000000\" fill-rule=\"evenodd\" fill-opacity=\"1\" /><path clip-path=\"url(#clip310)\" d=\"M 0 0 M1637.59 14.324 L1637.59 27.2059 L1652.94 27.2059 L1652.94 32.9987 L1637.59 32.9987 L1637.59 57.6282 Q1637.59 63.1779 1639.09 64.7578 Q1640.63 66.3376 1645.29 66.3376 L1652.94 66.3376 L1652.94 72.576 L1645.29 72.576 Q1636.66 72.576 1633.38 69.3758 Q1630.1 66.1351 1630.1 57.6282 L1630.1 32.9987 L1624.63 32.9987 L1624.63 27.2059 L1630.1 27.2059 L1630.1 14.324 L1637.59 14.324 Z\" fill=\"#000000\" fill-rule=\"evenodd\" fill-opacity=\"1\" /><path clip-path=\"url(#clip310)\" d=\"M 0 0 M1691.67 28.5427 L1691.67 35.5912 Q1688.51 33.9709 1685.11 33.1607 Q1681.71 32.3505 1678.06 32.3505 Q1672.51 32.3505 1669.72 34.0519 Q1666.96 35.7533 1666.96 39.156 Q1666.96 41.7486 1668.95 43.2475 Q1670.93 44.7058 1676.93 46.0426 L1679.48 46.6097 Q1687.42 48.3111 1690.74 51.4303 Q1694.1 54.509 1694.1 60.0587 Q1694.1 66.3781 1689.08 70.0644 Q1684.1 73.7508 1675.35 73.7508 Q1671.7 73.7508 1667.73 73.0216 Q1663.8 72.3329 1659.43 70.9151 L1659.43 63.2184 Q1663.56 65.3654 1667.57 66.4591 Q1671.58 67.5124 1675.51 67.5124 Q1680.77 67.5124 1683.61 65.73 Q1686.45 63.9071 1686.45 60.6258 Q1686.45 57.5877 1684.38 55.9673 Q1682.35 54.3469 1675.43 52.8481 L1672.83 52.2405 Q1665.91 50.7821 1662.83 47.7845 Q1659.75 44.7463 1659.75 39.4801 Q1659.75 33.0797 1664.29 29.5959 Q1668.82 26.1121 1677.17 26.1121 Q1681.3 26.1121 1684.95 26.7198 Q1688.59 27.3274 1691.67 28.5427 Z\" fill=\"#000000\" fill-rule=\"evenodd\" fill-opacity=\"1\" /><circle clip-path=\"url(#clip312)\" cx=\"2291.38\" cy=\"1447.87\" r=\"14\" fill=\"#009af9\" fill-rule=\"evenodd\" fill-opacity=\"1\" stroke=\"#000000\" stroke-opacity=\"1\" stroke-width=\"3.2\"/>\n",
       "<circle clip-path=\"url(#clip312)\" cx=\"245.565\" cy=\"162.047\" r=\"14\" fill=\"#009af9\" fill-rule=\"evenodd\" fill-opacity=\"1\" stroke=\"#000000\" stroke-opacity=\"1\" stroke-width=\"3.2\"/>\n",
       "<circle clip-path=\"url(#clip312)\" cx=\"757.019\" cy=\"483.503\" r=\"14\" fill=\"#009af9\" fill-rule=\"evenodd\" fill-opacity=\"1\" stroke=\"#000000\" stroke-opacity=\"1\" stroke-width=\"3.2\"/>\n",
       "<circle clip-path=\"url(#clip312)\" cx=\"629.156\" cy=\"403.139\" r=\"14\" fill=\"#009af9\" fill-rule=\"evenodd\" fill-opacity=\"1\" stroke=\"#000000\" stroke-opacity=\"1\" stroke-width=\"3.2\"/>\n",
       "<circle clip-path=\"url(#clip312)\" cx=\"661.122\" cy=\"423.23\" r=\"14\" fill=\"#009af9\" fill-rule=\"evenodd\" fill-opacity=\"1\" stroke=\"#000000\" stroke-opacity=\"1\" stroke-width=\"3.2\"/>\n",
       "<circle clip-path=\"url(#clip312)\" cx=\"653.13\" cy=\"418.208\" r=\"14\" fill=\"#009af9\" fill-rule=\"evenodd\" fill-opacity=\"1\" stroke=\"#000000\" stroke-opacity=\"1\" stroke-width=\"3.2\"/>\n",
       "</svg>\n"
      ]
     },
     "execution_count": 425,
     "metadata": {},
     "output_type": "execute_result"
    }
   ],
   "source": [
    "scatter(X_seidel,Y_seidel,leg=false, title=\"Gauss Seidel Results\")"
   ]
  },
  {
   "cell_type": "code",
   "execution_count": 424,
   "metadata": {},
   "outputs": [
    {
     "data": {
      "image/png": "[encoded data removed]",
      "image/svg+xml": [
       "<?xml version=\"1.0\" encoding=\"utf-8\"?>\n",
       "<svg xmlns=\"http://www.w3.org/2000/svg\" xmlns:xlink=\"http://www.w3.org/1999/xlink\" width=\"600\" height=\"400\" viewBox=\"0 0 2400 1600\">\n",
       "<defs>\n",
       "  <clipPath id=\"clip170\">\n",
       "    <rect x=\"0\" y=\"0\" width=\"2400\" height=\"1600\"/>\n",
       "  </clipPath>\n",
       "</defs>\n",
       "<path clip-path=\"url(#clip170)\" d=\"\n",
       "M0 1600 L2400 1600 L2400 0 L0 0  Z\n",
       "  \" fill=\"#ffffff\" fill-rule=\"evenodd\" fill-opacity=\"1\"/>\n",
       "<defs>\n",
       "  <clipPath id=\"clip171\">\n",
       "    <rect x=\"480\" y=\"0\" width=\"1681\" height=\"1600\"/>\n",
       "  </clipPath>\n",
       "</defs>\n",
       "<path clip-path=\"url(#clip170)\" d=\"\n",
       "M154.515 1486.45 L2352.76 1486.45 L2352.76 123.472 L154.515 123.472  Z\n",
       "  \" fill=\"#ffffff\" fill-rule=\"evenodd\" fill-opacity=\"1\"/>\n",
       "<defs>\n",
       "  <clipPath id=\"clip172\">\n",
       "    <rect x=\"154\" y=\"123\" width=\"2199\" height=\"1364\"/>\n",
       "  </clipPath>\n",
       "</defs>\n",
       "<polyline clip-path=\"url(#clip172)\" style=\"stroke:#000000; stroke-width:2; stroke-opacity:0.1; fill:none\" points=\"\n",
       "  631.492,1486.45 631.492,123.472 \n",
       "  \"/>\n",
       "<polyline clip-path=\"url(#clip172)\" style=\"stroke:#000000; stroke-width:2; stroke-opacity:0.1; fill:none\" points=\"\n",
       "  1184.51,1486.45 1184.51,123.472 \n",
       "  \"/>\n",
       "<polyline clip-path=\"url(#clip172)\" style=\"stroke:#000000; stroke-width:2; stroke-opacity:0.1; fill:none\" points=\"\n",
       "  1737.52,1486.45 1737.52,123.472 \n",
       "  \"/>\n",
       "<polyline clip-path=\"url(#clip172)\" style=\"stroke:#000000; stroke-width:2; stroke-opacity:0.1; fill:none\" points=\"\n",
       "  2290.54,1486.45 2290.54,123.472 \n",
       "  \"/>\n",
       "<polyline clip-path=\"url(#clip170)\" style=\"stroke:#000000; stroke-width:4; stroke-opacity:1; fill:none\" points=\"\n",
       "  154.515,1486.45 2352.76,1486.45 \n",
       "  \"/>\n",
       "<polyline clip-path=\"url(#clip170)\" style=\"stroke:#000000; stroke-width:4; stroke-opacity:1; fill:none\" points=\"\n",
       "  631.492,1486.45 631.492,1470.09 \n",
       "  \"/>\n",
       "<polyline clip-path=\"url(#clip170)\" style=\"stroke:#000000; stroke-width:4; stroke-opacity:1; fill:none\" points=\"\n",
       "  1184.51,1486.45 1184.51,1470.09 \n",
       "  \"/>\n",
       "<polyline clip-path=\"url(#clip170)\" style=\"stroke:#000000; stroke-width:4; stroke-opacity:1; fill:none\" points=\"\n",
       "  1737.52,1486.45 1737.52,1470.09 \n",
       "  \"/>\n",
       "<polyline clip-path=\"url(#clip170)\" style=\"stroke:#000000; stroke-width:4; stroke-opacity:1; fill:none\" points=\"\n",
       "  2290.54,1486.45 2290.54,1470.09 \n",
       "  \"/>\n",
       "<path clip-path=\"url(#clip170)\" d=\"M 0 0 M608.633 1515.64 Q605.022 1515.64 603.193 1519.2 Q601.388 1522.75 601.388 1529.87 Q601.388 1536.98 603.193 1540.55 Q605.022 1544.09 608.633 1544.09 Q612.267 1544.09 614.073 1540.55 Q615.902 1536.98 615.902 1529.87 Q615.902 1522.75 614.073 1519.2 Q612.267 1515.64 608.633 1515.64 M608.633 1511.93 Q614.443 1511.93 617.499 1516.54 Q620.577 1521.12 620.577 1529.87 Q620.577 1538.6 617.499 1543.21 Q614.443 1547.79 608.633 1547.79 Q602.823 1547.79 599.744 1543.21 Q596.689 1538.6 596.689 1529.87 Q596.689 1521.12 599.744 1516.54 Q602.823 1511.93 608.633 1511.93 Z\" fill=\"#000000\" fill-rule=\"evenodd\" fill-opacity=\"1\" /><path clip-path=\"url(#clip170)\" d=\"M 0 0 M628.795 1541.24 L633.679 1541.24 L633.679 1547.12 L628.795 1547.12 L628.795 1541.24 Z\" fill=\"#000000\" fill-rule=\"evenodd\" fill-opacity=\"1\" /><path clip-path=\"url(#clip170)\" d=\"M 0 0 M656.712 1516.63 L644.906 1535.08 L656.712 1535.08 L656.712 1516.63 M655.485 1512.56 L661.364 1512.56 L661.364 1535.08 L666.295 1535.08 L666.295 1538.97 L661.364 1538.97 L661.364 1547.12 L656.712 1547.12 L656.712 1538.97 L641.11 1538.97 L641.11 1534.46 L655.485 1512.56 Z\" fill=\"#000000\" fill-rule=\"evenodd\" fill-opacity=\"1\" /><path clip-path=\"url(#clip170)\" d=\"M 0 0 M1161.81 1515.64 Q1158.2 1515.64 1156.37 1519.2 Q1154.57 1522.75 1154.57 1529.87 Q1154.57 1536.98 1156.37 1540.55 Q1158.2 1544.09 1161.81 1544.09 Q1165.45 1544.09 1167.25 1540.55 Q1169.08 1536.98 1169.08 1529.87 Q1169.08 1522.75 1167.25 1519.2 Q1165.45 1515.64 1161.81 1515.64 M1161.81 1511.93 Q1167.62 1511.93 1170.68 1516.54 Q1173.76 1521.12 1173.76 1529.87 Q1173.76 1538.6 1170.68 1543.21 Q1167.62 1547.79 1161.81 1547.79 Q1156 1547.79 1152.92 1543.21 Q1149.87 1538.6 1149.87 1529.87 Q1149.87 1521.12 1152.92 1516.54 Q1156 1511.93 1161.81 1511.93 Z\" fill=\"#000000\" fill-rule=\"evenodd\" fill-opacity=\"1\" /><path clip-path=\"url(#clip170)\" d=\"M 0 0 M1181.97 1541.24 L1186.86 1541.24 L1186.86 1547.12 L1181.97 1547.12 L1181.97 1541.24 Z\" fill=\"#000000\" fill-rule=\"evenodd\" fill-opacity=\"1\" /><path clip-path=\"url(#clip170)\" d=\"M 0 0 M1207.62 1527.98 Q1204.47 1527.98 1202.62 1530.13 Q1200.79 1532.28 1200.79 1536.03 Q1200.79 1539.76 1202.62 1541.93 Q1204.47 1544.09 1207.62 1544.09 Q1210.77 1544.09 1212.6 1541.93 Q1214.45 1539.76 1214.45 1536.03 Q1214.45 1532.28 1212.6 1530.13 Q1210.77 1527.98 1207.62 1527.98 M1216.9 1513.32 L1216.9 1517.58 Q1215.14 1516.75 1213.34 1516.31 Q1211.56 1515.87 1209.8 1515.87 Q1205.17 1515.87 1202.71 1519 Q1200.28 1522.12 1199.94 1528.44 Q1201.3 1526.43 1203.36 1525.36 Q1205.42 1524.27 1207.9 1524.27 Q1213.11 1524.27 1216.12 1527.44 Q1219.15 1530.59 1219.15 1536.03 Q1219.15 1541.36 1216 1544.57 Q1212.85 1547.79 1207.62 1547.79 Q1201.63 1547.79 1198.46 1543.21 Q1195.28 1538.6 1195.28 1529.87 Q1195.28 1521.68 1199.17 1516.82 Q1203.06 1511.93 1209.61 1511.93 Q1211.37 1511.93 1213.15 1512.28 Q1214.96 1512.63 1216.9 1513.32 Z\" fill=\"#000000\" fill-rule=\"evenodd\" fill-opacity=\"1\" /><path clip-path=\"url(#clip170)\" d=\"M 0 0 M1714.96 1515.64 Q1711.34 1515.64 1709.52 1519.2 Q1707.71 1522.75 1707.71 1529.87 Q1707.71 1536.98 1709.52 1540.55 Q1711.34 1544.09 1714.96 1544.09 Q1718.59 1544.09 1720.4 1540.55 Q1722.22 1536.98 1722.22 1529.87 Q1722.22 1522.75 1720.4 1519.2 Q1718.59 1515.64 1714.96 1515.64 M1714.96 1511.93 Q1720.77 1511.93 1723.82 1516.54 Q1726.9 1521.12 1726.9 1529.87 Q1726.9 1538.6 1723.82 1543.21 Q1720.77 1547.79 1714.96 1547.79 Q1709.15 1547.79 1706.07 1543.21 Q1703.01 1538.6 1703.01 1529.87 Q1703.01 1521.12 1706.07 1516.54 Q1709.15 1511.93 1714.96 1511.93 Z\" fill=\"#000000\" fill-rule=\"evenodd\" fill-opacity=\"1\" /><path clip-path=\"url(#clip170)\" d=\"M 0 0 M1735.12 1541.24 L1740 1541.24 L1740 1547.12 L1735.12 1547.12 L1735.12 1541.24 Z\" fill=\"#000000\" fill-rule=\"evenodd\" fill-opacity=\"1\" /><path clip-path=\"url(#clip170)\" d=\"M 0 0 M1760.19 1530.71 Q1756.85 1530.71 1754.93 1532.49 Q1753.03 1534.27 1753.03 1537.4 Q1753.03 1540.52 1754.93 1542.31 Q1756.85 1544.09 1760.19 1544.09 Q1763.52 1544.09 1765.44 1542.31 Q1767.36 1540.5 1767.36 1537.4 Q1767.36 1534.27 1765.44 1532.49 Q1763.54 1530.71 1760.19 1530.71 M1755.51 1528.72 Q1752.5 1527.98 1750.81 1525.92 Q1749.15 1523.86 1749.15 1520.89 Q1749.15 1516.75 1752.09 1514.34 Q1755.05 1511.93 1760.19 1511.93 Q1765.35 1511.93 1768.29 1514.34 Q1771.23 1516.75 1771.23 1520.89 Q1771.23 1523.86 1769.54 1525.92 Q1767.87 1527.98 1764.89 1528.72 Q1768.27 1529.5 1770.14 1531.8 Q1772.04 1534.09 1772.04 1537.4 Q1772.04 1542.42 1768.96 1545.11 Q1765.9 1547.79 1760.19 1547.79 Q1754.47 1547.79 1751.39 1545.11 Q1748.34 1542.42 1748.34 1537.4 Q1748.34 1534.09 1750.23 1531.8 Q1752.13 1529.5 1755.51 1528.72 M1753.8 1521.33 Q1753.8 1524.02 1755.46 1525.52 Q1757.15 1527.03 1760.19 1527.03 Q1763.2 1527.03 1764.89 1525.52 Q1766.6 1524.02 1766.6 1521.33 Q1766.6 1518.65 1764.89 1517.14 Q1763.2 1515.64 1760.19 1515.64 Q1757.15 1515.64 1755.46 1517.14 Q1753.8 1518.65 1753.8 1521.33 Z\" fill=\"#000000\" fill-rule=\"evenodd\" fill-opacity=\"1\" /><path clip-path=\"url(#clip170)\" d=\"M 0 0 M2257.69 1543.18 L2265.33 1543.18 L2265.33 1516.82 L2257.02 1518.49 L2257.02 1514.23 L2265.29 1512.56 L2269.96 1512.56 L2269.96 1543.18 L2277.6 1543.18 L2277.6 1547.12 L2257.69 1547.12 L2257.69 1543.18 Z\" fill=\"#000000\" fill-rule=\"evenodd\" fill-opacity=\"1\" /><path clip-path=\"url(#clip170)\" d=\"M 0 0 M2287.05 1541.24 L2291.93 1541.24 L2291.93 1547.12 L2287.05 1547.12 L2287.05 1541.24 Z\" fill=\"#000000\" fill-rule=\"evenodd\" fill-opacity=\"1\" /><path clip-path=\"url(#clip170)\" d=\"M 0 0 M2312.12 1515.64 Q2308.5 1515.64 2306.68 1519.2 Q2304.87 1522.75 2304.87 1529.87 Q2304.87 1536.98 2306.68 1540.55 Q2308.5 1544.09 2312.12 1544.09 Q2315.75 1544.09 2317.56 1540.55 Q2319.38 1536.98 2319.38 1529.87 Q2319.38 1522.75 2317.56 1519.2 Q2315.75 1515.64 2312.12 1515.64 M2312.12 1511.93 Q2317.93 1511.93 2320.98 1516.54 Q2324.06 1521.12 2324.06 1529.87 Q2324.06 1538.6 2320.98 1543.21 Q2317.93 1547.79 2312.12 1547.79 Q2306.31 1547.79 2303.23 1543.21 Q2300.17 1538.6 2300.17 1529.87 Q2300.17 1521.12 2303.23 1516.54 Q2306.31 1511.93 2312.12 1511.93 Z\" fill=\"#000000\" fill-rule=\"evenodd\" fill-opacity=\"1\" /><polyline clip-path=\"url(#clip172)\" style=\"stroke:#000000; stroke-width:2; stroke-opacity:0.1; fill:none\" points=\"\n",
       "  154.515,1447.87 2352.76,1447.87 \n",
       "  \"/>\n",
       "<polyline clip-path=\"url(#clip172)\" style=\"stroke:#000000; stroke-width:2; stroke-opacity:0.1; fill:none\" points=\"\n",
       "  154.515,1190.71 2352.76,1190.71 \n",
       "  \"/>\n",
       "<polyline clip-path=\"url(#clip172)\" style=\"stroke:#000000; stroke-width:2; stroke-opacity:0.1; fill:none\" points=\"\n",
       "  154.515,933.543 2352.76,933.543 \n",
       "  \"/>\n",
       "<polyline clip-path=\"url(#clip172)\" style=\"stroke:#000000; stroke-width:2; stroke-opacity:0.1; fill:none\" points=\"\n",
       "  154.515,676.377 2352.76,676.377 \n",
       "  \"/>\n",
       "<polyline clip-path=\"url(#clip172)\" style=\"stroke:#000000; stroke-width:2; stroke-opacity:0.1; fill:none\" points=\"\n",
       "  154.515,419.212 2352.76,419.212 \n",
       "  \"/>\n",
       "<polyline clip-path=\"url(#clip172)\" style=\"stroke:#000000; stroke-width:2; stroke-opacity:0.1; fill:none\" points=\"\n",
       "  154.515,162.047 2352.76,162.047 \n",
       "  \"/>\n",
       "<polyline clip-path=\"url(#clip170)\" style=\"stroke:#000000; stroke-width:4; stroke-opacity:1; fill:none\" points=\"\n",
       "  154.515,1486.45 154.515,123.472 \n",
       "  \"/>\n",
       "<polyline clip-path=\"url(#clip170)\" style=\"stroke:#000000; stroke-width:4; stroke-opacity:1; fill:none\" points=\"\n",
       "  154.515,1447.87 180.894,1447.87 \n",
       "  \"/>\n",
       "<polyline clip-path=\"url(#clip170)\" style=\"stroke:#000000; stroke-width:4; stroke-opacity:1; fill:none\" points=\"\n",
       "  154.515,1190.71 180.894,1190.71 \n",
       "  \"/>\n",
       "<polyline clip-path=\"url(#clip170)\" style=\"stroke:#000000; stroke-width:4; stroke-opacity:1; fill:none\" points=\"\n",
       "  154.515,933.543 180.894,933.543 \n",
       "  \"/>\n",
       "<polyline clip-path=\"url(#clip170)\" style=\"stroke:#000000; stroke-width:4; stroke-opacity:1; fill:none\" points=\"\n",
       "  154.515,676.377 180.894,676.377 \n",
       "  \"/>\n",
       "<polyline clip-path=\"url(#clip170)\" style=\"stroke:#000000; stroke-width:4; stroke-opacity:1; fill:none\" points=\"\n",
       "  154.515,419.212 180.894,419.212 \n",
       "  \"/>\n",
       "<polyline clip-path=\"url(#clip170)\" style=\"stroke:#000000; stroke-width:4; stroke-opacity:1; fill:none\" points=\"\n",
       "  154.515,162.047 180.894,162.047 \n",
       "  \"/>\n",
       "<path clip-path=\"url(#clip170)\" d=\"M 0 0 M52.1495 1461.22 L59.7884 1461.22 L59.7884 1434.85 L51.4782 1436.52 L51.4782 1432.26 L59.7421 1430.59 L64.418 1430.59 L64.418 1461.22 L72.0568 1461.22 L72.0568 1465.15 L52.1495 1465.15 L52.1495 1461.22 Z\" fill=\"#000000\" fill-rule=\"evenodd\" fill-opacity=\"1\" /><path clip-path=\"url(#clip170)\" d=\"M 0 0 M81.5012 1459.27 L86.3855 1459.27 L86.3855 1465.15 L81.5012 1465.15 L81.5012 1459.27 Z\" fill=\"#000000\" fill-rule=\"evenodd\" fill-opacity=\"1\" /><path clip-path=\"url(#clip170)\" d=\"M 0 0 M106.571 1433.67 Q102.959 1433.67 101.131 1437.24 Q99.3252 1440.78 99.3252 1447.91 Q99.3252 1455.01 101.131 1458.58 Q102.959 1462.12 106.571 1462.12 Q110.205 1462.12 112.01 1458.58 Q113.839 1455.01 113.839 1447.91 Q113.839 1440.78 112.01 1437.24 Q110.205 1433.67 106.571 1433.67 M106.571 1429.97 Q112.381 1429.97 115.436 1434.57 Q118.515 1439.16 118.515 1447.91 Q118.515 1456.63 115.436 1461.24 Q112.381 1465.82 106.571 1465.82 Q100.76 1465.82 97.6817 1461.24 Q94.6262 1456.63 94.6262 1447.91 Q94.6262 1439.16 97.6817 1434.57 Q100.76 1429.97 106.571 1429.97 Z\" fill=\"#000000\" fill-rule=\"evenodd\" fill-opacity=\"1\" /><path clip-path=\"url(#clip170)\" d=\"M 0 0 M53.3764 1204.05 L61.0152 1204.05 L61.0152 1177.69 L52.7051 1179.35 L52.7051 1175.09 L60.9689 1173.43 L65.6448 1173.43 L65.6448 1204.05 L73.2837 1204.05 L73.2837 1207.99 L53.3764 1207.99 L53.3764 1204.05 Z\" fill=\"#000000\" fill-rule=\"evenodd\" fill-opacity=\"1\" /><path clip-path=\"url(#clip170)\" d=\"M 0 0 M82.7281 1202.11 L87.6123 1202.11 L87.6123 1207.99 L82.7281 1207.99 L82.7281 1202.11 Z\" fill=\"#000000\" fill-rule=\"evenodd\" fill-opacity=\"1\" /><path clip-path=\"url(#clip170)\" d=\"M 0 0 M98.6076 1204.05 L106.246 1204.05 L106.246 1177.69 L97.9363 1179.35 L97.9363 1175.09 L106.2 1173.43 L110.876 1173.43 L110.876 1204.05 L118.515 1204.05 L118.515 1207.99 L98.6076 1207.99 L98.6076 1204.05 Z\" fill=\"#000000\" fill-rule=\"evenodd\" fill-opacity=\"1\" /><path clip-path=\"url(#clip170)\" d=\"M 0 0 M53.7467 946.887 L61.3856 946.887 L61.3856 920.522 L53.0754 922.189 L53.0754 917.929 L61.3393 916.263 L66.0152 916.263 L66.0152 946.887 L73.654 946.887 L73.654 950.823 L53.7467 950.823 L53.7467 946.887 Z\" fill=\"#000000\" fill-rule=\"evenodd\" fill-opacity=\"1\" /><path clip-path=\"url(#clip170)\" d=\"M 0 0 M83.0984 944.943 L87.9827 944.943 L87.9827 950.823 L83.0984 950.823 L83.0984 944.943 Z\" fill=\"#000000\" fill-rule=\"evenodd\" fill-opacity=\"1\" /><path clip-path=\"url(#clip170)\" d=\"M 0 0 M102.196 946.887 L118.515 946.887 L118.515 950.823 L96.5706 950.823 L96.5706 946.887 Q99.2326 944.133 103.816 939.503 Q108.422 934.85 109.603 933.508 Q111.848 930.985 112.728 929.249 Q113.631 927.489 113.631 925.8 Q113.631 923.045 111.686 921.309 Q109.765 919.573 106.663 919.573 Q104.464 919.573 102.01 920.337 Q99.5798 921.101 96.8021 922.651 L96.8021 917.929 Q99.6261 916.795 102.08 916.216 Q104.534 915.638 106.571 915.638 Q111.941 915.638 115.135 918.323 Q118.33 921.008 118.33 925.499 Q118.33 927.628 117.52 929.55 Q116.733 931.448 114.626 934.04 Q114.047 934.712 110.946 937.929 Q107.844 941.124 102.196 946.887 Z\" fill=\"#000000\" fill-rule=\"evenodd\" fill-opacity=\"1\" /><path clip-path=\"url(#clip170)\" d=\"M 0 0 M52.7977 689.722 L60.4365 689.722 L60.4365 663.357 L52.1264 665.023 L52.1264 660.764 L60.3902 659.097 L65.0661 659.097 L65.0661 689.722 L72.705 689.722 L72.705 693.657 L52.7977 693.657 L52.7977 689.722 Z\" fill=\"#000000\" fill-rule=\"evenodd\" fill-opacity=\"1\" /><path clip-path=\"url(#clip170)\" d=\"M 0 0 M82.1494 687.778 L87.0336 687.778 L87.0336 693.657 L82.1494 693.657 L82.1494 687.778 Z\" fill=\"#000000\" fill-rule=\"evenodd\" fill-opacity=\"1\" /><path clip-path=\"url(#clip170)\" d=\"M 0 0 M111.385 675.023 Q114.742 675.741 116.617 678.009 Q118.515 680.278 118.515 683.611 Q118.515 688.727 114.996 691.528 Q111.478 694.329 104.996 694.329 Q102.821 694.329 100.506 693.889 Q98.2141 693.472 95.7604 692.616 L95.7604 688.102 Q97.7048 689.236 100.02 689.815 Q102.334 690.394 104.858 690.394 Q109.256 690.394 111.547 688.657 Q113.862 686.921 113.862 683.611 Q113.862 680.556 111.709 678.843 Q109.58 677.107 105.76 677.107 L101.733 677.107 L101.733 673.264 L105.946 673.264 Q109.395 673.264 111.223 671.898 Q113.052 670.509 113.052 667.917 Q113.052 665.255 111.154 663.843 Q109.279 662.408 105.76 662.408 Q103.839 662.408 101.64 662.824 Q99.4409 663.241 96.8021 664.121 L96.8021 659.954 Q99.4641 659.213 101.779 658.843 Q104.117 658.472 106.177 658.472 Q111.501 658.472 114.603 660.903 Q117.705 663.31 117.705 667.431 Q117.705 670.301 116.061 672.292 Q114.418 674.259 111.385 675.023 Z\" fill=\"#000000\" fill-rule=\"evenodd\" fill-opacity=\"1\" /><path clip-path=\"url(#clip170)\" d=\"M 0 0 M51.6634 432.557 L59.3023 432.557 L59.3023 406.191 L50.9921 407.858 L50.9921 403.599 L59.256 401.932 L63.9319 401.932 L63.9319 432.557 L71.5707 432.557 L71.5707 436.492 L51.6634 436.492 L51.6634 432.557 Z\" fill=\"#000000\" fill-rule=\"evenodd\" fill-opacity=\"1\" /><path clip-path=\"url(#clip170)\" d=\"M 0 0 M81.0151 430.613 L85.8993 430.613 L85.8993 436.492 L81.0151 436.492 L81.0151 430.613 Z\" fill=\"#000000\" fill-rule=\"evenodd\" fill-opacity=\"1\" /><path clip-path=\"url(#clip170)\" d=\"M 0 0 M108.932 406.006 L97.1261 424.455 L108.932 424.455 L108.932 406.006 M107.705 401.932 L113.584 401.932 L113.584 424.455 L118.515 424.455 L118.515 428.344 L113.584 428.344 L113.584 436.492 L108.932 436.492 L108.932 428.344 L93.3299 428.344 L93.3299 423.83 L107.705 401.932 Z\" fill=\"#000000\" fill-rule=\"evenodd\" fill-opacity=\"1\" /><path clip-path=\"url(#clip170)\" d=\"M 0 0 M53.1449 175.392 L60.7837 175.392 L60.7837 149.026 L52.4736 150.693 L52.4736 146.434 L60.7374 144.767 L65.4133 144.767 L65.4133 175.392 L73.0522 175.392 L73.0522 179.327 L53.1449 179.327 L53.1449 175.392 Z\" fill=\"#000000\" fill-rule=\"evenodd\" fill-opacity=\"1\" /><path clip-path=\"url(#clip170)\" d=\"M 0 0 M82.4966 173.447 L87.3808 173.447 L87.3808 179.327 L82.4966 179.327 L82.4966 173.447 Z\" fill=\"#000000\" fill-rule=\"evenodd\" fill-opacity=\"1\" /><path clip-path=\"url(#clip170)\" d=\"M 0 0 M97.6122 144.767 L115.969 144.767 L115.969 148.702 L101.895 148.702 L101.895 157.174 Q102.913 156.827 103.932 156.665 Q104.95 156.48 105.969 156.48 Q111.756 156.48 115.135 159.651 Q118.515 162.822 118.515 168.239 Q118.515 173.818 115.043 176.92 Q111.571 179.998 105.251 179.998 Q103.075 179.998 100.807 179.628 Q98.5613 179.257 96.1539 178.517 L96.1539 173.818 Q98.2372 174.952 100.459 175.507 Q102.682 176.063 105.159 176.063 Q109.163 176.063 111.501 173.957 Q113.839 171.85 113.839 168.239 Q113.839 164.628 111.501 162.521 Q109.163 160.415 105.159 160.415 Q103.284 160.415 101.409 160.832 Q99.5567 161.248 97.6122 162.128 L97.6122 144.767 Z\" fill=\"#000000\" fill-rule=\"evenodd\" fill-opacity=\"1\" /><path clip-path=\"url(#clip170)\" d=\"M 0 0 M875.787 63.9476 L875.787 47.7034 L862.419 47.7034 L862.419 40.9789 L883.889 40.9789 L883.889 66.9452 Q879.15 70.3075 873.438 72.0494 Q867.726 73.7508 861.245 73.7508 Q847.066 73.7508 839.046 65.4869 Q831.065 57.1826 831.065 42.3968 Q831.065 27.5705 839.046 19.3066 Q847.066 11.0023 861.245 11.0023 Q867.159 11.0023 872.466 12.4606 Q877.813 13.9189 882.309 16.7545 L882.309 25.464 Q877.772 21.6156 872.668 19.6712 Q867.564 17.7268 861.933 17.7268 Q850.834 17.7268 845.244 23.9246 Q839.694 30.1225 839.694 42.3968 Q839.694 54.6305 845.244 60.8284 Q850.834 67.0263 861.933 67.0263 Q866.268 67.0263 869.67 66.2971 Q873.073 65.5274 875.787 63.9476 Z\" fill=\"#000000\" fill-rule=\"evenodd\" fill-opacity=\"1\" /><path clip-path=\"url(#clip170)\" d=\"M 0 0 M919.132 49.7694 Q910.098 49.7694 906.615 51.8354 Q903.131 53.9013 903.131 58.8839 Q903.131 62.8538 905.724 65.2034 Q908.357 67.5124 912.853 67.5124 Q919.051 67.5124 922.778 63.1374 Q926.545 58.7219 926.545 51.4303 L926.545 49.7694 L919.132 49.7694 M933.999 46.6907 L933.999 72.576 L926.545 72.576 L926.545 65.6895 Q923.993 69.8214 920.185 71.8063 Q916.377 73.7508 910.868 73.7508 Q903.901 73.7508 899.769 69.8619 Q895.677 65.9325 895.677 59.3701 Q895.677 51.7138 900.781 47.825 Q905.926 43.9361 916.094 43.9361 L926.545 43.9361 L926.545 43.2069 Q926.545 38.0623 923.142 35.2672 Q919.78 32.4315 913.663 32.4315 Q909.774 32.4315 906.088 33.3632 Q902.402 34.295 898.999 36.1584 L898.999 29.2718 Q903.09 27.692 906.939 26.9223 Q910.787 26.1121 914.433 26.1121 Q924.277 26.1121 929.138 31.2163 Q933.999 36.3204 933.999 46.6907 Z\" fill=\"#000000\" fill-rule=\"evenodd\" fill-opacity=\"1\" /><path clip-path=\"url(#clip170)\" d=\"M 0 0 M948.582 54.671 L948.582 27.2059 L956.036 27.2059 L956.036 54.3874 Q956.036 60.8284 958.547 64.0691 Q961.059 67.2693 966.082 67.2693 Q972.118 67.2693 975.602 63.421 Q979.126 59.5726 979.126 52.9291 L979.126 27.2059 L986.58 27.2059 L986.58 72.576 L979.126 72.576 L979.126 65.6084 Q976.412 69.7404 972.806 71.7658 Q969.242 73.7508 964.502 73.7508 Q956.684 73.7508 952.633 68.8897 Q948.582 64.0286 948.582 54.671 M967.338 26.1121 L967.338 26.1121 Z\" fill=\"#000000\" fill-rule=\"evenodd\" fill-opacity=\"1\" /><path clip-path=\"url(#clip170)\" d=\"M 0 0 M1030.86 28.5427 L1030.86 35.5912 Q1027.7 33.9709 1024.29 33.1607 Q1020.89 32.3505 1017.24 32.3505 Q1011.7 32.3505 1008.9 34.0519 Q1006.15 35.7533 1006.15 39.156 Q1006.15 41.7486 1008.13 43.2475 Q1010.12 44.7058 1016.11 46.0426 L1018.66 46.6097 Q1026.6 48.3111 1029.92 51.4303 Q1033.29 54.509 1033.29 60.0587 Q1033.29 66.3781 1028.26 70.0644 Q1023.28 73.7508 1014.53 73.7508 Q1010.88 73.7508 1006.92 73.0216 Q1002.99 72.3329 998.611 70.9151 L998.611 63.2184 Q1002.74 65.3654 1006.75 66.4591 Q1010.76 67.5124 1014.69 67.5124 Q1019.96 67.5124 1022.79 65.73 Q1025.63 63.9071 1025.63 60.6258 Q1025.63 57.5877 1023.56 55.9673 Q1021.54 54.3469 1014.61 52.8481 L1012.02 52.2405 Q1005.09 50.7821 1002.01 47.7845 Q998.935 44.7463 998.935 39.4801 Q998.935 33.0797 1003.47 29.5959 Q1008.01 26.1121 1016.35 26.1121 Q1020.49 26.1121 1024.13 26.7198 Q1027.78 27.3274 1030.86 28.5427 Z\" fill=\"#000000\" fill-rule=\"evenodd\" fill-opacity=\"1\" /><path clip-path=\"url(#clip170)\" d=\"M 0 0 M1074.08 28.5427 L1074.08 35.5912 Q1070.92 33.9709 1067.52 33.1607 Q1064.11 32.3505 1060.47 32.3505 Q1054.92 32.3505 1052.12 34.0519 Q1049.37 35.7533 1049.37 39.156 Q1049.37 41.7486 1051.35 43.2475 Q1053.34 44.7058 1059.33 46.0426 L1061.89 46.6097 Q1069.83 48.3111 1073.15 51.4303 Q1076.51 54.509 1076.51 60.0587 Q1076.51 66.3781 1071.49 70.0644 Q1066.5 73.7508 1057.75 73.7508 Q1054.11 73.7508 1050.14 73.0216 Q1046.21 72.3329 1041.83 70.9151 L1041.83 63.2184 Q1045.97 65.3654 1049.98 66.4591 Q1053.99 67.5124 1057.92 67.5124 Q1063.18 67.5124 1066.02 65.73 Q1068.85 63.9071 1068.85 60.6258 Q1068.85 57.5877 1066.79 55.9673 Q1064.76 54.3469 1057.83 52.8481 L1055.24 52.2405 Q1048.32 50.7821 1045.24 47.7845 Q1042.16 44.7463 1042.16 39.4801 Q1042.16 33.0797 1046.69 29.5959 Q1051.23 26.1121 1059.58 26.1121 Q1063.71 26.1121 1067.35 26.7198 Q1071 27.3274 1074.08 28.5427 Z\" fill=\"#000000\" fill-rule=\"evenodd\" fill-opacity=\"1\" /><path clip-path=\"url(#clip170)\" d=\"M 0 0 M1115.07 12.096 L1123.26 12.096 L1123.26 68.3631 Q1123.26 79.3005 1119.08 84.2426 Q1114.95 89.1847 1105.76 89.1847 L1102.64 89.1847 L1102.64 82.2982 L1105.19 82.2982 Q1110.62 82.2982 1112.85 79.26 Q1115.07 76.2218 1115.07 68.3631 L1115.07 12.096 Z\" fill=\"#000000\" fill-rule=\"evenodd\" fill-opacity=\"1\" /><path clip-path=\"url(#clip170)\" d=\"M 0 0 M1159.84 49.7694 Q1150.8 49.7694 1147.32 51.8354 Q1143.84 53.9013 1143.84 58.8839 Q1143.84 62.8538 1146.43 65.2034 Q1149.06 67.5124 1153.56 67.5124 Q1159.76 67.5124 1163.48 63.1374 Q1167.25 58.7219 1167.25 51.4303 L1167.25 49.7694 L1159.84 49.7694 M1174.7 46.6907 L1174.7 72.576 L1167.25 72.576 L1167.25 65.6895 Q1164.7 69.8214 1160.89 71.8063 Q1157.08 73.7508 1151.57 73.7508 Q1144.61 73.7508 1140.47 69.8619 Q1136.38 65.9325 1136.38 59.3701 Q1136.38 51.7138 1141.49 47.825 Q1146.63 43.9361 1156.8 43.9361 L1167.25 43.9361 L1167.25 43.2069 Q1167.25 38.0623 1163.85 35.2672 Q1160.48 32.4315 1154.37 32.4315 Q1150.48 32.4315 1146.79 33.3632 Q1143.11 34.295 1139.7 36.1584 L1139.7 29.2718 Q1143.8 27.692 1147.64 26.9223 Q1151.49 26.1121 1155.14 26.1121 Q1164.98 26.1121 1169.84 31.2163 Q1174.7 36.3204 1174.7 46.6907 Z\" fill=\"#000000\" fill-rule=\"evenodd\" fill-opacity=\"1\" /><path clip-path=\"url(#clip170)\" d=\"M 0 0 M1222.71 28.9478 L1222.71 35.9153 Q1219.55 34.1734 1216.35 33.3227 Q1213.19 32.4315 1209.95 32.4315 Q1202.7 32.4315 1198.68 37.0496 Q1194.67 41.6271 1194.67 49.9314 Q1194.67 58.2358 1198.68 62.8538 Q1202.7 67.4314 1209.95 67.4314 Q1213.19 67.4314 1216.35 66.5807 Q1219.55 65.6895 1222.71 63.9476 L1222.71 70.8341 Q1219.59 72.2924 1216.23 73.0216 Q1212.9 73.7508 1209.14 73.7508 Q1198.89 73.7508 1192.85 67.3098 Q1186.82 60.8689 1186.82 49.9314 Q1186.82 38.832 1192.89 32.472 Q1199.01 26.1121 1209.62 26.1121 Q1213.07 26.1121 1216.35 26.8413 Q1219.63 27.5299 1222.71 28.9478 Z\" fill=\"#000000\" fill-rule=\"evenodd\" fill-opacity=\"1\" /><path clip-path=\"url(#clip170)\" d=\"M 0 0 M1253.25 32.4315 Q1247.26 32.4315 1243.77 37.1306 Q1240.29 41.7891 1240.29 49.9314 Q1240.29 58.0738 1243.73 62.7728 Q1247.21 67.4314 1253.25 67.4314 Q1259.21 67.4314 1262.69 62.7323 Q1266.17 58.0333 1266.17 49.9314 Q1266.17 41.8701 1262.69 37.1711 Q1259.21 32.4315 1253.25 32.4315 M1253.25 26.1121 Q1262.97 26.1121 1268.52 32.4315 Q1274.07 38.7509 1274.07 49.9314 Q1274.07 61.0714 1268.52 67.4314 Q1262.97 73.7508 1253.25 73.7508 Q1243.49 73.7508 1237.94 67.4314 Q1232.43 61.0714 1232.43 49.9314 Q1232.43 38.7509 1237.94 32.4315 Q1243.49 26.1121 1253.25 26.1121 Z\" fill=\"#000000\" fill-rule=\"evenodd\" fill-opacity=\"1\" /><path clip-path=\"url(#clip170)\" d=\"M 0 0 M1319 49.9314 Q1319 41.7081 1315.59 37.0496 Q1312.23 32.3505 1306.32 32.3505 Q1300.4 32.3505 1297 37.0496 Q1293.64 41.7081 1293.64 49.9314 Q1293.64 58.1548 1297 62.8538 Q1300.4 67.5124 1306.32 67.5124 Q1312.23 67.5124 1315.59 62.8538 Q1319 58.1548 1319 49.9314 M1293.64 34.0924 Q1295.99 30.0415 1299.55 28.0971 Q1303.16 26.1121 1308.14 26.1121 Q1316.4 26.1121 1321.55 32.6746 Q1326.73 39.2371 1326.73 49.9314 Q1326.73 60.6258 1321.55 67.1883 Q1316.4 73.7508 1308.14 73.7508 Q1303.16 73.7508 1299.55 71.8063 Q1295.99 69.8214 1293.64 65.7705 L1293.64 72.576 L1286.14 72.576 L1286.14 9.54393 L1293.64 9.54393 L1293.64 34.0924 Z\" fill=\"#000000\" fill-rule=\"evenodd\" fill-opacity=\"1\" /><path clip-path=\"url(#clip170)\" d=\"M 0 0 M1339.09 27.2059 L1346.54 27.2059 L1346.54 72.576 L1339.09 72.576 L1339.09 27.2059 M1339.09 9.54393 L1346.54 9.54393 L1346.54 18.9825 L1339.09 18.9825 L1339.09 9.54393 Z\" fill=\"#000000\" fill-rule=\"evenodd\" fill-opacity=\"1\" /><path clip-path=\"url(#clip170)\" d=\"M 0 0 M1417.51 44.2197 Q1420.15 45.1109 1422.62 48.0275 Q1425.13 50.9442 1427.64 56.0483 L1435.95 72.576 L1427.16 72.576 L1419.42 57.061 Q1416.42 50.9847 1413.59 48.9997 Q1410.79 47.0148 1405.93 47.0148 L1397.02 47.0148 L1397.02 72.576 L1388.83 72.576 L1388.83 12.096 L1407.31 12.096 Q1417.68 12.096 1422.78 16.4305 Q1427.89 20.7649 1427.89 29.5149 Q1427.89 35.2267 1425.21 38.994 Q1422.58 42.7613 1417.51 44.2197 M1397.02 18.8205 L1397.02 40.2903 L1407.31 40.2903 Q1413.22 40.2903 1416.22 37.5762 Q1419.26 34.8216 1419.26 29.5149 Q1419.26 24.2082 1416.22 21.5346 Q1413.22 18.8205 1407.31 18.8205 L1397.02 18.8205 Z\" fill=\"#000000\" fill-rule=\"evenodd\" fill-opacity=\"1\" /><path clip-path=\"url(#clip170)\" d=\"M 0 0 M1481.24 48.0275 L1481.24 51.6733 L1446.96 51.6733 Q1447.45 59.3701 1451.58 63.421 Q1455.76 67.4314 1463.17 67.4314 Q1467.46 67.4314 1471.47 66.3781 Q1475.52 65.3249 1479.49 63.2184 L1479.49 70.267 Q1475.48 71.9684 1471.27 72.8596 Q1467.06 73.7508 1462.72 73.7508 Q1451.87 73.7508 1445.51 67.4314 Q1439.19 61.1119 1439.19 50.3365 Q1439.19 39.1965 1445.18 32.6746 Q1451.22 26.1121 1461.43 26.1121 Q1470.58 26.1121 1475.89 32.0264 Q1481.24 37.9003 1481.24 48.0275 M1473.78 45.84 Q1473.7 39.7232 1470.34 36.0774 Q1467.02 32.4315 1461.51 32.4315 Q1455.27 32.4315 1451.5 35.9558 Q1447.77 39.4801 1447.21 45.8805 L1473.78 45.84 Z\" fill=\"#000000\" fill-rule=\"evenodd\" fill-opacity=\"1\" /><path clip-path=\"url(#clip170)\" d=\"M 0 0 M1522.39 28.5427 L1522.39 35.5912 Q1519.23 33.9709 1515.83 33.1607 Q1512.43 32.3505 1508.78 32.3505 Q1503.23 32.3505 1500.44 34.0519 Q1497.68 35.7533 1497.68 39.156 Q1497.68 41.7486 1499.67 43.2475 Q1501.65 44.7058 1507.65 46.0426 L1510.2 46.6097 Q1518.14 48.3111 1521.46 51.4303 Q1524.82 54.509 1524.82 60.0587 Q1524.82 66.3781 1519.8 70.0644 Q1514.82 73.7508 1506.07 73.7508 Q1502.42 73.7508 1498.45 73.0216 Q1494.52 72.3329 1490.15 70.9151 L1490.15 63.2184 Q1494.28 65.3654 1498.29 66.4591 Q1502.3 67.5124 1506.23 67.5124 Q1511.5 67.5124 1514.33 65.73 Q1517.17 63.9071 1517.17 60.6258 Q1517.17 57.5877 1515.1 55.9673 Q1513.08 54.3469 1506.15 52.8481 L1503.56 52.2405 Q1496.63 50.7821 1493.55 47.7845 Q1490.47 44.7463 1490.47 39.4801 Q1490.47 33.0797 1495.01 29.5959 Q1499.55 26.1121 1507.89 26.1121 Q1512.02 26.1121 1515.67 26.7198 Q1519.31 27.3274 1522.39 28.5427 Z\" fill=\"#000000\" fill-rule=\"evenodd\" fill-opacity=\"1\" /><path clip-path=\"url(#clip170)\" d=\"M 0 0 M1535.92 54.671 L1535.92 27.2059 L1543.38 27.2059 L1543.38 54.3874 Q1543.38 60.8284 1545.89 64.0691 Q1548.4 67.2693 1553.42 67.2693 Q1559.46 67.2693 1562.94 63.421 Q1566.47 59.5726 1566.47 52.9291 L1566.47 27.2059 L1573.92 27.2059 L1573.92 72.576 L1566.47 72.576 L1566.47 65.6084 Q1563.75 69.7404 1560.15 71.7658 Q1556.58 73.7508 1551.84 73.7508 Q1544.02 73.7508 1539.97 68.8897 Q1535.92 64.0286 1535.92 54.671 M1554.68 26.1121 L1554.68 26.1121 Z\" fill=\"#000000\" fill-rule=\"evenodd\" fill-opacity=\"1\" /><path clip-path=\"url(#clip170)\" d=\"M 0 0 M1589.27 9.54393 L1596.73 9.54393 L1596.73 72.576 L1589.27 72.576 L1589.27 9.54393 Z\" fill=\"#000000\" fill-rule=\"evenodd\" fill-opacity=\"1\" /><path clip-path=\"url(#clip170)\" d=\"M 0 0 M1619.7 14.324 L1619.7 27.2059 L1635.05 27.2059 L1635.05 32.9987 L1619.7 32.9987 L1619.7 57.6282 Q1619.7 63.1779 1621.19 64.7578 Q1622.73 66.3376 1627.39 66.3376 L1635.05 66.3376 L1635.05 72.576 L1627.39 72.576 Q1618.76 72.576 1615.48 69.3758 Q1612.2 66.1351 1612.2 57.6282 L1612.2 32.9987 L1606.73 32.9987 L1606.73 27.2059 L1612.2 27.2059 L1612.2 14.324 L1619.7 14.324 Z\" fill=\"#000000\" fill-rule=\"evenodd\" fill-opacity=\"1\" /><path clip-path=\"url(#clip170)\" d=\"M 0 0 M1673.77 28.5427 L1673.77 35.5912 Q1670.62 33.9709 1667.21 33.1607 Q1663.81 32.3505 1660.16 32.3505 Q1654.61 32.3505 1651.82 34.0519 Q1649.06 35.7533 1649.06 39.156 Q1649.06 41.7486 1651.05 43.2475 Q1653.03 44.7058 1659.03 46.0426 L1661.58 46.6097 Q1669.52 48.3111 1672.84 51.4303 Q1676.21 54.509 1676.21 60.0587 Q1676.21 66.3781 1671.18 70.0644 Q1666.2 73.7508 1657.45 73.7508 Q1653.8 73.7508 1649.83 73.0216 Q1645.9 72.3329 1641.53 70.9151 L1641.53 63.2184 Q1645.66 65.3654 1649.67 66.4591 Q1653.68 67.5124 1657.61 67.5124 Q1662.88 67.5124 1665.71 65.73 Q1668.55 63.9071 1668.55 60.6258 Q1668.55 57.5877 1666.48 55.9673 Q1664.46 54.3469 1657.53 52.8481 L1654.94 52.2405 Q1648.01 50.7821 1644.93 47.7845 Q1641.85 44.7463 1641.85 39.4801 Q1641.85 33.0797 1646.39 29.5959 Q1650.93 26.1121 1659.27 26.1121 Q1663.4 26.1121 1667.05 26.7198 Q1670.7 27.3274 1673.77 28.5427 Z\" fill=\"#000000\" fill-rule=\"evenodd\" fill-opacity=\"1\" /><circle clip-path=\"url(#clip172)\" cx=\"2290.54\" cy=\"1447.87\" r=\"14\" fill=\"#ff0000\" fill-rule=\"evenodd\" fill-opacity=\"1\" stroke=\"#000000\" stroke-opacity=\"1\" stroke-width=\"3.2\"/>\n",
       "<circle clip-path=\"url(#clip172)\" cx=\"908\" cy=\"162.047\" r=\"14\" fill=\"#ff0000\" fill-rule=\"evenodd\" fill-opacity=\"1\" stroke=\"#000000\" stroke-opacity=\"1\" stroke-width=\"3.2\"/>\n",
       "<circle clip-path=\"url(#clip172)\" cx=\"216.729\" cy=\"804.96\" r=\"14\" fill=\"#ff0000\" fill-rule=\"evenodd\" fill-opacity=\"1\" stroke=\"#000000\" stroke-opacity=\"1\" stroke-width=\"3.2\"/>\n",
       "<circle clip-path=\"url(#clip172)\" cx=\"562.365\" cy=\"1126.42\" r=\"14\" fill=\"#ff0000\" fill-rule=\"evenodd\" fill-opacity=\"1\" stroke=\"#000000\" stroke-opacity=\"1\" stroke-width=\"3.2\"/>\n",
       "<circle clip-path=\"url(#clip172)\" cx=\"735.182\" cy=\"965.688\" r=\"14\" fill=\"#ff0000\" fill-rule=\"evenodd\" fill-opacity=\"1\" stroke=\"#000000\" stroke-opacity=\"1\" stroke-width=\"3.2\"/>\n",
       "<circle clip-path=\"url(#clip172)\" cx=\"648.774\" cy=\"885.324\" r=\"14\" fill=\"#ff0000\" fill-rule=\"evenodd\" fill-opacity=\"1\" stroke=\"#000000\" stroke-opacity=\"1\" stroke-width=\"3.2\"/>\n",
       "<circle clip-path=\"url(#clip172)\" cx=\"605.569\" cy=\"925.506\" r=\"14\" fill=\"#ff0000\" fill-rule=\"evenodd\" fill-opacity=\"1\" stroke=\"#000000\" stroke-opacity=\"1\" stroke-width=\"3.2\"/>\n",
       "<circle clip-path=\"url(#clip172)\" cx=\"627.171\" cy=\"945.597\" r=\"14\" fill=\"#ff0000\" fill-rule=\"evenodd\" fill-opacity=\"1\" stroke=\"#000000\" stroke-opacity=\"1\" stroke-width=\"3.2\"/>\n",
       "<circle clip-path=\"url(#clip172)\" cx=\"637.972\" cy=\"935.552\" r=\"14\" fill=\"#ff0000\" fill-rule=\"evenodd\" fill-opacity=\"1\" stroke=\"#000000\" stroke-opacity=\"1\" stroke-width=\"3.2\"/>\n",
       "<circle clip-path=\"url(#clip172)\" cx=\"632.572\" cy=\"930.529\" r=\"14\" fill=\"#ff0000\" fill-rule=\"evenodd\" fill-opacity=\"1\" stroke=\"#000000\" stroke-opacity=\"1\" stroke-width=\"3.2\"/>\n",
       "<circle clip-path=\"url(#clip172)\" cx=\"629.872\" cy=\"933.04\" r=\"14\" fill=\"#ff0000\" fill-rule=\"evenodd\" fill-opacity=\"1\" stroke=\"#000000\" stroke-opacity=\"1\" stroke-width=\"3.2\"/>\n",
       "</svg>\n"
      ],
      "text/html": [
       "<?xml version=\"1.0\" encoding=\"utf-8\"?>\n",
       "<svg xmlns=\"http://www.w3.org/2000/svg\" xmlns:xlink=\"http://www.w3.org/1999/xlink\" width=\"600\" height=\"400\" viewBox=\"0 0 2400 1600\">\n",
       "<defs>\n",
       "  <clipPath id=\"clip220\">\n",
       "    <rect x=\"0\" y=\"0\" width=\"2400\" height=\"1600\"/>\n",
       "  </clipPath>\n",
       "</defs>\n",
       "<path clip-path=\"url(#clip220)\" d=\"\n",
       "M0 1600 L2400 1600 L2400 0 L0 0  Z\n",
       "  \" fill=\"#ffffff\" fill-rule=\"evenodd\" fill-opacity=\"1\"/>\n",
       "<defs>\n",
       "  <clipPath id=\"clip221\">\n",
       "    <rect x=\"480\" y=\"0\" width=\"1681\" height=\"1600\"/>\n",
       "  </clipPath>\n",
       "</defs>\n",
       "<path clip-path=\"url(#clip220)\" d=\"\n",
       "M154.515 1486.45 L2352.76 1486.45 L2352.76 123.472 L154.515 123.472  Z\n",
       "  \" fill=\"#ffffff\" fill-rule=\"evenodd\" fill-opacity=\"1\"/>\n",
       "<defs>\n",
       "  <clipPath id=\"clip222\">\n",
       "    <rect x=\"154\" y=\"123\" width=\"2199\" height=\"1364\"/>\n",
       "  </clipPath>\n",
       "</defs>\n",
       "<polyline clip-path=\"url(#clip222)\" style=\"stroke:#000000; stroke-width:2; stroke-opacity:0.1; fill:none\" points=\"\n",
       "  631.492,1486.45 631.492,123.472 \n",
       "  \"/>\n",
       "<polyline clip-path=\"url(#clip222)\" style=\"stroke:#000000; stroke-width:2; stroke-opacity:0.1; fill:none\" points=\"\n",
       "  1184.51,1486.45 1184.51,123.472 \n",
       "  \"/>\n",
       "<polyline clip-path=\"url(#clip222)\" style=\"stroke:#000000; stroke-width:2; stroke-opacity:0.1; fill:none\" points=\"\n",
       "  1737.52,1486.45 1737.52,123.472 \n",
       "  \"/>\n",
       "<polyline clip-path=\"url(#clip222)\" style=\"stroke:#000000; stroke-width:2; stroke-opacity:0.1; fill:none\" points=\"\n",
       "  2290.54,1486.45 2290.54,123.472 \n",
       "  \"/>\n",
       "<polyline clip-path=\"url(#clip220)\" style=\"stroke:#000000; stroke-width:4; stroke-opacity:1; fill:none\" points=\"\n",
       "  154.515,1486.45 2352.76,1486.45 \n",
       "  \"/>\n",
       "<polyline clip-path=\"url(#clip220)\" style=\"stroke:#000000; stroke-width:4; stroke-opacity:1; fill:none\" points=\"\n",
       "  631.492,1486.45 631.492,1470.09 \n",
       "  \"/>\n",
       "<polyline clip-path=\"url(#clip220)\" style=\"stroke:#000000; stroke-width:4; stroke-opacity:1; fill:none\" points=\"\n",
       "  1184.51,1486.45 1184.51,1470.09 \n",
       "  \"/>\n",
       "<polyline clip-path=\"url(#clip220)\" style=\"stroke:#000000; stroke-width:4; stroke-opacity:1; fill:none\" points=\"\n",
       "  1737.52,1486.45 1737.52,1470.09 \n",
       "  \"/>\n",
       "<polyline clip-path=\"url(#clip220)\" style=\"stroke:#000000; stroke-width:4; stroke-opacity:1; fill:none\" points=\"\n",
       "  2290.54,1486.45 2290.54,1470.09 \n",
       "  \"/>\n",
       "<path clip-path=\"url(#clip220)\" d=\"M 0 0 M608.633 1515.64 Q605.022 1515.64 603.193 1519.2 Q601.388 1522.75 601.388 1529.87 Q601.388 1536.98 603.193 1540.55 Q605.022 1544.09 608.633 1544.09 Q612.267 1544.09 614.073 1540.55 Q615.902 1536.98 615.902 1529.87 Q615.902 1522.75 614.073 1519.2 Q612.267 1515.64 608.633 1515.64 M608.633 1511.93 Q614.443 1511.93 617.499 1516.54 Q620.577 1521.12 620.577 1529.87 Q620.577 1538.6 617.499 1543.21 Q614.443 1547.79 608.633 1547.79 Q602.823 1547.79 599.744 1543.21 Q596.689 1538.6 596.689 1529.87 Q596.689 1521.12 599.744 1516.54 Q602.823 1511.93 608.633 1511.93 Z\" fill=\"#000000\" fill-rule=\"evenodd\" fill-opacity=\"1\" /><path clip-path=\"url(#clip220)\" d=\"M 0 0 M628.795 1541.24 L633.679 1541.24 L633.679 1547.12 L628.795 1547.12 L628.795 1541.24 Z\" fill=\"#000000\" fill-rule=\"evenodd\" fill-opacity=\"1\" /><path clip-path=\"url(#clip220)\" d=\"M 0 0 M656.712 1516.63 L644.906 1535.08 L656.712 1535.08 L656.712 1516.63 M655.485 1512.56 L661.364 1512.56 L661.364 1535.08 L666.295 1535.08 L666.295 1538.97 L661.364 1538.97 L661.364 1547.12 L656.712 1547.12 L656.712 1538.97 L641.11 1538.97 L641.11 1534.46 L655.485 1512.56 Z\" fill=\"#000000\" fill-rule=\"evenodd\" fill-opacity=\"1\" /><path clip-path=\"url(#clip220)\" d=\"M 0 0 M1161.81 1515.64 Q1158.2 1515.64 1156.37 1519.2 Q1154.57 1522.75 1154.57 1529.87 Q1154.57 1536.98 1156.37 1540.55 Q1158.2 1544.09 1161.81 1544.09 Q1165.45 1544.09 1167.25 1540.55 Q1169.08 1536.98 1169.08 1529.87 Q1169.08 1522.75 1167.25 1519.2 Q1165.45 1515.64 1161.81 1515.64 M1161.81 1511.93 Q1167.62 1511.93 1170.68 1516.54 Q1173.76 1521.12 1173.76 1529.87 Q1173.76 1538.6 1170.68 1543.21 Q1167.62 1547.79 1161.81 1547.79 Q1156 1547.79 1152.92 1543.21 Q1149.87 1538.6 1149.87 1529.87 Q1149.87 1521.12 1152.92 1516.54 Q1156 1511.93 1161.81 1511.93 Z\" fill=\"#000000\" fill-rule=\"evenodd\" fill-opacity=\"1\" /><path clip-path=\"url(#clip220)\" d=\"M 0 0 M1181.97 1541.24 L1186.86 1541.24 L1186.86 1547.12 L1181.97 1547.12 L1181.97 1541.24 Z\" fill=\"#000000\" fill-rule=\"evenodd\" fill-opacity=\"1\" /><path clip-path=\"url(#clip220)\" d=\"M 0 0 M1207.62 1527.98 Q1204.47 1527.98 1202.62 1530.13 Q1200.79 1532.28 1200.79 1536.03 Q1200.79 1539.76 1202.62 1541.93 Q1204.47 1544.09 1207.62 1544.09 Q1210.77 1544.09 1212.6 1541.93 Q1214.45 1539.76 1214.45 1536.03 Q1214.45 1532.28 1212.6 1530.13 Q1210.77 1527.98 1207.62 1527.98 M1216.9 1513.32 L1216.9 1517.58 Q1215.14 1516.75 1213.34 1516.31 Q1211.56 1515.87 1209.8 1515.87 Q1205.17 1515.87 1202.71 1519 Q1200.28 1522.12 1199.94 1528.44 Q1201.3 1526.43 1203.36 1525.36 Q1205.42 1524.27 1207.9 1524.27 Q1213.11 1524.27 1216.12 1527.44 Q1219.15 1530.59 1219.15 1536.03 Q1219.15 1541.36 1216 1544.57 Q1212.85 1547.79 1207.62 1547.79 Q1201.63 1547.79 1198.46 1543.21 Q1195.28 1538.6 1195.28 1529.87 Q1195.28 1521.68 1199.17 1516.82 Q1203.06 1511.93 1209.61 1511.93 Q1211.37 1511.93 1213.15 1512.28 Q1214.96 1512.63 1216.9 1513.32 Z\" fill=\"#000000\" fill-rule=\"evenodd\" fill-opacity=\"1\" /><path clip-path=\"url(#clip220)\" d=\"M 0 0 M1714.96 1515.64 Q1711.34 1515.64 1709.52 1519.2 Q1707.71 1522.75 1707.71 1529.87 Q1707.71 1536.98 1709.52 1540.55 Q1711.34 1544.09 1714.96 1544.09 Q1718.59 1544.09 1720.4 1540.55 Q1722.22 1536.98 1722.22 1529.87 Q1722.22 1522.75 1720.4 1519.2 Q1718.59 1515.64 1714.96 1515.64 M1714.96 1511.93 Q1720.77 1511.93 1723.82 1516.54 Q1726.9 1521.12 1726.9 1529.87 Q1726.9 1538.6 1723.82 1543.21 Q1720.77 1547.79 1714.96 1547.79 Q1709.15 1547.79 1706.07 1543.21 Q1703.01 1538.6 1703.01 1529.87 Q1703.01 1521.12 1706.07 1516.54 Q1709.15 1511.93 1714.96 1511.93 Z\" fill=\"#000000\" fill-rule=\"evenodd\" fill-opacity=\"1\" /><path clip-path=\"url(#clip220)\" d=\"M 0 0 M1735.12 1541.24 L1740 1541.24 L1740 1547.12 L1735.12 1547.12 L1735.12 1541.24 Z\" fill=\"#000000\" fill-rule=\"evenodd\" fill-opacity=\"1\" /><path clip-path=\"url(#clip220)\" d=\"M 0 0 M1760.19 1530.71 Q1756.85 1530.71 1754.93 1532.49 Q1753.03 1534.27 1753.03 1537.4 Q1753.03 1540.52 1754.93 1542.31 Q1756.85 1544.09 1760.19 1544.09 Q1763.52 1544.09 1765.44 1542.31 Q1767.36 1540.5 1767.36 1537.4 Q1767.36 1534.27 1765.44 1532.49 Q1763.54 1530.71 1760.19 1530.71 M1755.51 1528.72 Q1752.5 1527.98 1750.81 1525.92 Q1749.15 1523.86 1749.15 1520.89 Q1749.15 1516.75 1752.09 1514.34 Q1755.05 1511.93 1760.19 1511.93 Q1765.35 1511.93 1768.29 1514.34 Q1771.23 1516.75 1771.23 1520.89 Q1771.23 1523.86 1769.54 1525.92 Q1767.87 1527.98 1764.89 1528.72 Q1768.27 1529.5 1770.14 1531.8 Q1772.04 1534.09 1772.04 1537.4 Q1772.04 1542.42 1768.96 1545.11 Q1765.9 1547.79 1760.19 1547.79 Q1754.47 1547.79 1751.39 1545.11 Q1748.34 1542.42 1748.34 1537.4 Q1748.34 1534.09 1750.23 1531.8 Q1752.13 1529.5 1755.51 1528.72 M1753.8 1521.33 Q1753.8 1524.02 1755.46 1525.52 Q1757.15 1527.03 1760.19 1527.03 Q1763.2 1527.03 1764.89 1525.52 Q1766.6 1524.02 1766.6 1521.33 Q1766.6 1518.65 1764.89 1517.14 Q1763.2 1515.64 1760.19 1515.64 Q1757.15 1515.64 1755.46 1517.14 Q1753.8 1518.65 1753.8 1521.33 Z\" fill=\"#000000\" fill-rule=\"evenodd\" fill-opacity=\"1\" /><path clip-path=\"url(#clip220)\" d=\"M 0 0 M2257.69 1543.18 L2265.33 1543.18 L2265.33 1516.82 L2257.02 1518.49 L2257.02 1514.23 L2265.29 1512.56 L2269.96 1512.56 L2269.96 1543.18 L2277.6 1543.18 L2277.6 1547.12 L2257.69 1547.12 L2257.69 1543.18 Z\" fill=\"#000000\" fill-rule=\"evenodd\" fill-opacity=\"1\" /><path clip-path=\"url(#clip220)\" d=\"M 0 0 M2287.05 1541.24 L2291.93 1541.24 L2291.93 1547.12 L2287.05 1547.12 L2287.05 1541.24 Z\" fill=\"#000000\" fill-rule=\"evenodd\" fill-opacity=\"1\" /><path clip-path=\"url(#clip220)\" d=\"M 0 0 M2312.12 1515.64 Q2308.5 1515.64 2306.68 1519.2 Q2304.87 1522.75 2304.87 1529.87 Q2304.87 1536.98 2306.68 1540.55 Q2308.5 1544.09 2312.12 1544.09 Q2315.75 1544.09 2317.56 1540.55 Q2319.38 1536.98 2319.38 1529.87 Q2319.38 1522.75 2317.56 1519.2 Q2315.75 1515.64 2312.12 1515.64 M2312.12 1511.93 Q2317.93 1511.93 2320.98 1516.54 Q2324.06 1521.12 2324.06 1529.87 Q2324.06 1538.6 2320.98 1543.21 Q2317.93 1547.79 2312.12 1547.79 Q2306.31 1547.79 2303.23 1543.21 Q2300.17 1538.6 2300.17 1529.87 Q2300.17 1521.12 2303.23 1516.54 Q2306.31 1511.93 2312.12 1511.93 Z\" fill=\"#000000\" fill-rule=\"evenodd\" fill-opacity=\"1\" /><polyline clip-path=\"url(#clip222)\" style=\"stroke:#000000; stroke-width:2; stroke-opacity:0.1; fill:none\" points=\"\n",
       "  154.515,1447.87 2352.76,1447.87 \n",
       "  \"/>\n",
       "<polyline clip-path=\"url(#clip222)\" style=\"stroke:#000000; stroke-width:2; stroke-opacity:0.1; fill:none\" points=\"\n",
       "  154.515,1190.71 2352.76,1190.71 \n",
       "  \"/>\n",
       "<polyline clip-path=\"url(#clip222)\" style=\"stroke:#000000; stroke-width:2; stroke-opacity:0.1; fill:none\" points=\"\n",
       "  154.515,933.543 2352.76,933.543 \n",
       "  \"/>\n",
       "<polyline clip-path=\"url(#clip222)\" style=\"stroke:#000000; stroke-width:2; stroke-opacity:0.1; fill:none\" points=\"\n",
       "  154.515,676.377 2352.76,676.377 \n",
       "  \"/>\n",
       "<polyline clip-path=\"url(#clip222)\" style=\"stroke:#000000; stroke-width:2; stroke-opacity:0.1; fill:none\" points=\"\n",
       "  154.515,419.212 2352.76,419.212 \n",
       "  \"/>\n",
       "<polyline clip-path=\"url(#clip222)\" style=\"stroke:#000000; stroke-width:2; stroke-opacity:0.1; fill:none\" points=\"\n",
       "  154.515,162.047 2352.76,162.047 \n",
       "  \"/>\n",
       "<polyline clip-path=\"url(#clip220)\" style=\"stroke:#000000; stroke-width:4; stroke-opacity:1; fill:none\" points=\"\n",
       "  154.515,1486.45 154.515,123.472 \n",
       "  \"/>\n",
       "<polyline clip-path=\"url(#clip220)\" style=\"stroke:#000000; stroke-width:4; stroke-opacity:1; fill:none\" points=\"\n",
       "  154.515,1447.87 180.894,1447.87 \n",
       "  \"/>\n",
       "<polyline clip-path=\"url(#clip220)\" style=\"stroke:#000000; stroke-width:4; stroke-opacity:1; fill:none\" points=\"\n",
       "  154.515,1190.71 180.894,1190.71 \n",
       "  \"/>\n",
       "<polyline clip-path=\"url(#clip220)\" style=\"stroke:#000000; stroke-width:4; stroke-opacity:1; fill:none\" points=\"\n",
       "  154.515,933.543 180.894,933.543 \n",
       "  \"/>\n",
       "<polyline clip-path=\"url(#clip220)\" style=\"stroke:#000000; stroke-width:4; stroke-opacity:1; fill:none\" points=\"\n",
       "  154.515,676.377 180.894,676.377 \n",
       "  \"/>\n",
       "<polyline clip-path=\"url(#clip220)\" style=\"stroke:#000000; stroke-width:4; stroke-opacity:1; fill:none\" points=\"\n",
       "  154.515,419.212 180.894,419.212 \n",
       "  \"/>\n",
       "<polyline clip-path=\"url(#clip220)\" style=\"stroke:#000000; stroke-width:4; stroke-opacity:1; fill:none\" points=\"\n",
       "  154.515,162.047 180.894,162.047 \n",
       "  \"/>\n",
       "<path clip-path=\"url(#clip220)\" d=\"M 0 0 M52.1495 1461.22 L59.7884 1461.22 L59.7884 1434.85 L51.4782 1436.52 L51.4782 1432.26 L59.7421 1430.59 L64.418 1430.59 L64.418 1461.22 L72.0568 1461.22 L72.0568 1465.15 L52.1495 1465.15 L52.1495 1461.22 Z\" fill=\"#000000\" fill-rule=\"evenodd\" fill-opacity=\"1\" /><path clip-path=\"url(#clip220)\" d=\"M 0 0 M81.5012 1459.27 L86.3855 1459.27 L86.3855 1465.15 L81.5012 1465.15 L81.5012 1459.27 Z\" fill=\"#000000\" fill-rule=\"evenodd\" fill-opacity=\"1\" /><path clip-path=\"url(#clip220)\" d=\"M 0 0 M106.571 1433.67 Q102.959 1433.67 101.131 1437.24 Q99.3252 1440.78 99.3252 1447.91 Q99.3252 1455.01 101.131 1458.58 Q102.959 1462.12 106.571 1462.12 Q110.205 1462.12 112.01 1458.58 Q113.839 1455.01 113.839 1447.91 Q113.839 1440.78 112.01 1437.24 Q110.205 1433.67 106.571 1433.67 M106.571 1429.97 Q112.381 1429.97 115.436 1434.57 Q118.515 1439.16 118.515 1447.91 Q118.515 1456.63 115.436 1461.24 Q112.381 1465.82 106.571 1465.82 Q100.76 1465.82 97.6817 1461.24 Q94.6262 1456.63 94.6262 1447.91 Q94.6262 1439.16 97.6817 1434.57 Q100.76 1429.97 106.571 1429.97 Z\" fill=\"#000000\" fill-rule=\"evenodd\" fill-opacity=\"1\" /><path clip-path=\"url(#clip220)\" d=\"M 0 0 M53.3764 1204.05 L61.0152 1204.05 L61.0152 1177.69 L52.7051 1179.35 L52.7051 1175.09 L60.9689 1173.43 L65.6448 1173.43 L65.6448 1204.05 L73.2837 1204.05 L73.2837 1207.99 L53.3764 1207.99 L53.3764 1204.05 Z\" fill=\"#000000\" fill-rule=\"evenodd\" fill-opacity=\"1\" /><path clip-path=\"url(#clip220)\" d=\"M 0 0 M82.7281 1202.11 L87.6123 1202.11 L87.6123 1207.99 L82.7281 1207.99 L82.7281 1202.11 Z\" fill=\"#000000\" fill-rule=\"evenodd\" fill-opacity=\"1\" /><path clip-path=\"url(#clip220)\" d=\"M 0 0 M98.6076 1204.05 L106.246 1204.05 L106.246 1177.69 L97.9363 1179.35 L97.9363 1175.09 L106.2 1173.43 L110.876 1173.43 L110.876 1204.05 L118.515 1204.05 L118.515 1207.99 L98.6076 1207.99 L98.6076 1204.05 Z\" fill=\"#000000\" fill-rule=\"evenodd\" fill-opacity=\"1\" /><path clip-path=\"url(#clip220)\" d=\"M 0 0 M53.7467 946.887 L61.3856 946.887 L61.3856 920.522 L53.0754 922.189 L53.0754 917.929 L61.3393 916.263 L66.0152 916.263 L66.0152 946.887 L73.654 946.887 L73.654 950.823 L53.7467 950.823 L53.7467 946.887 Z\" fill=\"#000000\" fill-rule=\"evenodd\" fill-opacity=\"1\" /><path clip-path=\"url(#clip220)\" d=\"M 0 0 M83.0984 944.943 L87.9827 944.943 L87.9827 950.823 L83.0984 950.823 L83.0984 944.943 Z\" fill=\"#000000\" fill-rule=\"evenodd\" fill-opacity=\"1\" /><path clip-path=\"url(#clip220)\" d=\"M 0 0 M102.196 946.887 L118.515 946.887 L118.515 950.823 L96.5706 950.823 L96.5706 946.887 Q99.2326 944.133 103.816 939.503 Q108.422 934.85 109.603 933.508 Q111.848 930.985 112.728 929.249 Q113.631 927.489 113.631 925.8 Q113.631 923.045 111.686 921.309 Q109.765 919.573 106.663 919.573 Q104.464 919.573 102.01 920.337 Q99.5798 921.101 96.8021 922.651 L96.8021 917.929 Q99.6261 916.795 102.08 916.216 Q104.534 915.638 106.571 915.638 Q111.941 915.638 115.135 918.323 Q118.33 921.008 118.33 925.499 Q118.33 927.628 117.52 929.55 Q116.733 931.448 114.626 934.04 Q114.047 934.712 110.946 937.929 Q107.844 941.124 102.196 946.887 Z\" fill=\"#000000\" fill-rule=\"evenodd\" fill-opacity=\"1\" /><path clip-path=\"url(#clip220)\" d=\"M 0 0 M52.7977 689.722 L60.4365 689.722 L60.4365 663.357 L52.1264 665.023 L52.1264 660.764 L60.3902 659.097 L65.0661 659.097 L65.0661 689.722 L72.705 689.722 L72.705 693.657 L52.7977 693.657 L52.7977 689.722 Z\" fill=\"#000000\" fill-rule=\"evenodd\" fill-opacity=\"1\" /><path clip-path=\"url(#clip220)\" d=\"M 0 0 M82.1494 687.778 L87.0336 687.778 L87.0336 693.657 L82.1494 693.657 L82.1494 687.778 Z\" fill=\"#000000\" fill-rule=\"evenodd\" fill-opacity=\"1\" /><path clip-path=\"url(#clip220)\" d=\"M 0 0 M111.385 675.023 Q114.742 675.741 116.617 678.009 Q118.515 680.278 118.515 683.611 Q118.515 688.727 114.996 691.528 Q111.478 694.329 104.996 694.329 Q102.821 694.329 100.506 693.889 Q98.2141 693.472 95.7604 692.616 L95.7604 688.102 Q97.7048 689.236 100.02 689.815 Q102.334 690.394 104.858 690.394 Q109.256 690.394 111.547 688.657 Q113.862 686.921 113.862 683.611 Q113.862 680.556 111.709 678.843 Q109.58 677.107 105.76 677.107 L101.733 677.107 L101.733 673.264 L105.946 673.264 Q109.395 673.264 111.223 671.898 Q113.052 670.509 113.052 667.917 Q113.052 665.255 111.154 663.843 Q109.279 662.408 105.76 662.408 Q103.839 662.408 101.64 662.824 Q99.4409 663.241 96.8021 664.121 L96.8021 659.954 Q99.4641 659.213 101.779 658.843 Q104.117 658.472 106.177 658.472 Q111.501 658.472 114.603 660.903 Q117.705 663.31 117.705 667.431 Q117.705 670.301 116.061 672.292 Q114.418 674.259 111.385 675.023 Z\" fill=\"#000000\" fill-rule=\"evenodd\" fill-opacity=\"1\" /><path clip-path=\"url(#clip220)\" d=\"M 0 0 M51.6634 432.557 L59.3023 432.557 L59.3023 406.191 L50.9921 407.858 L50.9921 403.599 L59.256 401.932 L63.9319 401.932 L63.9319 432.557 L71.5707 432.557 L71.5707 436.492 L51.6634 436.492 L51.6634 432.557 Z\" fill=\"#000000\" fill-rule=\"evenodd\" fill-opacity=\"1\" /><path clip-path=\"url(#clip220)\" d=\"M 0 0 M81.0151 430.613 L85.8993 430.613 L85.8993 436.492 L81.0151 436.492 L81.0151 430.613 Z\" fill=\"#000000\" fill-rule=\"evenodd\" fill-opacity=\"1\" /><path clip-path=\"url(#clip220)\" d=\"M 0 0 M108.932 406.006 L97.1261 424.455 L108.932 424.455 L108.932 406.006 M107.705 401.932 L113.584 401.932 L113.584 424.455 L118.515 424.455 L118.515 428.344 L113.584 428.344 L113.584 436.492 L108.932 436.492 L108.932 428.344 L93.3299 428.344 L93.3299 423.83 L107.705 401.932 Z\" fill=\"#000000\" fill-rule=\"evenodd\" fill-opacity=\"1\" /><path clip-path=\"url(#clip220)\" d=\"M 0 0 M53.1449 175.392 L60.7837 175.392 L60.7837 149.026 L52.4736 150.693 L52.4736 146.434 L60.7374 144.767 L65.4133 144.767 L65.4133 175.392 L73.0522 175.392 L73.0522 179.327 L53.1449 179.327 L53.1449 175.392 Z\" fill=\"#000000\" fill-rule=\"evenodd\" fill-opacity=\"1\" /><path clip-path=\"url(#clip220)\" d=\"M 0 0 M82.4966 173.447 L87.3808 173.447 L87.3808 179.327 L82.4966 179.327 L82.4966 173.447 Z\" fill=\"#000000\" fill-rule=\"evenodd\" fill-opacity=\"1\" /><path clip-path=\"url(#clip220)\" d=\"M 0 0 M97.6122 144.767 L115.969 144.767 L115.969 148.702 L101.895 148.702 L101.895 157.174 Q102.913 156.827 103.932 156.665 Q104.95 156.48 105.969 156.48 Q111.756 156.48 115.135 159.651 Q118.515 162.822 118.515 168.239 Q118.515 173.818 115.043 176.92 Q111.571 179.998 105.251 179.998 Q103.075 179.998 100.807 179.628 Q98.5613 179.257 96.1539 178.517 L96.1539 173.818 Q98.2372 174.952 100.459 175.507 Q102.682 176.063 105.159 176.063 Q109.163 176.063 111.501 173.957 Q113.839 171.85 113.839 168.239 Q113.839 164.628 111.501 162.521 Q109.163 160.415 105.159 160.415 Q103.284 160.415 101.409 160.832 Q99.5567 161.248 97.6122 162.128 L97.6122 144.767 Z\" fill=\"#000000\" fill-rule=\"evenodd\" fill-opacity=\"1\" /><path clip-path=\"url(#clip220)\" d=\"M 0 0 M875.787 63.9476 L875.787 47.7034 L862.419 47.7034 L862.419 40.9789 L883.889 40.9789 L883.889 66.9452 Q879.15 70.3075 873.438 72.0494 Q867.726 73.7508 861.245 73.7508 Q847.066 73.7508 839.046 65.4869 Q831.065 57.1826 831.065 42.3968 Q831.065 27.5705 839.046 19.3066 Q847.066 11.0023 861.245 11.0023 Q867.159 11.0023 872.466 12.4606 Q877.813 13.9189 882.309 16.7545 L882.309 25.464 Q877.772 21.6156 872.668 19.6712 Q867.564 17.7268 861.933 17.7268 Q850.834 17.7268 845.244 23.9246 Q839.694 30.1225 839.694 42.3968 Q839.694 54.6305 845.244 60.8284 Q850.834 67.0263 861.933 67.0263 Q866.268 67.0263 869.67 66.2971 Q873.073 65.5274 875.787 63.9476 Z\" fill=\"#000000\" fill-rule=\"evenodd\" fill-opacity=\"1\" /><path clip-path=\"url(#clip220)\" d=\"M 0 0 M919.132 49.7694 Q910.098 49.7694 906.615 51.8354 Q903.131 53.9013 903.131 58.8839 Q903.131 62.8538 905.724 65.2034 Q908.357 67.5124 912.853 67.5124 Q919.051 67.5124 922.778 63.1374 Q926.545 58.7219 926.545 51.4303 L926.545 49.7694 L919.132 49.7694 M933.999 46.6907 L933.999 72.576 L926.545 72.576 L926.545 65.6895 Q923.993 69.8214 920.185 71.8063 Q916.377 73.7508 910.868 73.7508 Q903.901 73.7508 899.769 69.8619 Q895.677 65.9325 895.677 59.3701 Q895.677 51.7138 900.781 47.825 Q905.926 43.9361 916.094 43.9361 L926.545 43.9361 L926.545 43.2069 Q926.545 38.0623 923.142 35.2672 Q919.78 32.4315 913.663 32.4315 Q909.774 32.4315 906.088 33.3632 Q902.402 34.295 898.999 36.1584 L898.999 29.2718 Q903.09 27.692 906.939 26.9223 Q910.787 26.1121 914.433 26.1121 Q924.277 26.1121 929.138 31.2163 Q933.999 36.3204 933.999 46.6907 Z\" fill=\"#000000\" fill-rule=\"evenodd\" fill-opacity=\"1\" /><path clip-path=\"url(#clip220)\" d=\"M 0 0 M948.582 54.671 L948.582 27.2059 L956.036 27.2059 L956.036 54.3874 Q956.036 60.8284 958.547 64.0691 Q961.059 67.2693 966.082 67.2693 Q972.118 67.2693 975.602 63.421 Q979.126 59.5726 979.126 52.9291 L979.126 27.2059 L986.58 27.2059 L986.58 72.576 L979.126 72.576 L979.126 65.6084 Q976.412 69.7404 972.806 71.7658 Q969.242 73.7508 964.502 73.7508 Q956.684 73.7508 952.633 68.8897 Q948.582 64.0286 948.582 54.671 M967.338 26.1121 L967.338 26.1121 Z\" fill=\"#000000\" fill-rule=\"evenodd\" fill-opacity=\"1\" /><path clip-path=\"url(#clip220)\" d=\"M 0 0 M1030.86 28.5427 L1030.86 35.5912 Q1027.7 33.9709 1024.29 33.1607 Q1020.89 32.3505 1017.24 32.3505 Q1011.7 32.3505 1008.9 34.0519 Q1006.15 35.7533 1006.15 39.156 Q1006.15 41.7486 1008.13 43.2475 Q1010.12 44.7058 1016.11 46.0426 L1018.66 46.6097 Q1026.6 48.3111 1029.92 51.4303 Q1033.29 54.509 1033.29 60.0587 Q1033.29 66.3781 1028.26 70.0644 Q1023.28 73.7508 1014.53 73.7508 Q1010.88 73.7508 1006.92 73.0216 Q1002.99 72.3329 998.611 70.9151 L998.611 63.2184 Q1002.74 65.3654 1006.75 66.4591 Q1010.76 67.5124 1014.69 67.5124 Q1019.96 67.5124 1022.79 65.73 Q1025.63 63.9071 1025.63 60.6258 Q1025.63 57.5877 1023.56 55.9673 Q1021.54 54.3469 1014.61 52.8481 L1012.02 52.2405 Q1005.09 50.7821 1002.01 47.7845 Q998.935 44.7463 998.935 39.4801 Q998.935 33.0797 1003.47 29.5959 Q1008.01 26.1121 1016.35 26.1121 Q1020.49 26.1121 1024.13 26.7198 Q1027.78 27.3274 1030.86 28.5427 Z\" fill=\"#000000\" fill-rule=\"evenodd\" fill-opacity=\"1\" /><path clip-path=\"url(#clip220)\" d=\"M 0 0 M1074.08 28.5427 L1074.08 35.5912 Q1070.92 33.9709 1067.52 33.1607 Q1064.11 32.3505 1060.47 32.3505 Q1054.92 32.3505 1052.12 34.0519 Q1049.37 35.7533 1049.37 39.156 Q1049.37 41.7486 1051.35 43.2475 Q1053.34 44.7058 1059.33 46.0426 L1061.89 46.6097 Q1069.83 48.3111 1073.15 51.4303 Q1076.51 54.509 1076.51 60.0587 Q1076.51 66.3781 1071.49 70.0644 Q1066.5 73.7508 1057.75 73.7508 Q1054.11 73.7508 1050.14 73.0216 Q1046.21 72.3329 1041.83 70.9151 L1041.83 63.2184 Q1045.97 65.3654 1049.98 66.4591 Q1053.99 67.5124 1057.92 67.5124 Q1063.18 67.5124 1066.02 65.73 Q1068.85 63.9071 1068.85 60.6258 Q1068.85 57.5877 1066.79 55.9673 Q1064.76 54.3469 1057.83 52.8481 L1055.24 52.2405 Q1048.32 50.7821 1045.24 47.7845 Q1042.16 44.7463 1042.16 39.4801 Q1042.16 33.0797 1046.69 29.5959 Q1051.23 26.1121 1059.58 26.1121 Q1063.71 26.1121 1067.35 26.7198 Q1071 27.3274 1074.08 28.5427 Z\" fill=\"#000000\" fill-rule=\"evenodd\" fill-opacity=\"1\" /><path clip-path=\"url(#clip220)\" d=\"M 0 0 M1115.07 12.096 L1123.26 12.096 L1123.26 68.3631 Q1123.26 79.3005 1119.08 84.2426 Q1114.95 89.1847 1105.76 89.1847 L1102.64 89.1847 L1102.64 82.2982 L1105.19 82.2982 Q1110.62 82.2982 1112.85 79.26 Q1115.07 76.2218 1115.07 68.3631 L1115.07 12.096 Z\" fill=\"#000000\" fill-rule=\"evenodd\" fill-opacity=\"1\" /><path clip-path=\"url(#clip220)\" d=\"M 0 0 M1159.84 49.7694 Q1150.8 49.7694 1147.32 51.8354 Q1143.84 53.9013 1143.84 58.8839 Q1143.84 62.8538 1146.43 65.2034 Q1149.06 67.5124 1153.56 67.5124 Q1159.76 67.5124 1163.48 63.1374 Q1167.25 58.7219 1167.25 51.4303 L1167.25 49.7694 L1159.84 49.7694 M1174.7 46.6907 L1174.7 72.576 L1167.25 72.576 L1167.25 65.6895 Q1164.7 69.8214 1160.89 71.8063 Q1157.08 73.7508 1151.57 73.7508 Q1144.61 73.7508 1140.47 69.8619 Q1136.38 65.9325 1136.38 59.3701 Q1136.38 51.7138 1141.49 47.825 Q1146.63 43.9361 1156.8 43.9361 L1167.25 43.9361 L1167.25 43.2069 Q1167.25 38.0623 1163.85 35.2672 Q1160.48 32.4315 1154.37 32.4315 Q1150.48 32.4315 1146.79 33.3632 Q1143.11 34.295 1139.7 36.1584 L1139.7 29.2718 Q1143.8 27.692 1147.64 26.9223 Q1151.49 26.1121 1155.14 26.1121 Q1164.98 26.1121 1169.84 31.2163 Q1174.7 36.3204 1174.7 46.6907 Z\" fill=\"#000000\" fill-rule=\"evenodd\" fill-opacity=\"1\" /><path clip-path=\"url(#clip220)\" d=\"M 0 0 M1222.71 28.9478 L1222.71 35.9153 Q1219.55 34.1734 1216.35 33.3227 Q1213.19 32.4315 1209.95 32.4315 Q1202.7 32.4315 1198.68 37.0496 Q1194.67 41.6271 1194.67 49.9314 Q1194.67 58.2358 1198.68 62.8538 Q1202.7 67.4314 1209.95 67.4314 Q1213.19 67.4314 1216.35 66.5807 Q1219.55 65.6895 1222.71 63.9476 L1222.71 70.8341 Q1219.59 72.2924 1216.23 73.0216 Q1212.9 73.7508 1209.14 73.7508 Q1198.89 73.7508 1192.85 67.3098 Q1186.82 60.8689 1186.82 49.9314 Q1186.82 38.832 1192.89 32.472 Q1199.01 26.1121 1209.62 26.1121 Q1213.07 26.1121 1216.35 26.8413 Q1219.63 27.5299 1222.71 28.9478 Z\" fill=\"#000000\" fill-rule=\"evenodd\" fill-opacity=\"1\" /><path clip-path=\"url(#clip220)\" d=\"M 0 0 M1253.25 32.4315 Q1247.26 32.4315 1243.77 37.1306 Q1240.29 41.7891 1240.29 49.9314 Q1240.29 58.0738 1243.73 62.7728 Q1247.21 67.4314 1253.25 67.4314 Q1259.21 67.4314 1262.69 62.7323 Q1266.17 58.0333 1266.17 49.9314 Q1266.17 41.8701 1262.69 37.1711 Q1259.21 32.4315 1253.25 32.4315 M1253.25 26.1121 Q1262.97 26.1121 1268.52 32.4315 Q1274.07 38.7509 1274.07 49.9314 Q1274.07 61.0714 1268.52 67.4314 Q1262.97 73.7508 1253.25 73.7508 Q1243.49 73.7508 1237.94 67.4314 Q1232.43 61.0714 1232.43 49.9314 Q1232.43 38.7509 1237.94 32.4315 Q1243.49 26.1121 1253.25 26.1121 Z\" fill=\"#000000\" fill-rule=\"evenodd\" fill-opacity=\"1\" /><path clip-path=\"url(#clip220)\" d=\"M 0 0 M1319 49.9314 Q1319 41.7081 1315.59 37.0496 Q1312.23 32.3505 1306.32 32.3505 Q1300.4 32.3505 1297 37.0496 Q1293.64 41.7081 1293.64 49.9314 Q1293.64 58.1548 1297 62.8538 Q1300.4 67.5124 1306.32 67.5124 Q1312.23 67.5124 1315.59 62.8538 Q1319 58.1548 1319 49.9314 M1293.64 34.0924 Q1295.99 30.0415 1299.55 28.0971 Q1303.16 26.1121 1308.14 26.1121 Q1316.4 26.1121 1321.55 32.6746 Q1326.73 39.2371 1326.73 49.9314 Q1326.73 60.6258 1321.55 67.1883 Q1316.4 73.7508 1308.14 73.7508 Q1303.16 73.7508 1299.55 71.8063 Q1295.99 69.8214 1293.64 65.7705 L1293.64 72.576 L1286.14 72.576 L1286.14 9.54393 L1293.64 9.54393 L1293.64 34.0924 Z\" fill=\"#000000\" fill-rule=\"evenodd\" fill-opacity=\"1\" /><path clip-path=\"url(#clip220)\" d=\"M 0 0 M1339.09 27.2059 L1346.54 27.2059 L1346.54 72.576 L1339.09 72.576 L1339.09 27.2059 M1339.09 9.54393 L1346.54 9.54393 L1346.54 18.9825 L1339.09 18.9825 L1339.09 9.54393 Z\" fill=\"#000000\" fill-rule=\"evenodd\" fill-opacity=\"1\" /><path clip-path=\"url(#clip220)\" d=\"M 0 0 M1417.51 44.2197 Q1420.15 45.1109 1422.62 48.0275 Q1425.13 50.9442 1427.64 56.0483 L1435.95 72.576 L1427.16 72.576 L1419.42 57.061 Q1416.42 50.9847 1413.59 48.9997 Q1410.79 47.0148 1405.93 47.0148 L1397.02 47.0148 L1397.02 72.576 L1388.83 72.576 L1388.83 12.096 L1407.31 12.096 Q1417.68 12.096 1422.78 16.4305 Q1427.89 20.7649 1427.89 29.5149 Q1427.89 35.2267 1425.21 38.994 Q1422.58 42.7613 1417.51 44.2197 M1397.02 18.8205 L1397.02 40.2903 L1407.31 40.2903 Q1413.22 40.2903 1416.22 37.5762 Q1419.26 34.8216 1419.26 29.5149 Q1419.26 24.2082 1416.22 21.5346 Q1413.22 18.8205 1407.31 18.8205 L1397.02 18.8205 Z\" fill=\"#000000\" fill-rule=\"evenodd\" fill-opacity=\"1\" /><path clip-path=\"url(#clip220)\" d=\"M 0 0 M1481.24 48.0275 L1481.24 51.6733 L1446.96 51.6733 Q1447.45 59.3701 1451.58 63.421 Q1455.76 67.4314 1463.17 67.4314 Q1467.46 67.4314 1471.47 66.3781 Q1475.52 65.3249 1479.49 63.2184 L1479.49 70.267 Q1475.48 71.9684 1471.27 72.8596 Q1467.06 73.7508 1462.72 73.7508 Q1451.87 73.7508 1445.51 67.4314 Q1439.19 61.1119 1439.19 50.3365 Q1439.19 39.1965 1445.18 32.6746 Q1451.22 26.1121 1461.43 26.1121 Q1470.58 26.1121 1475.89 32.0264 Q1481.24 37.9003 1481.24 48.0275 M1473.78 45.84 Q1473.7 39.7232 1470.34 36.0774 Q1467.02 32.4315 1461.51 32.4315 Q1455.27 32.4315 1451.5 35.9558 Q1447.77 39.4801 1447.21 45.8805 L1473.78 45.84 Z\" fill=\"#000000\" fill-rule=\"evenodd\" fill-opacity=\"1\" /><path clip-path=\"url(#clip220)\" d=\"M 0 0 M1522.39 28.5427 L1522.39 35.5912 Q1519.23 33.9709 1515.83 33.1607 Q1512.43 32.3505 1508.78 32.3505 Q1503.23 32.3505 1500.44 34.0519 Q1497.68 35.7533 1497.68 39.156 Q1497.68 41.7486 1499.67 43.2475 Q1501.65 44.7058 1507.65 46.0426 L1510.2 46.6097 Q1518.14 48.3111 1521.46 51.4303 Q1524.82 54.509 1524.82 60.0587 Q1524.82 66.3781 1519.8 70.0644 Q1514.82 73.7508 1506.07 73.7508 Q1502.42 73.7508 1498.45 73.0216 Q1494.52 72.3329 1490.15 70.9151 L1490.15 63.2184 Q1494.28 65.3654 1498.29 66.4591 Q1502.3 67.5124 1506.23 67.5124 Q1511.5 67.5124 1514.33 65.73 Q1517.17 63.9071 1517.17 60.6258 Q1517.17 57.5877 1515.1 55.9673 Q1513.08 54.3469 1506.15 52.8481 L1503.56 52.2405 Q1496.63 50.7821 1493.55 47.7845 Q1490.47 44.7463 1490.47 39.4801 Q1490.47 33.0797 1495.01 29.5959 Q1499.55 26.1121 1507.89 26.1121 Q1512.02 26.1121 1515.67 26.7198 Q1519.31 27.3274 1522.39 28.5427 Z\" fill=\"#000000\" fill-rule=\"evenodd\" fill-opacity=\"1\" /><path clip-path=\"url(#clip220)\" d=\"M 0 0 M1535.92 54.671 L1535.92 27.2059 L1543.38 27.2059 L1543.38 54.3874 Q1543.38 60.8284 1545.89 64.0691 Q1548.4 67.2693 1553.42 67.2693 Q1559.46 67.2693 1562.94 63.421 Q1566.47 59.5726 1566.47 52.9291 L1566.47 27.2059 L1573.92 27.2059 L1573.92 72.576 L1566.47 72.576 L1566.47 65.6084 Q1563.75 69.7404 1560.15 71.7658 Q1556.58 73.7508 1551.84 73.7508 Q1544.02 73.7508 1539.97 68.8897 Q1535.92 64.0286 1535.92 54.671 M1554.68 26.1121 L1554.68 26.1121 Z\" fill=\"#000000\" fill-rule=\"evenodd\" fill-opacity=\"1\" /><path clip-path=\"url(#clip220)\" d=\"M 0 0 M1589.27 9.54393 L1596.73 9.54393 L1596.73 72.576 L1589.27 72.576 L1589.27 9.54393 Z\" fill=\"#000000\" fill-rule=\"evenodd\" fill-opacity=\"1\" /><path clip-path=\"url(#clip220)\" d=\"M 0 0 M1619.7 14.324 L1619.7 27.2059 L1635.05 27.2059 L1635.05 32.9987 L1619.7 32.9987 L1619.7 57.6282 Q1619.7 63.1779 1621.19 64.7578 Q1622.73 66.3376 1627.39 66.3376 L1635.05 66.3376 L1635.05 72.576 L1627.39 72.576 Q1618.76 72.576 1615.48 69.3758 Q1612.2 66.1351 1612.2 57.6282 L1612.2 32.9987 L1606.73 32.9987 L1606.73 27.2059 L1612.2 27.2059 L1612.2 14.324 L1619.7 14.324 Z\" fill=\"#000000\" fill-rule=\"evenodd\" fill-opacity=\"1\" /><path clip-path=\"url(#clip220)\" d=\"M 0 0 M1673.77 28.5427 L1673.77 35.5912 Q1670.62 33.9709 1667.21 33.1607 Q1663.81 32.3505 1660.16 32.3505 Q1654.61 32.3505 1651.82 34.0519 Q1649.06 35.7533 1649.06 39.156 Q1649.06 41.7486 1651.05 43.2475 Q1653.03 44.7058 1659.03 46.0426 L1661.58 46.6097 Q1669.52 48.3111 1672.84 51.4303 Q1676.21 54.509 1676.21 60.0587 Q1676.21 66.3781 1671.18 70.0644 Q1666.2 73.7508 1657.45 73.7508 Q1653.8 73.7508 1649.83 73.0216 Q1645.9 72.3329 1641.53 70.9151 L1641.53 63.2184 Q1645.66 65.3654 1649.67 66.4591 Q1653.68 67.5124 1657.61 67.5124 Q1662.88 67.5124 1665.71 65.73 Q1668.55 63.9071 1668.55 60.6258 Q1668.55 57.5877 1666.48 55.9673 Q1664.46 54.3469 1657.53 52.8481 L1654.94 52.2405 Q1648.01 50.7821 1644.93 47.7845 Q1641.85 44.7463 1641.85 39.4801 Q1641.85 33.0797 1646.39 29.5959 Q1650.93 26.1121 1659.27 26.1121 Q1663.4 26.1121 1667.05 26.7198 Q1670.7 27.3274 1673.77 28.5427 Z\" fill=\"#000000\" fill-rule=\"evenodd\" fill-opacity=\"1\" /><circle clip-path=\"url(#clip222)\" cx=\"2290.54\" cy=\"1447.87\" r=\"14\" fill=\"#ff0000\" fill-rule=\"evenodd\" fill-opacity=\"1\" stroke=\"#000000\" stroke-opacity=\"1\" stroke-width=\"3.2\"/>\n",
       "<circle clip-path=\"url(#clip222)\" cx=\"908\" cy=\"162.047\" r=\"14\" fill=\"#ff0000\" fill-rule=\"evenodd\" fill-opacity=\"1\" stroke=\"#000000\" stroke-opacity=\"1\" stroke-width=\"3.2\"/>\n",
       "<circle clip-path=\"url(#clip222)\" cx=\"216.729\" cy=\"804.96\" r=\"14\" fill=\"#ff0000\" fill-rule=\"evenodd\" fill-opacity=\"1\" stroke=\"#000000\" stroke-opacity=\"1\" stroke-width=\"3.2\"/>\n",
       "<circle clip-path=\"url(#clip222)\" cx=\"562.365\" cy=\"1126.42\" r=\"14\" fill=\"#ff0000\" fill-rule=\"evenodd\" fill-opacity=\"1\" stroke=\"#000000\" stroke-opacity=\"1\" stroke-width=\"3.2\"/>\n",
       "<circle clip-path=\"url(#clip222)\" cx=\"735.182\" cy=\"965.688\" r=\"14\" fill=\"#ff0000\" fill-rule=\"evenodd\" fill-opacity=\"1\" stroke=\"#000000\" stroke-opacity=\"1\" stroke-width=\"3.2\"/>\n",
       "<circle clip-path=\"url(#clip222)\" cx=\"648.774\" cy=\"885.324\" r=\"14\" fill=\"#ff0000\" fill-rule=\"evenodd\" fill-opacity=\"1\" stroke=\"#000000\" stroke-opacity=\"1\" stroke-width=\"3.2\"/>\n",
       "<circle clip-path=\"url(#clip222)\" cx=\"605.569\" cy=\"925.506\" r=\"14\" fill=\"#ff0000\" fill-rule=\"evenodd\" fill-opacity=\"1\" stroke=\"#000000\" stroke-opacity=\"1\" stroke-width=\"3.2\"/>\n",
       "<circle clip-path=\"url(#clip222)\" cx=\"627.171\" cy=\"945.597\" r=\"14\" fill=\"#ff0000\" fill-rule=\"evenodd\" fill-opacity=\"1\" stroke=\"#000000\" stroke-opacity=\"1\" stroke-width=\"3.2\"/>\n",
       "<circle clip-path=\"url(#clip222)\" cx=\"637.972\" cy=\"935.552\" r=\"14\" fill=\"#ff0000\" fill-rule=\"evenodd\" fill-opacity=\"1\" stroke=\"#000000\" stroke-opacity=\"1\" stroke-width=\"3.2\"/>\n",
       "<circle clip-path=\"url(#clip222)\" cx=\"632.572\" cy=\"930.529\" r=\"14\" fill=\"#ff0000\" fill-rule=\"evenodd\" fill-opacity=\"1\" stroke=\"#000000\" stroke-opacity=\"1\" stroke-width=\"3.2\"/>\n",
       "<circle clip-path=\"url(#clip222)\" cx=\"629.872\" cy=\"933.04\" r=\"14\" fill=\"#ff0000\" fill-rule=\"evenodd\" fill-opacity=\"1\" stroke=\"#000000\" stroke-opacity=\"1\" stroke-width=\"3.2\"/>\n",
       "</svg>\n"
      ]
     },
     "execution_count": 424,
     "metadata": {},
     "output_type": "execute_result"
    }
   ],
   "source": [
    "scatter(X_jacobi,Y_jacobi,color=\"red\",leg=false, title=\"Gauss Jacobi Results\")"
   ]
  },
  {
   "cell_type": "code",
   "execution_count": null,
   "metadata": {},
   "outputs": [],
   "source": []
  }
 ],
 "metadata": {
  "kernelspec": {
   "display_name": "Julia 1.5.4",
   "language": "julia",
   "name": "julia-1.5"
  },
  "language_info": {
   "file_extension": ".jl",
   "mimetype": "application/julia",
   "name": "julia",
   "version": "1.5.4"
  }
 },
 "nbformat": 4,
 "nbformat_minor": 4
}
